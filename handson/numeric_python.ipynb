{
  "cells": [
    {
      "cell_type": "markdown",
      "metadata": {},
      "source": [
        "# Numeric Python\n",
        "\n",
        "### Numpy/scipy/matplotlib\n",
        "\n",
        "-   Most python scientists, use the following libraries:\n",
        "    -   `numpy`: performant array library (vectors, matrices, tensors)\n",
        "    -   `matplotlib`: plotting library\n",
        "    -   `scipy`: all kinds of mathematical routines\n",
        "-   In the rest of the course, we’ll make some use of `numpy` and\n",
        "    `matplotlib`\n",
        "-   They are included in all python *distributions* like Anaconda Python\n",
        "-   All additional libraries use `numpy` and `matplotlib`: `pandas`,\n",
        "    `statsmodels`, `sklearn`\n",
        "\n",
        "### Importing the libraries\n",
        "\n",
        "It is standard to import the libraries as `np`, and `plt`. We’ll follow\n",
        "this convention here."
      ],
      "id": "cd9a3d57-a730-4f32-8bd4-74718612bf31"
    },
    {
      "cell_type": "code",
      "execution_count": 1,
      "metadata": {
        "slideshow": {
          "slide_type": "fragment"
        }
      },
      "outputs": [],
      "source": [
        "# these lines need to be run only once per program\n",
        "import numpy as np\n",
        "import matplotlib as plt"
      ],
      "id": "19331e2a"
    },
    {
      "cell_type": "code",
      "execution_count": 2,
      "metadata": {
        "slideshow": {
          "slide_type": "fragment"
        }
      },
      "outputs": [],
      "source": [
        "print(f\"Numpy version {np.__version__}\")\n",
        "print(f\"Matplotlib version {plt.__version__}\")"
      ],
      "id": "d233ab2f"
    },
    {
      "cell_type": "markdown",
      "metadata": {},
      "source": [
        "## Numpy\n",
        "\n",
        "### What is Numpy\n",
        "\n",
        "Numpy is an array type (python object) meant to store efficiently\n",
        "homogenous, square, arrays (like $(a_{i})_{i\\in [1,N]}$ or\n",
        "$(b_{i,j,k})_{i\\in [1,N],j\\in[1,J],k \\in [1,K]}$)\n",
        "\n",
        "By default its stores data in contiguous C-order (last index varies\n",
        "faster), but also supports Fortran order and strided arrays\n",
        "(non-contiguous).\n",
        "\n",
        "Numpy has introduced well thought conventions, that have been reused by\n",
        "many other libraries (tensorflow, pytorch, jax), or even programming\n",
        "languages (julia)\n",
        "\n",
        "### Vector Creation\n",
        "\n",
        "-   Vectors and matrices are created with the `np.array(...)` function.\n",
        "-   Special vectors can be created with `np.zeros`, `np.ones`,\n",
        "    `np.linspace`"
      ],
      "id": "0701dc57-15ae-45bb-a09b-bbc56bf6e7c7"
    },
    {
      "cell_type": "code",
      "execution_count": 3,
      "metadata": {
        "slideshow": {
          "slide_type": "fragment"
        }
      },
      "outputs": [],
      "source": [
        "# an array can be created from a list of numbers\n",
        "np.array( [1.0, 2.0, 3.0] )"
      ],
      "id": "ea498ac6"
    },
    {
      "cell_type": "code",
      "execution_count": 4,
      "metadata": {
        "slideshow": {
          "slide_type": "fragment"
        }
      },
      "outputs": [],
      "source": [
        "# or initialized by specifying the length of the array\n",
        "np.zeros(5)"
      ],
      "id": "17e2ece4"
    },
    {
      "cell_type": "code",
      "execution_count": 5,
      "metadata": {},
      "outputs": [],
      "source": [
        "# 10 regularly spaced points between 0 and 1\n",
        "np.linspace(0, 1, 11)"
      ],
      "id": "5aab8cf6"
    },
    {
      "cell_type": "markdown",
      "metadata": {},
      "source": [
        "### Matrix Creation\n",
        "\n",
        "-   A matrix is a 2-dimensional array and is created with `np.array`\n",
        "-   Function `np.matrix()` has been deprecated: do not use it.\n",
        "-   There are functions to create specific matrices: `np.eye`,\n",
        "    `np.diag`, …"
      ],
      "id": "aded0fdf-4ee3-49fc-8b5f-f831f3da0ab5"
    },
    {
      "cell_type": "code",
      "execution_count": 6,
      "metadata": {
        "slideshow": {
          "slide_type": "fragment"
        }
      },
      "outputs": [],
      "source": [
        "# an array can be created from a list of (equal size) lists\n",
        "np.array([\n",
        "    [1.0, 2.0, 3.0],\n",
        "    [4  ,   5,   6] \n",
        "])"
      ],
      "id": "991001ec"
    },
    {
      "cell_type": "code",
      "execution_count": 7,
      "metadata": {
        "slideshow": {
          "slide_type": "fragment"
        }
      },
      "outputs": [],
      "source": [
        "# initialize an empty matrix with the dimensions as a tuple\n",
        "A = np.zeros( (2, 3) )\n",
        "A"
      ],
      "id": "0c5e64b5"
    },
    {
      "cell_type": "code",
      "execution_count": 8,
      "metadata": {},
      "outputs": [],
      "source": [
        "# matrix dimensions are contained in the shape attribute\n",
        "A.shape"
      ],
      "id": "76200316"
    },
    {
      "cell_type": "markdown",
      "metadata": {},
      "source": [
        "### Tensors\n",
        "\n",
        "The construction generalizes to higher dimension arrays (a.k.a. tensors)"
      ],
      "id": "5c2e9435-7196-45e4-9a5a-f6fd031aecbb"
    },
    {
      "cell_type": "code",
      "execution_count": 9,
      "metadata": {
        "slideshow": {
          "slide_type": "fragment"
        }
      },
      "outputs": [],
      "source": [
        "# an array can be created from a list of list of lists\n",
        "np.array([\n",
        "    [\n",
        "        [1.0, 2.0, 3.0],\n",
        "        [4  ,   5,   6] \n",
        "    ],\n",
        "        [\n",
        "        [7.0, 8.0, 9.0],\n",
        "        [10 ,  11,   12] \n",
        "    ]\n",
        "])"
      ],
      "id": "57060c3c"
    },
    {
      "cell_type": "code",
      "execution_count": 10,
      "metadata": {
        "slideshow": {
          "slide_type": "fragment"
        }
      },
      "outputs": [],
      "source": [
        "# initialize an empty matrix with the dimensions as a tuple\n",
        "A = np.zeros( (2, 3) )\n",
        "A"
      ],
      "id": "a874daaf"
    },
    {
      "cell_type": "code",
      "execution_count": 11,
      "metadata": {},
      "outputs": [],
      "source": [
        "# matrix dimensions are contained in the shape attribute\n",
        "A.shape"
      ],
      "id": "6957741f"
    },
    {
      "cell_type": "markdown",
      "metadata": {},
      "source": [
        "### Linear Algebra\n",
        "\n",
        "*Vector multiplications* and *Matrix multiplications* can be performed\n",
        "using special sign `@`"
      ],
      "id": "73955a6a-3ef4-4fd2-80bf-efb92d90c1ff"
    },
    {
      "cell_type": "code",
      "execution_count": 12,
      "metadata": {
        "slideshow": {
          "slide_type": "fragment"
        }
      },
      "outputs": [],
      "source": [
        "A = np.array([[1.0, 2.0], [2,4]])\n",
        "A"
      ],
      "id": "8cfd127c"
    },
    {
      "cell_type": "code",
      "execution_count": 13,
      "metadata": {
        "slideshow": {
          "slide_type": "fragment"
        }
      },
      "outputs": [],
      "source": [
        "B = np.array([1.0, 2.0])\n",
        "B"
      ],
      "id": "742738a4"
    },
    {
      "cell_type": "code",
      "execution_count": 14,
      "metadata": {
        "slideshow": {
          "slide_type": "fragment"
        }
      },
      "outputs": [],
      "source": [
        "A@B"
      ],
      "id": "a1488dc5"
    },
    {
      "cell_type": "code",
      "execution_count": 15,
      "metadata": {
        "slideshow": {
          "slide_type": "fragment"
        }
      },
      "outputs": [],
      "source": [
        "A@A"
      ],
      "id": "60d38bb6"
    },
    {
      "cell_type": "markdown",
      "metadata": {},
      "source": [
        "Note how multiplication reduces total number of dimensions by 2. It is a\n",
        "tensor reduction."
      ],
      "id": "f2add9d2-a8d6-4a57-9bff-1da90e85158b"
    },
    {
      "cell_type": "code",
      "execution_count": 16,
      "metadata": {
        "slideshow": {
          "slide_type": "fragment"
        }
      },
      "outputs": [],
      "source": [
        "print(A.shape, A.shape, (A@A).shape)"
      ],
      "id": "47233abe"
    },
    {
      "cell_type": "markdown",
      "metadata": {},
      "source": [
        "### Scalar types\n",
        "\n",
        "Numpy arrays can contain data of several *scalar* types."
      ],
      "id": "94c093f7-ff7c-4620-a533-a7d87ba89fce"
    },
    {
      "cell_type": "code",
      "execution_count": 17,
      "metadata": {},
      "outputs": [],
      "source": [
        "[True, False, True]"
      ],
      "id": "e745acd1"
    },
    {
      "cell_type": "code",
      "execution_count": 18,
      "metadata": {},
      "outputs": [],
      "source": [
        "# vector of boolean\n",
        "boolean_vector = np.array( [True, False, True] )\n",
        "print(f\"type of scalar '{boolean_vector.dtype}'\")\n",
        "boolean_vector"
      ],
      "id": "2769d27d"
    },
    {
      "cell_type": "code",
      "execution_count": 19,
      "metadata": {},
      "outputs": [],
      "source": [
        "# vector of integers\n",
        "int_vector = np.array([1, 2, 0])\n",
        "print(f\"type of scalar '{int_vector.dtype}'\")\n",
        "int_vector"
      ],
      "id": "3d76d6f4"
    },
    {
      "cell_type": "markdown",
      "metadata": {},
      "source": [
        "By default, numerical arrays contain `float64` numbers (like matlab).\n",
        "But GPUs typically process 16 bits or 32 bits numbers.\n",
        "\n",
        "Can you create a 32 bits array?"
      ],
      "id": "bf4e389c-4b8b-4353-ad72-e6e82b7fd1ac"
    },
    {
      "cell_type": "code",
      "execution_count": 20,
      "metadata": {},
      "outputs": [],
      "source": [
        "# your code here"
      ],
      "id": "b1e76d21"
    },
    {
      "cell_type": "markdown",
      "metadata": {},
      "source": [
        "### Subscripting Vectors\n",
        "\n",
        "-   Elements and subarrays, can be retrieved using the same syntax as\n",
        "    lists and strings.\n",
        "    -   Remember that indexing starts at 0."
      ],
      "id": "1d5c46d8-d4bd-4d80-bd23-5fabb64dc7bf"
    },
    {
      "cell_type": "code",
      "execution_count": 21,
      "metadata": {},
      "outputs": [],
      "source": [
        "V = np.array([0., 1., 2., 3., 4.])\n",
        "display(V[1])  # second element"
      ],
      "id": "4af7489b"
    },
    {
      "cell_type": "code",
      "execution_count": 22,
      "metadata": {},
      "outputs": [],
      "source": [
        "V = np.array([0., 1., 2., 3., 4.])\n",
        "display(V[1:3])  # second, third and fourth element"
      ],
      "id": "b1ae6634"
    },
    {
      "cell_type": "markdown",
      "metadata": {},
      "source": [
        "### Modifying Vector Content\n",
        "\n",
        "-   Elements and suvectors, can be assigned to new values, as long as\n",
        "    they have the right dimensions."
      ],
      "id": "cece07e4-96e8-4e85-9f97-ade55105f190"
    },
    {
      "cell_type": "code",
      "execution_count": 23,
      "metadata": {},
      "outputs": [],
      "source": [
        "V = np.array([1., 1., 2., 4., 5., 8., 13.])\n",
        "V[3] = 3.0\n",
        "V"
      ],
      "id": "9f476002"
    },
    {
      "cell_type": "code",
      "execution_count": 24,
      "metadata": {},
      "outputs": [],
      "source": [
        "V = np.array([1., 1., 2., 4., 5., 8., 13.])\n",
        "# V[1:4] = [1,2,3,4] # this doesn't work\n",
        "V[1:4] = [2,3,4] # this works"
      ],
      "id": "34e80852"
    },
    {
      "cell_type": "markdown",
      "metadata": {},
      "source": [
        "### Subscripting Matrices\n",
        "\n",
        "-   Indexing generalizes to matrices: there are two indices istead of\n",
        "    one: `M[i,j]`\n",
        "-   One can extract a row, or a column (a slice) with `M[i,:]` or\n",
        "    `M[:,i]`\n",
        "-   A submatrix is defining with two intervals: `M[i:j, k:l]` or\n",
        "    `M[i:j, :]`, …"
      ],
      "id": "f2bbd5e7-39c8-4da9-b80d-c6b867858d89"
    },
    {
      "cell_type": "code",
      "execution_count": 25,
      "metadata": {},
      "outputs": [],
      "source": [
        "M = np.array([[1,2,3],[4,5,6],[7,8,9]])\n",
        "M"
      ],
      "id": "cb2c1f14"
    },
    {
      "cell_type": "code",
      "execution_count": 26,
      "metadata": {},
      "outputs": [],
      "source": [
        "M[0,1] # access element (1,2)"
      ],
      "id": "74715314"
    },
    {
      "cell_type": "code",
      "execution_count": 27,
      "metadata": {},
      "outputs": [],
      "source": [
        "M[2,:] # third row"
      ],
      "id": "ada0e526"
    },
    {
      "cell_type": "code",
      "execution_count": 28,
      "metadata": {},
      "outputs": [],
      "source": [
        "M[:,1] # second column     # M[i,1] for any i"
      ],
      "id": "9b97aaca"
    },
    {
      "cell_type": "code",
      "execution_count": 29,
      "metadata": {},
      "outputs": [],
      "source": [
        "M[1:3, :] # lines from 1 (included) to 3 (excluded) ; all columns"
      ],
      "id": "de540928"
    },
    {
      "cell_type": "markdown",
      "metadata": {},
      "source": [
        "### Modifying matrix content"
      ],
      "id": "b71d260d-bd84-45a4-8a02-182758eff41a"
    },
    {
      "cell_type": "code",
      "execution_count": 30,
      "metadata": {},
      "outputs": [],
      "source": [
        "M = np.array([[1,2,3],[4,5,6],[7,8,9]])\n",
        "M"
      ],
      "id": "3296e0d7"
    },
    {
      "cell_type": "code",
      "execution_count": 31,
      "metadata": {},
      "outputs": [],
      "source": [
        "M[0,0] = 0\n",
        "M"
      ],
      "id": "cd0d3237"
    },
    {
      "cell_type": "code",
      "execution_count": 32,
      "metadata": {},
      "outputs": [],
      "source": [
        "M[1:3, 1:3] = np.array([[0,1],[1,0]]) # dimensions must match\n",
        "M"
      ],
      "id": "67a2a186"
    },
    {
      "cell_type": "markdown",
      "metadata": {},
      "source": [
        "### Element-wise algebraic operations\n",
        "\n",
        "-   The following algebraic operations are defined on arrays: `+`, `-`,\n",
        "    `*`, `/`, `**`.\n",
        "-   Comparisons operators (`<`,`<=`, `>`, `>=`, `==`) are defined are\n",
        "    return boolean arrays.\n",
        "-   They operate element by element."
      ],
      "id": "1cea3afd-d54d-423b-a8f2-c3df7b0ed3c4"
    },
    {
      "cell_type": "code",
      "execution_count": 33,
      "metadata": {},
      "outputs": [],
      "source": [
        "A = np.array([1,2,3,4])\n",
        "B = np.array([4,3,2,1])\n",
        "A+B"
      ],
      "id": "0d8ba418"
    },
    {
      "cell_type": "code",
      "execution_count": 34,
      "metadata": {},
      "outputs": [],
      "source": [
        "A*B    # note the difference with A@B"
      ],
      "id": "6268c676"
    },
    {
      "cell_type": "code",
      "execution_count": 35,
      "metadata": {},
      "outputs": [],
      "source": [
        "A>B"
      ],
      "id": "9ff0c4b9"
    },
    {
      "cell_type": "markdown",
      "metadata": {},
      "source": [
        "At first, one might be surprised that the default multiplication\n",
        "operator is element-wise multiplication rather than matrix\n",
        "multiplication.\n",
        "\n",
        "There are at least two good reasons:\n",
        "\n",
        "-   consistency: all operators can be broadcasted with the exact same\n",
        "    rules (like `*`, `+`, `>`)\n",
        "-   for many workflows, elementwise operations are more common than\n",
        "    matrix multiplication\n",
        "\n",
        "### Element-wise logical operations\n",
        "\n",
        "-   The following logical operations are defined element-wise on arrays:\n",
        "    `&` (and), `|` (or), `~` (not)"
      ],
      "id": "4d286970-409e-4ba0-b316-5930030b7730"
    },
    {
      "cell_type": "code",
      "execution_count": 36,
      "metadata": {},
      "outputs": [],
      "source": [
        "A = np.array([False, False, True, True])\n",
        "B = np.array([False, True, False, True])"
      ],
      "id": "8d65d668"
    },
    {
      "cell_type": "code",
      "execution_count": 37,
      "metadata": {},
      "outputs": [],
      "source": [
        "~A"
      ],
      "id": "e4b57948"
    },
    {
      "cell_type": "code",
      "execution_count": 38,
      "metadata": {},
      "outputs": [],
      "source": [
        "A | B"
      ],
      "id": "bc769b74"
    },
    {
      "cell_type": "code",
      "execution_count": 39,
      "metadata": {},
      "outputs": [],
      "source": [
        "A & B"
      ],
      "id": "d8271ee8"
    },
    {
      "cell_type": "markdown",
      "metadata": {},
      "source": [
        "### Vector indexing\n",
        "\n",
        "-   Arrays can be indexed by boolean arrays instead of ranges.\n",
        "-   Only elements corresponding to true are retrieved"
      ],
      "id": "25f4acb0-febc-46ed-9704-a5c1f8f0aa3d"
    },
    {
      "cell_type": "code",
      "execution_count": 40,
      "metadata": {},
      "outputs": [],
      "source": [
        "x = np.linspace(0,1,6)\n",
        "x"
      ],
      "id": "fa31c1ed"
    },
    {
      "cell_type": "code",
      "execution_count": 41,
      "metadata": {},
      "outputs": [],
      "source": [
        "# indexes such that (x^2) > (x/2)\n",
        "x**2 > (x/2)"
      ],
      "id": "53cd9c2c"
    },
    {
      "cell_type": "code",
      "execution_count": 42,
      "metadata": {},
      "outputs": [],
      "source": [
        "cond = x**2 > (x/2)\n",
        "x[ cond ] "
      ],
      "id": "8842a87c"
    },
    {
      "cell_type": "markdown",
      "metadata": {},
      "source": [
        "### Going further: broadcasting rules\n",
        "\n",
        "-   Numpy library has defined very consistent conventions, to match\n",
        "    inconsistent dimensions.\n",
        "-   Ignore them for now…"
      ],
      "id": "4036d170-c344-465c-8ae2-84bebd188536"
    },
    {
      "cell_type": "code",
      "execution_count": 43,
      "metadata": {},
      "outputs": [],
      "source": [
        "M = np.eye(4)\n",
        "M"
      ],
      "id": "472b72ca"
    },
    {
      "cell_type": "code",
      "execution_count": 44,
      "metadata": {},
      "outputs": [],
      "source": [
        "M[2:4, 2:4] = 0.5 # float\n",
        "M"
      ],
      "id": "58153314"
    },
    {
      "cell_type": "code",
      "execution_count": 45,
      "metadata": {},
      "outputs": [],
      "source": [
        "M[:,:2] = np.array([[0.1, 0.2]])  # 1x2 array\n",
        "M"
      ],
      "id": "974aef8e"
    },
    {
      "cell_type": "markdown",
      "metadata": {},
      "source": [
        "### Going Further\n",
        "\n",
        "-   Other useful functions (easy to google):\n",
        "    -   `np.arange()` regularly spaced integers\n",
        "    -   `np.where()` find elements in\n",
        "    -   …\n",
        "\n",
        "## Matplotlib\n",
        "\n",
        "### Matplotlib\n",
        "\n",
        "-   `matplotlib` is …\n",
        "-   object oriented api optional Matlab-like syntax\n",
        "-   main function is `plt.plot(x,y)` where `x` and `y` are vectors (or\n",
        "    iterables like lists)\n",
        "    -   **lots** of optional arguments"
      ],
      "id": "41aaf813-fead-43bf-99cf-be27e67187bc"
    },
    {
      "cell_type": "code",
      "execution_count": 46,
      "metadata": {},
      "outputs": [],
      "source": [
        "from matplotlib import pyplot as plt"
      ],
      "id": "d8bdbda7"
    },
    {
      "cell_type": "markdown",
      "metadata": {},
      "source": [
        "### Example"
      ],
      "id": "f4e00fac-2c56-4882-8c6b-661776f690d8"
    },
    {
      "cell_type": "code",
      "execution_count": 47,
      "metadata": {},
      "outputs": [],
      "source": [
        "x = np.linspace(-1,1,6)"
      ],
      "id": "7c05cf50"
    },
    {
      "cell_type": "code",
      "execution_count": 48,
      "metadata": {},
      "outputs": [],
      "source": [
        "y = np.sin(x)/x # sinus cardinal"
      ],
      "id": "2de460af"
    },
    {
      "cell_type": "code",
      "execution_count": 49,
      "metadata": {},
      "outputs": [],
      "source": [
        "plt.plot(x,y,'o')\n",
        "plt.plot(x,y)"
      ],
      "id": "f79580d1"
    },
    {
      "cell_type": "markdown",
      "metadata": {},
      "source": [
        "### Example (2)"
      ],
      "id": "e59fa5fe-77f7-4395-878f-ecb7313c6e33"
    },
    {
      "cell_type": "code",
      "execution_count": 50,
      "metadata": {},
      "outputs": [],
      "source": [
        "x = np.linspace(-5,5,100)\n",
        "\n",
        "fig = plt.figure() # keep a figure open to draw on it\n",
        "for k in range(1,5):\n",
        "    y = np.sin(x*k)/(x*k)\n",
        "    plt.plot(x, y, label=f\"$sinc({k} x)$\") # label each line\n",
        "plt.plot(x, x*0, color='black', linestyle='--')\n",
        "plt.grid(True) # add a grid\n",
        "plt.title(\"Looking for the right hat.\")\n",
        "plt.legend(loc=\"upper right\")"
      ],
      "id": "db312424"
    },
    {
      "cell_type": "markdown",
      "metadata": {},
      "source": [
        "### Example (3)"
      ],
      "id": "b0071b85-fb33-40c9-b2c8-dbd0c78e322b"
    },
    {
      "cell_type": "code",
      "execution_count": 51,
      "metadata": {},
      "outputs": [],
      "source": [
        "x = np.linspace(-5,5,100)\n",
        "\n",
        "plt.figure()\n",
        "plt.subplot(2,2,1) # create a 2x2 subplot and draw in first quadrant\n",
        "plt.plot(x,x)\n",
        "plt.subplot(2,2,2) # create a 2x2 subplot and draw in second quadrant\n",
        "plt.plot(x,-x)\n",
        "plt.subplot(2,2,3) # create a 2x2 subplot and draw in third quadrant\n",
        "plt.plot(x,-x)\n",
        "plt.subplot(2,2,4) # create a 2x2 subplot and draw in fourth quadrant\n",
        "plt.plot(x,x)\n",
        "\n",
        "plt.tight_layout() # save some space"
      ],
      "id": "2009f943"
    },
    {
      "cell_type": "markdown",
      "metadata": {},
      "source": [
        "### Alternatives to matplotlib\n",
        "\n",
        "-   plotly (nice javascript graphs)\n",
        "-   bqplot (native integration with jupyter)\n",
        "-   altair\n",
        "    -   excellent for dataviz/interactivity\n",
        "    -   python wrapper to Vega-lite\n",
        "    -   very efficient to visualize `pandas` data (i.e. a dataframe)"
      ],
      "id": "211f173d-b672-40a6-84d7-c7517cf731bc"
    }
  ],
  "nbformat": 4,
  "nbformat_minor": 5,
  "metadata": {
    "kernelspec": {
      "name": "python3",
      "display_name": "Python 3 (ipykernel)",
      "language": "python"
    },
    "language_info": {
      "name": "python",
      "codemirror_mode": {
        "name": "ipython",
        "version": "3"
      },
      "file_extension": ".py",
      "mimetype": "text/x-python",
      "nbconvert_exporter": "python",
      "pygments_lexer": "ipython3",
      "version": "3.11.10"
    }
  }
}