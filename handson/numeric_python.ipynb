{
  "cells": [
    {
      "cell_type": "markdown",
      "metadata": {},
      "source": [
        "# Numeric Python\n",
        "\n",
        "### Numpy/scipy/matplotlib\n",
        "\n",
        "-   Most python scientists, use the following libraries:\n",
        "    -   `numpy`: performant array library (vectors, matrices, tensors)\n",
        "    -   `matplotlib`: plotting library\n",
        "    -   `scipy`: all kinds of mathematical routines\n",
        "-   In the rest of the course, we’ll make some use of `numpy` and\n",
        "    `matplotlib`\n",
        "-   They are included in all python *distributions* like Anaconda Python\n",
        "-   All additional libraries use `numpy` and `matplotlib`: `pandas`,\n",
        "    `statsmodels`, `sklearn`\n",
        "\n",
        "### Importing the libraries\n",
        "\n",
        "It is standard to import the libraries as `np`, and `plt`. We’ll follow\n",
        "this convention here."
      ],
      "id": "189a452e-fbc0-46de-80a9-8a421118765e"
    },
    {
      "cell_type": "code",
      "execution_count": 1,
      "metadata": {
        "slideshow": {
          "slide_type": "fragment"
        }
      },
      "outputs": [],
      "source": [
        "# these lines need to be run only once per program\n",
        "import numpy as np\n",
        "import matplotlib as plt"
      ],
      "id": "7bf1e258"
    },
    {
      "cell_type": "code",
      "execution_count": 2,
      "metadata": {
        "slideshow": {
          "slide_type": "fragment"
        }
      },
      "outputs": [],
      "source": [
        "print(f\"Numpy version {np.__version__}\")\n",
        "print(f\"Matplotlib version {plt.__version__}\")"
      ],
      "id": "bd0dcf66"
    },
    {
      "cell_type": "markdown",
      "metadata": {},
      "source": [
        "## Numpy\n",
        "\n",
        "### What is Numpy\n",
        "\n",
        "Numpy is an array type (python object) meant to store efficiently\n",
        "homogenous, square, arrays (like $(a_{i})_{i\\in [1,N]}$ or\n",
        "$(b_{i,j,k})_{i\\in [1,N],j\\in[1,J],k \\in [1,K]}$)\n",
        "\n",
        "By default its stores data in contiguous C-order (last index varies\n",
        "faster), but also supports Fortran order and strided arrays\n",
        "(non-contiguous).\n",
        "\n",
        "Numpy has introduced well thought conventions, that have been reused by\n",
        "many other libraries (tensorflow, pytorch, jax), or even programming\n",
        "languages (julia)\n",
        "\n",
        "### Vector Creation\n",
        "\n",
        "-   Vectors and matrices are created with the `np.array(...)` function.\n",
        "-   Special vectors can be created with `np.zeros`, `np.ones`,\n",
        "    `np.linspace`"
      ],
      "id": "64d83139-3b34-4151-bd55-692efcbb007c"
    },
    {
      "cell_type": "code",
      "execution_count": 3,
      "metadata": {
        "slideshow": {
          "slide_type": "fragment"
        }
      },
      "outputs": [],
      "source": [
        "# an array can be created from a list of numbers\n",
        "np.array( [1.0, 2.0, 3.0] )"
      ],
      "id": "c5f6cb09"
    },
    {
      "cell_type": "code",
      "execution_count": 4,
      "metadata": {
        "slideshow": {
          "slide_type": "fragment"
        }
      },
      "outputs": [],
      "source": [
        "# or initialized by specifying the length of the array\n",
        "np.zeros(5)"
      ],
      "id": "bba03d86"
    },
    {
      "cell_type": "code",
      "execution_count": 5,
      "metadata": {},
      "outputs": [],
      "source": [
        "# 10 regularly spaced points between 0 and 1\n",
        "np.linspace(0, 1, 11)"
      ],
      "id": "17b98982"
    },
    {
      "cell_type": "markdown",
      "metadata": {},
      "source": [
        "### Matrix Creation\n",
        "\n",
        "-   A matrix is a 2-dimensional array and is created with `np.array`\n",
        "-   Function `np.matrix()` has been deprecated: do not use it.\n",
        "-   There are functions to create specific matrices: `np.eye`,\n",
        "    `np.diag`, …"
      ],
      "id": "b5f170fe-c6b7-4572-a84d-920124d70349"
    },
    {
      "cell_type": "code",
      "execution_count": 6,
      "metadata": {
        "slideshow": {
          "slide_type": "fragment"
        }
      },
      "outputs": [],
      "source": [
        "# an array can be created from a list of (equal size) lists\n",
        "np.array([\n",
        "    [1.0, 2.0, 3.0],\n",
        "    [4  ,   5,   6] \n",
        "])"
      ],
      "id": "fc7918ab"
    },
    {
      "cell_type": "code",
      "execution_count": 7,
      "metadata": {
        "slideshow": {
          "slide_type": "fragment"
        }
      },
      "outputs": [],
      "source": [
        "# initialize an empty matrix with the dimensions as a tuple\n",
        "A = np.zeros( (2, 3) )\n",
        "A"
      ],
      "id": "8b49d03c"
    },
    {
      "cell_type": "code",
      "execution_count": 8,
      "metadata": {},
      "outputs": [],
      "source": [
        "# matrix dimensions are contained in the shape attribute\n",
        "A.shape"
      ],
      "id": "ccfe25e9"
    },
    {
      "cell_type": "markdown",
      "metadata": {},
      "source": [
        "### Tensors\n",
        "\n",
        "The construction generalizes to higher dimension arrays (a.k.a. tensors)"
      ],
      "id": "67c9155f-bc02-47e5-b20a-822a53c583bd"
    },
    {
      "cell_type": "code",
      "execution_count": 9,
      "metadata": {
        "slideshow": {
          "slide_type": "fragment"
        }
      },
      "outputs": [],
      "source": [
        "# an array can be created from a list of list of lists\n",
        "np.array([\n",
        "    [\n",
        "        [1.0, 2.0, 3.0],\n",
        "        [4  ,   5,   6] \n",
        "    ],\n",
        "        [\n",
        "        [7.0, 8.0, 9.0],\n",
        "        [10 ,  11,   12] \n",
        "    ]\n",
        "])"
      ],
      "id": "4e4a864d"
    },
    {
      "cell_type": "code",
      "execution_count": 10,
      "metadata": {
        "slideshow": {
          "slide_type": "fragment"
        }
      },
      "outputs": [],
      "source": [
        "# initialize an empty matrix with the dimensions as a tuple\n",
        "A = np.zeros( (2, 3) )\n",
        "A"
      ],
      "id": "5a8171aa"
    },
    {
      "cell_type": "code",
      "execution_count": 11,
      "metadata": {},
      "outputs": [],
      "source": [
        "# matrix dimensions are contained in the shape attribute\n",
        "A.shape"
      ],
      "id": "998ee1c9"
    },
    {
      "cell_type": "markdown",
      "metadata": {},
      "source": [
        "### Linear Algebra\n",
        "\n",
        "*Vector multiplications* and *Matrix multiplications* can be performed\n",
        "using special sign `@`"
      ],
      "id": "c50253e5-81ab-41e6-9344-2222ffcfe44b"
    },
    {
      "cell_type": "code",
      "execution_count": 12,
      "metadata": {
        "slideshow": {
          "slide_type": "fragment"
        }
      },
      "outputs": [],
      "source": [
        "A = np.array([[1.0, 2.0], [2,4]])\n",
        "A"
      ],
      "id": "9a0b3436"
    },
    {
      "cell_type": "code",
      "execution_count": 13,
      "metadata": {
        "slideshow": {
          "slide_type": "fragment"
        }
      },
      "outputs": [],
      "source": [
        "B = np.array([1.0, 2.0])\n",
        "B"
      ],
      "id": "f052d4d8"
    },
    {
      "cell_type": "code",
      "execution_count": 14,
      "metadata": {
        "slideshow": {
          "slide_type": "fragment"
        }
      },
      "outputs": [],
      "source": [
        "A@B"
      ],
      "id": "f31136d0"
    },
    {
      "cell_type": "code",
      "execution_count": 15,
      "metadata": {
        "slideshow": {
          "slide_type": "fragment"
        }
      },
      "outputs": [],
      "source": [
        "A@A"
      ],
      "id": "1a9d0603"
    },
    {
      "cell_type": "markdown",
      "metadata": {},
      "source": [
        "Note how multiplication reduces total number of dimensions by 2. It is a\n",
        "tensor reduction."
      ],
      "id": "813aa15d-b8a8-40e5-bd93-d6ef95669c0e"
    },
    {
      "cell_type": "code",
      "execution_count": 16,
      "metadata": {
        "slideshow": {
          "slide_type": "fragment"
        }
      },
      "outputs": [],
      "source": [
        "print(A.shape, A.shape, (A@A).shape)"
      ],
      "id": "95721fcf"
    },
    {
      "cell_type": "markdown",
      "metadata": {},
      "source": [
        "### Scalar types\n",
        "\n",
        "Numpy arrays can contain data of several *scalar* types."
      ],
      "id": "e778da8f-87e3-4cf9-944b-d116cb12e03b"
    },
    {
      "cell_type": "code",
      "execution_count": 17,
      "metadata": {},
      "outputs": [],
      "source": [
        "[True, False, True]"
      ],
      "id": "b2fe3f68"
    },
    {
      "cell_type": "code",
      "execution_count": 18,
      "metadata": {},
      "outputs": [],
      "source": [
        "# vector of boolean\n",
        "boolean_vector = np.array( [True, False, True] )\n",
        "print(f\"type of scalar '{boolean_vector.dtype}'\")\n",
        "boolean_vector"
      ],
      "id": "3d3e17a4"
    },
    {
      "cell_type": "code",
      "execution_count": 19,
      "metadata": {},
      "outputs": [],
      "source": [
        "# vector of integers\n",
        "int_vector = np.array([1, 2, 0])\n",
        "print(f\"type of scalar '{int_vector.dtype}'\")\n",
        "int_vector"
      ],
      "id": "31d8f62e"
    },
    {
      "cell_type": "markdown",
      "metadata": {},
      "source": [
        "By default, numerical arrays contain `float64` numbers (like matlab).\n",
        "But GPUs typically process 16 bits or 32 bits numbers.\n",
        "\n",
        "Can you create a 32 bits array?"
      ],
      "id": "4714187d-18c3-461f-b5e8-1d7ba580b908"
    },
    {
      "cell_type": "code",
      "execution_count": 20,
      "metadata": {},
      "outputs": [],
      "source": [
        "# your code here"
      ],
      "id": "2900d636"
    },
    {
      "cell_type": "markdown",
      "metadata": {},
      "source": [
        "### Subscripting Vectors\n",
        "\n",
        "-   Elements and subarrays, can be retrieved using the same syntax as\n",
        "    lists and strings.\n",
        "    -   Remember that indexing starts at 0."
      ],
      "id": "957bbf08-bb72-4ffc-a473-9eaea3cc6dfe"
    },
    {
      "cell_type": "code",
      "execution_count": 21,
      "metadata": {},
      "outputs": [],
      "source": [
        "V = np.array([0., 1., 2., 3., 4.])\n",
        "display(V[1])  # second element"
      ],
      "id": "4607c4c3"
    },
    {
      "cell_type": "code",
      "execution_count": 22,
      "metadata": {},
      "outputs": [],
      "source": [
        "V = np.array([0., 1., 2., 3., 4.])\n",
        "display(V[1:3])  # second, third and fourth element"
      ],
      "id": "6f156db9"
    },
    {
      "cell_type": "markdown",
      "metadata": {},
      "source": [
        "### Modifying Vector Content\n",
        "\n",
        "-   Elements and suvectors, can be assigned to new values, as long as\n",
        "    they have the right dimensions."
      ],
      "id": "0517738d-4292-4aa3-9667-ff08034f5e6c"
    },
    {
      "cell_type": "code",
      "execution_count": 23,
      "metadata": {},
      "outputs": [],
      "source": [
        "V = np.array([1., 1., 2., 4., 5., 8., 13.])\n",
        "V[3] = 3.0\n",
        "V"
      ],
      "id": "2e6a9c45"
    },
    {
      "cell_type": "code",
      "execution_count": 24,
      "metadata": {},
      "outputs": [],
      "source": [
        "V = np.array([1., 1., 2., 4., 5., 8., 13.])\n",
        "# V[1:4] = [1,2,3,4] # this doesn't work\n",
        "V[1:4] = [2,3,4] # this works"
      ],
      "id": "74ef4c42"
    },
    {
      "cell_type": "markdown",
      "metadata": {},
      "source": [
        "### Subscripting Matrices\n",
        "\n",
        "-   Indexing generalizes to matrices: there are two indices istead of\n",
        "    one: `M[i,j]`\n",
        "-   One can extract a row, or a column (a slice) with `M[i,:]` or\n",
        "    `M[:,i]`\n",
        "-   A submatrix is defining with two intervals: `M[i:j, k:l]` or\n",
        "    `M[i:j, :]`, …"
      ],
      "id": "fabd30e9-49aa-4ca4-b340-37a40f7bc4d7"
    },
    {
      "cell_type": "code",
      "execution_count": 25,
      "metadata": {},
      "outputs": [],
      "source": [
        "M = np.array([[1,2,3],[4,5,6],[7,8,9]])\n",
        "M"
      ],
      "id": "6e4d95c5"
    },
    {
      "cell_type": "code",
      "execution_count": 26,
      "metadata": {},
      "outputs": [],
      "source": [
        "M[0,1] # access element (1,2)"
      ],
      "id": "cfd205c4"
    },
    {
      "cell_type": "code",
      "execution_count": 27,
      "metadata": {},
      "outputs": [],
      "source": [
        "M[2,:] # third row"
      ],
      "id": "7985195e"
    },
    {
      "cell_type": "code",
      "execution_count": 28,
      "metadata": {},
      "outputs": [],
      "source": [
        "M[:,1] # second column     # M[i,1] for any i"
      ],
      "id": "9d838364"
    },
    {
      "cell_type": "code",
      "execution_count": 29,
      "metadata": {},
      "outputs": [],
      "source": [
        "M[1:3, :] # lines from 1 (included) to 3 (excluded) ; all columns"
      ],
      "id": "25e537d5"
    },
    {
      "cell_type": "markdown",
      "metadata": {},
      "source": [
        "### Modifying matrix content"
      ],
      "id": "31d5eaaf-5d6d-4584-9737-5c533b152756"
    },
    {
      "cell_type": "code",
      "execution_count": 30,
      "metadata": {},
      "outputs": [],
      "source": [
        "M = np.array([[1,2,3],[4,5,6],[7,8,9]])\n",
        "M"
      ],
      "id": "5c3712ee"
    },
    {
      "cell_type": "code",
      "execution_count": 31,
      "metadata": {},
      "outputs": [],
      "source": [
        "M[0,0] = 0\n",
        "M"
      ],
      "id": "7c9bda65"
    },
    {
      "cell_type": "code",
      "execution_count": 32,
      "metadata": {},
      "outputs": [],
      "source": [
        "M[1:3, 1:3] = np.array([[0,1],[1,0]]) # dimensions must match\n",
        "M"
      ],
      "id": "a80c220e"
    },
    {
      "cell_type": "markdown",
      "metadata": {},
      "source": [
        "### Element-wise algebraic operations\n",
        "\n",
        "-   The following algebraic operations are defined on arrays: `+`, `-`,\n",
        "    `*`, `/`, `**`.\n",
        "-   Comparisons operators (`<`,`<=`, `>`, `>=`, `==`) are defined are\n",
        "    return boolean arrays.\n",
        "-   They operate element by element."
      ],
      "id": "1f5b6933-c92f-4e81-8677-c30a743c4dbf"
    },
    {
      "cell_type": "code",
      "execution_count": 33,
      "metadata": {},
      "outputs": [],
      "source": [
        "A = np.array([1,2,3,4])\n",
        "B = np.array([4,3,2,1])\n",
        "A+B"
      ],
      "id": "1f4071c5"
    },
    {
      "cell_type": "code",
      "execution_count": 34,
      "metadata": {},
      "outputs": [],
      "source": [
        "A*B    # note the difference with A@B"
      ],
      "id": "aca88464"
    },
    {
      "cell_type": "code",
      "execution_count": 35,
      "metadata": {},
      "outputs": [],
      "source": [
        "A>B"
      ],
      "id": "e4afff17"
    },
    {
      "cell_type": "markdown",
      "metadata": {},
      "source": [
        "At first, one might be surprised that the default multiplication\n",
        "operator is element-wise multiplication rather than matrix\n",
        "multiplication.\n",
        "\n",
        "There are at least two good reasons:\n",
        "\n",
        "-   consistency: all operators can be broadcasted with the exact same\n",
        "    rules (like `*`, `+`, `>`)\n",
        "-   for many workflows, elementwise operations are more common than\n",
        "    matrix multiplication\n",
        "\n",
        "### Element-wise logical operations\n",
        "\n",
        "-   The following logical operations are defined element-wise on arrays:\n",
        "    `&` (and), `|` (or), `~` (not)"
      ],
      "id": "0b30e319-922f-4ac3-8378-b0370d0697e5"
    },
    {
      "cell_type": "code",
      "execution_count": 36,
      "metadata": {},
      "outputs": [],
      "source": [
        "A = np.array([False, False, True, True])\n",
        "B = np.array([False, True, False, True])"
      ],
      "id": "a9e956b2"
    },
    {
      "cell_type": "code",
      "execution_count": 37,
      "metadata": {},
      "outputs": [],
      "source": [
        "~A"
      ],
      "id": "8e51e610"
    },
    {
      "cell_type": "code",
      "execution_count": 38,
      "metadata": {},
      "outputs": [],
      "source": [
        "A | B"
      ],
      "id": "1dc4f42d"
    },
    {
      "cell_type": "code",
      "execution_count": 39,
      "metadata": {},
      "outputs": [],
      "source": [
        "A & B"
      ],
      "id": "fb568e63"
    },
    {
      "cell_type": "markdown",
      "metadata": {},
      "source": [
        "### Vector indexing\n",
        "\n",
        "-   Arrays can be indexed by boolean arrays instead of ranges.\n",
        "-   Only elements corresponding to true are retrieved"
      ],
      "id": "03ab995f-48d4-4456-bea4-59128a661e85"
    },
    {
      "cell_type": "code",
      "execution_count": 40,
      "metadata": {},
      "outputs": [],
      "source": [
        "x = np.linspace(0,1,6)\n",
        "x"
      ],
      "id": "c581fa86"
    },
    {
      "cell_type": "code",
      "execution_count": 41,
      "metadata": {},
      "outputs": [],
      "source": [
        "# indexes such that (x^2) > (x/2)\n",
        "x**2 > (x/2)"
      ],
      "id": "7b5781a4"
    },
    {
      "cell_type": "code",
      "execution_count": 42,
      "metadata": {},
      "outputs": [],
      "source": [
        "cond = x**2 > (x/2)\n",
        "x[ cond ] "
      ],
      "id": "89c6b6d7"
    },
    {
      "cell_type": "markdown",
      "metadata": {},
      "source": [
        "### Going further: broadcasting rules\n",
        "\n",
        "-   Numpy library has defined very consistent conventions, to match\n",
        "    inconsistent dimensions.\n",
        "-   Ignore them for now…"
      ],
      "id": "ad61b46d-1edb-4108-bfef-9722bfd2d3de"
    },
    {
      "cell_type": "code",
      "execution_count": 43,
      "metadata": {},
      "outputs": [],
      "source": [
        "M = np.eye(4)\n",
        "M"
      ],
      "id": "2c33f7ea"
    },
    {
      "cell_type": "code",
      "execution_count": 44,
      "metadata": {},
      "outputs": [],
      "source": [
        "M[2:4, 2:4] = 0.5 # float\n",
        "M"
      ],
      "id": "63b66d9e"
    },
    {
      "cell_type": "code",
      "execution_count": 45,
      "metadata": {},
      "outputs": [],
      "source": [
        "M[:,:2] = np.array([[0.1, 0.2]])  # 1x2 array\n",
        "M"
      ],
      "id": "58ce11b3"
    },
    {
      "cell_type": "markdown",
      "metadata": {},
      "source": [
        "### Going Further\n",
        "\n",
        "-   Other useful functions (easy to google):\n",
        "    -   `np.arange()` regularly spaced integers\n",
        "    -   `np.where()` find elements in\n",
        "    -   …\n",
        "\n",
        "## Matplotlib\n",
        "\n",
        "### Matplotlib\n",
        "\n",
        "-   `matplotlib` is …\n",
        "-   object oriented api optional Matlab-like syntax\n",
        "-   main function is `plt.plot(x,y)` where `x` and `y` are vectors (or\n",
        "    iterables like lists)\n",
        "    -   **lots** of optional arguments"
      ],
      "id": "0f757781-6548-492e-8625-4a2f1b7d4721"
    },
    {
      "cell_type": "code",
      "execution_count": 46,
      "metadata": {},
      "outputs": [],
      "source": [
        "from matplotlib import pyplot as plt"
      ],
      "id": "f847ddc8"
    },
    {
      "cell_type": "markdown",
      "metadata": {},
      "source": [
        "### Example"
      ],
      "id": "3f837e39-04e3-4af8-9346-07a733ff4471"
    },
    {
      "cell_type": "code",
      "execution_count": 47,
      "metadata": {},
      "outputs": [],
      "source": [
        "x = np.linspace(-1,1,6)"
      ],
      "id": "e6cf0830"
    },
    {
      "cell_type": "code",
      "execution_count": 48,
      "metadata": {},
      "outputs": [],
      "source": [
        "y = np.sin(x)/x # sinus cardinal"
      ],
      "id": "93b1724d"
    },
    {
      "cell_type": "code",
      "execution_count": 49,
      "metadata": {},
      "outputs": [],
      "source": [
        "plt.plot(x,y,'o')\n",
        "plt.plot(x,y)"
      ],
      "id": "c530d40b"
    },
    {
      "cell_type": "markdown",
      "metadata": {},
      "source": [
        "### Example (2)"
      ],
      "id": "9319013b-9ba8-4761-a428-b035ebd67dcd"
    },
    {
      "cell_type": "code",
      "execution_count": 50,
      "metadata": {},
      "outputs": [],
      "source": [
        "x = np.linspace(-5,5,100)\n",
        "\n",
        "fig = plt.figure() # keep a figure open to draw on it\n",
        "for k in range(1,5):\n",
        "    y = np.sin(x*k)/(x*k)\n",
        "    plt.plot(x, y, label=f\"$sinc({k} x)$\") # label each line\n",
        "plt.plot(x, x*0, color='black', linestyle='--')\n",
        "plt.grid(True) # add a grid\n",
        "plt.title(\"Looking for the right hat.\")\n",
        "plt.legend(loc=\"upper right\")"
      ],
      "id": "7ce64371"
    },
    {
      "cell_type": "markdown",
      "metadata": {},
      "source": [
        "### Example (3)"
      ],
      "id": "202e9840-e6a7-476d-bbb8-5db5340f730d"
    },
    {
      "cell_type": "code",
      "execution_count": 51,
      "metadata": {},
      "outputs": [],
      "source": [
        "x = np.linspace(-5,5,100)\n",
        "\n",
        "plt.figure()\n",
        "plt.subplot(2,2,1) # create a 2x2 subplot and draw in first quadrant\n",
        "plt.plot(x,x)\n",
        "plt.subplot(2,2,2) # create a 2x2 subplot and draw in second quadrant\n",
        "plt.plot(x,-x)\n",
        "plt.subplot(2,2,3) # create a 2x2 subplot and draw in third quadrant\n",
        "plt.plot(x,-x)\n",
        "plt.subplot(2,2,4) # create a 2x2 subplot and draw in fourth quadrant\n",
        "plt.plot(x,x)\n",
        "\n",
        "plt.tight_layout() # save some space"
      ],
      "id": "9d3e813e"
    },
    {
      "cell_type": "markdown",
      "metadata": {},
      "source": [
        "### Alternatives to matplotlib\n",
        "\n",
        "-   plotly (nice javascript graphs)\n",
        "-   bqplot (native integration with jupyter)\n",
        "-   altair\n",
        "    -   excellent for dataviz/interactivity\n",
        "    -   python wrapper to Vega-lite\n",
        "    -   very efficient to visualize `pandas` data (i.e. a dataframe)"
      ],
      "id": "4c00cf6c-987a-487d-b195-eb812414ea54"
    }
  ],
  "nbformat": 4,
  "nbformat_minor": 5,
  "metadata": {
    "kernelspec": {
      "name": "python3",
      "display_name": "Python 3 (ipykernel)",
      "language": "python",
      "path": "/home/pablo/.local/share/jupyter/kernels/python3"
    },
    "language_info": {
      "name": "python",
      "codemirror_mode": {
        "name": "ipython",
        "version": "3"
      },
      "file_extension": ".py",
      "mimetype": "text/x-python",
      "nbconvert_exporter": "python",
      "pygments_lexer": "ipython3",
      "version": "3.11.10"
    }
  }
}