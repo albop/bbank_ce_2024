{
  "cells": [
    {
      "cell_type": "markdown",
      "metadata": {},
      "source": [
        "# Methods\n",
        "\n",
        "## Optimization and root finding\n",
        "\n",
        "<span class=\"theorem-title\">**Exercise 1**</span> Consider the function\n",
        "$f(x,y)=1-(x-x_0)^2-0.5(y-y_0)^2$ with $x_0=0.5$ and $y_0=1.0$. Check\n",
        "the documentatin for `scipy.optimize`. Use it to maximze function $f$."
      ],
      "id": "b0e11f35-8526-47fb-beb8-035df2d86ef2"
    },
    {
      "cell_type": "code",
      "execution_count": 1,
      "metadata": {},
      "outputs": [],
      "source": [
        "# one needs to define $f$ as a function of a vector\n",
        "# f(v)=1-(v[0]-x_0)^2-0.5*(v[1]-y_0)^2$ "
      ],
      "id": "32a50265"
    },
    {
      "cell_type": "markdown",
      "metadata": {},
      "source": [
        "Consider the function $g(x)=0.1+exp(-x)x(1-x)$ over \\[0,2\\]. Choose the\n",
        "scipy function and find the root of $g$."
      ],
      "id": "e4191d7c-4884-46bf-a55a-b1d087d5c170"
    },
    {
      "cell_type": "code",
      "execution_count": 2,
      "metadata": {},
      "outputs": [],
      "source": [
        "#"
      ],
      "id": "7b14e394"
    },
    {
      "cell_type": "markdown",
      "metadata": {},
      "source": [
        "Consider the function $h(x,y)=0.1+exp(-x)x(1-x)$ over \\[0,2\\]. Choose\n",
        "the scipy function and find the root of $g$. to find the root of $g$?"
      ],
      "id": "b6dd7911-4740-44e2-ac05-f445d4e58931"
    },
    {
      "cell_type": "code",
      "execution_count": 3,
      "metadata": {},
      "outputs": [],
      "source": [
        "#"
      ],
      "id": "e82ab95e"
    },
    {
      "cell_type": "markdown",
      "metadata": {},
      "source": [
        "## Interpolation\n",
        "\n",
        "We consider the function\n",
        "$f(x) = sinc(\\lambda x) = \\frac{sin(\\lambda x)}{x}$. Let\n",
        "$I=(x_i)_{i=[1,10]}$ be a regularly spaced interval between -2 and +2,\n",
        "containing 10 points. Call $Y=(y_i)=f(x_i)$ the values of $f$ on this\n",
        "interval. Let $T$ be a test set with 1000 regularly spaced points\n",
        "between -2.5 and 2.5.\n",
        "\n",
        "The goal is to compare several ways interpolate function f on $T$.\n",
        "\n",
        "<span class=\"theorem-title\">**Exercise 2**</span> Define `f`, `I`, `Y`,\n",
        "`T` with numpy."
      ],
      "id": "f66adb4a-b54b-4b48-bab0-c90547075753"
    },
    {
      "cell_type": "code",
      "execution_count": 4,
      "metadata": {},
      "outputs": [],
      "source": [
        "# "
      ],
      "id": "bc797517"
    },
    {
      "cell_type": "markdown",
      "metadata": {},
      "source": [
        "<span class=\"theorem-title\">**Exercise 3**</span> Construct a stepwise\n",
        "approximation using numpy indexing"
      ],
      "id": "17090e01-9e1d-4ffc-bb83-e225b4b3a241"
    },
    {
      "cell_type": "code",
      "execution_count": 5,
      "metadata": {},
      "outputs": [],
      "source": [
        "# "
      ],
      "id": "f4f88c01"
    },
    {
      "cell_type": "markdown",
      "metadata": {},
      "source": [
        "<span class=\"theorem-title\">**Exercise 4**</span> Plot it"
      ],
      "id": "a23c2b94-ee33-405a-9bc4-479bd3b5e763"
    },
    {
      "cell_type": "code",
      "execution_count": 6,
      "metadata": {},
      "outputs": [],
      "source": [
        "# "
      ],
      "id": "641ace20"
    },
    {
      "cell_type": "markdown",
      "metadata": {},
      "source": [
        "<span class=\"theorem-title\">**Exercise 5**</span> Construct a linear\n",
        "approximation using numpy"
      ],
      "id": "c138da96-5481-41bf-82d9-fdfd5e887ca0"
    },
    {
      "cell_type": "code",
      "execution_count": 7,
      "metadata": {},
      "outputs": [],
      "source": [
        "#"
      ],
      "id": "cfd94384"
    },
    {
      "cell_type": "markdown",
      "metadata": {},
      "source": [
        "<span class=\"theorem-title\">**Exercise 6**</span> Use scipy.interpolate\n",
        "to interpolate the data linearly. Compare the various extrapolation\n",
        "options."
      ],
      "id": "18ae19e4-056c-422b-b928-68b99c22ee6c"
    },
    {
      "cell_type": "code",
      "execution_count": 8,
      "metadata": {},
      "outputs": [],
      "source": [
        "#"
      ],
      "id": "9d89c2c3"
    },
    {
      "cell_type": "markdown",
      "metadata": {},
      "source": [
        "<span class=\"theorem-title\">**Exercise 7**</span> Use scipy.interpolate\n",
        "to interolate the data with cubic splines. Compare the various\n",
        "extrapolation options."
      ],
      "id": "08244926-404f-45fe-a523-8edb7541defa"
    },
    {
      "cell_type": "code",
      "execution_count": 9,
      "metadata": {},
      "outputs": [],
      "source": [
        "#"
      ],
      "id": "9340887d"
    },
    {
      "cell_type": "markdown",
      "metadata": {},
      "source": [
        "<span class=\"theorem-title\">**Exercise 8**</span> Plot the results"
      ],
      "id": "83c50e5f-c5b7-483a-bdcb-1f8cb75f7615"
    },
    {
      "cell_type": "code",
      "execution_count": 10,
      "metadata": {},
      "outputs": [],
      "source": [
        "#"
      ],
      "id": "d8a00cfa"
    },
    {
      "cell_type": "markdown",
      "metadata": {},
      "source": [
        "## Discretization\n",
        "\n",
        "<span class=\"theorem-title\">**Exercise 9**</span> Consider the AR1\n",
        "process $y_t = \\rho y_{t-1} + \\epsilon_t$ where $\\rho=0.9$ and\n",
        "$\\epsilon_t=0.01$. Use the `quantecon` library to discretize $(y_t)$ as\n",
        "a discrete markov chain."
      ],
      "id": "c88fd7af-d8ce-4722-89f7-8bff35c5c926"
    },
    {
      "cell_type": "code",
      "execution_count": 11,
      "metadata": {},
      "outputs": [],
      "source": [
        "#"
      ],
      "id": "9ef24b1f"
    },
    {
      "cell_type": "markdown",
      "metadata": {},
      "source": [
        "<span class=\"theorem-title\">**Exercise 10**</span> Suppose $\\epsilon$\n",
        "follows a normal law with standard deviation $σ = 0.05$. Take γ = 40 and\n",
        "define $U(x)=(x^{-γ})/(-γ)$ We want to compute\n",
        "$C(\\epsilon) = \\mathbb{E} [U(exp(\\epsilon)) ]$.\n",
        "\n",
        "-   Choose $N>0$ and construct a 1d vector with $N$ realizations of\n",
        "    $\\epsilon$. Use it to compute the expectation.\n",
        "-   Estimate the standard deviation of this expectation.\n",
        "-   Use gauss-hermite method from numpy to compute the same expectation.\n",
        "-   Compare both methods."
      ],
      "id": "3c159dc9-4973-4c60-a205-2333c86cf599"
    }
  ],
  "nbformat": 4,
  "nbformat_minor": 5,
  "metadata": {
    "kernelspec": {
      "name": "python3",
      "display_name": "Python 3 (ipykernel)",
      "language": "python",
      "path": "/home/pablo/.local/share/jupyter/kernels/python3"
    },
    "language_info": {
      "name": "python",
      "codemirror_mode": {
        "name": "ipython",
        "version": "3"
      },
      "file_extension": ".py",
      "mimetype": "text/x-python",
      "nbconvert_exporter": "python",
      "pygments_lexer": "ipython3",
      "version": "3.11.10"
    }
  }
}