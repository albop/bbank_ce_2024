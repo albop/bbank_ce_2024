{
  "cells": [
    {
      "cell_type": "markdown",
      "metadata": {},
      "source": [
        "# \n",
        "\n",
        "# An Introduction to JAX\n",
        "\n",
        "This notebook (adapted Quantecon) provides a short introduction to\n",
        "[Google JAX](https://github.com/google/jax).\n",
        "\n",
        "## JAX as a NumPy Replacement\n",
        "\n",
        "One way to use JAX is as a plug-in NumPy replacement. Let’s look at the\n",
        "similarities and differences.\n",
        "\n",
        "### Similarities\n",
        "\n",
        "The following import is standard, replacing `import numpy as np`:"
      ],
      "id": "8f47529f-4976-4d69-ab21-bb3734e17be6"
    },
    {
      "cell_type": "code",
      "execution_count": 1,
      "metadata": {},
      "outputs": [],
      "source": [
        "import jax\n",
        "import jax.numpy as jnp"
      ],
      "id": "040ef72f"
    },
    {
      "cell_type": "markdown",
      "metadata": {},
      "source": [
        "Now we can use `jnp` in place of `np` for the usual array operations:"
      ],
      "id": "045423d0-7b88-4b36-8d38-17c7547a6684"
    },
    {
      "cell_type": "code",
      "execution_count": 2,
      "metadata": {},
      "outputs": [],
      "source": [
        "a = jnp.asarray((1.0, 3.2, -1.5))"
      ],
      "id": "9e4a4fc6"
    },
    {
      "cell_type": "code",
      "execution_count": 3,
      "metadata": {},
      "outputs": [
        {
          "output_type": "stream",
          "name": "stdout",
          "text": [
            "[ 1.   3.2 -1.5]"
          ]
        }
      ],
      "source": [
        "print(a)"
      ],
      "id": "54820f30"
    },
    {
      "cell_type": "code",
      "execution_count": 4,
      "metadata": {},
      "outputs": [
        {
          "output_type": "stream",
          "name": "stdout",
          "text": [
            "2.7"
          ]
        }
      ],
      "source": [
        "print(jnp.sum(a))"
      ],
      "id": "0081e298"
    },
    {
      "cell_type": "code",
      "execution_count": 5,
      "metadata": {},
      "outputs": [
        {
          "output_type": "stream",
          "name": "stdout",
          "text": [
            "0.90000004"
          ]
        }
      ],
      "source": [
        "print(jnp.mean(a))"
      ],
      "id": "1977a7cb"
    },
    {
      "cell_type": "code",
      "execution_count": 6,
      "metadata": {},
      "outputs": [
        {
          "output_type": "stream",
          "name": "stdout",
          "text": [
            "13.490001"
          ]
        }
      ],
      "source": [
        "print(jnp.dot(a, a))"
      ],
      "id": "10e0befd"
    },
    {
      "cell_type": "markdown",
      "metadata": {},
      "source": [
        "However, the array object `a` is not a NumPy array:"
      ],
      "id": "df0e8527-7d22-444e-8965-d31685d6983a"
    },
    {
      "cell_type": "code",
      "execution_count": 7,
      "metadata": {},
      "outputs": [
        {
          "output_type": "display_data",
          "metadata": {},
          "data": {
            "text/plain": [
              "Array([ 1. ,  3.2, -1.5], dtype=float32)"
            ]
          }
        }
      ],
      "source": [
        "a"
      ],
      "id": "684c3093"
    },
    {
      "cell_type": "code",
      "execution_count": 8,
      "metadata": {},
      "outputs": [
        {
          "output_type": "display_data",
          "metadata": {},
          "data": {
            "text/plain": [
              "jaxlib.xla_extension.ArrayImpl"
            ]
          }
        }
      ],
      "source": [
        "type(a)"
      ],
      "id": "7cb3fe9a"
    },
    {
      "cell_type": "markdown",
      "metadata": {},
      "source": [
        "Even scalar-valued maps on arrays return JAX arrays."
      ],
      "id": "a96e76cf-6861-47a4-8f15-11e2e38ba40a"
    },
    {
      "cell_type": "code",
      "execution_count": 9,
      "metadata": {},
      "outputs": [
        {
          "output_type": "display_data",
          "metadata": {},
          "data": {
            "text/plain": [
              "Array(2.7, dtype=float32)"
            ]
          }
        }
      ],
      "source": [
        "jnp.sum(a)"
      ],
      "id": "6d431e49"
    },
    {
      "cell_type": "markdown",
      "metadata": {},
      "source": [
        "JAX arrays are also called “device arrays,” where term “device” refers\n",
        "to a hardware accelerator (GPU or TPU).\n",
        "\n",
        "(In the terminology of GPUs, the “host” is the machine that launches GPU\n",
        "operations, while the “device” is the GPU itself.)\n",
        "\n",
        "Operations on higher dimensional arrays are also similar to NumPy:"
      ],
      "id": "4ca37686-8408-4e4e-89fd-4c0b09752647"
    },
    {
      "cell_type": "code",
      "execution_count": 10,
      "metadata": {},
      "outputs": [
        {
          "output_type": "display_data",
          "metadata": {},
          "data": {
            "text/plain": [
              "Array([[1., 1.],\n",
              "       [1., 1.]], dtype=float32)"
            ]
          }
        }
      ],
      "source": [
        "A = jnp.ones((2, 2))\n",
        "B = jnp.identity(2)\n",
        "A @ B"
      ],
      "id": "ec35bcc1"
    },
    {
      "cell_type": "code",
      "execution_count": 11,
      "metadata": {},
      "outputs": [],
      "source": [
        "from jax.numpy import linalg"
      ],
      "id": "7c29f807"
    },
    {
      "cell_type": "code",
      "execution_count": 12,
      "metadata": {},
      "outputs": [
        {
          "output_type": "display_data",
          "metadata": {},
          "data": {
            "text/plain": [
              "Array([[1., 0.],\n",
              "       [0., 1.]], dtype=float32)"
            ]
          }
        }
      ],
      "source": [
        "linalg.inv(B)   # Inverse of identity is identity"
      ],
      "id": "910ed0ef"
    },
    {
      "cell_type": "code",
      "execution_count": 13,
      "metadata": {},
      "outputs": [
        {
          "output_type": "display_data",
          "metadata": {},
          "data": {
            "text/plain": [
              "EighResult(eigenvalues=Array([1., 1.], dtype=float32), eigenvectors=Array([[1., 0.],\n",
              "       [0., 1.]], dtype=float32))"
            ]
          }
        }
      ],
      "source": [
        "linalg.eigh(B)  # Computes eigenvalues and eigenvectors"
      ],
      "id": "539c5b07"
    },
    {
      "cell_type": "markdown",
      "metadata": {},
      "source": [
        "### Differences\n",
        "\n",
        "One difference between NumPy and JAX is that JAX currently uses 32 bit\n",
        "floats by default.\n",
        "\n",
        "This is standard for GPU computing and can lead to significant speed\n",
        "gains with small loss of precision.\n",
        "\n",
        "However, for some calculations precision matters. In these cases 64 bit\n",
        "floats can be enforced via the command"
      ],
      "id": "4ced47ab-45bf-4a03-90a3-9ab5c7919236"
    },
    {
      "cell_type": "code",
      "execution_count": 14,
      "metadata": {},
      "outputs": [],
      "source": [
        "jax.config.update(\"jax_enable_x64\", True)"
      ],
      "id": "4cd26769"
    },
    {
      "cell_type": "markdown",
      "metadata": {},
      "source": [
        "Let’s check this works:"
      ],
      "id": "64caadbf-5958-4b4a-9af0-41ce5aed2ab7"
    },
    {
      "cell_type": "code",
      "execution_count": 15,
      "metadata": {},
      "outputs": [
        {
          "output_type": "display_data",
          "metadata": {},
          "data": {
            "text/plain": [
              "Array([1., 1., 1.], dtype=float64)"
            ]
          }
        }
      ],
      "source": [
        "jnp.ones(3)"
      ],
      "id": "14219ba8"
    },
    {
      "cell_type": "markdown",
      "metadata": {},
      "source": [
        "As a NumPy replacement, a more significant difference is that arrays are\n",
        "treated as **immutable**.\n",
        "\n",
        "For example, with NumPy we can write"
      ],
      "id": "d42ccc9e-80de-46dc-a240-cc7fe1623a60"
    },
    {
      "cell_type": "code",
      "execution_count": 16,
      "metadata": {},
      "outputs": [
        {
          "output_type": "display_data",
          "metadata": {},
          "data": {
            "text/plain": [
              "array([0. , 0.5, 1. ])"
            ]
          }
        }
      ],
      "source": [
        "import numpy as np\n",
        "a = np.linspace(0, 1, 3)\n",
        "a"
      ],
      "id": "7ddcf559"
    },
    {
      "cell_type": "markdown",
      "metadata": {},
      "source": [
        "and then mutate the data in memory:"
      ],
      "id": "da60e9b2-0234-4d4e-bec9-5222b88c47d9"
    },
    {
      "cell_type": "code",
      "execution_count": 17,
      "metadata": {},
      "outputs": [
        {
          "output_type": "display_data",
          "metadata": {},
          "data": {
            "text/plain": [
              "array([1. , 0.5, 1. ])"
            ]
          }
        }
      ],
      "source": [
        "a[0] = 1\n",
        "a"
      ],
      "id": "34e6629f"
    },
    {
      "cell_type": "markdown",
      "metadata": {},
      "source": [
        "In JAX this fails:"
      ],
      "id": "abdc313a-2400-4ded-8dc7-ec9486492a46"
    },
    {
      "cell_type": "code",
      "execution_count": 18,
      "metadata": {},
      "outputs": [
        {
          "output_type": "display_data",
          "metadata": {},
          "data": {
            "text/plain": [
              "Array([0. , 0.5, 1. ], dtype=float64)"
            ]
          }
        }
      ],
      "source": [
        "a = jnp.linspace(0, 1, 3)\n",
        "a"
      ],
      "id": "28c03636"
    },
    {
      "cell_type": "code",
      "execution_count": 19,
      "metadata": {},
      "outputs": [],
      "source": [
        "# a[0] = 1"
      ],
      "id": "570cd52b"
    },
    {
      "cell_type": "markdown",
      "metadata": {},
      "source": [
        "In line with immutability, JAX does not support inplace operations:"
      ],
      "id": "4e266a82-b8c2-4eff-b3f7-0914da1c2ec1"
    },
    {
      "cell_type": "code",
      "execution_count": 20,
      "metadata": {},
      "outputs": [
        {
          "output_type": "display_data",
          "metadata": {},
          "data": {
            "text/plain": [
              "array([1, 2])"
            ]
          }
        }
      ],
      "source": [
        "a = np.array((2, 1))\n",
        "a.sort()\n",
        "a"
      ],
      "id": "9d258229"
    },
    {
      "cell_type": "code",
      "execution_count": 21,
      "metadata": {},
      "outputs": [
        {
          "output_type": "display_data",
          "metadata": {},
          "data": {
            "text/plain": [
              "(Array([2, 1], dtype=int64), Array([1, 2], dtype=int64))"
            ]
          }
        }
      ],
      "source": [
        "a = jnp.array((2, 1))\n",
        "a_new = a.sort()\n",
        "a, a_new"
      ],
      "id": "b22c6894"
    },
    {
      "cell_type": "markdown",
      "metadata": {},
      "source": [
        "The designers of JAX chose to make arrays immutable because JAX uses a\n",
        "functional programming style. More on this below.\n",
        "\n",
        "Note that, while mutation is discouraged, it is in fact possible with\n",
        "`at`, as in"
      ],
      "id": "a9aa1655-693f-40da-9be0-dd7b733a81b6"
    },
    {
      "cell_type": "code",
      "execution_count": 22,
      "metadata": {},
      "outputs": [
        {
          "output_type": "display_data",
          "metadata": {},
          "data": {
            "text/plain": [
              "108714650308848"
            ]
          }
        }
      ],
      "source": [
        "a = jnp.linspace(0, 1, 3)\n",
        "id(a)"
      ],
      "id": "141198d8"
    },
    {
      "cell_type": "code",
      "execution_count": 23,
      "metadata": {},
      "outputs": [
        {
          "output_type": "display_data",
          "metadata": {},
          "data": {
            "text/plain": [
              "Array([0. , 0.5, 1. ], dtype=float64)"
            ]
          }
        }
      ],
      "source": [
        "a"
      ],
      "id": "1a755bd6"
    },
    {
      "cell_type": "code",
      "execution_count": 24,
      "metadata": {},
      "outputs": [
        {
          "output_type": "display_data",
          "metadata": {},
          "data": {
            "text/plain": [
              "Array([1. , 0.5, 1. ], dtype=float64)"
            ]
          }
        }
      ],
      "source": [
        "a.at[0].set(1)"
      ],
      "id": "4da141ed"
    },
    {
      "cell_type": "markdown",
      "metadata": {},
      "source": [
        "We can check that the array is mutated by verifying its identity is\n",
        "unchanged:"
      ],
      "id": "64839921-653e-4be1-8403-2110a385fa67"
    },
    {
      "cell_type": "code",
      "execution_count": 25,
      "metadata": {},
      "outputs": [
        {
          "output_type": "display_data",
          "metadata": {},
          "data": {
            "text/plain": [
              "108714650308848"
            ]
          }
        }
      ],
      "source": [
        "id(a)"
      ],
      "id": "e61e7eb3"
    },
    {
      "cell_type": "markdown",
      "metadata": {},
      "source": [
        "## Random Numbers\n",
        "\n",
        "Random numbers are also a bit different in JAX, relative to NumPy.\n",
        "Typically, in JAX, the state of the random number generator needs to be\n",
        "controlled explicitly."
      ],
      "id": "151a914d-49e2-41c5-b6fe-0ee032b6409e"
    },
    {
      "cell_type": "code",
      "execution_count": 26,
      "metadata": {},
      "outputs": [],
      "source": [
        "import jax.random as random"
      ],
      "id": "fcac0ac3"
    },
    {
      "cell_type": "markdown",
      "metadata": {},
      "source": [
        "First we produce a key, which seeds the random number generator."
      ],
      "id": "0243ae9b-abae-4d71-b9eb-1a2af145effb"
    },
    {
      "cell_type": "code",
      "execution_count": 27,
      "metadata": {},
      "outputs": [],
      "source": [
        "key = random.PRNGKey(1)"
      ],
      "id": "32b30df2"
    },
    {
      "cell_type": "code",
      "execution_count": 28,
      "metadata": {},
      "outputs": [
        {
          "output_type": "display_data",
          "metadata": {},
          "data": {
            "text/plain": [
              "jaxlib.xla_extension.ArrayImpl"
            ]
          }
        }
      ],
      "source": [
        "type(key)"
      ],
      "id": "7ad06eae"
    },
    {
      "cell_type": "code",
      "execution_count": 29,
      "metadata": {},
      "outputs": [
        {
          "output_type": "stream",
          "name": "stdout",
          "text": [
            "[0 1]"
          ]
        }
      ],
      "source": [
        "print(key)"
      ],
      "id": "4fcb63d7"
    },
    {
      "cell_type": "markdown",
      "metadata": {},
      "source": [
        "Now we can use the key to generate some random numbers:"
      ],
      "id": "252f0e63-94fd-4c00-8520-40312fd7ee90"
    },
    {
      "cell_type": "code",
      "execution_count": 30,
      "metadata": {},
      "outputs": [
        {
          "output_type": "display_data",
          "metadata": {},
          "data": {
            "text/plain": [
              "Array([[-1.35247421, -0.2712502 , -0.02920518],\n",
              "       [ 0.34706456,  0.5464053 , -1.52325812],\n",
              "       [ 0.41677264, -0.59710138, -0.5678208 ]], dtype=float64)"
            ]
          }
        }
      ],
      "source": [
        "x = random.normal(key, (3, 3))\n",
        "x"
      ],
      "id": "aaa5f223"
    },
    {
      "cell_type": "markdown",
      "metadata": {},
      "source": [
        "If we use the same key again, we initialize at the same seed, so the\n",
        "random numbers are the same:"
      ],
      "id": "a3c70c38-1568-4327-9992-ada4d2239972"
    },
    {
      "cell_type": "code",
      "execution_count": 31,
      "metadata": {},
      "outputs": [
        {
          "output_type": "display_data",
          "metadata": {},
          "data": {
            "text/plain": [
              "Array([[-1.35247421, -0.2712502 , -0.02920518],\n",
              "       [ 0.34706456,  0.5464053 , -1.52325812],\n",
              "       [ 0.41677264, -0.59710138, -0.5678208 ]], dtype=float64)"
            ]
          }
        }
      ],
      "source": [
        "random.normal(key, (3, 3))"
      ],
      "id": "24a71c89"
    },
    {
      "cell_type": "markdown",
      "metadata": {},
      "source": [
        "To produce a (quasi-) independent draw, best practice is to “split” the\n",
        "existing key:"
      ],
      "id": "8d17e7e1-8f5e-4a90-8f85-2985113ada95"
    },
    {
      "cell_type": "code",
      "execution_count": 32,
      "metadata": {},
      "outputs": [],
      "source": [
        "key, subkey = random.split(key)"
      ],
      "id": "8ba0cd14"
    },
    {
      "cell_type": "code",
      "execution_count": 33,
      "metadata": {},
      "outputs": [
        {
          "output_type": "display_data",
          "metadata": {},
          "data": {
            "text/plain": [
              "Array([[ 1.85374374, -0.37683949, -0.61276867],\n",
              "       [-1.91829718,  0.27219409,  0.54922246],\n",
              "       [ 0.40451442, -0.58726839, -0.63967753]], dtype=float64)"
            ]
          }
        }
      ],
      "source": [
        "random.normal(key, (3, 3))"
      ],
      "id": "fa17bb18"
    },
    {
      "cell_type": "code",
      "execution_count": 34,
      "metadata": {},
      "outputs": [
        {
          "output_type": "display_data",
          "metadata": {},
          "data": {
            "text/plain": [
              "Array([[-0.4300635 ,  0.22778552,  0.57241269],\n",
              "       [-0.15969178,  0.46719192,  0.21165091],\n",
              "       [ 0.84118631,  1.18671326, -0.16607783]], dtype=float64)"
            ]
          }
        }
      ],
      "source": [
        "random.normal(subkey, (3, 3))"
      ],
      "id": "76183a00"
    },
    {
      "cell_type": "markdown",
      "metadata": {},
      "source": [
        "The function below produces `k` (quasi-) independent random `n x n`\n",
        "matrices using this procedure."
      ],
      "id": "20325323-3796-481f-98c8-55de606c2154"
    },
    {
      "cell_type": "code",
      "execution_count": 35,
      "metadata": {},
      "outputs": [],
      "source": [
        "def gen_random_matrices(key, n, k):\n",
        "    matrices = []\n",
        "    for _ in range(k):\n",
        "        key, subkey = random.split(key)\n",
        "        matrices.append(random.uniform(subkey, (n, n)))\n",
        "    return matrices"
      ],
      "id": "a3bd28b9"
    },
    {
      "cell_type": "code",
      "execution_count": 36,
      "metadata": {},
      "outputs": [
        {
          "output_type": "stream",
          "name": "stdout",
          "text": [
            "[[0.97440813 0.3838544 ]\n",
            " [0.9790686  0.99981046]]\n",
            "[[0.3473302  0.17157842]\n",
            " [0.89346686 0.01403153]]"
          ]
        }
      ],
      "source": [
        "matrices = gen_random_matrices(key, 2, 2)\n",
        "for A in matrices:\n",
        "    print(A)"
      ],
      "id": "bca8c021"
    },
    {
      "cell_type": "markdown",
      "metadata": {},
      "source": [
        "One point to remember is that JAX expects tuples to describe array\n",
        "shapes, even for flat arrays. Hence, to get a one-dimensional array of\n",
        "normal random draws we use `(len, )` for the shape, as in"
      ],
      "id": "70f8e3c6-da04-404e-b863-3c219a65aa6b"
    },
    {
      "cell_type": "code",
      "execution_count": 37,
      "metadata": {},
      "outputs": [
        {
          "output_type": "display_data",
          "metadata": {},
          "data": {
            "text/plain": [
              "Array([-0.64377279,  0.76961857, -0.29809604,  0.47858776, -2.00591299],      dtype=float64)"
            ]
          }
        }
      ],
      "source": [
        "random.normal(key, (5, ))"
      ],
      "id": "9aad8bb0"
    },
    {
      "cell_type": "markdown",
      "metadata": {},
      "source": [
        "## JIT compilation\n",
        "\n",
        "The JAX just-in-time (JIT) compiler accelerates logic within functions\n",
        "by fusing linear algebra operations into a single optimized kernel that\n",
        "the host can launch on the GPU / TPU (or CPU if no accelerator is\n",
        "detected).\n",
        "\n",
        "### A first example\n",
        "\n",
        "To see the JIT compiler in action, consider the following function."
      ],
      "id": "cd03e7b9-0e04-4ec7-ae04-4aeac76df7b1"
    },
    {
      "cell_type": "code",
      "execution_count": 38,
      "metadata": {},
      "outputs": [],
      "source": [
        "def f(x):\n",
        "    a = 3*x + jnp.sin(x) + jnp.cos(x**2) - jnp.cos(2*x) - x**2 * 0.4 * x**1.5\n",
        "    return jnp.sum(a)"
      ],
      "id": "8cc788b6"
    },
    {
      "cell_type": "markdown",
      "metadata": {},
      "source": [
        "Let’s build an array to call the function on."
      ],
      "id": "8939b6bb-08f4-4aaa-9e15-3e9879559e9f"
    },
    {
      "cell_type": "code",
      "execution_count": 39,
      "metadata": {},
      "outputs": [],
      "source": [
        "n = 50_000_000\n",
        "x = jnp.ones(n)"
      ],
      "id": "0d55c5e1"
    },
    {
      "cell_type": "markdown",
      "metadata": {},
      "source": [
        "How long does the function take to execute?"
      ],
      "id": "0511ee4f-9f8c-4894-8bf8-882f2e53f73f"
    },
    {
      "cell_type": "code",
      "execution_count": 40,
      "metadata": {},
      "outputs": [
        {
          "output_type": "stream",
          "name": "stdout",
          "text": [
            "CPU times: user 1.75 s, sys: 1.74 s, total: 3.49 s\n",
            "Wall time: 1.02 s"
          ]
        },
        {
          "output_type": "display_data",
          "metadata": {},
          "data": {
            "text/plain": [
              "Array(2.19896006e+08, dtype=float64)"
            ]
          }
        }
      ],
      "source": [
        "%time f(x).block_until_ready()"
      ],
      "id": "f5881877"
    },
    {
      "cell_type": "markdown",
      "metadata": {},
      "source": [
        "``` {note}\n",
        "Here, in order to measure actual speed, we use the `block_until_ready()` method \n",
        "to hold the interpreter until the results of the computation are returned from\n",
        "the device. This is necessary because JAX uses asynchronous dispatch, which\n",
        "allows the Python interpreter to run ahead of GPU computations.\n",
        "```\n",
        "\n",
        "The code doesn’t run as fast as we might hope, given that it’s running\n",
        "on a GPU.\n",
        "\n",
        "But if we run it a second time it becomes much faster:"
      ],
      "id": "b04950da-1380-4211-af80-cb2b3e1339d5"
    },
    {
      "cell_type": "code",
      "execution_count": 41,
      "metadata": {},
      "outputs": [
        {
          "output_type": "stream",
          "name": "stdout",
          "text": [
            "CPU times: user 1.63 s, sys: 1.75 s, total: 3.38 s\n",
            "Wall time: 909 ms"
          ]
        },
        {
          "output_type": "display_data",
          "metadata": {},
          "data": {
            "text/plain": [
              "Array(2.19896006e+08, dtype=float64)"
            ]
          }
        }
      ],
      "source": [
        "%time f(x).block_until_ready()"
      ],
      "id": "cd730d16"
    },
    {
      "cell_type": "markdown",
      "metadata": {},
      "source": [
        "This is because the built in functions like `jnp.cos` are JIT compiled\n",
        "and the first run includes compile time.\n",
        "\n",
        "Why would JAX want to JIT-compile built in functions like `jnp.cos`\n",
        "instead of just providing pre-compiled versions, like NumPy?\n",
        "\n",
        "The reason is that the JIT compiler can specialize on the *size* of the\n",
        "array being used, which is helpful for parallelization.\n",
        "\n",
        "For example, in running the code above, the JIT compiler produced a\n",
        "version of `jnp.cos` that is specialized to floating point arrays of\n",
        "size `n = 50_000_000`.\n",
        "\n",
        "We can check this by calling `f` with a new array of different size."
      ],
      "id": "8e0a6109-81a1-4507-b26d-9f7a3f765edf"
    },
    {
      "cell_type": "code",
      "execution_count": 42,
      "metadata": {},
      "outputs": [],
      "source": [
        "m = 50_000_001\n",
        "y = jnp.ones(m)"
      ],
      "id": "1336b4c3"
    },
    {
      "cell_type": "code",
      "execution_count": 43,
      "metadata": {},
      "outputs": [
        {
          "output_type": "stream",
          "name": "stdout",
          "text": [
            "CPU times: user 1.69 s, sys: 1.76 s, total: 3.45 s\n",
            "Wall time: 1.01 s"
          ]
        },
        {
          "output_type": "display_data",
          "metadata": {},
          "data": {
            "text/plain": [
              "Array(2.19896011e+08, dtype=float64)"
            ]
          }
        }
      ],
      "source": [
        "%time f(y).block_until_ready()"
      ],
      "id": "bac3b6da"
    },
    {
      "cell_type": "markdown",
      "metadata": {},
      "source": [
        "Notice that the execution time increases, because now new versions of\n",
        "the built-ins like `jnp.cos` are being compiled, specialized to the new\n",
        "array size.\n",
        "\n",
        "If we run again, the code is dispatched to the correct compiled version\n",
        "and we get faster execution."
      ],
      "id": "6a4ee741-5059-4224-b27b-6d287842ae8f"
    },
    {
      "cell_type": "code",
      "execution_count": 44,
      "metadata": {},
      "outputs": [
        {
          "output_type": "stream",
          "name": "stdout",
          "text": [
            "CPU times: user 1.57 s, sys: 1.7 s, total: 3.27 s\n",
            "Wall time: 836 ms"
          ]
        },
        {
          "output_type": "display_data",
          "metadata": {},
          "data": {
            "text/plain": [
              "Array(2.19896011e+08, dtype=float64)"
            ]
          }
        }
      ],
      "source": [
        "%time f(y).block_until_ready()"
      ],
      "id": "cd94d46f"
    },
    {
      "cell_type": "markdown",
      "metadata": {},
      "source": [
        "The compiled versions for the previous array size are still available in\n",
        "memory too, and the following call is dispatched to the correct compiled\n",
        "code."
      ],
      "id": "3741ab84-74cd-4e85-8100-66506c0b42b5"
    },
    {
      "cell_type": "code",
      "execution_count": 45,
      "metadata": {},
      "outputs": [
        {
          "output_type": "stream",
          "name": "stdout",
          "text": [
            "CPU times: user 1.65 s, sys: 1.68 s, total: 3.34 s\n",
            "Wall time: 885 ms"
          ]
        },
        {
          "output_type": "display_data",
          "metadata": {},
          "data": {
            "text/plain": [
              "Array(2.19896006e+08, dtype=float64)"
            ]
          }
        }
      ],
      "source": [
        "%time f(x).block_until_ready()"
      ],
      "id": "33f437a2"
    },
    {
      "cell_type": "markdown",
      "metadata": {},
      "source": [
        "### Compiling the outer function\n",
        "\n",
        "We can do even better if we manually JIT-compile the outer function."
      ],
      "id": "2713cd15-0d65-4ab7-ab36-b126f539b9de"
    },
    {
      "cell_type": "code",
      "execution_count": 46,
      "metadata": {},
      "outputs": [],
      "source": [
        "f_jit = jax.jit(f)   # target for JIT compilation"
      ],
      "id": "750f6ee9"
    },
    {
      "cell_type": "markdown",
      "metadata": {},
      "source": [
        "Let’s run once to compile it:"
      ],
      "id": "5071eb32-1369-47bc-bcf9-407a6c2f7d23"
    },
    {
      "cell_type": "code",
      "execution_count": 47,
      "metadata": {},
      "outputs": [
        {
          "output_type": "display_data",
          "metadata": {},
          "data": {
            "text/plain": [
              "Array(2.19896006e+08, dtype=float64)"
            ]
          }
        }
      ],
      "source": [
        "f_jit(x)"
      ],
      "id": "46017ed7"
    },
    {
      "cell_type": "markdown",
      "metadata": {},
      "source": [
        "And now let’s time it."
      ],
      "id": "cc759f37-9c5c-42c5-9c99-10f811a7abff"
    },
    {
      "cell_type": "code",
      "execution_count": 48,
      "metadata": {},
      "outputs": [
        {
          "output_type": "stream",
          "name": "stdout",
          "text": [
            "CPU times: user 1.16 s, sys: 107 ms, total: 1.27 s\n",
            "Wall time: 285 ms"
          ]
        },
        {
          "output_type": "display_data",
          "metadata": {},
          "data": {
            "text/plain": [
              "Array(2.19896006e+08, dtype=float64)"
            ]
          }
        }
      ],
      "source": [
        "%time f_jit(x).block_until_ready()"
      ],
      "id": "4f5eacef"
    },
    {
      "cell_type": "markdown",
      "metadata": {},
      "source": [
        "Note the speed gain.\n",
        "\n",
        "This is because the array operations are fused and no intermediate\n",
        "arrays are created.\n",
        "\n",
        "Incidentally, a more common syntax when targetting a function for the\n",
        "JIT compiler is"
      ],
      "id": "8074a947-f0e0-4029-979d-47f94906aba9"
    },
    {
      "cell_type": "code",
      "execution_count": 49,
      "metadata": {},
      "outputs": [],
      "source": [
        "@jax.jit\n",
        "def f(x):\n",
        "    a = 3*x + jnp.sin(x) + jnp.cos(x**2) - jnp.cos(2*x) - x**2 * 0.4 * x**1.5\n",
        "    return jnp.sum(a)"
      ],
      "id": "7fcf55da"
    },
    {
      "cell_type": "markdown",
      "metadata": {},
      "source": [
        "## Functional Programming\n",
        "\n",
        "From JAX’s documentation:\n",
        "\n",
        "*When walking about the countryside of Italy, the people will not\n",
        "hesitate to tell you that JAX has “una anima di pura programmazione\n",
        "funzionale”.*\n",
        "\n",
        "In other words, JAX assumes a functional programming style.\n",
        "\n",
        "The major implication is that JAX functions should be pure.\n",
        "\n",
        "A pure function will always return the same result if invoked with the\n",
        "same inputs.\n",
        "\n",
        "In particular, a pure function has\n",
        "\n",
        "-   no dependence on global variables and\n",
        "-   no side effects\n",
        "\n",
        "JAX will not usually throw errors when compiling impure functions but\n",
        "execution becomes unpredictable.\n",
        "\n",
        "Here’s an illustration of this fact, using global variables:"
      ],
      "id": "32929862-cac3-49aa-9f77-a247822f24c8"
    },
    {
      "cell_type": "code",
      "execution_count": 50,
      "metadata": {},
      "outputs": [],
      "source": [
        "a = 1  # global\n",
        "\n",
        "@jax.jit\n",
        "def f(x):\n",
        "    return a + x"
      ],
      "id": "3b08f712"
    },
    {
      "cell_type": "code",
      "execution_count": 51,
      "metadata": {},
      "outputs": [],
      "source": [
        "x = jnp.ones(2)"
      ],
      "id": "0bc15688"
    },
    {
      "cell_type": "code",
      "execution_count": 52,
      "metadata": {},
      "outputs": [
        {
          "output_type": "display_data",
          "metadata": {},
          "data": {
            "text/plain": [
              "Array([2., 2.], dtype=float64)"
            ]
          }
        }
      ],
      "source": [
        "f(x)"
      ],
      "id": "d8c3ad37"
    },
    {
      "cell_type": "markdown",
      "metadata": {},
      "source": [
        "In the code above, the global value `a=1` is fused into the jitted\n",
        "function.\n",
        "\n",
        "Even if we change `a`, the output of `f` will not be affected — as long\n",
        "as the same compiled version is called."
      ],
      "id": "894f752f-268e-4a89-996b-93994bfe3660"
    },
    {
      "cell_type": "code",
      "execution_count": 53,
      "metadata": {},
      "outputs": [],
      "source": [
        "a = 42"
      ],
      "id": "da8b8b47"
    },
    {
      "cell_type": "code",
      "execution_count": 54,
      "metadata": {},
      "outputs": [
        {
          "output_type": "display_data",
          "metadata": {},
          "data": {
            "text/plain": [
              "Array([2., 2.], dtype=float64)"
            ]
          }
        }
      ],
      "source": [
        "f(x)"
      ],
      "id": "172a1913"
    },
    {
      "cell_type": "markdown",
      "metadata": {},
      "source": [
        "Changing the dimension of the input triggers a fresh compilation of the\n",
        "function, at which time the change in the value of `a` takes effect:"
      ],
      "id": "01ba344a-e6c0-4a04-9e8b-b18dc1f1e01e"
    },
    {
      "cell_type": "code",
      "execution_count": 55,
      "metadata": {},
      "outputs": [],
      "source": [
        "x = jnp.ones(3)"
      ],
      "id": "b393397a"
    },
    {
      "cell_type": "code",
      "execution_count": 56,
      "metadata": {},
      "outputs": [
        {
          "output_type": "display_data",
          "metadata": {},
          "data": {
            "text/plain": [
              "Array([43., 43., 43.], dtype=float64)"
            ]
          }
        }
      ],
      "source": [
        "f(x)"
      ],
      "id": "dea1e55b"
    },
    {
      "cell_type": "markdown",
      "metadata": {},
      "source": [
        "Moral of the story: write pure functions when using JAX!\n",
        "\n",
        "## Gradients\n",
        "\n",
        "JAX can use automatic differentiation to compute gradients.\n",
        "\n",
        "This can be extremely useful for optimization and solving nonlinear\n",
        "systems.\n",
        "\n",
        "We will see significant applications later in this lecture series.\n",
        "\n",
        "For now, here’s a very simple illustration involving the function"
      ],
      "id": "77fed531-79eb-4862-9b06-21649f6d5504"
    },
    {
      "cell_type": "code",
      "execution_count": 57,
      "metadata": {},
      "outputs": [],
      "source": [
        "def f(x):\n",
        "    return (x**2) / 2"
      ],
      "id": "91418040"
    },
    {
      "cell_type": "markdown",
      "metadata": {},
      "source": [
        "Let’s take the derivative:"
      ],
      "id": "4905bb59-187c-455f-8f97-bcb9a90074d7"
    },
    {
      "cell_type": "code",
      "execution_count": 58,
      "metadata": {},
      "outputs": [],
      "source": [
        "f_prime = jax.grad(f)"
      ],
      "id": "7500ff39"
    },
    {
      "cell_type": "code",
      "execution_count": 59,
      "metadata": {},
      "outputs": [
        {
          "output_type": "display_data",
          "metadata": {},
          "data": {
            "text/plain": [
              "Array(10., dtype=float64, weak_type=True)"
            ]
          }
        }
      ],
      "source": [
        "f_prime(10.0)"
      ],
      "id": "debf5ca6"
    },
    {
      "cell_type": "markdown",
      "metadata": {},
      "source": [
        "Let’s plot the function and derivative, noting that $f'(x) = x$."
      ],
      "id": "19b54cf1-0c91-4835-99dd-7ace5125c8fa"
    },
    {
      "cell_type": "code",
      "execution_count": 60,
      "metadata": {},
      "outputs": [
        {
          "output_type": "display_data",
          "metadata": {},
          "data": {
            "image/png": "[encoded data removed]"
          }
        }
      ],
      "source": [
        "import matplotlib.pyplot as plt\n",
        "\n",
        "fig, ax = plt.subplots()\n",
        "x_grid = jnp.linspace(-4, 4, 200)\n",
        "ax.plot(x_grid, f(x_grid), label=\"$f$\")\n",
        "ax.plot(x_grid, [f_prime(x) for x in x_grid], label=\"$f'$\")\n",
        "ax.legend(loc='upper center')\n",
        "plt.show()"
      ],
      "id": "a6fefd81"
    },
    {
      "cell_type": "markdown",
      "metadata": {},
      "source": [
        "We defer further exploration of automatic differentiation with JAX until\n",
        "{doc}`autodiff`.\n",
        "\n",
        "## Writing vectorized code\n",
        "\n",
        "Writing fast JAX code requires shifting repetitive tasks from loops to\n",
        "array processing operations, so that the JAX compiler can easily\n",
        "understand the whole operation and generate more efficient machine code.\n",
        "\n",
        "This procedure is called **vectorization** or **array programming**, and\n",
        "will be familiar to anyone who has used NumPy or MATLAB.\n",
        "\n",
        "In most ways, vectorization is the same in JAX as it is in NumPy.\n",
        "\n",
        "But there are also some differences, which we highlight here.\n",
        "\n",
        "As a running example, consider the function\n",
        "\n",
        "$$\n",
        "    f(x,y) = \\frac{\\cos(x^2 + y^2)}{1 + x^2 + y^2}\n",
        "$$\n",
        "\n",
        "Suppose that we want to evaluate this function on a square grid of $x$\n",
        "and $y$ points and then plot it.\n",
        "\n",
        "To clarify, here is the slow `for` loop version."
      ],
      "id": "548c4a51-6d53-4e10-8778-1388343228e5"
    },
    {
      "cell_type": "code",
      "execution_count": 61,
      "metadata": {},
      "outputs": [],
      "source": [
        "@jax.jit\n",
        "def f(x, y):\n",
        "    return jnp.cos(x**2 + y**2) / (1 + x**2 + y**2)\n",
        "\n",
        "n = 80\n",
        "x = jnp.linspace(-2, 2, n)\n",
        "y = x\n",
        "\n",
        "z_loops = np.empty((n, n))"
      ],
      "id": "7d2a3d2e"
    },
    {
      "cell_type": "code",
      "execution_count": 62,
      "metadata": {},
      "outputs": [
        {
          "output_type": "stream",
          "name": "stdout",
          "text": [
            "CPU times: user 604 ms, sys: 944 μs, total: 605 ms\n",
            "Wall time: 604 ms"
          ]
        }
      ],
      "source": [
        "%%time\n",
        "for i in range(n):\n",
        "    for j in range(n):\n",
        "        z_loops[i, j] = f(x[i], y[j])"
      ],
      "id": "4fe49b0a"
    },
    {
      "cell_type": "markdown",
      "metadata": {},
      "source": [
        "Even for this very small grid, the run time is extremely slow.\n",
        "\n",
        "(Notice that we used a NumPy array for `z_loops` because we wanted to\n",
        "write to it.)\n",
        "\n",
        "  \n",
        "\n",
        "OK, so how can we do the same operation in vectorized form?\n",
        "\n",
        "If you are new to vectorization, you might guess that we can simply\n",
        "write"
      ],
      "id": "faa7ffb9-03da-4014-ad75-8f060e700d27"
    },
    {
      "cell_type": "code",
      "execution_count": 63,
      "metadata": {},
      "outputs": [],
      "source": [
        "z_bad = f(x, y)"
      ],
      "id": "db3a870c"
    },
    {
      "cell_type": "markdown",
      "metadata": {},
      "source": [
        "But this gives us the wrong result because JAX doesn’t understand the\n",
        "nested for loop."
      ],
      "id": "67853188-6c63-47e1-a31d-8e29e7339db5"
    },
    {
      "cell_type": "code",
      "execution_count": 64,
      "metadata": {},
      "outputs": [
        {
          "output_type": "display_data",
          "metadata": {},
          "data": {
            "text/plain": [
              "(80,)"
            ]
          }
        }
      ],
      "source": [
        "z_bad.shape"
      ],
      "id": "4b6d8742"
    },
    {
      "cell_type": "markdown",
      "metadata": {},
      "source": [
        "Here is what we actually wanted:"
      ],
      "id": "2e0ff241-17ca-4b0f-8132-6f35c14b7d33"
    },
    {
      "cell_type": "code",
      "execution_count": 65,
      "metadata": {},
      "outputs": [
        {
          "output_type": "display_data",
          "metadata": {},
          "data": {
            "text/plain": [
              "(80, 80)"
            ]
          }
        }
      ],
      "source": [
        "z_loops.shape"
      ],
      "id": "fd5f8ea0"
    },
    {
      "cell_type": "markdown",
      "metadata": {},
      "source": [
        "To get the right shape and the correct nested for loop calculation, we\n",
        "can use a `meshgrid` operation designed for this purpose:"
      ],
      "id": "a31df5d6-4181-4b02-95c4-83b319d7c1e1"
    },
    {
      "cell_type": "code",
      "execution_count": 66,
      "metadata": {},
      "outputs": [],
      "source": [
        "x_mesh, y_mesh = jnp.meshgrid(x, y)"
      ],
      "id": "43dba5d0"
    },
    {
      "cell_type": "markdown",
      "metadata": {},
      "source": [
        "Now we get what we want and the execution time is very fast."
      ],
      "id": "cf8ab53a-be87-4dc3-b7b0-6d10d3d53c0d"
    },
    {
      "cell_type": "code",
      "execution_count": 67,
      "metadata": {},
      "outputs": [
        {
          "output_type": "stream",
          "name": "stdout",
          "text": [
            "CPU times: user 15.1 ms, sys: 0 ns, total: 15.1 ms\n",
            "Wall time: 14.6 ms"
          ]
        }
      ],
      "source": [
        "%%time\n",
        "z_mesh = f(x_mesh, y_mesh).block_until_ready()"
      ],
      "id": "5c6b222b"
    },
    {
      "cell_type": "markdown",
      "metadata": {},
      "source": [
        "Let’s run again to eliminate compile time."
      ],
      "id": "98115a58-2d5a-40c0-ac31-cc3d384e32e3"
    },
    {
      "cell_type": "code",
      "execution_count": 68,
      "metadata": {},
      "outputs": [
        {
          "output_type": "stream",
          "name": "stdout",
          "text": [
            "CPU times: user 256 μs, sys: 0 ns, total: 256 μs\n",
            "Wall time: 151 μs"
          ]
        }
      ],
      "source": [
        "%%time\n",
        "z_mesh = f(x_mesh, y_mesh).block_until_ready()"
      ],
      "id": "762c2228"
    },
    {
      "cell_type": "markdown",
      "metadata": {},
      "source": [
        "Let’s confirm that we got the right answer."
      ],
      "id": "cbf5292f-1e7a-4458-8d4d-727cdca489ee"
    },
    {
      "cell_type": "code",
      "execution_count": 69,
      "metadata": {},
      "outputs": [
        {
          "output_type": "display_data",
          "metadata": {},
          "data": {
            "text/plain": [
              "Array(True, dtype=bool)"
            ]
          }
        }
      ],
      "source": [
        "jnp.allclose(z_mesh, z_loops)"
      ],
      "id": "95e7a4ae"
    },
    {
      "cell_type": "markdown",
      "metadata": {},
      "source": [
        "Now we can set up a serious grid and run the same calculation (on the\n",
        "larger grid) in a short amount of time."
      ],
      "id": "77ef5c8b-fcef-49da-abbe-cb7ecdca02ff"
    },
    {
      "cell_type": "code",
      "execution_count": 70,
      "metadata": {},
      "outputs": [],
      "source": [
        "n = 6000\n",
        "x = jnp.linspace(-2, 2, n)\n",
        "y = x\n",
        "x_mesh, y_mesh = jnp.meshgrid(x, y)"
      ],
      "id": "4e90ea81"
    },
    {
      "cell_type": "code",
      "execution_count": 71,
      "metadata": {},
      "outputs": [
        {
          "output_type": "stream",
          "name": "stdout",
          "text": [
            "CPU times: user 254 ms, sys: 75.4 ms, total: 329 ms\n",
            "Wall time: 85.8 ms"
          ]
        }
      ],
      "source": [
        "%%time\n",
        "z_mesh = f(x_mesh, y_mesh).block_until_ready()"
      ],
      "id": "9bcb34c9"
    },
    {
      "cell_type": "markdown",
      "metadata": {},
      "source": [
        "Let’s run again to get rid of compile time."
      ],
      "id": "420a626d-aff3-4e81-8ebe-fe926d883ed9"
    },
    {
      "cell_type": "code",
      "execution_count": 72,
      "metadata": {},
      "outputs": [
        {
          "output_type": "stream",
          "name": "stdout",
          "text": [
            "CPU times: user 235 ms, sys: 86.6 ms, total: 321 ms\n",
            "Wall time: 80.3 ms"
          ]
        }
      ],
      "source": [
        "%%time\n",
        "z_mesh = f(x_mesh, y_mesh).block_until_ready()"
      ],
      "id": "95582df8"
    },
    {
      "cell_type": "markdown",
      "metadata": {},
      "source": [
        "But there is one problem here: the mesh grids use a lot of memory."
      ],
      "id": "cbdbaa60-e8ff-477d-8d90-5e366c39c67b"
    },
    {
      "cell_type": "code",
      "execution_count": 73,
      "metadata": {},
      "outputs": [
        {
          "output_type": "display_data",
          "metadata": {},
          "data": {
            "text/plain": [
              "576000000"
            ]
          }
        }
      ],
      "source": [
        "x_mesh.nbytes + y_mesh.nbytes"
      ],
      "id": "df11369f"
    },
    {
      "cell_type": "markdown",
      "metadata": {},
      "source": [
        "By comparison, the flat array `x` is just"
      ],
      "id": "17e2668d-356c-4b46-ab5a-94de6857da16"
    },
    {
      "cell_type": "code",
      "execution_count": 74,
      "metadata": {},
      "outputs": [
        {
          "output_type": "display_data",
          "metadata": {},
          "data": {
            "text/plain": [
              "48000"
            ]
          }
        }
      ],
      "source": [
        "x.nbytes  # and y is just a pointer to x"
      ],
      "id": "d4aabc72"
    },
    {
      "cell_type": "markdown",
      "metadata": {},
      "source": [
        "This extra memory usage can be a big problem in actual research\n",
        "calculations.\n",
        "\n",
        "So let’s try a different approach using\n",
        "[jax.vmap](https://jax.readthedocs.io/en/latest/_autosummary/jax.vmap.html)\n",
        "\n",
        "  \n",
        "\n",
        "First we vectorize `f` in `y`."
      ],
      "id": "75eb69f3-3203-4115-b525-08db6e59b2f7"
    },
    {
      "cell_type": "code",
      "execution_count": 75,
      "metadata": {},
      "outputs": [],
      "source": [
        "f_vec_y = jax.vmap(f, in_axes=(None, 0))  "
      ],
      "id": "5bbf2440"
    },
    {
      "cell_type": "markdown",
      "metadata": {},
      "source": [
        "In the line above, `(None, 0)` indicates that we are vectorizing in the\n",
        "second argument, which is `y`.\n",
        "\n",
        "Next, we vectorize in the first argument, which is `x`."
      ],
      "id": "8424743e-8879-44ec-a1e2-cd88a3c9bbb8"
    },
    {
      "cell_type": "code",
      "execution_count": 76,
      "metadata": {},
      "outputs": [],
      "source": [
        "f_vec = jax.vmap(f_vec_y, in_axes=(0, None))"
      ],
      "id": "ae87ed3b"
    },
    {
      "cell_type": "markdown",
      "metadata": {},
      "source": [
        "With this construction, we can now call the function $f$ on flat (low\n",
        "memory) arrays."
      ],
      "id": "1b759f31-4100-4d66-b634-bc42994054b2"
    },
    {
      "cell_type": "code",
      "execution_count": 77,
      "metadata": {},
      "outputs": [
        {
          "output_type": "stream",
          "name": "stdout",
          "text": [
            "CPU times: user 250 ms, sys: 71.8 ms, total: 321 ms\n",
            "Wall time: 85.6 ms"
          ]
        }
      ],
      "source": [
        "%%time\n",
        "z_vmap = f_vec(x, y).block_until_ready()"
      ],
      "id": "0d02a7cf"
    },
    {
      "cell_type": "markdown",
      "metadata": {},
      "source": [
        "We run it again to eliminate compile time."
      ],
      "id": "681302b2-474e-4a78-9cab-b24f710b4e67"
    },
    {
      "cell_type": "code",
      "execution_count": 78,
      "metadata": {},
      "outputs": [
        {
          "output_type": "stream",
          "name": "stdout",
          "text": [
            "CPU times: user 220 ms, sys: 101 ms, total: 321 ms\n",
            "Wall time: 82.8 ms"
          ]
        }
      ],
      "source": [
        "%%time\n",
        "z_vmap = f_vec(x, y).block_until_ready()"
      ],
      "id": "79c1cd3a"
    },
    {
      "cell_type": "markdown",
      "metadata": {},
      "source": [
        "The execution time is essentially the same as the mesh operation but we\n",
        "are using much less memory.\n",
        "\n",
        "And we produce the correct answer:"
      ],
      "id": "1f3e6ec9-0e64-4897-bb64-4a7128fda894"
    },
    {
      "cell_type": "code",
      "execution_count": 79,
      "metadata": {},
      "outputs": [
        {
          "output_type": "display_data",
          "metadata": {},
          "data": {
            "text/plain": [
              "Array(True, dtype=bool)"
            ]
          }
        }
      ],
      "source": [
        "jnp.allclose(z_vmap, z_mesh)"
      ],
      "id": "ee9992d5"
    }
  ],
  "nbformat": 4,
  "nbformat_minor": 5,
  "metadata": {
    "kernelspec": {
      "name": "python3",
      "display_name": "Python 3 (ipykernel)",
      "language": "python",
      "path": "/home/pablo/.local/share/jupyter/kernels/python3"
    },
    "language_info": {
      "name": "python",
      "codemirror_mode": {
        "name": "ipython",
        "version": "3"
      },
      "file_extension": ".py",
      "mimetype": "text/x-python",
      "nbconvert_exporter": "python",
      "pygments_lexer": "ipython3",
      "version": "3.11.10"
    }
  }
}