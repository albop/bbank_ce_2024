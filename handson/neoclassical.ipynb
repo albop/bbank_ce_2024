{
  "cells": [
    {
      "cell_type": "markdown",
      "metadata": {},
      "source": [
        "# Neoclassical model with time iteration\n",
        "\n",
        "Our goal consists in this tutorial will be to solve numerically the\n",
        "neoclassical model using the time-iteration algorithms in two ways: -\n",
        "with a naive iterative algorithm - with a vectorized one (using numpy)\n",
        "\n",
        "Remark: this tutorial uses typehints as a way to help structure the\n",
        "code. They can safely be ignored."
      ],
      "id": "b51339cd-75b1-4b26-b7f1-2be97d66d8a0"
    },
    {
      "cell_type": "code",
      "execution_count": 1,
      "metadata": {},
      "outputs": [],
      "source": [
        "from dataclasses import dataclass\n",
        "from math import exp, sqrt\n",
        "import numpy as np\n",
        "from typing import Any, Tuple\n",
        "import numpy.typing as npt\n",
        "Vector = npt.NDArray[1]\n",
        "Matrix = npt.NDArray[2]"
      ],
      "id": "11b8e684"
    },
    {
      "cell_type": "markdown",
      "metadata": {},
      "source": [
        "### The neoclassical model\n",
        "\n",
        "The representative agent maximizes intertemporal discounted utility of\n",
        "consumption $$\\sum_{t\\geq0} \\beta^t U(c_t)$$ where\n",
        "$U(c_t)=\\frac{(c_t)^{1-\\gamma}}{1-\\gamma}$.\n",
        "\n",
        "Production is $$y_t=exp(z_t) k_t^{\\alpha}$$ where $k_t$ is the amount of\n",
        "capital and $z_t=\\rho z_{t-1} + \\epsilon_t$ and AR1 process with\n",
        "$(\\epsilon_t)$ a normal innovation of standard deviation $\\sigma$.\n",
        "\n",
        "The law of motion for the capital depends on investment $i_t$ and\n",
        "capital depreciation $\\delta$:\n",
        "\n",
        "$$k_t = (1-\\delta) k_{t-1} + i_{t-1}$$\n",
        "\n",
        "The first order condition corresponding to the optimization problem is:\n",
        "\n",
        "$$\\beta E_t \\left[ \\frac{U^{\\prime}(c_{t+1}}{U^{\\prime}(c_t)})\\left( 1- \\delta + \\alpha exp(z_{t+1}) k_{t+1}^{\\alpha-1} \\right) \\right] =1$$\n",
        "\n",
        "<span class=\"theorem-title\">**Exercise 1**</span> What are the states of\n",
        "the problems? the controls? the exogenous shocks?"
      ],
      "id": "dbe5b974-c8f6-43d8-a746-27512986f806"
    },
    {
      "cell_type": "code",
      "execution_count": 2,
      "metadata": {},
      "outputs": [],
      "source": [
        "# states: (z,k)\n",
        "# controls: (i,)  \n",
        "\n",
        "# everything else can be computed from it\n",
        "# auxiliary: (y,c)\n",
        "\n",
        "# shocks: (epsilon,)\n",
        "\n",
        "# paramaters: alpha,beta,gamma,delta,sigma,rho"
      ],
      "id": "594889a4"
    },
    {
      "cell_type": "markdown",
      "metadata": {},
      "source": [
        "<span class=\"theorem-title\">**Exercise 2**</span> Define an object to\n",
        "represent the model calibration (you can use a dataclass)."
      ],
      "id": "285d9058-5528-4bd6-b21b-d4e24626e1b9"
    },
    {
      "cell_type": "code",
      "execution_count": 3,
      "metadata": {},
      "outputs": [],
      "source": [
        "@dataclass\n",
        "class Neoclassical:\n",
        "    \n",
        "    alpha = 0.3\n",
        "    beta = 0.96\n",
        "    gamma = 4.0\n",
        "    delta = 0.1\n",
        "    rho = 0.9\n",
        "    sigma = 0.01\n",
        "\n",
        "m = Neoclassical()"
      ],
      "id": "c34f6d4a"
    },
    {
      "cell_type": "markdown",
      "metadata": {},
      "source": [
        "<span class=\"theorem-title\">**Exercise 3**</span> Define a function to\n",
        "compute the steady-state controls and states."
      ],
      "id": "8754d299-62b5-4832-842c-afe01b818962"
    },
    {
      "cell_type": "code",
      "execution_count": 4,
      "metadata": {},
      "outputs": [],
      "source": [
        "def steady_state(m: Neoclassical) -> Tuple[ Tuple[float, float], Tuple[float]]:\n",
        "    \n",
        "    z:float = 0.0\n",
        "    k:float = ((1/m.beta-(1-m.delta))/m.alpha)**(1/(m.alpha-1))\n",
        "    i = k*m.delta\n",
        "    s = (z,k) # tuple of states\n",
        "    x = (i,) #tuple of controls\n",
        "    return (s,x)"
      ],
      "id": "ead0a9ad"
    },
    {
      "cell_type": "markdown",
      "metadata": {},
      "source": [
        "### Naive solution\n",
        "\n",
        "<span class=\"theorem-title\">**Exercise 4**</span> Define a cartesian\n",
        "grid on productivity and capital:"
      ],
      "id": "4a0b592b-2368-4b73-920b-4b4e73f6fb53"
    },
    {
      "cell_type": "code",
      "execution_count": 5,
      "metadata": {},
      "outputs": [],
      "source": [
        "def get_grid(m: Neoclassical, size: Tuple[int, int]) -> Tuple[ Vector, Vector]:\n",
        "    \n",
        "    s,x = steady_state(m)\n",
        "\n",
        "    sigma_e = m.sigma/sqrt(1-m.rho**2)\n",
        "    kbar = s[1] # steady state value of capital\n",
        "\n",
        "    zvec = np.linspace( -2*sigma_e, 2*sigma_e, size[0])\n",
        "    kvec = np.linspace(0.5*kbar,kbar*1.5,size[1])\n",
        "    return (zvec, kvec)\n",
        "\n",
        "grid  = get_grid(m, (10,10))"
      ],
      "id": "83820a08"
    },
    {
      "cell_type": "markdown",
      "metadata": {},
      "source": [
        "<span class=\"theorem-title\">**Exercise 5**</span> Define an initial\n",
        "guess representing the values of the controls on the grid"
      ],
      "id": "c44c2818-5dd2-49cb-a44a-811730acb0c8"
    },
    {
      "cell_type": "code",
      "execution_count": 6,
      "metadata": {},
      "outputs": [],
      "source": [
        "N_1, N_2 = (10,10)\n",
        "\n",
        "x0 = np.zeros( (N_1, N_2, 1) )\n",
        "x0[:, :, 0] = x\n",
        "x0;"
      ],
      "id": "ef3d798d"
    },
    {
      "cell_type": "code",
      "execution_count": 7,
      "metadata": {},
      "outputs": [],
      "source": [
        "def initial_guess(m: Neoclassical, grid)->npt.NDArray[3]\n",
        "\n",
        "    # x0 = 3-dimensional array of size\n",
        "\n",
        "x0 = initial_guess(m, grid)"
      ],
      "id": "98f1e163"
    },
    {
      "cell_type": "markdown",
      "metadata": {},
      "source": [
        "<span class=\"theorem-title\">**Exercise 6**</span> Define a decision rule\n",
        "which interpolates the initial guess on any state"
      ],
      "id": "6d78444d-66b6-49e9-90df-633848729755"
    },
    {
      "cell_type": "code",
      "execution_count": 8,
      "metadata": {},
      "outputs": [],
      "source": [
        "def phi(m: Neoclassical, s:: Tuple[float, float], x0::npt.NDArray[3])-> Tuple[float]\n",
        "    pass"
      ],
      "id": "27b02d34"
    },
    {
      "cell_type": "markdown",
      "metadata": {},
      "source": [
        "<span class=\"theorem-title\">**Exercise 7**</span> Compute the euler\n",
        "residual, for a given realization of the exogenous shocks."
      ],
      "id": "deab9a1e-2df4-4c39-9be1-db514aade0c3"
    },
    {
      "cell_type": "code",
      "execution_count": 9,
      "metadata": {},
      "outputs": [],
      "source": [
        "def f(m: RBC, s: Tuple[float,float], x:Tuple[float], E: Tuple[float], grid, theta):\n",
        "    ## grid is the discretized grid from before\n",
        "    ## theta contains the values of the controls on the grid\n",
        "    pass"
      ],
      "id": "072d758e"
    },
    {
      "cell_type": "markdown",
      "metadata": {},
      "source": [
        "<span class=\"theorem-title\">**Exercise 8**</span> Compute the expected\n",
        "euler residuals, integrating over all possible realizations of the\n",
        "exogenous shocks."
      ],
      "id": "eb2d021b-832c-4af3-a25d-85a5dd2d7efc"
    },
    {
      "cell_type": "code",
      "execution_count": 10,
      "metadata": {},
      "outputs": [],
      "source": [
        "def F(m: RBC, s: Tuple[float,float], x:Tuple[float], grid, theta, discr:Tuple[Vector, Vector]):\n",
        "    ## grid is the discretized grid from before\n",
        "    ## theta contains the values of the controls on the grid\n",
        "    ## discr contains the weights w,x of the gaussian quadrature\n",
        "    pass"
      ],
      "id": "10aa78d8"
    },
    {
      "cell_type": "markdown",
      "metadata": {},
      "source": [
        "<span class=\"theorem-title\">**Exercise 9**</span> At the steady-state,\n",
        "find the optimal control, assuming future decisions are taken according\n",
        "to the initial guess."
      ],
      "id": "2a26ae47-02d7-44ac-a05f-07079bfa48a7"
    },
    {
      "cell_type": "code",
      "execution_count": 11,
      "metadata": {},
      "outputs": [],
      "source": [
        "# find x such that F(m,s,x,grid,theta_0,discr) = 0"
      ],
      "id": "c0beb98b"
    },
    {
      "cell_type": "markdown",
      "metadata": {},
      "source": [
        "<span class=\"theorem-title\">**Exercise 10**</span> Solve for the optimal\n",
        "controls over the whole grid, still assuming future decisions are taken\n",
        "according to the initial guess."
      ],
      "id": "3a6dd3a5-cc51-4c41-acce-890e5b77a3f7"
    },
    {
      "cell_type": "code",
      "execution_count": 12,
      "metadata": {},
      "outputs": [],
      "source": [
        "# find x such that F(m,s,x,grid,theta_0,discr) = 0"
      ],
      "id": "69bcf7d5"
    },
    {
      "cell_type": "markdown",
      "metadata": {},
      "source": [
        "<span class=\"theorem-title\">**Exercise 11**</span> Implement the time\n",
        "iteration algorithm."
      ],
      "id": "41f76561-1aa9-471f-ad7a-d8ea3ad0b189"
    },
    {
      "cell_type": "code",
      "execution_count": 13,
      "metadata": {},
      "outputs": [],
      "source": [
        "def time_iteration_0(m: Neoclassical, grid, discr, x0):\n",
        "    pass"
      ],
      "id": "b8c2dd8b"
    },
    {
      "cell_type": "markdown",
      "metadata": {},
      "source": [
        "<span class=\"theorem-title\">**Exercise 12**</span> Time the result (and\n",
        "profile)."
      ],
      "id": "66780339-9e44-405f-a64a-6324e79dcaa2"
    },
    {
      "cell_type": "code",
      "execution_count": 14,
      "metadata": {},
      "outputs": [],
      "source": [
        "def time_iteration_0(m: Neoclassical, grid, discr, x0):\n",
        "    pass"
      ],
      "id": "b31cac11"
    },
    {
      "cell_type": "markdown",
      "metadata": {},
      "source": [
        "### Vectorization\n",
        "\n",
        "There are at least two approaches to speed up the code, with the same\n",
        "algorithm: - avoid the interpretation cost by compiling the code (for\n",
        "instance using numba) - vectorize the operations over the whole grid\n",
        "\n",
        "<span class=\"theorem-title\">**Exercise 13**</span> Given $N$ the number\n",
        "of points of the grid, create a matrix, representing the vector of all\n",
        "grid points. It should be an $N \\times 2$ matrix."
      ],
      "id": "1877ed33-88cc-40fe-ab28-1be3bbc6c2e5"
    },
    {
      "cell_type": "code",
      "execution_count": 15,
      "metadata": {},
      "outputs": [],
      "source": [
        "# grid_v = "
      ],
      "id": "99c3eb89"
    },
    {
      "cell_type": "markdown",
      "metadata": {},
      "source": [
        "<span class=\"theorem-title\">**Exercise 14**</span> Rewrite the decision\n",
        "rule so that it can operate on a vector of states."
      ],
      "id": "8dea093b-35c4-4556-a1d5-6f53bc527ab8"
    },
    {
      "cell_type": "code",
      "execution_count": 16,
      "metadata": {},
      "outputs": [],
      "source": [
        "def phi_v(m: Neoclassical, s:: Matrix, x0::npt.NDArray[3])-> Matrix\n",
        "    pass"
      ],
      "id": "d30d6983"
    },
    {
      "cell_type": "markdown",
      "metadata": {},
      "source": [
        "<span class=\"theorem-title\">**Exercise 15**</span> Rewrite the euler\n",
        "residual function so that it can operate on a vector of states with the\n",
        "corresponding vector of controls."
      ],
      "id": "481b12fa-a6fd-4d09-9340-3926a75c5152"
    },
    {
      "cell_type": "code",
      "execution_count": 17,
      "metadata": {},
      "outputs": [],
      "source": [
        "def f_v(m: RBC, s: Matrix, x:Matrix, E: Tuple[float], grid, theta)->Matrix:\n",
        "    ## grid is the discretized grid from before\n",
        "    ## theta contains the values of the controls on the grid\n",
        "    pass"
      ],
      "id": "854e1d87"
    },
    {
      "cell_type": "markdown",
      "metadata": {},
      "source": [
        "<span class=\"theorem-title\">**Exercise 16**</span> Rewrite the\n",
        "integrated euler residual function so that it can operate on a vector of\n",
        "states with the corresponding vector of controls."
      ],
      "id": "856263d5-00b1-427f-8f26-868530bbd4ac"
    },
    {
      "cell_type": "code",
      "execution_count": 18,
      "metadata": {},
      "outputs": [],
      "source": [
        "def F_v(m: RBC, s: Matrix, x:Matrix, grid, theta)->Matrix:\n",
        "    ## grid is the discretized grid from before\n",
        "    ## theta contains the values of the controls on the grid\n",
        "    pass"
      ],
      "id": "d272a634"
    },
    {
      "cell_type": "markdown",
      "metadata": {},
      "source": [
        "<span class=\"theorem-title\">**Exercise 17**</span> Compute the jacobian\n",
        "of $F_v$ w.r.t $x$."
      ],
      "id": "efb3d459-91a8-4b79-9152-401c5eaa275a"
    },
    {
      "cell_type": "code",
      "execution_count": 19,
      "metadata": {},
      "outputs": [],
      "source": [
        "#"
      ],
      "id": "b6b0da47"
    },
    {
      "cell_type": "markdown",
      "metadata": {},
      "source": [
        "<span class=\"theorem-title\">**Exercise 18**</span> Solve for the matrix\n",
        "`x` such that `F_v(m, s, x:Matrix, grid, theta)=0`"
      ],
      "id": "f159c0a5-d330-44aa-88df-9f6c4f51b911"
    },
    {
      "cell_type": "code",
      "execution_count": 20,
      "metadata": {},
      "outputs": [],
      "source": [
        "#"
      ],
      "id": "196a989f"
    },
    {
      "cell_type": "markdown",
      "metadata": {},
      "source": [
        "<span class=\"theorem-title\">**Exercise 19**</span> Implement the time\n",
        "iteration algorithm."
      ],
      "id": "f7ea8fbd-a16f-4af7-b127-66b6764a0b46"
    },
    {
      "cell_type": "code",
      "execution_count": 21,
      "metadata": {},
      "outputs": [],
      "source": [
        "#"
      ],
      "id": "2ba7c6a7"
    }
  ],
  "nbformat": 4,
  "nbformat_minor": 5,
  "metadata": {
    "kernelspec": {
      "name": "python3",
      "display_name": "Python 3 (ipykernel)",
      "language": "python",
      "path": "/home/pablo/.local/share/jupyter/kernels/python3"
    },
    "language_info": {
      "name": "python",
      "codemirror_mode": {
        "name": "ipython",
        "version": "3"
      },
      "file_extension": ".py",
      "mimetype": "text/x-python",
      "nbconvert_exporter": "python",
      "pygments_lexer": "ipython3",
      "version": "3.11.10"
    }
  }
}