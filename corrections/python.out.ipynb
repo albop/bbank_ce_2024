{
  "cells": [
    {
      "cell_type": "markdown",
      "metadata": {},
      "source": [
        "# Python Basics\n",
        "\n",
        "(adapted from Quantecon)\n",
        "\n",
        "## Basics\n",
        "\n",
        "<span class=\"theorem-title\">**Exercise 1**</span> Run the following code\n",
        "in the python interpreter:\n",
        "\n",
        "``` python\n",
        "def say_hello(name):\n",
        "    \"\"\"This function prints morning greetings\"\"\"\n",
        "\n",
        "    print(f\"Good morning {name}!\\n\")\n",
        "\n",
        "    # we can import libraries\n",
        "    import datetime\n",
        "    t = datetime.datetime.now()\n",
        "\n",
        "    # blocks are defined by indentation and colons\n",
        "    if (t.hour,t.min) <= (9,15):\n",
        "        print(\"All good?\\n\")\n",
        "    else:\n",
        "        print(\"Time to get started?\\n\")\n",
        "\n",
        "\n",
        "say_hello(\"Pablo\")\n",
        "```\n",
        "\n",
        "<span class=\"theorem-title\">**Exercise 2**</span> What do you think the\n",
        "value of `z` is after running the code below?\n",
        "\n",
        "``` python\n",
        "z = 3\n",
        "z = z + 4\n",
        "print(\"z is\", z)\n",
        "```\n",
        "\n",
        "    z is 7"
      ],
      "id": "428cb226-136c-4182-a1b5-aab21d098e46"
    },
    {
      "cell_type": "code",
      "execution_count": 2,
      "metadata": {},
      "outputs": [],
      "source": [
        "# your response there"
      ],
      "id": "876e503c"
    },
    {
      "cell_type": "markdown",
      "metadata": {},
      "source": [
        "<span class=\"theorem-title\">**Exercise 3**</span> Read about what the\n",
        "`len` function does (by writing len?).\n",
        "\n",
        "What will it produce if we give it the variable `x`?\n",
        "\n",
        "Check whether you were right by running the code `len(x)`."
      ],
      "id": "86c5e6c0-8565-4a03-8209-ba7c51025f9f"
    },
    {
      "cell_type": "code",
      "execution_count": 3,
      "metadata": {},
      "outputs": [],
      "source": [
        "# your code here"
      ],
      "id": "d8eb26c5"
    },
    {
      "cell_type": "markdown",
      "metadata": {},
      "source": [
        "<span class=\"theorem-title\">**Exercise 4**</span> We can use our\n",
        "introspection skills to investigate a package’s contents.\n",
        "\n",
        "In the cell below, use tab completion to find a function from the `time`\n",
        "module that will display the **local** time.\n",
        "\n",
        "Use `time.FUNC_NAME?` (where `FUNC_NAME` is replaced with the function\n",
        "you found) to see information about that function and then call the\n",
        "function.\n",
        "\n",
        "Look for something to do with the word `local`"
      ],
      "id": "56d8c9d7-818d-4586-b6a5-fd034c666b82"
    },
    {
      "cell_type": "code",
      "execution_count": 4,
      "metadata": {},
      "outputs": [],
      "source": [
        "import time\n",
        "# your code here"
      ],
      "id": "f5de621e"
    },
    {
      "cell_type": "markdown",
      "metadata": {},
      "source": [
        "<span class=\"theorem-title\">**Exercise 5**</span> The code below is\n",
        "invalid Python code (once uncommented)"
      ],
      "id": "190b6bef-2d05-47d2-9c45-86de8e0eaed2"
    },
    {
      "cell_type": "code",
      "execution_count": 5,
      "metadata": {},
      "outputs": [],
      "source": [
        "# x = 'What's wrong with this string'"
      ],
      "id": "7e47cf48"
    },
    {
      "cell_type": "markdown",
      "metadata": {},
      "source": [
        "## Collections\n",
        "\n",
        "<span class=\"theorem-title\">**Exercise 6**</span> In the first cell, try\n",
        "`y.append(z)`.\n",
        "\n",
        "In the second cell try `y.extend(z)`.\n",
        "\n",
        "Explain the behavior.\n",
        "\n",
        "When you are trying to explain use `y.append?` and `y.extend?` to see a\n",
        "description of what these methods are supposed to do."
      ],
      "id": "22349c09-8cde-4db3-a9fc-5e7343e6debb"
    },
    {
      "cell_type": "code",
      "execution_count": 6,
      "metadata": {},
      "outputs": [],
      "source": [
        "y = [\"a\", \"b\", \"c\"]\n",
        "z = [1, 2, 3]\n",
        "# "
      ],
      "id": "b4442b92"
    },
    {
      "cell_type": "code",
      "execution_count": 7,
      "metadata": {},
      "outputs": [],
      "source": [
        "y = [\"a\", \"b\", \"c\"]\n",
        "z = [1, 2, 3]\n",
        "# "
      ],
      "id": "c11dd02b"
    },
    {
      "cell_type": "markdown",
      "metadata": {},
      "source": [
        "<span class=\"theorem-title\">**Exercise 7**</span> Verify that tuples are\n",
        "indeed immutable by attempting the following:\n",
        "\n",
        "-   Changing the first element of `t` to be `100`  \n",
        "-   Appending a new element `\"!!\"` to the end of `t` (remember with a\n",
        "    list `x` we would use `x.append(\"!!\")` to do this  \n",
        "-   Sorting `t`  \n",
        "-   Reversing `t`"
      ],
      "id": "fc48fbb5-d020-4b99-a60d-53cef5b81aa5"
    },
    {
      "cell_type": "code",
      "execution_count": 8,
      "metadata": {},
      "outputs": [],
      "source": [
        "t = (1,2,3,4)"
      ],
      "id": "fa9f5846"
    },
    {
      "cell_type": "markdown",
      "metadata": {},
      "source": [
        "<span class=\"theorem-title\">**Exercise 8**</span> Look at the [World\n",
        "Factbook for\n",
        "Australia](https://www.cia.gov/the-world-factbook/countries/australia)\n",
        "and create a dictionary with data containing the following types: float,\n",
        "string, integer, list, and dict. Choose any data you wish.\n",
        "\n",
        "To confirm, you should have a dictionary that you identified via a key."
      ],
      "id": "18b4cab0-cab3-4053-bee4-3fc85817da8a"
    },
    {
      "cell_type": "code",
      "execution_count": 9,
      "metadata": {},
      "outputs": [],
      "source": [
        "# your code here"
      ],
      "id": "5e2ebcd0"
    },
    {
      "cell_type": "markdown",
      "metadata": {},
      "source": [
        "<span class=\"theorem-title\">**Exercise 9**</span> Use Jupyter’s help\n",
        "facilities to learn how to use the `pop` method to remove the key\n",
        "`\"irrigated_land\"` (and its value) from the dict."
      ],
      "id": "2a0a6e1f-1c04-495e-8989-16078b036f91"
    },
    {
      "cell_type": "code",
      "execution_count": 10,
      "metadata": {},
      "outputs": [],
      "source": [
        "# uncomment and use the Inspector or ?\n",
        "#china_data.pop()"
      ],
      "id": "349df926"
    },
    {
      "cell_type": "markdown",
      "metadata": {},
      "source": [
        "<span class=\"theorem-title\">**Exercise 10**</span> Explain what happens\n",
        "to the value you popped.\n",
        "\n",
        "Experiment with calling `pop` twice."
      ],
      "id": "caca9538-7b3d-4275-8e46-325e2bf49eb9"
    },
    {
      "cell_type": "code",
      "execution_count": 11,
      "metadata": {},
      "outputs": [],
      "source": [
        "# your code here"
      ],
      "id": "e369b0e4"
    },
    {
      "cell_type": "markdown",
      "metadata": {},
      "source": [
        "## Control\n",
        "\n",
        "<span class=\"theorem-title\">**Exercise 11**</span> Run the following two\n",
        "variations on the code with only a single change in the indentation.\n",
        "\n",
        "After, modify the `x` to print `3` and then `2, 3` instead."
      ],
      "id": "c42c5e37-f77c-479d-b9ea-8e690ad6da6b"
    },
    {
      "cell_type": "code",
      "execution_count": 12,
      "metadata": {},
      "outputs": [
        {
          "output_type": "stream",
          "name": "stdout",
          "text": [
            "1\n",
            "2\n",
            "3"
          ]
        }
      ],
      "source": [
        "x = 1\n",
        "\n",
        "if x > 0:\n",
        "    print(\"1\")\n",
        "    print(\"2\")\n",
        "print(\"3\")"
      ],
      "id": "b2db0334"
    },
    {
      "cell_type": "code",
      "execution_count": 13,
      "metadata": {},
      "outputs": [
        {
          "output_type": "stream",
          "name": "stdout",
          "text": [
            "1\n",
            "2\n",
            "3"
          ]
        }
      ],
      "source": [
        "x = 1\n",
        "\n",
        "if x > 0:\n",
        "    print(\"1\")\n",
        "print(\"2\") # changed the indentation\n",
        "print(\"3\")"
      ],
      "id": "94a9a73e"
    },
    {
      "cell_type": "markdown",
      "metadata": {},
      "source": [
        "<span class=\"theorem-title\">**Exercise 12**</span> Write a for loop that\n",
        "uses the lists of cities and states below to print the same “{city} is\n",
        "in {state}” using a `zip` instead of an `enumerate`."
      ],
      "id": "b60e8b88-684c-4dc9-bc5b-6c5dcd4b39d0"
    },
    {
      "cell_type": "code",
      "execution_count": 14,
      "metadata": {},
      "outputs": [],
      "source": [
        "cities = [\"Phoenix\", \"Austin\", \"San Diego\", \"New York\"]\n",
        "states = [\"Arizona\", \"Texas\", \"California\", \"New York\"]"
      ],
      "id": "2e66d3f6"
    },
    {
      "cell_type": "code",
      "execution_count": 15,
      "metadata": {},
      "outputs": [
        {
          "output_type": "stream",
          "name": "stdout",
          "text": [
            "Phoenix  :  Arizona\n",
            "Austin  :  Texas\n",
            "San Diego  :  California\n",
            "New York  :  New York"
          ]
        }
      ],
      "source": [
        "for i,c in enumerate(cities):\n",
        "    print(c, \" : \", states[i])"
      ],
      "id": "b56fa76a"
    },
    {
      "cell_type": "code",
      "execution_count": 16,
      "metadata": {},
      "outputs": [],
      "source": [
        "# your code here"
      ],
      "id": "8790d781"
    }
  ],
  "nbformat": 4,
  "nbformat_minor": 5,
  "metadata": {
    "kernelspec": {
      "name": "python3",
      "display_name": "Python 3 (ipykernel)",
      "language": "python"
    },
    "language_info": {
      "name": "python",
      "codemirror_mode": {
        "name": "ipython",
        "version": "3"
      },
      "file_extension": ".py",
      "mimetype": "text/x-python",
      "nbconvert_exporter": "python",
      "pygments_lexer": "ipython3",
      "version": "3.11.10"
    }
  }
}