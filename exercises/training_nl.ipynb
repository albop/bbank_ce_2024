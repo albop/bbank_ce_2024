{
  "cells": [
    {
      "cell_type": "markdown",
      "metadata": {},
      "source": [
        "# Training a Neural Network\n",
        "\n",
        "## Learning a function\n",
        "\n",
        "Consider the following (pseudo)-function"
      ],
      "id": "0b6378ce-b3c8-41a7-b3d8-dc22c9f69e75"
    },
    {
      "cell_type": "code",
      "execution_count": 1,
      "metadata": {},
      "outputs": [],
      "source": [
        "import jax\n",
        "from jax import numpy as jnp\n",
        "\n",
        "def mystery(key):\n",
        "    \n",
        "    key1, key2 = jax.random.split(key)\n",
        "    x = jax.random.uniform(-1,1)\n",
        "    epsilon = jax.random.normal(key2)*0.01 # random nmer\n",
        "    y = jnp.sin(x)/x + epsilon\n",
        "    return (x,y)"
      ],
      "id": "829f8335"
    },
    {
      "cell_type": "markdown",
      "metadata": {},
      "source": [
        "The goal is to learn a function representation using a finite (possibly\n",
        "big) number of draws from the function.\n",
        "\n",
        "<span class=\"theorem-title\">**Exercise 1**</span> Draw 100 different\n",
        "values and plot them.\n",
        "\n",
        "<span class=\"theorem-title\">**Exercise 2**</span> Create a neural\n",
        "network using library flax (with the linen API), to predict $y$ from\n",
        "$x$.\n",
        "\n",
        "Initialize it with random weights and plot the initial guess.\n",
        "\n",
        "We will call $\\varphi(x;\\theta)$ the prediction from the neural network\n",
        "for weights $\\theta$."
      ],
      "id": "5ab92a64-a4de-4556-890a-f786f7257b30"
    },
    {
      "cell_type": "code",
      "execution_count": 2,
      "metadata": {},
      "outputs": [],
      "source": [
        "#"
      ],
      "id": "b9cdfa50"
    },
    {
      "cell_type": "markdown",
      "metadata": {},
      "source": [
        "<span class=\"theorem-title\">**Exercise 3**</span> Create an objective\n",
        "function $\\xi(key, theta, N)$ for the empirical risk using a minibatch\n",
        "of size $N$."
      ],
      "id": "349817d3-5039-41da-afe6-16dcfe735a3f"
    },
    {
      "cell_type": "code",
      "execution_count": 3,
      "metadata": {},
      "outputs": [],
      "source": [
        "#"
      ],
      "id": "cfe28d72"
    },
    {
      "cell_type": "markdown",
      "metadata": {},
      "source": [
        "<span class=\"theorem-title\">**Exercise 4**</span> Compute the gradient\n",
        "of $\\xi$ using jax.\n",
        "\n",
        "<span class=\"theorem-title\">**Exercise 5**</span> Train the neural\n",
        "network, either by hand, or by using Optax. Inspect the result."
      ],
      "id": "f345b082-f57e-4e09-b222-20d72333ccc6"
    },
    {
      "cell_type": "code",
      "execution_count": 4,
      "metadata": {},
      "outputs": [],
      "source": [
        "#"
      ],
      "id": "ff9168cf"
    }
  ],
  "nbformat": 4,
  "nbformat_minor": 5,
  "metadata": {
    "kernelspec": {
      "name": "python3",
      "display_name": "Python 3 (ipykernel)",
      "language": "python",
      "path": "/home/pablo/.local/share/jupyter/kernels/python3"
    },
    "language_info": {
      "name": "python",
      "codemirror_mode": {
        "name": "ipython",
        "version": "3"
      },
      "file_extension": ".py",
      "mimetype": "text/x-python",
      "nbconvert_exporter": "python",
      "pygments_lexer": "ipython3",
      "version": "3.11.10"
    }
  }
}