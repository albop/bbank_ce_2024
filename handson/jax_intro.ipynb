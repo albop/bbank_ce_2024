{
  "cells": [
    {
      "cell_type": "markdown",
      "metadata": {},
      "source": [
        "# \n",
        "\n",
        "# An Introduction to JAX\n",
        "\n",
        "This notebook (adapted Quantecon) provides a short introduction to\n",
        "[Google JAX](https://github.com/google/jax).\n",
        "\n",
        "## JAX as a NumPy Replacement\n",
        "\n",
        "One way to use JAX is as a plug-in NumPy replacement. Let’s look at the\n",
        "similarities and differences.\n",
        "\n",
        "### Similarities\n",
        "\n",
        "The following import is standard, replacing `import numpy as np`:"
      ],
      "id": "55592245-e9eb-4d3d-ba03-5a7e98252740"
    },
    {
      "cell_type": "code",
      "execution_count": 1,
      "metadata": {},
      "outputs": [],
      "source": [
        "import jax\n",
        "import jax.numpy as jnp"
      ],
      "id": "27d88a51"
    },
    {
      "cell_type": "markdown",
      "metadata": {},
      "source": [
        "Now we can use `jnp` in place of `np` for the usual array operations:"
      ],
      "id": "dc8320a4-595d-4f64-8d4e-122b364c2c87"
    },
    {
      "cell_type": "code",
      "execution_count": 2,
      "metadata": {},
      "outputs": [],
      "source": [
        "a = jnp.asarray((1.0, 3.2, -1.5))"
      ],
      "id": "9e981c84"
    },
    {
      "cell_type": "code",
      "execution_count": 3,
      "metadata": {},
      "outputs": [
        {
          "output_type": "stream",
          "name": "stdout",
          "text": [
            "[ 1.   3.2 -1.5]"
          ]
        }
      ],
      "source": [
        "print(a)"
      ],
      "id": "6a38aab2"
    },
    {
      "cell_type": "code",
      "execution_count": 4,
      "metadata": {},
      "outputs": [
        {
          "output_type": "stream",
          "name": "stdout",
          "text": [
            "2.7"
          ]
        }
      ],
      "source": [
        "print(jnp.sum(a))"
      ],
      "id": "c14a83ec"
    },
    {
      "cell_type": "code",
      "execution_count": 5,
      "metadata": {},
      "outputs": [
        {
          "output_type": "stream",
          "name": "stdout",
          "text": [
            "0.90000004"
          ]
        }
      ],
      "source": [
        "print(jnp.mean(a))"
      ],
      "id": "ca16a9b3"
    },
    {
      "cell_type": "code",
      "execution_count": 6,
      "metadata": {},
      "outputs": [
        {
          "output_type": "stream",
          "name": "stdout",
          "text": [
            "13.490001"
          ]
        }
      ],
      "source": [
        "print(jnp.dot(a, a))"
      ],
      "id": "f0f4f3d4"
    },
    {
      "cell_type": "markdown",
      "metadata": {},
      "source": [
        "However, the array object `a` is not a NumPy array:"
      ],
      "id": "18a7ec52-5e52-4943-a1d2-1629d9bd8efa"
    },
    {
      "cell_type": "code",
      "execution_count": 7,
      "metadata": {},
      "outputs": [
        {
          "output_type": "display_data",
          "metadata": {},
          "data": {
            "text/plain": [
              "Array([ 1. ,  3.2, -1.5], dtype=float32)"
            ]
          }
        }
      ],
      "source": [
        "a"
      ],
      "id": "fd9d6d20"
    },
    {
      "cell_type": "code",
      "execution_count": 8,
      "metadata": {},
      "outputs": [
        {
          "output_type": "display_data",
          "metadata": {},
          "data": {
            "text/plain": [
              "jaxlib.xla_extension.ArrayImpl"
            ]
          }
        }
      ],
      "source": [
        "type(a)"
      ],
      "id": "130e6b3c"
    },
    {
      "cell_type": "markdown",
      "metadata": {},
      "source": [
        "Even scalar-valued maps on arrays return JAX arrays."
      ],
      "id": "1c2edaca-8f4b-4f05-b925-1b1073757e6d"
    },
    {
      "cell_type": "code",
      "execution_count": 9,
      "metadata": {},
      "outputs": [
        {
          "output_type": "display_data",
          "metadata": {},
          "data": {
            "text/plain": [
              "Array(2.7, dtype=float32)"
            ]
          }
        }
      ],
      "source": [
        "jnp.sum(a)"
      ],
      "id": "1121b0f3"
    },
    {
      "cell_type": "markdown",
      "metadata": {},
      "source": [
        "JAX arrays are also called “device arrays,” where term “device” refers\n",
        "to a hardware accelerator (GPU or TPU).\n",
        "\n",
        "(In the terminology of GPUs, the “host” is the machine that launches GPU\n",
        "operations, while the “device” is the GPU itself.)\n",
        "\n",
        "Operations on higher dimensional arrays are also similar to NumPy:"
      ],
      "id": "2aff94bd-b9e0-42d5-ad83-184fea734de7"
    },
    {
      "cell_type": "code",
      "execution_count": 10,
      "metadata": {},
      "outputs": [
        {
          "output_type": "display_data",
          "metadata": {},
          "data": {
            "text/plain": [
              "Array([[1., 1.],\n",
              "       [1., 1.]], dtype=float32)"
            ]
          }
        }
      ],
      "source": [
        "A = jnp.ones((2, 2))\n",
        "B = jnp.identity(2)\n",
        "A @ B"
      ],
      "id": "e30d860c"
    },
    {
      "cell_type": "code",
      "execution_count": 11,
      "metadata": {},
      "outputs": [],
      "source": [
        "from jax.numpy import linalg"
      ],
      "id": "0185eaa8"
    },
    {
      "cell_type": "code",
      "execution_count": 12,
      "metadata": {},
      "outputs": [
        {
          "output_type": "display_data",
          "metadata": {},
          "data": {
            "text/plain": [
              "Array([[1., 0.],\n",
              "       [0., 1.]], dtype=float32)"
            ]
          }
        }
      ],
      "source": [
        "linalg.inv(B)   # Inverse of identity is identity"
      ],
      "id": "60231d8f"
    },
    {
      "cell_type": "code",
      "execution_count": 13,
      "metadata": {},
      "outputs": [
        {
          "output_type": "display_data",
          "metadata": {},
          "data": {
            "text/plain": [
              "EighResult(eigenvalues=Array([1., 1.], dtype=float32), eigenvectors=Array([[1., 0.],\n",
              "       [0., 1.]], dtype=float32))"
            ]
          }
        }
      ],
      "source": [
        "linalg.eigh(B)  # Computes eigenvalues and eigenvectors"
      ],
      "id": "d7c2bd1e"
    },
    {
      "cell_type": "markdown",
      "metadata": {},
      "source": [
        "### Differences\n",
        "\n",
        "One difference between NumPy and JAX is that JAX currently uses 32 bit\n",
        "floats by default.\n",
        "\n",
        "This is standard for GPU computing and can lead to significant speed\n",
        "gains with small loss of precision.\n",
        "\n",
        "However, for some calculations precision matters. In these cases 64 bit\n",
        "floats can be enforced via the command"
      ],
      "id": "66111f5c-409a-426a-83f9-5b2e0f55a954"
    },
    {
      "cell_type": "code",
      "execution_count": 14,
      "metadata": {},
      "outputs": [],
      "source": [
        "jax.config.update(\"jax_enable_x64\", True)"
      ],
      "id": "d85542ac"
    },
    {
      "cell_type": "markdown",
      "metadata": {},
      "source": [
        "Let’s check this works:"
      ],
      "id": "5a60d3e7-cadc-4e96-a9db-5482a9420205"
    },
    {
      "cell_type": "code",
      "execution_count": 15,
      "metadata": {},
      "outputs": [
        {
          "output_type": "display_data",
          "metadata": {},
          "data": {
            "text/plain": [
              "Array([1., 1., 1.], dtype=float64)"
            ]
          }
        }
      ],
      "source": [
        "jnp.ones(3)"
      ],
      "id": "8bdbab52"
    },
    {
      "cell_type": "markdown",
      "metadata": {},
      "source": [
        "As a NumPy replacement, a more significant difference is that arrays are\n",
        "treated as **immutable**.\n",
        "\n",
        "For example, with NumPy we can write"
      ],
      "id": "2626d53e-ce7c-4794-a929-835eb53706a7"
    },
    {
      "cell_type": "code",
      "execution_count": 16,
      "metadata": {},
      "outputs": [
        {
          "output_type": "display_data",
          "metadata": {},
          "data": {
            "text/plain": [
              "array([0. , 0.5, 1. ])"
            ]
          }
        }
      ],
      "source": [
        "import numpy as np\n",
        "a = np.linspace(0, 1, 3)\n",
        "a"
      ],
      "id": "893e6e77"
    },
    {
      "cell_type": "markdown",
      "metadata": {},
      "source": [
        "and then mutate the data in memory:"
      ],
      "id": "ad4f1642-b702-416e-a041-25f342e4a147"
    },
    {
      "cell_type": "code",
      "execution_count": 17,
      "metadata": {},
      "outputs": [
        {
          "output_type": "display_data",
          "metadata": {},
          "data": {
            "text/plain": [
              "array([1. , 0.5, 1. ])"
            ]
          }
        }
      ],
      "source": [
        "a[0] = 1\n",
        "a"
      ],
      "id": "3642d56d"
    },
    {
      "cell_type": "markdown",
      "metadata": {},
      "source": [
        "In JAX this fails:"
      ],
      "id": "814903ec-4d04-494e-97a8-09578ffee1c9"
    },
    {
      "cell_type": "code",
      "execution_count": 18,
      "metadata": {},
      "outputs": [
        {
          "output_type": "display_data",
          "metadata": {},
          "data": {
            "text/plain": [
              "Array([0. , 0.5, 1. ], dtype=float64)"
            ]
          }
        }
      ],
      "source": [
        "a = jnp.linspace(0, 1, 3)\n",
        "a"
      ],
      "id": "bc4d51ef"
    },
    {
      "cell_type": "code",
      "execution_count": 19,
      "metadata": {},
      "outputs": [],
      "source": [
        "# a[0] = 1"
      ],
      "id": "5e98f76c"
    },
    {
      "cell_type": "markdown",
      "metadata": {},
      "source": [
        "In line with immutability, JAX does not support inplace operations:"
      ],
      "id": "9b5a8306-d703-4dc8-877f-1b824ac679ff"
    },
    {
      "cell_type": "code",
      "execution_count": 20,
      "metadata": {},
      "outputs": [
        {
          "output_type": "display_data",
          "metadata": {},
          "data": {
            "text/plain": [
              "array([1, 2])"
            ]
          }
        }
      ],
      "source": [
        "a = np.array((2, 1))\n",
        "a.sort()\n",
        "a"
      ],
      "id": "b1a34e0a"
    },
    {
      "cell_type": "code",
      "execution_count": 21,
      "metadata": {},
      "outputs": [
        {
          "output_type": "display_data",
          "metadata": {},
          "data": {
            "text/plain": [
              "(Array([2, 1], dtype=int64), Array([1, 2], dtype=int64))"
            ]
          }
        }
      ],
      "source": [
        "a = jnp.array((2, 1))\n",
        "a_new = a.sort()\n",
        "a, a_new"
      ],
      "id": "229b4a87"
    },
    {
      "cell_type": "markdown",
      "metadata": {},
      "source": [
        "The designers of JAX chose to make arrays immutable because JAX uses a\n",
        "functional programming style. More on this below.\n",
        "\n",
        "Note that, while mutation is discouraged, it is in fact possible with\n",
        "`at`, as in"
      ],
      "id": "0b89d80a-b2f2-449f-8c7e-acd3d219afa0"
    },
    {
      "cell_type": "code",
      "execution_count": 22,
      "metadata": {},
      "outputs": [
        {
          "output_type": "display_data",
          "metadata": {},
          "data": {
            "text/plain": [
              "96395063920128"
            ]
          }
        }
      ],
      "source": [
        "a = jnp.linspace(0, 1, 3)\n",
        "id(a)"
      ],
      "id": "11cd8387"
    },
    {
      "cell_type": "code",
      "execution_count": 23,
      "metadata": {},
      "outputs": [
        {
          "output_type": "display_data",
          "metadata": {},
          "data": {
            "text/plain": [
              "Array([0. , 0.5, 1. ], dtype=float64)"
            ]
          }
        }
      ],
      "source": [
        "a"
      ],
      "id": "1d93b6d5"
    },
    {
      "cell_type": "code",
      "execution_count": 24,
      "metadata": {},
      "outputs": [
        {
          "output_type": "display_data",
          "metadata": {},
          "data": {
            "text/plain": [
              "Array([1. , 0.5, 1. ], dtype=float64)"
            ]
          }
        }
      ],
      "source": [
        "a.at[0].set(1)"
      ],
      "id": "3ba50407"
    },
    {
      "cell_type": "markdown",
      "metadata": {},
      "source": [
        "We can check that the array is mutated by verifying its identity is\n",
        "unchanged:"
      ],
      "id": "53f7c2e7-32b8-4df8-8b91-2cb7597dc1c2"
    },
    {
      "cell_type": "code",
      "execution_count": 25,
      "metadata": {},
      "outputs": [
        {
          "output_type": "display_data",
          "metadata": {},
          "data": {
            "text/plain": [
              "96395063920128"
            ]
          }
        }
      ],
      "source": [
        "id(a)"
      ],
      "id": "00d15f9e"
    },
    {
      "cell_type": "markdown",
      "metadata": {},
      "source": [
        "## Random Numbers\n",
        "\n",
        "Random numbers are also a bit different in JAX, relative to NumPy.\n",
        "Typically, in JAX, the state of the random number generator needs to be\n",
        "controlled explicitly."
      ],
      "id": "81706382-2adc-4cf5-823e-a5d0e576eae4"
    },
    {
      "cell_type": "code",
      "execution_count": 26,
      "metadata": {},
      "outputs": [],
      "source": [
        "import jax.random as random"
      ],
      "id": "01dd032c"
    },
    {
      "cell_type": "markdown",
      "metadata": {},
      "source": [
        "First we produce a key, which seeds the random number generator."
      ],
      "id": "13b7d3b3-7070-4396-9b0a-5d0f0762be56"
    },
    {
      "cell_type": "code",
      "execution_count": 27,
      "metadata": {},
      "outputs": [],
      "source": [
        "key = random.PRNGKey(1)"
      ],
      "id": "73cad7bc"
    },
    {
      "cell_type": "code",
      "execution_count": 28,
      "metadata": {},
      "outputs": [
        {
          "output_type": "display_data",
          "metadata": {},
          "data": {
            "text/plain": [
              "jaxlib.xla_extension.ArrayImpl"
            ]
          }
        }
      ],
      "source": [
        "type(key)"
      ],
      "id": "b532992c"
    },
    {
      "cell_type": "code",
      "execution_count": 29,
      "metadata": {},
      "outputs": [
        {
          "output_type": "stream",
          "name": "stdout",
          "text": [
            "[0 1]"
          ]
        }
      ],
      "source": [
        "print(key)"
      ],
      "id": "75b12ce5"
    },
    {
      "cell_type": "markdown",
      "metadata": {},
      "source": [
        "Now we can use the key to generate some random numbers:"
      ],
      "id": "12b587f1-1c12-4ae7-9e78-9f0859af6c4c"
    },
    {
      "cell_type": "code",
      "execution_count": 30,
      "metadata": {},
      "outputs": [
        {
          "output_type": "display_data",
          "metadata": {},
          "data": {
            "text/plain": [
              "Array([[-1.35247421, -0.2712502 , -0.02920518],\n",
              "       [ 0.34706456,  0.5464053 , -1.52325812],\n",
              "       [ 0.41677264, -0.59710138, -0.5678208 ]], dtype=float64)"
            ]
          }
        }
      ],
      "source": [
        "x = random.normal(key, (3, 3))\n",
        "x"
      ],
      "id": "8a177247"
    },
    {
      "cell_type": "markdown",
      "metadata": {},
      "source": [
        "If we use the same key again, we initialize at the same seed, so the\n",
        "random numbers are the same:"
      ],
      "id": "82f925e3-8b28-4fc1-832f-42a958117223"
    },
    {
      "cell_type": "code",
      "execution_count": 31,
      "metadata": {},
      "outputs": [
        {
          "output_type": "display_data",
          "metadata": {},
          "data": {
            "text/plain": [
              "Array([[-1.35247421, -0.2712502 , -0.02920518],\n",
              "       [ 0.34706456,  0.5464053 , -1.52325812],\n",
              "       [ 0.41677264, -0.59710138, -0.5678208 ]], dtype=float64)"
            ]
          }
        }
      ],
      "source": [
        "random.normal(key, (3, 3))"
      ],
      "id": "5547f90d"
    },
    {
      "cell_type": "markdown",
      "metadata": {},
      "source": [
        "To produce a (quasi-) independent draw, best practice is to “split” the\n",
        "existing key:"
      ],
      "id": "22ab99ce-533b-4e8e-868d-90ac257d0e11"
    },
    {
      "cell_type": "code",
      "execution_count": 32,
      "metadata": {},
      "outputs": [],
      "source": [
        "key, subkey = random.split(key)"
      ],
      "id": "18df795a"
    },
    {
      "cell_type": "code",
      "execution_count": 33,
      "metadata": {},
      "outputs": [
        {
          "output_type": "display_data",
          "metadata": {},
          "data": {
            "text/plain": [
              "Array([[ 1.85374374, -0.37683949, -0.61276867],\n",
              "       [-1.91829718,  0.27219409,  0.54922246],\n",
              "       [ 0.40451442, -0.58726839, -0.63967753]], dtype=float64)"
            ]
          }
        }
      ],
      "source": [
        "random.normal(key, (3, 3))"
      ],
      "id": "8aba32f9"
    },
    {
      "cell_type": "code",
      "execution_count": 34,
      "metadata": {},
      "outputs": [
        {
          "output_type": "display_data",
          "metadata": {},
          "data": {
            "text/plain": [
              "Array([[-0.4300635 ,  0.22778552,  0.57241269],\n",
              "       [-0.15969178,  0.46719192,  0.21165091],\n",
              "       [ 0.84118631,  1.18671326, -0.16607783]], dtype=float64)"
            ]
          }
        }
      ],
      "source": [
        "random.normal(subkey, (3, 3))"
      ],
      "id": "0b084088"
    },
    {
      "cell_type": "markdown",
      "metadata": {},
      "source": [
        "The function below produces `k` (quasi-) independent random `n x n`\n",
        "matrices using this procedure."
      ],
      "id": "8e65ce15-36ec-445b-942e-482f98c88af4"
    },
    {
      "cell_type": "code",
      "execution_count": 35,
      "metadata": {},
      "outputs": [],
      "source": [
        "def gen_random_matrices(key, n, k):\n",
        "    matrices = []\n",
        "    for _ in range(k):\n",
        "        key, subkey = random.split(key)\n",
        "        matrices.append(random.uniform(subkey, (n, n)))\n",
        "    return matrices"
      ],
      "id": "b844d811"
    },
    {
      "cell_type": "code",
      "execution_count": 36,
      "metadata": {},
      "outputs": [
        {
          "output_type": "stream",
          "name": "stdout",
          "text": [
            "[[0.97440813 0.3838544 ]\n",
            " [0.9790686  0.99981046]]\n",
            "[[0.3473302  0.17157842]\n",
            " [0.89346686 0.01403153]]"
          ]
        }
      ],
      "source": [
        "matrices = gen_random_matrices(key, 2, 2)\n",
        "for A in matrices:\n",
        "    print(A)"
      ],
      "id": "55aad402"
    },
    {
      "cell_type": "markdown",
      "metadata": {},
      "source": [
        "One point to remember is that JAX expects tuples to describe array\n",
        "shapes, even for flat arrays. Hence, to get a one-dimensional array of\n",
        "normal random draws we use `(len, )` for the shape, as in"
      ],
      "id": "b43736b6-bf5d-45ce-bb8c-d61d1cc04262"
    },
    {
      "cell_type": "code",
      "execution_count": 37,
      "metadata": {},
      "outputs": [
        {
          "output_type": "display_data",
          "metadata": {},
          "data": {
            "text/plain": [
              "Array([-0.64377279,  0.76961857, -0.29809604,  0.47858776, -2.00591299],      dtype=float64)"
            ]
          }
        }
      ],
      "source": [
        "random.normal(key, (5, ))"
      ],
      "id": "f65db4d4"
    },
    {
      "cell_type": "markdown",
      "metadata": {},
      "source": [
        "## JIT compilation\n",
        "\n",
        "The JAX just-in-time (JIT) compiler accelerates logic within functions\n",
        "by fusing linear algebra operations into a single optimized kernel that\n",
        "the host can launch on the GPU / TPU (or CPU if no accelerator is\n",
        "detected).\n",
        "\n",
        "### A first example\n",
        "\n",
        "To see the JIT compiler in action, consider the following function."
      ],
      "id": "e1fc474e-1a9e-44d8-925b-32c3ac5ad00d"
    },
    {
      "cell_type": "code",
      "execution_count": 38,
      "metadata": {},
      "outputs": [],
      "source": [
        "def f(x):\n",
        "    a = 3*x + jnp.sin(x) + jnp.cos(x**2) - jnp.cos(2*x) - x**2 * 0.4 * x**1.5\n",
        "    return jnp.sum(a)"
      ],
      "id": "66e43260"
    },
    {
      "cell_type": "markdown",
      "metadata": {},
      "source": [
        "Let’s build an array to call the function on."
      ],
      "id": "e65bec4e-0324-4abf-a7cb-f117bd721047"
    },
    {
      "cell_type": "code",
      "execution_count": 39,
      "metadata": {},
      "outputs": [],
      "source": [
        "n = 50_000_000\n",
        "x = jnp.ones(n)"
      ],
      "id": "b7c31629"
    },
    {
      "cell_type": "markdown",
      "metadata": {},
      "source": [
        "How long does the function take to execute?"
      ],
      "id": "c8d66243-39e2-480a-bc5f-9e3681cd3244"
    },
    {
      "cell_type": "code",
      "execution_count": 40,
      "metadata": {},
      "outputs": [
        {
          "output_type": "stream",
          "name": "stdout",
          "text": [
            "CPU times: user 2.72 s, sys: 2.66 s, total: 5.38 s\n",
            "Wall time: 1.51 s"
          ]
        },
        {
          "output_type": "display_data",
          "metadata": {},
          "data": {
            "text/plain": [
              "Array(2.19896006e+08, dtype=float64)"
            ]
          }
        }
      ],
      "source": [
        "%time f(x).block_until_ready()"
      ],
      "id": "2146924e"
    },
    {
      "cell_type": "markdown",
      "metadata": {},
      "source": [
        "``` {note}\n",
        "Here, in order to measure actual speed, we use the `block_until_ready()` method \n",
        "to hold the interpreter until the results of the computation are returned from\n",
        "the device. This is necessary because JAX uses asynchronous dispatch, which\n",
        "allows the Python interpreter to run ahead of GPU computations.\n",
        "```\n",
        "\n",
        "The code doesn’t run as fast as we might hope, given that it’s running\n",
        "on a GPU.\n",
        "\n",
        "But if we run it a second time it becomes much faster:"
      ],
      "id": "0e20e658-8a64-4481-b58a-e8e23acca94e"
    },
    {
      "cell_type": "code",
      "execution_count": 41,
      "metadata": {},
      "outputs": [
        {
          "output_type": "stream",
          "name": "stdout",
          "text": [
            "CPU times: user 2.57 s, sys: 2.73 s, total: 5.3 s\n",
            "Wall time: 1.32 s"
          ]
        },
        {
          "output_type": "display_data",
          "metadata": {},
          "data": {
            "text/plain": [
              "Array(2.19896006e+08, dtype=float64)"
            ]
          }
        }
      ],
      "source": [
        "%time f(x).block_until_ready()"
      ],
      "id": "837f394e"
    },
    {
      "cell_type": "markdown",
      "metadata": {},
      "source": [
        "This is because the built in functions like `jnp.cos` are JIT compiled\n",
        "and the first run includes compile time.\n",
        "\n",
        "Why would JAX want to JIT-compile built in functions like `jnp.cos`\n",
        "instead of just providing pre-compiled versions, like NumPy?\n",
        "\n",
        "The reason is that the JIT compiler can specialize on the *size* of the\n",
        "array being used, which is helpful for parallelization.\n",
        "\n",
        "For example, in running the code above, the JIT compiler produced a\n",
        "version of `jnp.cos` that is specialized to floating point arrays of\n",
        "size `n = 50_000_000`.\n",
        "\n",
        "We can check this by calling `f` with a new array of different size."
      ],
      "id": "9a2c5b5c-6bb0-435a-81fa-dbec2ea7b983"
    },
    {
      "cell_type": "code",
      "execution_count": 42,
      "metadata": {},
      "outputs": [],
      "source": [
        "m = 50_000_001\n",
        "y = jnp.ones(m)"
      ],
      "id": "273a1b19"
    },
    {
      "cell_type": "code",
      "execution_count": 43,
      "metadata": {},
      "outputs": [
        {
          "output_type": "stream",
          "name": "stdout",
          "text": [
            "CPU times: user 2.78 s, sys: 2.63 s, total: 5.4 s\n",
            "Wall time: 1.51 s"
          ]
        },
        {
          "output_type": "display_data",
          "metadata": {},
          "data": {
            "text/plain": [
              "Array(2.19896011e+08, dtype=float64)"
            ]
          }
        }
      ],
      "source": [
        "%time f(y).block_until_ready()"
      ],
      "id": "4355d413"
    },
    {
      "cell_type": "markdown",
      "metadata": {},
      "source": [
        "Notice that the execution time increases, because now new versions of\n",
        "the built-ins like `jnp.cos` are being compiled, specialized to the new\n",
        "array size.\n",
        "\n",
        "If we run again, the code is dispatched to the correct compiled version\n",
        "and we get faster execution."
      ],
      "id": "b04db11a-d671-4cb6-8e01-5260569a7103"
    },
    {
      "cell_type": "code",
      "execution_count": 44,
      "metadata": {},
      "outputs": [
        {
          "output_type": "stream",
          "name": "stdout",
          "text": [
            "CPU times: user 2.6 s, sys: 2.78 s, total: 5.38 s\n",
            "Wall time: 1.32 s"
          ]
        },
        {
          "output_type": "display_data",
          "metadata": {},
          "data": {
            "text/plain": [
              "Array(2.19896011e+08, dtype=float64)"
            ]
          }
        }
      ],
      "source": [
        "%time f(y).block_until_ready()"
      ],
      "id": "fa53389e"
    },
    {
      "cell_type": "markdown",
      "metadata": {},
      "source": [
        "The compiled versions for the previous array size are still available in\n",
        "memory too, and the following call is dispatched to the correct compiled\n",
        "code."
      ],
      "id": "e2162fc5-d927-49a3-825f-602e719cc8e5"
    },
    {
      "cell_type": "code",
      "execution_count": 45,
      "metadata": {},
      "outputs": [
        {
          "output_type": "stream",
          "name": "stdout",
          "text": [
            "CPU times: user 2.56 s, sys: 2.79 s, total: 5.35 s\n",
            "Wall time: 1.35 s"
          ]
        },
        {
          "output_type": "display_data",
          "metadata": {},
          "data": {
            "text/plain": [
              "Array(2.19896006e+08, dtype=float64)"
            ]
          }
        }
      ],
      "source": [
        "%time f(x).block_until_ready()"
      ],
      "id": "c142cd98"
    },
    {
      "cell_type": "markdown",
      "metadata": {},
      "source": [
        "### Compiling the outer function\n",
        "\n",
        "We can do even better if we manually JIT-compile the outer function."
      ],
      "id": "d8d9a1c2-8409-490b-b146-5b6f5c37aad6"
    },
    {
      "cell_type": "code",
      "execution_count": 46,
      "metadata": {},
      "outputs": [],
      "source": [
        "f_jit = jax.jit(f)   # target for JIT compilation"
      ],
      "id": "f9df0e21"
    },
    {
      "cell_type": "markdown",
      "metadata": {},
      "source": [
        "Let’s run once to compile it:"
      ],
      "id": "097fd4c9-1187-4fa0-b821-f63b6da97301"
    },
    {
      "cell_type": "code",
      "execution_count": 47,
      "metadata": {},
      "outputs": [
        {
          "output_type": "display_data",
          "metadata": {},
          "data": {
            "text/plain": [
              "Array(2.19896006e+08, dtype=float64)"
            ]
          }
        }
      ],
      "source": [
        "f_jit(x)"
      ],
      "id": "c7339277"
    },
    {
      "cell_type": "markdown",
      "metadata": {},
      "source": [
        "And now let’s time it."
      ],
      "id": "6243c794-29dd-4dc5-9ead-d5098136d309"
    },
    {
      "cell_type": "code",
      "execution_count": 48,
      "metadata": {},
      "outputs": [
        {
          "output_type": "stream",
          "name": "stdout",
          "text": [
            "CPU times: user 1.96 s, sys: 195 ms, total: 2.16 s\n",
            "Wall time: 456 ms"
          ]
        },
        {
          "output_type": "display_data",
          "metadata": {},
          "data": {
            "text/plain": [
              "Array(2.19896006e+08, dtype=float64)"
            ]
          }
        }
      ],
      "source": [
        "%time f_jit(x).block_until_ready()"
      ],
      "id": "b8e8d37d"
    },
    {
      "cell_type": "markdown",
      "metadata": {},
      "source": [
        "Note the speed gain.\n",
        "\n",
        "This is because the array operations are fused and no intermediate\n",
        "arrays are created.\n",
        "\n",
        "Incidentally, a more common syntax when targetting a function for the\n",
        "JIT compiler is"
      ],
      "id": "157b0b10-693c-4d4c-9dac-705adcb4262c"
    },
    {
      "cell_type": "code",
      "execution_count": 49,
      "metadata": {},
      "outputs": [],
      "source": [
        "@jax.jit\n",
        "def f(x):\n",
        "    a = 3*x + jnp.sin(x) + jnp.cos(x**2) - jnp.cos(2*x) - x**2 * 0.4 * x**1.5\n",
        "    return jnp.sum(a)"
      ],
      "id": "d99d39f5"
    },
    {
      "cell_type": "markdown",
      "metadata": {},
      "source": [
        "## Functional Programming\n",
        "\n",
        "From JAX’s documentation:\n",
        "\n",
        "*When walking about the countryside of Italy, the people will not\n",
        "hesitate to tell you that JAX has “una anima di pura programmazione\n",
        "funzionale”.*\n",
        "\n",
        "In other words, JAX assumes a functional programming style.\n",
        "\n",
        "The major implication is that JAX functions should be pure.\n",
        "\n",
        "A pure function will always return the same result if invoked with the\n",
        "same inputs.\n",
        "\n",
        "In particular, a pure function has\n",
        "\n",
        "-   no dependence on global variables and\n",
        "-   no side effects\n",
        "\n",
        "JAX will not usually throw errors when compiling impure functions but\n",
        "execution becomes unpredictable.\n",
        "\n",
        "Here’s an illustration of this fact, using global variables:"
      ],
      "id": "84e05555-7f46-488e-857d-61ffe23d459e"
    },
    {
      "cell_type": "code",
      "execution_count": 50,
      "metadata": {},
      "outputs": [],
      "source": [
        "a = 1  # global\n",
        "\n",
        "@jax.jit\n",
        "def f(x):\n",
        "    return a + x"
      ],
      "id": "f6226aba"
    },
    {
      "cell_type": "code",
      "execution_count": 51,
      "metadata": {},
      "outputs": [],
      "source": [
        "x = jnp.ones(2)"
      ],
      "id": "083e683c"
    },
    {
      "cell_type": "code",
      "execution_count": 52,
      "metadata": {},
      "outputs": [
        {
          "output_type": "display_data",
          "metadata": {},
          "data": {
            "text/plain": [
              "Array([2., 2.], dtype=float64)"
            ]
          }
        }
      ],
      "source": [
        "f(x)"
      ],
      "id": "c163ff7d"
    },
    {
      "cell_type": "markdown",
      "metadata": {},
      "source": [
        "In the code above, the global value `a=1` is fused into the jitted\n",
        "function.\n",
        "\n",
        "Even if we change `a`, the output of `f` will not be affected — as long\n",
        "as the same compiled version is called."
      ],
      "id": "3eba58be-c30a-4435-a8df-55785fd57901"
    },
    {
      "cell_type": "code",
      "execution_count": 53,
      "metadata": {},
      "outputs": [],
      "source": [
        "a = 42"
      ],
      "id": "5d25f1b5"
    },
    {
      "cell_type": "code",
      "execution_count": 54,
      "metadata": {},
      "outputs": [
        {
          "output_type": "display_data",
          "metadata": {},
          "data": {
            "text/plain": [
              "Array([2., 2.], dtype=float64)"
            ]
          }
        }
      ],
      "source": [
        "f(x)"
      ],
      "id": "eb697f65"
    },
    {
      "cell_type": "markdown",
      "metadata": {},
      "source": [
        "Changing the dimension of the input triggers a fresh compilation of the\n",
        "function, at which time the change in the value of `a` takes effect:"
      ],
      "id": "2d26b7d4-703c-4cba-a90c-d5248033d9fe"
    },
    {
      "cell_type": "code",
      "execution_count": 55,
      "metadata": {},
      "outputs": [],
      "source": [
        "x = jnp.ones(3)"
      ],
      "id": "ea5a1903"
    },
    {
      "cell_type": "code",
      "execution_count": 56,
      "metadata": {},
      "outputs": [
        {
          "output_type": "display_data",
          "metadata": {},
          "data": {
            "text/plain": [
              "Array([43., 43., 43.], dtype=float64)"
            ]
          }
        }
      ],
      "source": [
        "f(x)"
      ],
      "id": "41ed287f"
    },
    {
      "cell_type": "markdown",
      "metadata": {},
      "source": [
        "Moral of the story: write pure functions when using JAX!\n",
        "\n",
        "## Gradients\n",
        "\n",
        "JAX can use automatic differentiation to compute gradients.\n",
        "\n",
        "This can be extremely useful for optimization and solving nonlinear\n",
        "systems.\n",
        "\n",
        "We will see significant applications later in this lecture series.\n",
        "\n",
        "For now, here’s a very simple illustration involving the function"
      ],
      "id": "949c0bd9-5807-4782-8081-7af4035c7ea7"
    },
    {
      "cell_type": "code",
      "execution_count": 57,
      "metadata": {},
      "outputs": [],
      "source": [
        "def f(x):\n",
        "    return (x**2) / 2"
      ],
      "id": "0870f81f"
    },
    {
      "cell_type": "markdown",
      "metadata": {},
      "source": [
        "Let’s take the derivative:"
      ],
      "id": "0997d8ee-7351-473d-9bc0-dd10bab37ac4"
    },
    {
      "cell_type": "code",
      "execution_count": 58,
      "metadata": {},
      "outputs": [],
      "source": [
        "f_prime = jax.grad(f)"
      ],
      "id": "1f2eb7b2"
    },
    {
      "cell_type": "code",
      "execution_count": 59,
      "metadata": {},
      "outputs": [
        {
          "output_type": "display_data",
          "metadata": {},
          "data": {
            "text/plain": [
              "Array(10., dtype=float64, weak_type=True)"
            ]
          }
        }
      ],
      "source": [
        "f_prime(10.0)"
      ],
      "id": "5fefba3b"
    },
    {
      "cell_type": "markdown",
      "metadata": {},
      "source": [
        "Let’s plot the function and derivative, noting that $f'(x) = x$."
      ],
      "id": "d70cce10-2522-44aa-96f0-e40fdc5bb7f8"
    },
    {
      "cell_type": "code",
      "execution_count": 60,
      "metadata": {},
      "outputs": [
        {
          "output_type": "display_data",
          "metadata": {},
          "data": {
            "image/png": "[encoded data removed]"
          }
        }
      ],
      "source": [
        "import matplotlib.pyplot as plt\n",
        "\n",
        "fig, ax = plt.subplots()\n",
        "x_grid = jnp.linspace(-4, 4, 200)\n",
        "ax.plot(x_grid, f(x_grid), label=\"$f$\")\n",
        "ax.plot(x_grid, [f_prime(x) for x in x_grid], label=\"$f'$\")\n",
        "ax.legend(loc='upper center')\n",
        "plt.show()"
      ],
      "id": "c5caf88f"
    },
    {
      "cell_type": "markdown",
      "metadata": {},
      "source": [
        "We defer further exploration of automatic differentiation with JAX until\n",
        "{doc}`autodiff`.\n",
        "\n",
        "## Writing vectorized code\n",
        "\n",
        "Writing fast JAX code requires shifting repetitive tasks from loops to\n",
        "array processing operations, so that the JAX compiler can easily\n",
        "understand the whole operation and generate more efficient machine code.\n",
        "\n",
        "This procedure is called **vectorization** or **array programming**, and\n",
        "will be familiar to anyone who has used NumPy or MATLAB.\n",
        "\n",
        "In most ways, vectorization is the same in JAX as it is in NumPy.\n",
        "\n",
        "But there are also some differences, which we highlight here.\n",
        "\n",
        "As a running example, consider the function\n",
        "\n",
        "$$\n",
        "    f(x,y) = \\frac{\\cos(x^2 + y^2)}{1 + x^2 + y^2}\n",
        "$$\n",
        "\n",
        "Suppose that we want to evaluate this function on a square grid of $x$\n",
        "and $y$ points and then plot it.\n",
        "\n",
        "To clarify, here is the slow `for` loop version."
      ],
      "id": "eed1e9b1-e484-4ae0-9a56-68686481a0e7"
    },
    {
      "cell_type": "code",
      "execution_count": 61,
      "metadata": {},
      "outputs": [],
      "source": [
        "@jax.jit\n",
        "def f(x, y):\n",
        "    return jnp.cos(x**2 + y**2) / (1 + x**2 + y**2)\n",
        "\n",
        "n = 80\n",
        "x = jnp.linspace(-2, 2, n)\n",
        "y = x\n",
        "\n",
        "z_loops = np.empty((n, n))"
      ],
      "id": "a33af8ab"
    },
    {
      "cell_type": "code",
      "execution_count": 62,
      "metadata": {},
      "outputs": [
        {
          "output_type": "stream",
          "name": "stdout",
          "text": [
            "CPU times: user 1.11 s, sys: 2.99 ms, total: 1.11 s\n",
            "Wall time: 1.11 s"
          ]
        }
      ],
      "source": [
        "%%time\n",
        "for i in range(n):\n",
        "    for j in range(n):\n",
        "        z_loops[i, j] = f(x[i], y[j])"
      ],
      "id": "382234ef"
    },
    {
      "cell_type": "markdown",
      "metadata": {},
      "source": [
        "Even for this very small grid, the run time is extremely slow.\n",
        "\n",
        "(Notice that we used a NumPy array for `z_loops` because we wanted to\n",
        "write to it.)\n",
        "\n",
        "  \n",
        "\n",
        "OK, so how can we do the same operation in vectorized form?\n",
        "\n",
        "If you are new to vectorization, you might guess that we can simply\n",
        "write"
      ],
      "id": "6af203cb-969b-4bec-b675-b89cfe21980b"
    },
    {
      "cell_type": "code",
      "execution_count": 63,
      "metadata": {},
      "outputs": [],
      "source": [
        "z_bad = f(x, y)"
      ],
      "id": "8a31ab2c"
    },
    {
      "cell_type": "markdown",
      "metadata": {},
      "source": [
        "But this gives us the wrong result because JAX doesn’t understand the\n",
        "nested for loop."
      ],
      "id": "c6583bbe-49c0-4a6a-b64d-c4e3438c59a2"
    },
    {
      "cell_type": "code",
      "execution_count": 64,
      "metadata": {},
      "outputs": [
        {
          "output_type": "display_data",
          "metadata": {},
          "data": {
            "text/plain": [
              "(80,)"
            ]
          }
        }
      ],
      "source": [
        "z_bad.shape"
      ],
      "id": "1d6bb1e1"
    },
    {
      "cell_type": "markdown",
      "metadata": {},
      "source": [
        "Here is what we actually wanted:"
      ],
      "id": "1d1382b5-9bfb-4dd8-a747-1993138a4001"
    },
    {
      "cell_type": "code",
      "execution_count": 65,
      "metadata": {},
      "outputs": [
        {
          "output_type": "display_data",
          "metadata": {},
          "data": {
            "text/plain": [
              "(80, 80)"
            ]
          }
        }
      ],
      "source": [
        "z_loops.shape"
      ],
      "id": "af2f1bda"
    },
    {
      "cell_type": "markdown",
      "metadata": {},
      "source": [
        "To get the right shape and the correct nested for loop calculation, we\n",
        "can use a `meshgrid` operation designed for this purpose:"
      ],
      "id": "d570e654-9938-4847-a5a4-ba4760c96ab9"
    },
    {
      "cell_type": "code",
      "execution_count": 66,
      "metadata": {},
      "outputs": [],
      "source": [
        "x_mesh, y_mesh = jnp.meshgrid(x, y)"
      ],
      "id": "25efed6d"
    },
    {
      "cell_type": "markdown",
      "metadata": {},
      "source": [
        "Now we get what we want and the execution time is very fast."
      ],
      "id": "fca48502-818c-4de2-ade3-6e6d50ebef85"
    },
    {
      "cell_type": "code",
      "execution_count": 67,
      "metadata": {},
      "outputs": [
        {
          "output_type": "stream",
          "name": "stdout",
          "text": [
            "CPU times: user 27.4 ms, sys: 1.23 ms, total: 28.6 ms\n",
            "Wall time: 27.3 ms"
          ]
        }
      ],
      "source": [
        "%%time\n",
        "z_mesh = f(x_mesh, y_mesh).block_until_ready()"
      ],
      "id": "6f5d0b9f"
    },
    {
      "cell_type": "markdown",
      "metadata": {},
      "source": [
        "Let’s run again to eliminate compile time."
      ],
      "id": "f68d5fa3-799b-490e-ad6b-5e36c9494a73"
    },
    {
      "cell_type": "code",
      "execution_count": 68,
      "metadata": {},
      "outputs": [
        {
          "output_type": "stream",
          "name": "stdout",
          "text": [
            "CPU times: user 548 μs, sys: 0 ns, total: 548 μs\n",
            "Wall time: 350 μs"
          ]
        }
      ],
      "source": [
        "%%time\n",
        "z_mesh = f(x_mesh, y_mesh).block_until_ready()"
      ],
      "id": "8f252649"
    },
    {
      "cell_type": "markdown",
      "metadata": {},
      "source": [
        "Let’s confirm that we got the right answer."
      ],
      "id": "19bb9632-6f09-4f33-b2a2-81bd7c20253e"
    },
    {
      "cell_type": "code",
      "execution_count": 69,
      "metadata": {},
      "outputs": [
        {
          "output_type": "display_data",
          "metadata": {},
          "data": {
            "text/plain": [
              "Array(True, dtype=bool)"
            ]
          }
        }
      ],
      "source": [
        "jnp.allclose(z_mesh, z_loops)"
      ],
      "id": "2c0f90c5"
    },
    {
      "cell_type": "markdown",
      "metadata": {},
      "source": [
        "Now we can set up a serious grid and run the same calculation (on the\n",
        "larger grid) in a short amount of time."
      ],
      "id": "44bd5d58-368e-41f6-8e81-bfa5e1dd6d56"
    },
    {
      "cell_type": "code",
      "execution_count": 70,
      "metadata": {},
      "outputs": [],
      "source": [
        "n = 6000\n",
        "x = jnp.linspace(-2, 2, n)\n",
        "y = x\n",
        "x_mesh, y_mesh = jnp.meshgrid(x, y)"
      ],
      "id": "0aec3622"
    },
    {
      "cell_type": "code",
      "execution_count": 71,
      "metadata": {},
      "outputs": [
        {
          "output_type": "stream",
          "name": "stdout",
          "text": [
            "CPU times: user 459 ms, sys: 107 ms, total: 566 ms\n",
            "Wall time: 144 ms"
          ]
        }
      ],
      "source": [
        "%%time\n",
        "z_mesh = f(x_mesh, y_mesh).block_until_ready()"
      ],
      "id": "2831c1a5"
    },
    {
      "cell_type": "markdown",
      "metadata": {},
      "source": [
        "Let’s run again to get rid of compile time."
      ],
      "id": "04fead9a-c99c-46a3-ad75-39f8767e83c9"
    },
    {
      "cell_type": "code",
      "execution_count": 72,
      "metadata": {},
      "outputs": [
        {
          "output_type": "stream",
          "name": "stdout",
          "text": [
            "CPU times: user 424 ms, sys: 125 ms, total: 549 ms\n",
            "Wall time: 128 ms"
          ]
        }
      ],
      "source": [
        "%%time\n",
        "z_mesh = f(x_mesh, y_mesh).block_until_ready()"
      ],
      "id": "89d6b10b"
    },
    {
      "cell_type": "markdown",
      "metadata": {},
      "source": [
        "But there is one problem here: the mesh grids use a lot of memory."
      ],
      "id": "d0215274-543f-418e-a7d8-3cc7b04f8053"
    },
    {
      "cell_type": "code",
      "execution_count": 73,
      "metadata": {},
      "outputs": [
        {
          "output_type": "display_data",
          "metadata": {},
          "data": {
            "text/plain": [
              "576000000"
            ]
          }
        }
      ],
      "source": [
        "x_mesh.nbytes + y_mesh.nbytes"
      ],
      "id": "7452204b"
    },
    {
      "cell_type": "markdown",
      "metadata": {},
      "source": [
        "By comparison, the flat array `x` is just"
      ],
      "id": "a0dc048e-8f5c-4ea0-8af4-f570e24cd21a"
    },
    {
      "cell_type": "code",
      "execution_count": 74,
      "metadata": {},
      "outputs": [
        {
          "output_type": "display_data",
          "metadata": {},
          "data": {
            "text/plain": [
              "48000"
            ]
          }
        }
      ],
      "source": [
        "x.nbytes  # and y is just a pointer to x"
      ],
      "id": "02df9ef6"
    },
    {
      "cell_type": "markdown",
      "metadata": {},
      "source": [
        "This extra memory usage can be a big problem in actual research\n",
        "calculations.\n",
        "\n",
        "So let’s try a different approach using\n",
        "[jax.vmap](https://jax.readthedocs.io/en/latest/_autosummary/jax.vmap.html)\n",
        "\n",
        "  \n",
        "\n",
        "First we vectorize `f` in `y`."
      ],
      "id": "82f37c20-b415-4427-874a-b567f2341af5"
    },
    {
      "cell_type": "code",
      "execution_count": 75,
      "metadata": {},
      "outputs": [],
      "source": [
        "f_vec_y = jax.vmap(f, in_axes=(None, 0))  "
      ],
      "id": "59a4f423"
    },
    {
      "cell_type": "markdown",
      "metadata": {},
      "source": [
        "In the line above, `(None, 0)` indicates that we are vectorizing in the\n",
        "second argument, which is `y`.\n",
        "\n",
        "Next, we vectorize in the first argument, which is `x`."
      ],
      "id": "dd4c0c8d-78a7-489a-aa52-11e6eb18523d"
    },
    {
      "cell_type": "code",
      "execution_count": 76,
      "metadata": {},
      "outputs": [],
      "source": [
        "f_vec = jax.vmap(f_vec_y, in_axes=(0, None))"
      ],
      "id": "2605dffc"
    },
    {
      "cell_type": "markdown",
      "metadata": {},
      "source": [
        "With this construction, we can now call the function $f$ on flat (low\n",
        "memory) arrays."
      ],
      "id": "e6442bd6-018b-47c5-b699-b8293dfea010"
    },
    {
      "cell_type": "code",
      "execution_count": 77,
      "metadata": {},
      "outputs": [
        {
          "output_type": "stream",
          "name": "stdout",
          "text": [
            "CPU times: user 442 ms, sys: 102 ms, total: 544 ms\n",
            "Wall time: 146 ms"
          ]
        }
      ],
      "source": [
        "%%time\n",
        "z_vmap = f_vec(x, y).block_until_ready()"
      ],
      "id": "67718cff"
    },
    {
      "cell_type": "markdown",
      "metadata": {},
      "source": [
        "We run it again to eliminate compile time."
      ],
      "id": "0346d909-6743-4aad-a4f4-b1a27ac3fecb"
    },
    {
      "cell_type": "code",
      "execution_count": 78,
      "metadata": {},
      "outputs": [
        {
          "output_type": "stream",
          "name": "stdout",
          "text": [
            "CPU times: user 406 ms, sys: 139 ms, total: 545 ms\n",
            "Wall time: 134 ms"
          ]
        }
      ],
      "source": [
        "%%time\n",
        "z_vmap = f_vec(x, y).block_until_ready()"
      ],
      "id": "902bf522"
    },
    {
      "cell_type": "markdown",
      "metadata": {},
      "source": [
        "The execution time is essentially the same as the mesh operation but we\n",
        "are using much less memory.\n",
        "\n",
        "And we produce the correct answer:"
      ],
      "id": "271424c8-a3b9-47fa-964e-06adc3e632d2"
    },
    {
      "cell_type": "code",
      "execution_count": 79,
      "metadata": {},
      "outputs": [
        {
          "output_type": "display_data",
          "metadata": {},
          "data": {
            "text/plain": [
              "Array(True, dtype=bool)"
            ]
          }
        }
      ],
      "source": [
        "jnp.allclose(z_vmap, z_mesh)"
      ],
      "id": "348525fd"
    }
  ],
  "nbformat": 4,
  "nbformat_minor": 5,
  "metadata": {
    "kernelspec": {
      "name": "python3",
      "display_name": "Python 3 (ipykernel)",
      "language": "python",
      "path": "/home/pablo/.local/share/jupyter/kernels/python3"
    },
    "language_info": {
      "name": "python",
      "codemirror_mode": {
        "name": "ipython",
        "version": "3"
      },
      "file_extension": ".py",
      "mimetype": "text/x-python",
      "nbconvert_exporter": "python",
      "pygments_lexer": "ipython3",
      "version": "3.11.10"
    }
  }
}