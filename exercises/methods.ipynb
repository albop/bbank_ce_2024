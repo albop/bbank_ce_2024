{
  "cells": [
    {
      "cell_type": "markdown",
      "metadata": {},
      "source": [
        "# Methods\n",
        "\n",
        "## Optimization and root finding\n",
        "\n",
        "<span class=\"theorem-title\">**Exercise 1**</span> Consider the function\n",
        "$f(x,y)=1-(x-x_0)^2-0.5(y-y_0)^2$ with $x_0=0.5$ and $y_0=1.0$. Check\n",
        "the documentatin for `scipy.optimize`. Use it to maximze function $f$."
      ],
      "id": "444aa507-d806-4536-85ac-cbbdc39387ce"
    },
    {
      "cell_type": "code",
      "execution_count": 1,
      "metadata": {},
      "outputs": [],
      "source": [
        "# one needs to define $f$ as a function of a vector\n",
        "# f(v)=1-(v[0]-x_0)^2-0.5*(v[1]-y_0)^2$ "
      ],
      "id": "4af87646"
    },
    {
      "cell_type": "markdown",
      "metadata": {},
      "source": [
        "Consider the function $g(x)=0.1+exp(-x)x(1-x)$ over \\[0,2\\]. Choose the\n",
        "scipy function and find the root of $g$."
      ],
      "id": "470ff8f9-f47a-457a-a67e-827ab591a263"
    },
    {
      "cell_type": "code",
      "execution_count": 2,
      "metadata": {},
      "outputs": [],
      "source": [
        "#"
      ],
      "id": "0a9f8142"
    },
    {
      "cell_type": "markdown",
      "metadata": {},
      "source": [
        "Consider the function $h(x,y)=0.1+exp(-x)x(1-x)$ over \\[0,2\\]. Choose\n",
        "the scipy function and find the root of $g$. to find the root of $g$?"
      ],
      "id": "334f4748-bd86-4d02-9c3e-8b6c5e2a31a4"
    },
    {
      "cell_type": "code",
      "execution_count": 3,
      "metadata": {},
      "outputs": [],
      "source": [
        "#"
      ],
      "id": "6c28e742"
    },
    {
      "cell_type": "markdown",
      "metadata": {},
      "source": [
        "## Interpolation\n",
        "\n",
        "We consider the function\n",
        "$f(x) = sinc(\\lambda x) = \\frac{sin(\\lambda x)}{x}$. Let\n",
        "$I=(x_i)_{i=[1,10]}$ be a regularly spaced interval between -2 and +2,\n",
        "containing 10 points. Call $Y=(y_i)=f(x_i)$ the values of $f$ on this\n",
        "interval. Let $T$ be a test set with 1000 regularly spaced points\n",
        "between -2.5 and 2.5.\n",
        "\n",
        "The goal is to compare several ways interpolate function f on $T$.\n",
        "\n",
        "<span class=\"theorem-title\">**Exercise 2**</span> Define `f`, `I`, `Y`,\n",
        "`T` with numpy."
      ],
      "id": "fdc5e695-81aa-440d-bee1-960098c127e3"
    },
    {
      "cell_type": "code",
      "execution_count": 4,
      "metadata": {},
      "outputs": [],
      "source": [
        "# "
      ],
      "id": "b0bebb2d"
    },
    {
      "cell_type": "markdown",
      "metadata": {},
      "source": [
        "<span class=\"theorem-title\">**Exercise 3**</span> Construct a stepwise\n",
        "approximation using numpy indexing"
      ],
      "id": "26057613-becd-4cf0-9b85-47729a959de6"
    },
    {
      "cell_type": "code",
      "execution_count": 5,
      "metadata": {},
      "outputs": [],
      "source": [
        "# "
      ],
      "id": "29e04285"
    },
    {
      "cell_type": "markdown",
      "metadata": {},
      "source": [
        "<span class=\"theorem-title\">**Exercise 4**</span> Plot it"
      ],
      "id": "c3ce58ba-4b1f-417d-9440-3c9fbfadc5f0"
    },
    {
      "cell_type": "code",
      "execution_count": 6,
      "metadata": {},
      "outputs": [],
      "source": [
        "# "
      ],
      "id": "f1eba5e0"
    },
    {
      "cell_type": "markdown",
      "metadata": {},
      "source": [
        "<span class=\"theorem-title\">**Exercise 5**</span> Construct a linear\n",
        "approximation using numpy"
      ],
      "id": "98f8dd52-a076-456d-924f-5ed2a0dfa9e4"
    },
    {
      "cell_type": "code",
      "execution_count": 7,
      "metadata": {},
      "outputs": [],
      "source": [
        "#"
      ],
      "id": "4ee1e8d8"
    },
    {
      "cell_type": "markdown",
      "metadata": {},
      "source": [
        "<span class=\"theorem-title\">**Exercise 6**</span> Use scipy.interpolate\n",
        "to interpolate the data linearly. Compare the various extrapolation\n",
        "options."
      ],
      "id": "94c1880b-eec7-43c7-ab28-19dd971cd66d"
    },
    {
      "cell_type": "code",
      "execution_count": 8,
      "metadata": {},
      "outputs": [],
      "source": [
        "#"
      ],
      "id": "c973b3ae"
    },
    {
      "cell_type": "markdown",
      "metadata": {},
      "source": [
        "<span class=\"theorem-title\">**Exercise 7**</span> Use scipy.interpolate\n",
        "to interolate the data with cubic splines. Compare the various\n",
        "extrapolation options."
      ],
      "id": "03065d7c-d99c-4e99-b629-4131f6796bfd"
    },
    {
      "cell_type": "code",
      "execution_count": 9,
      "metadata": {},
      "outputs": [],
      "source": [
        "#"
      ],
      "id": "da480f67"
    },
    {
      "cell_type": "markdown",
      "metadata": {},
      "source": [
        "<span class=\"theorem-title\">**Exercise 8**</span> Plot the results"
      ],
      "id": "2d524543-6e9a-4d07-984a-1e5c0970aa77"
    },
    {
      "cell_type": "code",
      "execution_count": 10,
      "metadata": {},
      "outputs": [],
      "source": [
        "#"
      ],
      "id": "4da2314a"
    },
    {
      "cell_type": "markdown",
      "metadata": {},
      "source": [
        "## Discretization\n",
        "\n",
        "<span class=\"theorem-title\">**Exercise 9**</span> Consider the AR1\n",
        "process $y_t = \\rho y_{t-1} + \\epsilon_t$ where $\\rho=0.9$ and\n",
        "$\\epsilon_t=0.01$. Use the `quantecon` library to discretize $(y_t)$ as\n",
        "a discrete markov chain."
      ],
      "id": "8bb7c5df-eec3-4cf2-be69-0571c61aeed7"
    },
    {
      "cell_type": "code",
      "execution_count": 11,
      "metadata": {},
      "outputs": [],
      "source": [
        "#"
      ],
      "id": "d5434c64"
    },
    {
      "cell_type": "markdown",
      "metadata": {},
      "source": [
        "<span class=\"theorem-title\">**Exercise 10**</span> Suppose $\\epsilon$\n",
        "follows a normal law with standard deviation $σ = 0.05$. Take γ = 40 and\n",
        "define $U(x)=(x^{-γ})/(-γ)$ We want to compute\n",
        "$C(\\epsilon) = \\mathbb{E} [U(exp(\\epsilon)) ]$.\n",
        "\n",
        "-   Choose $N>0$ and construct a 1d vector with $N$ realizations of\n",
        "    $\\epsilon$. Use it to compute the expectation.\n",
        "-   Estimate the standard deviation of this expectation.\n",
        "-   Use gauss-hermite method from numpy to compute the same expectation.\n",
        "-   Compare both methods."
      ],
      "id": "6f1cd812-2bbc-4e7a-bc78-79b478743063"
    }
  ],
  "nbformat": 4,
  "nbformat_minor": 5,
  "metadata": {
    "kernelspec": {
      "name": "python3",
      "display_name": "Python 3 (ipykernel)",
      "language": "python",
      "path": "/home/pablo/.local/share/jupyter/kernels/python3"
    },
    "language_info": {
      "name": "python",
      "codemirror_mode": {
        "name": "ipython",
        "version": "3"
      },
      "file_extension": ".py",
      "mimetype": "text/x-python",
      "nbconvert_exporter": "python",
      "pygments_lexer": "ipython3",
      "version": "3.11.10"
    }
  }
}