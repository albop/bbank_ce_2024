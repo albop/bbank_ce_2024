{
  "cells": [
    {
      "cell_type": "markdown",
      "metadata": {},
      "source": [
        "# Numeric Python\n",
        "\n",
        "### Numpy/scipy/matplotlib\n",
        "\n",
        "-   Most python scientists, use the following libraries:\n",
        "    -   `numpy`: performant array library (vectors, matrices, tensors)\n",
        "    -   `matplotlib`: plotting library\n",
        "    -   `scipy`: all kinds of mathematical routines\n",
        "-   In the rest of the course, we’ll make some use of `numpy` and\n",
        "    `matplotlib`\n",
        "-   They are included in all python *distributions* like Anaconda Python\n",
        "-   All additional libraries use `numpy` and `matplotlib`: `pandas`,\n",
        "    `statsmodels`, `sklearn`\n",
        "\n",
        "### Importing the libraries\n",
        "\n",
        "It is standard to import the libraries as `np`, and `plt`. We’ll follow\n",
        "this convention here."
      ],
      "id": "454f7d61-70e3-4121-84bb-ae2670b39535"
    },
    {
      "cell_type": "code",
      "execution_count": 1,
      "metadata": {
        "slideshow": {
          "slide_type": "fragment"
        }
      },
      "outputs": [],
      "source": [
        "# these lines need to be run only once per program\n",
        "import numpy as np\n",
        "import matplotlib as plt"
      ],
      "id": "3573640f"
    },
    {
      "cell_type": "code",
      "execution_count": 2,
      "metadata": {
        "slideshow": {
          "slide_type": "fragment"
        }
      },
      "outputs": [],
      "source": [
        "print(f\"Numpy version {np.__version__}\")\n",
        "print(f\"Matplotlib version {plt.__version__}\")"
      ],
      "id": "dedfd3c0"
    },
    {
      "cell_type": "markdown",
      "metadata": {},
      "source": [
        "## Numpy\n",
        "\n",
        "### What is Numpy\n",
        "\n",
        "Numpy is an array type (python object) meant to store efficiently\n",
        "homogenous, square, arrays (like $(a_{i})_{i\\in [1,N]}$ or\n",
        "$(b_{i,j,k})_{i\\in [1,N],j\\in[1,J],k \\in [1,K]}$)\n",
        "\n",
        "By default its stores data in contiguous C-order (last index varies\n",
        "faster), but also supports Fortran order and strided arrays\n",
        "(non-contiguous).\n",
        "\n",
        "Numpy has introduced well thought conventions, that have been reused by\n",
        "many other libraries (tensorflow, pytorch, jax), or even programming\n",
        "languages (julia)\n",
        "\n",
        "### Vector Creation\n",
        "\n",
        "-   Vectors and matrices are created with the `np.array(...)` function.\n",
        "-   Special vectors can be created with `np.zeros`, `np.ones`,\n",
        "    `np.linspace`"
      ],
      "id": "d514f201-c2b8-4b4c-9aba-b49808108f4e"
    },
    {
      "cell_type": "code",
      "execution_count": 3,
      "metadata": {
        "slideshow": {
          "slide_type": "fragment"
        }
      },
      "outputs": [],
      "source": [
        "# an array can be created from a list of numbers\n",
        "np.array( [1.0, 2.0, 3.0] )"
      ],
      "id": "a191433b"
    },
    {
      "cell_type": "code",
      "execution_count": 4,
      "metadata": {
        "slideshow": {
          "slide_type": "fragment"
        }
      },
      "outputs": [],
      "source": [
        "# or initialized by specifying the length of the array\n",
        "np.zeros(5)"
      ],
      "id": "f1ad800c"
    },
    {
      "cell_type": "code",
      "execution_count": 5,
      "metadata": {},
      "outputs": [],
      "source": [
        "# 10 regularly spaced points between 0 and 1\n",
        "np.linspace(0, 1, 11)"
      ],
      "id": "0420b2af"
    },
    {
      "cell_type": "markdown",
      "metadata": {},
      "source": [
        "### Matrix Creation\n",
        "\n",
        "-   A matrix is a 2-dimensional array and is created with `np.array`\n",
        "-   Function `np.matrix()` has been deprecated: do not use it.\n",
        "-   There are functions to create specific matrices: `np.eye`,\n",
        "    `np.diag`, …"
      ],
      "id": "f3b0a77a-2aea-4ab2-b5bd-23668e1c395e"
    },
    {
      "cell_type": "code",
      "execution_count": 6,
      "metadata": {
        "slideshow": {
          "slide_type": "fragment"
        }
      },
      "outputs": [],
      "source": [
        "# an array can be created from a list of (equal size) lists\n",
        "np.array([\n",
        "    [1.0, 2.0, 3.0],\n",
        "    [4  ,   5,   6] \n",
        "])"
      ],
      "id": "c209808e"
    },
    {
      "cell_type": "code",
      "execution_count": 7,
      "metadata": {
        "slideshow": {
          "slide_type": "fragment"
        }
      },
      "outputs": [],
      "source": [
        "# initialize an empty matrix with the dimensions as a tuple\n",
        "A = np.zeros( (2, 3) )\n",
        "A"
      ],
      "id": "c7d7c6ab"
    },
    {
      "cell_type": "code",
      "execution_count": 8,
      "metadata": {},
      "outputs": [],
      "source": [
        "# matrix dimensions are contained in the shape attribute\n",
        "A.shape"
      ],
      "id": "d430065b"
    },
    {
      "cell_type": "markdown",
      "metadata": {},
      "source": [
        "### Tensors\n",
        "\n",
        "The construction generalizes to higher dimension arrays (a.k.a. tensors)"
      ],
      "id": "081ca399-9101-4d96-b6ea-92d05628bebe"
    },
    {
      "cell_type": "code",
      "execution_count": 9,
      "metadata": {
        "slideshow": {
          "slide_type": "fragment"
        }
      },
      "outputs": [],
      "source": [
        "# an array can be created from a list of list of lists\n",
        "np.array([\n",
        "    [\n",
        "        [1.0, 2.0, 3.0],\n",
        "        [4  ,   5,   6] \n",
        "    ],\n",
        "        [\n",
        "        [7.0, 8.0, 9.0],\n",
        "        [10 ,  11,   12] \n",
        "    ]\n",
        "])"
      ],
      "id": "0dd1b76a"
    },
    {
      "cell_type": "code",
      "execution_count": 10,
      "metadata": {
        "slideshow": {
          "slide_type": "fragment"
        }
      },
      "outputs": [],
      "source": [
        "# initialize an empty matrix with the dimensions as a tuple\n",
        "A = np.zeros( (2, 3) )\n",
        "A"
      ],
      "id": "cf8f11cb"
    },
    {
      "cell_type": "code",
      "execution_count": 11,
      "metadata": {},
      "outputs": [],
      "source": [
        "# matrix dimensions are contained in the shape attribute\n",
        "A.shape"
      ],
      "id": "28aa41e4"
    },
    {
      "cell_type": "markdown",
      "metadata": {},
      "source": [
        "### Linear Algebra\n",
        "\n",
        "*Vector multiplications* and *Matrix multiplications* can be performed\n",
        "using special sign `@`"
      ],
      "id": "2433c6ac-73cf-4e80-ab52-cd8ea0f9ad68"
    },
    {
      "cell_type": "code",
      "execution_count": 12,
      "metadata": {
        "slideshow": {
          "slide_type": "fragment"
        }
      },
      "outputs": [],
      "source": [
        "A = np.array([[1.0, 2.0], [2,4]])\n",
        "A"
      ],
      "id": "e9a1999e"
    },
    {
      "cell_type": "code",
      "execution_count": 13,
      "metadata": {
        "slideshow": {
          "slide_type": "fragment"
        }
      },
      "outputs": [],
      "source": [
        "B = np.array([1.0, 2.0])\n",
        "B"
      ],
      "id": "1fd14a6b"
    },
    {
      "cell_type": "code",
      "execution_count": 14,
      "metadata": {
        "slideshow": {
          "slide_type": "fragment"
        }
      },
      "outputs": [],
      "source": [
        "A@B"
      ],
      "id": "e74e3c4b"
    },
    {
      "cell_type": "code",
      "execution_count": 15,
      "metadata": {
        "slideshow": {
          "slide_type": "fragment"
        }
      },
      "outputs": [],
      "source": [
        "A@A"
      ],
      "id": "e82007bf"
    },
    {
      "cell_type": "markdown",
      "metadata": {},
      "source": [
        "Note how multiplication reduces total number of dimensions by 2. It is a\n",
        "tensor reduction."
      ],
      "id": "20f858fc-ba26-41f2-8481-7faa133c11b7"
    },
    {
      "cell_type": "code",
      "execution_count": 16,
      "metadata": {
        "slideshow": {
          "slide_type": "fragment"
        }
      },
      "outputs": [],
      "source": [
        "print(A.shape, A.shape, (A@A).shape)"
      ],
      "id": "205747e5"
    },
    {
      "cell_type": "markdown",
      "metadata": {},
      "source": [
        "### Scalar types\n",
        "\n",
        "Numpy arrays can contain data of several *scalar* types."
      ],
      "id": "fd420537-6ebc-4efd-b1a9-9fa140b2dc04"
    },
    {
      "cell_type": "code",
      "execution_count": 17,
      "metadata": {},
      "outputs": [],
      "source": [
        "[True, False, True]"
      ],
      "id": "9d47eddc"
    },
    {
      "cell_type": "code",
      "execution_count": 18,
      "metadata": {},
      "outputs": [],
      "source": [
        "# vector of boolean\n",
        "boolean_vector = np.array( [True, False, True] )\n",
        "print(f\"type of scalar '{boolean_vector.dtype}'\")\n",
        "boolean_vector"
      ],
      "id": "72138356"
    },
    {
      "cell_type": "code",
      "execution_count": 19,
      "metadata": {},
      "outputs": [],
      "source": [
        "# vector of integers\n",
        "int_vector = np.array([1, 2, 0])\n",
        "print(f\"type of scalar '{int_vector.dtype}'\")\n",
        "int_vector"
      ],
      "id": "58cb2f06"
    },
    {
      "cell_type": "markdown",
      "metadata": {},
      "source": [
        "By default, numerical arrays contain `float64` numbers (like matlab).\n",
        "But GPUs typically process 16 bits or 32 bits numbers.\n",
        "\n",
        "Can you create a 32 bits array?"
      ],
      "id": "3ae57932-a83a-451c-a652-0c82ad3ef9cb"
    },
    {
      "cell_type": "code",
      "execution_count": 20,
      "metadata": {},
      "outputs": [],
      "source": [
        "# your code here"
      ],
      "id": "90a35f05"
    },
    {
      "cell_type": "markdown",
      "metadata": {},
      "source": [
        "### Subscripting Vectors\n",
        "\n",
        "-   Elements and subarrays, can be retrieved using the same syntax as\n",
        "    lists and strings.\n",
        "    -   Remember that indexing starts at 0."
      ],
      "id": "04f77cdc-9641-4f66-9c34-90e57b535555"
    },
    {
      "cell_type": "code",
      "execution_count": 21,
      "metadata": {},
      "outputs": [],
      "source": [
        "V = np.array([0., 1., 2., 3., 4.])\n",
        "display(V[1])  # second element"
      ],
      "id": "397049e7"
    },
    {
      "cell_type": "code",
      "execution_count": 22,
      "metadata": {},
      "outputs": [],
      "source": [
        "V = np.array([0., 1., 2., 3., 4.])\n",
        "display(V[1:3])  # second, third and fourth element"
      ],
      "id": "272a2396"
    },
    {
      "cell_type": "markdown",
      "metadata": {},
      "source": [
        "### Modifying Vector Content\n",
        "\n",
        "-   Elements and suvectors, can be assigned to new values, as long as\n",
        "    they have the right dimensions."
      ],
      "id": "f8a1f340-cddc-40d6-b447-4d1e5de7ee8b"
    },
    {
      "cell_type": "code",
      "execution_count": 23,
      "metadata": {},
      "outputs": [],
      "source": [
        "V = np.array([1., 1., 2., 4., 5., 8., 13.])\n",
        "V[3] = 3.0\n",
        "V"
      ],
      "id": "d7d1b890"
    },
    {
      "cell_type": "code",
      "execution_count": 24,
      "metadata": {},
      "outputs": [],
      "source": [
        "V = np.array([1., 1., 2., 4., 5., 8., 13.])\n",
        "# V[1:4] = [1,2,3,4] # this doesn't work\n",
        "V[1:4] = [2,3,4] # this works"
      ],
      "id": "a4ad880c"
    },
    {
      "cell_type": "markdown",
      "metadata": {},
      "source": [
        "### Subscripting Matrices\n",
        "\n",
        "-   Indexing generalizes to matrices: there are two indices istead of\n",
        "    one: `M[i,j]`\n",
        "-   One can extract a row, or a column (a slice) with `M[i,:]` or\n",
        "    `M[:,i]`\n",
        "-   A submatrix is defining with two intervals: `M[i:j, k:l]` or\n",
        "    `M[i:j, :]`, …"
      ],
      "id": "03cf40d7-d3e3-4aa6-95ce-689b26b05cda"
    },
    {
      "cell_type": "code",
      "execution_count": 25,
      "metadata": {},
      "outputs": [],
      "source": [
        "M = np.array([[1,2,3],[4,5,6],[7,8,9]])\n",
        "M"
      ],
      "id": "d4a0221f"
    },
    {
      "cell_type": "code",
      "execution_count": 26,
      "metadata": {},
      "outputs": [],
      "source": [
        "M[0,1] # access element (1,2)"
      ],
      "id": "98ebc532"
    },
    {
      "cell_type": "code",
      "execution_count": 27,
      "metadata": {},
      "outputs": [],
      "source": [
        "M[2,:] # third row"
      ],
      "id": "3574fc9c"
    },
    {
      "cell_type": "code",
      "execution_count": 28,
      "metadata": {},
      "outputs": [],
      "source": [
        "M[:,1] # second column     # M[i,1] for any i"
      ],
      "id": "92b17fea"
    },
    {
      "cell_type": "code",
      "execution_count": 29,
      "metadata": {},
      "outputs": [],
      "source": [
        "M[1:3, :] # lines from 1 (included) to 3 (excluded) ; all columns"
      ],
      "id": "846cb6fc"
    },
    {
      "cell_type": "markdown",
      "metadata": {},
      "source": [
        "### Modifying matrix content"
      ],
      "id": "3f71deb5-ea14-4a63-807c-5bab6ae14ee3"
    },
    {
      "cell_type": "code",
      "execution_count": 30,
      "metadata": {},
      "outputs": [],
      "source": [
        "M = np.array([[1,2,3],[4,5,6],[7,8,9]])\n",
        "M"
      ],
      "id": "f3930fa0"
    },
    {
      "cell_type": "code",
      "execution_count": 31,
      "metadata": {},
      "outputs": [],
      "source": [
        "M[0,0] = 0\n",
        "M"
      ],
      "id": "17390be1"
    },
    {
      "cell_type": "code",
      "execution_count": 32,
      "metadata": {},
      "outputs": [],
      "source": [
        "M[1:3, 1:3] = np.array([[0,1],[1,0]]) # dimensions must match\n",
        "M"
      ],
      "id": "9f753fcf"
    },
    {
      "cell_type": "markdown",
      "metadata": {},
      "source": [
        "### Element-wise algebraic operations\n",
        "\n",
        "-   The following algebraic operations are defined on arrays: `+`, `-`,\n",
        "    `*`, `/`, `**`.\n",
        "-   Comparisons operators (`<`,`<=`, `>`, `>=`, `==`) are defined are\n",
        "    return boolean arrays.\n",
        "-   They operate element by element."
      ],
      "id": "3202ba90-0827-4c44-805b-651b138e71a2"
    },
    {
      "cell_type": "code",
      "execution_count": 33,
      "metadata": {},
      "outputs": [],
      "source": [
        "A = np.array([1,2,3,4])\n",
        "B = np.array([4,3,2,1])\n",
        "A+B"
      ],
      "id": "e08dd9c0"
    },
    {
      "cell_type": "code",
      "execution_count": 34,
      "metadata": {},
      "outputs": [],
      "source": [
        "A*B    # note the difference with A@B"
      ],
      "id": "cac09edd"
    },
    {
      "cell_type": "code",
      "execution_count": 35,
      "metadata": {},
      "outputs": [],
      "source": [
        "A>B"
      ],
      "id": "30352a03"
    },
    {
      "cell_type": "markdown",
      "metadata": {},
      "source": [
        "At first, one might be surprised that the default multiplication\n",
        "operator is element-wise multiplication rather than matrix\n",
        "multiplication.\n",
        "\n",
        "There are at least two good reasons:\n",
        "\n",
        "-   consistency: all operators can be broadcasted with the exact same\n",
        "    rules (like `*`, `+`, `>`)\n",
        "-   for many workflows, elementwise operations are more common than\n",
        "    matrix multiplication\n",
        "\n",
        "### Element-wise logical operations\n",
        "\n",
        "-   The following logical operations are defined element-wise on arrays:\n",
        "    `&` (and), `|` (or), `~` (not)"
      ],
      "id": "6070ce7d-d3d4-4b4c-b03c-b727f6517ee3"
    },
    {
      "cell_type": "code",
      "execution_count": 36,
      "metadata": {},
      "outputs": [],
      "source": [
        "A = np.array([False, False, True, True])\n",
        "B = np.array([False, True, False, True])"
      ],
      "id": "5cdf0f99"
    },
    {
      "cell_type": "code",
      "execution_count": 37,
      "metadata": {},
      "outputs": [],
      "source": [
        "~A"
      ],
      "id": "526d9320"
    },
    {
      "cell_type": "code",
      "execution_count": 38,
      "metadata": {},
      "outputs": [],
      "source": [
        "A | B"
      ],
      "id": "54a1b135"
    },
    {
      "cell_type": "code",
      "execution_count": 39,
      "metadata": {},
      "outputs": [],
      "source": [
        "A & B"
      ],
      "id": "0d661cc9"
    },
    {
      "cell_type": "markdown",
      "metadata": {},
      "source": [
        "### Vector indexing\n",
        "\n",
        "-   Arrays can be indexed by boolean arrays instead of ranges.\n",
        "-   Only elements corresponding to true are retrieved"
      ],
      "id": "8e4d1089-5054-4349-9462-f7baa2aa9b0e"
    },
    {
      "cell_type": "code",
      "execution_count": 40,
      "metadata": {},
      "outputs": [],
      "source": [
        "x = np.linspace(0,1,6)\n",
        "x"
      ],
      "id": "29f583f8"
    },
    {
      "cell_type": "code",
      "execution_count": 41,
      "metadata": {},
      "outputs": [],
      "source": [
        "# indexes such that (x^2) > (x/2)\n",
        "x**2 > (x/2)"
      ],
      "id": "40dce35f"
    },
    {
      "cell_type": "code",
      "execution_count": 42,
      "metadata": {},
      "outputs": [],
      "source": [
        "cond = x**2 > (x/2)\n",
        "x[ cond ] "
      ],
      "id": "96079f92"
    },
    {
      "cell_type": "markdown",
      "metadata": {},
      "source": [
        "### Going further: broadcasting rules\n",
        "\n",
        "-   Numpy library has defined very consistent conventions, to match\n",
        "    inconsistent dimensions.\n",
        "-   Ignore them for now…"
      ],
      "id": "ed09ca04-c7fa-4e86-8112-78fb90cb79ac"
    },
    {
      "cell_type": "code",
      "execution_count": 43,
      "metadata": {},
      "outputs": [],
      "source": [
        "M = np.eye(4)\n",
        "M"
      ],
      "id": "79eedacb"
    },
    {
      "cell_type": "code",
      "execution_count": 44,
      "metadata": {},
      "outputs": [],
      "source": [
        "M[2:4, 2:4] = 0.5 # float\n",
        "M"
      ],
      "id": "775e6004"
    },
    {
      "cell_type": "code",
      "execution_count": 45,
      "metadata": {},
      "outputs": [],
      "source": [
        "M[:,:2] = np.array([[0.1, 0.2]])  # 1x2 array\n",
        "M"
      ],
      "id": "0fb45b92"
    },
    {
      "cell_type": "markdown",
      "metadata": {},
      "source": [
        "### Going Further\n",
        "\n",
        "-   Other useful functions (easy to google):\n",
        "    -   `np.arange()` regularly spaced integers\n",
        "    -   `np.where()` find elements in\n",
        "    -   …\n",
        "\n",
        "## Matplotlib\n",
        "\n",
        "### Matplotlib\n",
        "\n",
        "-   `matplotlib` is …\n",
        "-   object oriented api optional Matlab-like syntax\n",
        "-   main function is `plt.plot(x,y)` where `x` and `y` are vectors (or\n",
        "    iterables like lists)\n",
        "    -   **lots** of optional arguments"
      ],
      "id": "3da28683-491d-4e4f-ac63-e3c425e0f413"
    },
    {
      "cell_type": "code",
      "execution_count": 46,
      "metadata": {},
      "outputs": [],
      "source": [
        "from matplotlib import pyplot as plt"
      ],
      "id": "5e28548c"
    },
    {
      "cell_type": "markdown",
      "metadata": {},
      "source": [
        "### Example"
      ],
      "id": "322d6cfd-1080-48e4-afd0-81a0cfc01e46"
    },
    {
      "cell_type": "code",
      "execution_count": 47,
      "metadata": {},
      "outputs": [],
      "source": [
        "x = np.linspace(-1,1,6)"
      ],
      "id": "33fc86c7"
    },
    {
      "cell_type": "code",
      "execution_count": 48,
      "metadata": {},
      "outputs": [],
      "source": [
        "y = np.sin(x)/x # sinus cardinal"
      ],
      "id": "2945d0a0"
    },
    {
      "cell_type": "code",
      "execution_count": 49,
      "metadata": {},
      "outputs": [],
      "source": [
        "plt.plot(x,y,'o')\n",
        "plt.plot(x,y)"
      ],
      "id": "d409a9d3"
    },
    {
      "cell_type": "markdown",
      "metadata": {},
      "source": [
        "### Example (2)"
      ],
      "id": "5557a065-45f5-4820-9ee8-21db1a81106c"
    },
    {
      "cell_type": "code",
      "execution_count": 50,
      "metadata": {},
      "outputs": [],
      "source": [
        "x = np.linspace(-5,5,100)\n",
        "\n",
        "fig = plt.figure() # keep a figure open to draw on it\n",
        "for k in range(1,5):\n",
        "    y = np.sin(x*k)/(x*k)\n",
        "    plt.plot(x, y, label=f\"$sinc({k} x)$\") # label each line\n",
        "plt.plot(x, x*0, color='black', linestyle='--')\n",
        "plt.grid(True) # add a grid\n",
        "plt.title(\"Looking for the right hat.\")\n",
        "plt.legend(loc=\"upper right\")"
      ],
      "id": "65ba20cf"
    },
    {
      "cell_type": "markdown",
      "metadata": {},
      "source": [
        "### Example (3)"
      ],
      "id": "584d2a5e-7d60-4ec6-b260-fdcb0dcb5deb"
    },
    {
      "cell_type": "code",
      "execution_count": 51,
      "metadata": {},
      "outputs": [],
      "source": [
        "x = np.linspace(-5,5,100)\n",
        "\n",
        "plt.figure()\n",
        "plt.subplot(2,2,1) # create a 2x2 subplot and draw in first quadrant\n",
        "plt.plot(x,x)\n",
        "plt.subplot(2,2,2) # create a 2x2 subplot and draw in second quadrant\n",
        "plt.plot(x,-x)\n",
        "plt.subplot(2,2,3) # create a 2x2 subplot and draw in third quadrant\n",
        "plt.plot(x,-x)\n",
        "plt.subplot(2,2,4) # create a 2x2 subplot and draw in fourth quadrant\n",
        "plt.plot(x,x)\n",
        "\n",
        "plt.tight_layout() # save some space"
      ],
      "id": "8308c5f7"
    },
    {
      "cell_type": "markdown",
      "metadata": {},
      "source": [
        "### Alternatives to matplotlib\n",
        "\n",
        "-   plotly (nice javascript graphs)\n",
        "-   bqplot (native integration with jupyter)\n",
        "-   altair\n",
        "    -   excellent for dataviz/interactivity\n",
        "    -   python wrapper to Vega-lite\n",
        "    -   very efficient to visualize `pandas` data (i.e. a dataframe)"
      ],
      "id": "42f4c2eb-3b0b-4b63-aa84-50d06a686033"
    }
  ],
  "nbformat": 4,
  "nbformat_minor": 5,
  "metadata": {
    "kernelspec": {
      "name": "python3",
      "display_name": "Python 3 (ipykernel)",
      "language": "python"
    },
    "language_info": {
      "name": "python",
      "codemirror_mode": {
        "name": "ipython",
        "version": "3"
      },
      "file_extension": ".py",
      "mimetype": "text/x-python",
      "nbconvert_exporter": "python",
      "pygments_lexer": "ipython3",
      "version": "3.11.10"
    }
  }
}