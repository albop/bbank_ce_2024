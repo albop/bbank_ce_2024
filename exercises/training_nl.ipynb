{
  "cells": [
    {
      "cell_type": "markdown",
      "metadata": {},
      "source": [
        "# Training a Neural Network\n",
        "\n",
        "## Learning a function\n",
        "\n",
        "Consider the following (pseudo)-function"
      ],
      "id": "d72d130b-78d2-4c66-8822-48f4ee077936"
    },
    {
      "cell_type": "code",
      "execution_count": 1,
      "metadata": {},
      "outputs": [],
      "source": [
        "import jax\n",
        "from jax import numpy as jnp\n",
        "\n",
        "def mystery(key):\n",
        "    \n",
        "    key1, key2 = jax.random.split(key)\n",
        "    x = jax.random.uniform(-1,1)\n",
        "    epsilon = jax.random.normal(key2)*0.01 # random nmer\n",
        "    y = jnp.sin(x)/x + epsilon\n",
        "    return (x,y)"
      ],
      "id": "36be1bbe"
    },
    {
      "cell_type": "markdown",
      "metadata": {},
      "source": [
        "The goal is to learn a function representation using a finite (possibly\n",
        "big) number of draws from the function.\n",
        "\n",
        "<span class=\"theorem-title\">**Exercise 1**</span> Draw 100 different\n",
        "values and plot them.\n",
        "\n",
        "<span class=\"theorem-title\">**Exercise 2**</span> Create a neural\n",
        "network using library flax (with the linen API), to predict $y$ from\n",
        "$x$.\n",
        "\n",
        "Initialize it with random weights and plot the initial guess.\n",
        "\n",
        "We will call $\\varphi(x;\\theta)$ the prediction from the neural network\n",
        "for weights $\\theta$."
      ],
      "id": "ccbde6f0-7591-4ab4-b8f4-3d72ba7d676f"
    },
    {
      "cell_type": "code",
      "execution_count": 2,
      "metadata": {},
      "outputs": [],
      "source": [
        "#"
      ],
      "id": "c2c9756b"
    },
    {
      "cell_type": "markdown",
      "metadata": {},
      "source": [
        "<span class=\"theorem-title\">**Exercise 3**</span> Create an objective\n",
        "function $\\xi(key, theta, N)$ for the empirical risk using a minibatch\n",
        "of size $N$."
      ],
      "id": "d03bace9-32b5-43ca-9ece-4b84120e2da4"
    },
    {
      "cell_type": "code",
      "execution_count": 3,
      "metadata": {},
      "outputs": [],
      "source": [
        "#"
      ],
      "id": "f7e97201"
    },
    {
      "cell_type": "markdown",
      "metadata": {},
      "source": [
        "<span class=\"theorem-title\">**Exercise 4**</span> Compute the gradient\n",
        "of $\\xi$ using jax.\n",
        "\n",
        "<span class=\"theorem-title\">**Exercise 5**</span> Train the neural\n",
        "network, either by hand, or by using Optax. Inspect the result."
      ],
      "id": "e2dc1579-e987-496d-bf21-ee5dd32dbe44"
    },
    {
      "cell_type": "code",
      "execution_count": 4,
      "metadata": {},
      "outputs": [],
      "source": [
        "#"
      ],
      "id": "6059db94"
    }
  ],
  "nbformat": 4,
  "nbformat_minor": 5,
  "metadata": {
    "kernelspec": {
      "name": "python3",
      "display_name": "Python 3 (ipykernel)",
      "language": "python",
      "path": "/home/pablo/.local/share/jupyter/kernels/python3"
    },
    "language_info": {
      "name": "python",
      "codemirror_mode": {
        "name": "ipython",
        "version": "3"
      },
      "file_extension": ".py",
      "mimetype": "text/x-python",
      "nbconvert_exporter": "python",
      "pygments_lexer": "ipython3",
      "version": "3.11.10"
    }
  }
}