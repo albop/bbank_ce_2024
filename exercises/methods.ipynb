{
  "cells": [
    {
      "cell_type": "markdown",
      "metadata": {},
      "source": [
        "# Methods\n",
        "\n",
        "## Optimization and root finding\n",
        "\n",
        "<span class=\"theorem-title\">**Exercise 1**</span> Consider the function\n",
        "$f(x,y)=1-(x-x_0)^2-0.5(y-y_0)^2$ with $x_0=0.5$ and $y_0=1.0$. Check\n",
        "the documentatin for `scipy.optimize`. Use it to maximze function $f$."
      ],
      "id": "966ce9d5-591a-4201-b4c6-30cc070426ec"
    },
    {
      "cell_type": "code",
      "execution_count": 1,
      "metadata": {},
      "outputs": [],
      "source": [
        "# one needs to define $f$ as a function of a vector\n",
        "# f(v)=1-(v[0]-x_0)^2-0.5*(v[1]-y_0)^2$ "
      ],
      "id": "c3703e2b"
    },
    {
      "cell_type": "markdown",
      "metadata": {},
      "source": [
        "Consider the function $g(x)=0.1+exp(-x)x(1-x)$ over \\[0,2\\]. Choose the\n",
        "scipy function and find the root of $g$."
      ],
      "id": "0216104e-a511-4eb0-9da8-d5df0f7fb9f4"
    },
    {
      "cell_type": "code",
      "execution_count": 2,
      "metadata": {},
      "outputs": [],
      "source": [
        "#"
      ],
      "id": "3e7ad8c7"
    },
    {
      "cell_type": "markdown",
      "metadata": {},
      "source": [
        "Consider the function $h(x,y)=0.1+exp(-x)x(1-x)$ over \\[0,2\\]. Choose\n",
        "the scipy function and find the root of $g$. to find the root of $g$?"
      ],
      "id": "2c4db98e-0586-48ba-9ad1-00e0ed4e642c"
    },
    {
      "cell_type": "code",
      "execution_count": 3,
      "metadata": {},
      "outputs": [],
      "source": [
        "#"
      ],
      "id": "2456bb9b"
    },
    {
      "cell_type": "markdown",
      "metadata": {},
      "source": [
        "## Interpolation\n",
        "\n",
        "We consider the function\n",
        "$f(x) = sinc(\\lambda x) = \\frac{sin(\\lambda x)}{x}$. Let\n",
        "$I=(x_i)_{i=[1,10]}$ be a regularly spaced interval between -2 and +2,\n",
        "containing 10 points. Call $Y=(y_i)=f(x_i)$ the values of $f$ on this\n",
        "interval. Let $T$ be a test set with 1000 regularly spaced points\n",
        "between -2.5 and 2.5.\n",
        "\n",
        "The goal is to compare several ways interpolate function f on $T$.\n",
        "\n",
        "<span class=\"theorem-title\">**Exercise 2**</span> Define `f`, `I`, `Y`,\n",
        "`T` with numpy."
      ],
      "id": "9e4bfdfd-0052-4433-804d-47c498717957"
    },
    {
      "cell_type": "code",
      "execution_count": 4,
      "metadata": {},
      "outputs": [],
      "source": [
        "# "
      ],
      "id": "d6382662"
    },
    {
      "cell_type": "markdown",
      "metadata": {},
      "source": [
        "<span class=\"theorem-title\">**Exercise 3**</span> Construct a stepwise\n",
        "approximation using numpy indexing"
      ],
      "id": "67d37010-db94-47b7-81f5-c022ed70a00a"
    },
    {
      "cell_type": "code",
      "execution_count": 5,
      "metadata": {},
      "outputs": [],
      "source": [
        "# "
      ],
      "id": "8fdafe00"
    },
    {
      "cell_type": "markdown",
      "metadata": {},
      "source": [
        "<span class=\"theorem-title\">**Exercise 4**</span> Plot it"
      ],
      "id": "52da9426-2e4b-4636-a4ec-b91fe092da36"
    },
    {
      "cell_type": "code",
      "execution_count": 6,
      "metadata": {},
      "outputs": [],
      "source": [
        "# "
      ],
      "id": "b5adc86b"
    },
    {
      "cell_type": "markdown",
      "metadata": {},
      "source": [
        "<span class=\"theorem-title\">**Exercise 5**</span> Construct a linear\n",
        "approximation using numpy"
      ],
      "id": "12e72448-2045-45ac-9381-b489257bcfd8"
    },
    {
      "cell_type": "code",
      "execution_count": 7,
      "metadata": {},
      "outputs": [],
      "source": [
        "#"
      ],
      "id": "f4adc312"
    },
    {
      "cell_type": "markdown",
      "metadata": {},
      "source": [
        "<span class=\"theorem-title\">**Exercise 6**</span> Use scipy.interpolate\n",
        "to interpolate the data linearly. Compare the various extrapolation\n",
        "options."
      ],
      "id": "df4a59e8-4321-4c37-a8d9-eb0e8d30b22c"
    },
    {
      "cell_type": "code",
      "execution_count": 8,
      "metadata": {},
      "outputs": [],
      "source": [
        "#"
      ],
      "id": "2a394546"
    },
    {
      "cell_type": "markdown",
      "metadata": {},
      "source": [
        "<span class=\"theorem-title\">**Exercise 7**</span> Use scipy.interpolate\n",
        "to interolate the data with cubic splines. Compare the various\n",
        "extrapolation options."
      ],
      "id": "4152f4f1-1e07-41a3-b9a3-40240254571e"
    },
    {
      "cell_type": "code",
      "execution_count": 9,
      "metadata": {},
      "outputs": [],
      "source": [
        "#"
      ],
      "id": "27bd9df4"
    },
    {
      "cell_type": "markdown",
      "metadata": {},
      "source": [
        "<span class=\"theorem-title\">**Exercise 8**</span> Plot the results"
      ],
      "id": "53568468-a12c-4e18-b3c1-a424755f150d"
    },
    {
      "cell_type": "code",
      "execution_count": 10,
      "metadata": {},
      "outputs": [],
      "source": [
        "#"
      ],
      "id": "fee289fc"
    },
    {
      "cell_type": "markdown",
      "metadata": {},
      "source": [
        "## Discretization\n",
        "\n",
        "<span class=\"theorem-title\">**Exercise 9**</span> Consider the AR1\n",
        "process $y_t = \\rho y_{t-1} + \\epsilon_t$ where $\\rho=0.9$ and\n",
        "$\\epsilon_t=0.01$. Use the `quantecon` library to discretize $(y_t)$ as\n",
        "a discrete markov chain."
      ],
      "id": "9348a530-5c12-4ab0-8751-04ac999e91bb"
    },
    {
      "cell_type": "code",
      "execution_count": 11,
      "metadata": {},
      "outputs": [],
      "source": [
        "#"
      ],
      "id": "6b1dfdef"
    },
    {
      "cell_type": "markdown",
      "metadata": {},
      "source": [
        "<span class=\"theorem-title\">**Exercise 10**</span> Suppose $\\epsilon$\n",
        "follows a normal law with standard deviation $σ = 0.05$. Take γ = 40 and\n",
        "define $U(x)=(x^{-γ})/(-γ)$ We want to compute\n",
        "$C(\\epsilon) = \\mathbb{E} [U(exp(\\epsilon)) ]$.\n",
        "\n",
        "-   Choose $N>0$ and construct a 1d vector with $N$ realizations of\n",
        "    $\\epsilon$. Use it to compute the expectation.\n",
        "-   Estimate the standard deviation of this expectation.\n",
        "-   Use gauss-hermite method from numpy to compute the same expectation.\n",
        "-   Compare both methods."
      ],
      "id": "68eb10fa-7211-475a-92cc-13b8c3f6fb4b"
    }
  ],
  "nbformat": 4,
  "nbformat_minor": 5,
  "metadata": {
    "kernelspec": {
      "name": "python3",
      "display_name": "Python 3 (ipykernel)",
      "language": "python",
      "path": "/home/pablo/.local/share/jupyter/kernels/python3"
    },
    "language_info": {
      "name": "python",
      "codemirror_mode": {
        "name": "ipython",
        "version": "3"
      },
      "file_extension": ".py",
      "mimetype": "text/x-python",
      "nbconvert_exporter": "python",
      "pygments_lexer": "ipython3",
      "version": "3.11.10"
    }
  }
}