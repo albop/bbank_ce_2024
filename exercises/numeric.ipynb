{
  "cells": [
    {
      "cell_type": "markdown",
      "metadata": {},
      "source": [
        "# Numeric\n",
        "\n",
        "## Using Numpy\n",
        "\n",
        "Selection from\n",
        "[w3resources](https://www.w3resource.com/python-exercises/numpy/python-numpy-random.php)\n",
        "and [rougier/numpy100](https://github.com/rougier/numpy-100)\n",
        "\n",
        "<span class=\"theorem-title\">**Exercise 1**</span>  \n",
        "\n",
        "-   Write a NumPy program to generate five random numbers from the\n",
        "    normal distribution."
      ],
      "id": "0ca385b1-9cb7-4155-9614-ae087a8a89e0"
    },
    {
      "cell_type": "code",
      "execution_count": 1,
      "metadata": {},
      "outputs": [],
      "source": [
        "# code here"
      ],
      "id": "0968dbb8"
    },
    {
      "cell_type": "markdown",
      "metadata": {},
      "source": [
        "<span class=\"theorem-title\">**Exercise 2**</span> Write a NumPy program\n",
        "to generate six random integers between 10 and 30."
      ],
      "id": "fee909af-b04d-4583-b82c-18560aeb8e10"
    },
    {
      "cell_type": "code",
      "execution_count": 2,
      "metadata": {},
      "outputs": [],
      "source": [
        "# code here"
      ],
      "id": "3a7dd78a"
    },
    {
      "cell_type": "markdown",
      "metadata": {},
      "source": [
        "<span class=\"theorem-title\">**Exercise 3**</span> Create a 3x3 matrix\n",
        "with values ranging from 0 to 8"
      ],
      "id": "c2e83ea4-ad11-4074-aff0-2d8e0ce64ef9"
    },
    {
      "cell_type": "code",
      "execution_count": 3,
      "metadata": {},
      "outputs": [],
      "source": [
        "# code here"
      ],
      "id": "5395f975"
    },
    {
      "cell_type": "markdown",
      "metadata": {},
      "source": [
        "<span class=\"theorem-title\">**Exercise 4**</span> Create 2d array $M$\n",
        "such of size 3\\*3 such that $M_{ij} = i\\times j$"
      ],
      "id": "1aa500b2-8a57-49dd-9bd3-82ae525c5ab7"
    },
    {
      "cell_type": "code",
      "execution_count": 4,
      "metadata": {},
      "outputs": [],
      "source": [
        "# code here"
      ],
      "id": "7fd34ba4"
    },
    {
      "cell_type": "markdown",
      "metadata": {},
      "source": [
        "<span class=\"theorem-title\">**Exercise 5**</span> Create 3 vectors of\n",
        "length 5 and create a matrix where each column is one of the vector."
      ],
      "id": "954964cb-a160-416a-af43-0281700d8804"
    },
    {
      "cell_type": "code",
      "execution_count": 5,
      "metadata": {},
      "outputs": [],
      "source": [
        "# code here"
      ],
      "id": "0deadc54"
    },
    {
      "cell_type": "markdown",
      "metadata": {},
      "source": [
        "<span class=\"theorem-title\">**Exercise 6**</span> Create 3 vectors of\n",
        "length 5 and create a matrix where each row is one of the vector."
      ],
      "id": "e04fd3af-1877-4e86-9c74-aab069ba546b"
    },
    {
      "cell_type": "code",
      "execution_count": 6,
      "metadata": {},
      "outputs": [],
      "source": [
        "# code here"
      ],
      "id": "6539e3a5"
    },
    {
      "cell_type": "markdown",
      "metadata": {},
      "source": [
        "<span class=\"theorem-title\">**Exercise 7**</span> Find indices of\n",
        "non-zero elements from `np.array([1,2,0,0,4,0])`. Replace them with -1.0"
      ],
      "id": "f3bee1f0-a191-4e83-abfc-8b0c905abfa8"
    },
    {
      "cell_type": "code",
      "execution_count": 7,
      "metadata": {},
      "outputs": [],
      "source": [
        "# code here"
      ],
      "id": "85a0292c"
    },
    {
      "cell_type": "markdown",
      "metadata": {},
      "source": [
        "<span class=\"theorem-title\">**Exercise 8**</span> Write a NumPy program\n",
        "to normalize a 3x3 random matrix. (Define norm $|x|=\\sqrt{\\sum x_i^2}$\n",
        "and compute $M/|M|$)"
      ],
      "id": "b6d3f4d1-e613-42d7-ae46-f98b6565e1dd"
    },
    {
      "cell_type": "code",
      "execution_count": 8,
      "metadata": {},
      "outputs": [],
      "source": [
        "# code here"
      ],
      "id": "1fa9bfe3"
    },
    {
      "cell_type": "markdown",
      "metadata": {},
      "source": [
        "<span class=\"theorem-title\">**Exercise 9**</span> Create 2d array $M$\n",
        "such of size 3\\*3 such that $M_{ij} = i\\times j$"
      ],
      "id": "2f2e077a-bd04-4dc5-ac06-d00e198eab47"
    },
    {
      "cell_type": "code",
      "execution_count": 9,
      "metadata": {},
      "outputs": [],
      "source": [
        "# code here"
      ],
      "id": "0a7f850a"
    },
    {
      "cell_type": "markdown",
      "metadata": {},
      "source": [
        "<span class=\"theorem-title\">**Exercise 10**</span> Take a random matrix\n",
        "$A$ of size $N\\times 2$ (N=10) where each line represents a different 2d\n",
        "point. Compute the euclidean distance matrix such that $E_{ij}$ is the\n",
        "distance between point $i$ and point $j$."
      ],
      "id": "ac785c6f-e5c3-42b6-a7d6-9d6086a8ddb2"
    },
    {
      "cell_type": "code",
      "execution_count": 10,
      "metadata": {},
      "outputs": [],
      "source": [
        "# code here"
      ],
      "id": "62a4626a"
    },
    {
      "cell_type": "markdown",
      "metadata": {},
      "source": [
        "<span class=\"theorem-title\">**Exercise 11**</span> Create A of size\n",
        "$10\\times 3$. Create matrix $B$ with the same column as $A$ reordered by\n",
        "sum of absolute values.\n",
        "\n",
        "## Simulating an AR1\n",
        "\n",
        "Take an AR1 process $x_t = A \\rho x_{t-1} + \\epsilon_t$ with\n",
        "$\\epsilon_t \\sim \\Sigma$ where $\\Sigma$ is a positive definite matrix.\n",
        "\n",
        "<span class=\"theorem-title\">**Exercise 12**</span> Define 2x2 matrices\n",
        "$A$ and $\\Sigma$, the latter being symmetric positive definite"
      ],
      "id": "2dbd343d-8d8b-4b0c-9a62-082a5ae759ef"
    },
    {
      "cell_type": "code",
      "execution_count": 11,
      "metadata": {},
      "outputs": [],
      "source": [
        "# code here"
      ],
      "id": "cf9497ae"
    },
    {
      "cell_type": "markdown",
      "metadata": {},
      "source": [
        "<span class=\"theorem-title\">**Exercise 13**</span> Compute asymptotic\n",
        "variance using matrix algebra (there is a recursive formula)"
      ],
      "id": "cf9ba72f-f010-453c-bd5a-6d4ae2b13b7f"
    },
    {
      "cell_type": "code",
      "execution_count": 12,
      "metadata": {},
      "outputs": [],
      "source": [
        "# code here"
      ],
      "id": "e2b74205"
    },
    {
      "cell_type": "markdown",
      "metadata": {},
      "source": [
        "<span class=\"theorem-title\">**Exercise 14**</span> Simulate $N$ draws\n",
        "for $T$ periods and store the result in `sim`."
      ],
      "id": "a2ba9ca9-c7ab-4146-b628-50ffe9c34268"
    },
    {
      "cell_type": "code",
      "execution_count": 13,
      "metadata": {},
      "outputs": [],
      "source": [
        "# code here"
      ],
      "id": "b7a9f8f8"
    },
    {
      "cell_type": "markdown",
      "metadata": {},
      "source": [
        "<span class=\"theorem-title\">**Exercise 15**</span> Compute ergodic\n",
        "variance (bonus compute std of the variance estimate)"
      ],
      "id": "21279bfd-f677-4526-982f-33b0ac48b436"
    },
    {
      "cell_type": "code",
      "execution_count": 14,
      "metadata": {},
      "outputs": [],
      "source": [
        "# code here"
      ],
      "id": "08d02dd1"
    },
    {
      "cell_type": "markdown",
      "metadata": {},
      "source": [
        "<span class=\"theorem-title\">**Exercise 16**</span> Plot a few\n",
        "simulations on the same graph"
      ],
      "id": "a14a1afd-7264-4cf4-9333-07efb66eeba4"
    },
    {
      "cell_type": "code",
      "execution_count": 15,
      "metadata": {},
      "outputs": [],
      "source": [
        "# code here"
      ],
      "id": "5f1120e1"
    },
    {
      "cell_type": "markdown",
      "metadata": {},
      "source": [
        "<span class=\"theorem-title\">**Exercise 17**</span> Plot asymptotic\n",
        "distribution (seaborn)"
      ],
      "id": "d3a29d9f-1bc5-4f42-b80e-2dd3fcef7533"
    },
    {
      "cell_type": "code",
      "execution_count": 16,
      "metadata": {},
      "outputs": [],
      "source": [
        "# code here"
      ],
      "id": "294920bf"
    },
    {
      "cell_type": "markdown",
      "metadata": {},
      "source": [
        "<span class=\"theorem-title\">**Exercise 18**</span> Bonus: write a faster\n",
        "simulation routine."
      ],
      "id": "6e0ff770-b3b4-4ed0-903f-76a04be9f7d7"
    },
    {
      "cell_type": "code",
      "execution_count": 17,
      "metadata": {},
      "outputs": [],
      "source": [
        "# code here"
      ],
      "id": "10e57a24"
    }
  ],
  "nbformat": 4,
  "nbformat_minor": 5,
  "metadata": {
    "kernelspec": {
      "name": "python3",
      "display_name": "Python 3 (ipykernel)",
      "language": "python",
      "path": "/home/pablo/.local/share/jupyter/kernels/python3"
    },
    "language_info": {
      "name": "python",
      "codemirror_mode": {
        "name": "ipython",
        "version": "3"
      },
      "file_extension": ".py",
      "mimetype": "text/x-python",
      "nbconvert_exporter": "python",
      "pygments_lexer": "ipython3",
      "version": "3.11.10"
    }
  }
}