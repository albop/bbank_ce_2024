{
  "cells": [
    {
      "cell_type": "markdown",
      "metadata": {},
      "source": [
        "# \n",
        "\n",
        "# An Introduction to JAX\n",
        "\n",
        "This notebook (adapted Quantecon) provides a short introduction to\n",
        "[Google JAX](https://github.com/google/jax).\n",
        "\n",
        "## JAX as a NumPy Replacement\n",
        "\n",
        "One way to use JAX is as a plug-in NumPy replacement. Let’s look at the\n",
        "similarities and differences.\n",
        "\n",
        "### Similarities\n",
        "\n",
        "The following import is standard, replacing `import numpy as np`:"
      ],
      "id": "c651658a-08e9-4fc8-9276-2b14e742b1bb"
    },
    {
      "cell_type": "code",
      "execution_count": 1,
      "metadata": {},
      "outputs": [],
      "source": [
        "import jax\n",
        "import jax.numpy as jnp"
      ],
      "id": "2b387e05"
    },
    {
      "cell_type": "markdown",
      "metadata": {},
      "source": [
        "Now we can use `jnp` in place of `np` for the usual array operations:"
      ],
      "id": "9a70d888-8f26-4514-afb6-b3fb83ca744a"
    },
    {
      "cell_type": "code",
      "execution_count": 3,
      "metadata": {},
      "outputs": [],
      "source": [
        "a = jnp.array((1.0, 3.2, -1.5))"
      ],
      "id": "72f9de23"
    },
    {
      "cell_type": "code",
      "execution_count": 5,
      "metadata": {},
      "outputs": [
        {
          "output_type": "display_data",
          "metadata": {},
          "data": {
            "text/plain": [
              "Array([ 1. ,  3.2, -1.5], dtype=float32)"
            ]
          }
        }
      ],
      "source": [
        "a"
      ],
      "id": "c790add2"
    },
    {
      "cell_type": "code",
      "execution_count": 6,
      "metadata": {},
      "outputs": [
        {
          "output_type": "stream",
          "name": "stdout",
          "text": [
            "2.7"
          ]
        }
      ],
      "source": [
        "print(jnp.sum(a))"
      ],
      "id": "de949b75"
    },
    {
      "cell_type": "code",
      "execution_count": 7,
      "metadata": {},
      "outputs": [
        {
          "output_type": "stream",
          "name": "stdout",
          "text": [
            "0.90000004"
          ]
        }
      ],
      "source": [
        "print(jnp.mean(a))"
      ],
      "id": "a6c5fc59"
    },
    {
      "cell_type": "code",
      "execution_count": 8,
      "metadata": {},
      "outputs": [
        {
          "output_type": "stream",
          "name": "stdout",
          "text": [
            "13.490001"
          ]
        }
      ],
      "source": [
        "print(jnp.dot(a, a))"
      ],
      "id": "e3dbd98a"
    },
    {
      "cell_type": "markdown",
      "metadata": {},
      "source": [
        "However, the array object `a` is not a NumPy array:"
      ],
      "id": "0326b2ee-b6ef-4df1-9189-b52699071756"
    },
    {
      "cell_type": "code",
      "execution_count": null,
      "metadata": {},
      "outputs": [],
      "source": [
        "a"
      ],
      "id": "cb779ff3"
    },
    {
      "cell_type": "code",
      "execution_count": 9,
      "metadata": {},
      "outputs": [
        {
          "output_type": "display_data",
          "metadata": {},
          "data": {
            "text/plain": [
              "jaxlib.xla_extension.ArrayImpl"
            ]
          }
        }
      ],
      "source": [
        "type(a)"
      ],
      "id": "75605d10"
    },
    {
      "cell_type": "markdown",
      "metadata": {},
      "source": [
        "Even scalar-valued maps on arrays return JAX arrays."
      ],
      "id": "2a0aea91-1902-4663-824e-38523186a6d1"
    },
    {
      "cell_type": "code",
      "execution_count": 10,
      "metadata": {},
      "outputs": [
        {
          "output_type": "display_data",
          "metadata": {},
          "data": {
            "text/plain": [
              "Array(2.7, dtype=float32)"
            ]
          }
        }
      ],
      "source": [
        "jnp.sum(a)"
      ],
      "id": "bb9823f4"
    },
    {
      "cell_type": "markdown",
      "metadata": {},
      "source": [
        "JAX arrays are also called “device arrays,” where term “device” refers\n",
        "to a hardware accelerator (GPU or TPU).\n",
        "\n",
        "(In the terminology of GPUs, the “host” is the machine that launches GPU\n",
        "operations, while the “device” is the GPU itself.)\n",
        "\n",
        "Operations on higher dimensional arrays are also similar to NumPy:"
      ],
      "id": "683835d0-8c1c-4360-ad33-e9b6e74772a0"
    },
    {
      "cell_type": "code",
      "execution_count": 13,
      "metadata": {},
      "outputs": [
        {
          "output_type": "display_data",
          "metadata": {},
          "data": {
            "text/plain": [
              "Array([[1., 1.],\n",
              "       [1., 1.]], dtype=float32)"
            ]
          }
        }
      ],
      "source": [
        "A = jnp.ones((2, 2))\n",
        "B = jnp.identity(2)\n",
        "A @ B"
      ],
      "id": "f034e70b"
    },
    {
      "cell_type": "code",
      "execution_count": 11,
      "metadata": {},
      "outputs": [],
      "source": [
        "from jax.numpy import linalg"
      ],
      "id": "e4d28ad7"
    },
    {
      "cell_type": "code",
      "execution_count": 14,
      "metadata": {},
      "outputs": [
        {
          "output_type": "display_data",
          "metadata": {},
          "data": {
            "text/plain": [
              "Array([[1., 0.],\n",
              "       [0., 1.]], dtype=float32)"
            ]
          }
        }
      ],
      "source": [
        "linalg.inv(B)   # Inverse of identity is identity"
      ],
      "id": "6e4cdb6f"
    },
    {
      "cell_type": "code",
      "execution_count": 15,
      "metadata": {},
      "outputs": [
        {
          "output_type": "display_data",
          "metadata": {},
          "data": {
            "text/plain": [
              "EighResult(eigenvalues=Array([1., 1.], dtype=float32), eigenvectors=Array([[1., 0.],\n",
              "       [0., 1.]], dtype=float32))"
            ]
          }
        }
      ],
      "source": [
        "linalg.eigh(B)  # Computes eigenvalues and eigenvectors"
      ],
      "id": "1967f448"
    },
    {
      "cell_type": "markdown",
      "metadata": {},
      "source": [
        "### Differences\n",
        "\n",
        "One difference between NumPy and JAX is that JAX currently uses 32 bit\n",
        "floats by default.\n",
        "\n",
        "This is standard for GPU computing and can lead to significant speed\n",
        "gains with small loss of precision.\n",
        "\n",
        "However, for some calculations precision matters. In these cases 64 bit\n",
        "floats can be enforced via the command"
      ],
      "id": "e45c4753-7cb1-4463-a554-c8fcc986e0c1"
    },
    {
      "cell_type": "code",
      "execution_count": 18,
      "metadata": {},
      "outputs": [],
      "source": [
        "jax.config.update(\"jax_enable_x64\", False)"
      ],
      "id": "12b7591d"
    },
    {
      "cell_type": "markdown",
      "metadata": {},
      "source": [
        "Let’s check this works:"
      ],
      "id": "a8e2c9d0-5203-46c8-942c-8ec51c7fac36"
    },
    {
      "cell_type": "code",
      "execution_count": 19,
      "metadata": {},
      "outputs": [
        {
          "output_type": "display_data",
          "metadata": {},
          "data": {
            "text/plain": [
              "Array([1., 1., 1.], dtype=float32)"
            ]
          }
        }
      ],
      "source": [
        "jnp.ones(3)"
      ],
      "id": "0732f0ba"
    },
    {
      "cell_type": "markdown",
      "metadata": {},
      "source": [
        "As a NumPy replacement, a more significant difference is that arrays are\n",
        "treated as **immutable**.\n",
        "\n",
        "For example, with NumPy we can write"
      ],
      "id": "87850012-1a43-4ae0-a67f-5e298a16ecea"
    },
    {
      "cell_type": "code",
      "execution_count": 24,
      "metadata": {},
      "outputs": [
        {
          "output_type": "display_data",
          "metadata": {},
          "data": {
            "text/plain": [
              "array([0. , 0.5, 1. ])"
            ]
          }
        }
      ],
      "source": [
        "import numpy as np\n",
        "a = np.linspace(0, 1, 3)\n",
        "a"
      ],
      "id": "c76ff1f6"
    },
    {
      "cell_type": "markdown",
      "metadata": {},
      "source": [
        "and then mutate the data in memory:"
      ],
      "id": "41168578-b430-417b-9c42-41f1e46d9062"
    },
    {
      "cell_type": "code",
      "execution_count": 25,
      "metadata": {},
      "outputs": [
        {
          "output_type": "display_data",
          "metadata": {},
          "data": {
            "text/plain": [
              "array([1. , 0.5, 1. ])"
            ]
          }
        }
      ],
      "source": [
        "a[0] = 1\n",
        "a"
      ],
      "id": "a75a4926"
    },
    {
      "cell_type": "markdown",
      "metadata": {},
      "source": [
        "In JAX this fails:"
      ],
      "id": "4f25ffe8-5d8b-4aa3-9981-f4953909bf05"
    },
    {
      "cell_type": "code",
      "execution_count": 26,
      "metadata": {},
      "outputs": [
        {
          "output_type": "display_data",
          "metadata": {},
          "data": {
            "text/plain": [
              "Array([0. , 0.5, 1. ], dtype=float32)"
            ]
          }
        }
      ],
      "source": [
        "a = jnp.linspace(0, 1, 3)\n",
        "a"
      ],
      "id": "6816fdf1"
    },
    {
      "cell_type": "code",
      "execution_count": null,
      "metadata": {},
      "outputs": [],
      "source": [
        "# a[0] = 1"
      ],
      "id": "176333bb"
    },
    {
      "cell_type": "markdown",
      "metadata": {},
      "source": [
        "In line with immutability, JAX does not support inplace operations:"
      ],
      "id": "7fad7ea0-8cea-4be9-99f7-6aa6d16d4fec"
    },
    {
      "cell_type": "code",
      "execution_count": 28,
      "metadata": {},
      "outputs": [
        {
          "output_type": "display_data",
          "metadata": {},
          "data": {
            "text/plain": [
              "array([1, 2])"
            ]
          }
        }
      ],
      "source": [
        "a = np.array((2, 1))\n",
        "a.sort()\n",
        "a"
      ],
      "id": "640a6722"
    },
    {
      "cell_type": "code",
      "execution_count": 29,
      "metadata": {},
      "outputs": [
        {
          "output_type": "display_data",
          "metadata": {},
          "data": {
            "text/plain": [
              "(Array([2, 1], dtype=int32), Array([1, 2], dtype=int32))"
            ]
          }
        }
      ],
      "source": [
        "a = jnp.array((2, 1))\n",
        "a_new = a.sort()\n",
        "a, a_new"
      ],
      "id": "6d705f60"
    },
    {
      "cell_type": "markdown",
      "metadata": {},
      "source": [
        "The designers of JAX chose to make arrays immutable because JAX uses a\n",
        "functional programming style. More on this below.\n",
        "\n",
        "Note that, while mutation is discouraged, it is in fact possible with\n",
        "`at`, as in"
      ],
      "id": "cde857d5-64ce-4637-b2c8-37ee7b6868d7"
    },
    {
      "cell_type": "code",
      "execution_count": null,
      "metadata": {},
      "outputs": [],
      "source": [
        "a = jnp.linspace(0, 1, 3)\n",
        "id(a)"
      ],
      "id": "b0352535"
    },
    {
      "cell_type": "code",
      "execution_count": null,
      "metadata": {},
      "outputs": [],
      "source": [
        "a"
      ],
      "id": "32aca615"
    },
    {
      "cell_type": "code",
      "execution_count": null,
      "metadata": {},
      "outputs": [],
      "source": [
        "a.at[0].set(1)"
      ],
      "id": "fc9dbfd4"
    },
    {
      "cell_type": "markdown",
      "metadata": {},
      "source": [
        "We can check that the array is mutated by verifying its identity is\n",
        "unchanged:"
      ],
      "id": "05de5984-7ead-4dea-b2a5-caef6b2499fb"
    },
    {
      "cell_type": "code",
      "execution_count": null,
      "metadata": {},
      "outputs": [],
      "source": [
        "id(a)"
      ],
      "id": "74adb703"
    },
    {
      "cell_type": "markdown",
      "metadata": {},
      "source": [
        "## Random Numbers\n",
        "\n",
        "Random numbers are also a bit different in JAX, relative to NumPy.\n",
        "Typically, in JAX, the state of the random number generator needs to be\n",
        "controlled explicitly."
      ],
      "id": "e19dfd5c-69d1-40ef-9502-9f67c161a101"
    },
    {
      "cell_type": "code",
      "execution_count": 30,
      "metadata": {},
      "outputs": [],
      "source": [
        "import jax.random as random"
      ],
      "id": "20f74134"
    },
    {
      "cell_type": "markdown",
      "metadata": {},
      "source": [
        "First we produce a key, which seeds the random number generator."
      ],
      "id": "7b65e1f6-4d10-48a0-940e-bad1afaed6e4"
    },
    {
      "cell_type": "code",
      "execution_count": 33,
      "metadata": {},
      "outputs": [],
      "source": [
        "key = random.PRNGKey(890)"
      ],
      "id": "b7fadb37"
    },
    {
      "cell_type": "code",
      "execution_count": 34,
      "metadata": {},
      "outputs": [
        {
          "output_type": "display_data",
          "metadata": {},
          "data": {
            "text/plain": [
              "Array([  0, 890], dtype=uint32)"
            ]
          }
        }
      ],
      "source": [
        "key"
      ],
      "id": "ea2f205c"
    },
    {
      "cell_type": "code",
      "execution_count": null,
      "metadata": {},
      "outputs": [],
      "source": [
        "type(key)"
      ],
      "id": "ed5b4fe0"
    },
    {
      "cell_type": "code",
      "execution_count": null,
      "metadata": {},
      "outputs": [],
      "source": [
        "print(key)"
      ],
      "id": "c528dc00"
    },
    {
      "cell_type": "markdown",
      "metadata": {},
      "source": [
        "Now we can use the key to generate some random numbers:"
      ],
      "id": "e1a2c6d4-cd43-434f-be1c-86e4e9ba11d3"
    },
    {
      "cell_type": "code",
      "execution_count": 37,
      "metadata": {},
      "outputs": [
        {
          "output_type": "display_data",
          "metadata": {},
          "data": {
            "text/plain": [
              "Array(-2.0482526, dtype=float32)"
            ]
          }
        }
      ],
      "source": [
        "random.normal(key)"
      ],
      "id": "0cf52379"
    },
    {
      "cell_type": "code",
      "execution_count": 38,
      "metadata": {},
      "outputs": [
        {
          "output_type": "display_data",
          "metadata": {},
          "data": {
            "text/plain": [
              "Array([[ 0.19565429,  0.8483543 ,  2.5626206 ],\n",
              "       [ 1.2186607 , -0.05403523, -1.1299851 ],\n",
              "       [-0.5350078 , -0.52225316,  2.3058493 ]], dtype=float32)"
            ]
          }
        }
      ],
      "source": [
        "x = random.normal(key, (3, 3))\n",
        "x"
      ],
      "id": "196a2dbc"
    },
    {
      "cell_type": "markdown",
      "metadata": {},
      "source": [
        "If we use the same key again, we initialize at the same seed, so the\n",
        "random numbers are the same:"
      ],
      "id": "3c592f5d-a4ce-46f9-b6bb-030f4be28587"
    },
    {
      "cell_type": "code",
      "execution_count": null,
      "metadata": {},
      "outputs": [],
      "source": [
        "random.normal(key, (3, 3))"
      ],
      "id": "22a98dab"
    },
    {
      "cell_type": "markdown",
      "metadata": {},
      "source": [
        "To produce a (quasi-) independent draw, best practice is to “split” the\n",
        "existing key:"
      ],
      "id": "ba29570c-441c-4403-97c4-5b1228a2e80c"
    },
    {
      "cell_type": "code",
      "execution_count": 39,
      "metadata": {},
      "outputs": [],
      "source": [
        "key, subkey = random.split(key)"
      ],
      "id": "1d1387db"
    },
    {
      "cell_type": "code",
      "execution_count": 40,
      "metadata": {},
      "outputs": [
        {
          "output_type": "display_data",
          "metadata": {},
          "data": {
            "text/plain": [
              "Array([[ 0.10447779,  0.27723557,  0.20472701],\n",
              "       [ 0.8713728 ,  1.0725205 ,  1.2199067 ],\n",
              "       [-0.76907164, -0.36064702,  0.56155264]], dtype=float32)"
            ]
          }
        }
      ],
      "source": [
        "random.normal(key, (3, 3))"
      ],
      "id": "582d0a5d"
    },
    {
      "cell_type": "code",
      "execution_count": 41,
      "metadata": {},
      "outputs": [
        {
          "output_type": "display_data",
          "metadata": {},
          "data": {
            "text/plain": [
              "Array([[-1.2834829 ,  1.0401716 ,  0.5913942 ],\n",
              "       [ 0.69168454, -0.31450266, -0.5352716 ],\n",
              "       [ 1.3163713 ,  0.09488011,  1.4356968 ]], dtype=float32)"
            ]
          }
        }
      ],
      "source": [
        "random.normal(subkey, (3, 3))"
      ],
      "id": "9ccc4f4d"
    },
    {
      "cell_type": "markdown",
      "metadata": {},
      "source": [
        "The function below produces `k` (quasi-) independent random `n x n`\n",
        "matrices using this procedure."
      ],
      "id": "8d0fc20e-18bc-4066-b530-1751ed433b2c"
    },
    {
      "cell_type": "code",
      "execution_count": null,
      "metadata": {},
      "outputs": [],
      "source": [
        "def gen_random_matrices(key, n, k):\n",
        "    matrices = []\n",
        "    for _ in range(k):\n",
        "        key, subkey = random.split(key)\n",
        "        matrices.append(random.uniform(subkey, (n, n)))\n",
        "    return matrices"
      ],
      "id": "2bd46ab5"
    },
    {
      "cell_type": "code",
      "execution_count": null,
      "metadata": {},
      "outputs": [],
      "source": [
        "matrices = gen_random_matrices(key, 2, 2)\n",
        "for A in matrices:\n",
        "    print(A)"
      ],
      "id": "e6cc78b3"
    },
    {
      "cell_type": "markdown",
      "metadata": {},
      "source": [
        "One point to remember is that JAX expects tuples to describe array\n",
        "shapes, even for flat arrays. Hence, to get a one-dimensional array of\n",
        "normal random draws we use `(len, )` for the shape, as in"
      ],
      "id": "f3916470-3432-409f-9ac9-5314b9972bf9"
    },
    {
      "cell_type": "code",
      "execution_count": null,
      "metadata": {},
      "outputs": [],
      "source": [
        "random.normal(key, (5, ))"
      ],
      "id": "ab3ecfda"
    },
    {
      "cell_type": "markdown",
      "metadata": {},
      "source": [
        "## JIT compilation\n",
        "\n",
        "The JAX just-in-time (JIT) compiler accelerates logic within functions\n",
        "by fusing linear algebra operations into a single optimized kernel that\n",
        "the host can launch on the GPU / TPU (or CPU if no accelerator is\n",
        "detected).\n",
        "\n",
        "### A first example\n",
        "\n",
        "To see the JIT compiler in action, consider the following function."
      ],
      "id": "7cbb0cfe-0631-4d7e-af86-46fabd3a871c"
    },
    {
      "cell_type": "code",
      "execution_count": null,
      "metadata": {},
      "outputs": [],
      "source": [
        "def f(x):\n",
        "    a = 3*x + jnp.sin(x) + jnp.cos(x**2) - jnp.cos(2*x) - x**2 * 0.4 * x**1.5\n",
        "    return jnp.sum(a)"
      ],
      "id": "8cdbc54f"
    },
    {
      "cell_type": "markdown",
      "metadata": {},
      "source": [
        "Let’s build an array to call the function on."
      ],
      "id": "63cd4593-1e57-47cb-8bda-0d87f269432d"
    },
    {
      "cell_type": "code",
      "execution_count": 43,
      "metadata": {},
      "outputs": [],
      "source": [
        "n = 50_000_000\n",
        "x = jnp.ones(n)"
      ],
      "id": "ce62b27c"
    },
    {
      "cell_type": "markdown",
      "metadata": {},
      "source": [
        "How long does the function take to execute?"
      ],
      "id": "44470c6b-a2f4-4283-a782-56722f377661"
    },
    {
      "cell_type": "code",
      "execution_count": 48,
      "metadata": {},
      "outputs": [
        {
          "output_type": "stream",
          "name": "stdout",
          "text": [
            "CPU times: user 3.61 s, sys: 2.64 s, total: 6.25 s\n",
            "Wall time: 1.74 s"
          ]
        },
        {
          "output_type": "display_data",
          "metadata": {},
          "data": {
            "text/plain": [
              "Array(2.1989598e+08, dtype=float32)"
            ]
          }
        }
      ],
      "source": [
        "%%time\n",
        "f(x).block_until_ready()"
      ],
      "id": "a935ede8"
    },
    {
      "cell_type": "markdown",
      "metadata": {},
      "source": [
        "``` {note}\n",
        "Here, in order to measure actual speed, we use the `block_until_ready()` method \n",
        "to hold the interpreter until the results of the computation are returned from\n",
        "the device. This is necessary because JAX uses asynchronous dispatch, which\n",
        "allows the Python interpreter to run ahead of GPU computations.\n",
        "```\n",
        "\n",
        "The code doesn’t run as fast as we might hope, given that it’s running\n",
        "on a GPU.\n",
        "\n",
        "But if we run it a second time it becomes much faster:"
      ],
      "id": "3652f351-a993-4764-9eed-5bcd85615b16"
    },
    {
      "cell_type": "code",
      "execution_count": null,
      "metadata": {},
      "outputs": [],
      "source": [
        "%time f(x).block_until_ready()"
      ],
      "id": "2ab1972b"
    },
    {
      "cell_type": "markdown",
      "metadata": {},
      "source": [
        "This is because the built in functions like `jnp.cos` are JIT compiled\n",
        "and the first run includes compile time.\n",
        "\n",
        "Why would JAX want to JIT-compile built in functions like `jnp.cos`\n",
        "instead of just providing pre-compiled versions, like NumPy?\n",
        "\n",
        "The reason is that the JIT compiler can specialize on the *size* of the\n",
        "array being used, which is helpful for parallelization.\n",
        "\n",
        "For example, in running the code above, the JIT compiler produced a\n",
        "version of `jnp.cos` that is specialized to floating point arrays of\n",
        "size `n = 50_000_000`.\n",
        "\n",
        "We can check this by calling `f` with a new array of different size."
      ],
      "id": "47757255-ded5-43e2-9d02-519908abedd1"
    },
    {
      "cell_type": "code",
      "execution_count": null,
      "metadata": {},
      "outputs": [],
      "source": [
        "m = 50_000_001\n",
        "y = jnp.ones(m)"
      ],
      "id": "7b4d8b56"
    },
    {
      "cell_type": "code",
      "execution_count": null,
      "metadata": {},
      "outputs": [],
      "source": [
        "%time f(y).block_until_ready()"
      ],
      "id": "81b1ffaa"
    },
    {
      "cell_type": "markdown",
      "metadata": {},
      "source": [
        "Notice that the execution time increases, because now new versions of\n",
        "the built-ins like `jnp.cos` are being compiled, specialized to the new\n",
        "array size.\n",
        "\n",
        "If we run again, the code is dispatched to the correct compiled version\n",
        "and we get faster execution."
      ],
      "id": "c446b9d0-ffb7-4c46-8301-e74a9eefba5c"
    },
    {
      "cell_type": "code",
      "execution_count": null,
      "metadata": {},
      "outputs": [],
      "source": [
        "%time f(y).block_until_ready()"
      ],
      "id": "c98553e9"
    },
    {
      "cell_type": "markdown",
      "metadata": {},
      "source": [
        "The compiled versions for the previous array size are still available in\n",
        "memory too, and the following call is dispatched to the correct compiled\n",
        "code."
      ],
      "id": "e023041c-b852-4d02-bbea-f91fcf997525"
    },
    {
      "cell_type": "code",
      "execution_count": null,
      "metadata": {},
      "outputs": [],
      "source": [
        "%time f(x).block_until_ready()"
      ],
      "id": "be637596"
    },
    {
      "cell_type": "markdown",
      "metadata": {},
      "source": [
        "### Compiling the outer function\n",
        "\n",
        "We can do even better if we manually JIT-compile the outer function."
      ],
      "id": "1feb30cf-d1cf-4838-8c73-d20508a3ffb6"
    },
    {
      "cell_type": "code",
      "execution_count": 49,
      "metadata": {},
      "outputs": [],
      "source": [
        "f_jit = jax.jit(f)   # target for JIT compilation"
      ],
      "id": "47524ff2"
    },
    {
      "cell_type": "markdown",
      "metadata": {},
      "source": [
        "Let’s run once to compile it:"
      ],
      "id": "68705a45-8a7d-44b3-8904-1e5a168b2e38"
    },
    {
      "cell_type": "code",
      "execution_count": 50,
      "metadata": {},
      "outputs": [
        {
          "output_type": "display_data",
          "metadata": {},
          "data": {
            "text/plain": [
              "Array(2.1989598e+08, dtype=float32)"
            ]
          }
        }
      ],
      "source": [
        "f_jit(x)"
      ],
      "id": "08865e0c"
    },
    {
      "cell_type": "markdown",
      "metadata": {},
      "source": [
        "And now let’s time it."
      ],
      "id": "035ec2ef-bc0a-476c-832b-4ab47ca6e5ab"
    },
    {
      "cell_type": "code",
      "execution_count": 51,
      "metadata": {},
      "outputs": [
        {
          "output_type": "stream",
          "name": "stdout",
          "text": [
            "CPU times: user 3.73 s, sys: 218 ms, total: 3.94 s\n",
            "Wall time: 361 ms"
          ]
        },
        {
          "output_type": "display_data",
          "metadata": {},
          "data": {
            "text/plain": [
              "Array(2.1989598e+08, dtype=float32)"
            ]
          }
        }
      ],
      "source": [
        "%time f_jit(x).block_until_ready()"
      ],
      "id": "28a2f96f"
    },
    {
      "cell_type": "markdown",
      "metadata": {},
      "source": [
        "Note the speed gain.\n",
        "\n",
        "This is because the array operations are fused and no intermediate\n",
        "arrays are created.\n",
        "\n",
        "Incidentally, a more common syntax when targetting a function for the\n",
        "JIT compiler is"
      ],
      "id": "c3a8491d-5280-4bad-a056-3204a2a7d531"
    },
    {
      "cell_type": "code",
      "execution_count": null,
      "metadata": {},
      "outputs": [],
      "source": [
        "@jax.jit\n",
        "def f(x):\n",
        "    a = 3*x + jnp.sin(x) + jnp.cos(x**2) - jnp.cos(2*x) - x**2 * 0.4 * x**1.5\n",
        "    return jnp.sum(a)"
      ],
      "id": "c2af1d8b"
    },
    {
      "cell_type": "markdown",
      "metadata": {},
      "source": [
        "## Functional Programming\n",
        "\n",
        "From JAX’s documentation:\n",
        "\n",
        "*When walking about the countryside of Italy, the people will not\n",
        "hesitate to tell you that JAX has “una anima di pura programmazione\n",
        "funzionale”.*\n",
        "\n",
        "In other words, JAX assumes a functional programming style.\n",
        "\n",
        "The major implication is that JAX functions should be pure.\n",
        "\n",
        "A pure function will always return the same result if invoked with the\n",
        "same inputs.\n",
        "\n",
        "In particular, a pure function has\n",
        "\n",
        "-   no dependence on global variables and\n",
        "-   no side effects\n",
        "\n",
        "JAX will not usually throw errors when compiling impure functions but\n",
        "execution becomes unpredictable.\n",
        "\n",
        "Here’s an illustration of this fact, using global variables:"
      ],
      "id": "53a3b8fd-a449-4a22-836d-4c8085bc4af5"
    },
    {
      "cell_type": "code",
      "execution_count": 61,
      "metadata": {},
      "outputs": [],
      "source": [
        "a = 1  # global\n",
        "\n",
        "@jax.jit\n",
        "def f(x):\n",
        "    if len(x)<10:\n",
        "        print(\"Something\")\n",
        "        return a + x\n",
        "    else:\n",
        "        x"
      ],
      "id": "560079b6"
    },
    {
      "cell_type": "code",
      "execution_count": 62,
      "metadata": {},
      "outputs": [],
      "source": [
        "x = jnp.ones(2)"
      ],
      "id": "00ba2e9e"
    },
    {
      "cell_type": "code",
      "execution_count": 63,
      "metadata": {},
      "outputs": [
        {
          "output_type": "stream",
          "name": "stdout",
          "text": [
            "Something"
          ]
        },
        {
          "output_type": "display_data",
          "metadata": {},
          "data": {
            "text/plain": [
              "Array([2., 2.], dtype=float32)"
            ]
          }
        }
      ],
      "source": [
        "f(x)"
      ],
      "id": "d7ac371c"
    },
    {
      "cell_type": "markdown",
      "metadata": {},
      "source": [
        "In the code above, the global value `a=1` is fused into the jitted\n",
        "function.\n",
        "\n",
        "Even if we change `a`, the output of `f` will not be affected — as long\n",
        "as the same compiled version is called."
      ],
      "id": "d67853ea-f772-4cef-9e2d-c0b5d385beec"
    },
    {
      "cell_type": "code",
      "execution_count": null,
      "metadata": {},
      "outputs": [],
      "source": [
        "a = 42"
      ],
      "id": "c85b5449"
    },
    {
      "cell_type": "code",
      "execution_count": null,
      "metadata": {},
      "outputs": [],
      "source": [
        "f(x)"
      ],
      "id": "b75b1b9a"
    },
    {
      "cell_type": "markdown",
      "metadata": {},
      "source": [
        "Changing the dimension of the input triggers a fresh compilation of the\n",
        "function, at which time the change in the value of `a` takes effect:"
      ],
      "id": "efb9a2c7-7e47-48d6-9fc5-d9c46050a466"
    },
    {
      "cell_type": "code",
      "execution_count": null,
      "metadata": {},
      "outputs": [],
      "source": [
        "x = jnp.ones(3)"
      ],
      "id": "c699e711"
    },
    {
      "cell_type": "code",
      "execution_count": null,
      "metadata": {},
      "outputs": [],
      "source": [
        "f(x)"
      ],
      "id": "d3b4a943"
    },
    {
      "cell_type": "markdown",
      "metadata": {},
      "source": [
        "Moral of the story: write pure functions when using JAX!\n",
        "\n",
        "## Gradients\n",
        "\n",
        "JAX can use automatic differentiation to compute gradients.\n",
        "\n",
        "This can be extremely useful for optimization and solving nonlinear\n",
        "systems.\n",
        "\n",
        "We will see significant applications later in this lecture series.\n",
        "\n",
        "For now, here’s a very simple illustration involving the function"
      ],
      "id": "0ad386cb-f732-4a08-83ff-b388ce9e8a84"
    },
    {
      "cell_type": "code",
      "execution_count": 64,
      "metadata": {},
      "outputs": [],
      "source": [
        "def f(x):\n",
        "    return (x**2) / 2"
      ],
      "id": "32e67e10"
    },
    {
      "cell_type": "markdown",
      "metadata": {},
      "source": [
        "Let’s take the derivative:"
      ],
      "id": "341e528a-c6ba-49a4-a9f6-af74632616da"
    },
    {
      "cell_type": "code",
      "execution_count": 65,
      "metadata": {},
      "outputs": [],
      "source": [
        "f_prime = jax.grad(f)"
      ],
      "id": "03db9a1e"
    },
    {
      "cell_type": "code",
      "execution_count": 67,
      "metadata": {},
      "outputs": [
        {
          "output_type": "display_data",
          "metadata": {},
          "data": {
            "text/plain": [
              "Array(1., dtype=float32, weak_type=True)"
            ]
          }
        }
      ],
      "source": [
        "jax.grad(f_prime)(10.0)"
      ],
      "id": "ee1332e5"
    },
    {
      "cell_type": "markdown",
      "metadata": {},
      "source": [
        "Let’s plot the function and derivative, noting that $f'(x) = x$."
      ],
      "id": "9be8dfe0-9ec9-4d79-b355-71c21b19b64e"
    },
    {
      "cell_type": "code",
      "execution_count": 68,
      "metadata": {},
      "outputs": [
        {
          "output_type": "display_data",
          "metadata": {},
          "data": {
            "image/png": "[encoded data removed]"
          }
        }
      ],
      "source": [
        "import matplotlib.pyplot as plt\n",
        "\n",
        "fig, ax = plt.subplots()\n",
        "x_grid = jnp.linspace(-4, 4, 200)\n",
        "ax.plot(x_grid, f(x_grid), label=\"$f$\")\n",
        "ax.plot(x_grid, [f_prime(x) for x in x_grid], label=\"$f'$\")\n",
        "ax.legend(loc='upper center')\n",
        "plt.show()"
      ],
      "id": "34fc27d4"
    },
    {
      "cell_type": "markdown",
      "metadata": {},
      "source": [
        "We defer further exploration of automatic differentiation with JAX until\n",
        "{doc}`autodiff`.\n",
        "\n",
        "## Writing vectorized code\n",
        "\n",
        "Writing fast JAX code requires shifting repetitive tasks from loops to\n",
        "array processing operations, so that the JAX compiler can easily\n",
        "understand the whole operation and generate more efficient machine code.\n",
        "\n",
        "This procedure is called **vectorization** or **array programming**, and\n",
        "will be familiar to anyone who has used NumPy or MATLAB.\n",
        "\n",
        "In most ways, vectorization is the same in JAX as it is in NumPy.\n",
        "\n",
        "But there are also some differences, which we highlight here.\n",
        "\n",
        "As a running example, consider the function\n",
        "\n",
        "$$\n",
        "    f(x,y) = \\frac{\\cos(x^2 + y^2)}{1 + x^2 + y^2}\n",
        "$$\n",
        "\n",
        "Suppose that we want to evaluate this function on a square grid of $x$\n",
        "and $y$ points and then plot it.\n",
        "\n",
        "To clarify, here is the slow `for` loop version."
      ],
      "id": "0b39ca48-5155-4dfa-a693-acb244ecb88f"
    },
    {
      "cell_type": "code",
      "execution_count": 70,
      "metadata": {},
      "outputs": [],
      "source": [
        "@jax.jit\n",
        "def f(x, y):\n",
        "    return jnp.cos(x**2 + y**2) / (1 + x**2 + y**2)\n",
        "\n",
        "n = 80\n",
        "x = jnp.linspace(-2, 2, n)\n",
        "y = x\n",
        "\n",
        "z_loops = np.empty((n, n))"
      ],
      "id": "5fb512fb"
    },
    {
      "cell_type": "code",
      "execution_count": 71,
      "metadata": {},
      "outputs": [
        {
          "output_type": "stream",
          "name": "stdout",
          "text": [
            "CPU times: user 1.65 s, sys: 5.43 ms, total: 1.66 s\n",
            "Wall time: 1.66 s"
          ]
        }
      ],
      "source": [
        "%%time\n",
        "for i in range(n):\n",
        "    for j in range(n):\n",
        "        z_loops[i, j] = f(x[i], y[j])"
      ],
      "id": "5ddc86e1"
    },
    {
      "cell_type": "markdown",
      "metadata": {},
      "source": [
        "Even for this very small grid, the run time is extremely slow.\n",
        "\n",
        "(Notice that we used a NumPy array for `z_loops` because we wanted to\n",
        "write to it.)\n",
        "\n",
        "  \n",
        "\n",
        "OK, so how can we do the same operation in vectorized form?\n",
        "\n",
        "If you are new to vectorization, you might guess that we can simply\n",
        "write"
      ],
      "id": "0d04c62f-9c3e-4e75-a7f6-bcfd350b6110"
    },
    {
      "cell_type": "code",
      "execution_count": null,
      "metadata": {},
      "outputs": [],
      "source": [
        "z_bad = f(x, y)"
      ],
      "id": "0600f2fd"
    },
    {
      "cell_type": "code",
      "execution_count": 76,
      "metadata": {},
      "outputs": [
        {
          "output_type": "stream",
          "name": "stdout",
          "text": [
            "CPU times: user 3.34 ms, sys: 837 μs, total: 4.18 ms\n",
            "Wall time: 3.11 ms"
          ]
        },
        {
          "output_type": "display_data",
          "metadata": {},
          "data": {
            "text/plain": [
              "Array([[-0.01616667,  0.00612768,  0.02861433, ...,  0.02861422,\n",
              "         0.00612757, -0.01616667],\n",
              "       [ 0.00612768,  0.02920887,  0.05161642, ...,  0.05161631,\n",
              "         0.02920875,  0.00612768],\n",
              "       [ 0.02861433,  0.05161642,  0.07308776, ...,  0.07308766,\n",
              "         0.05161631,  0.02861433],\n",
              "       ...,\n",
              "       [ 0.02861422,  0.05161631,  0.07308766, ...,  0.0730876 ,\n",
              "         0.0516162 ,  0.02861422],\n",
              "       [ 0.00612757,  0.02920875,  0.05161631, ...,  0.0516162 ,\n",
              "         0.02920864,  0.00612757],\n",
              "       [-0.01616667,  0.00612768,  0.02861433, ...,  0.02861422,\n",
              "         0.00612757, -0.01616667]], dtype=float32)"
            ]
          }
        }
      ],
      "source": [
        "%time f(x[:,jnp.newaxis], y[jnp.newaxis,:])"
      ],
      "id": "d721a10c"
    },
    {
      "cell_type": "markdown",
      "metadata": {},
      "source": [
        "But this gives us the wrong result because JAX doesn’t understand the\n",
        "nested for loop."
      ],
      "id": "d00280ff-e31b-49c8-bede-bac0120ce262"
    },
    {
      "cell_type": "code",
      "execution_count": null,
      "metadata": {},
      "outputs": [],
      "source": [
        "z_bad.shape"
      ],
      "id": "ee8702c5"
    },
    {
      "cell_type": "markdown",
      "metadata": {},
      "source": [
        "Here is what we actually wanted:"
      ],
      "id": "d8c0c5c9-3efc-4840-ba52-4b1916231f8c"
    },
    {
      "cell_type": "code",
      "execution_count": null,
      "metadata": {},
      "outputs": [],
      "source": [
        "z_loops.shape"
      ],
      "id": "8b004c02"
    },
    {
      "cell_type": "markdown",
      "metadata": {},
      "source": [
        "To get the right shape and the correct nested for loop calculation, we\n",
        "can use a `meshgrid` operation designed for this purpose:"
      ],
      "id": "e7172b1a-b86c-4be0-8765-4601cac955c0"
    },
    {
      "cell_type": "code",
      "execution_count": null,
      "metadata": {},
      "outputs": [],
      "source": [
        "x_mesh, y_mesh = jnp.meshgrid(x, y)"
      ],
      "id": "ec1551a8"
    },
    {
      "cell_type": "markdown",
      "metadata": {},
      "source": [
        "Now we get what we want and the execution time is very fast."
      ],
      "id": "13610ca8-4760-49c9-a056-2b975dc4c17c"
    },
    {
      "cell_type": "code",
      "execution_count": null,
      "metadata": {},
      "outputs": [],
      "source": [
        "%%time\n",
        "z_mesh = f(x_mesh, y_mesh).block_until_ready()"
      ],
      "id": "084d7dc8"
    },
    {
      "cell_type": "markdown",
      "metadata": {},
      "source": [
        "Let’s run again to eliminate compile time."
      ],
      "id": "19f615aa-64b3-4e1e-a230-362a8455c4d3"
    },
    {
      "cell_type": "code",
      "execution_count": null,
      "metadata": {},
      "outputs": [],
      "source": [
        "%%time\n",
        "z_mesh = f(x_mesh, y_mesh).block_until_ready()"
      ],
      "id": "75d2ba05"
    },
    {
      "cell_type": "markdown",
      "metadata": {},
      "source": [
        "Let’s confirm that we got the right answer."
      ],
      "id": "a60c85bc-43dd-487d-99c2-e16ca5029fd1"
    },
    {
      "cell_type": "code",
      "execution_count": null,
      "metadata": {},
      "outputs": [],
      "source": [
        "jnp.allclose(z_mesh, z_loops)"
      ],
      "id": "9902d1a4"
    },
    {
      "cell_type": "markdown",
      "metadata": {},
      "source": [
        "Now we can set up a serious grid and run the same calculation (on the\n",
        "larger grid) in a short amount of time."
      ],
      "id": "bb529722-2107-438e-b108-5c2f4d7c9fd7"
    },
    {
      "cell_type": "code",
      "execution_count": null,
      "metadata": {},
      "outputs": [],
      "source": [
        "n = 6000\n",
        "x = jnp.linspace(-2, 2, n)\n",
        "y = x\n",
        "x_mesh, y_mesh = jnp.meshgrid(x, y)"
      ],
      "id": "d4f9747e"
    },
    {
      "cell_type": "code",
      "execution_count": null,
      "metadata": {},
      "outputs": [],
      "source": [
        "%%time\n",
        "z_mesh = f(x_mesh, y_mesh).block_until_ready()"
      ],
      "id": "c54edd7d"
    },
    {
      "cell_type": "markdown",
      "metadata": {},
      "source": [
        "Let’s run again to get rid of compile time."
      ],
      "id": "063bc86e-de07-4b9e-bf9f-887a37df579d"
    },
    {
      "cell_type": "code",
      "execution_count": null,
      "metadata": {},
      "outputs": [],
      "source": [
        "%%time\n",
        "z_mesh = f(x_mesh, y_mesh).block_until_ready()"
      ],
      "id": "ffe6ee0a"
    },
    {
      "cell_type": "markdown",
      "metadata": {},
      "source": [
        "But there is one problem here: the mesh grids use a lot of memory."
      ],
      "id": "f0332226-ad07-44ab-9b94-a83f47e2c235"
    },
    {
      "cell_type": "code",
      "execution_count": null,
      "metadata": {},
      "outputs": [],
      "source": [
        "x_mesh.nbytes + y_mesh.nbytes"
      ],
      "id": "45b78061"
    },
    {
      "cell_type": "markdown",
      "metadata": {},
      "source": [
        "By comparison, the flat array `x` is just"
      ],
      "id": "839b3bbe-e0d0-4953-a26a-447cb3a35a2c"
    },
    {
      "cell_type": "code",
      "execution_count": null,
      "metadata": {},
      "outputs": [],
      "source": [
        "x.nbytes  # and y is just a pointer to x"
      ],
      "id": "a06ae3f0"
    },
    {
      "cell_type": "markdown",
      "metadata": {},
      "source": [
        "This extra memory usage can be a big problem in actual research\n",
        "calculations.\n",
        "\n",
        "So let’s try a different approach using\n",
        "[jax.vmap](https://jax.readthedocs.io/en/latest/_autosummary/jax.vmap.html)\n",
        "\n",
        "  \n",
        "\n",
        "First we vectorize `f` in `y`."
      ],
      "id": "93134d5d-2577-4c34-9f86-ef1986b4bb07"
    },
    {
      "cell_type": "code",
      "execution_count": 73,
      "metadata": {},
      "outputs": [],
      "source": [
        "f_vec_y = jax.vmap(f, in_axes=(None, 0))  "
      ],
      "id": "b0242503"
    },
    {
      "cell_type": "markdown",
      "metadata": {},
      "source": [
        "In the line above, `(None, 0)` indicates that we are vectorizing in the\n",
        "second argument, which is `y`.\n",
        "\n",
        "Next, we vectorize in the first argument, which is `x`."
      ],
      "id": "ca8a2c62-0b64-4b81-b759-811ed45f1090"
    },
    {
      "cell_type": "code",
      "execution_count": 74,
      "metadata": {},
      "outputs": [],
      "source": [
        "f_vec = jax.vmap(f_vec_y, in_axes=(0, None))"
      ],
      "id": "559071d7"
    },
    {
      "cell_type": "markdown",
      "metadata": {},
      "source": [
        "With this construction, we can now call the function $f$ on flat (low\n",
        "memory) arrays."
      ],
      "id": "350717e6-7812-4a8b-8b99-fbc413404542"
    },
    {
      "cell_type": "code",
      "execution_count": 77,
      "metadata": {},
      "outputs": [
        {
          "output_type": "stream",
          "name": "stdout",
          "text": [
            "CPU times: user 2.42 ms, sys: 172 μs, total: 2.59 ms\n",
            "Wall time: 2.2 ms"
          ]
        }
      ],
      "source": [
        "%%time\n",
        "z_vmap = f_vec(x, y)"
      ],
      "id": "1a6d0347"
    },
    {
      "cell_type": "markdown",
      "metadata": {},
      "source": [
        "We run it again to eliminate compile time."
      ],
      "id": "d6f511b2-9430-44ea-a431-94cd4f684805"
    },
    {
      "cell_type": "code",
      "execution_count": null,
      "metadata": {},
      "outputs": [],
      "source": [
        "%%time\n",
        "z_vmap = f_vec(x, y).block_until_ready()"
      ],
      "id": "653c6241"
    },
    {
      "cell_type": "markdown",
      "metadata": {},
      "source": [
        "The execution time is essentially the same as the mesh operation but we\n",
        "are using much less memory.\n",
        "\n",
        "And we produce the correct answer:"
      ],
      "id": "b91cd610-9fa2-4adb-8e62-d554a197b89e"
    },
    {
      "cell_type": "code",
      "execution_count": null,
      "metadata": {},
      "outputs": [],
      "source": [
        "jnp.allclose(z_vmap, z_mesh)"
      ],
      "id": "a686cb63"
    }
  ],
  "nbformat": 4,
  "nbformat_minor": 5,
  "metadata": {
    "kernelspec": {
      "name": "python3",
      "display_name": "bbank",
      "language": "python"
    },
    "language_info": {
      "name": "python",
      "codemirror_mode": {
        "name": "ipython",
        "version": "3"
      },
      "file_extension": ".py",
      "mimetype": "text/x-python",
      "nbconvert_exporter": "python",
      "pygments_lexer": "ipython3",
      "version": "3.11.10"
    }
  }
}