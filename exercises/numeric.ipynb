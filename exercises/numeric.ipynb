{
  "cells": [
    {
      "cell_type": "markdown",
      "metadata": {},
      "source": [
        "# Numeric\n",
        "\n",
        "## Using Numpy\n",
        "\n",
        "Selection from\n",
        "[w3resources](https://www.w3resource.com/python-exercises/numpy/python-numpy-random.php)\n",
        "and [rougier/numpy100](https://github.com/rougier/numpy-100)\n",
        "\n",
        "<span class=\"theorem-title\">**Exercise 1**</span>  \n",
        "\n",
        "-   Write a NumPy program to generate five random numbers from the\n",
        "    normal distribution."
      ],
      "id": "b71d6b81-11c2-40e0-ab33-543fbb53f213"
    },
    {
      "cell_type": "code",
      "execution_count": 1,
      "metadata": {},
      "outputs": [],
      "source": [
        "# code here"
      ],
      "id": "062cfc44"
    },
    {
      "cell_type": "markdown",
      "metadata": {},
      "source": [
        "<span class=\"theorem-title\">**Exercise 2**</span> Write a NumPy program\n",
        "to generate six random integers between 10 and 30."
      ],
      "id": "382ee1dd-4b1f-4a7d-922b-a23652a0c5c1"
    },
    {
      "cell_type": "code",
      "execution_count": 2,
      "metadata": {},
      "outputs": [],
      "source": [
        "# code here"
      ],
      "id": "433112d0"
    },
    {
      "cell_type": "markdown",
      "metadata": {},
      "source": [
        "<span class=\"theorem-title\">**Exercise 3**</span> Create a 3x3 matrix\n",
        "with values ranging from 0 to 8"
      ],
      "id": "a32e3b7f-58a4-4f43-b653-55eb90ca2bf8"
    },
    {
      "cell_type": "code",
      "execution_count": 3,
      "metadata": {},
      "outputs": [],
      "source": [
        "# code here"
      ],
      "id": "18e74e61"
    },
    {
      "cell_type": "markdown",
      "metadata": {},
      "source": [
        "<span class=\"theorem-title\">**Exercise 4**</span> Create 2d array $M$\n",
        "such of size 3\\*3 such that $M_{ij} = i\\times j$"
      ],
      "id": "d0784930-50f6-4741-9c5a-f15020519345"
    },
    {
      "cell_type": "code",
      "execution_count": 4,
      "metadata": {},
      "outputs": [],
      "source": [
        "# code here"
      ],
      "id": "0608c70e"
    },
    {
      "cell_type": "markdown",
      "metadata": {},
      "source": [
        "<span class=\"theorem-title\">**Exercise 5**</span> Create 3 vectors of\n",
        "length 5 and create a matrix where each column is one of the vector."
      ],
      "id": "db8d5e7f-ad13-4d7b-92a6-108f839e229f"
    },
    {
      "cell_type": "code",
      "execution_count": 5,
      "metadata": {},
      "outputs": [],
      "source": [
        "# code here"
      ],
      "id": "c738a4f9"
    },
    {
      "cell_type": "markdown",
      "metadata": {},
      "source": [
        "<span class=\"theorem-title\">**Exercise 6**</span> Create 3 vectors of\n",
        "length 5 and create a matrix where each row is one of the vector."
      ],
      "id": "783a6ce2-95b1-43fb-b82d-6eb08ba89863"
    },
    {
      "cell_type": "code",
      "execution_count": 6,
      "metadata": {},
      "outputs": [],
      "source": [
        "# code here"
      ],
      "id": "338a1086"
    },
    {
      "cell_type": "markdown",
      "metadata": {},
      "source": [
        "<span class=\"theorem-title\">**Exercise 7**</span> Find indices of\n",
        "non-zero elements from `np.array([1,2,0,0,4,0])`. Replace them with -1.0"
      ],
      "id": "012346b5-775b-4f50-9e6a-81f03aabe7be"
    },
    {
      "cell_type": "code",
      "execution_count": 7,
      "metadata": {},
      "outputs": [],
      "source": [
        "# code here"
      ],
      "id": "a6c01bda"
    },
    {
      "cell_type": "markdown",
      "metadata": {},
      "source": [
        "<span class=\"theorem-title\">**Exercise 8**</span> Write a NumPy program\n",
        "to normalize a 3x3 random matrix. (Define norm $|x|=\\sqrt{\\sum x_i^2}$\n",
        "and compute $M/|M|$)"
      ],
      "id": "ee673c08-0975-45fc-830f-221dc9fe5f50"
    },
    {
      "cell_type": "code",
      "execution_count": 8,
      "metadata": {},
      "outputs": [],
      "source": [
        "# code here"
      ],
      "id": "e9a3f784"
    },
    {
      "cell_type": "markdown",
      "metadata": {},
      "source": [
        "<span class=\"theorem-title\">**Exercise 9**</span> Create 2d array $M$\n",
        "such of size 3\\*3 such that $M_{ij} = i\\times j$"
      ],
      "id": "47e934f9-4efa-49ea-bf23-f9c2befc6f83"
    },
    {
      "cell_type": "code",
      "execution_count": 9,
      "metadata": {},
      "outputs": [],
      "source": [
        "# code here"
      ],
      "id": "bf25e70e"
    },
    {
      "cell_type": "markdown",
      "metadata": {},
      "source": [
        "<span class=\"theorem-title\">**Exercise 10**</span> Take a random matrix\n",
        "$A$ of size $N\\times 2$ (N=10) where each line represents a different 2d\n",
        "point. Compute the euclidean distance matrix such that $E_{ij}$ is the\n",
        "distance between point $i$ and point $j$."
      ],
      "id": "ff9e0446-2d36-40c2-93e3-eb4651bbe001"
    },
    {
      "cell_type": "code",
      "execution_count": 10,
      "metadata": {},
      "outputs": [],
      "source": [
        "# code here"
      ],
      "id": "04536456"
    },
    {
      "cell_type": "markdown",
      "metadata": {},
      "source": [
        "<span class=\"theorem-title\">**Exercise 11**</span> Create A of size\n",
        "$10\\times 3$. Create matrix $B$ with the same column as $A$ reordered by\n",
        "sum of absolute values.\n",
        "\n",
        "## Simulating an AR1\n",
        "\n",
        "Take an AR1 process $x_t = A \\rho x_{t-1} + \\epsilon_t$ with\n",
        "$\\epsilon_t \\sim \\Sigma$ where $\\Sigma$ is a positive definite matrix.\n",
        "\n",
        "<span class=\"theorem-title\">**Exercise 12**</span> Define 2x2 matrices\n",
        "$A$ and $\\Sigma$, the latter being symmetric positive definite"
      ],
      "id": "c53b2375-e1ae-4f99-9a00-8520992c51dc"
    },
    {
      "cell_type": "code",
      "execution_count": 11,
      "metadata": {},
      "outputs": [],
      "source": [
        "# code here"
      ],
      "id": "51fe07dd"
    },
    {
      "cell_type": "markdown",
      "metadata": {},
      "source": [
        "<span class=\"theorem-title\">**Exercise 13**</span> Compute asymptotic\n",
        "variance using matrix algebra (there is a recursive formula)"
      ],
      "id": "e71d14a5-0b90-4bd9-9684-4f697f610056"
    },
    {
      "cell_type": "code",
      "execution_count": 12,
      "metadata": {},
      "outputs": [],
      "source": [
        "# code here"
      ],
      "id": "e1a531f6"
    },
    {
      "cell_type": "markdown",
      "metadata": {},
      "source": [
        "<span class=\"theorem-title\">**Exercise 14**</span> Simulate $N$ draws\n",
        "for $T$ periods and store the result in `sim`."
      ],
      "id": "5cc74736-ecb2-4970-8d3a-662cce0f34a5"
    },
    {
      "cell_type": "code",
      "execution_count": 13,
      "metadata": {},
      "outputs": [],
      "source": [
        "# code here"
      ],
      "id": "ad04d09a"
    },
    {
      "cell_type": "markdown",
      "metadata": {},
      "source": [
        "<span class=\"theorem-title\">**Exercise 15**</span> Compute ergodic\n",
        "variance (bonus compute std of the variance estimate)"
      ],
      "id": "ee733bfe-8570-49aa-9025-36ffba55177a"
    },
    {
      "cell_type": "code",
      "execution_count": 14,
      "metadata": {},
      "outputs": [],
      "source": [
        "# code here"
      ],
      "id": "490e1af3"
    },
    {
      "cell_type": "markdown",
      "metadata": {},
      "source": [
        "<span class=\"theorem-title\">**Exercise 16**</span> Plot a few\n",
        "simulations on the same graph"
      ],
      "id": "d4199d3e-8166-40a0-9236-b9ea9868bc0a"
    },
    {
      "cell_type": "code",
      "execution_count": 15,
      "metadata": {},
      "outputs": [],
      "source": [
        "# code here"
      ],
      "id": "6b879b08"
    },
    {
      "cell_type": "markdown",
      "metadata": {},
      "source": [
        "<span class=\"theorem-title\">**Exercise 17**</span> Plot asymptotic\n",
        "distribution (seaborn)"
      ],
      "id": "489390c6-0783-4092-b10d-4579e1a26a4e"
    },
    {
      "cell_type": "code",
      "execution_count": 16,
      "metadata": {},
      "outputs": [],
      "source": [
        "# code here"
      ],
      "id": "63f88c07"
    },
    {
      "cell_type": "markdown",
      "metadata": {},
      "source": [
        "<span class=\"theorem-title\">**Exercise 18**</span> Bonus: write a faster\n",
        "simulation routine."
      ],
      "id": "7b617b67-241e-47d2-b998-d59d193cd8d8"
    },
    {
      "cell_type": "code",
      "execution_count": 17,
      "metadata": {},
      "outputs": [],
      "source": [
        "# code here"
      ],
      "id": "850084b9"
    }
  ],
  "nbformat": 4,
  "nbformat_minor": 5,
  "metadata": {
    "kernelspec": {
      "name": "python3",
      "display_name": "Python 3 (ipykernel)",
      "language": "python",
      "path": "/home/pablo/.local/share/jupyter/kernels/python3"
    },
    "language_info": {
      "name": "python",
      "codemirror_mode": {
        "name": "ipython",
        "version": "3"
      },
      "file_extension": ".py",
      "mimetype": "text/x-python",
      "nbconvert_exporter": "python",
      "pygments_lexer": "ipython3",
      "version": "3.11.10"
    }
  }
}