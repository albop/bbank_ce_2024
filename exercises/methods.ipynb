{
  "cells": [
    {
      "cell_type": "markdown",
      "metadata": {},
      "source": [
        "# Methods\n",
        "\n",
        "## Optimization and root finding\n",
        "\n",
        "<span class=\"theorem-title\">**Exercise 1**</span> Consider the function\n",
        "$f(x,y)=1-(x-x_0)^2-0.5(y-y_0)^2$ with $x_0=0.5$ and $y_0=1.0$. Check\n",
        "the documentatin for `scipy.optimize`. Use it to maximze function $f$."
      ],
      "id": "2b62567b-dd83-44f7-a075-ea2bd0958bb9"
    },
    {
      "cell_type": "code",
      "execution_count": 1,
      "metadata": {},
      "outputs": [],
      "source": [
        "# one needs to define $f$ as a function of a vector\n",
        "# f(v)=1-(v[0]-x_0)^2-0.5*(v[1]-y_0)^2$ "
      ],
      "id": "c14fee65"
    },
    {
      "cell_type": "markdown",
      "metadata": {},
      "source": [
        "Consider the function $g(x)=0.1+exp(-x)x(1-x)$ over \\[0,2\\]. Choose the\n",
        "scipy function and find the root of $g$."
      ],
      "id": "92a4bdfe-fff4-4a1d-906b-479b47c529ab"
    },
    {
      "cell_type": "code",
      "execution_count": 2,
      "metadata": {},
      "outputs": [],
      "source": [
        "#"
      ],
      "id": "5f2355ee"
    },
    {
      "cell_type": "markdown",
      "metadata": {},
      "source": [
        "Consider the function $h(x,y)=0.1+exp(-x)x(1-x)$ over \\[0,2\\]. Choose\n",
        "the scipy function and find the root of $g$. to find the root of $g$?"
      ],
      "id": "83268d53-42d7-47d5-81ca-5278b8c0b220"
    },
    {
      "cell_type": "code",
      "execution_count": 3,
      "metadata": {},
      "outputs": [],
      "source": [
        "#"
      ],
      "id": "5af5d3b9"
    },
    {
      "cell_type": "markdown",
      "metadata": {},
      "source": [
        "## Interpolation\n",
        "\n",
        "We consider the function\n",
        "$f(x) = sinc(\\lambda x) = \\frac{sin(\\lambda x)}{x}$. Let\n",
        "$I=(x_i)_{i=[1,10]}$ be a regularly spaced interval between -2 and +2,\n",
        "containing 10 points. Call $Y=(y_i)=f(x_i)$ the values of $f$ on this\n",
        "interval. Let $T$ be a test set with 1000 regularly spaced points\n",
        "between -2.5 and 2.5.\n",
        "\n",
        "The goal is to compare several ways interpolate function f on $T$.\n",
        "\n",
        "<span class=\"theorem-title\">**Exercise 2**</span> Define `f`, `I`, `Y`,\n",
        "`T` with numpy."
      ],
      "id": "ff3ee46c-f814-4119-803a-9661f6e83ab9"
    },
    {
      "cell_type": "code",
      "execution_count": 4,
      "metadata": {},
      "outputs": [],
      "source": [
        "# "
      ],
      "id": "ef395a05"
    },
    {
      "cell_type": "markdown",
      "metadata": {},
      "source": [
        "<span class=\"theorem-title\">**Exercise 3**</span> Construct a stepwise\n",
        "approximation using numpy indexing"
      ],
      "id": "4e2d3bc8-4121-4939-bdb9-7cc20a0ccdf5"
    },
    {
      "cell_type": "code",
      "execution_count": 5,
      "metadata": {},
      "outputs": [],
      "source": [
        "# "
      ],
      "id": "777dcc03"
    },
    {
      "cell_type": "markdown",
      "metadata": {},
      "source": [
        "<span class=\"theorem-title\">**Exercise 4**</span> Plot it"
      ],
      "id": "9f1f44c2-6008-41db-a418-7a71f1f4bb55"
    },
    {
      "cell_type": "code",
      "execution_count": 6,
      "metadata": {},
      "outputs": [],
      "source": [
        "# "
      ],
      "id": "d7966209"
    },
    {
      "cell_type": "markdown",
      "metadata": {},
      "source": [
        "<span class=\"theorem-title\">**Exercise 5**</span> Construct a linear\n",
        "approximation using numpy"
      ],
      "id": "5c984bb4-ffbc-44f2-909f-4288d93244df"
    },
    {
      "cell_type": "code",
      "execution_count": 7,
      "metadata": {},
      "outputs": [],
      "source": [
        "#"
      ],
      "id": "26a87780"
    },
    {
      "cell_type": "markdown",
      "metadata": {},
      "source": [
        "<span class=\"theorem-title\">**Exercise 6**</span> Use scipy.interpolate\n",
        "to interpolate the data linearly. Compare the various extrapolation\n",
        "options."
      ],
      "id": "9ecd0cb1-86cd-4b4b-8709-bf66df4685d8"
    },
    {
      "cell_type": "code",
      "execution_count": 8,
      "metadata": {},
      "outputs": [],
      "source": [
        "#"
      ],
      "id": "53761b51"
    },
    {
      "cell_type": "markdown",
      "metadata": {},
      "source": [
        "<span class=\"theorem-title\">**Exercise 7**</span> Use scipy.interpolate\n",
        "to interolate the data with cubic splines. Compare the various\n",
        "extrapolation options."
      ],
      "id": "724f3d54-ca15-42cd-bd13-7071f6a6c727"
    },
    {
      "cell_type": "code",
      "execution_count": 9,
      "metadata": {},
      "outputs": [],
      "source": [
        "#"
      ],
      "id": "4aa6fb0a"
    },
    {
      "cell_type": "markdown",
      "metadata": {},
      "source": [
        "<span class=\"theorem-title\">**Exercise 8**</span> Plot the results"
      ],
      "id": "ac66acc9-6580-4bf0-88c3-65471866231b"
    },
    {
      "cell_type": "code",
      "execution_count": 10,
      "metadata": {},
      "outputs": [],
      "source": [
        "#"
      ],
      "id": "f5e25c6d"
    },
    {
      "cell_type": "markdown",
      "metadata": {},
      "source": [
        "## Discretization\n",
        "\n",
        "<span class=\"theorem-title\">**Exercise 9**</span> Consider the AR1\n",
        "process $y_t = \\rho y_{t-1} + \\epsilon_t$ where $\\rho=0.9$ and\n",
        "$\\epsilon_t=0.01$. Use the `quantecon` library to discretize $(y_t)$ as\n",
        "a discrete markov chain."
      ],
      "id": "b3e8d3e0-f0d3-46b9-81c1-dc477e2aca1b"
    },
    {
      "cell_type": "code",
      "execution_count": 11,
      "metadata": {},
      "outputs": [],
      "source": [
        "#"
      ],
      "id": "e01274b7"
    },
    {
      "cell_type": "markdown",
      "metadata": {},
      "source": [
        "<span class=\"theorem-title\">**Exercise 10**</span> Suppose $\\epsilon$\n",
        "follows a normal law with standard deviation $σ = 0.05$. Take γ = 40 and\n",
        "define $U(x)=(x^{-γ})/(-γ)$ We want to compute\n",
        "$C(\\epsilon) = \\mathbb{E} [U(exp(\\epsilon)) ]$.\n",
        "\n",
        "-   Choose $N>0$ and construct a 1d vector with $N$ realizations of\n",
        "    $\\epsilon$. Use it to compute the expectation.\n",
        "-   Estimate the standard deviation of this expectation.\n",
        "-   Use gauss-hermite method from numpy to compute the same expectation.\n",
        "-   Compare both methods."
      ],
      "id": "91001402-f664-4272-bacc-2be1b7f30407"
    }
  ],
  "nbformat": 4,
  "nbformat_minor": 5,
  "metadata": {
    "kernelspec": {
      "name": "python3",
      "display_name": "Python 3 (ipykernel)",
      "language": "python",
      "path": "/home/pablo/.local/share/jupyter/kernels/python3"
    },
    "language_info": {
      "name": "python",
      "codemirror_mode": {
        "name": "ipython",
        "version": "3"
      },
      "file_extension": ".py",
      "mimetype": "text/x-python",
      "nbconvert_exporter": "python",
      "pygments_lexer": "ipython3",
      "version": "3.11.10"
    }
  }
}