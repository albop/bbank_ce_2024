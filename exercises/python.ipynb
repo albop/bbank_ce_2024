{
  "cells": [
    {
      "cell_type": "markdown",
      "metadata": {},
      "source": [
        "# Python Basics\n",
        "\n",
        "(adapted from Quantecon)\n",
        "\n",
        "## Basics\n",
        "\n",
        "<span class=\"theorem-title\">**Exercise 1**</span> Run the following code\n",
        "in the python interpreter:\n",
        "\n",
        "``` python\n",
        "def say_hello(name):\n",
        "    \"\"\"This function prints morning greetings\"\"\"\n",
        "\n",
        "    print(f\"Good morning {name}!\\n\")\n",
        "\n",
        "    # we can import libraries\n",
        "    import datetime\n",
        "    t = datetime.datetime.now()\n",
        "\n",
        "    # blocks are defined by indentation and colons\n",
        "    if (t.hour,t.min) <= (9,15):\n",
        "        print(\"All good?\\n\")\n",
        "    else:\n",
        "        print(\"Time to get started?\\n\")\n",
        "\n",
        "\n",
        "say_hello(\"Pablo\")\n",
        "```\n",
        "\n",
        "<span class=\"theorem-title\">**Exercise 2**</span> What do you think the\n",
        "value of `z` is after running the code below?\n",
        "\n",
        "``` python\n",
        "z = 3\n",
        "z = z + 4\n",
        "print(\"z is\", z)\n",
        "```\n",
        "\n",
        "    z is 7"
      ],
      "id": "336557c9-cdcc-4227-9863-009dff544ceb"
    },
    {
      "cell_type": "code",
      "execution_count": 2,
      "metadata": {},
      "outputs": [],
      "source": [
        "# your response there"
      ],
      "id": "e273ec35"
    },
    {
      "cell_type": "markdown",
      "metadata": {},
      "source": [
        "<span class=\"theorem-title\">**Exercise 3**</span> Read about what the\n",
        "`len` function does (by writing len?).\n",
        "\n",
        "What will it produce if we give it the variable `x`?\n",
        "\n",
        "Check whether you were right by running the code `len(x)`."
      ],
      "id": "435d4355-8079-4fc6-a449-96891c3aca92"
    },
    {
      "cell_type": "code",
      "execution_count": 3,
      "metadata": {},
      "outputs": [],
      "source": [
        "# your code here"
      ],
      "id": "0f077045"
    },
    {
      "cell_type": "markdown",
      "metadata": {},
      "source": [
        "<span class=\"theorem-title\">**Exercise 4**</span> We can use our\n",
        "introspection skills to investigate a package’s contents.\n",
        "\n",
        "In the cell below, use tab completion to find a function from the `time`\n",
        "module that will display the **local** time.\n",
        "\n",
        "Use `time.FUNC_NAME?` (where `FUNC_NAME` is replaced with the function\n",
        "you found) to see information about that function and then call the\n",
        "function.\n",
        "\n",
        "Look for something to do with the word `local`"
      ],
      "id": "cf7a3c1f-b957-4b0a-8935-eaab5c523da6"
    },
    {
      "cell_type": "code",
      "execution_count": 4,
      "metadata": {},
      "outputs": [],
      "source": [
        "import time\n",
        "# your code here"
      ],
      "id": "deebdc1c"
    },
    {
      "cell_type": "markdown",
      "metadata": {},
      "source": [
        "<span class=\"theorem-title\">**Exercise 5**</span> The code below is\n",
        "invalid Python code (once uncommented)"
      ],
      "id": "184437ca-523d-4a36-b98e-378bd728ca8c"
    },
    {
      "cell_type": "code",
      "execution_count": 5,
      "metadata": {},
      "outputs": [],
      "source": [
        "# x = 'What's wrong with this string'"
      ],
      "id": "6ba23f38"
    },
    {
      "cell_type": "markdown",
      "metadata": {},
      "source": [
        "## Collections\n",
        "\n",
        "<span class=\"theorem-title\">**Exercise 6**</span> In the first cell, try\n",
        "`y.append(z)`.\n",
        "\n",
        "In the second cell try `y.extend(z)`.\n",
        "\n",
        "Explain the behavior.\n",
        "\n",
        "When you are trying to explain use `y.append?` and `y.extend?` to see a\n",
        "description of what these methods are supposed to do."
      ],
      "id": "aa9ae97c-a79a-439b-bd1c-f14dca3c170b"
    },
    {
      "cell_type": "code",
      "execution_count": 6,
      "metadata": {},
      "outputs": [],
      "source": [
        "y = [\"a\", \"b\", \"c\"]\n",
        "z = [1, 2, 3]\n",
        "# "
      ],
      "id": "a0557560"
    },
    {
      "cell_type": "code",
      "execution_count": 7,
      "metadata": {},
      "outputs": [],
      "source": [
        "y = [\"a\", \"b\", \"c\"]\n",
        "z = [1, 2, 3]\n",
        "# "
      ],
      "id": "b56c87a6"
    },
    {
      "cell_type": "markdown",
      "metadata": {},
      "source": [
        "<span class=\"theorem-title\">**Exercise 7**</span> Verify that tuples are\n",
        "indeed immutable by attempting the following:\n",
        "\n",
        "-   Changing the first element of `t` to be `100`  \n",
        "-   Appending a new element `\"!!\"` to the end of `t` (remember with a\n",
        "    list `x` we would use `x.append(\"!!\")` to do this  \n",
        "-   Sorting `t`  \n",
        "-   Reversing `t`"
      ],
      "id": "869c40df-1cff-4f81-bb0b-ebde0778e36b"
    },
    {
      "cell_type": "code",
      "execution_count": 8,
      "metadata": {},
      "outputs": [],
      "source": [
        "t = (1,2,3,4)"
      ],
      "id": "f110d9d3"
    },
    {
      "cell_type": "markdown",
      "metadata": {},
      "source": [
        "<span class=\"theorem-title\">**Exercise 8**</span> Look at the [World\n",
        "Factbook for\n",
        "Australia](https://www.cia.gov/the-world-factbook/countries/australia)\n",
        "and create a dictionary with data containing the following types: float,\n",
        "string, integer, list, and dict. Choose any data you wish.\n",
        "\n",
        "To confirm, you should have a dictionary that you identified via a key."
      ],
      "id": "5b78a750-c76f-4745-8467-a05e7314da5a"
    },
    {
      "cell_type": "code",
      "execution_count": 9,
      "metadata": {},
      "outputs": [],
      "source": [
        "# your code here"
      ],
      "id": "c311249b"
    },
    {
      "cell_type": "markdown",
      "metadata": {},
      "source": [
        "<span class=\"theorem-title\">**Exercise 9**</span> Use Jupyter’s help\n",
        "facilities to learn how to use the `pop` method to remove the key\n",
        "`\"irrigated_land\"` (and its value) from the dict."
      ],
      "id": "19b89ce6-995a-4f7e-bafb-9ad1d62233d5"
    },
    {
      "cell_type": "code",
      "execution_count": 10,
      "metadata": {},
      "outputs": [],
      "source": [
        "# uncomment and use the Inspector or ?\n",
        "#china_data.pop()"
      ],
      "id": "bbe4e904"
    },
    {
      "cell_type": "markdown",
      "metadata": {},
      "source": [
        "<span class=\"theorem-title\">**Exercise 10**</span> Explain what happens\n",
        "to the value you popped.\n",
        "\n",
        "Experiment with calling `pop` twice."
      ],
      "id": "6fceb5cb-ef08-4b7a-9645-3ca8748af6db"
    },
    {
      "cell_type": "code",
      "execution_count": 11,
      "metadata": {},
      "outputs": [],
      "source": [
        "# your code here"
      ],
      "id": "d1607343"
    },
    {
      "cell_type": "markdown",
      "metadata": {},
      "source": [
        "## Control\n",
        "\n",
        "<span class=\"theorem-title\">**Exercise 11**</span> Run the following two\n",
        "variations on the code with only a single change in the indentation.\n",
        "\n",
        "After, modify the `x` to print `3` and then `2, 3` instead."
      ],
      "id": "dcbaf66b-58c5-4657-8d65-b7509a4c01f4"
    },
    {
      "cell_type": "code",
      "execution_count": 12,
      "metadata": {},
      "outputs": [
        {
          "output_type": "stream",
          "name": "stdout",
          "text": [
            "1\n",
            "2\n",
            "3"
          ]
        }
      ],
      "source": [
        "x = 1\n",
        "\n",
        "if x > 0:\n",
        "    print(\"1\")\n",
        "    print(\"2\")\n",
        "print(\"3\")"
      ],
      "id": "42f690f2"
    },
    {
      "cell_type": "code",
      "execution_count": 13,
      "metadata": {},
      "outputs": [
        {
          "output_type": "stream",
          "name": "stdout",
          "text": [
            "1\n",
            "2\n",
            "3"
          ]
        }
      ],
      "source": [
        "x = 1\n",
        "\n",
        "if x > 0:\n",
        "    print(\"1\")\n",
        "print(\"2\") # changed the indentation\n",
        "print(\"3\")"
      ],
      "id": "77d9f8a5"
    },
    {
      "cell_type": "markdown",
      "metadata": {},
      "source": [
        "<span class=\"theorem-title\">**Exercise 12**</span> Write a for loop that\n",
        "uses the lists of cities and states below to print the same “{city} is\n",
        "in {state}” using a `zip` instead of an `enumerate`."
      ],
      "id": "68ec4a78-13a2-4764-8154-bff17418c9e4"
    },
    {
      "cell_type": "code",
      "execution_count": 14,
      "metadata": {},
      "outputs": [],
      "source": [
        "cities = [\"Phoenix\", \"Austin\", \"San Diego\", \"New York\"]\n",
        "states = [\"Arizona\", \"Texas\", \"California\", \"New York\"]"
      ],
      "id": "9fd2018b"
    },
    {
      "cell_type": "code",
      "execution_count": 15,
      "metadata": {},
      "outputs": [
        {
          "output_type": "stream",
          "name": "stdout",
          "text": [
            "Phoenix  :  Arizona\n",
            "Austin  :  Texas\n",
            "San Diego  :  California\n",
            "New York  :  New York"
          ]
        }
      ],
      "source": [
        "for i,c in enumerate(cities):\n",
        "    print(c, \" : \", states[i])"
      ],
      "id": "91002256"
    },
    {
      "cell_type": "code",
      "execution_count": 16,
      "metadata": {},
      "outputs": [],
      "source": [
        "# your code here"
      ],
      "id": "1020694e"
    }
  ],
  "nbformat": 4,
  "nbformat_minor": 5,
  "metadata": {
    "kernelspec": {
      "name": "python3",
      "display_name": "Python 3 (ipykernel)",
      "language": "python",
      "path": "/home/pablo/.local/share/jupyter/kernels/python3"
    },
    "language_info": {
      "name": "python",
      "codemirror_mode": {
        "name": "ipython",
        "version": "3"
      },
      "file_extension": ".py",
      "mimetype": "text/x-python",
      "nbconvert_exporter": "python",
      "pygments_lexer": "ipython3",
      "version": "3.11.10"
    }
  }
}