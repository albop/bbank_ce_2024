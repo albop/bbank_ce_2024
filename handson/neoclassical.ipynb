{
  "cells": [
    {
      "cell_type": "markdown",
      "metadata": {},
      "source": [
        "# Neoclassical model with time iteration\n",
        "\n",
        "Our goal consists in this tutorial will be to solve numerically the\n",
        "neoclassical model using the time-iteration algorithms in two ways: -\n",
        "with a naive iterative algorithm - with a vectorized one (using numpy)\n",
        "\n",
        "Remark: this tutorial uses typehints as a way to help structure the\n",
        "code. They can safely be ignored."
      ],
      "id": "e4c463ed-6f70-401b-b588-bcfd4404b308"
    },
    {
      "cell_type": "code",
      "execution_count": 1,
      "metadata": {},
      "outputs": [],
      "source": [
        "from dataclasses import dataclass\n",
        "from math import exp, sqrt\n",
        "import numpy as np\n",
        "from typing import Any, Tuple\n",
        "import numpy.typing as npt\n",
        "Vector = npt.NDArray[1]\n",
        "Matrix = npt.NDArray[2]"
      ],
      "id": "883561fb"
    },
    {
      "cell_type": "markdown",
      "metadata": {},
      "source": [
        "### The neoclassical model\n",
        "\n",
        "The representative agent maximizes intertemporal discounted utility of\n",
        "consumption $$\\sum_{t\\geq0} \\beta^t U(c_t)$$ where\n",
        "$U(c_t)=\\frac{(c_t)^{1-\\gamma}}{1-\\gamma}$.\n",
        "\n",
        "Production is $$y_t=exp(z_t) k_t^{\\alpha}$$ where $k_t$ is the amount of\n",
        "capital and $z_t=\\rho z_{t-1} + \\epsilon_t$ and AR1 process with\n",
        "$(\\epsilon_t)$ a normal innovation of standard deviation $\\sigma$.\n",
        "\n",
        "The law of motion for the capital depends on investment $i_t$ and\n",
        "capital depreciation $\\delta$:\n",
        "\n",
        "$$k_t = (1-\\delta) k_{t-1} + i_{t-1}$$\n",
        "\n",
        "The first order condition corresponding to the optimization problem is:\n",
        "\n",
        "$$\\beta E_t \\left[ \\frac{U^{\\prime}(c_{t+1}}{U^{\\prime}(c_t)})\\left( 1- \\delta + \\alpha exp(z_{t+1}) k_{t+1}^{\\alpha-1} \\right) \\right] =1$$\n",
        "\n",
        "<span class=\"theorem-title\">**Exercise 1**</span> What are the states of\n",
        "the problems? the controls? the exogenous shocks?"
      ],
      "id": "10ac2c5d-007f-4727-a2e0-4c81ad060a9a"
    },
    {
      "cell_type": "code",
      "execution_count": 2,
      "metadata": {},
      "outputs": [],
      "source": [
        "# states: (z,k)\n",
        "# controls: (i,)  \n",
        "\n",
        "# everything else can be computed from it\n",
        "# auxiliary: (y,c)\n",
        "\n",
        "# shocks: (epsilon,)\n",
        "\n",
        "# paramaters: alpha,beta,gamma,delta,sigma,rho"
      ],
      "id": "e85f229e"
    },
    {
      "cell_type": "markdown",
      "metadata": {},
      "source": [
        "<span class=\"theorem-title\">**Exercise 2**</span> Define an object to\n",
        "represent the model calibration (you can use a dataclass)."
      ],
      "id": "984da0bd-b274-4580-be3b-d34a231f9a94"
    },
    {
      "cell_type": "code",
      "execution_count": 3,
      "metadata": {},
      "outputs": [],
      "source": [
        "@dataclass\n",
        "class Neoclassical:\n",
        "    \n",
        "    alpha = 0.3\n",
        "    beta = 0.96\n",
        "    gamma = 4.0\n",
        "    delta = 0.1\n",
        "    rho = 0.9\n",
        "    sigma = 0.01\n",
        "\n",
        "m = Neoclassical()"
      ],
      "id": "e54568db"
    },
    {
      "cell_type": "markdown",
      "metadata": {},
      "source": [
        "<span class=\"theorem-title\">**Exercise 3**</span> Define a function to\n",
        "compute the steady-state controls and states."
      ],
      "id": "dfab07d6-087c-4c7f-a7d6-10f0edb13dcf"
    },
    {
      "cell_type": "code",
      "execution_count": 4,
      "metadata": {},
      "outputs": [],
      "source": [
        "def steady_state(m: Neoclassical) -> Tuple[ Tuple[float, float], Tuple[float]]:\n",
        "    \n",
        "    z:float = 0.0\n",
        "    k:float = ((1/m.beta-(1-m.delta))/m.alpha)**(1/(m.alpha-1))\n",
        "    i = k*m.delta\n",
        "    s = (z,k) # tuple of states\n",
        "    x = (i,) #tuple of controls\n",
        "    return (s,x)"
      ],
      "id": "3cf7789d"
    },
    {
      "cell_type": "markdown",
      "metadata": {},
      "source": [
        "### Naive solution\n",
        "\n",
        "<span class=\"theorem-title\">**Exercise 4**</span> Define a cartesian\n",
        "grid on productivity and capital:"
      ],
      "id": "7bf7440e-ac95-4ece-93c8-4c2a9e8e1f44"
    },
    {
      "cell_type": "code",
      "execution_count": 5,
      "metadata": {},
      "outputs": [],
      "source": [
        "def get_grid(m: Neoclassical, size: Tuple[int, int]) -> Tuple[ Vector, Vector]:\n",
        "    \n",
        "    s,x = steady_state(m)\n",
        "\n",
        "    sigma_e = m.sigma/sqrt(1-m.rho**2)\n",
        "    kbar = s[1] # steady state value of capital\n",
        "\n",
        "    zvec = np.linspace( -2*sigma_e, 2*sigma_e, size[0])\n",
        "    kvec = np.linspace(0.5*kbar,kbar*1.5,size[1])\n",
        "    return (zvec, kvec)\n",
        "\n",
        "grid  = get_grid(m, (10,10))"
      ],
      "id": "d62688a9"
    },
    {
      "cell_type": "markdown",
      "metadata": {},
      "source": [
        "<span class=\"theorem-title\">**Exercise 5**</span> Define an initial\n",
        "guess representing the values of the controls on the grid"
      ],
      "id": "08d45cea-8032-430c-9de5-906eb977dc3c"
    },
    {
      "cell_type": "code",
      "execution_count": 6,
      "metadata": {},
      "outputs": [],
      "source": [
        "N_1, N_2 = (10,10)\n",
        "\n",
        "s, x\n",
        "\n",
        "x0 = np.zeros( (N_1, N_2, 1) )\n",
        "x0[:, :, 0] = x\n",
        "x0;"
      ],
      "id": "b6b15c69"
    },
    {
      "cell_type": "code",
      "execution_count": 7,
      "metadata": {},
      "outputs": [],
      "source": [
        "def initial_guess(m: Neoclassical, grid)->npt.NDArray[3]\n",
        "\n",
        "    # x0 = 3-dimensional array of size\n",
        "\n",
        "x0 = initial_guess(m, grid)"
      ],
      "id": "bf2f5255"
    },
    {
      "cell_type": "markdown",
      "metadata": {},
      "source": [
        "<span class=\"theorem-title\">**Exercise 6**</span> Define a decision rule\n",
        "which interpolates the initial guess on any state"
      ],
      "id": "a42beb2b-8320-4534-a25d-a0d827f86360"
    },
    {
      "cell_type": "code",
      "execution_count": 8,
      "metadata": {},
      "outputs": [],
      "source": [
        "def phi(m: Neoclassical, s:: Tuple[float, float], x0::npt.NDArray[3])-> Tuple[float]\n",
        "    pass"
      ],
      "id": "c23007dd"
    },
    {
      "cell_type": "markdown",
      "metadata": {},
      "source": [
        "<span class=\"theorem-title\">**Exercise 7**</span> Compute the euler\n",
        "residual, for a given realization of the exogenous shocks."
      ],
      "id": "a40f3abe-7608-42e5-8da7-0ae62f675503"
    },
    {
      "cell_type": "code",
      "execution_count": 9,
      "metadata": {},
      "outputs": [],
      "source": [
        "def f(m: RBC, s: Tuple[float,float], x:Tuple[float], E: Tuple[float], grid, theta):\n",
        "    ## grid is the discretized grid from before\n",
        "    ## theta contains the values of the controls on the grid\n",
        "    pass"
      ],
      "id": "ef481eb0"
    },
    {
      "cell_type": "markdown",
      "metadata": {},
      "source": [
        "<span class=\"theorem-title\">**Exercise 8**</span> Compute the expected\n",
        "euler residuals, integrating over all possible realizations of the\n",
        "exogenous shocks."
      ],
      "id": "299dc900-7084-4ec6-bc0b-70278d5ac620"
    },
    {
      "cell_type": "code",
      "execution_count": 10,
      "metadata": {},
      "outputs": [],
      "source": [
        "def F(m: RBC, s: Tuple[float,float], x:Tuple[float], grid, theta, discr:Tuple[Vector, Vector]):\n",
        "    ## grid is the discretized grid from before\n",
        "    ## theta contains the values of the controls on the grid\n",
        "    ## discr contains the weights w,x of the gaussian quadrature\n",
        "    pass"
      ],
      "id": "7cbf2c77"
    },
    {
      "cell_type": "markdown",
      "metadata": {},
      "source": [
        "<span class=\"theorem-title\">**Exercise 9**</span> At the steady-state,\n",
        "find the optimal control, assuming future decisions are taken according\n",
        "to the initial guess."
      ],
      "id": "b6dc7404-0021-4162-95e5-c6d236b829a5"
    },
    {
      "cell_type": "code",
      "execution_count": 11,
      "metadata": {},
      "outputs": [],
      "source": [
        "# find x such that F(m,s,x,grid,theta_0,discr) = 0"
      ],
      "id": "12cc85e4"
    },
    {
      "cell_type": "markdown",
      "metadata": {},
      "source": [
        "<span class=\"theorem-title\">**Exercise 10**</span> Solve for the optimal\n",
        "controls over the whole grid, still assuming future decisions are taken\n",
        "according to the initial guess."
      ],
      "id": "10546824-b28b-463b-8bab-9d799df139e8"
    },
    {
      "cell_type": "code",
      "execution_count": 12,
      "metadata": {},
      "outputs": [],
      "source": [
        "# find x such that F(m,s,x,grid,theta_0,discr) = 0"
      ],
      "id": "d7f64bed"
    },
    {
      "cell_type": "markdown",
      "metadata": {},
      "source": [
        "<span class=\"theorem-title\">**Exercise 11**</span> Implement the time\n",
        "iteration algorithm."
      ],
      "id": "5a51f1ee-73ec-4fc5-8155-345413d517f0"
    },
    {
      "cell_type": "code",
      "execution_count": 13,
      "metadata": {},
      "outputs": [],
      "source": [
        "def time_iteration_0(m: Neoclassical, grid, discr, x0):\n",
        "    pass"
      ],
      "id": "35e851a7"
    },
    {
      "cell_type": "markdown",
      "metadata": {},
      "source": [
        "<span class=\"theorem-title\">**Exercise 12**</span> Time the result (and\n",
        "profile)."
      ],
      "id": "4436bdbb-620c-4150-9e9a-705da225ce5a"
    },
    {
      "cell_type": "code",
      "execution_count": 14,
      "metadata": {},
      "outputs": [],
      "source": [
        "def time_iteration_0(m: Neoclassical, grid, discr, x0):\n",
        "    pass"
      ],
      "id": "a8457404"
    },
    {
      "cell_type": "markdown",
      "metadata": {},
      "source": [
        "### Vectorization\n",
        "\n",
        "There are at least two approaches to speed up the code, with the same\n",
        "algorithm: - avoid the interpretation cost by compiling the code (for\n",
        "instance using numba) - vectorize the operations over the whole grid\n",
        "\n",
        "<span class=\"theorem-title\">**Exercise 13**</span> Given $N$ the number\n",
        "of points of the grid, create a matrix, representing the vector of all\n",
        "grid points. It should be an $N \\times 2$ matrix."
      ],
      "id": "493b0a42-0866-4492-8fa2-e20d89b204ff"
    },
    {
      "cell_type": "code",
      "execution_count": 15,
      "metadata": {},
      "outputs": [],
      "source": [
        "# grid_v = "
      ],
      "id": "10ca309c"
    },
    {
      "cell_type": "markdown",
      "metadata": {},
      "source": [
        "<span class=\"theorem-title\">**Exercise 14**</span> Rewrite the decision\n",
        "rule so that it can operate on a vector of states."
      ],
      "id": "e82e592b-6660-43ad-8371-4fc6e35690f4"
    },
    {
      "cell_type": "code",
      "execution_count": 16,
      "metadata": {},
      "outputs": [],
      "source": [
        "def phi_v(m: Neoclassical, s:: Matrix, x0::npt.NDArray[3])-> Matrix\n",
        "    pass"
      ],
      "id": "e2da6f0e"
    },
    {
      "cell_type": "markdown",
      "metadata": {},
      "source": [
        "<span class=\"theorem-title\">**Exercise 15**</span> Rewrite the euler\n",
        "residual function so that it can operate on a vector of states with the\n",
        "corresponding vector of controls."
      ],
      "id": "3db1a7f0-04bb-4aa1-9dfd-56aa31f3bd84"
    },
    {
      "cell_type": "code",
      "execution_count": 17,
      "metadata": {},
      "outputs": [],
      "source": [
        "def f_v(m: RBC, s: Matrix, x:Matrix, E: Tuple[float], grid, theta)->Matrix:\n",
        "    ## grid is the discretized grid from before\n",
        "    ## theta contains the values of the controls on the grid\n",
        "    pass"
      ],
      "id": "bd68e244"
    },
    {
      "cell_type": "markdown",
      "metadata": {},
      "source": [
        "<span class=\"theorem-title\">**Exercise 16**</span> Rewrite the\n",
        "integrated euler residual function so that it can operate on a vector of\n",
        "states with the corresponding vector of controls."
      ],
      "id": "e4e16ac1-5947-44cb-b953-293c325c6438"
    },
    {
      "cell_type": "code",
      "execution_count": 18,
      "metadata": {},
      "outputs": [],
      "source": [
        "def F_v(m: RBC, s: Matrix, x:Matrix, grid, theta)->Matrix:\n",
        "    ## grid is the discretized grid from before\n",
        "    ## theta contains the values of the controls on the grid\n",
        "    pass"
      ],
      "id": "a51cea63"
    },
    {
      "cell_type": "markdown",
      "metadata": {},
      "source": [
        "<span class=\"theorem-title\">**Exercise 17**</span> Compute the jacobian\n",
        "of $F_v$ w.r.t $x$."
      ],
      "id": "690c18f5-f48e-48d3-8db6-32fe0bf8dc1e"
    },
    {
      "cell_type": "code",
      "execution_count": 19,
      "metadata": {},
      "outputs": [],
      "source": [
        "#"
      ],
      "id": "20f976bd"
    },
    {
      "cell_type": "markdown",
      "metadata": {},
      "source": [
        "<span class=\"theorem-title\">**Exercise 18**</span> Solve for the matrix\n",
        "`x` such that `F_v(m, s, x:Matrix, grid, theta)=0`"
      ],
      "id": "58aac55d-3a29-4991-b936-b0f0ac92aa35"
    },
    {
      "cell_type": "code",
      "execution_count": 20,
      "metadata": {},
      "outputs": [],
      "source": [
        "#"
      ],
      "id": "bbfb5a62"
    },
    {
      "cell_type": "markdown",
      "metadata": {},
      "source": [
        "<span class=\"theorem-title\">**Exercise 19**</span> Implement the time\n",
        "iteration algorithm."
      ],
      "id": "a85f8521-8ed0-4407-b0a7-5960341bd065"
    },
    {
      "cell_type": "code",
      "execution_count": 21,
      "metadata": {},
      "outputs": [],
      "source": [
        "#"
      ],
      "id": "0542e8c3"
    }
  ],
  "nbformat": 4,
  "nbformat_minor": 5,
  "metadata": {
    "kernelspec": {
      "name": "python3",
      "display_name": "Python 3 (ipykernel)",
      "language": "python",
      "path": "/home/pablo/.local/share/jupyter/kernels/python3"
    },
    "language_info": {
      "name": "python",
      "codemirror_mode": {
        "name": "ipython",
        "version": "3"
      },
      "file_extension": ".py",
      "mimetype": "text/x-python",
      "nbconvert_exporter": "python",
      "pygments_lexer": "ipython3",
      "version": "3.11.10"
    }
  }
}