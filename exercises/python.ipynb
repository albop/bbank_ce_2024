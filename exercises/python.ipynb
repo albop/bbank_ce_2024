{
  "cells": [
    {
      "cell_type": "markdown",
      "metadata": {},
      "source": [
        "# Python Basics\n",
        "\n",
        "(adapted from Quantecon)\n",
        "\n",
        "## Basics\n",
        "\n",
        "<span class=\"theorem-title\">**Exercise 1**</span> Run the following code\n",
        "in the python interpreter:\n",
        "\n",
        "``` python\n",
        "def say_hello(name):\n",
        "    \"\"\"This function prints morning greetings\"\"\"\n",
        "\n",
        "    print(f\"Good morning {name}!\\n\")\n",
        "\n",
        "    # we can import libraries\n",
        "    import datetime\n",
        "    t = datetime.datetime.now()\n",
        "\n",
        "    # blocks are defined by indentation and colons\n",
        "    if (t.hour,t.min) <= (9,15):\n",
        "        print(\"All good?\\n\")\n",
        "    else:\n",
        "        print(\"Time to get started?\\n\")\n",
        "\n",
        "\n",
        "say_hello(\"Pablo\")\n",
        "```\n",
        "\n",
        "<span class=\"theorem-title\">**Exercise 2**</span> What do you think the\n",
        "value of `z` is after running the code below?\n",
        "\n",
        "``` python\n",
        "z = 3\n",
        "z = z + 4\n",
        "print(\"z is\", z)\n",
        "```\n",
        "\n",
        "    z is 7"
      ],
      "id": "983f1e7f-66aa-458a-86b0-b577c4f1661e"
    },
    {
      "cell_type": "code",
      "execution_count": 2,
      "metadata": {},
      "outputs": [],
      "source": [
        "# your response there"
      ],
      "id": "f4a65242"
    },
    {
      "cell_type": "markdown",
      "metadata": {},
      "source": [
        "<span class=\"theorem-title\">**Exercise 3**</span> Read about what the\n",
        "`len` function does (by writing len?).\n",
        "\n",
        "What will it produce if we give it the variable `x`?\n",
        "\n",
        "Check whether you were right by running the code `len(x)`."
      ],
      "id": "ffffd43b-c561-4ca9-9cd9-2e00f0f5a491"
    },
    {
      "cell_type": "code",
      "execution_count": 3,
      "metadata": {},
      "outputs": [],
      "source": [
        "# your code here"
      ],
      "id": "c4542565"
    },
    {
      "cell_type": "markdown",
      "metadata": {},
      "source": [
        "<span class=\"theorem-title\">**Exercise 4**</span> We can use our\n",
        "introspection skills to investigate a package’s contents.\n",
        "\n",
        "In the cell below, use tab completion to find a function from the `time`\n",
        "module that will display the **local** time.\n",
        "\n",
        "Use `time.FUNC_NAME?` (where `FUNC_NAME` is replaced with the function\n",
        "you found) to see information about that function and then call the\n",
        "function.\n",
        "\n",
        "Look for something to do with the word `local`"
      ],
      "id": "47164a5d-5db7-442b-939a-2dd917655437"
    },
    {
      "cell_type": "code",
      "execution_count": 4,
      "metadata": {},
      "outputs": [],
      "source": [
        "import time\n",
        "# your code here"
      ],
      "id": "c9f990f8"
    },
    {
      "cell_type": "markdown",
      "metadata": {},
      "source": [
        "<span class=\"theorem-title\">**Exercise 5**</span> The code below is\n",
        "invalid Python code (once uncommented)"
      ],
      "id": "b3f8de55-8665-4e4a-8d63-bc476ce6f367"
    },
    {
      "cell_type": "code",
      "execution_count": 5,
      "metadata": {},
      "outputs": [],
      "source": [
        "# x = 'What's wrong with this string'"
      ],
      "id": "68db94ca"
    },
    {
      "cell_type": "markdown",
      "metadata": {},
      "source": [
        "## Collections\n",
        "\n",
        "<span class=\"theorem-title\">**Exercise 6**</span> In the first cell, try\n",
        "`y.append(z)`.\n",
        "\n",
        "In the second cell try `y.extend(z)`.\n",
        "\n",
        "Explain the behavior.\n",
        "\n",
        "When you are trying to explain use `y.append?` and `y.extend?` to see a\n",
        "description of what these methods are supposed to do."
      ],
      "id": "8e599d15-4ce4-42c1-8c7c-9a5bf101619d"
    },
    {
      "cell_type": "code",
      "execution_count": 6,
      "metadata": {},
      "outputs": [],
      "source": [
        "y = [\"a\", \"b\", \"c\"]\n",
        "z = [1, 2, 3]\n",
        "# "
      ],
      "id": "e26d24aa"
    },
    {
      "cell_type": "code",
      "execution_count": 7,
      "metadata": {},
      "outputs": [],
      "source": [
        "y = [\"a\", \"b\", \"c\"]\n",
        "z = [1, 2, 3]\n",
        "# "
      ],
      "id": "c1a35008"
    },
    {
      "cell_type": "markdown",
      "metadata": {},
      "source": [
        "<span class=\"theorem-title\">**Exercise 7**</span> Verify that tuples are\n",
        "indeed immutable by attempting the following:\n",
        "\n",
        "-   Changing the first element of `t` to be `100`  \n",
        "-   Appending a new element `\"!!\"` to the end of `t` (remember with a\n",
        "    list `x` we would use `x.append(\"!!\")` to do this  \n",
        "-   Sorting `t`  \n",
        "-   Reversing `t`"
      ],
      "id": "eeaf1993-10a1-41e4-8f34-66d22c8f674b"
    },
    {
      "cell_type": "code",
      "execution_count": 8,
      "metadata": {},
      "outputs": [],
      "source": [
        "t = (1,2,3,4)"
      ],
      "id": "2dfca363"
    },
    {
      "cell_type": "markdown",
      "metadata": {},
      "source": [
        "<span class=\"theorem-title\">**Exercise 8**</span> Look at the [World\n",
        "Factbook for\n",
        "Australia](https://www.cia.gov/the-world-factbook/countries/australia)\n",
        "and create a dictionary with data containing the following types: float,\n",
        "string, integer, list, and dict. Choose any data you wish.\n",
        "\n",
        "To confirm, you should have a dictionary that you identified via a key."
      ],
      "id": "e1a21ba5-f8c1-4177-8d2b-e6197c572444"
    },
    {
      "cell_type": "code",
      "execution_count": 9,
      "metadata": {},
      "outputs": [],
      "source": [
        "# your code here"
      ],
      "id": "e815be51"
    },
    {
      "cell_type": "markdown",
      "metadata": {},
      "source": [
        "<span class=\"theorem-title\">**Exercise 9**</span> Use Jupyter’s help\n",
        "facilities to learn how to use the `pop` method to remove the key\n",
        "`\"irrigated_land\"` (and its value) from the dict."
      ],
      "id": "2094837e-e1aa-4a23-ac57-784418e0b2f0"
    },
    {
      "cell_type": "code",
      "execution_count": 10,
      "metadata": {},
      "outputs": [],
      "source": [
        "# uncomment and use the Inspector or ?\n",
        "#china_data.pop()"
      ],
      "id": "73dec32d"
    },
    {
      "cell_type": "markdown",
      "metadata": {},
      "source": [
        "<span class=\"theorem-title\">**Exercise 10**</span> Explain what happens\n",
        "to the value you popped.\n",
        "\n",
        "Experiment with calling `pop` twice."
      ],
      "id": "91a3cc45-9a1a-4643-8480-0b4822425e37"
    },
    {
      "cell_type": "code",
      "execution_count": 11,
      "metadata": {},
      "outputs": [],
      "source": [
        "# your code here"
      ],
      "id": "4ecde3bb"
    },
    {
      "cell_type": "markdown",
      "metadata": {},
      "source": [
        "## Control\n",
        "\n",
        "<span class=\"theorem-title\">**Exercise 11**</span> Run the following two\n",
        "variations on the code with only a single change in the indentation.\n",
        "\n",
        "After, modify the `x` to print `3` and then `2, 3` instead."
      ],
      "id": "4ea09cda-039e-4a41-9be2-4e5e312ed9b2"
    },
    {
      "cell_type": "code",
      "execution_count": 12,
      "metadata": {},
      "outputs": [
        {
          "output_type": "stream",
          "name": "stdout",
          "text": [
            "1\n",
            "2\n",
            "3"
          ]
        }
      ],
      "source": [
        "x = 1\n",
        "\n",
        "if x > 0:\n",
        "    print(\"1\")\n",
        "    print(\"2\")\n",
        "print(\"3\")"
      ],
      "id": "fbb1ff19"
    },
    {
      "cell_type": "code",
      "execution_count": 13,
      "metadata": {},
      "outputs": [
        {
          "output_type": "stream",
          "name": "stdout",
          "text": [
            "1\n",
            "2\n",
            "3"
          ]
        }
      ],
      "source": [
        "x = 1\n",
        "\n",
        "if x > 0:\n",
        "    print(\"1\")\n",
        "print(\"2\") # changed the indentation\n",
        "print(\"3\")"
      ],
      "id": "fa69fcd8"
    },
    {
      "cell_type": "markdown",
      "metadata": {},
      "source": [
        "<span class=\"theorem-title\">**Exercise 12**</span> Write a for loop that\n",
        "uses the lists of cities and states below to print the same “{city} is\n",
        "in {state}” using a `zip` instead of an `enumerate`."
      ],
      "id": "1a8b55d9-3f04-4fba-b800-5a020500e436"
    },
    {
      "cell_type": "code",
      "execution_count": 14,
      "metadata": {},
      "outputs": [],
      "source": [
        "cities = [\"Phoenix\", \"Austin\", \"San Diego\", \"New York\"]\n",
        "states = [\"Arizona\", \"Texas\", \"California\", \"New York\"]"
      ],
      "id": "cb452184"
    },
    {
      "cell_type": "code",
      "execution_count": 15,
      "metadata": {},
      "outputs": [
        {
          "output_type": "stream",
          "name": "stdout",
          "text": [
            "Phoenix  :  Arizona\n",
            "Austin  :  Texas\n",
            "San Diego  :  California\n",
            "New York  :  New York"
          ]
        }
      ],
      "source": [
        "for i,c in enumerate(cities):\n",
        "    print(c, \" : \", states[i])"
      ],
      "id": "5bd5911c"
    },
    {
      "cell_type": "code",
      "execution_count": 16,
      "metadata": {},
      "outputs": [],
      "source": [
        "# your code here"
      ],
      "id": "c91e25ea"
    }
  ],
  "nbformat": 4,
  "nbformat_minor": 5,
  "metadata": {
    "kernelspec": {
      "name": "python3",
      "display_name": "Python 3 (ipykernel)",
      "language": "python"
    },
    "language_info": {
      "name": "python",
      "codemirror_mode": {
        "name": "ipython",
        "version": "3"
      },
      "file_extension": ".py",
      "mimetype": "text/x-python",
      "nbconvert_exporter": "python",
      "pygments_lexer": "ipython3",
      "version": "3.11.10"
    }
  }
}