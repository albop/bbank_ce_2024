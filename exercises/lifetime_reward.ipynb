{
  "cells": [
    {
      "cell_type": "markdown",
      "metadata": {},
      "source": [
        "# Learning consumption rules\n",
        "\n",
        "This exercise is inspired from *Individual learning about consumption*\n",
        "by Todd Allen and Chris Carroll\n",
        "[link](https://www.econstor.eu/bitstream/10419/72016/1/328292125.pdf)\n",
        "and from *Deep Learning for Solving Economic models* by Maliar, Maliar\n",
        "and Winant [link](https://web.stanford.edu/~maliars/Files/JME2021.pdf)\n",
        "\n",
        "We consider the following consumption saving problem. An agent receives\n",
        "random income $y_t = \\exp(\\epsilon_t)$ where\n",
        "$\\epsilon_t\\sim \\mathcal{N}(\\sigma)$ ($\\sigma$ is the standard\n",
        "deviation.)\n",
        "\n",
        "Consumer starts the period with available income $w_t$. The law of\n",
        "motion for available income is:\n",
        "\n",
        "$$w_t = \\exp(\\epsilon_t) + (w_{t-1}-c_{t-1}) r$$\n",
        "\n",
        "where consumption $c_t \\in ]0,w_t]$ is chosen in each period in order to\n",
        "maximize:\n",
        "\n",
        "$$E_t \\sum_{t=0}^T \\beta^t U(c_t)$$\n",
        "\n",
        "given initial available income $w_0$.\n",
        "\n",
        "In the questions below, we will use the following calibration:\n",
        "\n",
        "-   $\\beta = 0.9$\n",
        "-   $\\sigma = 0.1$\n",
        "-   $T=100$\n",
        "-   $U(x) = \\frac{x^{1-\\gamma}}{1-\\gamma}$ with $\\gamma=2$\n",
        "-   $w_0 = 1.1$ (alternatively, consider values 0.5 and 1)\n",
        "\n",
        "The theoretical solution to this problem is a concave function $\\varphi$\n",
        "such that $\\varphi(x)\\in ]0,x]$ and $\\forall t,  c_t=\\varphi(w_t)$.\n",
        "Qualitatively, agents accumulate savings, up to a certain point (a\n",
        "buffer stock), beyond which wealth is not increasing any more (in\n",
        "expectation).\n",
        "\n",
        "Carroll and Allen have noticed that the true solution can be\n",
        "approximated very well by a simple rule:\n",
        "\n",
        "$$\\psi(x) = \\min(x, \\theta_0 + \\theta_1 (x - \\theta_0) )$$\n",
        "\n",
        "The main question they ask in the aforementioned paper is whether it is\n",
        "realistic that agents would learn good values of $\\theta_0$ and\n",
        "$\\theta_1$ by observing past experiences.\n",
        "\n",
        "We would like to examine this result by learning the optimal rule using\n",
        "stochastic gradient descent.\n",
        "\n",
        "In the whole notebook, we use JAX to perform the calculations."
      ],
      "id": "d3b68b18-af9c-4757-b52d-761cb0b244de"
    },
    {
      "cell_type": "code",
      "execution_count": 1,
      "metadata": {},
      "outputs": [],
      "source": [
        "from jax import numpy as jnp"
      ],
      "id": "e014ab71"
    },
    {
      "cell_type": "markdown",
      "metadata": {},
      "source": [
        "<span class=\"theorem-title\">**Exercise 1**</span> Define a class to\n",
        "represent the parameter values"
      ],
      "id": "9c1d5db5-aed8-401e-84d3-195dbb9bb9b8"
    },
    {
      "cell_type": "code",
      "execution_count": 2,
      "metadata": {},
      "outputs": [],
      "source": [
        "class Model:\n",
        "    pass"
      ],
      "id": "5ca4d1a7"
    },
    {
      "cell_type": "markdown",
      "metadata": {},
      "source": [
        "<span class=\"theorem-title\">**Exercise 2**</span> Define simple rule\n",
        "fonction `consumption(w: float, θ_0:float, θ_1:float, p:Model)->float`\n",
        "which compute consumption using a simple rule. What is the meaning of\n",
        "$\\theta_0$ and $\\theta_1$? Make a plot in the space $w,c$, including\n",
        "consumption rule and the line where $w_{t+1} = w_t$. Check that it works\n",
        "when `w` is a JAX vector."
      ],
      "id": "8b08f8eb-49cf-41ad-abcb-de8059dbde29"
    },
    {
      "cell_type": "code",
      "execution_count": 3,
      "metadata": {},
      "outputs": [],
      "source": [
        "# your code here"
      ],
      "id": "80d35c19"
    },
    {
      "cell_type": "markdown",
      "metadata": {},
      "source": [
        "<span class=\"theorem-title\">**Exercise 3**</span> Write a function\n",
        "`lifetime_reward(w_0: float, θ_0: float, θ_1: float, p:Model, key, T)->float`\n",
        "which computes one realization of $\\sum_{t=0}^T \\beta^t U(c_t)$ for\n",
        "initial wealth `w_0` and simple rule `θ_0`, `θ_1` and random key `key`.\n",
        "Mathematically, we denote it by $\\xi(\\omega; \\theta_0, \\theta_1)$, where\n",
        "$\\omega$ represents the succession of random income draws. Check the\n",
        "result is unchanged, when the result is computed from the same original\n",
        "key.\n",
        "\n",
        "What is the gain of using native a JAX loop?\n",
        "\n",
        "Can you JIT compile the resulting fonction? What is the gain of using a\n",
        "native JAX loop?\n",
        "\n",
        "(hint: to use native loop, T needs to be treated as a constant paramete\n",
        ")"
      ],
      "id": "7c854a3a-6ecc-4277-9f14-27bcfb5be6a3"
    },
    {
      "cell_type": "code",
      "execution_count": 4,
      "metadata": {},
      "outputs": [],
      "source": [
        "# your code here"
      ],
      "id": "33a6ef16"
    },
    {
      "cell_type": "markdown",
      "metadata": {},
      "source": [
        "<span class=\"theorem-title\">**Exercise 4**</span> Write a function\n",
        "`lifetime_reward(w_0: float, θ_0: float, θ_1: float, p:Model, key, N, T)->float`\n",
        "which computes expected lifetime reward using `N` Monte-Carlo draws.\n",
        "Mathematically, we write it\n",
        "$\\Xi^{N}(\\theta_0, \\theta_1) =\\frac{1}{N} \\sum_1^N {\\xi(\\omega_N; \\theta_0, \\theta_1)}$.\n",
        "Check empirically that standard deviation of these draws decrease\n",
        "proportionally to $\\frac{1}{\\sqrt{N}}$ ."
      ],
      "id": "b8c67b18-40b5-40bc-b6f3-cfa3e1d58910"
    },
    {
      "cell_type": "code",
      "execution_count": 5,
      "metadata": {},
      "outputs": [],
      "source": [
        "# your code here"
      ],
      "id": "5852aa97"
    },
    {
      "cell_type": "markdown",
      "metadata": {},
      "source": [
        "<span class=\"theorem-title\">**Exercise 5**</span> Using a high enough\n",
        "number for `N`, compute optimal values for $\\theta_0$ and $\\theta_1$.\n",
        "What is the matching value for the objective function converted into an\n",
        "equivalent stream of deterministic consumption ? That is if `V` is the\n",
        "approximated value computed above, what is $\\bar{c}\\in R$ such that\n",
        "$V= \\sum_{t=0}^T \\beta^t U(\\bar{c})$ ?"
      ],
      "id": "6ddf59b4-7ffe-4263-b019-7fc1a48039cf"
    },
    {
      "cell_type": "code",
      "execution_count": 6,
      "metadata": {},
      "outputs": [],
      "source": [
        "# your code here"
      ],
      "id": "619da200"
    },
    {
      "cell_type": "markdown",
      "metadata": {},
      "source": [
        "<span class=\"theorem-title\">**Exercise 6**</span> Using a high enough\n",
        "number for `N`, make contour plots of lifetime rewards as a function of\n",
        "`θ_0` and `θ_1`. Ideally, represent lines with $1\\%$ consumption loss,\n",
        "$5\\%$ and $10\\%$ deterministic consumption loss w.r.t. to maximum."
      ],
      "id": "d15cacb9-c575-41ae-8f9e-a19dfa9166fa"
    },
    {
      "cell_type": "code",
      "execution_count": 7,
      "metadata": {},
      "outputs": [],
      "source": [
        "# your code here"
      ],
      "id": "be30edba"
    },
    {
      "cell_type": "markdown",
      "metadata": {},
      "source": [
        "## Learning to save\n",
        "\n",
        "We now focus on the number of steps it takes to optimize $\\theta_0$,\n",
        "$\\theta_1$.\\_\\_\n",
        "\n",
        "<span class=\"theorem-title\">**Exercise 7**</span> Implement a function\n",
        "`∇(θ:Vector, T, N)::Vector` which computes the gradient of the objective\n",
        "w.r.t. `θ==[θ_0,θ_1]`\\_\\_"
      ],
      "id": "66925266-a794-4075-af9e-67bff8223e87"
    },
    {
      "cell_type": "code",
      "execution_count": 8,
      "metadata": {},
      "outputs": [],
      "source": [
        "# your code here"
      ],
      "id": "a996bd4c"
    },
    {
      "cell_type": "markdown",
      "metadata": {},
      "source": [
        "<span class=\"theorem-title\">**Exercise 8**</span> Implement a gradient\n",
        "descent algorithm to maximize $\\Xi^N(\\theta_0, \\theta_1)$ using learning\n",
        "rate $\\lambda \\in ]0,1]$. Stop after a predefined number of iterations.\n",
        "Compare convergence speed for different values of $\\lambda$ and plot\n",
        "them on the $\\theta_0, \\theta_1$ plan. How many steps does it take to\n",
        "enter the `1%` error zone? The `5%` and the `10%` error zone?"
      ],
      "id": "c0b20c4b-beb0-401f-901b-e3759cfeca6f"
    },
    {
      "cell_type": "code",
      "execution_count": 9,
      "metadata": {},
      "outputs": [],
      "source": [
        "# your code here"
      ],
      "id": "6d77f197"
    },
    {
      "cell_type": "markdown",
      "metadata": {},
      "source": [
        "Even for big N, the evaluated value of ∇ are stochastic, and always\n",
        "slightly inaccurate. In average, they are non-biased and the algorithm\n",
        "converges in expectation (it fluctuates around the maximum). This is\n",
        "called the stochastic gradient method.\n",
        "\n",
        "<span class=\"theorem-title\">**Exercise 9**</span> What are the values of\n",
        "$N$ and $\\lambda$ which minimize the number of iterations before\n",
        "reaching the target zones (at 1%, 2%, etc…)? How many simulations\n",
        "periods does it correspond to? Would you say it is realistic that\n",
        "consumers learn from their own experience?"
      ],
      "id": "ab3e44fa-56be-40cc-ba5f-2a3b6a0aad5a"
    },
    {
      "cell_type": "code",
      "execution_count": 10,
      "metadata": {},
      "outputs": [],
      "source": [
        "# your code here"
      ],
      "id": "8e4c8aa0"
    }
  ],
  "nbformat": 4,
  "nbformat_minor": 5,
  "metadata": {
    "kernelspec": {
      "name": "python3",
      "display_name": "Python 3 (ipykernel)",
      "language": "python",
      "path": "/home/pablo/.local/share/jupyter/kernels/python3"
    },
    "language_info": {
      "name": "python",
      "codemirror_mode": {
        "name": "ipython",
        "version": "3"
      },
      "file_extension": ".py",
      "mimetype": "text/x-python",
      "nbconvert_exporter": "python",
      "pygments_lexer": "ipython3",
      "version": "3.11.10"
    }
  }
}