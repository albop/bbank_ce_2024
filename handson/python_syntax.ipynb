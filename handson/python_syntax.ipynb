{
  "cells": [
    {
      "cell_type": "markdown",
      "metadata": {},
      "source": [
        "# Python: syntax review\n",
        "\n",
        "## Basic Types\n",
        "\n",
        "### numbers"
      ],
      "id": "ea6437e1-f01d-4426-9ddd-dabc73a5ebde"
    },
    {
      "cell_type": "code",
      "execution_count": 1,
      "metadata": {},
      "outputs": [],
      "source": [
        "# integers and floats"
      ],
      "id": "be0cb926"
    },
    {
      "cell_type": "code",
      "execution_count": 2,
      "metadata": {},
      "outputs": [],
      "source": [
        "1"
      ],
      "id": "f7a895d9"
    },
    {
      "cell_type": "code",
      "execution_count": 3,
      "metadata": {},
      "outputs": [],
      "source": [
        "1.0"
      ],
      "id": "68dace26"
    },
    {
      "cell_type": "code",
      "execution_count": 4,
      "metadata": {},
      "outputs": [],
      "source": [
        "# conversion with int() and float()\n",
        "float( 1 )"
      ],
      "id": "63db005e"
    },
    {
      "cell_type": "code",
      "execution_count": 5,
      "metadata": {},
      "outputs": [],
      "source": [
        "int(2.9) # floor"
      ],
      "id": "aa3b48cf"
    },
    {
      "cell_type": "code",
      "execution_count": 6,
      "metadata": {},
      "outputs": [],
      "source": [
        "# no difference between various types of floats (16 bits, 32 bits, 64 bits, ...)"
      ],
      "id": "fddb74b9"
    },
    {
      "cell_type": "code",
      "execution_count": 7,
      "metadata": {},
      "outputs": [],
      "source": [
        "type( 2.2**50 ) # this doesn't fit in 32 bits"
      ],
      "id": "f24b1071"
    },
    {
      "cell_type": "code",
      "execution_count": 8,
      "metadata": {},
      "outputs": [],
      "source": [
        "# usual operations + - *\n",
        "print( 2 + 3 )\n",
        "print( 9 -6 )\n",
        "print( 3 / 2 )\n",
        "print(2304310958*41324)"
      ],
      "id": "3a244758"
    },
    {
      "cell_type": "code",
      "execution_count": 9,
      "metadata": {},
      "outputs": [],
      "source": [
        "# divisions / and //\n",
        "print(3/4)\n",
        "print(13//4)"
      ],
      "id": "cbd92360"
    },
    {
      "cell_type": "code",
      "execution_count": 10,
      "metadata": {},
      "outputs": [],
      "source": [
        "# exponentiation ** (not ^!)\n",
        "# (1.04)^10\n",
        "(1.04)**10"
      ],
      "id": "caca3758"
    },
    {
      "cell_type": "code",
      "execution_count": 11,
      "metadata": {},
      "outputs": [],
      "source": [
        "# comparison operators: >, <, >=, <=, ==\n",
        "\n",
        "print((1.0453432)*(0.96)  > 1.001 )\n",
        "\n",
        "print(1.001 >= 1.001)"
      ],
      "id": "db653cc2"
    },
    {
      "cell_type": "code",
      "execution_count": 12,
      "metadata": {},
      "outputs": [],
      "source": [
        "# comparison operators can be chained:\n",
        "print(0.2<0.4<0.5)\n",
        "print(0.5<=0.4<=0.5) # equivalent to ((0.5<=0.4) and(0.4<=0.5))"
      ],
      "id": "790cbad5"
    },
    {
      "cell_type": "markdown",
      "metadata": {},
      "source": [
        "### special types: boolean and None\n",
        "\n",
        "There are only two booleans: `True` and `False` (note uppercase). `None`\n",
        "is a dummy type, which is used when no other type fits."
      ],
      "id": "5ace0adb-817f-4c81-8e7d-4f5076bd8136"
    },
    {
      "cell_type": "code",
      "execution_count": 13,
      "metadata": {},
      "outputs": [],
      "source": [
        "print( False )\n",
        "True"
      ],
      "id": "e88e5f79"
    },
    {
      "cell_type": "code",
      "execution_count": 14,
      "metadata": {},
      "outputs": [],
      "source": [
        "(True, False, None)"
      ],
      "id": "8f14e9af"
    },
    {
      "cell_type": "markdown",
      "metadata": {},
      "source": [
        "Double equal sign tests for equality. Result should always be a boolean."
      ],
      "id": "97b2f985-84e3-4032-9d6e-b45fe9a66cd8"
    },
    {
      "cell_type": "code",
      "execution_count": 15,
      "metadata": {},
      "outputs": [],
      "source": [
        "True==False"
      ],
      "id": "9061b4c8"
    },
    {
      "cell_type": "markdown",
      "metadata": {},
      "source": [
        "Logical operators are `not`, `and` and `or`:"
      ],
      "id": "b9c94fe6-df69-4e6b-ad8b-ac24a78c8733"
    },
    {
      "cell_type": "code",
      "execution_count": 16,
      "metadata": {},
      "outputs": [],
      "source": [
        "(True or False)"
      ],
      "id": "2c79c9ca"
    },
    {
      "cell_type": "code",
      "execution_count": 17,
      "metadata": {},
      "outputs": [],
      "source": [
        "not (True or False)"
      ],
      "id": "0969d364"
    },
    {
      "cell_type": "code",
      "execution_count": 18,
      "metadata": {},
      "outputs": [],
      "source": [
        "(1.3**1.04 > 1.9) | (1000**1143>1001**1142)"
      ],
      "id": "5e0a59de"
    },
    {
      "cell_type": "markdown",
      "metadata": {},
      "source": [
        "Operators `or` and `and` can be replaced by `|` and `&` respectively.\n",
        "They are *non-greedy*, that is terms are not evaluated if the result of\n",
        "the comparison is already known."
      ],
      "id": "f344b11e-d560-4e6d-84ff-d848864500bb"
    },
    {
      "cell_type": "code",
      "execution_count": 19,
      "metadata": {},
      "outputs": [],
      "source": [
        "False and (print(\"Hello\"))"
      ],
      "id": "a08fa8cb"
    },
    {
      "cell_type": "code",
      "execution_count": 20,
      "metadata": {},
      "outputs": [],
      "source": [
        "print( (print(\"Hello\")) and False )"
      ],
      "id": "9e6cfbb5"
    },
    {
      "cell_type": "markdown",
      "metadata": {},
      "source": [
        "### strings\n",
        "\n",
        "#### definition\n",
        "\n",
        "Strings are defined by enclosing characters either by `'` (single\n",
        "quotes) or `\"` (double quote). Single quotes strings can contain double\n",
        "quotes strings and vice-versa."
      ],
      "id": "f55ac413-c1a1-4b35-af79-6618270d8d1c"
    },
    {
      "cell_type": "code",
      "execution_count": 21,
      "metadata": {},
      "outputs": [],
      "source": [
        "\"name\""
      ],
      "id": "2ba7d0c9"
    },
    {
      "cell_type": "code",
      "execution_count": 22,
      "metadata": {},
      "outputs": [],
      "source": [
        "'name'"
      ],
      "id": "05400d31"
    },
    {
      "cell_type": "code",
      "execution_count": 23,
      "metadata": {},
      "outputs": [],
      "source": [
        "'I say \"hello\"'"
      ],
      "id": "55436368"
    },
    {
      "cell_type": "code",
      "execution_count": 24,
      "metadata": {},
      "outputs": [],
      "source": [
        "\"You can 'quote' me\""
      ],
      "id": "fc4a068a"
    },
    {
      "cell_type": "markdown",
      "metadata": {},
      "source": [
        "Strings spanning over sever lines can be defined with triple quotes\n",
        "(single or double)."
      ],
      "id": "ec1cb40b-fb93-4721-a86c-852e572fcbb8"
    },
    {
      "cell_type": "code",
      "execution_count": 25,
      "metadata": {},
      "outputs": [],
      "source": [
        "s = \"\"\"¿Qué es la vida? Un frenesí.\n",
        "¿Qué es la vida? Una ilusión,\n",
        "una sombra, una ficción,\n",
        "y el mayor bien es pequeño;\n",
        "que toda la vida es sueño,\n",
        "y los sueños, sueños son.\n",
        "\"\"\""
      ],
      "id": "aa759136"
    },
    {
      "cell_type": "markdown",
      "metadata": {},
      "source": [
        "It is also possible to use the newline character `\\n`."
      ],
      "id": "5e9becd1-dcdf-48e4-8c46-1b15c8e9f06d"
    },
    {
      "cell_type": "code",
      "execution_count": 26,
      "metadata": {},
      "outputs": [],
      "source": [
        "\"La vida es sueño,\\ny los sueños, sueños son.\""
      ],
      "id": "418480c3"
    },
    {
      "cell_type": "code",
      "execution_count": 27,
      "metadata": {},
      "outputs": [],
      "source": [
        "print(\"La vida es sueño,\\ny los sueños, sueños son.\")"
      ],
      "id": "3648492f"
    },
    {
      "cell_type": "markdown",
      "metadata": {},
      "source": [
        "#### character sets\n",
        "\n",
        "Strings can contain any unicode character:"
      ],
      "id": "2c7d961c-4da3-4e5f-a685-1f3cee06a3da"
    },
    {
      "cell_type": "code",
      "execution_count": 28,
      "metadata": {},
      "outputs": [],
      "source": [
        "s = \"🎻⽻༽\""
      ],
      "id": "42f6960e"
    },
    {
      "cell_type": "markdown",
      "metadata": {},
      "source": [
        "*Refresher*: ASCII vs unicode\n",
        "\n",
        "ASCII (or ASCII-US) is an old standard which codes a character with 7\n",
        "bits (or 8 bits for extended ASCII). This allows to code 128 different\n",
        "characters (256 for ex-ASCII).\n",
        "\n",
        "Only a subset of these characters can be printed regularly."
      ],
      "id": "c977e760-7c93-41d7-a75a-800929dd4bb4"
    },
    {
      "cell_type": "code",
      "execution_count": 29,
      "metadata": {},
      "outputs": [],
      "source": [
        "chr(44)"
      ],
      "id": "b1c0e488"
    },
    {
      "cell_type": "code",
      "execution_count": 30,
      "metadata": {},
      "outputs": [],
      "source": [
        "# ASCII: \n",
        "for i in range(32,127):\n",
        "    print( chr(i), end=' ')"
      ],
      "id": "68b678d2"
    },
    {
      "cell_type": "markdown",
      "metadata": {},
      "source": [
        "The other characters include *delete*, *newline* and *carriage return*\n",
        "among others."
      ],
      "id": "3e94d9fa-3eb2-4406-8f8f-9a813c387130"
    },
    {
      "cell_type": "code",
      "execution_count": 31,
      "metadata": {},
      "outputs": [],
      "source": [
        "s = 'This is\\na\\nmultiline string.' # note the newline character '\\n'"
      ],
      "id": "14a650d8"
    },
    {
      "cell_type": "code",
      "execution_count": 32,
      "metadata": {},
      "outputs": [],
      "source": [
        "# print(s)\n",
        "len(s)"
      ],
      "id": "01e6012b"
    },
    {
      "cell_type": "markdown",
      "metadata": {},
      "source": [
        "Some antiquated platforms still use newline + carriage return at the end\n",
        "of each line. This is absolutely not required and causes\n",
        "incompatibilities."
      ],
      "id": "050640ad-37d7-4313-a459-e48f433e5e8a"
    },
    {
      "cell_type": "code",
      "execution_count": 33,
      "metadata": {},
      "outputs": [],
      "source": [
        "s2 = 'This is\\n\\ra\\n\\rmultiline string.' # note the newline character '\\n' and carriager return '\\r'"
      ],
      "id": "0db2d4e7"
    },
    {
      "cell_type": "code",
      "execution_count": 34,
      "metadata": {},
      "outputs": [],
      "source": [
        "print(s2)\n",
        "print(len(s2))"
      ],
      "id": "44d6c2e2"
    },
    {
      "cell_type": "markdown",
      "metadata": {},
      "source": [
        "Unicode contains a repertoire of over 137,000 characters with all ASCII\n",
        "characters as subcases\n",
        "\n",
        "To type: copy/paste, ctrl+shift+hexadecimal, latex + tab\n",
        "\n",
        "Variable names aka identifiers can contain unicode characters with some\n",
        "restrictions: - they cannot start with a digit - they can’t contain\n",
        "special variables (‘!,#,@,%,\\$’ and other unicode specials ???) - they\n",
        "can contain underscore\n",
        "\n",
        "#### operations\n",
        "\n",
        "concatenation"
      ],
      "id": "8b690df0-811e-45f5-b680-77c12a827665"
    },
    {
      "cell_type": "code",
      "execution_count": 35,
      "metadata": {},
      "outputs": [],
      "source": [
        "'abc' + 'def'"
      ],
      "id": "49fbde09"
    },
    {
      "cell_type": "code",
      "execution_count": 36,
      "metadata": {},
      "outputs": [],
      "source": [
        "'abc'*3"
      ],
      "id": "2e9fb6ed"
    },
    {
      "cell_type": "code",
      "execution_count": 37,
      "metadata": {},
      "outputs": [],
      "source": [
        "'abc' + 'abc' + 'abc'"
      ],
      "id": "546831bd"
    },
    {
      "cell_type": "markdown",
      "metadata": {},
      "source": [
        "#### substrings"
      ],
      "id": "cd9b97eb-6483-4bdd-af12-9bde5af00807"
    },
    {
      "cell_type": "code",
      "execution_count": 38,
      "metadata": {},
      "outputs": [],
      "source": [
        "# strings can be accessed as arrays (0 based indexing)\n",
        "s = \"a b c\"\n",
        "s[0]"
      ],
      "id": "2d6d2b2c"
    },
    {
      "cell_type": "code",
      "execution_count": 39,
      "metadata": {},
      "outputs": [],
      "source": [
        "# slice notation (  [min,max[ )\n",
        "s = \"a b c d\"\n",
        "s[2:5] # 0-based; 2 included, 5 excluded"
      ],
      "id": "3832a5ba"
    },
    {
      "cell_type": "code",
      "execution_count": 40,
      "metadata": {},
      "outputs": [],
      "source": [
        "# substrings are easy to check\n",
        "\"a\" in s"
      ],
      "id": "96a9b884"
    },
    {
      "cell_type": "code",
      "execution_count": 41,
      "metadata": {},
      "outputs": [],
      "source": [
        "\"b c\" in \"a b c d\""
      ],
      "id": "e64f3942"
    },
    {
      "cell_type": "markdown",
      "metadata": {},
      "source": [
        "It is impossible to modify a substring."
      ],
      "id": "b5f29142-423f-43f5-a31e-3d3ecc98cf79"
    },
    {
      "cell_type": "code",
      "execution_count": 42,
      "metadata": {},
      "outputs": [],
      "source": [
        "# but are immutable\n",
        "s = \"a b c\"\n",
        "#s[1] = 0 error"
      ],
      "id": "df595c59"
    },
    {
      "cell_type": "markdown",
      "metadata": {},
      "source": [
        "Instead, one can replace a substring:"
      ],
      "id": "51c61c34-1a7a-4092-bbd9-9c2262123d60"
    },
    {
      "cell_type": "code",
      "execution_count": 43,
      "metadata": {},
      "outputs": [],
      "source": [
        "s"
      ],
      "id": "4948cfa0"
    },
    {
      "cell_type": "code",
      "execution_count": 44,
      "metadata": {},
      "outputs": [],
      "source": [
        "s.replace(' ', '🎻')"
      ],
      "id": "54312ab5"
    },
    {
      "cell_type": "markdown",
      "metadata": {},
      "source": [
        "Or use string interpolation"
      ],
      "id": "0d8f6766-13a2-49d9-b191-6947115aa604"
    },
    {
      "cell_type": "code",
      "execution_count": 45,
      "metadata": {},
      "outputs": [],
      "source": [
        "# string interpolation (old school)\n",
        "\"ny name is {name}\".format(name=\"nobody\")"
      ],
      "id": "c74ac8f0"
    },
    {
      "cell_type": "code",
      "execution_count": 46,
      "metadata": {},
      "outputs": [],
      "source": [
        "\"calculation took {time}s\".format(time=10000)"
      ],
      "id": "a74f0aa3"
    },
    {
      "cell_type": "code",
      "execution_count": 47,
      "metadata": {},
      "outputs": [],
      "source": [
        "# number format can be tweaked\n",
        "\"I am {age:.0f} years old\".format(age=5.65)"
      ],
      "id": "eaebfd40"
    },
    {
      "cell_type": "code",
      "execution_count": 48,
      "metadata": {},
      "outputs": [],
      "source": [
        "# formatted strings\n",
        "elapsed = 15914884.300292\n",
        "\n",
        "f\"computations took {elapsed/3600:.2f} hours\""
      ],
      "id": "8d41a56a"
    },
    {
      "cell_type": "code",
      "execution_count": 49,
      "metadata": {},
      "outputs": [],
      "source": [
        "name = \"arnaldur\""
      ],
      "id": "41d87bc4"
    },
    {
      "cell_type": "code",
      "execution_count": 50,
      "metadata": {},
      "outputs": [],
      "source": [
        "\"dasnfnaksujhn {name}\".format(name=\"whatever\")"
      ],
      "id": "526c5226"
    },
    {
      "cell_type": "code",
      "execution_count": 51,
      "metadata": {},
      "outputs": [],
      "source": [
        "# basic string operations: str.split, str.join, etc...\n",
        "# fast regular expressions\n",
        "# more on it, with text processing lesson"
      ],
      "id": "0c123adb"
    },
    {
      "cell_type": "code",
      "execution_count": 52,
      "metadata": {},
      "outputs": [],
      "source": [
        "str.split(\"me,you,others,them\",',')"
      ],
      "id": "fe7dae92"
    },
    {
      "cell_type": "code",
      "execution_count": 53,
      "metadata": {},
      "outputs": [],
      "source": [
        "str.join( \" | \",\n",
        "    str.split(\"me,you,others,them\",','),\n",
        ")"
      ],
      "id": "f806c7c4"
    },
    {
      "cell_type": "markdown",
      "metadata": {},
      "source": [
        "#### Escaping characters\n",
        "\n",
        "The example above used several special characters: `\\n` which\n",
        "corresponds to only one ascii character and `{`/`}` which disappears\n",
        "after the string formatting. If one desires to print these characters\n",
        "precisely one needs to escape them using `\\` and `{` `}`."
      ],
      "id": "12430da4-c3f6-4136-a4df-ba7fe22f9319"
    },
    {
      "cell_type": "code",
      "execution_count": 54,
      "metadata": {},
      "outputs": [],
      "source": [
        "print(\"This is a one \\\\nline string\")\n",
        "print(\"This string keeps some {{curly}} brackets{}\".format('.'))"
      ],
      "id": "bc92b8c8"
    },
    {
      "cell_type": "markdown",
      "metadata": {},
      "source": [
        "#### Other operations on strings\n",
        "\n",
        "(check help(str) or help?)\n",
        "\n",
        "-   len() : length\n",
        "-   strip() : removes characters at the ends\n",
        "-   split() : split strings into several substrings separated by\n",
        "    separator\n",
        "-   join() : opposite of split"
      ],
      "id": "dffb1a14-d07f-4bcd-bdf9-f3757e4f0db7"
    },
    {
      "cell_type": "code",
      "execution_count": 55,
      "metadata": {},
      "outputs": [],
      "source": [
        "'others,'"
      ],
      "id": "73f8e0c2"
    },
    {
      "cell_type": "code",
      "execution_count": 56,
      "metadata": {},
      "outputs": [],
      "source": [
        "',me,others,'.strip(',')"
      ],
      "id": "6012c0af"
    },
    {
      "cell_type": "code",
      "execution_count": 57,
      "metadata": {},
      "outputs": [],
      "source": [
        "s.count(',')"
      ],
      "id": "064c383c"
    },
    {
      "cell_type": "code",
      "execution_count": 58,
      "metadata": {},
      "outputs": [],
      "source": [
        "help(str)"
      ],
      "id": "226a8f48"
    },
    {
      "cell_type": "markdown",
      "metadata": {},
      "source": [
        "## Assignment\n",
        "\n",
        "Any object can be reused by assigning an identifier to it. This is done\n",
        "with assignment operator `=`."
      ],
      "id": "337ec16b-314c-4dc8-86f0-1e91aa7bd11a"
    },
    {
      "cell_type": "code",
      "execution_count": 59,
      "metadata": {},
      "outputs": [],
      "source": [
        "a = 3\n",
        "a"
      ],
      "id": "eda734b0"
    },
    {
      "cell_type": "markdown",
      "metadata": {},
      "source": [
        "Note that assignment operator `=` is different from comparison operator\n",
        "`==`. Comparison operator is always True or False, while assignment\n",
        "operator has no value."
      ],
      "id": "bd8ab070-ccea-463f-9423-8b86730a9f65"
    },
    {
      "cell_type": "code",
      "execution_count": 60,
      "metadata": {},
      "outputs": [],
      "source": [
        "(2==2) == True"
      ],
      "id": "0dfb647d"
    },
    {
      "cell_type": "markdown",
      "metadata": {},
      "source": [
        "## Containers\n",
        "\n",
        "Any object created in Python is identified by a unique `id`. One can\n",
        "think of it approximately as its reference. Object collections, contain\n",
        "arbitrary other python objects, that is they contain references to them."
      ],
      "id": "1d3f4d86-f087-4191-af1c-33f2d8ac299b"
    },
    {
      "cell_type": "code",
      "execution_count": 61,
      "metadata": {},
      "outputs": [],
      "source": [
        "id(s)"
      ],
      "id": "210d8914"
    },
    {
      "cell_type": "markdown",
      "metadata": {},
      "source": [
        "### tuples\n",
        "\n",
        "#### construction"
      ],
      "id": "76308615-764a-4216-bd17-a1f00cb4308b"
    },
    {
      "cell_type": "code",
      "execution_count": 62,
      "metadata": {},
      "outputs": [],
      "source": [
        "(1,2,\"a\" )"
      ],
      "id": "02198679"
    },
    {
      "cell_type": "markdown",
      "metadata": {},
      "source": [
        "Since tuples are immutable, two identical tuples, will always contain\n",
        "the same data."
      ],
      "id": "a72385fd-d9bc-4b5b-a30e-32550849a0ce"
    },
    {
      "cell_type": "code",
      "execution_count": 63,
      "metadata": {},
      "outputs": [],
      "source": [
        "t1  = (2,23)\n",
        "t2  = (2,23)"
      ],
      "id": "127cc131"
    },
    {
      "cell_type": "code",
      "execution_count": 64,
      "metadata": {},
      "outputs": [],
      "source": [
        "# can contain any data\n",
        "t = (1,2,3,4,5,6)\n",
        "t1 = (t, \"a\", (1,2))\n",
        "t2 = (0,)  # note trailing coma for one element tuple\n",
        "t3 = (t, \"a\", (1,2))"
      ],
      "id": "cb46117e"
    },
    {
      "cell_type": "code",
      "execution_count": 65,
      "metadata": {},
      "outputs": [],
      "source": [
        "t[0] = 78"
      ],
      "id": "88c64195"
    },
    {
      "cell_type": "markdown",
      "metadata": {},
      "source": [
        "Since tuples never change, they can be compared by hash values (if the\n",
        "data they hold can be hashed). Two tuples are identical if they contain\n",
        "the same data.\n",
        "\n",
        "Remark: hash function is any function that can be used to map data of\n",
        "arbitrary size to data of a fixed size. It is such that the probability\n",
        "of two data points of having the same hash is very small even if they\n",
        "are close to each other."
      ],
      "id": "127bc350-1597-4580-874d-dcdd6448ad4c"
    },
    {
      "cell_type": "code",
      "execution_count": 66,
      "metadata": {},
      "outputs": [],
      "source": [
        "t3 == t1"
      ],
      "id": "fbdd2895"
    },
    {
      "cell_type": "code",
      "execution_count": 67,
      "metadata": {},
      "outputs": [],
      "source": [
        "print(hash(t3))\n",
        "print(hash(t1))"
      ],
      "id": "0eaded4c"
    },
    {
      "cell_type": "code",
      "execution_count": 68,
      "metadata": {},
      "outputs": [],
      "source": [
        "id(t3), id(t1)"
      ],
      "id": "75c0f0e4"
    },
    {
      "cell_type": "markdown",
      "metadata": {},
      "source": [
        "#### access elements"
      ],
      "id": "81f824ba-2ee1-40ed-a782-64c83ae3f16f"
    },
    {
      "cell_type": "code",
      "execution_count": 69,
      "metadata": {},
      "outputs": [],
      "source": [
        "# elements are accessed with brackets (0-based)\n",
        "t[0]"
      ],
      "id": "88c45cee"
    },
    {
      "cell_type": "code",
      "execution_count": 70,
      "metadata": {},
      "outputs": [],
      "source": [
        "# slice notation works too (  [min,max[ )\n",
        "t[1:3]"
      ],
      "id": "881f53c6"
    },
    {
      "cell_type": "code",
      "execution_count": 71,
      "metadata": {},
      "outputs": [],
      "source": [
        "# repeat with *\n",
        "(3,2)*5"
      ],
      "id": "ede92e5b"
    },
    {
      "cell_type": "code",
      "execution_count": 72,
      "metadata": {},
      "outputs": [],
      "source": [
        "(0)*5"
      ],
      "id": "d5b11833"
    },
    {
      "cell_type": "code",
      "execution_count": 73,
      "metadata": {},
      "outputs": [],
      "source": [
        "(0,)*5"
      ],
      "id": "83061fbf"
    },
    {
      "cell_type": "code",
      "execution_count": 74,
      "metadata": {},
      "outputs": [],
      "source": [
        "t2*5"
      ],
      "id": "b765bee9"
    },
    {
      "cell_type": "code",
      "execution_count": 75,
      "metadata": {},
      "outputs": [],
      "source": [
        "# concatenate with +\n",
        "t+t1+t2"
      ],
      "id": "0cdac27f"
    },
    {
      "cell_type": "code",
      "execution_count": 76,
      "metadata": {},
      "outputs": [],
      "source": [
        "# test for membership\n",
        "\n",
        "(1 in t)"
      ],
      "id": "41e2400e"
    },
    {
      "cell_type": "markdown",
      "metadata": {},
      "source": [
        "### lists\n",
        "\n",
        "lists are enclosed by brackets are *mutable ordered collections of\n",
        "elements*"
      ],
      "id": "c1db7837-2ed0-4a91-8f13-c33454834aac"
    },
    {
      "cell_type": "code",
      "execution_count": 77,
      "metadata": {},
      "outputs": [],
      "source": [
        "l = [1,\"a\",4,5]"
      ],
      "id": "47dd25e4"
    },
    {
      "cell_type": "code",
      "execution_count": 78,
      "metadata": {},
      "outputs": [],
      "source": [
        "l[1]"
      ],
      "id": "d48ac7ad"
    },
    {
      "cell_type": "code",
      "execution_count": 79,
      "metadata": {},
      "outputs": [],
      "source": [
        "l[1:] # if we omit the upper-bound it goes until the last element"
      ],
      "id": "7a768318"
    },
    {
      "cell_type": "code",
      "execution_count": 80,
      "metadata": {},
      "outputs": [],
      "source": [
        "l[:2]"
      ],
      "id": "40ba5198"
    },
    {
      "cell_type": "code",
      "execution_count": 81,
      "metadata": {},
      "outputs": [],
      "source": [
        "# lists are concatenated with +\n",
        "l[:2] + l[2:] == l"
      ],
      "id": "d50aef71"
    },
    {
      "cell_type": "code",
      "execution_count": 82,
      "metadata": {},
      "outputs": [],
      "source": [
        "# test for membership\n",
        "(5 in l)"
      ],
      "id": "21532f15"
    },
    {
      "cell_type": "code",
      "execution_count": 83,
      "metadata": {},
      "outputs": [],
      "source": [
        "# lists can be extended inplace\n",
        "ll = [1,2,3]\n",
        "ll.extend([4,5]) # several elements\n",
        "ll.append(6)\n",
        "ll"
      ],
      "id": "caf3f078"
    },
    {
      "cell_type": "markdown",
      "metadata": {},
      "source": [
        "Since lists are mutable, it makes no sense to compute them by hash value\n",
        "(or the hash needs to be recomputed every time the values change)."
      ],
      "id": "2b4cfe86-c666-4499-bea5-cacd0d4f6a92"
    },
    {
      "cell_type": "code",
      "execution_count": 84,
      "metadata": {},
      "outputs": [],
      "source": [
        "hash(ll)"
      ],
      "id": "67d1f40c"
    },
    {
      "cell_type": "markdown",
      "metadata": {},
      "source": [
        "Sorted lists can be created with sorted (if elements can be ranked)"
      ],
      "id": "b55d4e58-2134-4ad5-b217-7d3cb8427ddf"
    },
    {
      "cell_type": "code",
      "execution_count": 85,
      "metadata": {},
      "outputs": [],
      "source": [
        "ll = [4,3,5]"
      ],
      "id": "57c5a7a7"
    },
    {
      "cell_type": "code",
      "execution_count": 86,
      "metadata": {},
      "outputs": [],
      "source": [
        "sorted(ll)"
      ],
      "id": "9e9699bd"
    },
    {
      "cell_type": "code",
      "execution_count": 87,
      "metadata": {},
      "outputs": [],
      "source": [
        "ll"
      ],
      "id": "cfebb550"
    },
    {
      "cell_type": "markdown",
      "metadata": {},
      "source": [
        "It is also possible to sort in place."
      ],
      "id": "78982f46-f79b-440f-af55-ad0bbfb239ff"
    },
    {
      "cell_type": "code",
      "execution_count": 88,
      "metadata": {},
      "outputs": [],
      "source": [
        "ll.sort()\n",
        "ll"
      ],
      "id": "4fdd21ff"
    },
    {
      "cell_type": "code",
      "execution_count": 89,
      "metadata": {},
      "outputs": [],
      "source": [
        "sorted(ll) # creates a new list\n",
        "ll.sort()  # does it in place"
      ],
      "id": "56062277"
    },
    {
      "cell_type": "code",
      "execution_count": 90,
      "metadata": {},
      "outputs": [],
      "source": [
        "# in python internals:    ll.sort() equivalent sort(ll)"
      ],
      "id": "94d11e32"
    },
    {
      "cell_type": "markdown",
      "metadata": {},
      "source": [
        "### set\n",
        "\n",
        "Sets are unordered collections of unique elements."
      ],
      "id": "4a549a27-592b-4aee-ac41-111cadabe806"
    },
    {
      "cell_type": "code",
      "execution_count": 91,
      "metadata": {},
      "outputs": [],
      "source": [
        "s1 = set([1,2,3,3,4,3,4])\n",
        "s2 = set([3,4,4,6,8])\n",
        "print(s1, s2)\n",
        "print(s1.intersection(s2))"
      ],
      "id": "13b7cf0d"
    },
    {
      "cell_type": "code",
      "execution_count": 92,
      "metadata": {},
      "outputs": [],
      "source": [
        "{3,4} == {4,3}"
      ],
      "id": "fed659f7"
    },
    {
      "cell_type": "markdown",
      "metadata": {},
      "source": [
        "### dictionaries\n",
        "\n",
        "Dictionaries are ordered associative collections of elements. They store\n",
        "values associated to keys."
      ],
      "id": "7a38654e-c5de-4369-bbd9-450f9208793a"
    },
    {
      "cell_type": "code",
      "execution_count": 93,
      "metadata": {},
      "outputs": [],
      "source": [
        "# construction with curly brackets\n",
        "d = {'a':0, 'b':1}"
      ],
      "id": "371f423e"
    },
    {
      "cell_type": "code",
      "execution_count": 94,
      "metadata": {},
      "outputs": [],
      "source": [
        "d"
      ],
      "id": "92d1c661"
    },
    {
      "cell_type": "code",
      "execution_count": 95,
      "metadata": {},
      "outputs": [],
      "source": [
        "# values can be recovered by indexing the dict with a key\n",
        "d['b']"
      ],
      "id": "f4b73328"
    },
    {
      "cell_type": "code",
      "execution_count": 96,
      "metadata": {},
      "outputs": [],
      "source": [
        "d = dict()\n",
        "# d['a'] = 42\n",
        "# d['b'] = 78\n",
        "d"
      ],
      "id": "b188a96c"
    },
    {
      "cell_type": "code",
      "execution_count": 97,
      "metadata": {},
      "outputs": [],
      "source": [
        "d['a'] = 42"
      ],
      "id": "5fd75f1b"
    },
    {
      "cell_type": "code",
      "execution_count": 98,
      "metadata": {},
      "outputs": [],
      "source": [
        "d['b']"
      ],
      "id": "15a6e444"
    },
    {
      "cell_type": "markdown",
      "metadata": {},
      "source": [
        "Keys can be any hashable value:"
      ],
      "id": "a4db86e9-4117-4206-978e-63e609b88900"
    },
    {
      "cell_type": "code",
      "execution_count": 99,
      "metadata": {},
      "outputs": [],
      "source": [
        "d[('a','b')] = 100"
      ],
      "id": "7cbacd12"
    },
    {
      "cell_type": "code",
      "execution_count": 100,
      "metadata": {},
      "outputs": [],
      "source": [
        "d[ ['a','b'] ] = 100 # that won't work"
      ],
      "id": "e093b20c"
    },
    {
      "cell_type": "markdown",
      "metadata": {},
      "source": [
        "Note: until python 3.5 dictionaries were not ordered. Now the are\n",
        "guaranteed to keep the insertion order\n",
        "\n",
        "## Control flows\n",
        "\n",
        "### Conditional blocks\n",
        "\n",
        "Conditional blocks are preceeded by `if` and followed by an indented\n",
        "block. Note that it is advised to indent a block by a fixed set of space\n",
        "(usually 4) rather than use tabs."
      ],
      "id": "215345ce-a635-4524-8bce-2895c7f1bb76"
    },
    {
      "cell_type": "code",
      "execution_count": 101,
      "metadata": {},
      "outputs": [],
      "source": [
        "if 'sun'>'moon':\n",
        "    print('warm')"
      ],
      "id": "0669a8f4"
    },
    {
      "cell_type": "markdown",
      "metadata": {},
      "source": [
        "They can also be followed by elif and else statements:"
      ],
      "id": "77766cbe-4fad-4797-9392-b20a2c8263ea"
    },
    {
      "cell_type": "code",
      "execution_count": 102,
      "metadata": {},
      "outputs": [],
      "source": [
        "x = 0.5\n",
        "if (x<0):\n",
        "    y = 0.0\n",
        "elif (x<1.0):\n",
        "    y = x\n",
        "else:\n",
        "    y = 1+(x-1)*0.5"
      ],
      "id": "51afa4c9"
    },
    {
      "cell_type": "markdown",
      "metadata": {},
      "source": [
        "Remark that in the conditions, any variable can be used. The following\n",
        "evaluate to False: - 0 - empty collection"
      ],
      "id": "d13d8e49-b15e-4a75-b78b-dd2030b41c78"
    },
    {
      "cell_type": "code",
      "execution_count": 103,
      "metadata": {},
      "outputs": [],
      "source": [
        "if 0: print(\"I won't print this.\")\n",
        "if 1: print(\"Maybe I will.\")\n",
        "if {}: print(\"Sir, your dictionary is empty\")\n",
        "if \"\": print(\"Sir, there is no string to speak of.\")"
      ],
      "id": "870f192f"
    },
    {
      "cell_type": "markdown",
      "metadata": {},
      "source": [
        "### While\n",
        "\n",
        "The content of the while loop is repeated as long as a certain condition\n",
        "is met. Don’t forget to change that condition or the loop might run\n",
        "forever."
      ],
      "id": "7e0e98d8-d547-46f0-bdab-938d2671a74a"
    },
    {
      "cell_type": "code",
      "execution_count": 104,
      "metadata": {},
      "outputs": [],
      "source": [
        "point_made = False\n",
        "i = 0\n",
        "while not point_made:\n",
        "    print(\"A fanatic is one who can't change his mind and won't change the subject.\")\n",
        "    i += 1 # this is a quasi-synonym of i = i + 1\n",
        "    if i>=20:\n",
        "          point_made = True"
      ],
      "id": "68e10f1b"
    },
    {
      "cell_type": "markdown",
      "metadata": {},
      "source": [
        "### Loops"
      ],
      "id": "17b23ef8-f3eb-4659-a2b2-cc99f96b5e97"
    },
    {
      "cell_type": "code",
      "execution_count": 105,
      "metadata": {},
      "outputs": [],
      "source": [
        "# while loops\n",
        "i = 0\n",
        "while i<=10:\n",
        "    print(str(i)+\" \",  end='')\n",
        "    i+=1"
      ],
      "id": "15b6e7ba"
    },
    {
      "cell_type": "code",
      "execution_count": 106,
      "metadata": {},
      "outputs": [],
      "source": [
        "# for loop\n",
        "for i in [0,1,2,3,4,5,6,7,8,9,10]:\n",
        "    print(str(i)+\" \",  end='')"
      ],
      "id": "f495b4b6"
    },
    {
      "cell_type": "code",
      "execution_count": 107,
      "metadata": {},
      "outputs": [],
      "source": [
        "# this works for any kind of iterable\n",
        "# for loop\n",
        "for i in (0,1,2,3,4,5,6,7,8,9,10):\n",
        "    print(str(i)+\" \",  end='')"
      ],
      "id": "fd0ef89d"
    },
    {
      "cell_type": "code",
      "execution_count": 108,
      "metadata": {},
      "outputs": [],
      "source": [
        "# including range generator (note last value)\n",
        "for i in range(11): \n",
        "    print(str(i)+\" \",  end='')"
      ],
      "id": "9eb02ff8"
    },
    {
      "cell_type": "code",
      "execution_count": 109,
      "metadata": {},
      "outputs": [],
      "source": [
        "range(11)"
      ],
      "id": "fa3b167c"
    },
    {
      "cell_type": "code",
      "execution_count": 110,
      "metadata": {},
      "outputs": [],
      "source": [
        "# one can also enumerate elements\n",
        "countries = (\"france\", \"uk\", \"germany\")\n",
        "for i,c in enumerate(countries): \n",
        "    print(f\"{i}: {c}\")"
      ],
      "id": "4a1065fa"
    },
    {
      "cell_type": "code",
      "execution_count": 111,
      "metadata": {},
      "outputs": [],
      "source": [
        "s = set(c)"
      ],
      "id": "5e7c5e11"
    },
    {
      "cell_type": "code",
      "execution_count": 112,
      "metadata": {},
      "outputs": [],
      "source": [
        "# conditional blocks are constructed with if, elif, else\n",
        "for i,c in enumerate(countries):\n",
        "    if len(set(c).intersection(set(\"brexit\"))):\n",
        "        print(c)\n",
        "    else:\n",
        "        print(c + \" 😢\")"
      ],
      "id": "fae24371"
    },
    {
      "cell_type": "markdown",
      "metadata": {},
      "source": [
        "It is possible to iterate over any iterable. This is true for a list or\n",
        "a generator:"
      ],
      "id": "f8c2f107-7624-4a49-aa0e-269997baab5b"
    },
    {
      "cell_type": "code",
      "execution_count": 113,
      "metadata": {},
      "outputs": [],
      "source": [
        "for i in range(10): # range(10) is a generator\n",
        "    print(i)"
      ],
      "id": "766f7d87"
    },
    {
      "cell_type": "code",
      "execution_count": 114,
      "metadata": {},
      "outputs": [],
      "source": [
        "for i in [0,1,2,3,4,5,6,7,8,9]:\n",
        "    print(i)"
      ],
      "id": "61b8e719"
    },
    {
      "cell_type": "markdown",
      "metadata": {},
      "source": [
        "We can iterate of dictionary keys or values"
      ],
      "id": "7f9d0c3d-3818-495a-ab1e-8637f9638f3b"
    },
    {
      "cell_type": "code",
      "execution_count": 115,
      "metadata": {},
      "outputs": [],
      "source": [
        "d = {1:2, 3:'i'}\n",
        "for k in d.keys():\n",
        "    print(k, d[k])\n",
        "for k in d.values():\n",
        "    print(k)"
      ],
      "id": "8c7277c4"
    },
    {
      "cell_type": "markdown",
      "metadata": {},
      "source": [
        "or both at the same time:"
      ],
      "id": "c936ccf9-ced2-4b7a-b20f-b92bb4d13f9a"
    },
    {
      "cell_type": "code",
      "execution_count": 116,
      "metadata": {},
      "outputs": [],
      "source": [
        "for t in d.items():\n",
        "    print(t)\n",
        "\n",
        "# look at automatic unpacking\n",
        "for (k,v) in d.items():\n",
        "    print(f\"key: {k}, value: {v}\")"
      ],
      "id": "ecba1657"
    },
    {
      "cell_type": "markdown",
      "metadata": {},
      "source": [
        "### Comprehension and generators\n",
        "\n",
        "There is an easy syntax to construct lists/tuples/dicts: comprehension.\n",
        "Syntax is remminiscent of a for loop."
      ],
      "id": "f29ec5e9-ea37-4381-9dca-09f635fd30e5"
    },
    {
      "cell_type": "code",
      "execution_count": 117,
      "metadata": {},
      "outputs": [],
      "source": [
        "[i**2 for i in range(10)]"
      ],
      "id": "86392d5f"
    },
    {
      "cell_type": "code",
      "execution_count": 118,
      "metadata": {},
      "outputs": [],
      "source": [
        "set(i-(i//2*2) for i in range(10))"
      ],
      "id": "aae39b88"
    },
    {
      "cell_type": "code",
      "execution_count": 119,
      "metadata": {},
      "outputs": [],
      "source": [
        "{i: i**2 for i in range(10)}"
      ],
      "id": "1e363e71"
    },
    {
      "cell_type": "markdown",
      "metadata": {},
      "source": [
        "Comprehension can be combined with conditions:"
      ],
      "id": "1f178294-9881-41d9-93ca-9bb6e897ba11"
    },
    {
      "cell_type": "code",
      "execution_count": 120,
      "metadata": {},
      "outputs": [],
      "source": [
        "[i**2 for i in range(10) if i//3>2]"
      ],
      "id": "edb0834e"
    },
    {
      "cell_type": "markdown",
      "metadata": {},
      "source": [
        "Behind the comprehension syntax, there is a special object called\n",
        "generator. Its role is to supply objects one by one like any other\n",
        "iterable."
      ],
      "id": "407b56c4-4f35-46b2-bb8d-bea1c41f65d2"
    },
    {
      "cell_type": "code",
      "execution_count": 121,
      "metadata": {},
      "outputs": [],
      "source": [
        "# note the bracket\n",
        "gen = (i**2 for i in range(10))\n",
        "gen # does nothing"
      ],
      "id": "0a3f9b0d"
    },
    {
      "cell_type": "code",
      "execution_count": 122,
      "metadata": {},
      "outputs": [],
      "source": [
        "gen = (i**2 for i in range(10))\n",
        "for e in gen:\n",
        "    print(e)"
      ],
      "id": "ff04b1ef"
    },
    {
      "cell_type": "code",
      "execution_count": 123,
      "metadata": {},
      "outputs": [],
      "source": [
        "gen = (i**2 for i in range(10))\n",
        "print([e for e in gen])"
      ],
      "id": "5977b7fa"
    },
    {
      "cell_type": "markdown",
      "metadata": {},
      "source": [
        "There is a shortcut to converte a generator into a list: it’s called\n",
        "unpacking:"
      ],
      "id": "3fc7f551-de79-4e19-821f-9354692fb064"
    },
    {
      "cell_type": "code",
      "execution_count": 124,
      "metadata": {},
      "outputs": [],
      "source": [
        "gen = (i**2 for i in range(10))\n",
        "[*gen]"
      ],
      "id": "f8fe3702"
    },
    {
      "cell_type": "markdown",
      "metadata": {},
      "source": [
        "## Functions\n",
        "\n",
        "Wrong approach"
      ],
      "id": "239a000b-84b0-4f67-9538-e0b5bd7fcc5c"
    },
    {
      "cell_type": "code",
      "execution_count": 125,
      "metadata": {},
      "outputs": [],
      "source": [
        "a1 = 34\n",
        "b1 = (1+a1*a1)\n",
        "c1 = (a1+b1*b1)\n",
        "\n",
        "a2 = 36\n",
        "b2 = (1+a2*a2)\n",
        "c2 = (a2+b2*b2)\n",
        "\n",
        "print(c1,c2)"
      ],
      "id": "6c08c03a"
    },
    {
      "cell_type": "markdown",
      "metadata": {},
      "source": [
        "Better approach"
      ],
      "id": "ec765a77-7dcd-4afc-a0fb-39a198c1a87e"
    },
    {
      "cell_type": "code",
      "execution_count": 126,
      "metadata": {},
      "outputs": [],
      "source": [
        "def calc(a):\n",
        "    b = 1+a*a\n",
        "    c = a+b*b\n",
        "    return c\n",
        "\n",
        "(calc(34), calc(36))"
      ],
      "id": "fbd38f7c"
    },
    {
      "cell_type": "markdown",
      "metadata": {},
      "source": [
        "it is equivalent to replace the content of the function by:"
      ],
      "id": "430f2bf4-6866-48a6-a504-3843c08a2dde"
    },
    {
      "cell_type": "code",
      "execution_count": 127,
      "metadata": {},
      "outputs": [],
      "source": [
        "a = 32\n",
        "_a = a          # def calc(a):\n",
        "_b = 1+_a*_a    #    b = 1+a*a\n",
        "_c = _a+_b*_b   #    c = a+b*b\n",
        "res = _c        #    return c"
      ],
      "id": "bcf27839"
    },
    {
      "cell_type": "markdown",
      "metadata": {},
      "source": [
        "Note that variable names within the function have different names. This\n",
        "is to avoid name conflicts as in:"
      ],
      "id": "3413199a-fb67-449a-afa5-a90d12a8e67f"
    },
    {
      "cell_type": "code",
      "execution_count": 128,
      "metadata": {},
      "outputs": [],
      "source": [
        "y = 1\n",
        "def f(x):\n",
        "    y = x**2\n",
        "    return y+1\n",
        "def g(x):\n",
        "    y = x**2+0.1\n",
        "    return y+1\n",
        "r1 = f(1.4)\n",
        "r2 = g(1.4)\n",
        "r3 = y\n",
        "(r1,r2,r3)"
      ],
      "id": "59b6252e"
    },
    {
      "cell_type": "code",
      "execution_count": 129,
      "metadata": {},
      "outputs": [],
      "source": [
        "l = ['france', 'germany']\n",
        "def fun(i):\n",
        "    print(f\"Country: {l[i]}\")\n",
        "fun(0)"
      ],
      "id": "704c40dd"
    },
    {
      "cell_type": "code",
      "execution_count": 130,
      "metadata": {},
      "outputs": [],
      "source": [
        "l = ['france', 'germany']\n",
        "def fun(i):\n",
        "    l = ['usa', 'japan']\n",
        "    l.append('spain')\n",
        "    print(f\"Country: {l[i]}\")\n",
        "fun(0)"
      ],
      "id": "0062961f"
    },
    {
      "cell_type": "code",
      "execution_count": 131,
      "metadata": {},
      "outputs": [],
      "source": [
        "l"
      ],
      "id": "5107f7ef"
    },
    {
      "cell_type": "markdown",
      "metadata": {},
      "source": [
        "In the preceding code block, value of `y` has not been changed by\n",
        "calling the two functions. Check\n",
        "[pythontutor](http://pythontutor.com/visualize.html#code=y%20%3D%201%0Adef%20f%28x%29%3A%0A%20%20%20%20y%20%3D%20x**2%0A%20%20%20%20return%20y%2B1%0Adef%20g%28x%29%3A%0A%20%20%20%20y%20%3D%20x**2%0A%20%20%20%20return%20y%2B1%0Ar1%20%3D%20f%281.4%29%0Ar2%20%3D%20g%281.4%29%0Ar3%20%3D%20y%0A%28r1,r2,r3%29&cumulative=false&curInstr=0&heapPrimitives=nevernest&mode=display&origin=opt-frontend.js&py=3&rawInputLstJSON=%5B%5D&textReferences=false).\n",
        "\n",
        "### Calling conventions\n",
        "\n",
        "Function definitions start with `def` and a colon indentation. Value are\n",
        "returned by `return` keyword. Otherwise the return value is `None`.\n",
        "Functions can have several arguments: `def f(x,y)` but always one return\n",
        "argument. It is however to return a tuple, and “unpack” it."
      ],
      "id": "4e7ba1cd-c993-47ff-84c3-881010bc46db"
    },
    {
      "cell_type": "code",
      "execution_count": 132,
      "metadata": {},
      "outputs": [],
      "source": [
        "def f(x,y):\n",
        "    z1 = x+y\n",
        "    z2 = x-y\n",
        "    return (z1,z2)      # here brackets are optional:  `return z1,z2` works too\n",
        "\n",
        "res = f(0.1, 0.2)\n",
        "t1, t2 = f(0.2, 0.2)     # t1,t2=res works too"
      ],
      "id": "ca5472fe"
    },
    {
      "cell_type": "code",
      "execution_count": 133,
      "metadata": {},
      "outputs": [],
      "source": [
        "res"
      ],
      "id": "4ab36edd"
    },
    {
      "cell_type": "markdown",
      "metadata": {},
      "source": [
        "Named arguments can be passed in any order and receive default values."
      ],
      "id": "dcefad2a-52ae-4c15-8824-b93712da4fa6"
    },
    {
      "cell_type": "code",
      "execution_count": 134,
      "metadata": {},
      "outputs": [],
      "source": [
        "def problem(why=\"The moon shines.\", what=\"Curiosity killed the cat.\", where=\"Paris\"):\n",
        "    print(f\"Is it because {why.lower().strip('.')} that {what.lower().strip('.')}, in {where.strip('.')}?\")"
      ],
      "id": "e0e02431"
    },
    {
      "cell_type": "code",
      "execution_count": 135,
      "metadata": {},
      "outputs": [],
      "source": [
        "problem(where='Paris')"
      ],
      "id": "8a6ec589"
    },
    {
      "cell_type": "code",
      "execution_count": 136,
      "metadata": {},
      "outputs": [],
      "source": [
        "problem(where=\"ESCP\", why=\"Square root of two is irrational\", what=\"Some regressions never work.\")"
      ],
      "id": "959e943a"
    },
    {
      "cell_type": "markdown",
      "metadata": {},
      "source": [
        "Positional arguments and keyword arguments can be combined"
      ],
      "id": "8b0fcb6d-8f81-4722-8612-040f9bf99340"
    },
    {
      "cell_type": "code",
      "execution_count": 137,
      "metadata": {},
      "outputs": [],
      "source": [
        "def f(x, y, β=0.9, γ=4.0, δ=0.1):\n",
        "    return x*β+y**γ*δ"
      ],
      "id": "623d8076"
    },
    {
      "cell_type": "code",
      "execution_count": 138,
      "metadata": {},
      "outputs": [],
      "source": [
        "f(0.1, 0.2)"
      ],
      "id": "520f060f"
    },
    {
      "cell_type": "markdown",
      "metadata": {},
      "source": [
        "### Docstrings\n",
        "\n",
        "Functions are documented with a special string. Documentation It must\n",
        "follow the function signature immediately and explain what arguments are\n",
        "expected and what the function does"
      ],
      "id": "28836ab9-5f64-41fc-b93e-05f1bbc638d0"
    },
    {
      "cell_type": "code",
      "execution_count": 139,
      "metadata": {},
      "outputs": [],
      "source": [
        "def f(x, y, β=0.9, γ=4.0, δ=0.1):   # kjhkugku\n",
        "    \"\"\"Compute the model residuals\n",
        "    \n",
        "    Parameters\n",
        "    ----------\n",
        "    x: (float) marginal propensity to do complicated stuff\n",
        "    y: (float) inverse of the elasticity of bifractional risk-neutral substitution\n",
        "    β: (float) time discount (default 0.9)\n",
        "    γ: (float) time discount (default 4.0)\n",
        "    δ: (float) time discount (default 0.1)\n",
        "    \n",
        "    Result\n",
        "    ------\n",
        "    res: beta-Hadamard measure of cohesiveness\n",
        "    \n",
        "    \"\"\"\n",
        "    res = x*β+y**γ*δ\n",
        "    return res"
      ],
      "id": "9b991109"
    },
    {
      "cell_type": "markdown",
      "metadata": {},
      "source": [
        "Remark: Python 3.6 has introduced type indication for functions. They\n",
        "are useful as an element of indication and potentially for type\n",
        "checking. We do not cover them in this tutorial but this is what they\n",
        "look like:"
      ],
      "id": "46c2f1c3-6cbd-45da-922d-2a2c683d3982"
    },
    {
      "cell_type": "code",
      "execution_count": 140,
      "metadata": {},
      "outputs": [],
      "source": [
        "def f(a: int, b:int)->int:\n",
        "    if a<=1:\n",
        "        return 1\n",
        "    else:\n",
        "        return f(a-1,b) + f(a-2,b)*b"
      ],
      "id": "9f80f543"
    },
    {
      "cell_type": "markdown",
      "metadata": {},
      "source": [
        "------------------------------------------------------------------------\n",
        "\n",
        "### Packing and unpacking\n",
        "\n",
        "A common case is when one wants to pass the elements of an iterable as\n",
        "positional argument and/or the elements of a dictionary as keyword\n",
        "arguments. This is espacially the case, when one wants to determine\n",
        "functions that act on a given calibration. Without unpacking all\n",
        "arguments would need to be passed separately."
      ],
      "id": "142dba4c-b6dc-43ad-8bf3-a503a433c243"
    },
    {
      "cell_type": "code",
      "execution_count": 141,
      "metadata": {},
      "outputs": [],
      "source": [
        "v = (0.1, 0.2)\n",
        "p = dict(β=0.9, γ=4.0, δ=0.1)\n",
        "\n",
        "f(v[0], v[1], β=p['β'], γ=p['γ'], δ=p['δ'])"
      ],
      "id": "e674325b"
    },
    {
      "cell_type": "markdown",
      "metadata": {},
      "source": [
        "There is a special syntax for that: `*` unpacks positional arguments and\n",
        "`**` unpacks keyword arguments. Here is an example:"
      ],
      "id": "a32938b7-3d96-4fb7-9fa9-a7417be786ef"
    },
    {
      "cell_type": "code",
      "execution_count": 142,
      "metadata": {},
      "outputs": [],
      "source": [
        "f(*v, **p)"
      ],
      "id": "6d80d04a"
    },
    {
      "cell_type": "markdown",
      "metadata": {},
      "source": [
        "The same characters `*` and `**` can actually be used for the reverse\n",
        "operation, that is packing. This is useful to determine functions of a\n",
        "variable number of arguments."
      ],
      "id": "b7f53da8-97ed-41e1-befb-1f6616634d98"
    },
    {
      "cell_type": "code",
      "execution_count": 143,
      "metadata": {},
      "outputs": [],
      "source": [
        "def fun(**p):\n",
        "    β = p['β']\n",
        "    return β+1\n",
        "fun(β=1.0)\n",
        "fun(β=1.0, γ=2.0) # γ is just ignored"
      ],
      "id": "fdc75586"
    },
    {
      "cell_type": "markdown",
      "metadata": {},
      "source": [
        "Inside the function, unpacked objects are lists and dictionaries\n",
        "respectively."
      ],
      "id": "5ce88780-ad8f-4bad-8c8f-93add0dbd805"
    },
    {
      "cell_type": "code",
      "execution_count": 144,
      "metadata": {},
      "outputs": [],
      "source": [
        "def fun(*args, **kwargs):\n",
        "    print(f\"Positional arguments: {len(args)}\")\n",
        "    for a in args:\n",
        "        print(f\"- {a}\")\n",
        "    print(f\"Keyword arguments: {len(args)}\")\n",
        "    for key,value in kwargs.items():\n",
        "        print(f\"- {key}: {value}\")"
      ],
      "id": "bd03a672"
    },
    {
      "cell_type": "code",
      "execution_count": 145,
      "metadata": {},
      "outputs": [],
      "source": [
        "fun(0.1, 0.2, a=2, b=3, c=4)"
      ],
      "id": "d4267367"
    },
    {
      "cell_type": "markdown",
      "metadata": {},
      "source": [
        "### Functions are first class objects\n",
        "\n",
        "This means they can be assigned and passed around."
      ],
      "id": "d7f7df90-57f0-4115-a681-caaa73093f36"
    },
    {
      "cell_type": "code",
      "execution_count": 146,
      "metadata": {},
      "outputs": [],
      "source": [
        "def f(x): return 2*x*(1-x)\n",
        "g = f # now `g` and `f` point to the same function\n",
        "g(0.4)"
      ],
      "id": "4445d49d"
    },
    {
      "cell_type": "code",
      "execution_count": 147,
      "metadata": {},
      "outputs": [],
      "source": [
        "def sumsfun(l, f):\n",
        "    return [f(e) for e in l]"
      ],
      "id": "3654a9f1"
    },
    {
      "cell_type": "code",
      "execution_count": 148,
      "metadata": {},
      "outputs": [],
      "source": [
        "sumsfun([0.0, 0.1, 0.2], f)"
      ],
      "id": "331136d8"
    },
    {
      "cell_type": "code",
      "execution_count": 149,
      "metadata": {},
      "outputs": [],
      "source": [
        "def compute_recursive_series(x0, fun, T=50):\n",
        "    a = [x0]\n",
        "    for t in range(T):\n",
        "        x0 = a[-1]\n",
        "        x = fun(x0)\n",
        "        a.append(x)\n",
        "    return a\n",
        "\n",
        "compute_recursive_series(0.3, f, T=5)"
      ],
      "id": "c35f0c81"
    },
    {
      "cell_type": "markdown",
      "metadata": {},
      "source": [
        "There is another syntax to define a function, without giving it a name\n",
        "first: lambda functions. It is useful when passing a function as\n",
        "argument."
      ],
      "id": "be1c57a0-b2ec-43d0-aeda-285dc32d1842"
    },
    {
      "cell_type": "code",
      "execution_count": 150,
      "metadata": {},
      "outputs": [],
      "source": [
        "sorted(range(6), key=lambda x: (-2)**x)"
      ],
      "id": "58d1ddb8"
    },
    {
      "cell_type": "markdown",
      "metadata": {},
      "source": [
        "Lambda functions are also useful to reduce quickly the number of\n",
        "arguments of a function (aka curryfication)"
      ],
      "id": "f878c24a-012a-42b4-ad19-5b3c60c6cf7d"
    },
    {
      "cell_type": "code",
      "execution_count": 151,
      "metadata": {},
      "outputs": [],
      "source": [
        "def logistic(μ,x): return μ*x*(1-x)\n",
        "# def chaotic(x): return logistic(3.7, x)\n",
        "# def convergent(x): return logistic(2.5, x)\n",
        "chaotic = lambda x: logistic(3.7, x)\n",
        "convergent = lambda x: logistic(2.5, x)"
      ],
      "id": "df05b899"
    },
    {
      "cell_type": "code",
      "execution_count": 152,
      "metadata": {},
      "outputs": [],
      "source": [
        "l = [compute_recursive_series(0.3,fun, T=20) for fun in [convergent, chaotic]]\n",
        "[*zip(*l)]"
      ],
      "id": "17fa5de3"
    },
    {
      "cell_type": "code",
      "execution_count": 153,
      "metadata": {},
      "outputs": [],
      "source": [
        "from matplotlib import pyplot as plt\n",
        "import numpy as np\n",
        "tab = np.array(l)\n",
        "plt.plot(tab[0,:-1],tab[0,1:])\n",
        "tab = np.array(l)\n",
        "plt.plot(tab[1,:-1],tab[1,1:])\n",
        "plt.plot(np.linspace(0,1),np.linspace(0,1))\n",
        "plt.xlabel(\"$x_n$\")\n",
        "plt.ylabel(\"$x_{n+1}$\")\n",
        "plt.grid()"
      ],
      "id": "1bd8eab4"
    },
    {
      "cell_type": "markdown",
      "metadata": {},
      "source": [
        "### Functions pass arguments by reference\n",
        "\n",
        "Most of the time, variable affectation just create a reference."
      ],
      "id": "e2ad7945-4506-4b93-beed-a92d90baaac3"
    },
    {
      "cell_type": "code",
      "execution_count": 154,
      "metadata": {},
      "outputs": [],
      "source": [
        "a = [1,2,3]\n",
        "b = a\n",
        "a[1] = 0\n",
        "(a, b)"
      ],
      "id": "ebab3366"
    },
    {
      "cell_type": "markdown",
      "metadata": {},
      "source": [
        "To get a copy instead, one needs to specify it explicitly."
      ],
      "id": "bb27fdef-76b2-4006-a502-a41bcb927d80"
    },
    {
      "cell_type": "code",
      "execution_count": 155,
      "metadata": {},
      "outputs": [],
      "source": [
        "import copy\n",
        "a = [1,2,3]\n",
        "b = copy.copy(a)\n",
        "a[1] = 0\n",
        "(a, b)"
      ],
      "id": "035d37b1"
    },
    {
      "cell_type": "markdown",
      "metadata": {},
      "source": [
        "Not that copy follows only one level of references. Use deepcopy for\n",
        "more safety."
      ],
      "id": "a2cdfcb0-6d52-440a-bd1d-18c7893bd709"
    },
    {
      "cell_type": "code",
      "execution_count": 156,
      "metadata": {},
      "outputs": [],
      "source": [
        "a0 = ['a','b']\n",
        "a = [a0, 1, 2]\n",
        "b = copy.copy(a)\n",
        "a[0][0] = 'ξ'\n",
        "a, b"
      ],
      "id": "9da122d4"
    },
    {
      "cell_type": "code",
      "execution_count": 157,
      "metadata": {},
      "outputs": [],
      "source": [
        "a0 = ['a','b']\n",
        "a = [a0, 1, 2]\n",
        "b = copy.deepcopy(a)\n",
        "a[0][0] = 'ξ'\n",
        "a, b"
      ],
      "id": "c6c54462"
    },
    {
      "cell_type": "markdown",
      "metadata": {},
      "source": [
        "Arguments in a function are references towards the original object. No\n",
        "data is copied. It is then easy to construct functions with\n",
        "side-effects."
      ],
      "id": "6040ec54-8acb-496e-a107-fb087d3583ef"
    },
    {
      "cell_type": "code",
      "execution_count": 158,
      "metadata": {},
      "outputs": [],
      "source": [
        "def append_inplace(l1, obs):\n",
        "    l1.append(obs)\n",
        "    return l1\n",
        "l1, obs = ([1,2,3], 1.5)\n",
        "l2 = append_inplace(l1,obs)\n",
        "print(l2, l1)\n",
        "# note that l1 and l2 point to the same object\n",
        "l1[0] = 'hey'\n",
        "print(l2, l1)"
      ],
      "id": "eb1cf3e9"
    },
    {
      "cell_type": "markdown",
      "metadata": {},
      "source": [
        "This behaviour might feel unnatural but is very sensible. For instance\n",
        "if the argument is a database of several gigabytes and one wants to\n",
        "write a function which will modify a few of its elements, it is not\n",
        "reasonable to copy the db in full.\n",
        "\n",
        "## Objects\n",
        "\n",
        "Objects ?\n",
        "\n",
        "-   can be passed around / referred too\n",
        "-   have properties (data) and methods (functions) attached to them\n",
        "-   inherit properties/methods from other objects\n",
        "\n",
        "Objects are defined by a class definition. By convention, classes names\n",
        "start with uppercase . To create an object, one calls the class name,\n",
        "possibly with additional arguments."
      ],
      "id": "88d0b840-8379-4f70-80ef-b74b9b9a1509"
    },
    {
      "cell_type": "code",
      "execution_count": 159,
      "metadata": {},
      "outputs": [],
      "source": [
        "class Dog:\n",
        "    name = \"May\" # class property\n",
        "\n",
        "d1 = Dog()\n",
        "d2 = Dog()\n",
        "\n",
        "print(f\"Class: d1->{type(d1)}, d2->{type(d2)}\")\n",
        "print(f\"Instance address: d2->{d1},{d2}\")"
      ],
      "id": "30ea0fa4"
    },
    {
      "cell_type": "markdown",
      "metadata": {},
      "source": [
        "Now, `d1` and `d2` are two different instances of the same class `Dog`.\n",
        "Since properties are mutable, instances can have different data attached\n",
        "to it."
      ],
      "id": "053301e6-ebaf-4cc5-8b4e-32b4aa152007"
    },
    {
      "cell_type": "code",
      "execution_count": 160,
      "metadata": {},
      "outputs": [],
      "source": [
        "d1.name = \"Boris\"\n",
        "print([e.name for e in [d1,d2]])"
      ],
      "id": "816e1f4d"
    },
    {
      "cell_type": "markdown",
      "metadata": {},
      "source": [
        "Methods are functions attached to a class / an instance. Their first\n",
        "argument is always an instance. The first argument can be used to acess\n",
        "data held by the instance."
      ],
      "id": "0ea9dca0-0115-492b-9119-48984eeb742a"
    },
    {
      "cell_type": "code",
      "execution_count": 161,
      "metadata": {},
      "outputs": [],
      "source": [
        "class Dog:\n",
        "    name = None # default value\n",
        "    def bark(self):\n",
        "        print(\"Wouf\")\n",
        "    def converse(self):\n",
        "        n = self.name\n",
        "        print(f\"Hi, my name is {n}. I'm committed to a strong and stable government.\")\n",
        "        \n",
        "d = Dog()\n",
        "d.bark()   # bark(d)\n",
        "d.converse()"
      ],
      "id": "3e04cf13"
    },
    {
      "cell_type": "markdown",
      "metadata": {},
      "source": [
        "### Constructor\n",
        "\n",
        "There is also a special method `__init__` called the constructor. When\n",
        "an object is created, it is called on the instance. This is useful in\n",
        "order to initialize parameters of the instance."
      ],
      "id": "39ff0cdb-e979-4ca0-b213-b2398e8d34d2"
    },
    {
      "cell_type": "code",
      "execution_count": 162,
      "metadata": {},
      "outputs": [],
      "source": [
        "class Calibration:\n",
        "    \n",
        "    def __init__(self, x=0.1, y=0.1, β=0.0):\n",
        "        if not (β>0) and (β<1):\n",
        "            raise Exception(\"Incorrect calibration\"})\n",
        "        self.x = x\n",
        "        self.y = y\n",
        "        self.β = β\n"
      ],
      "id": "f86a95ff"
    },
    {
      "cell_type": "code",
      "execution_count": 163,
      "metadata": {},
      "outputs": [],
      "source": [
        "c1 = Calibration()\n",
        "c2 = Calibration(x=3, y=4)"
      ],
      "id": "ff550ba2"
    },
    {
      "cell_type": "markdown",
      "metadata": {},
      "source": [
        "Two instances of the same class have the same method, but can hold\n",
        "different data. This can change the behaviour of these methods."
      ],
      "id": "5248993a-ee2a-4208-b103-96c7d4dd87ec"
    },
    {
      "cell_type": "code",
      "execution_count": 164,
      "metadata": {},
      "outputs": [],
      "source": [
        "# class Dog:\n",
        "    \n",
        "#     state = 'ok'\n",
        "    \n",
        "#     def bark(self):\n",
        "#         if self.state == 'ok':\n",
        "#             print(\"Wouf!\")\n",
        "#         else:\n",
        "#             print(\"Ahouuu!\")\n",
        "        \n",
        "# d = Dog()\n",
        "# d1 = Dog()\n",
        "# d1.state = 'hungry'\n",
        "\n",
        "# d.bark()\n",
        "# d1.bark()"
      ],
      "id": "ce24ac4b"
    },
    {
      "cell_type": "markdown",
      "metadata": {},
      "source": [
        "To write a function which will manipulate properties and methods of an\n",
        "object, it is not required to know its type in advance. The function\n",
        "will succeed as long as the required method exist, fail other wise. This\n",
        "is called “Duck Typing”: if it walks like a duck, it must be a duck…"
      ],
      "id": "68b25a14-6831-4b92-bc30-c0a321ec9144"
    },
    {
      "cell_type": "code",
      "execution_count": 165,
      "metadata": {},
      "outputs": [],
      "source": [
        "class Duck:\n",
        "    def walk(self): print(\"/-\\_/-\\_/\")\n",
        "        \n",
        "class Dog:\n",
        "    def walk(self): print(\"/-\\_/*\\_/\")\n",
        "    def bark(self): print(\"Wouf\")"
      ],
      "id": "a0074a4f"
    },
    {
      "cell_type": "code",
      "execution_count": 166,
      "metadata": {},
      "outputs": [],
      "source": [
        "animals = [C() for C in (Duck,Dog)]\n",
        "def go_in_the_park(animal):\n",
        "    for i in range(3): animal.walk()\n",
        "for a in animals:\n",
        "    go_in_the_park(a)"
      ],
      "id": "c52c4a9b"
    },
    {
      "cell_type": "markdown",
      "metadata": {},
      "source": [
        "#### Inheritance\n",
        "\n",
        "The whole point of classes, is that one can construct hierarchies of\n",
        "classes to avoid redefining the same methods many times. This is done by\n",
        "using inheritance."
      ],
      "id": "d3eccd12-b193-47f4-b858-1e76fc6dec33"
    },
    {
      "cell_type": "code",
      "execution_count": 167,
      "metadata": {},
      "outputs": [],
      "source": [
        "class Animal:\n",
        "    \n",
        "    def run(self): print(\"👣\"*4)\n",
        "\n",
        "class Dog(Animal):\n",
        "    def bark(self): print(\"Wouf\")\n",
        "        \n",
        "class Rabbit(Animal):\n",
        "    def run(self):\n",
        "        super().run() ; print( \"🐇\" )"
      ],
      "id": "93b1d030"
    },
    {
      "cell_type": "code",
      "execution_count": 168,
      "metadata": {},
      "outputs": [],
      "source": [
        "Animal().run()\n",
        "dog = Dog()\n",
        "dog.run()\n",
        "dog.bark()\n",
        "Rabbit().run()"
      ],
      "id": "cebb7199"
    },
    {
      "cell_type": "markdown",
      "metadata": {},
      "source": [
        "In the above example, the Dog class inherits from inherits the method\n",
        "`run` from the Animal class: it doesn’t need to be redefined again.\n",
        "Essentially, when `run(dog)` is called, since the method is not defined\n",
        "for a dog, python looks for the first ancestor of `dog` and applies the\n",
        "method of the ancestor.\n",
        "\n",
        "#### Special methods\n",
        "\n",
        "By conventions methods starting with double lowercase `__` are hidden.\n",
        "They don’t appear in tab completion. Several special methods can be\n",
        "reimplemented that way."
      ],
      "id": "2b86f1b1-d8af-437f-b8e6-bf480333aa40"
    },
    {
      "cell_type": "code",
      "execution_count": 169,
      "metadata": {},
      "outputs": [],
      "source": [
        "class Calibration:\n",
        "    \n",
        "    def __init__(self, x=0.1, y=0.1, β=0.1):\n",
        "        if not (β>0) and (β<1):\n",
        "            raise Exception(\"Incorrect calibration\")\n",
        "        self.x = x\n",
        "        self.y = y\n",
        "        self.β = β\n",
        "    \n",
        "    def __str__(self):\n",
        "        return f\"Calibration(x={self.x},y={self.y}, β={self.β})\""
      ],
      "id": "4bd7c025"
    },
    {
      "cell_type": "code",
      "execution_count": 170,
      "metadata": {},
      "outputs": [],
      "source": [
        "str(Calibration() )"
      ],
      "id": "5aa354fc"
    },
    {
      "cell_type": "markdown",
      "metadata": {},
      "source": [
        "#### complement\n",
        "\n",
        "Python is not 100% object oriented. - some objects cannot be\n",
        "subclassed - basic types behave sometimes funny (interning strings)\n",
        "\n",
        "mindfuck: Something that destabilizes, confuses, or manipulates a\n",
        "person’s mind."
      ],
      "id": "ffee053c-4127-428e-afac-07c1910035fc"
    },
    {
      "cell_type": "code",
      "execution_count": 171,
      "metadata": {},
      "outputs": [],
      "source": [
        "a = 'a'*4192\n",
        "b = 'a'*4192\n",
        "a is b"
      ],
      "id": "b3a60ba0"
    },
    {
      "cell_type": "code",
      "execution_count": 172,
      "metadata": {},
      "outputs": [],
      "source": [
        "a = 'a'*512\n",
        "b = 'a'*512\n",
        "a is b"
      ],
      "id": "85f52209"
    }
  ],
  "nbformat": 4,
  "nbformat_minor": 5,
  "metadata": {
    "kernelspec": {
      "name": "python3",
      "display_name": "Python 3 (ipykernel)",
      "language": "python",
      "path": "/home/pablo/.local/share/jupyter/kernels/python3"
    },
    "language_info": {
      "name": "python",
      "codemirror_mode": {
        "name": "ipython",
        "version": "3"
      },
      "file_extension": ".py",
      "mimetype": "text/x-python",
      "nbconvert_exporter": "python",
      "pygments_lexer": "ipython3",
      "version": "3.11.10"
    }
  }
}