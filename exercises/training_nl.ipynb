{
  "cells": [
    {
      "cell_type": "markdown",
      "metadata": {},
      "source": [
        "# Training a Neural Network\n",
        "\n",
        "## Learning a function\n",
        "\n",
        "Consider the following (pseudo)-function"
      ],
      "id": "d8a1a5e4-d0a2-4468-b6b8-cd7756a6ca7c"
    },
    {
      "cell_type": "code",
      "execution_count": 1,
      "metadata": {},
      "outputs": [],
      "source": [
        "import jax\n",
        "from jax import numpy as jnp\n",
        "\n",
        "def mystery(key):\n",
        "    \n",
        "    key1, key2 = jax.random.split(key)\n",
        "    x = jax.random.uniform(-1,1)\n",
        "    epsilon = jax.random.normal(key2)*0.01 # random nmer\n",
        "    y = jnp.sin(x)/x + epsilon\n",
        "    return (x,y)"
      ],
      "id": "4c46ba84"
    },
    {
      "cell_type": "markdown",
      "metadata": {},
      "source": [
        "The goal is to learn a function representation using a finite (possibly\n",
        "big) number of draws from the function.\n",
        "\n",
        "<span class=\"theorem-title\">**Exercise 1**</span> Draw 100 different\n",
        "values and plot them.\n",
        "\n",
        "<span class=\"theorem-title\">**Exercise 2**</span> Create a neural\n",
        "network using library flax (with the linen API), to predict $y$ from\n",
        "$x$.\n",
        "\n",
        "Initialize it with random weights and plot the initial guess.\n",
        "\n",
        "We will call $\\varphi(x;\\theta)$ the prediction from the neural network\n",
        "for weights $\\theta$."
      ],
      "id": "63ed7c27-e6c5-447e-907a-78a4d39abe32"
    },
    {
      "cell_type": "code",
      "execution_count": 2,
      "metadata": {},
      "outputs": [],
      "source": [
        "#"
      ],
      "id": "5045466b"
    },
    {
      "cell_type": "markdown",
      "metadata": {},
      "source": [
        "<span class=\"theorem-title\">**Exercise 3**</span> Create an objective\n",
        "function $\\xi(key, theta, N)$ for the empirical risk using a minibatch\n",
        "of size $N$."
      ],
      "id": "8d05c049-ad8c-4aa8-b17e-3a2333a7acd4"
    },
    {
      "cell_type": "code",
      "execution_count": 3,
      "metadata": {},
      "outputs": [],
      "source": [
        "#"
      ],
      "id": "f4f7503e"
    },
    {
      "cell_type": "markdown",
      "metadata": {},
      "source": [
        "<span class=\"theorem-title\">**Exercise 4**</span> Compute the gradient\n",
        "of $\\xi$ using jax.\n",
        "\n",
        "<span class=\"theorem-title\">**Exercise 5**</span> Train the neural\n",
        "network, either by hand, or by using Optax. Inspect the result."
      ],
      "id": "96dcbe50-945c-4eb5-bf43-f751b45925c7"
    },
    {
      "cell_type": "code",
      "execution_count": 4,
      "metadata": {},
      "outputs": [],
      "source": [
        "#"
      ],
      "id": "178c5632"
    }
  ],
  "nbformat": 4,
  "nbformat_minor": 5,
  "metadata": {
    "kernelspec": {
      "name": "python3",
      "display_name": "Python 3 (ipykernel)",
      "language": "python",
      "path": "/home/pablo/.local/share/jupyter/kernels/python3"
    },
    "language_info": {
      "name": "python",
      "codemirror_mode": {
        "name": "ipython",
        "version": "3"
      },
      "file_extension": ".py",
      "mimetype": "text/x-python",
      "nbconvert_exporter": "python",
      "pygments_lexer": "ipython3",
      "version": "3.11.10"
    }
  }
}