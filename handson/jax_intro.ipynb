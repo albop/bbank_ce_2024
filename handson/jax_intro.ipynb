{
  "cells": [
    {
      "cell_type": "markdown",
      "metadata": {},
      "source": [
        "# \n",
        "\n",
        "# An Introduction to JAX\n",
        "\n",
        "This notebook (adapted Quantecon) provides a short introduction to\n",
        "[Google JAX](https://github.com/google/jax).\n",
        "\n",
        "## JAX as a NumPy Replacement\n",
        "\n",
        "One way to use JAX is as a plug-in NumPy replacement. Let’s look at the\n",
        "similarities and differences.\n",
        "\n",
        "### Similarities\n",
        "\n",
        "The following import is standard, replacing `import numpy as np`:"
      ],
      "id": "eb030782-e17a-4d50-872a-e810a7715c69"
    },
    {
      "cell_type": "code",
      "execution_count": 1,
      "metadata": {},
      "outputs": [],
      "source": [
        "import jax\n",
        "import jax.numpy as jnp"
      ],
      "id": "9c552b6a"
    },
    {
      "cell_type": "markdown",
      "metadata": {},
      "source": [
        "Now we can use `jnp` in place of `np` for the usual array operations:"
      ],
      "id": "f4b78ad2-c830-445b-a331-0b1f23f71a97"
    },
    {
      "cell_type": "code",
      "execution_count": 2,
      "metadata": {},
      "outputs": [],
      "source": [
        "a = jnp.asarray((1.0, 3.2, -1.5))"
      ],
      "id": "f502b876"
    },
    {
      "cell_type": "code",
      "execution_count": 3,
      "metadata": {},
      "outputs": [
        {
          "output_type": "stream",
          "name": "stdout",
          "text": [
            "[ 1.   3.2 -1.5]"
          ]
        }
      ],
      "source": [
        "print(a)"
      ],
      "id": "95a45a64"
    },
    {
      "cell_type": "code",
      "execution_count": 4,
      "metadata": {},
      "outputs": [
        {
          "output_type": "stream",
          "name": "stdout",
          "text": [
            "2.7"
          ]
        }
      ],
      "source": [
        "print(jnp.sum(a))"
      ],
      "id": "f7dcee8e"
    },
    {
      "cell_type": "code",
      "execution_count": 5,
      "metadata": {},
      "outputs": [
        {
          "output_type": "stream",
          "name": "stdout",
          "text": [
            "0.90000004"
          ]
        }
      ],
      "source": [
        "print(jnp.mean(a))"
      ],
      "id": "dafacaf0"
    },
    {
      "cell_type": "code",
      "execution_count": 6,
      "metadata": {},
      "outputs": [
        {
          "output_type": "stream",
          "name": "stdout",
          "text": [
            "13.490001"
          ]
        }
      ],
      "source": [
        "print(jnp.dot(a, a))"
      ],
      "id": "f6557181"
    },
    {
      "cell_type": "markdown",
      "metadata": {},
      "source": [
        "However, the array object `a` is not a NumPy array:"
      ],
      "id": "5a6cabb7-842c-4c00-9962-34093314b677"
    },
    {
      "cell_type": "code",
      "execution_count": 7,
      "metadata": {},
      "outputs": [
        {
          "output_type": "display_data",
          "metadata": {},
          "data": {
            "text/plain": [
              "Array([ 1. ,  3.2, -1.5], dtype=float32)"
            ]
          }
        }
      ],
      "source": [
        "a"
      ],
      "id": "adaa2506"
    },
    {
      "cell_type": "code",
      "execution_count": 8,
      "metadata": {},
      "outputs": [
        {
          "output_type": "display_data",
          "metadata": {},
          "data": {
            "text/plain": [
              "jaxlib.xla_extension.ArrayImpl"
            ]
          }
        }
      ],
      "source": [
        "type(a)"
      ],
      "id": "b12775b0"
    },
    {
      "cell_type": "markdown",
      "metadata": {},
      "source": [
        "Even scalar-valued maps on arrays return JAX arrays."
      ],
      "id": "0a79e22f-7cb4-4df9-9e5b-213762871131"
    },
    {
      "cell_type": "code",
      "execution_count": 9,
      "metadata": {},
      "outputs": [
        {
          "output_type": "display_data",
          "metadata": {},
          "data": {
            "text/plain": [
              "Array(2.7, dtype=float32)"
            ]
          }
        }
      ],
      "source": [
        "jnp.sum(a)"
      ],
      "id": "d1a38130"
    },
    {
      "cell_type": "markdown",
      "metadata": {},
      "source": [
        "JAX arrays are also called “device arrays,” where term “device” refers\n",
        "to a hardware accelerator (GPU or TPU).\n",
        "\n",
        "(In the terminology of GPUs, the “host” is the machine that launches GPU\n",
        "operations, while the “device” is the GPU itself.)\n",
        "\n",
        "Operations on higher dimensional arrays are also similar to NumPy:"
      ],
      "id": "4595593d-5da4-40eb-bb68-44b2c8be3168"
    },
    {
      "cell_type": "code",
      "execution_count": 10,
      "metadata": {},
      "outputs": [
        {
          "output_type": "display_data",
          "metadata": {},
          "data": {
            "text/plain": [
              "Array([[1., 1.],\n",
              "       [1., 1.]], dtype=float32)"
            ]
          }
        }
      ],
      "source": [
        "A = jnp.ones((2, 2))\n",
        "B = jnp.identity(2)\n",
        "A @ B"
      ],
      "id": "c2e50df2"
    },
    {
      "cell_type": "code",
      "execution_count": 11,
      "metadata": {},
      "outputs": [],
      "source": [
        "from jax.numpy import linalg"
      ],
      "id": "b119c901"
    },
    {
      "cell_type": "code",
      "execution_count": 12,
      "metadata": {},
      "outputs": [
        {
          "output_type": "display_data",
          "metadata": {},
          "data": {
            "text/plain": [
              "Array([[1., 0.],\n",
              "       [0., 1.]], dtype=float32)"
            ]
          }
        }
      ],
      "source": [
        "linalg.inv(B)   # Inverse of identity is identity"
      ],
      "id": "6197acc3"
    },
    {
      "cell_type": "code",
      "execution_count": 13,
      "metadata": {},
      "outputs": [
        {
          "output_type": "display_data",
          "metadata": {},
          "data": {
            "text/plain": [
              "EighResult(eigenvalues=Array([1., 1.], dtype=float32), eigenvectors=Array([[1., 0.],\n",
              "       [0., 1.]], dtype=float32))"
            ]
          }
        }
      ],
      "source": [
        "linalg.eigh(B)  # Computes eigenvalues and eigenvectors"
      ],
      "id": "73315773"
    },
    {
      "cell_type": "markdown",
      "metadata": {},
      "source": [
        "### Differences\n",
        "\n",
        "One difference between NumPy and JAX is that JAX currently uses 32 bit\n",
        "floats by default.\n",
        "\n",
        "This is standard for GPU computing and can lead to significant speed\n",
        "gains with small loss of precision.\n",
        "\n",
        "However, for some calculations precision matters. In these cases 64 bit\n",
        "floats can be enforced via the command"
      ],
      "id": "421348b3-e177-4483-b907-248e548a9d9a"
    },
    {
      "cell_type": "code",
      "execution_count": 14,
      "metadata": {},
      "outputs": [],
      "source": [
        "jax.config.update(\"jax_enable_x64\", True)"
      ],
      "id": "615ee69e"
    },
    {
      "cell_type": "markdown",
      "metadata": {},
      "source": [
        "Let’s check this works:"
      ],
      "id": "128ba87f-4ba7-4e80-90e9-cc57d2b17f19"
    },
    {
      "cell_type": "code",
      "execution_count": 15,
      "metadata": {},
      "outputs": [
        {
          "output_type": "display_data",
          "metadata": {},
          "data": {
            "text/plain": [
              "Array([1., 1., 1.], dtype=float64)"
            ]
          }
        }
      ],
      "source": [
        "jnp.ones(3)"
      ],
      "id": "1eadf6ed"
    },
    {
      "cell_type": "markdown",
      "metadata": {},
      "source": [
        "As a NumPy replacement, a more significant difference is that arrays are\n",
        "treated as **immutable**.\n",
        "\n",
        "For example, with NumPy we can write"
      ],
      "id": "85b8b160-62a3-4851-a3c4-e60ba68a9623"
    },
    {
      "cell_type": "code",
      "execution_count": 16,
      "metadata": {},
      "outputs": [
        {
          "output_type": "display_data",
          "metadata": {},
          "data": {
            "text/plain": [
              "array([0. , 0.5, 1. ])"
            ]
          }
        }
      ],
      "source": [
        "import numpy as np\n",
        "a = np.linspace(0, 1, 3)\n",
        "a"
      ],
      "id": "ab41edd5"
    },
    {
      "cell_type": "markdown",
      "metadata": {},
      "source": [
        "and then mutate the data in memory:"
      ],
      "id": "f7adbb49-2647-403d-8f18-2f7aeecfe1ad"
    },
    {
      "cell_type": "code",
      "execution_count": 17,
      "metadata": {},
      "outputs": [
        {
          "output_type": "display_data",
          "metadata": {},
          "data": {
            "text/plain": [
              "array([1. , 0.5, 1. ])"
            ]
          }
        }
      ],
      "source": [
        "a[0] = 1\n",
        "a"
      ],
      "id": "1df3dd96"
    },
    {
      "cell_type": "markdown",
      "metadata": {},
      "source": [
        "In JAX this fails:"
      ],
      "id": "a7d80d35-b0a1-434d-b7c1-28ddcbc80adf"
    },
    {
      "cell_type": "code",
      "execution_count": 18,
      "metadata": {},
      "outputs": [
        {
          "output_type": "display_data",
          "metadata": {},
          "data": {
            "text/plain": [
              "Array([0. , 0.5, 1. ], dtype=float64)"
            ]
          }
        }
      ],
      "source": [
        "a = jnp.linspace(0, 1, 3)\n",
        "a"
      ],
      "id": "1d7a610c"
    },
    {
      "cell_type": "code",
      "execution_count": 19,
      "metadata": {},
      "outputs": [],
      "source": [
        "# a[0] = 1"
      ],
      "id": "8dfb6bd0"
    },
    {
      "cell_type": "markdown",
      "metadata": {},
      "source": [
        "In line with immutability, JAX does not support inplace operations:"
      ],
      "id": "3ec20c0f-63a9-4fa6-8369-16806c2b9725"
    },
    {
      "cell_type": "code",
      "execution_count": 20,
      "metadata": {},
      "outputs": [
        {
          "output_type": "display_data",
          "metadata": {},
          "data": {
            "text/plain": [
              "array([1, 2])"
            ]
          }
        }
      ],
      "source": [
        "a = np.array((2, 1))\n",
        "a.sort()\n",
        "a"
      ],
      "id": "82ee19ee"
    },
    {
      "cell_type": "code",
      "execution_count": 21,
      "metadata": {},
      "outputs": [
        {
          "output_type": "display_data",
          "metadata": {},
          "data": {
            "text/plain": [
              "(Array([2, 1], dtype=int64), Array([1, 2], dtype=int64))"
            ]
          }
        }
      ],
      "source": [
        "a = jnp.array((2, 1))\n",
        "a_new = a.sort()\n",
        "a, a_new"
      ],
      "id": "2e13d4ca"
    },
    {
      "cell_type": "markdown",
      "metadata": {},
      "source": [
        "The designers of JAX chose to make arrays immutable because JAX uses a\n",
        "functional programming style. More on this below.\n",
        "\n",
        "Note that, while mutation is discouraged, it is in fact possible with\n",
        "`at`, as in"
      ],
      "id": "2239e944-7857-413f-a8fd-0ed11170ddb4"
    },
    {
      "cell_type": "code",
      "execution_count": 22,
      "metadata": {},
      "outputs": [
        {
          "output_type": "display_data",
          "metadata": {},
          "data": {
            "text/plain": [
              "95622441353616"
            ]
          }
        }
      ],
      "source": [
        "a = jnp.linspace(0, 1, 3)\n",
        "id(a)"
      ],
      "id": "a156486f"
    },
    {
      "cell_type": "code",
      "execution_count": 23,
      "metadata": {},
      "outputs": [
        {
          "output_type": "display_data",
          "metadata": {},
          "data": {
            "text/plain": [
              "Array([0. , 0.5, 1. ], dtype=float64)"
            ]
          }
        }
      ],
      "source": [
        "a"
      ],
      "id": "3bfaee46"
    },
    {
      "cell_type": "code",
      "execution_count": 24,
      "metadata": {},
      "outputs": [
        {
          "output_type": "display_data",
          "metadata": {},
          "data": {
            "text/plain": [
              "Array([1. , 0.5, 1. ], dtype=float64)"
            ]
          }
        }
      ],
      "source": [
        "a.at[0].set(1)"
      ],
      "id": "db6c2957"
    },
    {
      "cell_type": "markdown",
      "metadata": {},
      "source": [
        "We can check that the array is mutated by verifying its identity is\n",
        "unchanged:"
      ],
      "id": "d960f103-5426-4937-ab4f-f92018ae221d"
    },
    {
      "cell_type": "code",
      "execution_count": 25,
      "metadata": {},
      "outputs": [
        {
          "output_type": "display_data",
          "metadata": {},
          "data": {
            "text/plain": [
              "95622441353616"
            ]
          }
        }
      ],
      "source": [
        "id(a)"
      ],
      "id": "987d7370"
    },
    {
      "cell_type": "markdown",
      "metadata": {},
      "source": [
        "## Random Numbers\n",
        "\n",
        "Random numbers are also a bit different in JAX, relative to NumPy.\n",
        "Typically, in JAX, the state of the random number generator needs to be\n",
        "controlled explicitly."
      ],
      "id": "ae30fb1b-0a56-42c1-a08e-8dff0ed9c41d"
    },
    {
      "cell_type": "code",
      "execution_count": 26,
      "metadata": {},
      "outputs": [],
      "source": [
        "import jax.random as random"
      ],
      "id": "de76ddd6"
    },
    {
      "cell_type": "markdown",
      "metadata": {},
      "source": [
        "First we produce a key, which seeds the random number generator."
      ],
      "id": "1bd35e6c-23b9-44ab-b99c-33862ee9f38a"
    },
    {
      "cell_type": "code",
      "execution_count": 27,
      "metadata": {},
      "outputs": [],
      "source": [
        "key = random.PRNGKey(1)"
      ],
      "id": "167a485c"
    },
    {
      "cell_type": "code",
      "execution_count": 28,
      "metadata": {},
      "outputs": [
        {
          "output_type": "display_data",
          "metadata": {},
          "data": {
            "text/plain": [
              "jaxlib.xla_extension.ArrayImpl"
            ]
          }
        }
      ],
      "source": [
        "type(key)"
      ],
      "id": "516d11b5"
    },
    {
      "cell_type": "code",
      "execution_count": 29,
      "metadata": {},
      "outputs": [
        {
          "output_type": "stream",
          "name": "stdout",
          "text": [
            "[0 1]"
          ]
        }
      ],
      "source": [
        "print(key)"
      ],
      "id": "e0f9e4e6"
    },
    {
      "cell_type": "markdown",
      "metadata": {},
      "source": [
        "Now we can use the key to generate some random numbers:"
      ],
      "id": "21686331-1a3d-4e39-8ddc-20f8ede07bce"
    },
    {
      "cell_type": "code",
      "execution_count": 30,
      "metadata": {},
      "outputs": [
        {
          "output_type": "display_data",
          "metadata": {},
          "data": {
            "text/plain": [
              "Array([[-1.35247421, -0.2712502 , -0.02920518],\n",
              "       [ 0.34706456,  0.5464053 , -1.52325812],\n",
              "       [ 0.41677264, -0.59710138, -0.5678208 ]], dtype=float64)"
            ]
          }
        }
      ],
      "source": [
        "x = random.normal(key, (3, 3))\n",
        "x"
      ],
      "id": "55b316a8"
    },
    {
      "cell_type": "markdown",
      "metadata": {},
      "source": [
        "If we use the same key again, we initialize at the same seed, so the\n",
        "random numbers are the same:"
      ],
      "id": "15699719-6360-4077-b3ea-3c2fd5824221"
    },
    {
      "cell_type": "code",
      "execution_count": 31,
      "metadata": {},
      "outputs": [
        {
          "output_type": "display_data",
          "metadata": {},
          "data": {
            "text/plain": [
              "Array([[-1.35247421, -0.2712502 , -0.02920518],\n",
              "       [ 0.34706456,  0.5464053 , -1.52325812],\n",
              "       [ 0.41677264, -0.59710138, -0.5678208 ]], dtype=float64)"
            ]
          }
        }
      ],
      "source": [
        "random.normal(key, (3, 3))"
      ],
      "id": "a85c31fc"
    },
    {
      "cell_type": "markdown",
      "metadata": {},
      "source": [
        "To produce a (quasi-) independent draw, best practice is to “split” the\n",
        "existing key:"
      ],
      "id": "5bb8ef52-2cd2-4850-b383-65236627cecf"
    },
    {
      "cell_type": "code",
      "execution_count": 32,
      "metadata": {},
      "outputs": [],
      "source": [
        "key, subkey = random.split(key)"
      ],
      "id": "700a6d96"
    },
    {
      "cell_type": "code",
      "execution_count": 33,
      "metadata": {},
      "outputs": [
        {
          "output_type": "display_data",
          "metadata": {},
          "data": {
            "text/plain": [
              "Array([[ 1.85374374, -0.37683949, -0.61276867],\n",
              "       [-1.91829718,  0.27219409,  0.54922246],\n",
              "       [ 0.40451442, -0.58726839, -0.63967753]], dtype=float64)"
            ]
          }
        }
      ],
      "source": [
        "random.normal(key, (3, 3))"
      ],
      "id": "47808f98"
    },
    {
      "cell_type": "code",
      "execution_count": 34,
      "metadata": {},
      "outputs": [
        {
          "output_type": "display_data",
          "metadata": {},
          "data": {
            "text/plain": [
              "Array([[-0.4300635 ,  0.22778552,  0.57241269],\n",
              "       [-0.15969178,  0.46719192,  0.21165091],\n",
              "       [ 0.84118631,  1.18671326, -0.16607783]], dtype=float64)"
            ]
          }
        }
      ],
      "source": [
        "random.normal(subkey, (3, 3))"
      ],
      "id": "fe869be7"
    },
    {
      "cell_type": "markdown",
      "metadata": {},
      "source": [
        "The function below produces `k` (quasi-) independent random `n x n`\n",
        "matrices using this procedure."
      ],
      "id": "30bddeb6-a404-40f8-9309-6e5112b25b2f"
    },
    {
      "cell_type": "code",
      "execution_count": 35,
      "metadata": {},
      "outputs": [],
      "source": [
        "def gen_random_matrices(key, n, k):\n",
        "    matrices = []\n",
        "    for _ in range(k):\n",
        "        key, subkey = random.split(key)\n",
        "        matrices.append(random.uniform(subkey, (n, n)))\n",
        "    return matrices"
      ],
      "id": "7514f00d"
    },
    {
      "cell_type": "code",
      "execution_count": 36,
      "metadata": {},
      "outputs": [
        {
          "output_type": "stream",
          "name": "stdout",
          "text": [
            "[[0.97440813 0.3838544 ]\n",
            " [0.9790686  0.99981046]]\n",
            "[[0.3473302  0.17157842]\n",
            " [0.89346686 0.01403153]]"
          ]
        }
      ],
      "source": [
        "matrices = gen_random_matrices(key, 2, 2)\n",
        "for A in matrices:\n",
        "    print(A)"
      ],
      "id": "36712f4a"
    },
    {
      "cell_type": "markdown",
      "metadata": {},
      "source": [
        "One point to remember is that JAX expects tuples to describe array\n",
        "shapes, even for flat arrays. Hence, to get a one-dimensional array of\n",
        "normal random draws we use `(len, )` for the shape, as in"
      ],
      "id": "b63ab9e6-0a3e-4c2d-9dd1-7012896ea1d9"
    },
    {
      "cell_type": "code",
      "execution_count": 37,
      "metadata": {},
      "outputs": [
        {
          "output_type": "display_data",
          "metadata": {},
          "data": {
            "text/plain": [
              "Array([-0.64377279,  0.76961857, -0.29809604,  0.47858776, -2.00591299],      dtype=float64)"
            ]
          }
        }
      ],
      "source": [
        "random.normal(key, (5, ))"
      ],
      "id": "51d6e5b9"
    },
    {
      "cell_type": "markdown",
      "metadata": {},
      "source": [
        "## JIT compilation\n",
        "\n",
        "The JAX just-in-time (JIT) compiler accelerates logic within functions\n",
        "by fusing linear algebra operations into a single optimized kernel that\n",
        "the host can launch on the GPU / TPU (or CPU if no accelerator is\n",
        "detected).\n",
        "\n",
        "### A first example\n",
        "\n",
        "To see the JIT compiler in action, consider the following function."
      ],
      "id": "0b1ed13e-d947-4753-be5f-50cdf43c1bb0"
    },
    {
      "cell_type": "code",
      "execution_count": 38,
      "metadata": {},
      "outputs": [],
      "source": [
        "def f(x):\n",
        "    a = 3*x + jnp.sin(x) + jnp.cos(x**2) - jnp.cos(2*x) - x**2 * 0.4 * x**1.5\n",
        "    return jnp.sum(a)"
      ],
      "id": "f6de0868"
    },
    {
      "cell_type": "markdown",
      "metadata": {},
      "source": [
        "Let’s build an array to call the function on."
      ],
      "id": "8b027329-d3f6-46d0-b494-024fb03f6ccc"
    },
    {
      "cell_type": "code",
      "execution_count": 39,
      "metadata": {},
      "outputs": [],
      "source": [
        "n = 50_000_000\n",
        "x = jnp.ones(n)"
      ],
      "id": "522ecd3d"
    },
    {
      "cell_type": "markdown",
      "metadata": {},
      "source": [
        "How long does the function take to execute?"
      ],
      "id": "ffa7e605-8fa5-476f-b7b8-1444bd04ed40"
    },
    {
      "cell_type": "code",
      "execution_count": 40,
      "metadata": {},
      "outputs": [
        {
          "output_type": "stream",
          "name": "stdout",
          "text": [
            "CPU times: user 5.16 s, sys: 4.54 s, total: 9.69 s\n",
            "Wall time: 3.02 s"
          ]
        },
        {
          "output_type": "display_data",
          "metadata": {},
          "data": {
            "text/plain": [
              "Array(2.19896006e+08, dtype=float64)"
            ]
          }
        }
      ],
      "source": [
        "%time f(x).block_until_ready()"
      ],
      "id": "0b86981b"
    },
    {
      "cell_type": "markdown",
      "metadata": {},
      "source": [
        "``` {note}\n",
        "Here, in order to measure actual speed, we use the `block_until_ready()` method \n",
        "to hold the interpreter until the results of the computation are returned from\n",
        "the device. This is necessary because JAX uses asynchronous dispatch, which\n",
        "allows the Python interpreter to run ahead of GPU computations.\n",
        "```\n",
        "\n",
        "The code doesn’t run as fast as we might hope, given that it’s running\n",
        "on a GPU.\n",
        "\n",
        "But if we run it a second time it becomes much faster:"
      ],
      "id": "4fec99c4-e8bf-42ec-b276-d757ca0eed33"
    },
    {
      "cell_type": "code",
      "execution_count": 41,
      "metadata": {},
      "outputs": [
        {
          "output_type": "stream",
          "name": "stdout",
          "text": [
            "CPU times: user 5.31 s, sys: 4.89 s, total: 10.2 s\n",
            "Wall time: 2.91 s"
          ]
        },
        {
          "output_type": "display_data",
          "metadata": {},
          "data": {
            "text/plain": [
              "Array(2.19896006e+08, dtype=float64)"
            ]
          }
        }
      ],
      "source": [
        "%time f(x).block_until_ready()"
      ],
      "id": "780f3f52"
    },
    {
      "cell_type": "markdown",
      "metadata": {},
      "source": [
        "This is because the built in functions like `jnp.cos` are JIT compiled\n",
        "and the first run includes compile time.\n",
        "\n",
        "Why would JAX want to JIT-compile built in functions like `jnp.cos`\n",
        "instead of just providing pre-compiled versions, like NumPy?\n",
        "\n",
        "The reason is that the JIT compiler can specialize on the *size* of the\n",
        "array being used, which is helpful for parallelization.\n",
        "\n",
        "For example, in running the code above, the JIT compiler produced a\n",
        "version of `jnp.cos` that is specialized to floating point arrays of\n",
        "size `n = 50_000_000`.\n",
        "\n",
        "We can check this by calling `f` with a new array of different size."
      ],
      "id": "c487f602-6dc3-47b7-b56b-87076f79ae49"
    },
    {
      "cell_type": "code",
      "execution_count": 42,
      "metadata": {},
      "outputs": [],
      "source": [
        "m = 50_000_001\n",
        "y = jnp.ones(m)"
      ],
      "id": "e82f91f9"
    },
    {
      "cell_type": "code",
      "execution_count": 43,
      "metadata": {},
      "outputs": [
        {
          "output_type": "stream",
          "name": "stdout",
          "text": [
            "CPU times: user 5.24 s, sys: 4.46 s, total: 9.7 s\n",
            "Wall time: 3.07 s"
          ]
        },
        {
          "output_type": "display_data",
          "metadata": {},
          "data": {
            "text/plain": [
              "Array(2.19896011e+08, dtype=float64)"
            ]
          }
        }
      ],
      "source": [
        "%time f(y).block_until_ready()"
      ],
      "id": "5e48f75c"
    },
    {
      "cell_type": "markdown",
      "metadata": {},
      "source": [
        "Notice that the execution time increases, because now new versions of\n",
        "the built-ins like `jnp.cos` are being compiled, specialized to the new\n",
        "array size.\n",
        "\n",
        "If we run again, the code is dispatched to the correct compiled version\n",
        "and we get faster execution."
      ],
      "id": "806eb5f6-c72c-4aea-b8b5-517675472b9b"
    },
    {
      "cell_type": "code",
      "execution_count": 44,
      "metadata": {},
      "outputs": [
        {
          "output_type": "stream",
          "name": "stdout",
          "text": [
            "CPU times: user 5.06 s, sys: 4.85 s, total: 9.91 s\n",
            "Wall time: 2.73 s"
          ]
        },
        {
          "output_type": "display_data",
          "metadata": {},
          "data": {
            "text/plain": [
              "Array(2.19896011e+08, dtype=float64)"
            ]
          }
        }
      ],
      "source": [
        "%time f(y).block_until_ready()"
      ],
      "id": "ad70c877"
    },
    {
      "cell_type": "markdown",
      "metadata": {},
      "source": [
        "The compiled versions for the previous array size are still available in\n",
        "memory too, and the following call is dispatched to the correct compiled\n",
        "code."
      ],
      "id": "d15a2d18-481c-44c7-b058-b6717d39b0b1"
    },
    {
      "cell_type": "code",
      "execution_count": 45,
      "metadata": {},
      "outputs": [
        {
          "output_type": "stream",
          "name": "stdout",
          "text": [
            "CPU times: user 5.79 s, sys: 5.51 s, total: 11.3 s\n",
            "Wall time: 3.13 s"
          ]
        },
        {
          "output_type": "display_data",
          "metadata": {},
          "data": {
            "text/plain": [
              "Array(2.19896006e+08, dtype=float64)"
            ]
          }
        }
      ],
      "source": [
        "%time f(x).block_until_ready()"
      ],
      "id": "482d9c75"
    },
    {
      "cell_type": "markdown",
      "metadata": {},
      "source": [
        "### Compiling the outer function\n",
        "\n",
        "We can do even better if we manually JIT-compile the outer function."
      ],
      "id": "1a23a276-091f-4ed7-b67b-c33eaceadb4a"
    },
    {
      "cell_type": "code",
      "execution_count": 46,
      "metadata": {},
      "outputs": [],
      "source": [
        "f_jit = jax.jit(f)   # target for JIT compilation"
      ],
      "id": "a5dcf7a5"
    },
    {
      "cell_type": "markdown",
      "metadata": {},
      "source": [
        "Let’s run once to compile it:"
      ],
      "id": "b03c31c3-8a36-420a-a596-8b2b17ce8aa5"
    },
    {
      "cell_type": "code",
      "execution_count": 47,
      "metadata": {},
      "outputs": [
        {
          "output_type": "display_data",
          "metadata": {},
          "data": {
            "text/plain": [
              "Array(2.19896006e+08, dtype=float64)"
            ]
          }
        }
      ],
      "source": [
        "f_jit(x)"
      ],
      "id": "423ee2c2"
    },
    {
      "cell_type": "markdown",
      "metadata": {},
      "source": [
        "And now let’s time it."
      ],
      "id": "7de9f190-fb10-4059-9d14-1b972740cf8e"
    },
    {
      "cell_type": "code",
      "execution_count": 48,
      "metadata": {},
      "outputs": [
        {
          "output_type": "stream",
          "name": "stdout",
          "text": [
            "CPU times: user 4.9 s, sys: 410 ms, total: 5.31 s\n",
            "Wall time: 1.29 s"
          ]
        },
        {
          "output_type": "display_data",
          "metadata": {},
          "data": {
            "text/plain": [
              "Array(2.19896006e+08, dtype=float64)"
            ]
          }
        }
      ],
      "source": [
        "%time f_jit(x).block_until_ready()"
      ],
      "id": "55d8b298"
    },
    {
      "cell_type": "markdown",
      "metadata": {},
      "source": [
        "Note the speed gain.\n",
        "\n",
        "This is because the array operations are fused and no intermediate\n",
        "arrays are created.\n",
        "\n",
        "Incidentally, a more common syntax when targetting a function for the\n",
        "JIT compiler is"
      ],
      "id": "2f4ed445-9977-4bef-9769-2f8e1718b43c"
    },
    {
      "cell_type": "code",
      "execution_count": 49,
      "metadata": {},
      "outputs": [],
      "source": [
        "@jax.jit\n",
        "def f(x):\n",
        "    a = 3*x + jnp.sin(x) + jnp.cos(x**2) - jnp.cos(2*x) - x**2 * 0.4 * x**1.5\n",
        "    return jnp.sum(a)"
      ],
      "id": "c7c0525b"
    },
    {
      "cell_type": "markdown",
      "metadata": {},
      "source": [
        "## Functional Programming\n",
        "\n",
        "From JAX’s documentation:\n",
        "\n",
        "*When walking about the countryside of Italy, the people will not\n",
        "hesitate to tell you that JAX has “una anima di pura programmazione\n",
        "funzionale”.*\n",
        "\n",
        "In other words, JAX assumes a functional programming style.\n",
        "\n",
        "The major implication is that JAX functions should be pure.\n",
        "\n",
        "A pure function will always return the same result if invoked with the\n",
        "same inputs.\n",
        "\n",
        "In particular, a pure function has\n",
        "\n",
        "-   no dependence on global variables and\n",
        "-   no side effects\n",
        "\n",
        "JAX will not usually throw errors when compiling impure functions but\n",
        "execution becomes unpredictable.\n",
        "\n",
        "Here’s an illustration of this fact, using global variables:"
      ],
      "id": "364a9f65-4d17-400a-b5cd-f9c5af76d3f4"
    },
    {
      "cell_type": "code",
      "execution_count": 50,
      "metadata": {},
      "outputs": [],
      "source": [
        "a = 1  # global\n",
        "\n",
        "@jax.jit\n",
        "def f(x):\n",
        "    return a + x"
      ],
      "id": "9358be5e"
    },
    {
      "cell_type": "code",
      "execution_count": 51,
      "metadata": {},
      "outputs": [],
      "source": [
        "x = jnp.ones(2)"
      ],
      "id": "4dcc4901"
    },
    {
      "cell_type": "code",
      "execution_count": 52,
      "metadata": {},
      "outputs": [
        {
          "output_type": "display_data",
          "metadata": {},
          "data": {
            "text/plain": [
              "Array([2., 2.], dtype=float64)"
            ]
          }
        }
      ],
      "source": [
        "f(x)"
      ],
      "id": "7166ae2c"
    },
    {
      "cell_type": "markdown",
      "metadata": {},
      "source": [
        "In the code above, the global value `a=1` is fused into the jitted\n",
        "function.\n",
        "\n",
        "Even if we change `a`, the output of `f` will not be affected — as long\n",
        "as the same compiled version is called."
      ],
      "id": "f7458bb3-9cac-4d64-8f98-f4dd99d5136e"
    },
    {
      "cell_type": "code",
      "execution_count": 53,
      "metadata": {},
      "outputs": [],
      "source": [
        "a = 42"
      ],
      "id": "ea52c87e"
    },
    {
      "cell_type": "code",
      "execution_count": 54,
      "metadata": {},
      "outputs": [
        {
          "output_type": "display_data",
          "metadata": {},
          "data": {
            "text/plain": [
              "Array([2., 2.], dtype=float64)"
            ]
          }
        }
      ],
      "source": [
        "f(x)"
      ],
      "id": "2e40f26c"
    },
    {
      "cell_type": "markdown",
      "metadata": {},
      "source": [
        "Changing the dimension of the input triggers a fresh compilation of the\n",
        "function, at which time the change in the value of `a` takes effect:"
      ],
      "id": "a2dbbb69-5919-4dfd-bc4e-c391f687b2b7"
    },
    {
      "cell_type": "code",
      "execution_count": 55,
      "metadata": {},
      "outputs": [],
      "source": [
        "x = jnp.ones(3)"
      ],
      "id": "ab9851da"
    },
    {
      "cell_type": "code",
      "execution_count": 56,
      "metadata": {},
      "outputs": [
        {
          "output_type": "display_data",
          "metadata": {},
          "data": {
            "text/plain": [
              "Array([43., 43., 43.], dtype=float64)"
            ]
          }
        }
      ],
      "source": [
        "f(x)"
      ],
      "id": "c5e7a13f"
    },
    {
      "cell_type": "markdown",
      "metadata": {},
      "source": [
        "Moral of the story: write pure functions when using JAX!\n",
        "\n",
        "## Gradients\n",
        "\n",
        "JAX can use automatic differentiation to compute gradients.\n",
        "\n",
        "This can be extremely useful for optimization and solving nonlinear\n",
        "systems.\n",
        "\n",
        "We will see significant applications later in this lecture series.\n",
        "\n",
        "For now, here’s a very simple illustration involving the function"
      ],
      "id": "15066812-a03e-4465-bf71-8e5c4e7f653a"
    },
    {
      "cell_type": "code",
      "execution_count": 57,
      "metadata": {},
      "outputs": [],
      "source": [
        "def f(x):\n",
        "    return (x**2) / 2"
      ],
      "id": "2ad3e46a"
    },
    {
      "cell_type": "markdown",
      "metadata": {},
      "source": [
        "Let’s take the derivative:"
      ],
      "id": "4510a1de-5a95-4273-9039-da54ad306e08"
    },
    {
      "cell_type": "code",
      "execution_count": 58,
      "metadata": {},
      "outputs": [],
      "source": [
        "f_prime = jax.grad(f)"
      ],
      "id": "2e55de94"
    },
    {
      "cell_type": "code",
      "execution_count": 59,
      "metadata": {},
      "outputs": [
        {
          "output_type": "display_data",
          "metadata": {},
          "data": {
            "text/plain": [
              "Array(10., dtype=float64, weak_type=True)"
            ]
          }
        }
      ],
      "source": [
        "f_prime(10.0)"
      ],
      "id": "ea2f817d"
    },
    {
      "cell_type": "markdown",
      "metadata": {},
      "source": [
        "Let’s plot the function and derivative, noting that $f'(x) = x$."
      ],
      "id": "f45ce24d-2bdf-4810-8fca-1e911aacc6a3"
    },
    {
      "cell_type": "code",
      "execution_count": 60,
      "metadata": {},
      "outputs": [
        {
          "output_type": "display_data",
          "metadata": {},
          "data": {
            "image/png": "[encoded data removed]"
          }
        }
      ],
      "source": [
        "import matplotlib.pyplot as plt\n",
        "\n",
        "fig, ax = plt.subplots()\n",
        "x_grid = jnp.linspace(-4, 4, 200)\n",
        "ax.plot(x_grid, f(x_grid), label=\"$f$\")\n",
        "ax.plot(x_grid, [f_prime(x) for x in x_grid], label=\"$f'$\")\n",
        "ax.legend(loc='upper center')\n",
        "plt.show()"
      ],
      "id": "aebcb8eb"
    },
    {
      "cell_type": "markdown",
      "metadata": {},
      "source": [
        "We defer further exploration of automatic differentiation with JAX until\n",
        "{doc}`autodiff`.\n",
        "\n",
        "## Writing vectorized code\n",
        "\n",
        "Writing fast JAX code requires shifting repetitive tasks from loops to\n",
        "array processing operations, so that the JAX compiler can easily\n",
        "understand the whole operation and generate more efficient machine code.\n",
        "\n",
        "This procedure is called **vectorization** or **array programming**, and\n",
        "will be familiar to anyone who has used NumPy or MATLAB.\n",
        "\n",
        "In most ways, vectorization is the same in JAX as it is in NumPy.\n",
        "\n",
        "But there are also some differences, which we highlight here.\n",
        "\n",
        "As a running example, consider the function\n",
        "\n",
        "$$\n",
        "    f(x,y) = \\frac{\\cos(x^2 + y^2)}{1 + x^2 + y^2}\n",
        "$$\n",
        "\n",
        "Suppose that we want to evaluate this function on a square grid of $x$\n",
        "and $y$ points and then plot it.\n",
        "\n",
        "To clarify, here is the slow `for` loop version."
      ],
      "id": "533395a3-96d1-45f6-a6a2-4424af42376d"
    },
    {
      "cell_type": "code",
      "execution_count": 61,
      "metadata": {},
      "outputs": [],
      "source": [
        "@jax.jit\n",
        "def f(x, y):\n",
        "    return jnp.cos(x**2 + y**2) / (1 + x**2 + y**2)\n",
        "\n",
        "n = 80\n",
        "x = jnp.linspace(-2, 2, n)\n",
        "y = x\n",
        "\n",
        "z_loops = np.empty((n, n))"
      ],
      "id": "7dc2c823"
    },
    {
      "cell_type": "code",
      "execution_count": 62,
      "metadata": {},
      "outputs": [
        {
          "output_type": "stream",
          "name": "stdout",
          "text": [
            "CPU times: user 1.62 s, sys: 1.84 ms, total: 1.62 s\n",
            "Wall time: 1.62 s"
          ]
        }
      ],
      "source": [
        "%%time\n",
        "for i in range(n):\n",
        "    for j in range(n):\n",
        "        z_loops[i, j] = f(x[i], y[j])"
      ],
      "id": "03f69526"
    },
    {
      "cell_type": "markdown",
      "metadata": {},
      "source": [
        "Even for this very small grid, the run time is extremely slow.\n",
        "\n",
        "(Notice that we used a NumPy array for `z_loops` because we wanted to\n",
        "write to it.)\n",
        "\n",
        "  \n",
        "\n",
        "OK, so how can we do the same operation in vectorized form?\n",
        "\n",
        "If you are new to vectorization, you might guess that we can simply\n",
        "write"
      ],
      "id": "c79a5e68-ba87-4c74-90ee-986f6e72441c"
    },
    {
      "cell_type": "code",
      "execution_count": 63,
      "metadata": {},
      "outputs": [],
      "source": [
        "z_bad = f(x, y)"
      ],
      "id": "96c846c6"
    },
    {
      "cell_type": "markdown",
      "metadata": {},
      "source": [
        "But this gives us the wrong result because JAX doesn’t understand the\n",
        "nested for loop."
      ],
      "id": "151bd911-18a9-4905-8579-e6251f7c073d"
    },
    {
      "cell_type": "code",
      "execution_count": 64,
      "metadata": {},
      "outputs": [
        {
          "output_type": "display_data",
          "metadata": {},
          "data": {
            "text/plain": [
              "(80,)"
            ]
          }
        }
      ],
      "source": [
        "z_bad.shape"
      ],
      "id": "75adec1f"
    },
    {
      "cell_type": "markdown",
      "metadata": {},
      "source": [
        "Here is what we actually wanted:"
      ],
      "id": "cf4bab31-55b1-44f3-931a-5213c747daa6"
    },
    {
      "cell_type": "code",
      "execution_count": 65,
      "metadata": {},
      "outputs": [
        {
          "output_type": "display_data",
          "metadata": {},
          "data": {
            "text/plain": [
              "(80, 80)"
            ]
          }
        }
      ],
      "source": [
        "z_loops.shape"
      ],
      "id": "ebbd414e"
    },
    {
      "cell_type": "markdown",
      "metadata": {},
      "source": [
        "To get the right shape and the correct nested for loop calculation, we\n",
        "can use a `meshgrid` operation designed for this purpose:"
      ],
      "id": "88086f74-836c-469f-a758-eb7233f89b0e"
    },
    {
      "cell_type": "code",
      "execution_count": 66,
      "metadata": {},
      "outputs": [],
      "source": [
        "x_mesh, y_mesh = jnp.meshgrid(x, y)"
      ],
      "id": "740c2920"
    },
    {
      "cell_type": "markdown",
      "metadata": {},
      "source": [
        "Now we get what we want and the execution time is very fast."
      ],
      "id": "8577b322-023c-4860-bfbf-d4609065849a"
    },
    {
      "cell_type": "code",
      "execution_count": 67,
      "metadata": {},
      "outputs": [
        {
          "output_type": "stream",
          "name": "stdout",
          "text": [
            "CPU times: user 38.7 ms, sys: 3.25 ms, total: 42 ms\n",
            "Wall time: 41 ms"
          ]
        }
      ],
      "source": [
        "%%time\n",
        "z_mesh = f(x_mesh, y_mesh).block_until_ready()"
      ],
      "id": "4b8030bc"
    },
    {
      "cell_type": "markdown",
      "metadata": {},
      "source": [
        "Let’s run again to eliminate compile time."
      ],
      "id": "1187212a-c9b9-4143-9a17-82d27cc81486"
    },
    {
      "cell_type": "code",
      "execution_count": 68,
      "metadata": {},
      "outputs": [
        {
          "output_type": "stream",
          "name": "stdout",
          "text": [
            "CPU times: user 643 μs, sys: 796 μs, total: 1.44 ms\n",
            "Wall time: 997 μs"
          ]
        }
      ],
      "source": [
        "%%time\n",
        "z_mesh = f(x_mesh, y_mesh).block_until_ready()"
      ],
      "id": "771a226c"
    },
    {
      "cell_type": "markdown",
      "metadata": {},
      "source": [
        "Let’s confirm that we got the right answer."
      ],
      "id": "286b87fe-7469-4adf-96b4-48cc22718f14"
    },
    {
      "cell_type": "code",
      "execution_count": 69,
      "metadata": {},
      "outputs": [
        {
          "output_type": "display_data",
          "metadata": {},
          "data": {
            "text/plain": [
              "Array(True, dtype=bool)"
            ]
          }
        }
      ],
      "source": [
        "jnp.allclose(z_mesh, z_loops)"
      ],
      "id": "2ba27e9d"
    },
    {
      "cell_type": "markdown",
      "metadata": {},
      "source": [
        "Now we can set up a serious grid and run the same calculation (on the\n",
        "larger grid) in a short amount of time."
      ],
      "id": "4dce7d78-d598-4b0b-b189-ccc03243d3d4"
    },
    {
      "cell_type": "code",
      "execution_count": 70,
      "metadata": {},
      "outputs": [],
      "source": [
        "n = 6000\n",
        "x = jnp.linspace(-2, 2, n)\n",
        "y = x\n",
        "x_mesh, y_mesh = jnp.meshgrid(x, y)"
      ],
      "id": "4ed97722"
    },
    {
      "cell_type": "code",
      "execution_count": 71,
      "metadata": {},
      "outputs": [
        {
          "output_type": "stream",
          "name": "stdout",
          "text": [
            "CPU times: user 883 ms, sys: 214 ms, total: 1.1 s\n",
            "Wall time: 327 ms"
          ]
        }
      ],
      "source": [
        "%%time\n",
        "z_mesh = f(x_mesh, y_mesh).block_until_ready()"
      ],
      "id": "017b6842"
    },
    {
      "cell_type": "markdown",
      "metadata": {},
      "source": [
        "Let’s run again to get rid of compile time."
      ],
      "id": "c698840b-66b2-406f-901d-0ffe3c479227"
    },
    {
      "cell_type": "code",
      "execution_count": 72,
      "metadata": {},
      "outputs": [
        {
          "output_type": "stream",
          "name": "stdout",
          "text": [
            "CPU times: user 985 ms, sys: 258 ms, total: 1.24 s\n",
            "Wall time: 333 ms"
          ]
        }
      ],
      "source": [
        "%%time\n",
        "z_mesh = f(x_mesh, y_mesh).block_until_ready()"
      ],
      "id": "6b085d31"
    },
    {
      "cell_type": "markdown",
      "metadata": {},
      "source": [
        "But there is one problem here: the mesh grids use a lot of memory."
      ],
      "id": "ffb8365e-8b86-474e-b608-77f48c7ccb60"
    },
    {
      "cell_type": "code",
      "execution_count": 73,
      "metadata": {},
      "outputs": [
        {
          "output_type": "display_data",
          "metadata": {},
          "data": {
            "text/plain": [
              "576000000"
            ]
          }
        }
      ],
      "source": [
        "x_mesh.nbytes + y_mesh.nbytes"
      ],
      "id": "73ce15cd"
    },
    {
      "cell_type": "markdown",
      "metadata": {},
      "source": [
        "By comparison, the flat array `x` is just"
      ],
      "id": "eddae8bc-d7e4-48ce-a583-fc955ff5910b"
    },
    {
      "cell_type": "code",
      "execution_count": 74,
      "metadata": {},
      "outputs": [
        {
          "output_type": "display_data",
          "metadata": {},
          "data": {
            "text/plain": [
              "48000"
            ]
          }
        }
      ],
      "source": [
        "x.nbytes  # and y is just a pointer to x"
      ],
      "id": "2db688a0"
    },
    {
      "cell_type": "markdown",
      "metadata": {},
      "source": [
        "This extra memory usage can be a big problem in actual research\n",
        "calculations.\n",
        "\n",
        "So let’s try a different approach using\n",
        "[jax.vmap](https://jax.readthedocs.io/en/latest/_autosummary/jax.vmap.html)\n",
        "\n",
        "  \n",
        "\n",
        "First we vectorize `f` in `y`."
      ],
      "id": "d5120dff-aff1-4157-81cb-31fc9f04269c"
    },
    {
      "cell_type": "code",
      "execution_count": 75,
      "metadata": {},
      "outputs": [],
      "source": [
        "f_vec_y = jax.vmap(f, in_axes=(None, 0))  "
      ],
      "id": "5bdb1134"
    },
    {
      "cell_type": "markdown",
      "metadata": {},
      "source": [
        "In the line above, `(None, 0)` indicates that we are vectorizing in the\n",
        "second argument, which is `y`.\n",
        "\n",
        "Next, we vectorize in the first argument, which is `x`."
      ],
      "id": "16a9905e-93bf-4d43-85f7-7dbdfe5a5b35"
    },
    {
      "cell_type": "code",
      "execution_count": 76,
      "metadata": {},
      "outputs": [],
      "source": [
        "f_vec = jax.vmap(f_vec_y, in_axes=(0, None))"
      ],
      "id": "47cdce2c"
    },
    {
      "cell_type": "markdown",
      "metadata": {},
      "source": [
        "With this construction, we can now call the function $f$ on flat (low\n",
        "memory) arrays."
      ],
      "id": "996f935a-34d8-49cc-a712-95a7e8b5898c"
    },
    {
      "cell_type": "code",
      "execution_count": 77,
      "metadata": {},
      "outputs": [
        {
          "output_type": "stream",
          "name": "stdout",
          "text": [
            "CPU times: user 950 ms, sys: 202 ms, total: 1.15 s\n",
            "Wall time: 365 ms"
          ]
        }
      ],
      "source": [
        "%%time\n",
        "z_vmap = f_vec(x, y).block_until_ready()"
      ],
      "id": "957178b7"
    },
    {
      "cell_type": "markdown",
      "metadata": {},
      "source": [
        "We run it again to eliminate compile time."
      ],
      "id": "14f00c7b-3a2c-4981-9aef-1a638b01a9cc"
    },
    {
      "cell_type": "code",
      "execution_count": 78,
      "metadata": {},
      "outputs": [
        {
          "output_type": "stream",
          "name": "stdout",
          "text": [
            "CPU times: user 932 ms, sys: 237 ms, total: 1.17 s\n",
            "Wall time: 347 ms"
          ]
        }
      ],
      "source": [
        "%%time\n",
        "z_vmap = f_vec(x, y).block_until_ready()"
      ],
      "id": "32bf7e85"
    },
    {
      "cell_type": "markdown",
      "metadata": {},
      "source": [
        "The execution time is essentially the same as the mesh operation but we\n",
        "are using much less memory.\n",
        "\n",
        "And we produce the correct answer:"
      ],
      "id": "4711bec1-1fa8-4e4d-8bb2-7b23aaf9435b"
    },
    {
      "cell_type": "code",
      "execution_count": 79,
      "metadata": {},
      "outputs": [
        {
          "output_type": "display_data",
          "metadata": {},
          "data": {
            "text/plain": [
              "Array(True, dtype=bool)"
            ]
          }
        }
      ],
      "source": [
        "jnp.allclose(z_vmap, z_mesh)"
      ],
      "id": "7d729f79"
    }
  ],
  "nbformat": 4,
  "nbformat_minor": 5,
  "metadata": {
    "kernelspec": {
      "name": "python3",
      "display_name": "Python 3 (ipykernel)",
      "language": "python",
      "path": "/home/pablo/.local/share/jupyter/kernels/python3"
    },
    "language_info": {
      "name": "python",
      "codemirror_mode": {
        "name": "ipython",
        "version": "3"
      },
      "file_extension": ".py",
      "mimetype": "text/x-python",
      "nbconvert_exporter": "python",
      "pygments_lexer": "ipython3",
      "version": "3.11.10"
    }
  }
}