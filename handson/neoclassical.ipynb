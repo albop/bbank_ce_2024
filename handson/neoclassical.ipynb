{
  "cells": [
    {
      "cell_type": "markdown",
      "metadata": {},
      "source": [
        "# Neoclassical model with time iteration\n",
        "\n",
        "Our goal consists in this tutorial will be to solve numerically the\n",
        "neoclassical model using the time-iteration algorithms in two ways: -\n",
        "with a naive iterative algorithm - with a vectorized one (using numpy)\n",
        "\n",
        "Remark: this tutorial uses typehints as a way to help structure the\n",
        "code. They can safely be ignored."
      ],
      "id": "4320c920-3266-40f8-80b7-31e070211573"
    },
    {
      "cell_type": "code",
      "execution_count": 1,
      "metadata": {},
      "outputs": [],
      "source": [
        "from dataclasses import dataclass\n",
        "from math import exp, sqrt\n",
        "import numpy as np\n",
        "from typing import Any, Tuple\n",
        "import numpy.typing as npt\n",
        "Vector = npt.NDArray[1]\n",
        "Matrix = npt.NDArray[2]"
      ],
      "id": "0b900d18"
    },
    {
      "cell_type": "markdown",
      "metadata": {},
      "source": [
        "### The neoclassical model\n",
        "\n",
        "The representative agent maximizes intertemporal discounted utility of\n",
        "consumption $$\\sum_{t\\geq0} \\beta^t U(c_t)$$ where\n",
        "$U(c_t)=\\frac{(c_t)^{1-\\gamma}}{1-\\gamma}$.\n",
        "\n",
        "Production is $$y_t=exp(z_t) k_t^{\\alpha}$$ where $k_t$ is the amount of\n",
        "capital and $z_t=\\rho z_{t-1} + \\epsilon_t$ and AR1 process with\n",
        "$(\\epsilon_t)$ a normal innovation of standard deviation $\\sigma$.\n",
        "\n",
        "The law of motion for the capital depends on investment $i_t$ and\n",
        "capital depreciation $\\delta$:\n",
        "\n",
        "$$k_t = (1-\\delta) k_{t-1} + i_{t-1}$$\n",
        "\n",
        "The first order condition corresponding to the optimization problem is:\n",
        "\n",
        "$$\\beta E_t \\left[ \\frac{U^{\\prime}(c_{t+1}}{U^{\\prime}(c_t)})\\left( 1- \\delta + \\alpha exp(z_{t+1}) k_{t+1}^{\\alpha-1} \\right) \\right] =1$$\n",
        "\n",
        "<span class=\"theorem-title\">**Exercise 1**</span> What are the states of\n",
        "the problems? the controls? the exogenous shocks?"
      ],
      "id": "4ab8887f-01ba-4eb4-81f5-30688fdf9606"
    },
    {
      "cell_type": "code",
      "execution_count": 2,
      "metadata": {},
      "outputs": [],
      "source": [
        "# states: (z,k)\n",
        "# controls: (i,)  \n",
        "\n",
        "# everything else can be computed from it\n",
        "# auxiliary: (y,c)\n",
        "\n",
        "# shocks: (epsilon,)\n",
        "\n",
        "# paramaters: alpha,beta,gamma,delta,sigma,rho"
      ],
      "id": "64f87838"
    },
    {
      "cell_type": "markdown",
      "metadata": {},
      "source": [
        "<span class=\"theorem-title\">**Exercise 2**</span> Define an object to\n",
        "represent the model calibration (you can use a dataclass)."
      ],
      "id": "add373a3-9f3b-453c-93a7-8127b647c0e7"
    },
    {
      "cell_type": "code",
      "execution_count": 3,
      "metadata": {},
      "outputs": [],
      "source": [
        "@dataclass\n",
        "class Neoclassical:\n",
        "    \n",
        "    alpha = 0.3\n",
        "    beta = 0.96\n",
        "    gamma = 4.0\n",
        "    delta = 0.1\n",
        "    rho = 0.9\n",
        "    sigma = 0.01\n",
        "\n",
        "m = Neoclassical()"
      ],
      "id": "f216dd52"
    },
    {
      "cell_type": "markdown",
      "metadata": {},
      "source": [
        "<span class=\"theorem-title\">**Exercise 3**</span> Define a function to\n",
        "compute the steady-state controls and states."
      ],
      "id": "3a2f28b8-5baa-46b6-81d8-ea9e6b80cfd5"
    },
    {
      "cell_type": "code",
      "execution_count": 4,
      "metadata": {},
      "outputs": [],
      "source": [
        "def steady_state(m: Neoclassical) -> Tuple[ Tuple[float, float], Tuple[float]]:\n",
        "    \n",
        "    z:float = 0.0\n",
        "    k:float = ((1/m.beta-(1-m.delta))/m.alpha)**(1/(m.alpha-1))\n",
        "    i = k*m.delta\n",
        "    s = (z,k) # tuple of states\n",
        "    x = (i,) #tuple of controls\n",
        "    return (s,x)"
      ],
      "id": "62217fac"
    },
    {
      "cell_type": "markdown",
      "metadata": {},
      "source": [
        "### Naive solution\n",
        "\n",
        "<span class=\"theorem-title\">**Exercise 4**</span> Define a cartesian\n",
        "grid on productivity and capital:"
      ],
      "id": "e79993bf-1e4b-442b-98d0-44bdc6c52d31"
    },
    {
      "cell_type": "code",
      "execution_count": 5,
      "metadata": {},
      "outputs": [],
      "source": [
        "def get_grid(m: Neoclassical, size: Tuple[int, int]) -> Tuple[ Vector, Vector]:\n",
        "    \n",
        "    s,x = steady_state(m)\n",
        "\n",
        "    sigma_e = m.sigma/sqrt(1-m.rho**2)\n",
        "    kbar = s[1] # steady state value of capital\n",
        "\n",
        "    zvec = np.linspace( -2*sigma_e, 2*sigma_e, size[0])\n",
        "    kvec = np.linspace(0.5*kbar,kbar*1.5,size[1])\n",
        "    return (zvec, kvec)\n",
        "\n",
        "grid  = get_grid(m, (10,10))"
      ],
      "id": "8a40add6"
    },
    {
      "cell_type": "markdown",
      "metadata": {},
      "source": [
        "<span class=\"theorem-title\">**Exercise 5**</span> Define an initial\n",
        "guess representing the values of the controls on the grid"
      ],
      "id": "adce43cd-21c7-4a04-add3-5630c5cf2c18"
    },
    {
      "cell_type": "code",
      "execution_count": 6,
      "metadata": {},
      "outputs": [],
      "source": [
        "N_1, N_2 = (10,10)\n",
        "\n",
        "x0 = np.zeros( (N_1, N_2, 1) )\n",
        "x0[:, :, 0] = x\n",
        "x0;"
      ],
      "id": "a8d99afc"
    },
    {
      "cell_type": "code",
      "execution_count": 7,
      "metadata": {},
      "outputs": [],
      "source": [
        "def initial_guess(m: Neoclassical, grid)->npt.NDArray[3]\n",
        "\n",
        "    # x0 = 3-dimensional array of size\n",
        "\n",
        "x0 = initial_guess(m, grid)"
      ],
      "id": "04bce382"
    },
    {
      "cell_type": "markdown",
      "metadata": {},
      "source": [
        "<span class=\"theorem-title\">**Exercise 6**</span> Define a decision rule\n",
        "which interpolates the initial guess on any state"
      ],
      "id": "9b721ac3-ed2a-47cd-bc12-e5e7ef482795"
    },
    {
      "cell_type": "code",
      "execution_count": 8,
      "metadata": {},
      "outputs": [],
      "source": [
        "def phi(m: Neoclassical, s:: Tuple[float, float], x0::npt.NDArray[3])-> Tuple[float]\n",
        "    pass"
      ],
      "id": "09f419eb"
    },
    {
      "cell_type": "markdown",
      "metadata": {},
      "source": [
        "<span class=\"theorem-title\">**Exercise 7**</span> Compute the euler\n",
        "residual, for a given realization of the exogenous shocks."
      ],
      "id": "6d1a0976-e15e-46de-ad12-bce95f027e4b"
    },
    {
      "cell_type": "code",
      "execution_count": 9,
      "metadata": {},
      "outputs": [],
      "source": [
        "def f(m: RBC, s: Tuple[float,float], x:Tuple[float], E: Tuple[float], grid, theta):\n",
        "    ## grid is the discretized grid from before\n",
        "    ## theta contains the values of the controls on the grid\n",
        "    pass"
      ],
      "id": "3fe3e001"
    },
    {
      "cell_type": "markdown",
      "metadata": {},
      "source": [
        "<span class=\"theorem-title\">**Exercise 8**</span> Compute the expected\n",
        "euler residuals, integrating over all possible realizations of the\n",
        "exogenous shocks."
      ],
      "id": "bceafa6b-6ea3-419a-be3d-c420ac1d7da6"
    },
    {
      "cell_type": "code",
      "execution_count": 10,
      "metadata": {},
      "outputs": [],
      "source": [
        "def F(m: RBC, s: Tuple[float,float], x:Tuple[float], grid, theta, discr:Tuple[Vector, Vector]):\n",
        "    ## grid is the discretized grid from before\n",
        "    ## theta contains the values of the controls on the grid\n",
        "    ## discr contains the weights w,x of the gaussian quadrature\n",
        "    pass"
      ],
      "id": "3c602fcd"
    },
    {
      "cell_type": "markdown",
      "metadata": {},
      "source": [
        "<span class=\"theorem-title\">**Exercise 9**</span> At the steady-state,\n",
        "find the optimal control, assuming future decisions are taken according\n",
        "to the initial guess."
      ],
      "id": "0fc64483-e4eb-4995-888a-5b3396d25ce1"
    },
    {
      "cell_type": "code",
      "execution_count": 11,
      "metadata": {},
      "outputs": [],
      "source": [
        "# find x such that F(m,s,x,grid,theta_0,discr) = 0"
      ],
      "id": "5293674a"
    },
    {
      "cell_type": "markdown",
      "metadata": {},
      "source": [
        "<span class=\"theorem-title\">**Exercise 10**</span> Solve for the optimal\n",
        "controls over the whole grid, still assuming future decisions are taken\n",
        "according to the initial guess."
      ],
      "id": "e02fbde4-0576-4bd3-88cf-d9c040364bb5"
    },
    {
      "cell_type": "code",
      "execution_count": 12,
      "metadata": {},
      "outputs": [],
      "source": [
        "# find x such that F(m,s,x,grid,theta_0,discr) = 0"
      ],
      "id": "4e7def85"
    },
    {
      "cell_type": "markdown",
      "metadata": {},
      "source": [
        "<span class=\"theorem-title\">**Exercise 11**</span> Implement the time\n",
        "iteration algorithm."
      ],
      "id": "426e2596-be56-4b3e-8cc0-8faff5990c0e"
    },
    {
      "cell_type": "code",
      "execution_count": 13,
      "metadata": {},
      "outputs": [],
      "source": [
        "def time_iteration_0(m: Neoclassical, grid, discr, x0):\n",
        "    pass"
      ],
      "id": "604cb2a7"
    },
    {
      "cell_type": "markdown",
      "metadata": {},
      "source": [
        "<span class=\"theorem-title\">**Exercise 12**</span> Time the result (and\n",
        "profile)."
      ],
      "id": "bb1967b7-5b8a-4f1c-97f7-07dd34f09dc8"
    },
    {
      "cell_type": "code",
      "execution_count": 14,
      "metadata": {},
      "outputs": [],
      "source": [
        "def time_iteration_0(m: Neoclassical, grid, discr, x0):\n",
        "    pass"
      ],
      "id": "290e99e6"
    },
    {
      "cell_type": "markdown",
      "metadata": {},
      "source": [
        "### Vectorization\n",
        "\n",
        "There are at least two approaches to speed up the code, with the same\n",
        "algorithm: - avoid the interpretation cost by compiling the code (for\n",
        "instance using numba) - vectorize the operations over the whole grid\n",
        "\n",
        "<span class=\"theorem-title\">**Exercise 13**</span> Given $N$ the number\n",
        "of points of the grid, create a matrix, representing the vector of all\n",
        "grid points. It should be an $N \\times 2$ matrix."
      ],
      "id": "0ac33b33-c07e-4deb-8e53-e003fc15b276"
    },
    {
      "cell_type": "code",
      "execution_count": 15,
      "metadata": {},
      "outputs": [],
      "source": [
        "# grid_v = "
      ],
      "id": "2f84c80c"
    },
    {
      "cell_type": "markdown",
      "metadata": {},
      "source": [
        "<span class=\"theorem-title\">**Exercise 14**</span> Rewrite the decision\n",
        "rule so that it can operate on a vector of states."
      ],
      "id": "ada8dfec-65a2-447a-99b7-a0db345063f3"
    },
    {
      "cell_type": "code",
      "execution_count": 16,
      "metadata": {},
      "outputs": [],
      "source": [
        "def phi_v(m: Neoclassical, s:: Matrix, x0::npt.NDArray[3])-> Matrix\n",
        "    pass"
      ],
      "id": "1f13108b"
    },
    {
      "cell_type": "markdown",
      "metadata": {},
      "source": [
        "<span class=\"theorem-title\">**Exercise 15**</span> Rewrite the euler\n",
        "residual function so that it can operate on a vector of states with the\n",
        "corresponding vector of controls."
      ],
      "id": "e0ea403e-8a21-4c8d-8752-78cf84a436b1"
    },
    {
      "cell_type": "code",
      "execution_count": 17,
      "metadata": {},
      "outputs": [],
      "source": [
        "def f_v(m: RBC, s: Matrix, x:Matrix, E: Tuple[float], grid, theta)->Matrix:\n",
        "    ## grid is the discretized grid from before\n",
        "    ## theta contains the values of the controls on the grid\n",
        "    pass"
      ],
      "id": "6d2abecd"
    },
    {
      "cell_type": "markdown",
      "metadata": {},
      "source": [
        "<span class=\"theorem-title\">**Exercise 16**</span> Rewrite the\n",
        "integrated euler residual function so that it can operate on a vector of\n",
        "states with the corresponding vector of controls."
      ],
      "id": "1e8075cf-c600-482f-847a-1331dd63b245"
    },
    {
      "cell_type": "code",
      "execution_count": 18,
      "metadata": {},
      "outputs": [],
      "source": [
        "def F_v(m: RBC, s: Matrix, x:Matrix, grid, theta)->Matrix:\n",
        "    ## grid is the discretized grid from before\n",
        "    ## theta contains the values of the controls on the grid\n",
        "    pass"
      ],
      "id": "73342d74"
    },
    {
      "cell_type": "markdown",
      "metadata": {},
      "source": [
        "<span class=\"theorem-title\">**Exercise 17**</span> Compute the jacobian\n",
        "of $F_v$ w.r.t $x$."
      ],
      "id": "dc0c824b-4d30-4ddb-b0a3-e5b134c9e2fa"
    },
    {
      "cell_type": "code",
      "execution_count": 19,
      "metadata": {},
      "outputs": [],
      "source": [
        "#"
      ],
      "id": "5fa99028"
    },
    {
      "cell_type": "markdown",
      "metadata": {},
      "source": [
        "<span class=\"theorem-title\">**Exercise 18**</span> Solve for the matrix\n",
        "`x` such that `F_v(m, s, x:Matrix, grid, theta)=0`"
      ],
      "id": "09f0ecde-52a7-4d6d-84b2-f36910d66504"
    },
    {
      "cell_type": "code",
      "execution_count": 20,
      "metadata": {},
      "outputs": [],
      "source": [
        "#"
      ],
      "id": "770db612"
    },
    {
      "cell_type": "markdown",
      "metadata": {},
      "source": [
        "<span class=\"theorem-title\">**Exercise 19**</span> Implement the time\n",
        "iteration algorithm."
      ],
      "id": "9d9200b1-ec62-4237-9fcc-1ab3e468c708"
    },
    {
      "cell_type": "code",
      "execution_count": 21,
      "metadata": {},
      "outputs": [],
      "source": [
        "#"
      ],
      "id": "cd261838"
    }
  ],
  "nbformat": 4,
  "nbformat_minor": 5,
  "metadata": {
    "kernelspec": {
      "name": "python3",
      "display_name": "Python 3 (ipykernel)",
      "language": "python",
      "path": "/home/pablo/.local/share/jupyter/kernels/python3"
    },
    "language_info": {
      "name": "python",
      "codemirror_mode": {
        "name": "ipython",
        "version": "3"
      },
      "file_extension": ".py",
      "mimetype": "text/x-python",
      "nbconvert_exporter": "python",
      "pygments_lexer": "ipython3",
      "version": "3.11.10"
    }
  }
}