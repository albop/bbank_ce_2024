{
  "cells": [
    {
      "cell_type": "markdown",
      "metadata": {},
      "source": [
        "# Python: syntax review\n",
        "\n",
        "## Basic Types\n",
        "\n",
        "### numbers"
      ],
      "id": "ba7ada03-72f6-49f2-ada2-deb4d5fe671e"
    },
    {
      "cell_type": "code",
      "execution_count": 1,
      "metadata": {},
      "outputs": [],
      "source": [
        "# integers and floats"
      ],
      "id": "24018793"
    },
    {
      "cell_type": "code",
      "execution_count": 2,
      "metadata": {},
      "outputs": [],
      "source": [
        "1"
      ],
      "id": "3d12b764"
    },
    {
      "cell_type": "code",
      "execution_count": 3,
      "metadata": {},
      "outputs": [],
      "source": [
        "1.0"
      ],
      "id": "c6ff2ff1"
    },
    {
      "cell_type": "code",
      "execution_count": 4,
      "metadata": {},
      "outputs": [],
      "source": [
        "# conversion with int() and float()\n",
        "float( 1 )"
      ],
      "id": "694f96a3"
    },
    {
      "cell_type": "code",
      "execution_count": 5,
      "metadata": {},
      "outputs": [],
      "source": [
        "int(2.9) # floor"
      ],
      "id": "132c3dad"
    },
    {
      "cell_type": "code",
      "execution_count": 6,
      "metadata": {},
      "outputs": [],
      "source": [
        "# no difference between various types of floats (16 bits, 32 bits, 64 bits, ...)"
      ],
      "id": "558d6e2d"
    },
    {
      "cell_type": "code",
      "execution_count": 7,
      "metadata": {},
      "outputs": [],
      "source": [
        "type( 2.2**50 ) # this doesn't fit in 32 bits"
      ],
      "id": "07363b78"
    },
    {
      "cell_type": "code",
      "execution_count": 8,
      "metadata": {},
      "outputs": [],
      "source": [
        "# usual operations + - *\n",
        "print( 2 + 3 )\n",
        "print( 9 -6 )\n",
        "print( 3 / 2 )\n",
        "print(2304310958*41324)"
      ],
      "id": "5097f9d3"
    },
    {
      "cell_type": "code",
      "execution_count": 9,
      "metadata": {},
      "outputs": [],
      "source": [
        "# divisions / and //\n",
        "print(3/4)\n",
        "print(13//4)"
      ],
      "id": "29f85d58"
    },
    {
      "cell_type": "code",
      "execution_count": 10,
      "metadata": {},
      "outputs": [],
      "source": [
        "# exponentiation ** (not ^!)\n",
        "# (1.04)^10\n",
        "(1.04)**10"
      ],
      "id": "d8480d99"
    },
    {
      "cell_type": "code",
      "execution_count": 11,
      "metadata": {},
      "outputs": [],
      "source": [
        "# comparison operators: >, <, >=, <=, ==\n",
        "\n",
        "print((1.0453432)*(0.96)  > 1.001 )\n",
        "\n",
        "print(1.001 >= 1.001)"
      ],
      "id": "7e7a1442"
    },
    {
      "cell_type": "code",
      "execution_count": 12,
      "metadata": {},
      "outputs": [],
      "source": [
        "# comparison operators can be chained:\n",
        "print(0.2<0.4<0.5)\n",
        "print(0.5<=0.4<=0.5) # equivalent to ((0.5<=0.4) and(0.4<=0.5))"
      ],
      "id": "b5d1e21c"
    },
    {
      "cell_type": "markdown",
      "metadata": {},
      "source": [
        "### special types: boolean and None\n",
        "\n",
        "There are only two booleans: `True` and `False` (note uppercase). `None`\n",
        "is a dummy type, which is used when no other type fits."
      ],
      "id": "47c505c3-3610-4eab-85b6-ace3487477ef"
    },
    {
      "cell_type": "code",
      "execution_count": 13,
      "metadata": {},
      "outputs": [],
      "source": [
        "print( False )\n",
        "True"
      ],
      "id": "5f92e6f1"
    },
    {
      "cell_type": "code",
      "execution_count": 14,
      "metadata": {},
      "outputs": [],
      "source": [
        "(True, False, None)"
      ],
      "id": "84842a98"
    },
    {
      "cell_type": "markdown",
      "metadata": {},
      "source": [
        "Double equal sign tests for equality. Result should always be a boolean."
      ],
      "id": "e6c707ec-a032-49c3-8b88-b202eed131b1"
    },
    {
      "cell_type": "code",
      "execution_count": 15,
      "metadata": {},
      "outputs": [],
      "source": [
        "True==False"
      ],
      "id": "751779cb"
    },
    {
      "cell_type": "markdown",
      "metadata": {},
      "source": [
        "Logical operators are `not`, `and` and `or`:"
      ],
      "id": "e2638088-87b5-4990-bc0c-3855ca22785a"
    },
    {
      "cell_type": "code",
      "execution_count": 16,
      "metadata": {},
      "outputs": [],
      "source": [
        "(True or False)"
      ],
      "id": "890b3fb3"
    },
    {
      "cell_type": "code",
      "execution_count": 17,
      "metadata": {},
      "outputs": [],
      "source": [
        "not (True or False)"
      ],
      "id": "a31f6681"
    },
    {
      "cell_type": "code",
      "execution_count": 18,
      "metadata": {},
      "outputs": [],
      "source": [
        "(1.3**1.04 > 1.9) | (1000**1143>1001**1142)"
      ],
      "id": "0f393090"
    },
    {
      "cell_type": "markdown",
      "metadata": {},
      "source": [
        "Operators `or` and `and` can be replaced by `|` and `&` respectively.\n",
        "They are *non-greedy*, that is terms are not evaluated if the result of\n",
        "the comparison is already known."
      ],
      "id": "1d4444e3-81ac-460d-9f32-8c5afbb4c495"
    },
    {
      "cell_type": "code",
      "execution_count": 19,
      "metadata": {},
      "outputs": [],
      "source": [
        "False and (print(\"Hello\"))"
      ],
      "id": "14f078c3"
    },
    {
      "cell_type": "code",
      "execution_count": 20,
      "metadata": {},
      "outputs": [],
      "source": [
        "print( (print(\"Hello\")) and False )"
      ],
      "id": "e95567d1"
    },
    {
      "cell_type": "markdown",
      "metadata": {},
      "source": [
        "### strings\n",
        "\n",
        "#### definition\n",
        "\n",
        "Strings are defined by enclosing characters either by `'` (single\n",
        "quotes) or `\"` (double quote). Single quotes strings can contain double\n",
        "quotes strings and vice-versa."
      ],
      "id": "e872fd37-10df-4673-a105-51a4690e8e51"
    },
    {
      "cell_type": "code",
      "execution_count": 21,
      "metadata": {},
      "outputs": [],
      "source": [
        "\"name\""
      ],
      "id": "24be945e"
    },
    {
      "cell_type": "code",
      "execution_count": 22,
      "metadata": {},
      "outputs": [],
      "source": [
        "'name'"
      ],
      "id": "c82f0b90"
    },
    {
      "cell_type": "code",
      "execution_count": 23,
      "metadata": {},
      "outputs": [],
      "source": [
        "'I say \"hello\"'"
      ],
      "id": "05e9dcc2"
    },
    {
      "cell_type": "code",
      "execution_count": 24,
      "metadata": {},
      "outputs": [],
      "source": [
        "\"You can 'quote' me\""
      ],
      "id": "738b02f8"
    },
    {
      "cell_type": "markdown",
      "metadata": {},
      "source": [
        "Strings spanning over sever lines can be defined with triple quotes\n",
        "(single or double)."
      ],
      "id": "42f9e62b-810b-47ab-9dac-2eaf3258ebc8"
    },
    {
      "cell_type": "code",
      "execution_count": 25,
      "metadata": {},
      "outputs": [],
      "source": [
        "s = \"\"\"¿Qué es la vida? Un frenesí.\n",
        "¿Qué es la vida? Una ilusión,\n",
        "una sombra, una ficción,\n",
        "y el mayor bien es pequeño;\n",
        "que toda la vida es sueño,\n",
        "y los sueños, sueños son.\n",
        "\"\"\""
      ],
      "id": "f5dc289c"
    },
    {
      "cell_type": "markdown",
      "metadata": {},
      "source": [
        "It is also possible to use the newline character `\\n`."
      ],
      "id": "547bae12-fa5d-42d8-a765-d74a9f38ab0c"
    },
    {
      "cell_type": "code",
      "execution_count": 26,
      "metadata": {},
      "outputs": [],
      "source": [
        "\"La vida es sueño,\\ny los sueños, sueños son.\""
      ],
      "id": "43157551"
    },
    {
      "cell_type": "code",
      "execution_count": 27,
      "metadata": {},
      "outputs": [],
      "source": [
        "print(\"La vida es sueño,\\ny los sueños, sueños son.\")"
      ],
      "id": "9ff59156"
    },
    {
      "cell_type": "markdown",
      "metadata": {},
      "source": [
        "#### character sets\n",
        "\n",
        "Strings can contain any unicode character:"
      ],
      "id": "9825946f-20cf-476d-8021-7ef08a847e14"
    },
    {
      "cell_type": "code",
      "execution_count": 28,
      "metadata": {},
      "outputs": [],
      "source": [
        "s = \"🎻⽻༽\""
      ],
      "id": "614153c7"
    },
    {
      "cell_type": "markdown",
      "metadata": {},
      "source": [
        "*Refresher*: ASCII vs unicode\n",
        "\n",
        "ASCII (or ASCII-US) is an old standard which codes a character with 7\n",
        "bits (or 8 bits for extended ASCII). This allows to code 128 different\n",
        "characters (256 for ex-ASCII).\n",
        "\n",
        "Only a subset of these characters can be printed regularly."
      ],
      "id": "340d7300-3765-4fad-95e9-2f5fa75c8683"
    },
    {
      "cell_type": "code",
      "execution_count": 29,
      "metadata": {},
      "outputs": [],
      "source": [
        "chr(44)"
      ],
      "id": "a5de33e7"
    },
    {
      "cell_type": "code",
      "execution_count": 30,
      "metadata": {},
      "outputs": [],
      "source": [
        "# ASCII: \n",
        "for i in range(32,127):\n",
        "    print( chr(i), end=' ')"
      ],
      "id": "310d2d48"
    },
    {
      "cell_type": "markdown",
      "metadata": {},
      "source": [
        "The other characters include *delete*, *newline* and *carriage return*\n",
        "among others."
      ],
      "id": "1d5f8ab1-b441-4dcc-ab6c-3249152baf41"
    },
    {
      "cell_type": "code",
      "execution_count": 31,
      "metadata": {},
      "outputs": [],
      "source": [
        "s = 'This is\\na\\nmultiline string.' # note the newline character '\\n'"
      ],
      "id": "ae7f6352"
    },
    {
      "cell_type": "code",
      "execution_count": 32,
      "metadata": {},
      "outputs": [],
      "source": [
        "# print(s)\n",
        "len(s)"
      ],
      "id": "d90a95d0"
    },
    {
      "cell_type": "markdown",
      "metadata": {},
      "source": [
        "Some antiquated platforms still use newline + carriage return at the end\n",
        "of each line. This is absolutely not required and causes\n",
        "incompatibilities."
      ],
      "id": "51cf82fd-8ce4-4128-9f1f-44a46c505d01"
    },
    {
      "cell_type": "code",
      "execution_count": 33,
      "metadata": {},
      "outputs": [],
      "source": [
        "s2 = 'This is\\n\\ra\\n\\rmultiline string.' # note the newline character '\\n' and carriager return '\\r'"
      ],
      "id": "c4c17425"
    },
    {
      "cell_type": "code",
      "execution_count": 34,
      "metadata": {},
      "outputs": [],
      "source": [
        "print(s2)\n",
        "print(len(s2))"
      ],
      "id": "a4a7d402"
    },
    {
      "cell_type": "markdown",
      "metadata": {},
      "source": [
        "Unicode contains a repertoire of over 137,000 characters with all ASCII\n",
        "characters as subcases\n",
        "\n",
        "To type: copy/paste, ctrl+shift+hexadecimal, latex + tab\n",
        "\n",
        "Variable names aka identifiers can contain unicode characters with some\n",
        "restrictions: - they cannot start with a digit - they can’t contain\n",
        "special variables (‘!,#,@,%,\\$’ and other unicode specials ???) - they\n",
        "can contain underscore\n",
        "\n",
        "#### operations\n",
        "\n",
        "concatenation"
      ],
      "id": "da30901d-c123-45e3-9612-cba34770497f"
    },
    {
      "cell_type": "code",
      "execution_count": 35,
      "metadata": {},
      "outputs": [],
      "source": [
        "'abc' + 'def'"
      ],
      "id": "cf377d1e"
    },
    {
      "cell_type": "code",
      "execution_count": 36,
      "metadata": {},
      "outputs": [],
      "source": [
        "'abc'*3"
      ],
      "id": "d3178127"
    },
    {
      "cell_type": "code",
      "execution_count": 37,
      "metadata": {},
      "outputs": [],
      "source": [
        "'abc' + 'abc' + 'abc'"
      ],
      "id": "bb017986"
    },
    {
      "cell_type": "markdown",
      "metadata": {},
      "source": [
        "#### substrings"
      ],
      "id": "3b74abcc-42a0-4bb6-8fb9-1955aca1c0a2"
    },
    {
      "cell_type": "code",
      "execution_count": 38,
      "metadata": {},
      "outputs": [],
      "source": [
        "# strings can be accessed as arrays (0 based indexing)\n",
        "s = \"a b c\"\n",
        "s[0]"
      ],
      "id": "e7e26ce1"
    },
    {
      "cell_type": "code",
      "execution_count": 39,
      "metadata": {},
      "outputs": [],
      "source": [
        "# slice notation (  [min,max[ )\n",
        "s = \"a b c d\"\n",
        "s[2:5] # 0-based; 2 included, 5 excluded"
      ],
      "id": "235cda39"
    },
    {
      "cell_type": "code",
      "execution_count": 40,
      "metadata": {},
      "outputs": [],
      "source": [
        "# substrings are easy to check\n",
        "\"a\" in s"
      ],
      "id": "54dcad4b"
    },
    {
      "cell_type": "code",
      "execution_count": 41,
      "metadata": {},
      "outputs": [],
      "source": [
        "\"b c\" in \"a b c d\""
      ],
      "id": "b2369ee5"
    },
    {
      "cell_type": "markdown",
      "metadata": {},
      "source": [
        "It is impossible to modify a substring."
      ],
      "id": "0d47bacb-7d99-40fa-8870-43ce20d36440"
    },
    {
      "cell_type": "code",
      "execution_count": 42,
      "metadata": {},
      "outputs": [],
      "source": [
        "# but are immutable\n",
        "s = \"a b c\"\n",
        "#s[1] = 0 error"
      ],
      "id": "45533abb"
    },
    {
      "cell_type": "markdown",
      "metadata": {},
      "source": [
        "Instead, one can replace a substring:"
      ],
      "id": "b3bf7bf0-0b13-4fa0-8c8b-c5dc75e24f93"
    },
    {
      "cell_type": "code",
      "execution_count": 43,
      "metadata": {},
      "outputs": [],
      "source": [
        "s"
      ],
      "id": "dae11e93"
    },
    {
      "cell_type": "code",
      "execution_count": 44,
      "metadata": {},
      "outputs": [],
      "source": [
        "s.replace(' ', '🎻')"
      ],
      "id": "4b90b20d"
    },
    {
      "cell_type": "markdown",
      "metadata": {},
      "source": [
        "Or use string interpolation"
      ],
      "id": "aa186083-93e5-488e-8116-52cb54841838"
    },
    {
      "cell_type": "code",
      "execution_count": 45,
      "metadata": {},
      "outputs": [],
      "source": [
        "# string interpolation (old school)\n",
        "\"ny name is {name}\".format(name=\"nobody\")"
      ],
      "id": "6136e298"
    },
    {
      "cell_type": "code",
      "execution_count": 46,
      "metadata": {},
      "outputs": [],
      "source": [
        "\"calculation took {time}s\".format(time=10000)"
      ],
      "id": "bd245839"
    },
    {
      "cell_type": "code",
      "execution_count": 47,
      "metadata": {},
      "outputs": [],
      "source": [
        "# number format can be tweaked\n",
        "\"I am {age:.0f} years old\".format(age=5.65)"
      ],
      "id": "3c541117"
    },
    {
      "cell_type": "code",
      "execution_count": 48,
      "metadata": {},
      "outputs": [],
      "source": [
        "# formatted strings\n",
        "elapsed = 15914884.300292\n",
        "\n",
        "f\"computations took {elapsed/3600:.2f} hours\""
      ],
      "id": "505ab3e3"
    },
    {
      "cell_type": "code",
      "execution_count": 49,
      "metadata": {},
      "outputs": [],
      "source": [
        "name = \"arnaldur\""
      ],
      "id": "f6618020"
    },
    {
      "cell_type": "code",
      "execution_count": 50,
      "metadata": {},
      "outputs": [],
      "source": [
        "\"dasnfnaksujhn {name}\".format(name=\"whatever\")"
      ],
      "id": "968d543e"
    },
    {
      "cell_type": "code",
      "execution_count": 51,
      "metadata": {},
      "outputs": [],
      "source": [
        "# basic string operations: str.split, str.join, etc...\n",
        "# fast regular expressions\n",
        "# more on it, with text processing lesson"
      ],
      "id": "5ca1804a"
    },
    {
      "cell_type": "code",
      "execution_count": 52,
      "metadata": {},
      "outputs": [],
      "source": [
        "str.split(\"me,you,others,them\",',')"
      ],
      "id": "18238a6e"
    },
    {
      "cell_type": "code",
      "execution_count": 53,
      "metadata": {},
      "outputs": [],
      "source": [
        "str.join( \" | \",\n",
        "    str.split(\"me,you,others,them\",','),\n",
        ")"
      ],
      "id": "e2452d65"
    },
    {
      "cell_type": "markdown",
      "metadata": {},
      "source": [
        "#### Escaping characters\n",
        "\n",
        "The example above used several special characters: `\\n` which\n",
        "corresponds to only one ascii character and `{`/`}` which disappears\n",
        "after the string formatting. If one desires to print these characters\n",
        "precisely one needs to escape them using `\\` and `{` `}`."
      ],
      "id": "cb4fdfc8-60ea-43a8-bbce-1d7e9b24ede6"
    },
    {
      "cell_type": "code",
      "execution_count": 54,
      "metadata": {},
      "outputs": [],
      "source": [
        "print(\"This is a one \\\\nline string\")\n",
        "print(\"This string keeps some {{curly}} brackets{}\".format('.'))"
      ],
      "id": "1dbe6010"
    },
    {
      "cell_type": "markdown",
      "metadata": {},
      "source": [
        "#### Other operations on strings\n",
        "\n",
        "(check help(str) or help?)\n",
        "\n",
        "-   len() : length\n",
        "-   strip() : removes characters at the ends\n",
        "-   split() : split strings into several substrings separated by\n",
        "    separator\n",
        "-   join() : opposite of split"
      ],
      "id": "132123a5-0ba6-415f-bafc-26fe70d92ebf"
    },
    {
      "cell_type": "code",
      "execution_count": 55,
      "metadata": {},
      "outputs": [],
      "source": [
        "'others,'"
      ],
      "id": "0caadd44"
    },
    {
      "cell_type": "code",
      "execution_count": 56,
      "metadata": {},
      "outputs": [],
      "source": [
        "',me,others,'.strip(',')"
      ],
      "id": "d16f299f"
    },
    {
      "cell_type": "code",
      "execution_count": 57,
      "metadata": {},
      "outputs": [],
      "source": [
        "s.count(',')"
      ],
      "id": "9462aa03"
    },
    {
      "cell_type": "code",
      "execution_count": 58,
      "metadata": {},
      "outputs": [],
      "source": [
        "help(str)"
      ],
      "id": "7f718596"
    },
    {
      "cell_type": "markdown",
      "metadata": {},
      "source": [
        "## Assignment\n",
        "\n",
        "Any object can be reused by assigning an identifier to it. This is done\n",
        "with assignment operator `=`."
      ],
      "id": "ae3591f4-2e5b-4973-9fe6-ffaf52b1b820"
    },
    {
      "cell_type": "code",
      "execution_count": 59,
      "metadata": {},
      "outputs": [],
      "source": [
        "a = 3\n",
        "a"
      ],
      "id": "fa84d058"
    },
    {
      "cell_type": "markdown",
      "metadata": {},
      "source": [
        "Note that assignment operator `=` is different from comparison operator\n",
        "`==`. Comparison operator is always True or False, while assignment\n",
        "operator has no value."
      ],
      "id": "d1a0be2c-b740-4f7f-84b3-7154f1e34fe2"
    },
    {
      "cell_type": "code",
      "execution_count": 60,
      "metadata": {},
      "outputs": [],
      "source": [
        "(2==2) == True"
      ],
      "id": "07d7b3ef"
    },
    {
      "cell_type": "markdown",
      "metadata": {},
      "source": [
        "## Containers\n",
        "\n",
        "Any object created in Python is identified by a unique `id`. One can\n",
        "think of it approximately as its reference. Object collections, contain\n",
        "arbitrary other python objects, that is they contain references to them."
      ],
      "id": "b77d3013-f83c-4856-b84d-c5bced263d86"
    },
    {
      "cell_type": "code",
      "execution_count": 61,
      "metadata": {},
      "outputs": [],
      "source": [
        "id(s)"
      ],
      "id": "3b1f4cb2"
    },
    {
      "cell_type": "markdown",
      "metadata": {},
      "source": [
        "### tuples\n",
        "\n",
        "#### construction"
      ],
      "id": "fa87a07a-bee0-4ec5-9b62-0d6858595cb1"
    },
    {
      "cell_type": "code",
      "execution_count": 62,
      "metadata": {},
      "outputs": [],
      "source": [
        "(1,2,\"a\" )"
      ],
      "id": "c97b4d4d"
    },
    {
      "cell_type": "markdown",
      "metadata": {},
      "source": [
        "Since tuples are immutable, two identical tuples, will always contain\n",
        "the same data."
      ],
      "id": "cbfa2b45-6fa2-44f3-ae1b-440f57be6a82"
    },
    {
      "cell_type": "code",
      "execution_count": 63,
      "metadata": {},
      "outputs": [],
      "source": [
        "t1  = (2,23)\n",
        "t2  = (2,23)"
      ],
      "id": "e205d164"
    },
    {
      "cell_type": "code",
      "execution_count": 64,
      "metadata": {},
      "outputs": [],
      "source": [
        "# can contain any data\n",
        "t = (1,2,3,4,5,6)\n",
        "t1 = (t, \"a\", (1,2))\n",
        "t2 = (0,)  # note trailing coma for one element tuple\n",
        "t3 = (t, \"a\", (1,2))"
      ],
      "id": "7c3f95e1"
    },
    {
      "cell_type": "code",
      "execution_count": 65,
      "metadata": {},
      "outputs": [],
      "source": [
        "t[0] = 78"
      ],
      "id": "0f6bf834"
    },
    {
      "cell_type": "markdown",
      "metadata": {},
      "source": [
        "Since tuples never change, they can be compared by hash values (if the\n",
        "data they hold can be hashed). Two tuples are identical if they contain\n",
        "the same data.\n",
        "\n",
        "Remark: hash function is any function that can be used to map data of\n",
        "arbitrary size to data of a fixed size. It is such that the probability\n",
        "of two data points of having the same hash is very small even if they\n",
        "are close to each other."
      ],
      "id": "9eb7dde5-4b42-4566-929f-37a60ae79fc6"
    },
    {
      "cell_type": "code",
      "execution_count": 66,
      "metadata": {},
      "outputs": [],
      "source": [
        "t3 == t1"
      ],
      "id": "ad292a67"
    },
    {
      "cell_type": "code",
      "execution_count": 67,
      "metadata": {},
      "outputs": [],
      "source": [
        "print(hash(t3))\n",
        "print(hash(t1))"
      ],
      "id": "eece2d8c"
    },
    {
      "cell_type": "code",
      "execution_count": 68,
      "metadata": {},
      "outputs": [],
      "source": [
        "id(t3), id(t1)"
      ],
      "id": "87e5c170"
    },
    {
      "cell_type": "markdown",
      "metadata": {},
      "source": [
        "#### access elements"
      ],
      "id": "efb815f2-6afd-471e-ae4c-71ee091ee5f9"
    },
    {
      "cell_type": "code",
      "execution_count": 69,
      "metadata": {},
      "outputs": [],
      "source": [
        "# elements are accessed with brackets (0-based)\n",
        "t[0]"
      ],
      "id": "9818c2ce"
    },
    {
      "cell_type": "code",
      "execution_count": 70,
      "metadata": {},
      "outputs": [],
      "source": [
        "# slice notation works too (  [min,max[ )\n",
        "t[1:3]"
      ],
      "id": "8b363d52"
    },
    {
      "cell_type": "code",
      "execution_count": 71,
      "metadata": {},
      "outputs": [],
      "source": [
        "# repeat with *\n",
        "(3,2)*5"
      ],
      "id": "d026e100"
    },
    {
      "cell_type": "code",
      "execution_count": 72,
      "metadata": {},
      "outputs": [],
      "source": [
        "(0)*5"
      ],
      "id": "9331942b"
    },
    {
      "cell_type": "code",
      "execution_count": 73,
      "metadata": {},
      "outputs": [],
      "source": [
        "(0,)*5"
      ],
      "id": "43743627"
    },
    {
      "cell_type": "code",
      "execution_count": 74,
      "metadata": {},
      "outputs": [],
      "source": [
        "t2*5"
      ],
      "id": "532953b7"
    },
    {
      "cell_type": "code",
      "execution_count": 75,
      "metadata": {},
      "outputs": [],
      "source": [
        "# concatenate with +\n",
        "t+t1+t2"
      ],
      "id": "ab796ea2"
    },
    {
      "cell_type": "code",
      "execution_count": 76,
      "metadata": {},
      "outputs": [],
      "source": [
        "# test for membership\n",
        "\n",
        "(1 in t)"
      ],
      "id": "c262b7b4"
    },
    {
      "cell_type": "markdown",
      "metadata": {},
      "source": [
        "### lists\n",
        "\n",
        "lists are enclosed by brackets are *mutable ordered collections of\n",
        "elements*"
      ],
      "id": "e08bb85a-f612-40c1-8600-b091e50aa281"
    },
    {
      "cell_type": "code",
      "execution_count": 77,
      "metadata": {},
      "outputs": [],
      "source": [
        "l = [1,\"a\",4,5]"
      ],
      "id": "a4881a6f"
    },
    {
      "cell_type": "code",
      "execution_count": 78,
      "metadata": {},
      "outputs": [],
      "source": [
        "l[1]"
      ],
      "id": "94024c5b"
    },
    {
      "cell_type": "code",
      "execution_count": 79,
      "metadata": {},
      "outputs": [],
      "source": [
        "l[1:] # if we omit the upper-bound it goes until the last element"
      ],
      "id": "934462ff"
    },
    {
      "cell_type": "code",
      "execution_count": 80,
      "metadata": {},
      "outputs": [],
      "source": [
        "l[:2]"
      ],
      "id": "95cc2ac8"
    },
    {
      "cell_type": "code",
      "execution_count": 81,
      "metadata": {},
      "outputs": [],
      "source": [
        "# lists are concatenated with +\n",
        "l[:2] + l[2:] == l"
      ],
      "id": "9537bf2c"
    },
    {
      "cell_type": "code",
      "execution_count": 82,
      "metadata": {},
      "outputs": [],
      "source": [
        "# test for membership\n",
        "(5 in l)"
      ],
      "id": "d2dcb5f5"
    },
    {
      "cell_type": "code",
      "execution_count": 83,
      "metadata": {},
      "outputs": [],
      "source": [
        "# lists can be extended inplace\n",
        "ll = [1,2,3]\n",
        "ll.extend([4,5]) # several elements\n",
        "ll.append(6)\n",
        "ll"
      ],
      "id": "e1a6eaf8"
    },
    {
      "cell_type": "markdown",
      "metadata": {},
      "source": [
        "Since lists are mutable, it makes no sense to compute them by hash value\n",
        "(or the hash needs to be recomputed every time the values change)."
      ],
      "id": "48a23ddf-081c-4d3d-996e-0363446fde48"
    },
    {
      "cell_type": "code",
      "execution_count": 84,
      "metadata": {},
      "outputs": [],
      "source": [
        "hash(ll)"
      ],
      "id": "8d2f9874"
    },
    {
      "cell_type": "markdown",
      "metadata": {},
      "source": [
        "Sorted lists can be created with sorted (if elements can be ranked)"
      ],
      "id": "5b912fc3-137a-4b77-9a05-8e05cad07fd9"
    },
    {
      "cell_type": "code",
      "execution_count": 85,
      "metadata": {},
      "outputs": [],
      "source": [
        "ll = [4,3,5]"
      ],
      "id": "ae4eb22f"
    },
    {
      "cell_type": "code",
      "execution_count": 86,
      "metadata": {},
      "outputs": [],
      "source": [
        "sorted(ll)"
      ],
      "id": "d61325f2"
    },
    {
      "cell_type": "code",
      "execution_count": 87,
      "metadata": {},
      "outputs": [],
      "source": [
        "ll"
      ],
      "id": "5299c3cb"
    },
    {
      "cell_type": "markdown",
      "metadata": {},
      "source": [
        "It is also possible to sort in place."
      ],
      "id": "a22242f4-26c3-41a7-b21a-63a392dbc271"
    },
    {
      "cell_type": "code",
      "execution_count": 88,
      "metadata": {},
      "outputs": [],
      "source": [
        "ll.sort()\n",
        "ll"
      ],
      "id": "422b8962"
    },
    {
      "cell_type": "code",
      "execution_count": 89,
      "metadata": {},
      "outputs": [],
      "source": [
        "sorted(ll) # creates a new list\n",
        "ll.sort()  # does it in place"
      ],
      "id": "b3fab8e7"
    },
    {
      "cell_type": "code",
      "execution_count": 90,
      "metadata": {},
      "outputs": [],
      "source": [
        "# in python internals:    ll.sort() equivalent sort(ll)"
      ],
      "id": "75401a65"
    },
    {
      "cell_type": "markdown",
      "metadata": {},
      "source": [
        "### set\n",
        "\n",
        "Sets are unordered collections of unique elements."
      ],
      "id": "14296913-462b-44c3-a617-b2df94000a25"
    },
    {
      "cell_type": "code",
      "execution_count": 91,
      "metadata": {},
      "outputs": [],
      "source": [
        "s1 = set([1,2,3,3,4,3,4])\n",
        "s2 = set([3,4,4,6,8])\n",
        "print(s1, s2)\n",
        "print(s1.intersection(s2))"
      ],
      "id": "654fd859"
    },
    {
      "cell_type": "code",
      "execution_count": 92,
      "metadata": {},
      "outputs": [],
      "source": [
        "{3,4} == {4,3}"
      ],
      "id": "a090ad15"
    },
    {
      "cell_type": "markdown",
      "metadata": {},
      "source": [
        "### dictionaries\n",
        "\n",
        "Dictionaries are ordered associative collections of elements. They store\n",
        "values associated to keys."
      ],
      "id": "4585e9bf-a337-43b5-8f69-71f9765e98d7"
    },
    {
      "cell_type": "code",
      "execution_count": 93,
      "metadata": {},
      "outputs": [],
      "source": [
        "# construction with curly brackets\n",
        "d = {'a':0, 'b':1}"
      ],
      "id": "3ccc254e"
    },
    {
      "cell_type": "code",
      "execution_count": 94,
      "metadata": {},
      "outputs": [],
      "source": [
        "d"
      ],
      "id": "cc9c4b6b"
    },
    {
      "cell_type": "code",
      "execution_count": 95,
      "metadata": {},
      "outputs": [],
      "source": [
        "# values can be recovered by indexing the dict with a key\n",
        "d['b']"
      ],
      "id": "3f64928c"
    },
    {
      "cell_type": "code",
      "execution_count": 96,
      "metadata": {},
      "outputs": [],
      "source": [
        "d = dict()\n",
        "# d['a'] = 42\n",
        "# d['b'] = 78\n",
        "d"
      ],
      "id": "7b3fcb2c"
    },
    {
      "cell_type": "code",
      "execution_count": 97,
      "metadata": {},
      "outputs": [],
      "source": [
        "d['a'] = 42"
      ],
      "id": "a321de7e"
    },
    {
      "cell_type": "code",
      "execution_count": 98,
      "metadata": {},
      "outputs": [],
      "source": [
        "d['b']"
      ],
      "id": "48cb316e"
    },
    {
      "cell_type": "markdown",
      "metadata": {},
      "source": [
        "Keys can be any hashable value:"
      ],
      "id": "94aa4d07-cf3d-44bf-a5bc-e0f1cb2611ed"
    },
    {
      "cell_type": "code",
      "execution_count": 99,
      "metadata": {},
      "outputs": [],
      "source": [
        "d[('a','b')] = 100"
      ],
      "id": "64e14143"
    },
    {
      "cell_type": "code",
      "execution_count": 100,
      "metadata": {},
      "outputs": [],
      "source": [
        "d[ ['a','b'] ] = 100 # that won't work"
      ],
      "id": "74584d27"
    },
    {
      "cell_type": "markdown",
      "metadata": {},
      "source": [
        "Note: until python 3.5 dictionaries were not ordered. Now the are\n",
        "guaranteed to keep the insertion order\n",
        "\n",
        "## Control flows\n",
        "\n",
        "### Conditional blocks\n",
        "\n",
        "Conditional blocks are preceeded by `if` and followed by an indented\n",
        "block. Note that it is advised to indent a block by a fixed set of space\n",
        "(usually 4) rather than use tabs."
      ],
      "id": "cb99debe-2315-4dc9-9e91-fd32666047f8"
    },
    {
      "cell_type": "code",
      "execution_count": 101,
      "metadata": {},
      "outputs": [],
      "source": [
        "if 'sun'>'moon':\n",
        "    print('warm')"
      ],
      "id": "099c9401"
    },
    {
      "cell_type": "markdown",
      "metadata": {},
      "source": [
        "They can also be followed by elif and else statements:"
      ],
      "id": "9cfc4664-be8b-4e04-8adc-ed38c85f8fab"
    },
    {
      "cell_type": "code",
      "execution_count": 102,
      "metadata": {},
      "outputs": [],
      "source": [
        "x = 0.5\n",
        "if (x<0):\n",
        "    y = 0.0\n",
        "elif (x<1.0):\n",
        "    y = x\n",
        "else:\n",
        "    y = 1+(x-1)*0.5"
      ],
      "id": "cc62598b"
    },
    {
      "cell_type": "markdown",
      "metadata": {},
      "source": [
        "Remark that in the conditions, any variable can be used. The following\n",
        "evaluate to False: - 0 - empty collection"
      ],
      "id": "97fc3076-160d-4524-8f35-4becd0fcc592"
    },
    {
      "cell_type": "code",
      "execution_count": 103,
      "metadata": {},
      "outputs": [],
      "source": [
        "if 0: print(\"I won't print this.\")\n",
        "if 1: print(\"Maybe I will.\")\n",
        "if {}: print(\"Sir, your dictionary is empty\")\n",
        "if \"\": print(\"Sir, there is no string to speak of.\")"
      ],
      "id": "5c352da3"
    },
    {
      "cell_type": "markdown",
      "metadata": {},
      "source": [
        "### While\n",
        "\n",
        "The content of the while loop is repeated as long as a certain condition\n",
        "is met. Don’t forget to change that condition or the loop might run\n",
        "forever."
      ],
      "id": "46000942-7968-4e7f-8585-686e955d2f17"
    },
    {
      "cell_type": "code",
      "execution_count": 104,
      "metadata": {},
      "outputs": [],
      "source": [
        "point_made = False\n",
        "i = 0\n",
        "while not point_made:\n",
        "    print(\"A fanatic is one who can't change his mind and won't change the subject.\")\n",
        "    i += 1 # this is a quasi-synonym of i = i + 1\n",
        "    if i>=20:\n",
        "          point_made = True"
      ],
      "id": "b2489c58"
    },
    {
      "cell_type": "markdown",
      "metadata": {},
      "source": [
        "### Loops"
      ],
      "id": "ed62c579-9b5d-4443-a511-dbf63181d13e"
    },
    {
      "cell_type": "code",
      "execution_count": 105,
      "metadata": {},
      "outputs": [],
      "source": [
        "# while loops\n",
        "i = 0\n",
        "while i<=10:\n",
        "    print(str(i)+\" \",  end='')\n",
        "    i+=1"
      ],
      "id": "ca904f8f"
    },
    {
      "cell_type": "code",
      "execution_count": 106,
      "metadata": {},
      "outputs": [],
      "source": [
        "# for loop\n",
        "for i in [0,1,2,3,4,5,6,7,8,9,10]:\n",
        "    print(str(i)+\" \",  end='')"
      ],
      "id": "a37584ee"
    },
    {
      "cell_type": "code",
      "execution_count": 107,
      "metadata": {},
      "outputs": [],
      "source": [
        "# this works for any kind of iterable\n",
        "# for loop\n",
        "for i in (0,1,2,3,4,5,6,7,8,9,10):\n",
        "    print(str(i)+\" \",  end='')"
      ],
      "id": "fb4e301b"
    },
    {
      "cell_type": "code",
      "execution_count": 108,
      "metadata": {},
      "outputs": [],
      "source": [
        "# including range generator (note last value)\n",
        "for i in range(11): \n",
        "    print(str(i)+\" \",  end='')"
      ],
      "id": "036a0565"
    },
    {
      "cell_type": "code",
      "execution_count": 109,
      "metadata": {},
      "outputs": [],
      "source": [
        "range(11)"
      ],
      "id": "03834f83"
    },
    {
      "cell_type": "code",
      "execution_count": 110,
      "metadata": {},
      "outputs": [],
      "source": [
        "# one can also enumerate elements\n",
        "countries = (\"france\", \"uk\", \"germany\")\n",
        "for i,c in enumerate(countries): \n",
        "    print(f\"{i}: {c}\")"
      ],
      "id": "d3030a68"
    },
    {
      "cell_type": "code",
      "execution_count": 111,
      "metadata": {},
      "outputs": [],
      "source": [
        "s = set(c)"
      ],
      "id": "867efee0"
    },
    {
      "cell_type": "code",
      "execution_count": 112,
      "metadata": {},
      "outputs": [],
      "source": [
        "# conditional blocks are constructed with if, elif, else\n",
        "for i,c in enumerate(countries):\n",
        "    if len(set(c).intersection(set(\"brexit\"))):\n",
        "        print(c)\n",
        "    else:\n",
        "        print(c + \" 😢\")"
      ],
      "id": "a5322471"
    },
    {
      "cell_type": "markdown",
      "metadata": {},
      "source": [
        "It is possible to iterate over any iterable. This is true for a list or\n",
        "a generator:"
      ],
      "id": "873bd5a3-8ac7-49aa-a795-db225272f547"
    },
    {
      "cell_type": "code",
      "execution_count": 113,
      "metadata": {},
      "outputs": [],
      "source": [
        "for i in range(10): # range(10) is a generator\n",
        "    print(i)"
      ],
      "id": "3bfade47"
    },
    {
      "cell_type": "code",
      "execution_count": 114,
      "metadata": {},
      "outputs": [],
      "source": [
        "for i in [0,1,2,3,4,5,6,7,8,9]:\n",
        "    print(i)"
      ],
      "id": "08761c8e"
    },
    {
      "cell_type": "markdown",
      "metadata": {},
      "source": [
        "We can iterate of dictionary keys or values"
      ],
      "id": "27f36ad0-5a59-4f14-9910-23d596e67217"
    },
    {
      "cell_type": "code",
      "execution_count": 115,
      "metadata": {},
      "outputs": [],
      "source": [
        "d = {1:2, 3:'i'}\n",
        "for k in d.keys():\n",
        "    print(k, d[k])\n",
        "for k in d.values():\n",
        "    print(k)"
      ],
      "id": "83c2edc2"
    },
    {
      "cell_type": "markdown",
      "metadata": {},
      "source": [
        "or both at the same time:"
      ],
      "id": "390095fa-c974-4ac4-85f9-e0fb7e83d781"
    },
    {
      "cell_type": "code",
      "execution_count": 116,
      "metadata": {},
      "outputs": [],
      "source": [
        "for t in d.items():\n",
        "    print(t)\n",
        "\n",
        "# look at automatic unpacking\n",
        "for (k,v) in d.items():\n",
        "    print(f\"key: {k}, value: {v}\")"
      ],
      "id": "f09cd9f1"
    },
    {
      "cell_type": "markdown",
      "metadata": {},
      "source": [
        "### Comprehension and generators\n",
        "\n",
        "There is an easy syntax to construct lists/tuples/dicts: comprehension.\n",
        "Syntax is remminiscent of a for loop."
      ],
      "id": "f2175218-bb77-484d-bcee-53c8c0d09210"
    },
    {
      "cell_type": "code",
      "execution_count": 117,
      "metadata": {},
      "outputs": [],
      "source": [
        "[i**2 for i in range(10)]"
      ],
      "id": "0d03c7c2"
    },
    {
      "cell_type": "code",
      "execution_count": 118,
      "metadata": {},
      "outputs": [],
      "source": [
        "set(i-(i//2*2) for i in range(10))"
      ],
      "id": "c8642ba5"
    },
    {
      "cell_type": "code",
      "execution_count": 119,
      "metadata": {},
      "outputs": [],
      "source": [
        "{i: i**2 for i in range(10)}"
      ],
      "id": "e13cacc1"
    },
    {
      "cell_type": "markdown",
      "metadata": {},
      "source": [
        "Comprehension can be combined with conditions:"
      ],
      "id": "9808019d-6b5d-41bb-a505-412768d311f7"
    },
    {
      "cell_type": "code",
      "execution_count": 120,
      "metadata": {},
      "outputs": [],
      "source": [
        "[i**2 for i in range(10) if i//3>2]"
      ],
      "id": "2801d438"
    },
    {
      "cell_type": "markdown",
      "metadata": {},
      "source": [
        "Behind the comprehension syntax, there is a special object called\n",
        "generator. Its role is to supply objects one by one like any other\n",
        "iterable."
      ],
      "id": "87e3aee9-20f2-4649-90b7-e3dc25a903d9"
    },
    {
      "cell_type": "code",
      "execution_count": 121,
      "metadata": {},
      "outputs": [],
      "source": [
        "# note the bracket\n",
        "gen = (i**2 for i in range(10))\n",
        "gen # does nothing"
      ],
      "id": "409f89c5"
    },
    {
      "cell_type": "code",
      "execution_count": 122,
      "metadata": {},
      "outputs": [],
      "source": [
        "gen = (i**2 for i in range(10))\n",
        "for e in gen:\n",
        "    print(e)"
      ],
      "id": "4c5c45ab"
    },
    {
      "cell_type": "code",
      "execution_count": 123,
      "metadata": {},
      "outputs": [],
      "source": [
        "gen = (i**2 for i in range(10))\n",
        "print([e for e in gen])"
      ],
      "id": "bb19d268"
    },
    {
      "cell_type": "markdown",
      "metadata": {},
      "source": [
        "There is a shortcut to converte a generator into a list: it’s called\n",
        "unpacking:"
      ],
      "id": "91d4e28b-c2b9-4aa2-9405-43a0b2569ba6"
    },
    {
      "cell_type": "code",
      "execution_count": 124,
      "metadata": {},
      "outputs": [],
      "source": [
        "gen = (i**2 for i in range(10))\n",
        "[*gen]"
      ],
      "id": "111171cf"
    },
    {
      "cell_type": "markdown",
      "metadata": {},
      "source": [
        "## Functions\n",
        "\n",
        "Wrong approach"
      ],
      "id": "bbcf7ad3-df70-4cb5-ba04-b0c39282b969"
    },
    {
      "cell_type": "code",
      "execution_count": 125,
      "metadata": {},
      "outputs": [],
      "source": [
        "a1 = 34\n",
        "b1 = (1+a1*a1)\n",
        "c1 = (a1+b1*b1)\n",
        "\n",
        "a2 = 36\n",
        "b2 = (1+a2*a2)\n",
        "c2 = (a2+b2*b2)\n",
        "\n",
        "print(c1,c2)"
      ],
      "id": "46c094d1"
    },
    {
      "cell_type": "markdown",
      "metadata": {},
      "source": [
        "Better approach"
      ],
      "id": "f9ba879a-4b86-4261-ae25-2831129e145d"
    },
    {
      "cell_type": "code",
      "execution_count": 126,
      "metadata": {},
      "outputs": [],
      "source": [
        "def calc(a):\n",
        "    b = 1+a*a\n",
        "    c = a+b*b\n",
        "    return c\n",
        "\n",
        "(calc(34), calc(36))"
      ],
      "id": "dd661ee2"
    },
    {
      "cell_type": "markdown",
      "metadata": {},
      "source": [
        "it is equivalent to replace the content of the function by:"
      ],
      "id": "a271bd3c-cac0-42f8-b903-c5681ffb615d"
    },
    {
      "cell_type": "code",
      "execution_count": 127,
      "metadata": {},
      "outputs": [],
      "source": [
        "a = 32\n",
        "_a = a          # def calc(a):\n",
        "_b = 1+_a*_a    #    b = 1+a*a\n",
        "_c = _a+_b*_b   #    c = a+b*b\n",
        "res = _c        #    return c"
      ],
      "id": "c7233dd3"
    },
    {
      "cell_type": "markdown",
      "metadata": {},
      "source": [
        "Note that variable names within the function have different names. This\n",
        "is to avoid name conflicts as in:"
      ],
      "id": "8c4d3797-9153-46de-a34a-cb6e5e430e72"
    },
    {
      "cell_type": "code",
      "execution_count": 128,
      "metadata": {},
      "outputs": [],
      "source": [
        "y = 1\n",
        "def f(x):\n",
        "    y = x**2\n",
        "    return y+1\n",
        "def g(x):\n",
        "    y = x**2+0.1\n",
        "    return y+1\n",
        "r1 = f(1.4)\n",
        "r2 = g(1.4)\n",
        "r3 = y\n",
        "(r1,r2,r3)"
      ],
      "id": "e64aef06"
    },
    {
      "cell_type": "code",
      "execution_count": 129,
      "metadata": {},
      "outputs": [],
      "source": [
        "l = ['france', 'germany']\n",
        "def fun(i):\n",
        "    print(f\"Country: {l[i]}\")\n",
        "fun(0)"
      ],
      "id": "32a83b31"
    },
    {
      "cell_type": "code",
      "execution_count": 130,
      "metadata": {},
      "outputs": [],
      "source": [
        "l = ['france', 'germany']\n",
        "def fun(i):\n",
        "    l = ['usa', 'japan']\n",
        "    l.append('spain')\n",
        "    print(f\"Country: {l[i]}\")\n",
        "fun(0)"
      ],
      "id": "1fefb2fe"
    },
    {
      "cell_type": "code",
      "execution_count": 131,
      "metadata": {},
      "outputs": [],
      "source": [
        "l"
      ],
      "id": "83cb9c3b"
    },
    {
      "cell_type": "markdown",
      "metadata": {},
      "source": [
        "In the preceding code block, value of `y` has not been changed by\n",
        "calling the two functions. Check\n",
        "[pythontutor](http://pythontutor.com/visualize.html#code=y%20%3D%201%0Adef%20f%28x%29%3A%0A%20%20%20%20y%20%3D%20x**2%0A%20%20%20%20return%20y%2B1%0Adef%20g%28x%29%3A%0A%20%20%20%20y%20%3D%20x**2%0A%20%20%20%20return%20y%2B1%0Ar1%20%3D%20f%281.4%29%0Ar2%20%3D%20g%281.4%29%0Ar3%20%3D%20y%0A%28r1,r2,r3%29&cumulative=false&curInstr=0&heapPrimitives=nevernest&mode=display&origin=opt-frontend.js&py=3&rawInputLstJSON=%5B%5D&textReferences=false).\n",
        "\n",
        "### Calling conventions\n",
        "\n",
        "Function definitions start with `def` and a colon indentation. Value are\n",
        "returned by `return` keyword. Otherwise the return value is `None`.\n",
        "Functions can have several arguments: `def f(x,y)` but always one return\n",
        "argument. It is however to return a tuple, and “unpack” it."
      ],
      "id": "b8d1121b-5f57-4178-b6e9-4bcfb20bda5b"
    },
    {
      "cell_type": "code",
      "execution_count": 132,
      "metadata": {},
      "outputs": [],
      "source": [
        "def f(x,y):\n",
        "    z1 = x+y\n",
        "    z2 = x-y\n",
        "    return (z1,z2)      # here brackets are optional:  `return z1,z2` works too\n",
        "\n",
        "res = f(0.1, 0.2)\n",
        "t1, t2 = f(0.2, 0.2)     # t1,t2=res works too"
      ],
      "id": "4e055c5e"
    },
    {
      "cell_type": "code",
      "execution_count": 133,
      "metadata": {},
      "outputs": [],
      "source": [
        "res"
      ],
      "id": "9f815977"
    },
    {
      "cell_type": "markdown",
      "metadata": {},
      "source": [
        "Named arguments can be passed in any order and receive default values."
      ],
      "id": "d2b921c0-c504-4c61-9d28-bbe861d7fc06"
    },
    {
      "cell_type": "code",
      "execution_count": 134,
      "metadata": {},
      "outputs": [],
      "source": [
        "def problem(why=\"The moon shines.\", what=\"Curiosity killed the cat.\", where=\"Paris\"):\n",
        "    print(f\"Is it because {why.lower().strip('.')} that {what.lower().strip('.')}, in {where.strip('.')}?\")"
      ],
      "id": "aea49119"
    },
    {
      "cell_type": "code",
      "execution_count": 135,
      "metadata": {},
      "outputs": [],
      "source": [
        "problem(where='Paris')"
      ],
      "id": "07fe84da"
    },
    {
      "cell_type": "code",
      "execution_count": 136,
      "metadata": {},
      "outputs": [],
      "source": [
        "problem(where=\"ESCP\", why=\"Square root of two is irrational\", what=\"Some regressions never work.\")"
      ],
      "id": "155341ee"
    },
    {
      "cell_type": "markdown",
      "metadata": {},
      "source": [
        "Positional arguments and keyword arguments can be combined"
      ],
      "id": "05a89711-7120-43d5-b9bf-2ce22ee775be"
    },
    {
      "cell_type": "code",
      "execution_count": 137,
      "metadata": {},
      "outputs": [],
      "source": [
        "def f(x, y, β=0.9, γ=4.0, δ=0.1):\n",
        "    return x*β+y**γ*δ"
      ],
      "id": "4bb82a69"
    },
    {
      "cell_type": "code",
      "execution_count": 138,
      "metadata": {},
      "outputs": [],
      "source": [
        "f(0.1, 0.2)"
      ],
      "id": "29cda119"
    },
    {
      "cell_type": "markdown",
      "metadata": {},
      "source": [
        "### Docstrings\n",
        "\n",
        "Functions are documented with a special string. Documentation It must\n",
        "follow the function signature immediately and explain what arguments are\n",
        "expected and what the function does"
      ],
      "id": "cfbcba2d-17d1-49b4-a743-7d8493657fc9"
    },
    {
      "cell_type": "code",
      "execution_count": 139,
      "metadata": {},
      "outputs": [],
      "source": [
        "def f(x, y, β=0.9, γ=4.0, δ=0.1):   # kjhkugku\n",
        "    \"\"\"Compute the model residuals\n",
        "    \n",
        "    Parameters\n",
        "    ----------\n",
        "    x: (float) marginal propensity to do complicated stuff\n",
        "    y: (float) inverse of the elasticity of bifractional risk-neutral substitution\n",
        "    β: (float) time discount (default 0.9)\n",
        "    γ: (float) time discount (default 4.0)\n",
        "    δ: (float) time discount (default 0.1)\n",
        "    \n",
        "    Result\n",
        "    ------\n",
        "    res: beta-Hadamard measure of cohesiveness\n",
        "    \n",
        "    \"\"\"\n",
        "    res = x*β+y**γ*δ\n",
        "    return res"
      ],
      "id": "99a6bef7"
    },
    {
      "cell_type": "markdown",
      "metadata": {},
      "source": [
        "Remark: Python 3.6 has introduced type indication for functions. They\n",
        "are useful as an element of indication and potentially for type\n",
        "checking. We do not cover them in this tutorial but this is what they\n",
        "look like:"
      ],
      "id": "27ed00b4-c14c-4487-b63e-723e2a0bec89"
    },
    {
      "cell_type": "code",
      "execution_count": 140,
      "metadata": {},
      "outputs": [],
      "source": [
        "def f(a: int, b:int)->int:\n",
        "    if a<=1:\n",
        "        return 1\n",
        "    else:\n",
        "        return f(a-1,b) + f(a-2,b)*b"
      ],
      "id": "fd56e54a"
    },
    {
      "cell_type": "markdown",
      "metadata": {},
      "source": [
        "------------------------------------------------------------------------\n",
        "\n",
        "### Packing and unpacking\n",
        "\n",
        "A common case is when one wants to pass the elements of an iterable as\n",
        "positional argument and/or the elements of a dictionary as keyword\n",
        "arguments. This is espacially the case, when one wants to determine\n",
        "functions that act on a given calibration. Without unpacking all\n",
        "arguments would need to be passed separately."
      ],
      "id": "eeff315e-6f31-4df1-a7d0-59947dad47b5"
    },
    {
      "cell_type": "code",
      "execution_count": 141,
      "metadata": {},
      "outputs": [],
      "source": [
        "v = (0.1, 0.2)\n",
        "p = dict(β=0.9, γ=4.0, δ=0.1)\n",
        "\n",
        "f(v[0], v[1], β=p['β'], γ=p['γ'], δ=p['δ'])"
      ],
      "id": "0b2cfe13"
    },
    {
      "cell_type": "markdown",
      "metadata": {},
      "source": [
        "There is a special syntax for that: `*` unpacks positional arguments and\n",
        "`**` unpacks keyword arguments. Here is an example:"
      ],
      "id": "2ec77118-a825-4b55-a0b8-a0d719df55dc"
    },
    {
      "cell_type": "code",
      "execution_count": 142,
      "metadata": {},
      "outputs": [],
      "source": [
        "f(*v, **p)"
      ],
      "id": "4c469aac"
    },
    {
      "cell_type": "markdown",
      "metadata": {},
      "source": [
        "The same characters `*` and `**` can actually be used for the reverse\n",
        "operation, that is packing. This is useful to determine functions of a\n",
        "variable number of arguments."
      ],
      "id": "32923f07-b318-4de4-8501-936950575f69"
    },
    {
      "cell_type": "code",
      "execution_count": 143,
      "metadata": {},
      "outputs": [],
      "source": [
        "def fun(**p):\n",
        "    β = p['β']\n",
        "    return β+1\n",
        "fun(β=1.0)\n",
        "fun(β=1.0, γ=2.0) # γ is just ignored"
      ],
      "id": "79ec0af9"
    },
    {
      "cell_type": "markdown",
      "metadata": {},
      "source": [
        "Inside the function, unpacked objects are lists and dictionaries\n",
        "respectively."
      ],
      "id": "b9f83159-eb29-42a2-a4d8-1bebd812843b"
    },
    {
      "cell_type": "code",
      "execution_count": 144,
      "metadata": {},
      "outputs": [],
      "source": [
        "def fun(*args, **kwargs):\n",
        "    print(f\"Positional arguments: {len(args)}\")\n",
        "    for a in args:\n",
        "        print(f\"- {a}\")\n",
        "    print(f\"Keyword arguments: {len(args)}\")\n",
        "    for key,value in kwargs.items():\n",
        "        print(f\"- {key}: {value}\")"
      ],
      "id": "a70fb04f"
    },
    {
      "cell_type": "code",
      "execution_count": 145,
      "metadata": {},
      "outputs": [],
      "source": [
        "fun(0.1, 0.2, a=2, b=3, c=4)"
      ],
      "id": "6d6f85aa"
    },
    {
      "cell_type": "markdown",
      "metadata": {},
      "source": [
        "### Functions are first class objects\n",
        "\n",
        "This means they can be assigned and passed around."
      ],
      "id": "4f37a992-e336-42d8-8fad-6c65ac41e218"
    },
    {
      "cell_type": "code",
      "execution_count": 146,
      "metadata": {},
      "outputs": [],
      "source": [
        "def f(x): return 2*x*(1-x)\n",
        "g = f # now `g` and `f` point to the same function\n",
        "g(0.4)"
      ],
      "id": "0cd90064"
    },
    {
      "cell_type": "code",
      "execution_count": 147,
      "metadata": {},
      "outputs": [],
      "source": [
        "def sumsfun(l, f):\n",
        "    return [f(e) for e in l]"
      ],
      "id": "10310b1e"
    },
    {
      "cell_type": "code",
      "execution_count": 148,
      "metadata": {},
      "outputs": [],
      "source": [
        "sumsfun([0.0, 0.1, 0.2], f)"
      ],
      "id": "5320406f"
    },
    {
      "cell_type": "code",
      "execution_count": 149,
      "metadata": {},
      "outputs": [],
      "source": [
        "def compute_recursive_series(x0, fun, T=50):\n",
        "    a = [x0]\n",
        "    for t in range(T):\n",
        "        x0 = a[-1]\n",
        "        x = fun(x0)\n",
        "        a.append(x)\n",
        "    return a\n",
        "\n",
        "compute_recursive_series(0.3, f, T=5)"
      ],
      "id": "a59a5e4a"
    },
    {
      "cell_type": "markdown",
      "metadata": {},
      "source": [
        "There is another syntax to define a function, without giving it a name\n",
        "first: lambda functions. It is useful when passing a function as\n",
        "argument."
      ],
      "id": "8eae7221-00a2-46b0-a818-41750cbfb0b2"
    },
    {
      "cell_type": "code",
      "execution_count": 150,
      "metadata": {},
      "outputs": [],
      "source": [
        "sorted(range(6), key=lambda x: (-2)**x)"
      ],
      "id": "7b209328"
    },
    {
      "cell_type": "markdown",
      "metadata": {},
      "source": [
        "Lambda functions are also useful to reduce quickly the number of\n",
        "arguments of a function (aka curryfication)"
      ],
      "id": "38dca2ea-f249-46a1-a61d-e8c36dc78b94"
    },
    {
      "cell_type": "code",
      "execution_count": 151,
      "metadata": {},
      "outputs": [],
      "source": [
        "def logistic(μ,x): return μ*x*(1-x)\n",
        "# def chaotic(x): return logistic(3.7, x)\n",
        "# def convergent(x): return logistic(2.5, x)\n",
        "chaotic = lambda x: logistic(3.7, x)\n",
        "convergent = lambda x: logistic(2.5, x)"
      ],
      "id": "722e3813"
    },
    {
      "cell_type": "code",
      "execution_count": 152,
      "metadata": {},
      "outputs": [],
      "source": [
        "l = [compute_recursive_series(0.3,fun, T=20) for fun in [convergent, chaotic]]\n",
        "[*zip(*l)]"
      ],
      "id": "89a036b2"
    },
    {
      "cell_type": "code",
      "execution_count": 153,
      "metadata": {},
      "outputs": [],
      "source": [
        "from matplotlib import pyplot as plt\n",
        "import numpy as np\n",
        "tab = np.array(l)\n",
        "plt.plot(tab[0,:-1],tab[0,1:])\n",
        "tab = np.array(l)\n",
        "plt.plot(tab[1,:-1],tab[1,1:])\n",
        "plt.plot(np.linspace(0,1),np.linspace(0,1))\n",
        "plt.xlabel(\"$x_n$\")\n",
        "plt.ylabel(\"$x_{n+1}$\")\n",
        "plt.grid()"
      ],
      "id": "2627c7e0"
    },
    {
      "cell_type": "markdown",
      "metadata": {},
      "source": [
        "### Functions pass arguments by reference\n",
        "\n",
        "Most of the time, variable affectation just create a reference."
      ],
      "id": "d5b0f9a0-d018-4c78-9f81-9f4c03e3e1c9"
    },
    {
      "cell_type": "code",
      "execution_count": 154,
      "metadata": {},
      "outputs": [],
      "source": [
        "a = [1,2,3]\n",
        "b = a\n",
        "a[1] = 0\n",
        "(a, b)"
      ],
      "id": "86b2e3eb"
    },
    {
      "cell_type": "markdown",
      "metadata": {},
      "source": [
        "To get a copy instead, one needs to specify it explicitly."
      ],
      "id": "3b2f023c-f6f8-4353-afec-cc668d77d452"
    },
    {
      "cell_type": "code",
      "execution_count": 155,
      "metadata": {},
      "outputs": [],
      "source": [
        "import copy\n",
        "a = [1,2,3]\n",
        "b = copy.copy(a)\n",
        "a[1] = 0\n",
        "(a, b)"
      ],
      "id": "2597ffd0"
    },
    {
      "cell_type": "markdown",
      "metadata": {},
      "source": [
        "Not that copy follows only one level of references. Use deepcopy for\n",
        "more safety."
      ],
      "id": "b0eeade4-525e-4d50-82e8-d90552bd8489"
    },
    {
      "cell_type": "code",
      "execution_count": 156,
      "metadata": {},
      "outputs": [],
      "source": [
        "a0 = ['a','b']\n",
        "a = [a0, 1, 2]\n",
        "b = copy.copy(a)\n",
        "a[0][0] = 'ξ'\n",
        "a, b"
      ],
      "id": "1e727dc8"
    },
    {
      "cell_type": "code",
      "execution_count": 157,
      "metadata": {},
      "outputs": [],
      "source": [
        "a0 = ['a','b']\n",
        "a = [a0, 1, 2]\n",
        "b = copy.deepcopy(a)\n",
        "a[0][0] = 'ξ'\n",
        "a, b"
      ],
      "id": "afbc655e"
    },
    {
      "cell_type": "markdown",
      "metadata": {},
      "source": [
        "Arguments in a function are references towards the original object. No\n",
        "data is copied. It is then easy to construct functions with\n",
        "side-effects."
      ],
      "id": "c04a4ec1-26ae-4b1f-b1fd-616c770927b7"
    },
    {
      "cell_type": "code",
      "execution_count": 158,
      "metadata": {},
      "outputs": [],
      "source": [
        "def append_inplace(l1, obs):\n",
        "    l1.append(obs)\n",
        "    return l1\n",
        "l1, obs = ([1,2,3], 1.5)\n",
        "l2 = append_inplace(l1,obs)\n",
        "print(l2, l1)\n",
        "# note that l1 and l2 point to the same object\n",
        "l1[0] = 'hey'\n",
        "print(l2, l1)"
      ],
      "id": "995e6049"
    },
    {
      "cell_type": "markdown",
      "metadata": {},
      "source": [
        "This behaviour might feel unnatural but is very sensible. For instance\n",
        "if the argument is a database of several gigabytes and one wants to\n",
        "write a function which will modify a few of its elements, it is not\n",
        "reasonable to copy the db in full.\n",
        "\n",
        "## Objects\n",
        "\n",
        "Objects ?\n",
        "\n",
        "-   can be passed around / referred too\n",
        "-   have properties (data) and methods (functions) attached to them\n",
        "-   inherit properties/methods from other objects\n",
        "\n",
        "Objects are defined by a class definition. By convention, classes names\n",
        "start with uppercase . To create an object, one calls the class name,\n",
        "possibly with additional arguments."
      ],
      "id": "7e37a927-53cf-4e5f-a304-928ee87a4cad"
    },
    {
      "cell_type": "code",
      "execution_count": 159,
      "metadata": {},
      "outputs": [],
      "source": [
        "class Dog:\n",
        "    name = \"May\" # class property\n",
        "\n",
        "d1 = Dog()\n",
        "d2 = Dog()\n",
        "\n",
        "print(f\"Class: d1->{type(d1)}, d2->{type(d2)}\")\n",
        "print(f\"Instance address: d2->{d1},{d2}\")"
      ],
      "id": "5f36680a"
    },
    {
      "cell_type": "markdown",
      "metadata": {},
      "source": [
        "Now, `d1` and `d2` are two different instances of the same class `Dog`.\n",
        "Since properties are mutable, instances can have different data attached\n",
        "to it."
      ],
      "id": "aab4a630-3932-42d6-800a-33d6ba499cac"
    },
    {
      "cell_type": "code",
      "execution_count": 160,
      "metadata": {},
      "outputs": [],
      "source": [
        "d1.name = \"Boris\"\n",
        "print([e.name for e in [d1,d2]])"
      ],
      "id": "c28d8a80"
    },
    {
      "cell_type": "markdown",
      "metadata": {},
      "source": [
        "Methods are functions attached to a class / an instance. Their first\n",
        "argument is always an instance. The first argument can be used to acess\n",
        "data held by the instance."
      ],
      "id": "e0520a85-479b-4d80-b9c0-68e22c692dde"
    },
    {
      "cell_type": "code",
      "execution_count": 161,
      "metadata": {},
      "outputs": [],
      "source": [
        "class Dog:\n",
        "    name = None # default value\n",
        "    def bark(self):\n",
        "        print(\"Wouf\")\n",
        "    def converse(self):\n",
        "        n = self.name\n",
        "        print(f\"Hi, my name is {n}. I'm committed to a strong and stable government.\")\n",
        "        \n",
        "d = Dog()\n",
        "d.bark()   # bark(d)\n",
        "d.converse()"
      ],
      "id": "350686ac"
    },
    {
      "cell_type": "markdown",
      "metadata": {},
      "source": [
        "### Constructor\n",
        "\n",
        "There is also a special method `__init__` called the constructor. When\n",
        "an object is created, it is called on the instance. This is useful in\n",
        "order to initialize parameters of the instance."
      ],
      "id": "3c24d323-dd75-4b5d-994b-32d9bbdb4e70"
    },
    {
      "cell_type": "code",
      "execution_count": 162,
      "metadata": {},
      "outputs": [],
      "source": [
        "class Calibration:\n",
        "    \n",
        "    def __init__(self, x=0.1, y=0.1, β=0.0):\n",
        "        if not (β>0) and (β<1):\n",
        "            raise Exception(\"Incorrect calibration\"})\n",
        "        self.x = x\n",
        "        self.y = y\n",
        "        self.β = β\n"
      ],
      "id": "b9b7cb89"
    },
    {
      "cell_type": "code",
      "execution_count": 163,
      "metadata": {},
      "outputs": [],
      "source": [
        "c1 = Calibration()\n",
        "c2 = Calibration(x=3, y=4)"
      ],
      "id": "fd9f8a67"
    },
    {
      "cell_type": "markdown",
      "metadata": {},
      "source": [
        "Two instances of the same class have the same method, but can hold\n",
        "different data. This can change the behaviour of these methods."
      ],
      "id": "50c4cf11-cd49-4624-9279-24b4ede478fb"
    },
    {
      "cell_type": "code",
      "execution_count": 164,
      "metadata": {},
      "outputs": [],
      "source": [
        "# class Dog:\n",
        "    \n",
        "#     state = 'ok'\n",
        "    \n",
        "#     def bark(self):\n",
        "#         if self.state == 'ok':\n",
        "#             print(\"Wouf!\")\n",
        "#         else:\n",
        "#             print(\"Ahouuu!\")\n",
        "        \n",
        "# d = Dog()\n",
        "# d1 = Dog()\n",
        "# d1.state = 'hungry'\n",
        "\n",
        "# d.bark()\n",
        "# d1.bark()"
      ],
      "id": "8b3692ee"
    },
    {
      "cell_type": "markdown",
      "metadata": {},
      "source": [
        "To write a function which will manipulate properties and methods of an\n",
        "object, it is not required to know its type in advance. The function\n",
        "will succeed as long as the required method exist, fail other wise. This\n",
        "is called “Duck Typing”: if it walks like a duck, it must be a duck…"
      ],
      "id": "4b69f68a-336d-4856-ba31-27c6eb67ecc9"
    },
    {
      "cell_type": "code",
      "execution_count": 165,
      "metadata": {},
      "outputs": [],
      "source": [
        "class Duck:\n",
        "    def walk(self): print(\"/-\\_/-\\_/\")\n",
        "        \n",
        "class Dog:\n",
        "    def walk(self): print(\"/-\\_/*\\_/\")\n",
        "    def bark(self): print(\"Wouf\")"
      ],
      "id": "920aa346"
    },
    {
      "cell_type": "code",
      "execution_count": 166,
      "metadata": {},
      "outputs": [],
      "source": [
        "animals = [C() for C in (Duck,Dog)]\n",
        "def go_in_the_park(animal):\n",
        "    for i in range(3): animal.walk()\n",
        "for a in animals:\n",
        "    go_in_the_park(a)"
      ],
      "id": "cfece01d"
    },
    {
      "cell_type": "markdown",
      "metadata": {},
      "source": [
        "#### Inheritance\n",
        "\n",
        "The whole point of classes, is that one can construct hierarchies of\n",
        "classes to avoid redefining the same methods many times. This is done by\n",
        "using inheritance."
      ],
      "id": "36826ce3-82f8-4cc2-b726-021e1a3ad7f0"
    },
    {
      "cell_type": "code",
      "execution_count": 167,
      "metadata": {},
      "outputs": [],
      "source": [
        "class Animal:\n",
        "    \n",
        "    def run(self): print(\"👣\"*4)\n",
        "\n",
        "class Dog(Animal):\n",
        "    def bark(self): print(\"Wouf\")\n",
        "        \n",
        "class Rabbit(Animal):\n",
        "    def run(self):\n",
        "        super().run() ; print( \"🐇\" )"
      ],
      "id": "3a897e81"
    },
    {
      "cell_type": "code",
      "execution_count": 168,
      "metadata": {},
      "outputs": [],
      "source": [
        "Animal().run()\n",
        "dog = Dog()\n",
        "dog.run()\n",
        "dog.bark()\n",
        "Rabbit().run()"
      ],
      "id": "0b5bf14d"
    },
    {
      "cell_type": "markdown",
      "metadata": {},
      "source": [
        "In the above example, the Dog class inherits from inherits the method\n",
        "`run` from the Animal class: it doesn’t need to be redefined again.\n",
        "Essentially, when `run(dog)` is called, since the method is not defined\n",
        "for a dog, python looks for the first ancestor of `dog` and applies the\n",
        "method of the ancestor.\n",
        "\n",
        "#### Special methods\n",
        "\n",
        "By conventions methods starting with double lowercase `__` are hidden.\n",
        "They don’t appear in tab completion. Several special methods can be\n",
        "reimplemented that way."
      ],
      "id": "1409047a-aeb9-4fc3-bca8-3e3f6381593a"
    },
    {
      "cell_type": "code",
      "execution_count": 169,
      "metadata": {},
      "outputs": [],
      "source": [
        "class Calibration:\n",
        "    \n",
        "    def __init__(self, x=0.1, y=0.1, β=0.1):\n",
        "        if not (β>0) and (β<1):\n",
        "            raise Exception(\"Incorrect calibration\")\n",
        "        self.x = x\n",
        "        self.y = y\n",
        "        self.β = β\n",
        "    \n",
        "    def __str__(self):\n",
        "        return f\"Calibration(x={self.x},y={self.y}, β={self.β})\""
      ],
      "id": "5b3797e5"
    },
    {
      "cell_type": "code",
      "execution_count": 170,
      "metadata": {},
      "outputs": [],
      "source": [
        "str(Calibration() )"
      ],
      "id": "3f267305"
    },
    {
      "cell_type": "markdown",
      "metadata": {},
      "source": [
        "#### complement\n",
        "\n",
        "Python is not 100% object oriented. - some objects cannot be\n",
        "subclassed - basic types behave sometimes funny (interning strings)\n",
        "\n",
        "mindfuck: Something that destabilizes, confuses, or manipulates a\n",
        "person’s mind."
      ],
      "id": "4e283522-b3b2-4529-b233-f47a879ef93a"
    },
    {
      "cell_type": "code",
      "execution_count": 171,
      "metadata": {},
      "outputs": [],
      "source": [
        "a = 'a'*4192\n",
        "b = 'a'*4192\n",
        "a is b"
      ],
      "id": "b7297ee3"
    },
    {
      "cell_type": "code",
      "execution_count": 172,
      "metadata": {},
      "outputs": [],
      "source": [
        "a = 'a'*512\n",
        "b = 'a'*512\n",
        "a is b"
      ],
      "id": "f711ba7f"
    }
  ],
  "nbformat": 4,
  "nbformat_minor": 5,
  "metadata": {
    "kernelspec": {
      "name": "python3",
      "display_name": "Python 3 (ipykernel)",
      "language": "python",
      "path": "/home/pablo/.local/share/jupyter/kernels/python3"
    },
    "language_info": {
      "name": "python",
      "codemirror_mode": {
        "name": "ipython",
        "version": "3"
      },
      "file_extension": ".py",
      "mimetype": "text/x-python",
      "nbconvert_exporter": "python",
      "pygments_lexer": "ipython3",
      "version": "3.11.10"
    }
  }
}