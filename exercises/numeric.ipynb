{
  "cells": [
    {
      "cell_type": "markdown",
      "metadata": {},
      "source": [
        "# Numeric\n",
        "\n",
        "## Using Numpy\n",
        "\n",
        "Selection from\n",
        "[w3resources](https://www.w3resource.com/python-exercises/numpy/python-numpy-random.php)\n",
        "and [rougier/numpy100](https://github.com/rougier/numpy-100)\n",
        "\n",
        "<span class=\"theorem-title\">**Exercise 1**</span>  \n",
        "\n",
        "-   Write a NumPy program to generate five random numbers from the\n",
        "    normal distribution."
      ],
      "id": "8dd3e276-8655-4a7b-9786-8b311b9b5f09"
    },
    {
      "cell_type": "code",
      "execution_count": 1,
      "metadata": {},
      "outputs": [],
      "source": [
        "# code here"
      ],
      "id": "2338ff9e"
    },
    {
      "cell_type": "markdown",
      "metadata": {},
      "source": [
        "<span class=\"theorem-title\">**Exercise 2**</span> Write a NumPy program\n",
        "to generate six random integers between 10 and 30."
      ],
      "id": "a9f1a842-9cbd-44ba-a117-ba5285f4d31b"
    },
    {
      "cell_type": "code",
      "execution_count": 2,
      "metadata": {},
      "outputs": [],
      "source": [
        "# code here"
      ],
      "id": "cd9b37fb"
    },
    {
      "cell_type": "markdown",
      "metadata": {},
      "source": [
        "<span class=\"theorem-title\">**Exercise 3**</span> Create a 3x3 matrix\n",
        "with values ranging from 0 to 8"
      ],
      "id": "ed6e9854-11d6-4708-ad3d-8775691c6709"
    },
    {
      "cell_type": "code",
      "execution_count": 3,
      "metadata": {},
      "outputs": [],
      "source": [
        "# code here"
      ],
      "id": "4be84bb3"
    },
    {
      "cell_type": "markdown",
      "metadata": {},
      "source": [
        "<span class=\"theorem-title\">**Exercise 4**</span> Create 2d array $M$\n",
        "such of size 3\\*3 such that $M_{ij} = i\\times j$"
      ],
      "id": "ba8c9cd3-efa4-4b80-ab47-1cdca4528277"
    },
    {
      "cell_type": "code",
      "execution_count": 4,
      "metadata": {},
      "outputs": [],
      "source": [
        "# code here"
      ],
      "id": "86577d47"
    },
    {
      "cell_type": "markdown",
      "metadata": {},
      "source": [
        "<span class=\"theorem-title\">**Exercise 5**</span> Create 3 vectors of\n",
        "length 5 and create a matrix where each column is one of the vector."
      ],
      "id": "9e21ac82-5fad-4fe7-b436-9b997664d001"
    },
    {
      "cell_type": "code",
      "execution_count": 5,
      "metadata": {},
      "outputs": [],
      "source": [
        "# code here"
      ],
      "id": "d2bdc0c8"
    },
    {
      "cell_type": "markdown",
      "metadata": {},
      "source": [
        "<span class=\"theorem-title\">**Exercise 6**</span> Create 3 vectors of\n",
        "length 5 and create a matrix where each row is one of the vector."
      ],
      "id": "0dd004df-2fba-49d0-b3b6-5699400a2902"
    },
    {
      "cell_type": "code",
      "execution_count": 6,
      "metadata": {},
      "outputs": [],
      "source": [
        "# code here"
      ],
      "id": "6ea26157"
    },
    {
      "cell_type": "markdown",
      "metadata": {},
      "source": [
        "<span class=\"theorem-title\">**Exercise 7**</span> Find indices of\n",
        "non-zero elements from `np.array([1,2,0,0,4,0])`. Replace them with -1.0"
      ],
      "id": "995d0602-f914-4bde-a0f7-bd4aa52479b5"
    },
    {
      "cell_type": "code",
      "execution_count": 7,
      "metadata": {},
      "outputs": [],
      "source": [
        "# code here"
      ],
      "id": "1908421e"
    },
    {
      "cell_type": "markdown",
      "metadata": {},
      "source": [
        "<span class=\"theorem-title\">**Exercise 8**</span> Write a NumPy program\n",
        "to normalize a 3x3 random matrix. (Define norm $|x|=\\sqrt{\\sum x_i^2}$\n",
        "and compute $M/|M|$)"
      ],
      "id": "6ef93a29-d696-4672-9a17-ef0ad347a69d"
    },
    {
      "cell_type": "code",
      "execution_count": 8,
      "metadata": {},
      "outputs": [],
      "source": [
        "# code here"
      ],
      "id": "b18da9b1"
    },
    {
      "cell_type": "markdown",
      "metadata": {},
      "source": [
        "<span class=\"theorem-title\">**Exercise 9**</span> Create 2d array $M$\n",
        "such of size 3\\*3 such that $M_{ij} = i\\times j$"
      ],
      "id": "585dfb50-edca-4540-bd5e-1d9e93e083f9"
    },
    {
      "cell_type": "code",
      "execution_count": 9,
      "metadata": {},
      "outputs": [],
      "source": [
        "# code here"
      ],
      "id": "4b1e1943"
    },
    {
      "cell_type": "markdown",
      "metadata": {},
      "source": [
        "<span class=\"theorem-title\">**Exercise 10**</span> Take a random matrix\n",
        "$A$ of size $N\\times 2$ (N=10) where each line represents a different 2d\n",
        "point. Compute the euclidean distance matrix such that $E_{ij}$ is the\n",
        "distance between point $i$ and point $j$."
      ],
      "id": "b7d21c8b-e1d5-4fad-9943-5606f92462e8"
    },
    {
      "cell_type": "code",
      "execution_count": 10,
      "metadata": {},
      "outputs": [],
      "source": [
        "# code here"
      ],
      "id": "b5eaea78"
    },
    {
      "cell_type": "markdown",
      "metadata": {},
      "source": [
        "<span class=\"theorem-title\">**Exercise 11**</span> Create A of size\n",
        "$10\\times 3$. Create matrix $B$ with the same column as $A$ reordered by\n",
        "sum of absolute values.\n",
        "\n",
        "## Simulating an AR1\n",
        "\n",
        "Take an AR1 process $x_t = A \\rho x_{t-1} + \\epsilon_t$ with\n",
        "$\\epsilon_t \\sim \\Sigma$ where $\\Sigma$ is a positive definite matrix.\n",
        "\n",
        "<span class=\"theorem-title\">**Exercise 12**</span> Define 2x2 matrices\n",
        "$A$ and $\\Sigma$, the latter being symmetric positive definite"
      ],
      "id": "72c5c7e1-5029-48a7-8cd5-ba6b1c1057af"
    },
    {
      "cell_type": "code",
      "execution_count": 11,
      "metadata": {},
      "outputs": [],
      "source": [
        "# code here"
      ],
      "id": "89cbcd9d"
    },
    {
      "cell_type": "markdown",
      "metadata": {},
      "source": [
        "<span class=\"theorem-title\">**Exercise 13**</span> Compute asymptotic\n",
        "variance using matrix algebra (there is a recursive formula)"
      ],
      "id": "f2889d39-fb97-416e-8839-1d77c4a86674"
    },
    {
      "cell_type": "code",
      "execution_count": 12,
      "metadata": {},
      "outputs": [],
      "source": [
        "# code here"
      ],
      "id": "0f0e6c82"
    },
    {
      "cell_type": "markdown",
      "metadata": {},
      "source": [
        "<span class=\"theorem-title\">**Exercise 14**</span> Simulate $N$ draws\n",
        "for $T$ periods and store the result in `sim`."
      ],
      "id": "4bb06505-c627-4695-be75-1c0dade80b84"
    },
    {
      "cell_type": "code",
      "execution_count": 13,
      "metadata": {},
      "outputs": [],
      "source": [
        "# code here"
      ],
      "id": "b1729d97"
    },
    {
      "cell_type": "markdown",
      "metadata": {},
      "source": [
        "<span class=\"theorem-title\">**Exercise 15**</span> Compute ergodic\n",
        "variance (bonus compute std of the variance estimate)"
      ],
      "id": "3d7ca1d3-ed8d-466c-88d6-6bc62c00e5c5"
    },
    {
      "cell_type": "code",
      "execution_count": 14,
      "metadata": {},
      "outputs": [],
      "source": [
        "# code here"
      ],
      "id": "5188924f"
    },
    {
      "cell_type": "markdown",
      "metadata": {},
      "source": [
        "<span class=\"theorem-title\">**Exercise 16**</span> Plot a few\n",
        "simulations on the same graph"
      ],
      "id": "6a41d16f-864e-4c73-b409-c6e38d0cc27a"
    },
    {
      "cell_type": "code",
      "execution_count": 15,
      "metadata": {},
      "outputs": [],
      "source": [
        "# code here"
      ],
      "id": "caa74a46"
    },
    {
      "cell_type": "markdown",
      "metadata": {},
      "source": [
        "<span class=\"theorem-title\">**Exercise 17**</span> Plot asymptotic\n",
        "distribution (seaborn)"
      ],
      "id": "24a15cc0-898a-49fa-85f8-096d6445840b"
    },
    {
      "cell_type": "code",
      "execution_count": 16,
      "metadata": {},
      "outputs": [],
      "source": [
        "# code here"
      ],
      "id": "daf9ff8c"
    },
    {
      "cell_type": "markdown",
      "metadata": {},
      "source": [
        "<span class=\"theorem-title\">**Exercise 18**</span> Bonus: write a faster\n",
        "simulation routine."
      ],
      "id": "c95d9244-15fb-47a6-8221-deda883cd0ce"
    },
    {
      "cell_type": "code",
      "execution_count": 17,
      "metadata": {},
      "outputs": [],
      "source": [
        "# code here"
      ],
      "id": "fc896a57"
    }
  ],
  "nbformat": 4,
  "nbformat_minor": 5,
  "metadata": {
    "kernelspec": {
      "name": "python3",
      "display_name": "Python 3 (ipykernel)",
      "language": "python",
      "path": "/home/pablo/.local/share/jupyter/kernels/python3"
    },
    "language_info": {
      "name": "python",
      "codemirror_mode": {
        "name": "ipython",
        "version": "3"
      },
      "file_extension": ".py",
      "mimetype": "text/x-python",
      "nbconvert_exporter": "python",
      "pygments_lexer": "ipython3",
      "version": "3.11.10"
    }
  }
}