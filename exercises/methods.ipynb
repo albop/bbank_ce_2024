{
  "cells": [
    {
      "cell_type": "markdown",
      "metadata": {},
      "source": [
        "# Methods\n",
        "\n",
        "## Optimization and root finding\n",
        "\n",
        "<span class=\"theorem-title\">**Exercise 1**</span> Consider the function\n",
        "$f(x,y)=1-(x-x_0)^2-0.5(y-y_0)^2$ with $x_0=0.5$ and $y_0=1.0$. Check\n",
        "the documentatin for `scipy.optimize`. Use it to maximze function $f$."
      ],
      "id": "ac3325ad-c4ab-42ff-8e7a-4db066c33bb9"
    },
    {
      "cell_type": "code",
      "execution_count": 1,
      "metadata": {},
      "outputs": [],
      "source": [
        "# one needs to define $f$ as a function of a vector\n",
        "# f(v)=1-(v[0]-x_0)^2-0.5*(v[1]-y_0)^2$ "
      ],
      "id": "1ed37c3f"
    },
    {
      "cell_type": "markdown",
      "metadata": {},
      "source": [
        "Consider the function $g(x)=0.1+exp(-x)x(1-x)$ over \\[0,2\\]. Choose the\n",
        "scipy function and find the root of $g$."
      ],
      "id": "168072f6-9f08-457c-bc97-0c40a7b9974f"
    },
    {
      "cell_type": "code",
      "execution_count": 2,
      "metadata": {},
      "outputs": [],
      "source": [
        "#"
      ],
      "id": "bdd8b9fe"
    },
    {
      "cell_type": "markdown",
      "metadata": {},
      "source": [
        "Consider the function $h(x,y)=0.1+exp(-x)x(1-x)$ over \\[0,2\\]. Choose\n",
        "the scipy function and find the root of $g$. to find the root of $g$?"
      ],
      "id": "8a8b248a-19a6-41fe-a934-4df43d145d89"
    },
    {
      "cell_type": "code",
      "execution_count": 3,
      "metadata": {},
      "outputs": [],
      "source": [
        "#"
      ],
      "id": "2c037eb0"
    },
    {
      "cell_type": "markdown",
      "metadata": {},
      "source": [
        "## Interpolation\n",
        "\n",
        "We consider the function\n",
        "$f(x) = sinc(\\lambda x) = \\frac{sin(\\lambda x)}{x}$. Let\n",
        "$I=(x_i)_{i=[1,10]}$ be a regularly spaced interval between -2 and +2,\n",
        "containing 10 points. Call $Y=(y_i)=f(x_i)$ the values of $f$ on this\n",
        "interval. Let $T$ be a test set with 1000 regularly spaced points\n",
        "between -2.5 and 2.5.\n",
        "\n",
        "The goal is to compare several ways interpolate function f on $T$.\n",
        "\n",
        "<span class=\"theorem-title\">**Exercise 2**</span> Define `f`, `I`, `Y`,\n",
        "`T` with numpy."
      ],
      "id": "650b82ea-78de-4727-86e1-2c2cc80a4cb4"
    },
    {
      "cell_type": "code",
      "execution_count": 4,
      "metadata": {},
      "outputs": [],
      "source": [
        "# "
      ],
      "id": "2dda7a31"
    },
    {
      "cell_type": "markdown",
      "metadata": {},
      "source": [
        "<span class=\"theorem-title\">**Exercise 3**</span> Construct a stepwise\n",
        "approximation using numpy indexing"
      ],
      "id": "673d0b25-985d-476a-8f5f-55317e47bafe"
    },
    {
      "cell_type": "code",
      "execution_count": 5,
      "metadata": {},
      "outputs": [],
      "source": [
        "# "
      ],
      "id": "b3b20aa0"
    },
    {
      "cell_type": "markdown",
      "metadata": {},
      "source": [
        "<span class=\"theorem-title\">**Exercise 4**</span> Plot it"
      ],
      "id": "8e087e2e-5269-4a78-b730-4fbdf39c3133"
    },
    {
      "cell_type": "code",
      "execution_count": 6,
      "metadata": {},
      "outputs": [],
      "source": [
        "# "
      ],
      "id": "d127e3e7"
    },
    {
      "cell_type": "markdown",
      "metadata": {},
      "source": [
        "<span class=\"theorem-title\">**Exercise 5**</span> Construct a linear\n",
        "approximation using numpy"
      ],
      "id": "65842a8f-4763-44e2-aacb-c6550dd57ddb"
    },
    {
      "cell_type": "code",
      "execution_count": 7,
      "metadata": {},
      "outputs": [],
      "source": [
        "#"
      ],
      "id": "a1a15a16"
    },
    {
      "cell_type": "markdown",
      "metadata": {},
      "source": [
        "<span class=\"theorem-title\">**Exercise 6**</span> Use scipy.interpolate\n",
        "to interpolate the data linearly. Compare the various extrapolation\n",
        "options."
      ],
      "id": "944d01b8-e295-44fb-bb58-407cad6db94c"
    },
    {
      "cell_type": "code",
      "execution_count": 8,
      "metadata": {},
      "outputs": [],
      "source": [
        "#"
      ],
      "id": "506afb48"
    },
    {
      "cell_type": "markdown",
      "metadata": {},
      "source": [
        "<span class=\"theorem-title\">**Exercise 7**</span> Use scipy.interpolate\n",
        "to interolate the data with cubic splines. Compare the various\n",
        "extrapolation options."
      ],
      "id": "cd13276b-b0f0-4c8e-be26-0a6114c3f8ca"
    },
    {
      "cell_type": "code",
      "execution_count": 9,
      "metadata": {},
      "outputs": [],
      "source": [
        "#"
      ],
      "id": "f1498217"
    },
    {
      "cell_type": "markdown",
      "metadata": {},
      "source": [
        "<span class=\"theorem-title\">**Exercise 8**</span> Plot the results"
      ],
      "id": "2a414bbe-2925-4940-8071-2b1b971b2d45"
    },
    {
      "cell_type": "code",
      "execution_count": 10,
      "metadata": {},
      "outputs": [],
      "source": [
        "#"
      ],
      "id": "1a427198"
    },
    {
      "cell_type": "markdown",
      "metadata": {},
      "source": [
        "## Discretization\n",
        "\n",
        "<span class=\"theorem-title\">**Exercise 9**</span> Consider the AR1\n",
        "process $y_t = \\rho y_{t-1} + \\epsilon_t$ where $\\rho=0.9$ and\n",
        "$\\epsilon_t=0.01$. Use the `quantecon` library to discretize $(y_t)$ as\n",
        "a discrete markov chain."
      ],
      "id": "b3af44d0-7242-4ffa-a752-194b5eadec9a"
    },
    {
      "cell_type": "code",
      "execution_count": 11,
      "metadata": {},
      "outputs": [],
      "source": [
        "#"
      ],
      "id": "425f3f72"
    },
    {
      "cell_type": "markdown",
      "metadata": {},
      "source": [
        "<span class=\"theorem-title\">**Exercise 10**</span> Suppose $\\epsilon$\n",
        "follows a normal law with standard deviation $σ = 0.05$. Take γ = 40 and\n",
        "define $U(x)=(x^{-γ})/(-γ)$ We want to compute\n",
        "$C(\\epsilon) = \\mathbb{E} [U(exp(\\epsilon)) ]$.\n",
        "\n",
        "-   Choose $N>0$ and construct a 1d vector with $N$ realizations of\n",
        "    $\\epsilon$. Use it to compute the expectation.\n",
        "-   Estimate the standard deviation of this expectation.\n",
        "-   Use gauss-hermite method from numpy to compute the same expectation.\n",
        "-   Compare both methods."
      ],
      "id": "648f0a54-d85a-4cdf-908e-2ced7342551d"
    }
  ],
  "nbformat": 4,
  "nbformat_minor": 5,
  "metadata": {
    "kernelspec": {
      "name": "python3",
      "display_name": "Python 3 (ipykernel)",
      "language": "python",
      "path": "/home/pablo/.local/share/jupyter/kernels/python3"
    },
    "language_info": {
      "name": "python",
      "codemirror_mode": {
        "name": "ipython",
        "version": "3"
      },
      "file_extension": ".py",
      "mimetype": "text/x-python",
      "nbconvert_exporter": "python",
      "pygments_lexer": "ipython3",
      "version": "3.11.10"
    }
  }
}