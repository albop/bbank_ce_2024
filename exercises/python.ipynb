{
  "cells": [
    {
      "cell_type": "markdown",
      "metadata": {},
      "source": [
        "# Python Basics\n",
        "\n",
        "(adapted from Quantecon)\n",
        "\n",
        "## Basics\n",
        "\n",
        "<span class=\"theorem-title\">**Exercise 1**</span> Run the following code\n",
        "in the python interpreter:\n",
        "\n",
        "``` python\n",
        "def say_hello(name):\n",
        "    \"\"\"This function prints morning greetings\"\"\"\n",
        "\n",
        "    print(f\"Good morning {name}!\\n\")\n",
        "\n",
        "    # we can import libraries\n",
        "    import datetime\n",
        "    t = datetime.datetime.now()\n",
        "\n",
        "    # blocks are defined by indentation and colons\n",
        "    if (t.hour,t.min) <= (9,15):\n",
        "        print(\"All good?\\n\")\n",
        "    else:\n",
        "        print(\"Time to get started?\\n\")\n",
        "\n",
        "\n",
        "say_hello(\"Pablo\")\n",
        "```\n",
        "\n",
        "<span class=\"theorem-title\">**Exercise 2**</span> What do you think the\n",
        "value of `z` is after running the code below?\n",
        "\n",
        "``` python\n",
        "z = 3\n",
        "z = z + 4\n",
        "print(\"z is\", z)\n",
        "```\n",
        "\n",
        "    z is 7"
      ],
      "id": "ebd44f82-da06-4d46-abda-a9ad5674543f"
    },
    {
      "cell_type": "code",
      "execution_count": 2,
      "metadata": {},
      "outputs": [],
      "source": [
        "# your response there"
      ],
      "id": "264491af"
    },
    {
      "cell_type": "markdown",
      "metadata": {},
      "source": [
        "<span class=\"theorem-title\">**Exercise 3**</span> Read about what the\n",
        "`len` function does (by writing len?).\n",
        "\n",
        "What will it produce if we give it the variable `x`?\n",
        "\n",
        "Check whether you were right by running the code `len(x)`."
      ],
      "id": "293dcac7-0e47-438d-8586-a1ceffbfa27e"
    },
    {
      "cell_type": "code",
      "execution_count": 3,
      "metadata": {},
      "outputs": [],
      "source": [
        "# your code here"
      ],
      "id": "0e297313"
    },
    {
      "cell_type": "markdown",
      "metadata": {},
      "source": [
        "<span class=\"theorem-title\">**Exercise 4**</span> We can use our\n",
        "introspection skills to investigate a package’s contents.\n",
        "\n",
        "In the cell below, use tab completion to find a function from the `time`\n",
        "module that will display the **local** time.\n",
        "\n",
        "Use `time.FUNC_NAME?` (where `FUNC_NAME` is replaced with the function\n",
        "you found) to see information about that function and then call the\n",
        "function.\n",
        "\n",
        "Look for something to do with the word `local`"
      ],
      "id": "3a909c11-91be-416e-8697-cdbec964a4ec"
    },
    {
      "cell_type": "code",
      "execution_count": 4,
      "metadata": {},
      "outputs": [],
      "source": [
        "import time\n",
        "# your code here"
      ],
      "id": "a762bf42"
    },
    {
      "cell_type": "markdown",
      "metadata": {},
      "source": [
        "<span class=\"theorem-title\">**Exercise 5**</span> The code below is\n",
        "invalid Python code (once uncommented)"
      ],
      "id": "dad59d2f-de6a-4d8e-a32b-dba0aaba466f"
    },
    {
      "cell_type": "code",
      "execution_count": 5,
      "metadata": {},
      "outputs": [],
      "source": [
        "# x = 'What's wrong with this string'"
      ],
      "id": "5b33fd18"
    },
    {
      "cell_type": "markdown",
      "metadata": {},
      "source": [
        "## Collections\n",
        "\n",
        "<span class=\"theorem-title\">**Exercise 6**</span> In the first cell, try\n",
        "`y.append(z)`.\n",
        "\n",
        "In the second cell try `y.extend(z)`.\n",
        "\n",
        "Explain the behavior.\n",
        "\n",
        "When you are trying to explain use `y.append?` and `y.extend?` to see a\n",
        "description of what these methods are supposed to do."
      ],
      "id": "145e2baa-1b64-4e56-a130-6c85ec5e8907"
    },
    {
      "cell_type": "code",
      "execution_count": 6,
      "metadata": {},
      "outputs": [],
      "source": [
        "y = [\"a\", \"b\", \"c\"]\n",
        "z = [1, 2, 3]\n",
        "# "
      ],
      "id": "89e11c41"
    },
    {
      "cell_type": "code",
      "execution_count": 7,
      "metadata": {},
      "outputs": [],
      "source": [
        "y = [\"a\", \"b\", \"c\"]\n",
        "z = [1, 2, 3]\n",
        "# "
      ],
      "id": "539fc3f7"
    },
    {
      "cell_type": "markdown",
      "metadata": {},
      "source": [
        "<span class=\"theorem-title\">**Exercise 7**</span> Verify that tuples are\n",
        "indeed immutable by attempting the following:\n",
        "\n",
        "-   Changing the first element of `t` to be `100`  \n",
        "-   Appending a new element `\"!!\"` to the end of `t` (remember with a\n",
        "    list `x` we would use `x.append(\"!!\")` to do this  \n",
        "-   Sorting `t`  \n",
        "-   Reversing `t`"
      ],
      "id": "48aa7050-b025-4fa4-96b8-f8af30e4ceb1"
    },
    {
      "cell_type": "code",
      "execution_count": 8,
      "metadata": {},
      "outputs": [],
      "source": [
        "t = (1,2,3,4)"
      ],
      "id": "0a1f62b9"
    },
    {
      "cell_type": "markdown",
      "metadata": {},
      "source": [
        "<span class=\"theorem-title\">**Exercise 8**</span> Look at the [World\n",
        "Factbook for\n",
        "Australia](https://www.cia.gov/the-world-factbook/countries/australia)\n",
        "and create a dictionary with data containing the following types: float,\n",
        "string, integer, list, and dict. Choose any data you wish.\n",
        "\n",
        "To confirm, you should have a dictionary that you identified via a key."
      ],
      "id": "3e82e977-b53f-461f-8b57-2dd4b1f4742d"
    },
    {
      "cell_type": "code",
      "execution_count": 9,
      "metadata": {},
      "outputs": [],
      "source": [
        "# your code here"
      ],
      "id": "56d81d4e"
    },
    {
      "cell_type": "markdown",
      "metadata": {},
      "source": [
        "<span class=\"theorem-title\">**Exercise 9**</span> Use Jupyter’s help\n",
        "facilities to learn how to use the `pop` method to remove the key\n",
        "`\"irrigated_land\"` (and its value) from the dict."
      ],
      "id": "8e9d6290-7d76-46a8-9aab-3d5d27f0f514"
    },
    {
      "cell_type": "code",
      "execution_count": 10,
      "metadata": {},
      "outputs": [],
      "source": [
        "# uncomment and use the Inspector or ?\n",
        "#china_data.pop()"
      ],
      "id": "a557150a"
    },
    {
      "cell_type": "markdown",
      "metadata": {},
      "source": [
        "<span class=\"theorem-title\">**Exercise 10**</span> Explain what happens\n",
        "to the value you popped.\n",
        "\n",
        "Experiment with calling `pop` twice."
      ],
      "id": "7bf6154a-cac5-42c9-bbad-c3dfc33a3b71"
    },
    {
      "cell_type": "code",
      "execution_count": 11,
      "metadata": {},
      "outputs": [],
      "source": [
        "# your code here"
      ],
      "id": "057eda17"
    },
    {
      "cell_type": "markdown",
      "metadata": {},
      "source": [
        "## Control\n",
        "\n",
        "<span class=\"theorem-title\">**Exercise 11**</span> Run the following two\n",
        "variations on the code with only a single change in the indentation.\n",
        "\n",
        "After, modify the `x` to print `3` and then `2, 3` instead."
      ],
      "id": "955c0b0e-29a1-43e2-ab68-b16339f7f3b3"
    },
    {
      "cell_type": "code",
      "execution_count": 12,
      "metadata": {},
      "outputs": [
        {
          "output_type": "stream",
          "name": "stdout",
          "text": [
            "1\n",
            "2\n",
            "3"
          ]
        }
      ],
      "source": [
        "x = 1\n",
        "\n",
        "if x > 0:\n",
        "    print(\"1\")\n",
        "    print(\"2\")\n",
        "print(\"3\")"
      ],
      "id": "bcc6143a"
    },
    {
      "cell_type": "code",
      "execution_count": 13,
      "metadata": {},
      "outputs": [
        {
          "output_type": "stream",
          "name": "stdout",
          "text": [
            "1\n",
            "2\n",
            "3"
          ]
        }
      ],
      "source": [
        "x = 1\n",
        "\n",
        "if x > 0:\n",
        "    print(\"1\")\n",
        "print(\"2\") # changed the indentation\n",
        "print(\"3\")"
      ],
      "id": "f06773d6"
    },
    {
      "cell_type": "markdown",
      "metadata": {},
      "source": [
        "<span class=\"theorem-title\">**Exercise 12**</span> Write a for loop that\n",
        "uses the lists of cities and states below to print the same “{city} is\n",
        "in {state}” using a `zip` instead of an `enumerate`."
      ],
      "id": "0964a97c-ca4f-4e37-83e8-a3cdc64ec1d5"
    },
    {
      "cell_type": "code",
      "execution_count": 14,
      "metadata": {},
      "outputs": [],
      "source": [
        "cities = [\"Phoenix\", \"Austin\", \"San Diego\", \"New York\"]\n",
        "states = [\"Arizona\", \"Texas\", \"California\", \"New York\"]"
      ],
      "id": "2e226c48"
    },
    {
      "cell_type": "code",
      "execution_count": 15,
      "metadata": {},
      "outputs": [
        {
          "output_type": "stream",
          "name": "stdout",
          "text": [
            "Phoenix  :  Arizona\n",
            "Austin  :  Texas\n",
            "San Diego  :  California\n",
            "New York  :  New York"
          ]
        }
      ],
      "source": [
        "for i,c in enumerate(cities):\n",
        "    print(c, \" : \", states[i])"
      ],
      "id": "ea1942d9"
    },
    {
      "cell_type": "code",
      "execution_count": 16,
      "metadata": {},
      "outputs": [],
      "source": [
        "# your code here"
      ],
      "id": "ae05187c"
    }
  ],
  "nbformat": 4,
  "nbformat_minor": 5,
  "metadata": {
    "kernelspec": {
      "name": "python3",
      "display_name": "Python 3 (ipykernel)",
      "language": "python",
      "path": "/home/pablo/.local/share/jupyter/kernels/python3"
    },
    "language_info": {
      "name": "python",
      "codemirror_mode": {
        "name": "ipython",
        "version": "3"
      },
      "file_extension": ".py",
      "mimetype": "text/x-python",
      "nbconvert_exporter": "python",
      "pygments_lexer": "ipython3",
      "version": "3.11.10"
    }
  }
}