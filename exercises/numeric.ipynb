{
  "cells": [
    {
      "cell_type": "markdown",
      "metadata": {},
      "source": [
        "# Numeric\n",
        "\n",
        "## Using Numpy\n",
        "\n",
        "Selection from\n",
        "[w3resources](https://www.w3resource.com/python-exercises/numpy/python-numpy-random.php)\n",
        "and [rougier/numpy100](https://github.com/rougier/numpy-100)\n",
        "\n",
        "<span class=\"theorem-title\">**Exercise 1**</span>  \n",
        "\n",
        "-   Write a NumPy program to generate five random numbers from the\n",
        "    normal distribution."
      ],
      "id": "340bbb20-4ded-4086-a77b-ba7264b847d2"
    },
    {
      "cell_type": "code",
      "execution_count": 1,
      "metadata": {},
      "outputs": [],
      "source": [
        "# code here"
      ],
      "id": "4eb7002a"
    },
    {
      "cell_type": "markdown",
      "metadata": {},
      "source": [
        "<span class=\"theorem-title\">**Exercise 2**</span> Write a NumPy program\n",
        "to generate six random integers between 10 and 30."
      ],
      "id": "fd00395a-e48f-4923-ab77-e98e230211a7"
    },
    {
      "cell_type": "code",
      "execution_count": 2,
      "metadata": {},
      "outputs": [],
      "source": [
        "# code here"
      ],
      "id": "1467b186"
    },
    {
      "cell_type": "markdown",
      "metadata": {},
      "source": [
        "<span class=\"theorem-title\">**Exercise 3**</span> Create a 3x3 matrix\n",
        "with values ranging from 0 to 8"
      ],
      "id": "105921af-3111-4698-b06f-7515bb71c69d"
    },
    {
      "cell_type": "code",
      "execution_count": 3,
      "metadata": {},
      "outputs": [],
      "source": [
        "# code here"
      ],
      "id": "289a33f0"
    },
    {
      "cell_type": "markdown",
      "metadata": {},
      "source": [
        "<span class=\"theorem-title\">**Exercise 4**</span> Create 2d array $M$\n",
        "such of size 3\\*3 such that $M_{ij} = i\\times j$"
      ],
      "id": "2bca2f4d-a68a-44bc-8647-6df51558fce3"
    },
    {
      "cell_type": "code",
      "execution_count": 4,
      "metadata": {},
      "outputs": [],
      "source": [
        "# code here"
      ],
      "id": "e99afa79"
    },
    {
      "cell_type": "markdown",
      "metadata": {},
      "source": [
        "<span class=\"theorem-title\">**Exercise 5**</span> Create 3 vectors of\n",
        "length 5 and create a matrix where each column is one of the vector."
      ],
      "id": "ef393995-2f36-4c3a-89da-895d6f4f94b1"
    },
    {
      "cell_type": "code",
      "execution_count": 5,
      "metadata": {},
      "outputs": [],
      "source": [
        "# code here"
      ],
      "id": "cd49a9e5"
    },
    {
      "cell_type": "markdown",
      "metadata": {},
      "source": [
        "<span class=\"theorem-title\">**Exercise 6**</span> Create 3 vectors of\n",
        "length 5 and create a matrix where each row is one of the vector."
      ],
      "id": "52312561-2273-40df-a08a-c4e94809452e"
    },
    {
      "cell_type": "code",
      "execution_count": 6,
      "metadata": {},
      "outputs": [],
      "source": [
        "# code here"
      ],
      "id": "29a9cb06"
    },
    {
      "cell_type": "markdown",
      "metadata": {},
      "source": [
        "<span class=\"theorem-title\">**Exercise 7**</span> Find indices of\n",
        "non-zero elements from `np.array([1,2,0,0,4,0])`. Replace them with -1.0"
      ],
      "id": "ac0e1265-9819-4741-bee6-1b6c86bcae55"
    },
    {
      "cell_type": "code",
      "execution_count": 7,
      "metadata": {},
      "outputs": [],
      "source": [
        "# code here"
      ],
      "id": "a03b63a2"
    },
    {
      "cell_type": "markdown",
      "metadata": {},
      "source": [
        "<span class=\"theorem-title\">**Exercise 8**</span> Write a NumPy program\n",
        "to normalize a 3x3 random matrix. (Define norm $|x|=\\sqrt{\\sum x_i^2}$\n",
        "and compute $M/|M|$)"
      ],
      "id": "3e218fad-10ba-44ad-a8fb-a6b7f8662c24"
    },
    {
      "cell_type": "code",
      "execution_count": 8,
      "metadata": {},
      "outputs": [],
      "source": [
        "# code here"
      ],
      "id": "5b5702c0"
    },
    {
      "cell_type": "markdown",
      "metadata": {},
      "source": [
        "<span class=\"theorem-title\">**Exercise 9**</span> Create 2d array $M$\n",
        "such of size 3\\*3 such that $M_{ij} = i\\times j$"
      ],
      "id": "0a9cd8e0-ffed-4050-898a-96fd0fb8c341"
    },
    {
      "cell_type": "code",
      "execution_count": 9,
      "metadata": {},
      "outputs": [],
      "source": [
        "# code here"
      ],
      "id": "5e703c85"
    },
    {
      "cell_type": "markdown",
      "metadata": {},
      "source": [
        "<span class=\"theorem-title\">**Exercise 10**</span> Take a random matrix\n",
        "$A$ of size $N\\times 2$ (N=10) where each line represents a different 2d\n",
        "point. Compute the euclidean distance matrix such that $E_{ij}$ is the\n",
        "distance between point $i$ and point $j$."
      ],
      "id": "e33bbb1f-2d01-4234-bb60-9a9c40bc2743"
    },
    {
      "cell_type": "code",
      "execution_count": 10,
      "metadata": {},
      "outputs": [],
      "source": [
        "# code here"
      ],
      "id": "5732ea7c"
    },
    {
      "cell_type": "markdown",
      "metadata": {},
      "source": [
        "<span class=\"theorem-title\">**Exercise 11**</span> Create A of size\n",
        "$10\\times 3$. Create matrix $B$ with the same column as $A$ reordered by\n",
        "sum of absolute values.\n",
        "\n",
        "## Simulating an AR1\n",
        "\n",
        "Take an AR1 process $x_t = A \\rho x_{t-1} + \\epsilon_t$ with\n",
        "$\\epsilon_t \\sim \\Sigma$ where $\\Sigma$ is a positive definite matrix.\n",
        "\n",
        "<span class=\"theorem-title\">**Exercise 12**</span> Define 2x2 matrices\n",
        "$A$ and $\\Sigma$, the latter being symmetric positive definite"
      ],
      "id": "01d982a4-b80f-4b83-9eb0-07f6190406bb"
    },
    {
      "cell_type": "code",
      "execution_count": 11,
      "metadata": {},
      "outputs": [],
      "source": [
        "# code here"
      ],
      "id": "9c48764f"
    },
    {
      "cell_type": "markdown",
      "metadata": {},
      "source": [
        "<span class=\"theorem-title\">**Exercise 13**</span> Compute asymptotic\n",
        "variance using matrix algebra (there is a recursive formula)"
      ],
      "id": "1c5fa199-bab0-4f95-b637-d73109990e3f"
    },
    {
      "cell_type": "code",
      "execution_count": 12,
      "metadata": {},
      "outputs": [],
      "source": [
        "# code here"
      ],
      "id": "2c629e95"
    },
    {
      "cell_type": "markdown",
      "metadata": {},
      "source": [
        "<span class=\"theorem-title\">**Exercise 14**</span> Simulate $N$ draws\n",
        "for $T$ periods and store the result in `sim`."
      ],
      "id": "591b734b-0253-431c-83ec-0e6c829b7f7f"
    },
    {
      "cell_type": "code",
      "execution_count": 13,
      "metadata": {},
      "outputs": [],
      "source": [
        "# code here"
      ],
      "id": "502cf4b3"
    },
    {
      "cell_type": "markdown",
      "metadata": {},
      "source": [
        "<span class=\"theorem-title\">**Exercise 15**</span> Compute ergodic\n",
        "variance (bonus compute std of the variance estimate)"
      ],
      "id": "63250104-c865-41ff-8c05-3e87ea028996"
    },
    {
      "cell_type": "code",
      "execution_count": 14,
      "metadata": {},
      "outputs": [],
      "source": [
        "# code here"
      ],
      "id": "dc7d874e"
    },
    {
      "cell_type": "markdown",
      "metadata": {},
      "source": [
        "<span class=\"theorem-title\">**Exercise 16**</span> Plot a few\n",
        "simulations on the same graph"
      ],
      "id": "46bcfe9f-d83a-461d-b969-39c61fb325ef"
    },
    {
      "cell_type": "code",
      "execution_count": 15,
      "metadata": {},
      "outputs": [],
      "source": [
        "# code here"
      ],
      "id": "9ecde868"
    },
    {
      "cell_type": "markdown",
      "metadata": {},
      "source": [
        "<span class=\"theorem-title\">**Exercise 17**</span> Plot asymptotic\n",
        "distribution (seaborn)"
      ],
      "id": "b1f08536-71d7-4a7f-a5b8-b7a0eb39a471"
    },
    {
      "cell_type": "code",
      "execution_count": 16,
      "metadata": {},
      "outputs": [],
      "source": [
        "# code here"
      ],
      "id": "f7de3bbb"
    },
    {
      "cell_type": "markdown",
      "metadata": {},
      "source": [
        "<span class=\"theorem-title\">**Exercise 18**</span> Bonus: write a faster\n",
        "simulation routine."
      ],
      "id": "d7ef959c-5bc4-4121-ba01-540a3e291b27"
    },
    {
      "cell_type": "code",
      "execution_count": 17,
      "metadata": {},
      "outputs": [],
      "source": [
        "# code here"
      ],
      "id": "2902b3ee"
    },
    {
      "cell_type": "markdown",
      "metadata": {},
      "source": [
        "## Interpolation\n",
        "\n",
        "We consider the function\n",
        "$f(x) = sinc(\\lambda x) = \\frac{sin(\\lambda x)}{x}$. Let\n",
        "$I=(x_i)_{i=[1,10]}$ be a regularly spaced interval between -2 and +2,\n",
        "containing 10 points. Call $Y=(y_i)=f(x_i)$ the values of $f$ on this\n",
        "interval. Let $T$ be a test set with 1000 regularly spaced points\n",
        "between -2.5 and 2.5.\n",
        "\n",
        "The goal is to compare several ways interpolate function f on $T$.\n",
        "\n",
        "<span class=\"theorem-title\">**Exercise 19**</span> Define `f`, `I`, `Y`,\n",
        "`T`"
      ],
      "id": "df81fbc4-371c-4110-bedb-a88b7775dc02"
    },
    {
      "cell_type": "code",
      "execution_count": 18,
      "metadata": {},
      "outputs": [],
      "source": [
        "# "
      ],
      "id": "39106c48"
    },
    {
      "cell_type": "markdown",
      "metadata": {},
      "source": [
        "<span class=\"theorem-title\">**Exercise 20**</span> Construct a stepwise\n",
        "approximation using numpy indexing"
      ],
      "id": "34082912-2664-4879-8c92-e3eaa896cebe"
    },
    {
      "cell_type": "code",
      "execution_count": 19,
      "metadata": {},
      "outputs": [],
      "source": [
        "# "
      ],
      "id": "d79ab80e"
    },
    {
      "cell_type": "markdown",
      "metadata": {},
      "source": [
        "<span class=\"theorem-title\">**Exercise 21**</span> Plot it"
      ],
      "id": "a30863f9-eae7-4ffb-bf90-665033c460e8"
    },
    {
      "cell_type": "code",
      "execution_count": 20,
      "metadata": {},
      "outputs": [],
      "source": [
        "# "
      ],
      "id": "97e7b50c"
    },
    {
      "cell_type": "markdown",
      "metadata": {},
      "source": [
        "<span class=\"theorem-title\">**Exercise 22**</span> Construct a linear\n",
        "approximation using numpy"
      ],
      "id": "62180b82-29df-4613-a6cf-638bf1fce1f9"
    },
    {
      "cell_type": "code",
      "execution_count": 21,
      "metadata": {},
      "outputs": [],
      "source": [
        "#"
      ],
      "id": "5a74c0eb"
    },
    {
      "cell_type": "markdown",
      "metadata": {},
      "source": [
        "<span class=\"theorem-title\">**Exercise 23**</span> Use scipy.interpolate\n",
        "to get an approximation"
      ],
      "id": "7670d877-3c08-4713-840e-d597120f4155"
    },
    {
      "cell_type": "code",
      "execution_count": 22,
      "metadata": {},
      "outputs": [],
      "source": [
        "#"
      ],
      "id": "5f67c0a7"
    },
    {
      "cell_type": "markdown",
      "metadata": {},
      "source": [
        "<span class=\"theorem-title\">**Exercise 24**</span> (bonus) Use\n",
        "interpolation.py"
      ],
      "id": "c5dd015c-eb6d-422d-ada9-0513c747f29b"
    },
    {
      "cell_type": "code",
      "execution_count": 23,
      "metadata": {},
      "outputs": [],
      "source": [
        "#"
      ],
      "id": "2c1fffc6"
    },
    {
      "cell_type": "markdown",
      "metadata": {},
      "source": [
        "<span class=\"theorem-title\">**Exercise 25**</span> Plot result"
      ],
      "id": "1464dc27-465b-4203-8a5a-7ecdb62dae62"
    },
    {
      "cell_type": "code",
      "execution_count": 24,
      "metadata": {},
      "outputs": [],
      "source": [
        "#"
      ],
      "id": "6e96414d"
    },
    {
      "cell_type": "markdown",
      "metadata": {},
      "source": [
        "<span class=\"theorem-title\">**Exercise 26**</span> Increase number of\n",
        "points and test performance of various options"
      ],
      "id": "d4d3edfd-c48c-416d-9aa1-61cda715dd63"
    },
    {
      "cell_type": "code",
      "execution_count": 25,
      "metadata": {},
      "outputs": [],
      "source": [
        "#"
      ],
      "id": "88e36e5f"
    },
    {
      "cell_type": "markdown",
      "metadata": {},
      "source": [
        "<span class=\"theorem-title\">**Exercise 27**</span> (bonus) optimize hand\n",
        "coded implementations using numba"
      ],
      "id": "092b640d-5122-421b-9f6b-a3b8f9cc8337"
    },
    {
      "cell_type": "code",
      "execution_count": 26,
      "metadata": {},
      "outputs": [],
      "source": [
        "#"
      ],
      "id": "de6c808d"
    }
  ],
  "nbformat": 4,
  "nbformat_minor": 5,
  "metadata": {
    "kernelspec": {
      "name": "python3",
      "display_name": "Python 3 (ipykernel)",
      "language": "python"
    },
    "language_info": {
      "name": "python",
      "codemirror_mode": {
        "name": "ipython",
        "version": "3"
      },
      "file_extension": ".py",
      "mimetype": "text/x-python",
      "nbconvert_exporter": "python",
      "pygments_lexer": "ipython3",
      "version": "3.11.10"
    }
  }
}