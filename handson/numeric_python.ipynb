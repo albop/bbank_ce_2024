{
  "cells": [
    {
      "cell_type": "markdown",
      "metadata": {},
      "source": [
        "# Numeric Python\n",
        "\n",
        "### Numpy/scipy/matplotlib\n",
        "\n",
        "-   Most python scientists, use the following libraries:\n",
        "    -   `numpy`: performant array library (vectors, matrices, tensors)\n",
        "    -   `matplotlib`: plotting library\n",
        "    -   `scipy`: all kinds of mathematical routines\n",
        "-   In the rest of the course, we’ll make some use of `numpy` and\n",
        "    `matplotlib`\n",
        "-   They are included in all python *distributions* like Anaconda Python\n",
        "-   All additional libraries use `numpy` and `matplotlib`: `pandas`,\n",
        "    `statsmodels`, `sklearn`\n",
        "\n",
        "### Importing the libraries\n",
        "\n",
        "It is standard to import the libraries as `np`, and `plt`. We’ll follow\n",
        "this convention here."
      ],
      "id": "80962119-de22-474f-b8c9-e5a2baae9f12"
    },
    {
      "cell_type": "code",
      "execution_count": 1,
      "metadata": {
        "slideshow": {
          "slide_type": "fragment"
        }
      },
      "outputs": [],
      "source": [
        "# these lines need to be run only once per program\n",
        "import numpy as np\n",
        "import matplotlib as plt"
      ],
      "id": "fd43e2b0"
    },
    {
      "cell_type": "code",
      "execution_count": 2,
      "metadata": {
        "slideshow": {
          "slide_type": "fragment"
        }
      },
      "outputs": [],
      "source": [
        "print(f\"Numpy version {np.__version__}\")\n",
        "print(f\"Matplotlib version {plt.__version__}\")"
      ],
      "id": "fd3c6aaf"
    },
    {
      "cell_type": "markdown",
      "metadata": {},
      "source": [
        "## Numpy\n",
        "\n",
        "### What is Numpy\n",
        "\n",
        "Numpy is an array type (python object) meant to store efficiently\n",
        "homogenous, square, arrays (like $(a_{i})_{i\\in [1,N]}$ or\n",
        "$(b_{i,j,k})_{i\\in [1,N],j\\in[1,J],k \\in [1,K]}$)\n",
        "\n",
        "By default its stores data in contiguous C-order (last index varies\n",
        "faster), but also supports Fortran order and strided arrays\n",
        "(non-contiguous).\n",
        "\n",
        "Numpy has introduced well thought conventions, that have been reused by\n",
        "many other libraries (tensorflow, pytorch, jax), or even programming\n",
        "languages (julia)\n",
        "\n",
        "### Vector Creation\n",
        "\n",
        "-   Vectors and matrices are created with the `np.array(...)` function.\n",
        "-   Special vectors can be created with `np.zeros`, `np.ones`,\n",
        "    `np.linspace`"
      ],
      "id": "fab176e1-7b78-4f27-9d69-68c2a78140b6"
    },
    {
      "cell_type": "code",
      "execution_count": 3,
      "metadata": {
        "slideshow": {
          "slide_type": "fragment"
        }
      },
      "outputs": [],
      "source": [
        "# an array can be created from a list of numbers\n",
        "np.array( [1.0, 2.0, 3.0] )"
      ],
      "id": "44a2a165"
    },
    {
      "cell_type": "code",
      "execution_count": 4,
      "metadata": {
        "slideshow": {
          "slide_type": "fragment"
        }
      },
      "outputs": [],
      "source": [
        "# or initialized by specifying the length of the array\n",
        "np.zeros(5)"
      ],
      "id": "b0cffc36"
    },
    {
      "cell_type": "code",
      "execution_count": 5,
      "metadata": {},
      "outputs": [],
      "source": [
        "# 10 regularly spaced points between 0 and 1\n",
        "np.linspace(0, 1, 11)"
      ],
      "id": "6b0b9f15"
    },
    {
      "cell_type": "markdown",
      "metadata": {},
      "source": [
        "### Matrix Creation\n",
        "\n",
        "-   A matrix is a 2-dimensional array and is created with `np.array`\n",
        "-   Function `np.matrix()` has been deprecated: do not use it.\n",
        "-   There are functions to create specific matrices: `np.eye`,\n",
        "    `np.diag`, …"
      ],
      "id": "6b7a37ee-6466-4c51-b09b-fc999c4db6cf"
    },
    {
      "cell_type": "code",
      "execution_count": 6,
      "metadata": {
        "slideshow": {
          "slide_type": "fragment"
        }
      },
      "outputs": [],
      "source": [
        "# an array can be created from a list of (equal size) lists\n",
        "np.array([\n",
        "    [1.0, 2.0, 3.0],\n",
        "    [4  ,   5,   6] \n",
        "])"
      ],
      "id": "a47a4e35"
    },
    {
      "cell_type": "code",
      "execution_count": 7,
      "metadata": {
        "slideshow": {
          "slide_type": "fragment"
        }
      },
      "outputs": [],
      "source": [
        "# initialize an empty matrix with the dimensions as a tuple\n",
        "A = np.zeros( (2, 3) )\n",
        "A"
      ],
      "id": "0815503c"
    },
    {
      "cell_type": "code",
      "execution_count": 8,
      "metadata": {},
      "outputs": [],
      "source": [
        "# matrix dimensions are contained in the shape attribute\n",
        "A.shape"
      ],
      "id": "528242cd"
    },
    {
      "cell_type": "markdown",
      "metadata": {},
      "source": [
        "### Tensors\n",
        "\n",
        "The construction generalizes to higher dimension arrays (a.k.a. tensors)"
      ],
      "id": "2e4ea299-f32a-49c5-a5f4-d38dfa49babd"
    },
    {
      "cell_type": "code",
      "execution_count": 9,
      "metadata": {
        "slideshow": {
          "slide_type": "fragment"
        }
      },
      "outputs": [],
      "source": [
        "# an array can be created from a list of list of lists\n",
        "np.array([\n",
        "    [\n",
        "        [1.0, 2.0, 3.0],\n",
        "        [4  ,   5,   6] \n",
        "    ],\n",
        "        [\n",
        "        [7.0, 8.0, 9.0],\n",
        "        [10 ,  11,   12] \n",
        "    ]\n",
        "])"
      ],
      "id": "80657ca3"
    },
    {
      "cell_type": "code",
      "execution_count": 10,
      "metadata": {
        "slideshow": {
          "slide_type": "fragment"
        }
      },
      "outputs": [],
      "source": [
        "# initialize an empty matrix with the dimensions as a tuple\n",
        "A = np.zeros( (2, 3) )\n",
        "A"
      ],
      "id": "5aa0374b"
    },
    {
      "cell_type": "code",
      "execution_count": 11,
      "metadata": {},
      "outputs": [],
      "source": [
        "# matrix dimensions are contained in the shape attribute\n",
        "A.shape"
      ],
      "id": "470ecaa5"
    },
    {
      "cell_type": "markdown",
      "metadata": {},
      "source": [
        "### Linear Algebra\n",
        "\n",
        "*Vector multiplications* and *Matrix multiplications* can be performed\n",
        "using special sign `@`"
      ],
      "id": "6d17bd1e-3ac4-459b-b1d1-ff921ae7c79e"
    },
    {
      "cell_type": "code",
      "execution_count": 12,
      "metadata": {
        "slideshow": {
          "slide_type": "fragment"
        }
      },
      "outputs": [],
      "source": [
        "A = np.array([[1.0, 2.0], [2,4]])\n",
        "A"
      ],
      "id": "41fcb8d4"
    },
    {
      "cell_type": "code",
      "execution_count": 13,
      "metadata": {
        "slideshow": {
          "slide_type": "fragment"
        }
      },
      "outputs": [],
      "source": [
        "B = np.array([1.0, 2.0])\n",
        "B"
      ],
      "id": "31ee499b"
    },
    {
      "cell_type": "code",
      "execution_count": 14,
      "metadata": {
        "slideshow": {
          "slide_type": "fragment"
        }
      },
      "outputs": [],
      "source": [
        "A@B"
      ],
      "id": "3b641867"
    },
    {
      "cell_type": "code",
      "execution_count": 15,
      "metadata": {
        "slideshow": {
          "slide_type": "fragment"
        }
      },
      "outputs": [],
      "source": [
        "A@A"
      ],
      "id": "c57d13ea"
    },
    {
      "cell_type": "markdown",
      "metadata": {},
      "source": [
        "Note how multiplication reduces total number of dimensions by 2. It is a\n",
        "tensor reduction."
      ],
      "id": "4a7a610e-4b77-4d46-a8b8-aceafb05ac87"
    },
    {
      "cell_type": "code",
      "execution_count": 16,
      "metadata": {
        "slideshow": {
          "slide_type": "fragment"
        }
      },
      "outputs": [],
      "source": [
        "print(A.shape, A.shape, (A@A).shape)"
      ],
      "id": "cf3c9224"
    },
    {
      "cell_type": "markdown",
      "metadata": {},
      "source": [
        "### Scalar types\n",
        "\n",
        "Numpy arrays can contain data of several *scalar* types."
      ],
      "id": "b94e66fa-f172-48fc-8a12-6463caa0c16d"
    },
    {
      "cell_type": "code",
      "execution_count": 17,
      "metadata": {},
      "outputs": [],
      "source": [
        "[True, False, True]"
      ],
      "id": "4414efea"
    },
    {
      "cell_type": "code",
      "execution_count": 18,
      "metadata": {},
      "outputs": [],
      "source": [
        "# vector of boolean\n",
        "boolean_vector = np.array( [True, False, True] )\n",
        "print(f\"type of scalar '{boolean_vector.dtype}'\")\n",
        "boolean_vector"
      ],
      "id": "5bb04ec2"
    },
    {
      "cell_type": "code",
      "execution_count": 19,
      "metadata": {},
      "outputs": [],
      "source": [
        "# vector of integers\n",
        "int_vector = np.array([1, 2, 0])\n",
        "print(f\"type of scalar '{int_vector.dtype}'\")\n",
        "int_vector"
      ],
      "id": "7f59bed7"
    },
    {
      "cell_type": "markdown",
      "metadata": {},
      "source": [
        "By default, numerical arrays contain `float64` numbers (like matlab).\n",
        "But GPUs typically process 16 bits or 32 bits numbers.\n",
        "\n",
        "Can you create a 32 bits array?"
      ],
      "id": "05cbec5e-ce0d-4a8a-93b0-358093229f75"
    },
    {
      "cell_type": "code",
      "execution_count": 20,
      "metadata": {},
      "outputs": [],
      "source": [
        "# your code here"
      ],
      "id": "17c36c4d"
    },
    {
      "cell_type": "markdown",
      "metadata": {},
      "source": [
        "### Subscripting Vectors\n",
        "\n",
        "-   Elements and subarrays, can be retrieved using the same syntax as\n",
        "    lists and strings.\n",
        "    -   Remember that indexing starts at 0."
      ],
      "id": "cac83bbe-93d9-46b3-9934-8836db606228"
    },
    {
      "cell_type": "code",
      "execution_count": 21,
      "metadata": {},
      "outputs": [],
      "source": [
        "V = np.array([0., 1., 2., 3., 4.])\n",
        "display(V[1])  # second element"
      ],
      "id": "65b1a471"
    },
    {
      "cell_type": "code",
      "execution_count": 22,
      "metadata": {},
      "outputs": [],
      "source": [
        "V = np.array([0., 1., 2., 3., 4.])\n",
        "display(V[1:3])  # second, third and fourth element"
      ],
      "id": "9793dc0a"
    },
    {
      "cell_type": "markdown",
      "metadata": {},
      "source": [
        "### Modifying Vector Content\n",
        "\n",
        "-   Elements and suvectors, can be assigned to new values, as long as\n",
        "    they have the right dimensions."
      ],
      "id": "579eb5b9-6287-49f4-8245-e0beb8e829c3"
    },
    {
      "cell_type": "code",
      "execution_count": 23,
      "metadata": {},
      "outputs": [],
      "source": [
        "V = np.array([1., 1., 2., 4., 5., 8., 13.])\n",
        "V[3] = 3.0\n",
        "V"
      ],
      "id": "3c1ea136"
    },
    {
      "cell_type": "code",
      "execution_count": 24,
      "metadata": {},
      "outputs": [],
      "source": [
        "V = np.array([1., 1., 2., 4., 5., 8., 13.])\n",
        "# V[1:4] = [1,2,3,4] # this doesn't work\n",
        "V[1:4] = [2,3,4] # this works"
      ],
      "id": "4bf6daee"
    },
    {
      "cell_type": "markdown",
      "metadata": {},
      "source": [
        "### Subscripting Matrices\n",
        "\n",
        "-   Indexing generalizes to matrices: there are two indices istead of\n",
        "    one: `M[i,j]`\n",
        "-   One can extract a row, or a column (a slice) with `M[i,:]` or\n",
        "    `M[:,i]`\n",
        "-   A submatrix is defining with two intervals: `M[i:j, k:l]` or\n",
        "    `M[i:j, :]`, …"
      ],
      "id": "fa7ea666-3d2c-4694-aec3-e43a8043e3e4"
    },
    {
      "cell_type": "code",
      "execution_count": 25,
      "metadata": {},
      "outputs": [],
      "source": [
        "M = np.array([[1,2,3],[4,5,6],[7,8,9]])\n",
        "M"
      ],
      "id": "5173b22e"
    },
    {
      "cell_type": "code",
      "execution_count": 26,
      "metadata": {},
      "outputs": [],
      "source": [
        "M[0,1] # access element (1,2)"
      ],
      "id": "7aa54ed5"
    },
    {
      "cell_type": "code",
      "execution_count": 27,
      "metadata": {},
      "outputs": [],
      "source": [
        "M[2,:] # third row"
      ],
      "id": "fa6bfe03"
    },
    {
      "cell_type": "code",
      "execution_count": 28,
      "metadata": {},
      "outputs": [],
      "source": [
        "M[:,1] # second column     # M[i,1] for any i"
      ],
      "id": "5e514d38"
    },
    {
      "cell_type": "code",
      "execution_count": 29,
      "metadata": {},
      "outputs": [],
      "source": [
        "M[1:3, :] # lines from 1 (included) to 3 (excluded) ; all columns"
      ],
      "id": "01a083ee"
    },
    {
      "cell_type": "markdown",
      "metadata": {},
      "source": [
        "### Modifying matrix content"
      ],
      "id": "355e3827-b4ea-4337-9536-47155a424f86"
    },
    {
      "cell_type": "code",
      "execution_count": 30,
      "metadata": {},
      "outputs": [],
      "source": [
        "M = np.array([[1,2,3],[4,5,6],[7,8,9]])\n",
        "M"
      ],
      "id": "739c93be"
    },
    {
      "cell_type": "code",
      "execution_count": 31,
      "metadata": {},
      "outputs": [],
      "source": [
        "M[0,0] = 0\n",
        "M"
      ],
      "id": "96d33d01"
    },
    {
      "cell_type": "code",
      "execution_count": 32,
      "metadata": {},
      "outputs": [],
      "source": [
        "M[1:3, 1:3] = np.array([[0,1],[1,0]]) # dimensions must match\n",
        "M"
      ],
      "id": "bf5dc1aa"
    },
    {
      "cell_type": "markdown",
      "metadata": {},
      "source": [
        "### Element-wise algebraic operations\n",
        "\n",
        "-   The following algebraic operations are defined on arrays: `+`, `-`,\n",
        "    `*`, `/`, `**`.\n",
        "-   Comparisons operators (`<`,`<=`, `>`, `>=`, `==`) are defined are\n",
        "    return boolean arrays.\n",
        "-   They operate element by element."
      ],
      "id": "1ae0cfd7-85b1-4521-ae5a-e618e05003f8"
    },
    {
      "cell_type": "code",
      "execution_count": 33,
      "metadata": {},
      "outputs": [],
      "source": [
        "A = np.array([1,2,3,4])\n",
        "B = np.array([4,3,2,1])\n",
        "A+B"
      ],
      "id": "3ecd339a"
    },
    {
      "cell_type": "code",
      "execution_count": 34,
      "metadata": {},
      "outputs": [],
      "source": [
        "A*B    # note the difference with A@B"
      ],
      "id": "8ea9b312"
    },
    {
      "cell_type": "code",
      "execution_count": 35,
      "metadata": {},
      "outputs": [],
      "source": [
        "A>B"
      ],
      "id": "869d456f"
    },
    {
      "cell_type": "markdown",
      "metadata": {},
      "source": [
        "At first, one might be surprised that the default multiplication\n",
        "operator is element-wise multiplication rather than matrix\n",
        "multiplication.\n",
        "\n",
        "There are at least two good reasons:\n",
        "\n",
        "-   consistency: all operators can be broadcasted with the exact same\n",
        "    rules (like `*`, `+`, `>`)\n",
        "-   for many workflows, elementwise operations are more common than\n",
        "    matrix multiplication\n",
        "\n",
        "### Element-wise logical operations\n",
        "\n",
        "-   The following logical operations are defined element-wise on arrays:\n",
        "    `&` (and), `|` (or), `~` (not)"
      ],
      "id": "87c2c07b-5222-4617-820e-8ace5814b07a"
    },
    {
      "cell_type": "code",
      "execution_count": 36,
      "metadata": {},
      "outputs": [],
      "source": [
        "A = np.array([False, False, True, True])\n",
        "B = np.array([False, True, False, True])"
      ],
      "id": "f31c4d89"
    },
    {
      "cell_type": "code",
      "execution_count": 37,
      "metadata": {},
      "outputs": [],
      "source": [
        "~A"
      ],
      "id": "f00594b1"
    },
    {
      "cell_type": "code",
      "execution_count": 38,
      "metadata": {},
      "outputs": [],
      "source": [
        "A | B"
      ],
      "id": "644fc27d"
    },
    {
      "cell_type": "code",
      "execution_count": 39,
      "metadata": {},
      "outputs": [],
      "source": [
        "A & B"
      ],
      "id": "f8028ec8"
    },
    {
      "cell_type": "markdown",
      "metadata": {},
      "source": [
        "### Vector indexing\n",
        "\n",
        "-   Arrays can be indexed by boolean arrays instead of ranges.\n",
        "-   Only elements corresponding to true are retrieved"
      ],
      "id": "e1210707-609d-4b72-8038-b250d35dbf98"
    },
    {
      "cell_type": "code",
      "execution_count": 40,
      "metadata": {},
      "outputs": [],
      "source": [
        "x = np.linspace(0,1,6)\n",
        "x"
      ],
      "id": "eed054ea"
    },
    {
      "cell_type": "code",
      "execution_count": 41,
      "metadata": {},
      "outputs": [],
      "source": [
        "# indexes such that (x^2) > (x/2)\n",
        "x**2 > (x/2)"
      ],
      "id": "ced01f71"
    },
    {
      "cell_type": "code",
      "execution_count": 42,
      "metadata": {},
      "outputs": [],
      "source": [
        "cond = x**2 > (x/2)\n",
        "x[ cond ] "
      ],
      "id": "aa2a9c86"
    },
    {
      "cell_type": "markdown",
      "metadata": {},
      "source": [
        "### Going further: broadcasting rules\n",
        "\n",
        "-   Numpy library has defined very consistent conventions, to match\n",
        "    inconsistent dimensions.\n",
        "-   Ignore them for now…"
      ],
      "id": "4cee1bc1-b117-4eb8-b034-6340f7a76ad3"
    },
    {
      "cell_type": "code",
      "execution_count": 43,
      "metadata": {},
      "outputs": [],
      "source": [
        "M = np.eye(4)\n",
        "M"
      ],
      "id": "5a98d5dc"
    },
    {
      "cell_type": "code",
      "execution_count": 44,
      "metadata": {},
      "outputs": [],
      "source": [
        "M[2:4, 2:4] = 0.5 # float\n",
        "M"
      ],
      "id": "ec609459"
    },
    {
      "cell_type": "code",
      "execution_count": 45,
      "metadata": {},
      "outputs": [],
      "source": [
        "M[:,:2] = np.array([[0.1, 0.2]])  # 1x2 array\n",
        "M"
      ],
      "id": "20b41edc"
    },
    {
      "cell_type": "markdown",
      "metadata": {},
      "source": [
        "### Going Further\n",
        "\n",
        "-   Other useful functions (easy to google):\n",
        "    -   `np.arange()` regularly spaced integers\n",
        "    -   `np.where()` find elements in\n",
        "    -   …\n",
        "\n",
        "## Matplotlib\n",
        "\n",
        "### Matplotlib\n",
        "\n",
        "-   `matplotlib` is …\n",
        "-   object oriented api optional Matlab-like syntax\n",
        "-   main function is `plt.plot(x,y)` where `x` and `y` are vectors (or\n",
        "    iterables like lists)\n",
        "    -   **lots** of optional arguments"
      ],
      "id": "2f42daa8-d67e-43f7-9489-bcaaf55bde9b"
    },
    {
      "cell_type": "code",
      "execution_count": 46,
      "metadata": {},
      "outputs": [],
      "source": [
        "from matplotlib import pyplot as plt"
      ],
      "id": "64b073cf"
    },
    {
      "cell_type": "markdown",
      "metadata": {},
      "source": [
        "### Example"
      ],
      "id": "8b3b1b16-8338-4a47-a983-6f8712b282ed"
    },
    {
      "cell_type": "code",
      "execution_count": 47,
      "metadata": {},
      "outputs": [],
      "source": [
        "x = np.linspace(-1,1,6)"
      ],
      "id": "5b99aff5"
    },
    {
      "cell_type": "code",
      "execution_count": 48,
      "metadata": {},
      "outputs": [],
      "source": [
        "y = np.sin(x)/x # sinus cardinal"
      ],
      "id": "fd32b78a"
    },
    {
      "cell_type": "code",
      "execution_count": 49,
      "metadata": {},
      "outputs": [],
      "source": [
        "plt.plot(x,y,'o')\n",
        "plt.plot(x,y)"
      ],
      "id": "49f938e3"
    },
    {
      "cell_type": "markdown",
      "metadata": {},
      "source": [
        "### Example (2)"
      ],
      "id": "5fb5bede-2bd5-482e-9375-e68cbc3b17ce"
    },
    {
      "cell_type": "code",
      "execution_count": 50,
      "metadata": {},
      "outputs": [],
      "source": [
        "x = np.linspace(-5,5,100)\n",
        "\n",
        "fig = plt.figure() # keep a figure open to draw on it\n",
        "for k in range(1,5):\n",
        "    y = np.sin(x*k)/(x*k)\n",
        "    plt.plot(x, y, label=f\"$sinc({k} x)$\") # label each line\n",
        "plt.plot(x, x*0, color='black', linestyle='--')\n",
        "plt.grid(True) # add a grid\n",
        "plt.title(\"Looking for the right hat.\")\n",
        "plt.legend(loc=\"upper right\")"
      ],
      "id": "27f7f85b"
    },
    {
      "cell_type": "markdown",
      "metadata": {},
      "source": [
        "### Example (3)"
      ],
      "id": "e3b81fd7-2312-43c0-a9b0-f613a0e83755"
    },
    {
      "cell_type": "code",
      "execution_count": 51,
      "metadata": {},
      "outputs": [],
      "source": [
        "x = np.linspace(-5,5,100)\n",
        "\n",
        "plt.figure()\n",
        "plt.subplot(2,2,1) # create a 2x2 subplot and draw in first quadrant\n",
        "plt.plot(x,x)\n",
        "plt.subplot(2,2,2) # create a 2x2 subplot and draw in second quadrant\n",
        "plt.plot(x,-x)\n",
        "plt.subplot(2,2,3) # create a 2x2 subplot and draw in third quadrant\n",
        "plt.plot(x,-x)\n",
        "plt.subplot(2,2,4) # create a 2x2 subplot and draw in fourth quadrant\n",
        "plt.plot(x,x)\n",
        "\n",
        "plt.tight_layout() # save some space"
      ],
      "id": "b93b90f2"
    },
    {
      "cell_type": "markdown",
      "metadata": {},
      "source": [
        "### Alternatives to matplotlib\n",
        "\n",
        "-   plotly (nice javascript graphs)\n",
        "-   bqplot (native integration with jupyter)\n",
        "-   altair\n",
        "    -   excellent for dataviz/interactivity\n",
        "    -   python wrapper to Vega-lite\n",
        "    -   very efficient to visualize `pandas` data (i.e. a dataframe)"
      ],
      "id": "0566361e-70da-4de6-844a-23ff76205c7b"
    }
  ],
  "nbformat": 4,
  "nbformat_minor": 5,
  "metadata": {
    "kernelspec": {
      "name": "python3",
      "display_name": "Python 3 (ipykernel)",
      "language": "python",
      "path": "/home/pablo/.local/share/jupyter/kernels/python3"
    },
    "language_info": {
      "name": "python",
      "codemirror_mode": {
        "name": "ipython",
        "version": "3"
      },
      "file_extension": ".py",
      "mimetype": "text/x-python",
      "nbconvert_exporter": "python",
      "pygments_lexer": "ipython3",
      "version": "3.11.10"
    }
  }
}