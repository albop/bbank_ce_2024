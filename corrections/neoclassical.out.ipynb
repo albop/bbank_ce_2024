{
  "cells": [
    {
      "cell_type": "markdown",
      "metadata": {},
      "source": [
        "# Neoclassical model with time iteration\n",
        "\n",
        "Our goal in this tutorial will be to solve numerically the neoclassical\n",
        "model using the time-iteration algorithms in two ways:\n",
        "\n",
        "-   with a naive iterative algorithm\n",
        "-   with a vectorized one (using numpy)\n",
        "\n",
        "Remark: this tutorial uses typehints as a way to help structure the\n",
        "code. They can safely be ignored."
      ],
      "id": "7ab018f9-69d6-4691-8cff-af661ad1a8d1"
    },
    {
      "cell_type": "code",
      "execution_count": 10,
      "metadata": {},
      "outputs": [],
      "source": [
        "from dataclasses import dataclass\n",
        "from math import exp, sqrt\n",
        "import numpy as np\n",
        "from typing import Any, Tuple\n",
        "import numpy.typing as npt\n",
        "Vector = npt.NDArray[1]\n",
        "Matrix = npt.NDArray[2]\n",
        "Tensor3 = npt.NDArray[3]\n"
      ],
      "id": "d3975a55"
    },
    {
      "cell_type": "markdown",
      "metadata": {},
      "source": [
        "### The neoclassical model\n",
        "\n",
        "The representative agent maximizes intertemporal discounted utility of\n",
        "consumption $$\\sum_{t\\geq0} \\beta^t U(c_t)$$ where\n",
        "$U(c_t)=\\frac{(c_t)^{1-\\gamma}}{1-\\gamma}$.\n",
        "\n",
        "Production is $$y_t=exp(z_t) k_t^{\\alpha}$$ where $k_t$ is the amount of\n",
        "capital and $z_t=\\rho z_{t-1} + \\epsilon_t$ and AR1 process with\n",
        "$(\\epsilon_t)$ a normal innovation of standard deviation $\\sigma$.\n",
        "\n",
        "The law of motion for the capital depends on investment $i_t$ and\n",
        "capital depreciation $\\delta$:\n",
        "\n",
        "$$k_t = (1-\\delta) k_{t-1} + i_{t-1}$$\n",
        "\n",
        "The first order condition corresponding to the optimization problem is:\n",
        "\n",
        "$$E_t \\left[ \\beta  \\underbrace{ \\frac{U^{\\prime}(c_{t+1})}{U^{\\prime}(c_t)})\\left( 1- \\delta + \\alpha exp(z_{t+1}) k_{t+1}^{\\alpha-1} \\right)  -1 }_{f}\\right] =0$$\n",
        "\n",
        "<span class=\"theorem-title\">**Exercise 1**</span> What are the states of\n",
        "the problems? the controls? the exogenous shocks?"
      ],
      "id": "e92bd5fc-59ea-44b3-8a78-c4b747674831"
    },
    {
      "cell_type": "code",
      "execution_count": 1,
      "metadata": {},
      "outputs": [],
      "source": [
        "# states: (z,k)\n",
        "# controls: (i,)  \n",
        "\n",
        "# everything else can be computed from it\n",
        "# auxiliary: (y,c)\n",
        "\n",
        "# shocks: (epsilon,)\n",
        "\n",
        "# paramaters: alpha,beta,gamma,delta,sigma,rho"
      ],
      "id": "0dc573d9"
    },
    {
      "cell_type": "markdown",
      "metadata": {},
      "source": [
        "<span class=\"theorem-title\">**Exercise 2**</span> Define an object to\n",
        "represent the model calibration (you can use a dataclass)."
      ],
      "id": "6e0a4b52-fd9d-475f-b52a-ecd9679c844d"
    },
    {
      "cell_type": "code",
      "execution_count": 6,
      "metadata": {},
      "outputs": [],
      "source": [
        "from dataclasses import dataclass\n",
        "\n",
        "@dataclass\n",
        "class Neoclassical:\n",
        "    \n",
        "    alpha = 0.3\n",
        "    beta = 0.96\n",
        "    gamma = 4.0\n",
        "    delta = 0.1\n",
        "    rho = 0.9\n",
        "    sigma = 0.01\n",
        "\n",
        "    # def __getitem__(self, name):\n",
        "    #     return self.__getattribute__(name)\n"
      ],
      "id": "5fc1abc2"
    },
    {
      "cell_type": "code",
      "execution_count": 7,
      "metadata": {},
      "outputs": [],
      "source": [
        "m = Neoclassical()"
      ],
      "id": "29b459e7"
    },
    {
      "cell_type": "code",
      "execution_count": 8,
      "metadata": {},
      "outputs": [
        {
          "output_type": "display_data",
          "metadata": {},
          "data": {
            "text/plain": [
              "0.3"
            ]
          }
        }
      ],
      "source": [
        "m.alpha"
      ],
      "id": "f949dc18"
    },
    {
      "cell_type": "markdown",
      "metadata": {},
      "source": [
        "<span class=\"theorem-title\">**Exercise 3**</span> Define a function to\n",
        "compute the steady-state controls and states."
      ],
      "id": "13b825a5-c69b-418c-8f5b-29986d19e766"
    },
    {
      "cell_type": "code",
      "execution_count": 11,
      "metadata": {},
      "outputs": [],
      "source": [
        "def steady_state(m: Neoclassical) -> Tuple[ Tuple[float, float], Tuple[float]]:\n",
        "    \n",
        "    z:float = 0.0\n",
        "    k:float = ((1/m.beta-(1-m.delta))/m.alpha)**(1/(m.alpha-1))\n",
        "    i = k*m.delta\n",
        "    s = (z,k) # tuple of states\n",
        "    x = (i,) #tuple of controls\n",
        "    return (s,x)"
      ],
      "id": "dbb1a0e6"
    },
    {
      "cell_type": "code",
      "execution_count": null,
      "metadata": {},
      "outputs": [],
      "source": [
        "s,x = steady_state(m)"
      ],
      "id": "cccc368b"
    },
    {
      "cell_type": "code",
      "execution_count": null,
      "metadata": {},
      "outputs": [
        {
          "output_type": "display_data",
          "metadata": {},
          "data": {
            "text/plain": [
              "(0.29208221499640713,)"
            ]
          }
        }
      ],
      "source": [
        "x"
      ],
      "id": "bc51ce63"
    },
    {
      "cell_type": "markdown",
      "metadata": {},
      "source": [
        "### Naive solution\n",
        "\n",
        "<span class=\"theorem-title\">**Exercise 4**</span> Define a cartesian\n",
        "grid on productivity and capital:"
      ],
      "id": "d3ccb081-901f-4e55-8ba5-3f739b363849"
    },
    {
      "cell_type": "code",
      "execution_count": 8,
      "metadata": {
        "editable": true,
        "slideshow": {
          "slide_type": ""
        },
        "tags": []
      },
      "outputs": [],
      "source": [
        "def get_grid(m: Neoclassical, size: Tuple[int, int]) -> Tuple[ Vector, Vector]:\n",
        "    \n",
        "    s,x = steady_state(m)\n",
        "\n",
        "    sigma_e = m.sigma/sqrt(1-m.rho**2)\n",
        "    kbar = s[1] # steady state value of capital\n",
        "\n",
        "    zvec = np.linspace( -2*sigma_e, 2*sigma_e, size[0])\n",
        "    kvec = np.linspace(0.5*kbar,kbar*1.5,size[1])\n",
        "    return (zvec, kvec)\n",
        "\n",
        "grid  = get_grid(m, (10,10))\n"
      ],
      "id": "f7cd2e4f"
    },
    {
      "cell_type": "code",
      "execution_count": 9,
      "metadata": {},
      "outputs": [
        {
          "output_type": "display_data",
          "metadata": {},
          "data": {
            "text/plain": [
              "(array([-0.04588315, -0.03568689, -0.02549064, -0.01529438, -0.00509813,\n",
              "         0.00509813,  0.01529438,  0.02549064,  0.03568689,  0.04588315]),\n",
              " array([1.46041107, 1.78494687, 2.10948266, 2.43401846, 2.75855425,\n",
              "        3.08309005, 3.40762584, 3.73216164, 4.05669743, 4.38123322]))"
            ]
          }
        }
      ],
      "source": [
        "grid"
      ],
      "id": "41684a63"
    },
    {
      "cell_type": "markdown",
      "metadata": {},
      "source": [
        "<span class=\"theorem-title\">**Exercise 5**</span> Define an initial\n",
        "guess representing the values of the controls on the grid"
      ],
      "id": "a6940413-7b2a-4071-9eac-58b1cfde29c1"
    },
    {
      "cell_type": "code",
      "execution_count": 10,
      "metadata": {},
      "outputs": [],
      "source": [
        "N_1, N_2 = (10,10)\n",
        "\n",
        "x0 = np.zeros( (N_1, N_2, 1) )\n",
        "x0[:, :, 0] = x\n",
        "x0;\n"
      ],
      "id": "c691cc7c"
    },
    {
      "cell_type": "code",
      "execution_count": 11,
      "metadata": {},
      "outputs": [
        {
          "output_type": "display_data",
          "metadata": {},
          "data": {
            "text/plain": [
              "array([[[0.29208221],\n",
              "        [0.29208221],\n",
              "        [0.29208221],\n",
              "        [0.29208221],\n",
              "        [0.29208221],\n",
              "        [0.29208221],\n",
              "        [0.29208221],\n",
              "        [0.29208221],\n",
              "        [0.29208221],\n",
              "        [0.29208221]],\n",
              "\n",
              "       [[0.29208221],\n",
              "        [0.29208221],\n",
              "        [0.29208221],\n",
              "        [0.29208221],\n",
              "        [0.29208221],\n",
              "        [0.29208221],\n",
              "        [0.29208221],\n",
              "        [0.29208221],\n",
              "        [0.29208221],\n",
              "        [0.29208221]],\n",
              "\n",
              "       [[0.29208221],\n",
              "        [0.29208221],\n",
              "        [0.29208221],\n",
              "        [0.29208221],\n",
              "        [0.29208221],\n",
              "        [0.29208221],\n",
              "        [0.29208221],\n",
              "        [0.29208221],\n",
              "        [0.29208221],\n",
              "        [0.29208221]],\n",
              "\n",
              "       [[0.29208221],\n",
              "        [0.29208221],\n",
              "        [0.29208221],\n",
              "        [0.29208221],\n",
              "        [0.29208221],\n",
              "        [0.29208221],\n",
              "        [0.29208221],\n",
              "        [0.29208221],\n",
              "        [0.29208221],\n",
              "        [0.29208221]],\n",
              "\n",
              "       [[0.29208221],\n",
              "        [0.29208221],\n",
              "        [0.29208221],\n",
              "        [0.29208221],\n",
              "        [0.29208221],\n",
              "        [0.29208221],\n",
              "        [0.29208221],\n",
              "        [0.29208221],\n",
              "        [0.29208221],\n",
              "        [0.29208221]],\n",
              "\n",
              "       [[0.29208221],\n",
              "        [0.29208221],\n",
              "        [0.29208221],\n",
              "        [0.29208221],\n",
              "        [0.29208221],\n",
              "        [0.29208221],\n",
              "        [0.29208221],\n",
              "        [0.29208221],\n",
              "        [0.29208221],\n",
              "        [0.29208221]],\n",
              "\n",
              "       [[0.29208221],\n",
              "        [0.29208221],\n",
              "        [0.29208221],\n",
              "        [0.29208221],\n",
              "        [0.29208221],\n",
              "        [0.29208221],\n",
              "        [0.29208221],\n",
              "        [0.29208221],\n",
              "        [0.29208221],\n",
              "        [0.29208221]],\n",
              "\n",
              "       [[0.29208221],\n",
              "        [0.29208221],\n",
              "        [0.29208221],\n",
              "        [0.29208221],\n",
              "        [0.29208221],\n",
              "        [0.29208221],\n",
              "        [0.29208221],\n",
              "        [0.29208221],\n",
              "        [0.29208221],\n",
              "        [0.29208221]],\n",
              "\n",
              "       [[0.29208221],\n",
              "        [0.29208221],\n",
              "        [0.29208221],\n",
              "        [0.29208221],\n",
              "        [0.29208221],\n",
              "        [0.29208221],\n",
              "        [0.29208221],\n",
              "        [0.29208221],\n",
              "        [0.29208221],\n",
              "        [0.29208221]],\n",
              "\n",
              "       [[0.29208221],\n",
              "        [0.29208221],\n",
              "        [0.29208221],\n",
              "        [0.29208221],\n",
              "        [0.29208221],\n",
              "        [0.29208221],\n",
              "        [0.29208221],\n",
              "        [0.29208221],\n",
              "        [0.29208221],\n",
              "        [0.29208221]]])"
            ]
          }
        }
      ],
      "source": [
        "def initial_guess(m: Neoclassical, grid)->npt.NDArray[3]:\n",
        "    s,x = steady_state(m)\n",
        "    \n",
        "    N_1 = len(grid[0])\n",
        "    N_2 = len(grid[1])\n",
        "\n",
        "    x0 = np.zeros( (N_1, N_2, 1) )\n",
        "    x0[:, :, 0] = x\n",
        "    return x0;\n",
        "\n",
        "    # x0 = 3-dimensional array of size\n",
        "\n",
        "x0 = initial_guess(m, grid)\n",
        "x0"
      ],
      "id": "2bc5f7f7"
    },
    {
      "cell_type": "markdown",
      "metadata": {},
      "source": [
        "<span class=\"theorem-title\">**Exercise 6**</span> Define a decision rule\n",
        "which interpolates the initial guess on any state"
      ],
      "id": "16c91a9f-8392-4cc7-b168-b7b32eb9b51e"
    },
    {
      "cell_type": "code",
      "execution_count": 12,
      "metadata": {},
      "outputs": [
        {
          "output_type": "display_data",
          "metadata": {},
          "data": {
            "text/plain": [
              "array([[0.29208221]])"
            ]
          }
        }
      ],
      "source": [
        "from scipy.interpolate import RegularGridInterpolator\n",
        "\n",
        "RegularGridInterpolator(grid, x0)([0.001, 2.0])"
      ],
      "id": "aa7dc71a"
    },
    {
      "cell_type": "code",
      "execution_count": 13,
      "metadata": {},
      "outputs": [],
      "source": [
        "def phi(grid, s, x0):\n",
        "    return RegularGridInterpolator(grid, x0)(s)"
      ],
      "id": "c98bd74c"
    },
    {
      "cell_type": "code",
      "execution_count": 14,
      "metadata": {},
      "outputs": [
        {
          "output_type": "display_data",
          "metadata": {},
          "data": {
            "text/plain": [
              "array([[0.29208221]])"
            ]
          }
        }
      ],
      "source": [
        "phi(grid,[0.01, 2], x0)"
      ],
      "id": "359f3f18"
    },
    {
      "cell_type": "code",
      "execution_count": 16,
      "metadata": {},
      "outputs": [],
      "source": [
        "# Note that with the same decision rule, it is possible to interpolate at many differenc state at once\n",
        "# instead of one vector ([0.01, 2]), just pass a matrix, where each row corresponds to a state to interpolate at "
      ],
      "id": "8b9e4ed8-04b7-4556-acc0-3f7c667cb3c7"
    },
    {
      "cell_type": "code",
      "execution_count": 15,
      "metadata": {},
      "outputs": [
        {
          "output_type": "display_data",
          "metadata": {},
          "data": {
            "text/plain": [
              "array([[0.29208221],\n",
              "       [0.29208221]])"
            ]
          }
        }
      ],
      "source": [
        "phi(\n",
        "    grid,\n",
        "    np.array([\n",
        "        [0.01, 2.2],\n",
        "        [0.02, 2.4]\n",
        "    ]),\n",
        "    x0\n",
        ")\n",
        "# The result is also a matrix, with each line corresponding to a vector of controls"
      ],
      "id": "8f671643-11dc-4d76-9b06-46b45856b83e"
    },
    {
      "cell_type": "markdown",
      "metadata": {},
      "source": [
        "<span class=\"theorem-title\">**Exercise 7**</span> Compute the euler\n",
        "residual, for a given realization of the exogenous shocks."
      ],
      "id": "155a0a34-085a-4d10-b6a3-dc5dad2d76ca"
    },
    {
      "cell_type": "code",
      "execution_count": 16,
      "metadata": {},
      "outputs": [],
      "source": [
        "def f(m: Neoclassical, s: Tuple[float,float], x:Tuple[float], E: Tuple[float], grid, theta):\n",
        "    ## grid is the discretized grid from before\n",
        "    ## theta contains the values of the controls on the grid\n",
        "    \n",
        "    # extract some values\n",
        "\n",
        "    z = s[0]\n",
        "    k = s[1]\n",
        "    # z,k  = s # (equivalent)\n",
        "    i = x[0]\n",
        "\n",
        "    Epsilon = E[0]\n",
        " \n",
        "    ### Coputing auxiliary variables\n",
        "\n",
        "    y = exp(z)*k**m.alpha\n",
        "    c = y - i\n",
        "\n",
        "    ### computing the transitions\n",
        "\n",
        "    # upper case for variables tomorrow\n",
        "    Z = (1-m.rho)*z + Epsilon\n",
        "    K = (1-m.delta)*k + i\n",
        "\n",
        "    # state tomorrow\n",
        "    S = (Z,K)\n",
        "\n",
        "    #compute controls tomorrow\n",
        "    X = phi(grid,S,theta)\n",
        "\n",
        "    I = X[0]\n",
        "    \n",
        "    ### Coputing auxiliary variables\n",
        "\n",
        "    Y = exp(Z)*K**m.alpha\n",
        "    C = Y - I\n",
        "\n",
        "    r = m.beta*(C/c)**(-m.gamma)*(1-m.delta+m.alpha*Y/K) - 1\n",
        "\n",
        "    return r\n"
      ],
      "id": "6406aa88"
    },
    {
      "cell_type": "code",
      "execution_count": 17,
      "metadata": {},
      "outputs": [
        {
          "output_type": "display_data",
          "metadata": {},
          "data": {
            "text/plain": [
              "0.0"
            ]
          }
        }
      ],
      "source": [
        "f(m, s, x, (0.0,), grid, x0) # 0 consistent with the steady-state"
      ],
      "id": "56cf40b2"
    },
    {
      "cell_type": "markdown",
      "metadata": {},
      "source": [
        "<span class=\"theorem-title\">**Exercise 8**</span> Compute the expected\n",
        "euler residuals, integrating over all possible realizations of the\n",
        "exogenous shocks."
      ],
      "id": "8351fca2-7927-4daf-b19b-33a1f0a8eb0a"
    },
    {
      "cell_type": "code",
      "execution_count": 18,
      "metadata": {},
      "outputs": [],
      "source": [
        "# compute the gauss-hermite quadratures\n",
        "\n",
        "from numpy.polynomial.hermite_e import hermegauss\n",
        "\n",
        "nodes, weights = hermegauss(5)"
      ],
      "id": "6284b533"
    },
    {
      "cell_type": "code",
      "execution_count": 19,
      "metadata": {},
      "outputs": [],
      "source": [
        "nodes = nodes*m.sigma"
      ],
      "id": "d22c309d"
    },
    {
      "cell_type": "code",
      "execution_count": 20,
      "metadata": {},
      "outputs": [],
      "source": [
        "from math import pi"
      ],
      "id": "23b2163d"
    },
    {
      "cell_type": "code",
      "execution_count": 21,
      "metadata": {},
      "outputs": [],
      "source": [
        "def F(m: Neoclassical, s: Tuple[float,float], x:Tuple[float], grid, theta, discr:Tuple[Vector, Vector]):\n",
        "    ## grid is the discretized grid from before\n",
        "    ## theta contains the values of the controls on the grid\n",
        "    ## discr contains the weights w,x of the gaussian quadrature\n",
        "\n",
        "    nodes, w = discr\n",
        "\n",
        "    r = 0.0\n",
        "\n",
        "    for i in range(len(w)):\n",
        "\n",
        "        E = (nodes[i],)\n",
        "        r += w[i]*f(m, s, x, E, grid, theta)\n",
        "\n",
        "    return r / 2/pi\n"
      ],
      "id": "375634e4"
    },
    {
      "cell_type": "code",
      "execution_count": 22,
      "metadata": {},
      "outputs": [
        {
          "output_type": "display_data",
          "metadata": {},
          "data": {
            "text/plain": [
              "0.000516479436097674"
            ]
          }
        }
      ],
      "source": [
        "F(m, s, x, grid, x0, (nodes, weights))"
      ],
      "id": "a80c7338"
    },
    {
      "cell_type": "markdown",
      "metadata": {},
      "source": [
        "<span class=\"theorem-title\">**Exercise 9**</span> At the steady-state,\n",
        "find the optimal control, assuming future decisions are taken according\n",
        "to the initial guess."
      ],
      "id": "ebf60d9a-6870-4857-8191-68e9521c36e1"
    },
    {
      "cell_type": "code",
      "execution_count": 23,
      "metadata": {},
      "outputs": [],
      "source": [
        "from scipy.optimize import root\n",
        "sol = root(lambda u: F(m, s, u, grid, x0, (nodes, weights)), x)"
      ],
      "id": "069633bd"
    },
    {
      "cell_type": "code",
      "execution_count": 24,
      "metadata": {},
      "outputs": [
        {
          "output_type": "display_data",
          "metadata": {},
          "data": {
            "text/plain": [
              " message: The solution converged.\n",
              " success: True\n",
              "  status: 1\n",
              "     fun: 2.234256836783291e-16\n",
              "       x: [ 2.924e-01]\n",
              "  method: hybr\n",
              "    nfev: 7\n",
              "    fjac: [[-1.000e+00]]\n",
              "       r: [ 1.689e+00]\n",
              "     qtf: [-1.462e-10]"
            ]
          }
        }
      ],
      "source": [
        "sol"
      ],
      "id": "70f010a3"
    },
    {
      "cell_type": "code",
      "execution_count": 25,
      "metadata": {},
      "outputs": [
        {
          "output_type": "display_data",
          "metadata": {},
          "data": {
            "text/plain": [
              "array([0.29238782])"
            ]
          }
        }
      ],
      "source": [
        "sol.x"
      ],
      "id": "4122925c"
    },
    {
      "cell_type": "markdown",
      "metadata": {},
      "source": [
        "<span class=\"theorem-title\">**Exercise 10**</span> Solve for the optimal\n",
        "controls over the whole grid, still assuming future decisions are taken\n",
        "according to the initial guess."
      ],
      "id": "3967708e-6379-4f57-9652-3312691c1ff6"
    },
    {
      "cell_type": "code",
      "execution_count": 26,
      "metadata": {},
      "outputs": [],
      "source": [
        "# compute optimal controls for the whole grid\n",
        "# store the results in x1\n",
        "x1 = x0.copy()\n",
        "\n",
        "# iterate over z grid\n",
        "for (i,z) in enumerate(grid[0]):\n",
        "    # iterate over k grid\n",
        "    for (j,k) in enumerate(grid[1]):\n",
        "        \n",
        "        s = (z,k)\n",
        "\n",
        "        x_ = x0[i,j,:] # initial guess (a vector, same as x0[i,j,:]\n",
        "\n",
        "        sol = root(lambda u: F(m, s, u, grid, x0, (nodes, weights)), x)\n",
        "\n",
        "        x1[i,j,:] = sol.x"
      ],
      "id": "a852454a"
    },
    {
      "cell_type": "markdown",
      "metadata": {},
      "source": [
        "<span class=\"theorem-title\">**Exercise 11**</span> Implement the time\n",
        "iteration algorithm."
      ],
      "id": "92582aa5-58d7-496f-b8f3-309ff537248a"
    },
    {
      "cell_type": "code",
      "execution_count": 27,
      "metadata": {},
      "outputs": [],
      "source": [
        "import tqdm"
      ],
      "id": "6acf7246"
    },
    {
      "cell_type": "code",
      "execution_count": 28,
      "metadata": {},
      "outputs": [],
      "source": [
        "from tqdm.notebook import tqdm"
      ],
      "id": "dd05914d-014f-48c9-8751-fb3b4f8d801b"
    },
    {
      "cell_type": "code",
      "execution_count": 29,
      "metadata": {},
      "outputs": [],
      "source": [
        "def time_iteration(m: Neoclassical, grid, discr, x0, T=100, tol_η=1e-9):\n",
        "\n",
        "    η_0 = 1.0\n",
        "\n",
        "    for t in tqdm(range(T)):\n",
        "\n",
        "        x1 = x0.copy()\n",
        "\n",
        "        \n",
        "        #### solve for optimal controls on the grid\n",
        "        \n",
        "        # iterate over z grid\n",
        "        for (i,z) in enumerate(grid[0]):\n",
        "            # iterate over k grid\n",
        "            for (j,k) in enumerate(grid[1]):\n",
        "                \n",
        "                s = (z,k)\n",
        "                x_ = x0[i,j,:] # initial guess\n",
        "\n",
        "                sol = root(lambda u: F(m, s, u, grid, x0, (nodes, weights)), x)\n",
        "\n",
        "                x1[i,j,:] = sol.x\n",
        "\n",
        "        ####\n",
        "        \n",
        "        # compute successive approximation\n",
        "\n",
        "        η = abs(x1 - x0).max()\n",
        "\n",
        "        lam = η/η_0\n",
        "        η_0 = η\n",
        "\n",
        "        print(t, η, lam)\n",
        "\n",
        "        if η < tol_η:\n",
        "            return x1\n",
        "\n",
        "        # new guess x1 has been computed\n",
        "        # it becomes the desicion rule tomorrow\n",
        "        x0 = x1"
      ],
      "id": "c8ff826f"
    },
    {
      "cell_type": "code",
      "execution_count": 30,
      "metadata": {},
      "outputs": [
        {
          "output_type": "display_data",
          "metadata": {},
          "data": {
            "application/vnd.jupyter.widget-view+json": {
              "model_id": "5c43f9cdb6294d4d94b08f7e105e29bc",
              "version_major": 2,
              "version_minor": 0
            }
          }
        },
        {
          "output_type": "stream",
          "name": "stdout",
          "text": [
            "0 0.06486986070327466 0.06486986070327466\n",
            "1 0.013682471767716559 0.21092186139110763\n",
            "2 0.007885248417782598 0.5763029189205154\n",
            "3 0.005600051869293132 0.7101934615863271\n",
            "4 0.004146448587327267 0.7404303895939902\n",
            "5 0.003118157361899604 0.7520067586101477\n",
            "6 0.0023690151568057094 0.759748428912673\n",
            "7 0.0018145128836273283 0.7659355316552507\n",
            "8 0.0013992317113427077 0.7711335223729872\n",
            "9 0.001179997908225372 0.8433184430140179\n",
            "10 0.0009952766943504 0.8434563209075693\n",
            "11 0.0008391434661446096 0.8431258070322888\n",
            "12 0.0007071880227255689 0.842749841066747\n",
            "13 0.0005956878172918012 0.8423330120834973\n",
            "14 0.0005014981279138908 0.8418807861370597\n",
            "15 0.0004219599808663044 0.8413989153290649\n",
            "16 0.0003548232149503394 0.8408930491983388\n",
            "17 0.00029818224990529885 0.8403684915233972\n",
            "18 0.000250422416285756 0.839830058178476\n",
            "19 0.0002101750274467462 0.8392820042392544\n",
            "20 0.00017627967994282567 0.8387279977279466\n",
            "21 0.0001477525374767863 0.8381711240042423\n",
            "22 0.00012375958056864977 0.8376139095959275\n",
            "23 0.0001035939912359396 0.8370583575020742\n",
            "24 8.665699403376248e-05 0.8365059884255024\n",
            "25 7.244159738384326e-05 0.8359578842028521\n",
            "26 6.051877756674262e-05 0.8354147306563977\n",
            "27 5.0525726886463396e-05 0.8348768583559297\n",
            "28 4.2155851216696405e-05 0.8343442799234738\n",
            "29 3.515025374134506e-05 0.8338167235826879\n",
            "30 2.929048366073772e-05 0.8332936620108987\n",
            "31 2.439236311391202e-05 0.832774337100095\n",
            "32 2.0300733968192652e-05 0.8322577797562495\n",
            "33 1.688498983498654e-05 0.8317428257245316\n",
            "34 1.4035278462942724e-05 0.8312281262888845\n",
            "35 1.1659276427322673e-05 0.8307121556659245\n",
            "36 9.679452159405688e-06 0.8301932130816103\n",
            "37 8.030745473841527e-06 0.8296694215320767\n",
            "38 6.658602035802819e-06 0.8291387216157978\n",
            "39 5.517310067593151e-06 0.8285988617320837\n",
            "40 4.568594160425654e-06 0.8280473825932062\n",
            "41 3.780427595467817e-06 0.8274815977779029\n",
            "42 3.126030170608196e-06 0.8268985694517339\n",
            "43 2.5830233338353104e-06 0.8262950748593578\n",
            "44 2.1327186016661948e-06 0.8256675709156306\n",
            "45 1.759518749089306e-06 0.8250121453972761\n",
            "46 1.4504143475146947e-06 0.8243244627347119\n",
            "47 1.1945608171526345e-06 0.8235996970103965\n",
            "48 9.82923400505431e-07 0.8228324471987418\n",
            "49 8.079793970550142e-07 0.8220166460983038\n",
            "50 6.634685909001625e-07 0.8211454318246532\n",
            "51 5.441842440001565e-07 0.8202110114388886\n",
            "52 4.457981672700839e-07 0.8192044738251475\n",
            "53 3.647144240503941e-07 0.818115575224952\n",
            "54 2.979470522523897e-07 0.8169324616873972\n",
            "55 2.430179260048959e-07 0.8156413166962176\n",
            "56 1.97871498852642e-07 0.8142259384135128\n",
            "57 1.6080366865844908e-07 0.8126671581853336\n",
            "58 1.304024693782324e-07 0.8109421287844523\n",
            "59 1.0549864665199138e-07 0.8090233808839349\n",
            "60 8.51244872923651e-08 0.8068775287057989\n",
            "61 6.847955280608886e-08 0.8044636153976679\n",
            "62 5.490216598014186e-08 0.8017307901470442\n",
            "63 4.3845697017541596e-08 0.7986150679993319\n",
            "64 3.4858856079456046e-08 0.7950348255499249\n",
            "65 2.7569316329856264e-08 0.7908841376497191\n",
            "66 2.167011992071366e-08 0.7860231157508228\n",
            "67 1.690838996593058e-08 0.7802628701546077\n",
            "68 1.3075968863240917e-08 0.7733420443689926\n",
            "69 1.0001656058911124e-08 0.7648883355043554\n",
            "70 7.544774194290227e-09 0.7543524942120059\n",
            "71 6.338538832695306e-09 0.8401230665713254\n",
            "72 5.499929150998284e-09 0.8676966878594599\n",
            "73 4.778501316859973e-09 0.8688296131946781\n",
            "74 4.1569779007932794e-09 0.869933400693273\n",
            "75 3.6207527531750827e-09 0.8710060143654196\n",
            "76 3.1593596627743636e-09 0.8725698433851585\n",
            "77 2.785519093162492e-09 0.8816720444915768\n",
            "78 2.459322190340174e-09 0.8828954704984716\n",
            "79 2.1725847787479324e-09 0.8834079517037253\n",
            "80 1.9203295620329186e-09 0.8838916579078726\n",
            "81 1.6985449990958301e-09 0.8845070308128253\n",
            "82 1.520061576609777e-09 0.8949198151470443\n",
            "83 1.360651424864301e-09 0.895129148582907\n",
            "84 1.2175115915447066e-09 0.8948005119431159\n",
            "85 1.0890616186642887e-09 0.8944979466540864\n",
            "86 9.738615469601086e-10 0.8942207954720959"
          ]
        }
      ],
      "source": [
        "sol_0 = time_iteration(m, grid, (nodes, weights), x0)"
      ],
      "id": "4bc1b155"
    },
    {
      "cell_type": "markdown",
      "metadata": {},
      "source": [
        "<span class=\"theorem-title\">**Exercise 12**</span> Time the result (and\n",
        "profile)."
      ],
      "id": "38b9ce67-dc3a-4544-bac5-7b8d6b5f5b40"
    },
    {
      "cell_type": "code",
      "execution_count": 33,
      "metadata": {},
      "outputs": [],
      "source": [
        "# Simple timing can obtained using the jupyter magic command %time"
      ],
      "id": "0e82b34c-2708-40d7-8786-19a3e1649c93"
    },
    {
      "cell_type": "code",
      "execution_count": 31,
      "metadata": {},
      "outputs": [
        {
          "output_type": "display_data",
          "metadata": {},
          "data": {
            "application/vnd.jupyter.widget-view+json": {
              "model_id": "8d47ad0abcb645e2b37615607b28aac6",
              "version_major": 2,
              "version_minor": 0
            }
          }
        },
        {
          "output_type": "stream",
          "name": "stdout",
          "text": [
            "0 0.06486986070327466 0.06486986070327466\n",
            "1 0.013682471767716559 0.21092186139110763\n",
            "2 0.007885248417782598 0.5763029189205154\n",
            "3 0.005600051869293132 0.7101934615863271\n",
            "4 0.004146448587327267 0.7404303895939902\n",
            "5 0.003118157361899604 0.7520067586101477\n",
            "6 0.0023690151568057094 0.759748428912673\n",
            "7 0.0018145128836273283 0.7659355316552507\n",
            "8 0.0013992317113427077 0.7711335223729872\n",
            "9 0.001179997908225372 0.8433184430140179\n",
            "10 0.0009952766943504 0.8434563209075693\n",
            "11 0.0008391434661446096 0.8431258070322888\n",
            "12 0.0007071880227255689 0.842749841066747\n",
            "13 0.0005956878172918012 0.8423330120834973\n",
            "14 0.0005014981279138908 0.8418807861370597\n",
            "15 0.0004219599808663044 0.8413989153290649\n",
            "16 0.0003548232149503394 0.8408930491983388\n",
            "17 0.00029818224990529885 0.8403684915233972\n",
            "18 0.000250422416285756 0.839830058178476\n",
            "19 0.0002101750274467462 0.8392820042392544\n",
            "20 0.00017627967994282567 0.8387279977279466\n",
            "21 0.0001477525374767863 0.8381711240042423\n",
            "22 0.00012375958056864977 0.8376139095959275\n",
            "23 0.0001035939912359396 0.8370583575020742\n",
            "24 8.665699403376248e-05 0.8365059884255024\n",
            "25 7.244159738384326e-05 0.8359578842028521\n",
            "26 6.051877756674262e-05 0.8354147306563977\n",
            "27 5.0525726886463396e-05 0.8348768583559297\n",
            "28 4.2155851216696405e-05 0.8343442799234738\n",
            "29 3.515025374134506e-05 0.8338167235826879\n",
            "30 2.929048366073772e-05 0.8332936620108987\n",
            "31 2.439236311391202e-05 0.832774337100095\n",
            "32 2.0300733968192652e-05 0.8322577797562495\n",
            "33 1.688498983498654e-05 0.8317428257245316\n",
            "34 1.4035278462942724e-05 0.8312281262888845\n",
            "35 1.1659276427322673e-05 0.8307121556659245\n",
            "36 9.679452159405688e-06 0.8301932130816103\n",
            "37 8.030745473841527e-06 0.8296694215320767\n",
            "38 6.658602035802819e-06 0.8291387216157978\n",
            "39 5.517310067593151e-06 0.8285988617320837\n",
            "40 4.568594160425654e-06 0.8280473825932062\n",
            "41 3.780427595467817e-06 0.8274815977779029\n",
            "42 3.126030170608196e-06 0.8268985694517339\n",
            "43 2.5830233338353104e-06 0.8262950748593578\n",
            "44 2.1327186016661948e-06 0.8256675709156306\n",
            "45 1.759518749089306e-06 0.8250121453972761\n",
            "46 1.4504143475146947e-06 0.8243244627347119\n",
            "47 1.1945608171526345e-06 0.8235996970103965\n",
            "48 9.82923400505431e-07 0.8228324471987418\n",
            "49 8.079793970550142e-07 0.8220166460983038\n",
            "50 6.634685909001625e-07 0.8211454318246532\n",
            "51 5.441842440001565e-07 0.8202110114388886\n",
            "52 4.457981672700839e-07 0.8192044738251475\n",
            "53 3.647144240503941e-07 0.818115575224952\n",
            "54 2.979470522523897e-07 0.8169324616873972\n",
            "55 2.430179260048959e-07 0.8156413166962176\n",
            "56 1.97871498852642e-07 0.8142259384135128\n",
            "57 1.6080366865844908e-07 0.8126671581853336\n",
            "58 1.304024693782324e-07 0.8109421287844523\n",
            "59 1.0549864665199138e-07 0.8090233808839349\n",
            "60 8.51244872923651e-08 0.8068775287057989\n",
            "61 6.847955280608886e-08 0.8044636153976679\n",
            "62 5.490216598014186e-08 0.8017307901470442\n",
            "63 4.3845697017541596e-08 0.7986150679993319\n",
            "64 3.4858856079456046e-08 0.7950348255499249\n",
            "65 2.7569316329856264e-08 0.7908841376497191\n",
            "66 2.167011992071366e-08 0.7860231157508228\n",
            "67 1.690838996593058e-08 0.7802628701546077\n",
            "68 1.3075968863240917e-08 0.7733420443689926\n",
            "69 1.0001656058911124e-08 0.7648883355043554\n",
            "70 7.544774194290227e-09 0.7543524942120059\n",
            "71 6.338538832695306e-09 0.8401230665713254\n",
            "72 5.499929150998284e-09 0.8676966878594599\n",
            "73 4.778501316859973e-09 0.8688296131946781\n",
            "74 4.1569779007932794e-09 0.869933400693273\n",
            "75 3.6207527531750827e-09 0.8710060143654196\n",
            "76 3.1593596627743636e-09 0.8725698433851585\n",
            "77 2.785519093162492e-09 0.8816720444915768\n",
            "78 2.459322190340174e-09 0.8828954704984716\n",
            "79 2.1725847787479324e-09 0.8834079517037253\n",
            "80 1.9203295620329186e-09 0.8838916579078726\n",
            "81 1.6985449990958301e-09 0.8845070308128253\n",
            "82 1.520061576609777e-09 0.8949198151470443\n",
            "83 1.360651424864301e-09 0.895129148582907\n",
            "84 1.2175115915447066e-09 0.8948005119431159\n",
            "85 1.0890616186642887e-09 0.8944979466540864\n",
            "86 9.738615469601086e-10 0.8942207954720959\n",
            "CPU times: user 48.5 s, sys: 323 ms, total: 48.8 s\n",
            "Wall time: 48.4 s"
          ]
        },
        {
          "output_type": "display_data",
          "metadata": {},
          "data": {
            "text/plain": [
              "array([[[0.19583622],\n",
              "        [0.2076613 ],\n",
              "        [0.21768851],\n",
              "        [0.22633985],\n",
              "        [0.23396406],\n",
              "        [0.24072713],\n",
              "        [0.24680396],\n",
              "        [0.2523479 ],\n",
              "        [0.25745886],\n",
              "        [0.26220283]],\n",
              "\n",
              "       [[0.20490056],\n",
              "        [0.21748788],\n",
              "        [0.22818253],\n",
              "        [0.23746723],\n",
              "        [0.24562589],\n",
              "        [0.2528781 ],\n",
              "        [0.25940874],\n",
              "        [0.26537834],\n",
              "        [0.27088947],\n",
              "        [0.27601117]],\n",
              "\n",
              "       [[0.21406612],\n",
              "        [0.22742242],\n",
              "        [0.23879048],\n",
              "        [0.24869653],\n",
              "        [0.2574127 ],\n",
              "        [0.2651586 ],\n",
              "        [0.27214709],\n",
              "        [0.2785463 ],\n",
              "        [0.28446136],\n",
              "        [0.28996436]],\n",
              "\n",
              "       [[0.22333449],\n",
              "        [0.23746658],\n",
              "        [0.24951411],\n",
              "        [0.26002677],\n",
              "        [0.26932633],\n",
              "        [0.27757057],\n",
              "        [0.28502102],\n",
              "        [0.29185385],\n",
              "        [0.29817666],\n",
              "        [0.30406457]],\n",
              "\n",
              "       [[0.23270796],\n",
              "        [0.24762282],\n",
              "        [0.26035601],\n",
              "        [0.27148088],\n",
              "        [0.28135277],\n",
              "        [0.29011697],\n",
              "        [0.29803358],\n",
              "        [0.30530415],\n",
              "        [0.3120386 ],\n",
              "        [0.31831512]],\n",
              "\n",
              "       [[0.24218617],\n",
              "        [0.25789069],\n",
              "        [0.27131566],\n",
              "        [0.2830583 ],\n",
              "        [0.29348803],\n",
              "        [0.30279716],\n",
              "        [0.31118405],\n",
              "        [0.31889643],\n",
              "        [0.32604638],\n",
              "        [0.33271517]],\n",
              "\n",
              "       [[0.25177031],\n",
              "        [0.26827144],\n",
              "        [0.28239438],\n",
              "        [0.29476039],\n",
              "        [0.30575318],\n",
              "        [0.31559467],\n",
              "        [0.32447394],\n",
              "        [0.33263222],\n",
              "        [0.34020156],\n",
              "        [0.34726632]],\n",
              "\n",
              "       [[0.26146323],\n",
              "        [0.27876812],\n",
              "        [0.29359538],\n",
              "        [0.3065905 ],\n",
              "        [0.3181517 ],\n",
              "        [0.32851664],\n",
              "        [0.33790702],\n",
              "        [0.34651543],\n",
              "        [0.35450817],\n",
              "        [0.3619727 ]],\n",
              "\n",
              "       [[0.27126501],\n",
              "        [0.28938077],\n",
              "        [0.30491867],\n",
              "        [0.31854864],\n",
              "        [0.33068357],\n",
              "        [0.34157664],\n",
              "        [0.3514631 ],\n",
              "        [0.36054596],\n",
              "        [0.3689661 ],\n",
              "        [0.37683418]],\n",
              "\n",
              "       [[0.2811765 ],\n",
              "        [0.30011027],\n",
              "        [0.31636514],\n",
              "        [0.33063571],\n",
              "        [0.34334973],\n",
              "        [0.35477566],\n",
              "        [0.3651574 ],\n",
              "        [0.37472245],\n",
              "        [0.38357635],\n",
              "        [0.39185178]]])"
            ]
          }
        }
      ],
      "source": [
        "%time time_iteration(m, grid, (nodes, weights), x0)"
      ],
      "id": "616309fe-161c-4a2e-b0d3-e78ae4967191"
    },
    {
      "cell_type": "code",
      "execution_count": 33,
      "metadata": {},
      "outputs": [],
      "source": [
        "# one can also profile performance using %prun\n",
        "# to sort the results by cumulative time add optiton =s time"
      ],
      "id": "adfb0c22-d955-4a25-83e7-2797b481af82"
    },
    {
      "cell_type": "code",
      "execution_count": 34,
      "metadata": {},
      "outputs": [
        {
          "output_type": "display_data",
          "metadata": {},
          "data": {
            "application/vnd.jupyter.widget-view+json": {
              "model_id": "4116538ad4db494ca2de6d65ee240e1b",
              "version_major": 2,
              "version_minor": 0
            }
          }
        },
        {
          "output_type": "stream",
          "name": "stdout",
          "text": [
            "0 0.06486986070327466 0.06486986070327466\n",
            "1 0.013682471767716559 0.21092186139110763\n",
            "2 0.007885248417782598 0.5763029189205154\n",
            "3 0.005600051869293132 0.7101934615863271\n",
            "4 0.004146448587327267 0.7404303895939902\n",
            "5 0.003118157361899604 0.7520067586101477\n",
            "6 0.0023690151568057094 0.759748428912673\n",
            "7 0.0018145128836273283 0.7659355316552507\n",
            "8 0.0013992317113427077 0.7711335223729872\n",
            "9 0.001179997908225372 0.8433184430140179\n",
            "10 0.0009952766943504 0.8434563209075693\n",
            "11 0.0008391434661446096 0.8431258070322888\n",
            "12 0.0007071880227255689 0.842749841066747\n",
            "13 0.0005956878172918012 0.8423330120834973\n",
            "14 0.0005014981279138908 0.8418807861370597\n",
            "15 0.0004219599808663044 0.8413989153290649\n",
            "16 0.0003548232149503394 0.8408930491983388\n",
            "17 0.00029818224990529885 0.8403684915233972\n",
            "18 0.000250422416285756 0.839830058178476\n",
            "19 0.0002101750274467462 0.8392820042392544\n",
            "20 0.00017627967994282567 0.8387279977279466\n",
            "21 0.0001477525374767863 0.8381711240042423\n",
            "22 0.00012375958056864977 0.8376139095959275\n",
            "23 0.0001035939912359396 0.8370583575020742\n",
            "24 8.665699403376248e-05 0.8365059884255024\n",
            "25 7.244159738384326e-05 0.8359578842028521\n",
            "26 6.051877756674262e-05 0.8354147306563977\n",
            "27 5.0525726886463396e-05 0.8348768583559297\n",
            "28 4.2155851216696405e-05 0.8343442799234738\n",
            "29 3.515025374134506e-05 0.8338167235826879\n",
            "30 2.929048366073772e-05 0.8332936620108987\n",
            "31 2.439236311391202e-05 0.832774337100095\n",
            "32 2.0300733968192652e-05 0.8322577797562495\n",
            "33 1.688498983498654e-05 0.8317428257245316\n",
            "34 1.4035278462942724e-05 0.8312281262888845\n",
            "35 1.1659276427322673e-05 0.8307121556659245\n",
            "36 9.679452159405688e-06 0.8301932130816103\n",
            "37 8.030745473841527e-06 0.8296694215320767\n",
            "38 6.658602035802819e-06 0.8291387216157978\n",
            "39 5.517310067593151e-06 0.8285988617320837\n",
            "40 4.568594160425654e-06 0.8280473825932062\n",
            "41 3.780427595467817e-06 0.8274815977779029\n",
            "42 3.126030170608196e-06 0.8268985694517339\n",
            "43 2.5830233338353104e-06 0.8262950748593578\n",
            "44 2.1327186016661948e-06 0.8256675709156306\n",
            "45 1.759518749089306e-06 0.8250121453972761\n",
            "46 1.4504143475146947e-06 0.8243244627347119\n",
            "47 1.1945608171526345e-06 0.8235996970103965\n",
            "48 9.82923400505431e-07 0.8228324471987418\n",
            "49 8.079793970550142e-07 0.8220166460983038\n",
            "50 6.634685909001625e-07 0.8211454318246532\n",
            "51 5.441842440001565e-07 0.8202110114388886\n",
            "52 4.457981672700839e-07 0.8192044738251475\n",
            "53 3.647144240503941e-07 0.818115575224952\n",
            "54 2.979470522523897e-07 0.8169324616873972\n",
            "55 2.430179260048959e-07 0.8156413166962176\n",
            "56 1.97871498852642e-07 0.8142259384135128\n",
            "57 1.6080366865844908e-07 0.8126671581853336\n",
            "58 1.304024693782324e-07 0.8109421287844523\n",
            "59 1.0549864665199138e-07 0.8090233808839349\n",
            "60 8.51244872923651e-08 0.8068775287057989\n",
            "61 6.847955280608886e-08 0.8044636153976679\n",
            "62 5.490216598014186e-08 0.8017307901470442\n",
            "63 4.3845697017541596e-08 0.7986150679993319\n",
            "64 3.4858856079456046e-08 0.7950348255499249\n",
            "65 2.7569316329856264e-08 0.7908841376497191\n",
            "66 2.167011992071366e-08 0.7860231157508228\n",
            "67 1.690838996593058e-08 0.7802628701546077\n",
            "68 1.3075968863240917e-08 0.7733420443689926\n",
            "69 1.0001656058911124e-08 0.7648883355043554\n",
            "70 7.544774194290227e-09 0.7543524942120059\n",
            "71 6.338538832695306e-09 0.8401230665713254\n",
            "72 5.499929150998284e-09 0.8676966878594599\n",
            "73 4.778501316859973e-09 0.8688296131946781\n",
            "74 4.1569779007932794e-09 0.869933400693273\n",
            "75 3.6207527531750827e-09 0.8710060143654196\n",
            "76 3.1593596627743636e-09 0.8725698433851585\n",
            "77 2.785519093162492e-09 0.8816720444915768\n",
            "78 2.459322190340174e-09 0.8828954704984716\n",
            "79 2.1725847787479324e-09 0.8834079517037253\n",
            "80 1.9203295620329186e-09 0.8838916579078726\n",
            "81 1.6985449990958301e-09 0.8845070308128253\n",
            "82 1.520061576609777e-09 0.8949198151470443\n",
            "83 1.360651424864301e-09 0.895129148582907\n",
            "84 1.2175115915447066e-09 0.8948005119431159\n",
            "85 1.0890616186642887e-09 0.8944979466540864\n",
            "86 9.738615469601086e-10 0.8942207954720959\n",
            "          48154775 function calls (48153175 primitive calls) in 74.494 seconds\n",
            "\n",
            "   Ordered by: internal time\n",
            "\n",
            "   ncalls  tottime  percall  cumtime  percall filename:lineno(function)\n",
            "   395395   12.654    0.000   17.797    0.000 _rgi.py:477(_evaluate_linear)\n",
            "   395395   10.647    0.000   23.877    0.000 _rgi.py:450(_prepare_xi)\n",
            "  3163160    4.583    0.000   11.195    0.000 fromnumeric.py:71(_wrapreduction)\n",
            "  3163247    4.546    0.000    4.546    0.000 {method 'reduce' of 'numpy.ufunc' objects}\n",
            "   395395    4.442    0.000    7.054    0.000 _rgi.py:589(_find_indices)\n",
            "   395395    3.496    0.000   54.635    0.000 _rgi.py:342(__call__)\n",
            "   395395    3.297    0.000    7.482    0.000 _rgi.py:18(_check_points)\n",
            "   395395    2.173    0.000    2.173    0.000 _rgi.py:482(<listcomp>)\n",
            "  2372370    2.109    0.000   10.063    0.000 fromnumeric.py:2421(all)\n",
            "   395395    2.085    0.000   72.435    0.000 1113891109.py:1(f)\n",
            "   395395    2.029    0.000    2.429    0.000 numeric.py:67(zeros_like)\n",
            "  3163160    1.667    0.000    1.667    0.000 fromnumeric.py:72(<dictcomp>)\n",
            "  2767765    1.582    0.000    1.582    0.000 {built-in method numpy.array}\n",
            "   395395    1.555    0.000    1.555    0.000 _rgi.py:483(<listcomp>)\n",
            "   395395    1.478    0.000   14.432    0.000 _rgi.py:274(__init__)\n",
            "   395395    1.105    0.000   70.173    0.000 3797127914.py:1(phi)\n",
            "   395395    1.105    0.000    1.390    0.000 _rgi.py:40(_check_dimensionality)\n",
            "   395395    1.099    0.000    1.468    0.000 _rgi.py:332(_check_fill_value)\n",
            "   395395    1.059    0.000    3.694    0.000 stride_tricks.py:480(broadcast_arrays)\n",
            "    79079    0.954    0.000   73.403    0.001 3878759790.py:1(F)\n",
            "  3962650    0.904    0.000    0.904    0.000 {built-in method numpy.asarray}\n",
            "   395395    0.899    0.000    0.953    0.000 stride_tricks.py:416(_broadcast_shape)\n",
            "   790790    0.784    0.000    4.025    0.000 fromnumeric.py:2322(any)\n",
            "   404095    0.676    0.000    1.490    0.000 numerictypes.py:357(issubdtype)\n",
            "   395395    0.644    0.000    2.357    0.000 _rgi.py:321(_check_values)\n",
            "   808190    0.547    0.000    0.770    0.000 numerictypes.py:283(issubclass_)\n",
            "   799490    0.545    0.000    0.545    0.000 {method 'reshape' of 'numpy.ndarray' objects}\n",
            "   395395    0.464    0.000    0.921    0.000 stride_tricks.py:538(<listcomp>)\n",
            "  2372370    0.443    0.000    0.443    0.000 fromnumeric.py:2416(_all_dispatcher)\n",
            "  2867384    0.426    0.000    0.426    0.000 {built-in method builtins.len}\n",
            "  1979421    0.411    0.000    0.411    0.000 {built-in method builtins.hasattr}\n",
            "  1186185    0.400    0.000    0.400    0.000 stride_tricks.py:542(<genexpr>)\n",
            "  3164314    0.400    0.000    0.400    0.000 {method 'items' of 'dict' objects}\n",
            "   395395    0.360    0.000    0.761    0.000 {built-in method builtins.all}\n",
            "  1212285    0.267    0.000    0.267    0.000 {built-in method builtins.issubclass}\n",
            "   395395    0.257    0.000    1.647    0.000 _rgi.py:315(_check_dimensionality)\n",
            "   395395    0.251    0.000    0.251    0.000 {built-in method numpy.zeros}\n",
            "     8700    0.230    0.000   65.502    0.008 {built-in method scipy.optimize._minpack._hybrd}\n",
            "   790790    0.177    0.000    0.177    0.000 {built-in method math.exp}\n",
            "   790790    0.172    0.000    0.172    0.000 multiarray.py:85(empty_like)\n",
            "   790790    0.166    0.000    0.166    0.000 fromnumeric.py:2317(_any_dispatcher)\n",
            "     8700    0.154    0.000   74.197    0.009 _minpack_py.py:193(_root_hybr)\n",
            "   800377    0.140    0.000    0.140    0.000 {method 'append' of 'list' objects}\n",
            "   790790    0.133    0.000    0.133    0.000 {built-in method numpy.ascontiguousarray}\n",
            "    79079    0.103    0.000   73.603    0.001 _root.py:202(_wrapped_fun)\n",
            "    79079    0.098    0.000   73.500    0.001 2564152356.py:20(<lambda>)\n",
            "   395395    0.095    0.000    0.095    0.000 multiarray.py:503(can_cast)\n",
            "   395395    0.085    0.000    0.085    0.000 numeric.py:63(_zeros_like_dispatcher)\n",
            "        1    0.083    0.083   74.494   74.494 2564152356.py:1(time_iteration)\n",
            "   395395    0.075    0.000    0.075    0.000 multiarray.py:1080(copyto)\n",
            "     8700    0.072    0.000    8.488    0.001 _minpack_py.py:21(_check_func)\n",
            "   395395    0.069    0.000    0.069    0.000 stride_tricks.py:476(_broadcast_arrays_dispatcher)\n",
            "     8700    0.064    0.000   74.269    0.009 _root.py:25(root)\n",
            "     8700    0.025    0.000    0.041    0.000 shape_base.py:23(atleast_1d)\n",
            "     8700    0.010    0.000    0.010    0.000 {method 'flatten' of 'numpy.ndarray' objects}\n",
            "     9152    0.009    0.000    0.009    0.000 {method 'update' of 'dict' objects}\n",
            "10116/9490    0.008    0.000    0.028    0.000 traitlets.py:676(__get__)\n",
            "     8700    0.008    0.000    0.012    0.000 getlimits.py:484(__new__)\n",
            "     1096    0.008    0.000    0.013    0.000 encoder.py:205(iterencode)\n",
            "9310/8899    0.007    0.000    0.019    0.000 traitlets.py:629(get)\n",
            "     8700    0.007    0.000    0.007    0.000 {built-in method numpy.asanyarray}\n",
            "    17400    0.007    0.000    0.007    0.000 fromnumeric.py:1980(shape)\n",
            "    25227    0.006    0.000    0.006    0.000 {built-in method builtins.isinstance}\n",
            "     8700    0.006    0.000    0.006    0.000 _util.py:864(__getattr__)\n",
            "      365    0.006    0.000    0.006    0.000 socket.py:626(send)\n",
            "     8715    0.005    0.000    0.005    0.000 {method 'pop' of 'dict' objects}\n",
            "      522    0.005    0.000    0.012    0.000 iostream.py:655(write)\n",
            "    10444    0.005    0.000    0.005    0.000 {method 'get' of 'dict' objects}\n",
            "      274    0.004    0.000    0.053    0.000 session.py:754(send)\n",
            "    17400    0.004    0.000    0.004    0.000 fromnumeric.py:1976(_shape_dispatcher)\n",
            "     8700    0.004    0.000    0.004    0.000 _optimize.py:172(_check_unknown_options)\n",
            "       90    0.004    0.000    0.006    0.000 std.py:464(format_meter)\n",
            "     8738    0.003    0.000    0.003    0.000 {method 'lower' of 'str' objects}\n",
            "      548    0.003    0.000    0.003    0.000 {method 'isoformat' of 'datetime.datetime' objects}\n",
            "      375    0.003    0.000    0.003    0.000 {method 'acquire' of '_thread.lock' objects}\n",
            "      273    0.003    0.000    0.060    0.000 comm.py:24(publish_msg)\n",
            "      284    0.003    0.000    0.003    0.000 traitlets.py:1911(traits)\n",
            "      274    0.002    0.000    0.032    0.000 session.py:690(serialize)\n",
            "     1096    0.002    0.000    0.019    0.000 __init__.py:183(dumps)\n",
            "       89    0.002    0.000    0.093    0.001 notebook.py:139(display)\n",
            "     1096    0.002    0.000    0.016    0.000 encoder.py:183(encode)\n",
            "     9056    0.002    0.000    0.002    0.000 {built-in method builtins.callable}\n",
            "      276    0.002    0.000    0.074    0.000 widget.py:691(notify_change)\n",
            "      365    0.002    0.000    0.010    0.000 iostream.py:259(schedule)\n",
            "    19679    0.002    0.000    0.002    0.000 typing.py:2287(cast)\n",
            "  273/266    0.002    0.000    0.016    0.000 widget.py:589(get_state)\n",
            "      803    0.002    0.000    0.003    0.000 traitlets.py:1942(trait_metadata)\n",
            "     8700    0.002    0.000    0.002    0.000 shape_base.py:19(_atleast_1d_dispatcher)\n",
            "     1096    0.002    0.000    0.021    0.000 session.py:92(json_packer)\n",
            "      262    0.002    0.000    0.065    0.000 widget.py:570(send_state)\n",
            "       87    0.002    0.000    0.014    0.000 {built-in method builtins.print}\n",
            "      274    0.001    0.000    0.007    0.000 session.py:675(sign)\n",
            "2192/1741    0.001    0.000    0.012    0.000 {built-in method builtins.getattr}\n",
            "      274    0.001    0.000    0.007    0.000 session.py:649(msg)\n",
            "       86    0.001    0.000    0.094    0.001 std.py:1198(update)\n",
            "      362    0.001    0.000    0.001    0.000 {built-in method now}\n",
            "      340    0.001    0.000    0.002    0.000 traitlets.py:1527(_notify_observers)\n",
            "  278/273    0.001    0.000    0.002    0.000 widget.py:87(_separate_buffers)\n",
            "      548    0.001    0.000    0.005    0.000 jsonutil.py:107(json_default)\n",
            "  357/351    0.001    0.000    0.004    0.000 traitlets.py:718(_validate)\n",
            "      273    0.001    0.000    0.002    0.000 kernelbase.py:655(get_parent)\n",
            "      178    0.001    0.000    0.001    0.000 std.py:400(format_interval)\n",
            "      367    0.001    0.000    0.002    0.000 threading.py:1192(is_alive)\n",
            "      283    0.001    0.000    0.002    0.000 traitlets.py:727(_cross_validate)\n",
            "      136    0.001    0.000    0.003    0.000 ipkernel.py:775(_clean_thread_parent_frames)\n",
            "      524    0.001    0.000    0.001    0.000 std.py:231(__call__)\n",
            "      274    0.001    0.000    0.002    0.000 hmac.py:122(copy)\n",
            "       90    0.001    0.000    0.003    0.000 std.py:1446(format_dict)\n",
            "     1705    0.001    0.000    0.001    0.000 {method 'replace' of 'str' objects}\n",
            "      262    0.001    0.000    0.003    0.000 widget.py:739(_should_send_property)\n",
            "      287    0.001    0.000    0.080    0.000 traitlets.py:689(set)\n",
            "      274    0.001    0.000    0.002    0.000 session.py:600(msg_id)\n",
            "      262    0.001    0.000    0.058    0.000 widget.py:822(_send)\n",
            "      274    0.001    0.000    0.005    0.000 session.py:645(msg_header)\n",
            "      274    0.001    0.000    0.001    0.000 {method 'copy' of '_hashlib.HMAC' objects}\n",
            "      274    0.001    0.000    0.001    0.000 {method 'hexdigest' of '_hashlib.HMAC' objects}\n",
            "       68    0.001    0.000    0.001    0.000 threading.py:1501(enumerate)\n",
            "      274    0.001    0.000    0.075    0.000 traitlets.py:1512(_notify_trait)\n",
            "       90    0.001    0.000    0.002    0.000 notebook.py:192(colour)\n",
            "     1096    0.001    0.000    0.001    0.000 encoder.py:105(__init__)\n",
            "       68    0.001    0.000    0.001    0.000 ipkernel.py:790(<setcomp>)\n",
            "      274    0.001    0.000    0.005    0.000 iostream.py:343(send_multipart)\n",
            "       87    0.001    0.000    0.001    0.000 {method 'copy' of 'numpy.ndarray' objects}\n",
            "      365    0.001    0.000    0.001    0.000 iostream.py:138(_event_pipe)\n",
            "       89    0.001    0.000    0.001    0.000 {method 'split' of 're.Pattern' objects}\n",
            "      274    0.001    0.000    0.001    0.000 session.py:854(<listcomp>)\n",
            "     1383    0.001    0.000    0.001    0.000 {method 'encode' of 'str' objects}\n",
            "     1096    0.001    0.000    0.001    0.000 {method 'update' of '_hashlib.HMAC' objects}\n",
            "     1070    0.001    0.000    0.001    0.000 {built-in method posix.getpid}\n",
            "     1096    0.001    0.000    0.001    0.000 hmac.py:117(update)\n",
            "       88    0.001    0.000    0.095    0.001 std.py:1160(__iter__)\n",
            "      522    0.001    0.000    0.001    0.000 iostream.py:550(_is_master_process)\n",
            "       86    0.001    0.000    0.092    0.001 std.py:1325(refresh)\n",
            "       89    0.000    0.000    0.001    0.000 std.py:102(acquire)\n",
            "      522    0.000    0.000    0.001    0.000 iostream.py:505(parent_header)\n",
            "        2    0.000    0.000    0.001    0.000 threading.py:243(__init__)\n",
            "      367    0.000    0.000    0.001    0.000 threading.py:1125(_wait_for_tstate_lock)\n",
            "      548    0.000    0.000    0.000    0.000 threading.py:1168(ident)\n",
            "      273    0.000    0.000    0.002    0.000 widget.py:132(_remove_buffers)\n",
            "      284    0.000    0.000    0.080    0.000 traitlets.py:708(__set__)\n",
            "       90    0.000    0.000    0.000    0.000 {built-in method builtins.abs}\n",
            "      522    0.000    0.000    0.005    0.000 iostream.py:577(_schedule_flush)\n",
            "      274    0.000    0.000    0.002    0.000 session.py:272(msg_header)\n",
            "      275    0.000    0.000    0.001    0.000 threading.py:1453(current_thread)\n",
            "      262    0.000    0.000    0.056    0.000 base_comm.py:143(send)\n",
            "    64/22    0.000    0.000    0.011    0.001 traitlets.py:1885(trait_defaults)\n",
            "      274    0.000    0.000    0.000    0.000 {built-in method builtins.locals}\n",
            "       89    0.000    0.000    0.000    0.000 std.py:106(release)\n",
            "      548    0.000    0.000    0.000    0.000 jsonutil.py:38(_ensure_tzinfo)\n",
            "      274    0.000    0.000    0.004    0.000 iostream.py:271(send_multipart)\n",
            "      547    0.000    0.000    0.000    0.000 jsonutil.py:77(json_clean)\n",
            "      103    0.000    0.000    0.000    0.000 {method 'format' of 'str' objects}\n",
            "      274    0.000    0.000    0.001    0.000 hmac.py:161(hexdigest)\n",
            "      570    0.000    0.000    0.000    0.000 {method 'copy' of 'dict' objects}\n",
            "       94    0.000    0.000    0.000    0.000 traitlets.py:2807(validate)\n",
            "      276    0.000    0.000    0.002    0.000 traitlets.py:1523(notify_change)\n",
            "      178    0.000    0.000    0.001    0.000 __init__.py:12(escape)\n",
            "      274    0.000    0.000    0.000    0.000 configurable.py:597(initialized)\n",
            "       86    0.000    0.000    0.095    0.001 notebook.py:260(update)\n",
            "      274    0.000    0.000    0.000    0.000 {built-in method builtins.max}\n",
            "      274    0.000    0.000    0.001    0.000 session.py:198(utcnow)\n",
            "      274    0.000    0.000    0.000    0.000 session.py:281(extract_header)\n",
            "       89    0.000    0.000    0.000    0.000 __init__.py:272(_compile)\n",
            "       89    0.000    0.000    0.001    0.000 __init__.py:198(split)\n",
            "      102    0.000    0.000    0.004    0.000 traitlets.py:1238(__call__)\n",
            "      522    0.000    0.000    0.000    0.000 {method 'write' of '_io.StringIO' objects}\n",
            "       89    0.000    0.000    0.001    0.000 widget_float.py:33(_validate_value)\n",
            "      178    0.000    0.000    0.000    0.000 traitlets.py:2936(validate)\n",
            "     1096    0.000    0.000    0.000    0.000 {method 'join' of 'str' objects}\n",
            "      590    0.000    0.000    0.000    0.000 {method '__exit__' of '_thread.RLock' objects}\n",
            "       64    0.000    0.000    0.000    0.000 traitlets.py:1873(_get_trait_default_generator)\n",
            "       12    0.000    0.000    0.001    0.000 formatters.py:399(lookup_by_type)\n",
            "       87    0.000    0.000    0.001    0.000 {method 'max' of 'numpy.ndarray' objects}\n",
            "       11    0.000    0.000    0.001    0.000 traitlets.py:1337(__init__)\n",
            "      570    0.000    0.000    0.000    0.000 {method 'extend' of 'list' objects}\n",
            "       11    0.000    0.000    0.000    0.000 inspect.py:3059(_bind)\n",
            "      368    0.000    0.000    0.000    0.000 threading.py:575(is_set)\n",
            "      120    0.000    0.000    0.000    0.000 formatters.py:555(_in_deferred_types)\n",
            "       88    0.000    0.000    0.096    0.001 notebook.py:247(__iter__)\n",
            "       94    0.000    0.000    0.000    0.000 traitlets.py:2558(_validate_bounds)\n",
            "        1    0.000    0.000    0.025    0.025 notebook.py:202(__init__)\n",
            "      286    0.000    0.000    0.000    0.000 {built-in method __new__ of type object at 0x55d357007060}\n",
            "     11/4    0.000    0.000    0.014    0.004 widget.py:522(open)\n",
            "      273    0.000    0.000    0.000    0.000 threading.py:1152(name)\n",
            "      345    0.000    0.000    0.000    0.000 traitlets.py:225(__call__)\n",
            "      275    0.000    0.000    0.000    0.000 tz.py:74(utcoffset)\n",
            "       87    0.000    0.000    0.001    0.000 _methods.py:39(_amax)\n",
            "     11/4    0.000    0.000    0.015    0.004 widget.py:500(__init__)\n",
            "      349    0.000    0.000    0.000    0.000 {built-in method time.time}\n",
            "       89    0.000    0.000    0.000    0.000 {method 'acquire' of '_multiprocessing.SemLock' objects}\n",
            "      275    0.000    0.000    0.000    0.000 {built-in method _thread.get_ident}\n",
            "      522    0.000    0.000    0.000    0.000 {method 'get' of '_contextvars.ContextVar' objects}\n",
            "       11    0.000    0.000    0.000    0.000 uuid.py:139(__init__)\n",
            "       11    0.000    0.000    0.005    0.000 base_comm.py:36(__init__)\n",
            "        1    0.000    0.000    0.000    0.000 std.py:952(__init__)\n",
            "        1    0.000    0.000   74.494   74.494 {built-in method builtins.exec}\n",
            "      533    0.000    0.000    0.000    0.000 widget.py:792(_trait_to_json)\n",
            "      357    0.000    0.000    0.000    0.000 {built-in method builtins.divmod}\n",
            "      367    0.000    0.000    0.000    0.000 {method 'append' of 'collections.deque' objects}\n",
            "      345    0.000    0.000    0.000    0.000 traitlets.py:222(__init__)\n",
            "    53/18    0.000    0.000    0.010    0.001 traitlets.py:591(default)\n",
            "       11    0.000    0.000    0.000    0.000 traitlets.py:1295(setup_instance)\n",
            "       17    0.000    0.000    0.000    0.000 traitlets.py:3474(validate)\n",
            "       11    0.000    0.000    0.000    0.000 uuid.py:721(uuid4)\n",
            "       11    0.000    0.000    0.003    0.000 widget.py:488(_default_keys)\n",
            "      274    0.000    0.000    0.000    0.000 hmac.py:139(_current)\n",
            "       11    0.000    0.000    0.001    0.000 decorator.py:199(fix)\n",
            "       90    0.000    0.000    0.000    0.000 utils.py:108(__init__)\n",
            "       11    0.000    0.000    0.000    0.000 traitlets.py:1323(setup_instance)\n",
            "       11    0.000    0.000    0.001    0.000 traitlets.py:1280(__new__)\n",
            "        2    0.000    0.000    0.005    0.002 iostream.py:592(flush)\n",
            "       11    0.000    0.000    0.005    0.000 base_comm.py:92(open)\n",
            "       89    0.000    0.000    0.000    0.000 {method 'release' of '_multiprocessing.SemLock' objects}\n",
            "       12    0.000    0.000    0.001    0.000 formatters.py:376(lookup)\n",
            "        2    0.000    0.000    0.000    0.000 threading.py:274(__exit__)\n",
            "       11    0.000    0.000    0.000    0.000 inspect.py:2822(args)\n",
            "        1    0.000    0.000    0.002    0.002 formatters.py:93(format)\n",
            "       33    0.000    0.000    0.000    0.000 traitlets.py:2304(validate)\n",
            "      272    0.000    0.000    0.000    0.000 {method 'keys' of 'dict' objects}\n",
            "       11    0.000    0.000    0.000    0.000 widget.py:537(_comm_changed)\n",
            "       11    0.000    0.000    0.000    0.000 {built-in method posix.urandom}\n",
            "       11    0.000    0.000    0.002    0.000 decorator.py:229(fun)\n",
            "        1    0.000    0.000    0.015    0.015 notebook.py:94(status_printer)\n",
            "        1    0.000    0.000    0.005    0.005 zmqshell.py:64(_flush_streams)\n",
            "       11    0.000    0.000    0.005    0.000 comm.py:27(create_comm)\n",
            "      136    0.000    0.000    0.000    0.000 {method 'values' of 'dict' objects}\n",
            "        1    0.000    0.000    0.000    0.000 {built-in method fcntl.ioctl}\n",
            "        5    0.000    0.000    0.000    0.000 traitlets.py:3271(validate)\n",
            "       11    0.000    0.000    0.001    0.000 formatters.py:222(catch_format_error)\n",
            "       70    0.000    0.000    0.000    0.000 traitlets.py:1824(has_trait)\n",
            "       11    0.000    0.000    0.000    0.000 inspect.py:2875(apply_defaults)\n",
            "       11    0.000    0.000    0.000    0.000 traitlets.py:1641(observe)\n",
            "       11    0.000    0.000    0.000    0.000 traitlets.py:3624(validate_elements)\n",
            "        1    0.000    0.000    0.007    0.007 display_functions.py:105(display)\n",
            "       11    0.000    0.000    0.005    0.000 ipkernel.py:48(_create_comm)\n",
            "        1    0.000    0.000    0.000    0.000 utils.py:333(_screen_shape_linux)\n",
            "        1    0.000    0.000    0.000    0.000 notebook.py:80(__repr__)\n",
            "       89    0.000    0.000    0.000    0.000 {method 'acquire' of '_thread.RLock' objects}\n",
            "        7    0.000    0.000    0.009    0.001 trait_types.py:408(make_dynamic_default)\n",
            "        1    0.000    0.000    0.005    0.005 zmqshell.py:81(publish)\n",
            "       11    0.000    0.000    0.000    0.000 inspect.py:3190(bind)\n",
            "        2    0.000    0.000    0.000    0.000 threading.py:283(_acquire_restore)\n",
            "        1    0.000    0.000    0.000    0.000 std.py:663(__new__)\n",
            "       11    0.000    0.000    0.000    0.000 inspect.py:2845(kwargs)\n",
            "       11    0.000    0.000    0.000    0.000 traitlets.py:194(parse_notifier_name)\n",
            "       17    0.000    0.000    0.000    0.000 traitlets.py:3486(validate_elements)\n",
            "       11    0.000    0.000    0.000    0.000 widget.py:490(<listcomp>)\n",
            "       33    0.000    0.000    0.000    0.000 traitlets.py:1245(__get__)\n",
            "        9    0.000    0.000    0.001    0.000 formatters.py:333(__call__)\n",
            "       11    0.000    0.000    0.000    0.000 comm.py:7(requires_ipykernel_shim)\n",
            "       89    0.000    0.000    0.000    0.000 {method 'release' of '_thread.RLock' objects}\n",
            "       30    0.000    0.000    0.000    0.000 traitlets.py:2322(instance_init)\n",
            "       11    0.000    0.000    0.000    0.000 traitlets.py:1570(_add_notifiers)\n",
            "     11/8    0.000    0.000    0.000    0.000 widget.py:48(_widget_to_json)\n",
            "        1    0.000    0.000    0.000    0.000 utils.py:213(__init__)\n",
            "       11    0.000    0.000    0.000    0.000 traitlets.py:1256(instance_init)\n",
            "        2    0.000    0.000    0.002    0.001 threading.py:295(wait)\n",
            "       32    0.000    0.000    0.000    0.000 widget.py:547(model_id)\n",
            "        2    0.000    0.000    0.002    0.001 threading.py:611(wait)\n",
            "       11    0.000    0.000    0.000    0.000 dir2.py:54(get_real_method)\n",
            "       11    0.000    0.000    0.000    0.000 uuid.py:334(hex)\n",
            "       30    0.000    0.000    0.000    0.000 traitlets.py:2327(_resolve_classes)\n",
            "        1    0.000    0.000    0.005    0.005 display_functions.py:45(publish_display_data)\n",
            "        1    0.000    0.000    0.000    0.000 formatters.py:910(__call__)\n",
            "      124    0.000    0.000    0.000    0.000 inspect.py:2734(kind)\n",
            "       66    0.000    0.000    0.000    0.000 {built-in method builtins.next}\n",
            "        1    0.000    0.000    0.000    0.000 std.py:679(_get_free_pos)\n",
            "       11    0.000    0.000    0.000    0.000 base_comm.py:224(register_comm)\n",
            "        3    0.000    0.000    0.013    0.004 widget_description.py:30(__init__)\n",
            "        7    0.000    0.000    0.000    0.000 traitlets.py:2331(make_dynamic_default)\n",
            "        1    0.000    0.000   74.494   74.494 <string>:1(<module>)\n",
            "        2    0.000    0.000    0.001    0.000 threading.py:562(__init__)\n",
            "        3    0.000    0.000    0.000    0.000 traitlets.py:3997(validate)\n",
            "       13    0.000    0.000    0.000    0.000 configurable.py:553(instance)\n",
            "        2    0.000    0.000    0.000    0.000 _weakrefset.py:63(__iter__)\n",
            "        7    0.000    0.000    0.000    0.000 trait_types.py:402(validate)\n",
            "        4    0.000    0.000    0.007    0.002 widget_layout.py:80(__init__)\n",
            "        3    0.000    0.000    0.000    0.000 traitlets.py:1264(instance_init)\n",
            "       14    0.000    0.000    0.000    0.000 {built-in method builtins.id}\n",
            "        1    0.000    0.000    0.000    0.000 <frozen os>:674(__getitem__)\n",
            "        1    0.000    0.000    0.000    0.000 functools.py:393(__get__)\n",
            "        3    0.000    0.000    0.000    0.000 traitlets.py:1711(_register_validator)\n",
            "       44    0.000    0.000    0.000    0.000 inspect.py:3015(parameters)\n",
            "        1    0.000    0.000    0.000    0.000 utils.py:347(<listcomp>)\n",
            "        1    0.000    0.000    0.000    0.000 formatters.py:956(__call__)\n",
            "        3    0.000    0.000    0.000    0.000 {built-in method builtins.setattr}\n",
            "        1    0.000    0.000    0.000    0.000 _weakrefset.py:27(__exit__)\n",
            "        3    0.000    0.000    0.000    0.000 traitlets.py:1759(set_trait)\n",
            "        1    0.000    0.000    0.000    0.000 notebook.py:272(close)\n",
            "        1    0.000    0.000    0.000    0.000 std.py:153(__init__)\n",
            "       47    0.000    0.000    0.000    0.000 inspect.py:2722(name)\n",
            "        1    0.000    0.000    0.007    0.007 widget_float.py:23(__init__)\n",
            "        1    0.000    0.000    0.000    0.000 _weakrefset.py:85(add)\n",
            "       12    0.000    0.000    0.000    0.000 pretty.py:322(_get_mro)\n",
            "        1    0.000    0.000    0.000    0.000 utils.py:266(_supports_unicode)\n",
            "        1    0.000    0.000    0.000    0.000 notebook.py:71(_json_)\n",
            "       33    0.000    0.000    0.000    0.000 {method 'items' of 'mappingproxy' objects}\n",
            "       11    0.000    0.000    0.000    0.000 inspect.py:292(isclass)\n",
            "       11    0.000    0.000    0.000    0.000 widget.py:361(_call_widget_constructed)\n",
            "        2    0.000    0.000    0.006    0.003 widget_string.py:64(__init__)\n",
            "        2    0.000    0.000    0.000    0.000 notebook.py:197(colour)\n",
            "        1    0.000    0.000    0.000    0.000 std.py:1265(close)\n",
            "        1    0.000    0.000    0.000    0.000 std.py:186(__format__)\n",
            "        2    0.000    0.000    0.000    0.000 threading.py:271(__enter__)\n",
            "       11    0.000    0.000    0.000    0.000 {built-in method from_bytes}\n",
            "        1    0.000    0.000    0.000    0.000 utils.py:273(_is_ascii)\n",
            "        1    0.000    0.000    0.000    0.000 std.py:682(<setcomp>)\n",
            "        3    0.000    0.000    0.000    0.000 std.py:110(__enter__)\n",
            "        1    0.000    0.000    0.000    0.000 <frozen os>:756(encode)\n",
            "       12    0.000    0.000    0.000    0.000 formatters.py:276(_get_type)\n",
            "        1    0.000    0.000    0.000    0.000 _weakrefset.py:53(_commit_removals)\n",
            "       11    0.000    0.000    0.000    0.000 {method 'count' of 'list' objects}\n",
            "        1    0.000    0.000    0.000    0.000 std.py:760(get_lock)\n",
            "       11    0.000    0.000    0.000    0.000 inspect.py:2814(__init__)\n",
            "        3    0.000    0.000    0.000    0.000 std.py:113(__exit__)\n",
            "        2    0.000    0.000    0.000    0.000 utils.py:187(disable_on_exception)\n",
            "        1    0.000    0.000    0.000    0.000 std.py:686(_decr_instances)\n",
            "        2    0.000    0.000    0.000    0.000 {built-in method fromtimestamp}\n",
            "       22    0.000    0.000    0.000    0.000 {built-in method builtins.iter}\n",
            "       11    0.000    0.000    0.000    0.000 {method 'values' of 'mappingproxy' objects}\n",
            "        3    0.000    0.000    0.000    0.000 utils.py:152(wrapper_setattr)\n",
            "       11    0.000    0.000    0.000    0.000 ipkernel.py:58(_get_comm_manager)\n",
            "        1    0.000    0.000    0.000    0.000 widget.py:802(_repr_mimebundle_)\n",
            "        2    0.000    0.000    0.000    0.000 {method 'remove' of 'set' objects}\n",
            "       22    0.000    0.000    0.000    0.000 traitlets.py:469(instance_init)\n",
            "        1    0.000    0.000    0.000    0.000 {built-in method builtins.repr}\n",
            "       11    0.000    0.000    0.000    0.000 base_comm.py:165(on_msg)\n",
            "        1    0.000    0.000    0.000    0.000 widget_float.py:51(_validate_max)\n",
            "        2    0.000    0.000    0.000    0.000 {method 'add' of 'set' objects}\n",
            "        2    0.000    0.000    0.000    0.000 std.py:1157(__hash__)\n",
            "        3    0.000    0.000    0.000    0.000 traitlets.py:4003(validate_elements)\n",
            "        1    0.000    0.000    0.000    0.000 widget.py:52(<listcomp>)\n",
            "        1    0.000    0.000    0.002    0.002 widget_box.py:62(__init__)\n",
            "        3    0.000    0.000    0.000    0.000 std.py:226(__init__)\n",
            "        1    0.000    0.000    0.000    0.000 _monitor.py:94(report)\n",
            "        1    0.000    0.000    0.000    0.000 widget_float.py:41(_validate_min)\n",
            "        1    0.000    0.000    0.000    0.000 zmqshell.py:74(_hooks)\n",
            "        1    0.000    0.000    0.000    0.000 utils.py:156(__init__)\n",
            "        1    0.000    0.000    0.000    0.000 displaypub.py:45(_validate_data)\n",
            "        4    0.000    0.000    0.000    0.000 {built-in method _thread.allocate_lock}\n",
            "       10    0.000    0.000    0.000    0.000 formatters.py:361(_check_return)\n",
            "        1    0.000    0.000    0.000    0.000 _weakrefset.py:110(remove)\n",
            "        2    0.000    0.000    0.000    0.000 utils.py:222(__eq__)\n",
            "        2    0.000    0.000    0.000    0.000 threading.py:280(_release_save)\n",
            "        2    0.000    0.000    0.000    0.000 threading.py:286(_is_owned)\n",
            "        1    0.000    0.000    0.000    0.000 formatters.py:947(_check_return)\n",
            "        1    0.000    0.000    0.000    0.000 _weakrefset.py:21(__enter__)\n",
            "        3    0.000    0.000    0.000    0.000 {built-in method _weakref.proxy}\n",
            "        1    0.000    0.000    0.000    0.000 utils.py:125(__eq__)\n",
            "        2    0.000    0.000    0.000    0.000 utils.py:139(__getattr__)\n",
            "        1    0.000    0.000    0.000    0.000 iostream.py:364(fileno)\n",
            "        1    0.000    0.000    0.000    0.000 {method 'difference' of 'set' objects}\n",
            "       11    0.000    0.000    0.000    0.000 {built-in method builtins.ord}\n",
            "        2    0.000    0.000    0.000    0.000 std.py:1153(_comparable)\n",
            "        2    0.000    0.000    0.000    0.000 {method '__enter__' of '_thread.lock' objects}\n",
            "        1    0.000    0.000    0.000    0.000 {method 'pop' of 'list' objects}\n",
            "        1    0.000    0.000    0.000    0.000 {built-in method builtins.min}\n",
            "        1    0.000    0.000    0.000    0.000 utils.py:252(_is_utf)\n",
            "        1    0.000    0.000    0.000    0.000 std.py:167(colour)\n",
            "        1    0.000    0.000    0.000    0.000 _weakrefset.py:17(__init__)\n",
            "        1    0.000    0.000    0.000    0.000 utils.py:112(__format__)\n",
            "        1    0.000    0.000    0.000    0.000 utils.py:282(_screen_shape_wrapper)\n",
            "        2    0.000    0.000    0.000    0.000 {method '__exit__' of '_thread.lock' objects}\n",
            "        1    0.000    0.000    0.000    0.000 {method 'disable' of '_lsprof.Profiler' objects}\n",
            "        2    0.000    0.000    0.000    0.000 {method 'release' of '_thread.lock' objects}\n",
            "        1    0.000    0.000    0.000    0.000 jsonutil.py:52(encode_images)\n",
            "        1    0.000    0.000    0.000    0.000 std.py:163(colour)\n",
            "        1    0.000    0.000    0.000    0.000 traitlets.py:1347(ignore)\n",
            "        1    0.000    0.000    0.000    0.000 formatters.py:833(_check_return)"
          ]
        }
      ],
      "source": [
        "%prun -s time time_iteration(m, grid, (nodes, weights), x0)"
      ],
      "id": "0d0a73d5-a82e-4767-ad70-a9a5a5fc5a35"
    },
    {
      "cell_type": "markdown",
      "metadata": {},
      "source": [
        "We can see that most of the time is spent in the interpolation method.\n",
        "\n",
        "### Vectorization\n",
        "\n",
        "There are at least two approaches to speed up the code, with the same\n",
        "algorithm: - avoid the interpretation cost by compiling the code (for\n",
        "instance using numba) - vectorize the operations over the whole grid\n",
        "Here we will vectorize using numpy\n",
        "\n",
        "<span class=\"theorem-title\">**Exercise 13**</span> Given $N$ the number\n",
        "of points of the grid, create a matrix, representing the vector of all\n",
        "grid points. It should be an $N \\times 2$ matrix."
      ],
      "id": "6a2b410d-10f5-4fbc-98c1-af12c31b0398"
    },
    {
      "cell_type": "code",
      "execution_count": null,
      "metadata": {},
      "outputs": [
        {
          "output_type": "display_data",
          "metadata": {},
          "data": {
            "text/plain": [
              "array([[-0.04588315,  1.46041107],\n",
              "       [-0.04588315,  1.78494687],\n",
              "       [-0.04588315,  2.10948266],\n",
              "       [-0.04588315,  2.43401846],\n",
              "       [-0.04588315,  2.75855425],\n",
              "       [-0.04588315,  3.08309005],\n",
              "       [-0.04588315,  3.40762584],\n",
              "       [-0.04588315,  3.73216164],\n",
              "       [-0.04588315,  4.05669743],\n",
              "       [-0.04588315,  4.38123322],\n",
              "       [-0.03568689,  1.46041107],\n",
              "       [-0.03568689,  1.78494687],\n",
              "       [-0.03568689,  2.10948266],\n",
              "       [-0.03568689,  2.43401846],\n",
              "       [-0.03568689,  2.75855425],\n",
              "       [-0.03568689,  3.08309005],\n",
              "       [-0.03568689,  3.40762584],\n",
              "       [-0.03568689,  3.73216164],\n",
              "       [-0.03568689,  4.05669743],\n",
              "       [-0.03568689,  4.38123322],\n",
              "       [-0.02549064,  1.46041107],\n",
              "       [-0.02549064,  1.78494687],\n",
              "       [-0.02549064,  2.10948266],\n",
              "       [-0.02549064,  2.43401846],\n",
              "       [-0.02549064,  2.75855425],\n",
              "       [-0.02549064,  3.08309005],\n",
              "       [-0.02549064,  3.40762584],\n",
              "       [-0.02549064,  3.73216164],\n",
              "       [-0.02549064,  4.05669743],\n",
              "       [-0.02549064,  4.38123322],\n",
              "       [-0.01529438,  1.46041107],\n",
              "       [-0.01529438,  1.78494687],\n",
              "       [-0.01529438,  2.10948266],\n",
              "       [-0.01529438,  2.43401846],\n",
              "       [-0.01529438,  2.75855425],\n",
              "       [-0.01529438,  3.08309005],\n",
              "       [-0.01529438,  3.40762584],\n",
              "       [-0.01529438,  3.73216164],\n",
              "       [-0.01529438,  4.05669743],\n",
              "       [-0.01529438,  4.38123322],\n",
              "       [-0.00509813,  1.46041107],\n",
              "       [-0.00509813,  1.78494687],\n",
              "       [-0.00509813,  2.10948266],\n",
              "       [-0.00509813,  2.43401846],\n",
              "       [-0.00509813,  2.75855425],\n",
              "       [-0.00509813,  3.08309005],\n",
              "       [-0.00509813,  3.40762584],\n",
              "       [-0.00509813,  3.73216164],\n",
              "       [-0.00509813,  4.05669743],\n",
              "       [-0.00509813,  4.38123322],\n",
              "       [ 0.00509813,  1.46041107],\n",
              "       [ 0.00509813,  1.78494687],\n",
              "       [ 0.00509813,  2.10948266],\n",
              "       [ 0.00509813,  2.43401846],\n",
              "       [ 0.00509813,  2.75855425],\n",
              "       [ 0.00509813,  3.08309005],\n",
              "       [ 0.00509813,  3.40762584],\n",
              "       [ 0.00509813,  3.73216164],\n",
              "       [ 0.00509813,  4.05669743],\n",
              "       [ 0.00509813,  4.38123322],\n",
              "       [ 0.01529438,  1.46041107],\n",
              "       [ 0.01529438,  1.78494687],\n",
              "       [ 0.01529438,  2.10948266],\n",
              "       [ 0.01529438,  2.43401846],\n",
              "       [ 0.01529438,  2.75855425],\n",
              "       [ 0.01529438,  3.08309005],\n",
              "       [ 0.01529438,  3.40762584],\n",
              "       [ 0.01529438,  3.73216164],\n",
              "       [ 0.01529438,  4.05669743],\n",
              "       [ 0.01529438,  4.38123322],\n",
              "       [ 0.02549064,  1.46041107],\n",
              "       [ 0.02549064,  1.78494687],\n",
              "       [ 0.02549064,  2.10948266],\n",
              "       [ 0.02549064,  2.43401846],\n",
              "       [ 0.02549064,  2.75855425],\n",
              "       [ 0.02549064,  3.08309005],\n",
              "       [ 0.02549064,  3.40762584],\n",
              "       [ 0.02549064,  3.73216164],\n",
              "       [ 0.02549064,  4.05669743],\n",
              "       [ 0.02549064,  4.38123322],\n",
              "       [ 0.03568689,  1.46041107],\n",
              "       [ 0.03568689,  1.78494687],\n",
              "       [ 0.03568689,  2.10948266],\n",
              "       [ 0.03568689,  2.43401846],\n",
              "       [ 0.03568689,  2.75855425],\n",
              "       [ 0.03568689,  3.08309005],\n",
              "       [ 0.03568689,  3.40762584],\n",
              "       [ 0.03568689,  3.73216164],\n",
              "       [ 0.03568689,  4.05669743],\n",
              "       [ 0.03568689,  4.38123322],\n",
              "       [ 0.04588315,  1.46041107],\n",
              "       [ 0.04588315,  1.78494687],\n",
              "       [ 0.04588315,  2.10948266],\n",
              "       [ 0.04588315,  2.43401846],\n",
              "       [ 0.04588315,  2.75855425],\n",
              "       [ 0.04588315,  3.08309005],\n",
              "       [ 0.04588315,  3.40762584],\n",
              "       [ 0.04588315,  3.73216164],\n",
              "       [ 0.04588315,  4.05669743],\n",
              "       [ 0.04588315,  4.38123322]])"
            ]
          }
        }
      ],
      "source": [
        "a,b = get_grid(m, (10,10)) # these are the point along eang dimension\n",
        "# we enumerate all 2 dimenstional grid points\n",
        "# note that in C/python last index varies faster\n",
        "# the last expression is a double comprehension of tuples (e1,e2)\n",
        "# we want to create arrays\n",
        "_vec_grid = np.concatenate(\n",
        "                [\n",
        "                    np.concatenate(\n",
        "                        [np.array([e1, e2])[None,:] for e2 in b]\n",
        "                        , axis=0\n",
        "                    )\n",
        "                for e1 in a]\n",
        "                , axis=0\n",
        "            )\n",
        "_vec_grid  # this is what we want but we can get a quicker version"
      ],
      "id": "7ab46752-d129-4709-8a27-fd9a979c257c"
    },
    {
      "cell_type": "code",
      "execution_count": 37,
      "metadata": {},
      "outputs": [
        {
          "output_type": "display_data",
          "metadata": {},
          "data": {
            "text/plain": [
              "[array([[-0.04588315, -0.04588315, -0.04588315, -0.04588315, -0.04588315,\n",
              "         -0.04588315, -0.04588315, -0.04588315, -0.04588315, -0.04588315],\n",
              "        [-0.03568689, -0.03568689, -0.03568689, -0.03568689, -0.03568689,\n",
              "         -0.03568689, -0.03568689, -0.03568689, -0.03568689, -0.03568689],\n",
              "        [-0.02549064, -0.02549064, -0.02549064, -0.02549064, -0.02549064,\n",
              "         -0.02549064, -0.02549064, -0.02549064, -0.02549064, -0.02549064],\n",
              "        [-0.01529438, -0.01529438, -0.01529438, -0.01529438, -0.01529438,\n",
              "         -0.01529438, -0.01529438, -0.01529438, -0.01529438, -0.01529438],\n",
              "        [-0.00509813, -0.00509813, -0.00509813, -0.00509813, -0.00509813,\n",
              "         -0.00509813, -0.00509813, -0.00509813, -0.00509813, -0.00509813],\n",
              "        [ 0.00509813,  0.00509813,  0.00509813,  0.00509813,  0.00509813,\n",
              "          0.00509813,  0.00509813,  0.00509813,  0.00509813,  0.00509813],\n",
              "        [ 0.01529438,  0.01529438,  0.01529438,  0.01529438,  0.01529438,\n",
              "          0.01529438,  0.01529438,  0.01529438,  0.01529438,  0.01529438],\n",
              "        [ 0.02549064,  0.02549064,  0.02549064,  0.02549064,  0.02549064,\n",
              "          0.02549064,  0.02549064,  0.02549064,  0.02549064,  0.02549064],\n",
              "        [ 0.03568689,  0.03568689,  0.03568689,  0.03568689,  0.03568689,\n",
              "          0.03568689,  0.03568689,  0.03568689,  0.03568689,  0.03568689],\n",
              "        [ 0.04588315,  0.04588315,  0.04588315,  0.04588315,  0.04588315,\n",
              "          0.04588315,  0.04588315,  0.04588315,  0.04588315,  0.04588315]]),\n",
              " array([[1.46041107, 1.78494687, 2.10948266, 2.43401846, 2.75855425,\n",
              "         3.08309005, 3.40762584, 3.73216164, 4.05669743, 4.38123322],\n",
              "        [1.46041107, 1.78494687, 2.10948266, 2.43401846, 2.75855425,\n",
              "         3.08309005, 3.40762584, 3.73216164, 4.05669743, 4.38123322],\n",
              "        [1.46041107, 1.78494687, 2.10948266, 2.43401846, 2.75855425,\n",
              "         3.08309005, 3.40762584, 3.73216164, 4.05669743, 4.38123322],\n",
              "        [1.46041107, 1.78494687, 2.10948266, 2.43401846, 2.75855425,\n",
              "         3.08309005, 3.40762584, 3.73216164, 4.05669743, 4.38123322],\n",
              "        [1.46041107, 1.78494687, 2.10948266, 2.43401846, 2.75855425,\n",
              "         3.08309005, 3.40762584, 3.73216164, 4.05669743, 4.38123322],\n",
              "        [1.46041107, 1.78494687, 2.10948266, 2.43401846, 2.75855425,\n",
              "         3.08309005, 3.40762584, 3.73216164, 4.05669743, 4.38123322],\n",
              "        [1.46041107, 1.78494687, 2.10948266, 2.43401846, 2.75855425,\n",
              "         3.08309005, 3.40762584, 3.73216164, 4.05669743, 4.38123322],\n",
              "        [1.46041107, 1.78494687, 2.10948266, 2.43401846, 2.75855425,\n",
              "         3.08309005, 3.40762584, 3.73216164, 4.05669743, 4.38123322],\n",
              "        [1.46041107, 1.78494687, 2.10948266, 2.43401846, 2.75855425,\n",
              "         3.08309005, 3.40762584, 3.73216164, 4.05669743, 4.38123322],\n",
              "        [1.46041107, 1.78494687, 2.10948266, 2.43401846, 2.75855425,\n",
              "         3.08309005, 3.40762584, 3.73216164, 4.05669743, 4.38123322]])]"
            ]
          }
        }
      ],
      "source": [
        "# we can obtain the same using the meshgrid function\n",
        "np.meshgrid(a,b, indexing=\"ij\") # returns the first and second coumns that we constructed by hand\n",
        "# the option indexing ensures that second column varies faster (to comply with python conventions)\n",
        "# the last step consists in concatenating the two columns"
      ],
      "id": "7fe39d07-d396-484e-8fac-b806aa2c4daa"
    },
    {
      "cell_type": "code",
      "execution_count": 38,
      "metadata": {},
      "outputs": [],
      "source": [
        "def get_vectorized_grid(m: Neoclassical, size: Tuple[int, int]) -> Tuple[ Vector, Vector]:\n",
        "    s1, s2 = get_grid(m, size)\n",
        "    c1, c2 = np.meshgrid(s1,s2,indexing=\"ij\")\n",
        "    # the ravel function converts matrices c1 and c2 into vectors\n",
        "    s = np.column_stack([c1.ravel(),c2.ravel()])\n",
        "    return s\n"
      ],
      "id": "79f7ebfe-f58f-4d63-a147-2d61bcb9e35e"
    },
    {
      "cell_type": "code",
      "execution_count": 39,
      "metadata": {},
      "outputs": [
        {
          "output_type": "display_data",
          "metadata": {},
          "data": {
            "text/plain": [
              "array([[-0.04588315,  1.46041107],\n",
              "       [-0.04588315,  1.78494687],\n",
              "       [-0.04588315,  2.10948266],\n",
              "       [-0.04588315,  2.43401846],\n",
              "       [-0.04588315,  2.75855425],\n",
              "       [-0.04588315,  3.08309005],\n",
              "       [-0.04588315,  3.40762584],\n",
              "       [-0.04588315,  3.73216164],\n",
              "       [-0.04588315,  4.05669743],\n",
              "       [-0.04588315,  4.38123322],\n",
              "       [-0.03568689,  1.46041107],\n",
              "       [-0.03568689,  1.78494687],\n",
              "       [-0.03568689,  2.10948266],\n",
              "       [-0.03568689,  2.43401846],\n",
              "       [-0.03568689,  2.75855425],\n",
              "       [-0.03568689,  3.08309005],\n",
              "       [-0.03568689,  3.40762584],\n",
              "       [-0.03568689,  3.73216164],\n",
              "       [-0.03568689,  4.05669743],\n",
              "       [-0.03568689,  4.38123322],\n",
              "       [-0.02549064,  1.46041107],\n",
              "       [-0.02549064,  1.78494687],\n",
              "       [-0.02549064,  2.10948266],\n",
              "       [-0.02549064,  2.43401846],\n",
              "       [-0.02549064,  2.75855425],\n",
              "       [-0.02549064,  3.08309005],\n",
              "       [-0.02549064,  3.40762584],\n",
              "       [-0.02549064,  3.73216164],\n",
              "       [-0.02549064,  4.05669743],\n",
              "       [-0.02549064,  4.38123322],\n",
              "       [-0.01529438,  1.46041107],\n",
              "       [-0.01529438,  1.78494687],\n",
              "       [-0.01529438,  2.10948266],\n",
              "       [-0.01529438,  2.43401846],\n",
              "       [-0.01529438,  2.75855425],\n",
              "       [-0.01529438,  3.08309005],\n",
              "       [-0.01529438,  3.40762584],\n",
              "       [-0.01529438,  3.73216164],\n",
              "       [-0.01529438,  4.05669743],\n",
              "       [-0.01529438,  4.38123322],\n",
              "       [-0.00509813,  1.46041107],\n",
              "       [-0.00509813,  1.78494687],\n",
              "       [-0.00509813,  2.10948266],\n",
              "       [-0.00509813,  2.43401846],\n",
              "       [-0.00509813,  2.75855425],\n",
              "       [-0.00509813,  3.08309005],\n",
              "       [-0.00509813,  3.40762584],\n",
              "       [-0.00509813,  3.73216164],\n",
              "       [-0.00509813,  4.05669743],\n",
              "       [-0.00509813,  4.38123322],\n",
              "       [ 0.00509813,  1.46041107],\n",
              "       [ 0.00509813,  1.78494687],\n",
              "       [ 0.00509813,  2.10948266],\n",
              "       [ 0.00509813,  2.43401846],\n",
              "       [ 0.00509813,  2.75855425],\n",
              "       [ 0.00509813,  3.08309005],\n",
              "       [ 0.00509813,  3.40762584],\n",
              "       [ 0.00509813,  3.73216164],\n",
              "       [ 0.00509813,  4.05669743],\n",
              "       [ 0.00509813,  4.38123322],\n",
              "       [ 0.01529438,  1.46041107],\n",
              "       [ 0.01529438,  1.78494687],\n",
              "       [ 0.01529438,  2.10948266],\n",
              "       [ 0.01529438,  2.43401846],\n",
              "       [ 0.01529438,  2.75855425],\n",
              "       [ 0.01529438,  3.08309005],\n",
              "       [ 0.01529438,  3.40762584],\n",
              "       [ 0.01529438,  3.73216164],\n",
              "       [ 0.01529438,  4.05669743],\n",
              "       [ 0.01529438,  4.38123322],\n",
              "       [ 0.02549064,  1.46041107],\n",
              "       [ 0.02549064,  1.78494687],\n",
              "       [ 0.02549064,  2.10948266],\n",
              "       [ 0.02549064,  2.43401846],\n",
              "       [ 0.02549064,  2.75855425],\n",
              "       [ 0.02549064,  3.08309005],\n",
              "       [ 0.02549064,  3.40762584],\n",
              "       [ 0.02549064,  3.73216164],\n",
              "       [ 0.02549064,  4.05669743],\n",
              "       [ 0.02549064,  4.38123322],\n",
              "       [ 0.03568689,  1.46041107],\n",
              "       [ 0.03568689,  1.78494687],\n",
              "       [ 0.03568689,  2.10948266],\n",
              "       [ 0.03568689,  2.43401846],\n",
              "       [ 0.03568689,  2.75855425],\n",
              "       [ 0.03568689,  3.08309005],\n",
              "       [ 0.03568689,  3.40762584],\n",
              "       [ 0.03568689,  3.73216164],\n",
              "       [ 0.03568689,  4.05669743],\n",
              "       [ 0.03568689,  4.38123322],\n",
              "       [ 0.04588315,  1.46041107],\n",
              "       [ 0.04588315,  1.78494687],\n",
              "       [ 0.04588315,  2.10948266],\n",
              "       [ 0.04588315,  2.43401846],\n",
              "       [ 0.04588315,  2.75855425],\n",
              "       [ 0.04588315,  3.08309005],\n",
              "       [ 0.04588315,  3.40762584],\n",
              "       [ 0.04588315,  3.73216164],\n",
              "       [ 0.04588315,  4.05669743],\n",
              "       [ 0.04588315,  4.38123322]])"
            ]
          }
        }
      ],
      "source": [
        "s = get_vectorized_grid(m, (10,10))\n",
        "s"
      ],
      "id": "ab098391-7c91-458e-9502-8ffa5c355672"
    },
    {
      "cell_type": "markdown",
      "metadata": {},
      "source": [
        "<span class=\"theorem-title\">**Exercise 14**</span> Rewrite the decision\n",
        "rule so that it can operate on a vector of states."
      ],
      "id": "60f41cc0-e76e-4488-a53e-5c574aa6e187"
    },
    {
      "cell_type": "code",
      "execution_count": 40,
      "metadata": {},
      "outputs": [
        {
          "output_type": "display_data",
          "metadata": {},
          "data": {
            "text/plain": [
              "array([[0.29208221],\n",
              "       [0.29208221],\n",
              "       [0.29208221],\n",
              "       [0.29208221],\n",
              "       [0.29208221],\n",
              "       [0.29208221],\n",
              "       [0.29208221],\n",
              "       [0.29208221],\n",
              "       [0.29208221],\n",
              "       [0.29208221],\n",
              "       [0.29208221],\n",
              "       [0.29208221],\n",
              "       [0.29208221],\n",
              "       [0.29208221],\n",
              "       [0.29208221],\n",
              "       [0.29208221],\n",
              "       [0.29208221],\n",
              "       [0.29208221],\n",
              "       [0.29208221],\n",
              "       [0.29208221],\n",
              "       [0.29208221],\n",
              "       [0.29208221],\n",
              "       [0.29208221],\n",
              "       [0.29208221],\n",
              "       [0.29208221],\n",
              "       [0.29208221],\n",
              "       [0.29208221],\n",
              "       [0.29208221],\n",
              "       [0.29208221],\n",
              "       [0.29208221],\n",
              "       [0.29208221],\n",
              "       [0.29208221],\n",
              "       [0.29208221],\n",
              "       [0.29208221],\n",
              "       [0.29208221],\n",
              "       [0.29208221],\n",
              "       [0.29208221],\n",
              "       [0.29208221],\n",
              "       [0.29208221],\n",
              "       [0.29208221],\n",
              "       [0.29208221],\n",
              "       [0.29208221],\n",
              "       [0.29208221],\n",
              "       [0.29208221],\n",
              "       [0.29208221],\n",
              "       [0.29208221],\n",
              "       [0.29208221],\n",
              "       [0.29208221],\n",
              "       [0.29208221],\n",
              "       [0.29208221],\n",
              "       [0.29208221],\n",
              "       [0.29208221],\n",
              "       [0.29208221],\n",
              "       [0.29208221],\n",
              "       [0.29208221],\n",
              "       [0.29208221],\n",
              "       [0.29208221],\n",
              "       [0.29208221],\n",
              "       [0.29208221],\n",
              "       [0.29208221],\n",
              "       [0.29208221],\n",
              "       [0.29208221],\n",
              "       [0.29208221],\n",
              "       [0.29208221],\n",
              "       [0.29208221],\n",
              "       [0.29208221],\n",
              "       [0.29208221],\n",
              "       [0.29208221],\n",
              "       [0.29208221],\n",
              "       [0.29208221],\n",
              "       [0.29208221],\n",
              "       [0.29208221],\n",
              "       [0.29208221],\n",
              "       [0.29208221],\n",
              "       [0.29208221],\n",
              "       [0.29208221],\n",
              "       [0.29208221],\n",
              "       [0.29208221],\n",
              "       [0.29208221],\n",
              "       [0.29208221],\n",
              "       [0.29208221],\n",
              "       [0.29208221],\n",
              "       [0.29208221],\n",
              "       [0.29208221],\n",
              "       [0.29208221],\n",
              "       [0.29208221],\n",
              "       [0.29208221],\n",
              "       [0.29208221],\n",
              "       [0.29208221],\n",
              "       [0.29208221],\n",
              "       [0.29208221],\n",
              "       [0.29208221],\n",
              "       [0.29208221],\n",
              "       [0.29208221],\n",
              "       [0.29208221],\n",
              "       [0.29208221],\n",
              "       [0.29208221],\n",
              "       [0.29208221],\n",
              "       [0.29208221],\n",
              "       [0.29208221]])"
            ]
          }
        }
      ],
      "source": [
        "# there is nothing to do here as the original definition of phi also works for vectorized evaluation\n",
        "phi(grid, s, x0)"
      ],
      "id": "99e0c9ea-63c0-4bcf-8ef6-06dd337c1211"
    },
    {
      "cell_type": "markdown",
      "metadata": {},
      "source": [
        "<span class=\"theorem-title\">**Exercise 15**</span> Rewrite the euler\n",
        "residual function so that it can operate on a vector of states with the\n",
        "corresponding vector of controls."
      ],
      "id": "a6f71ce0-3bfa-41a1-8c63-dd0db3c59e64"
    },
    {
      "cell_type": "code",
      "execution_count": 41,
      "metadata": {},
      "outputs": [
        {
          "output_type": "display_data",
          "metadata": {},
          "data": {
            "text/plain": [
              "(100, 1)"
            ]
          }
        }
      ],
      "source": [
        "# we will need  to transform the 3d array representing the controls into a matrix\n",
        "# where each line corresponds to a single vector value\n",
        "n_x = 1 # number of controls\n",
        "xx0 = x0.reshape( (-1, n_x) )  # creates a matrix with one column per control variable\n",
        "                               # the -1 is replaced automatically by the right number\n",
        "xx0.shape"
      ],
      "id": "59664924-43dd-4b81-b080-814283a0b712"
    },
    {
      "cell_type": "code",
      "execution_count": 42,
      "metadata": {},
      "outputs": [],
      "source": [
        "# Note that we used above the function exp from math.exp\n",
        "# instead we need to use numpy.exp, which can be vectorized\n",
        "\n",
        "def f_v(m: Neoclassical, s: Matrix, x: Matrix , E: Tuple[float], grid, theta:Tensor3):\n",
        "\n",
        "    from numpy import exp\n",
        "\n",
        "    # tis is mostly identical to the non-vectorized version\n",
        "    # except that variables appearing in the formulas will\n",
        "    # represent vectors\n",
        "    \n",
        "    z = s[:,0] # first column states are productivity shocks\n",
        "    k = s[:,1] # second column states is capital\n",
        "    i = x[:,0]\n",
        "\n",
        "    Epsilon = E[0]\n",
        " \n",
        "    ### Coputing auxiliary variables\n",
        "\n",
        "    y = exp(z)*k**m.alpha\n",
        "    c = y - i\n",
        "\n",
        "    ### computing the transitions\n",
        "\n",
        "    # upper case for variables tomorrow\n",
        "    Z = (1-m.rho)*z + Epsilon\n",
        "    K = (1-m.delta)*k + i\n",
        "\n",
        "    # state tomorrow (as a Matrix)\n",
        "    S = np.column_stack([Z,K])\n",
        "    \n",
        "\n",
        "    #compute controls tomorrow\n",
        "    X = phi(grid,S,theta)\n",
        "\n",
        "    I = X[:,0]\n",
        "    \n",
        "    ### Coputing auxiliary variables\n",
        "\n",
        "    Y = exp(Z)*K**m.alpha\n",
        "    C = Y - I\n",
        "\n",
        "    r = m.beta*(C/c)**(-m.gamma)*(1-m.delta+m.alpha*Y/K) - 1\n",
        "\n",
        "    return r  # the function returns a vector"
      ],
      "id": "1d94d76d-70a4-44d4-8fde-a47c284d1f39"
    },
    {
      "cell_type": "markdown",
      "metadata": {},
      "source": [
        "<span class=\"theorem-title\">**Exercise 16**</span> Rewrite the\n",
        "integrated euler residual function so that it can operate on a vector of\n",
        "states with the corresponding vector of controls."
      ],
      "id": "edcc5ed2-bdc1-4e9c-9937-8d79067a508a"
    },
    {
      "cell_type": "code",
      "execution_count": 43,
      "metadata": {},
      "outputs": [],
      "source": [
        "def F_v(m: Neoclassical, s: Matrix, x: Matrix, grid, theta: Tensor3, discr:Tuple[Vector, Vector]):\n",
        "    ## grid is the discretized grid from before\n",
        "    ## theta contains the values of the controls on the grid\n",
        "    ## discr contains the weights w,x of the gaussian quadrature\n",
        "\n",
        "    nodes, w = discr\n",
        "\n",
        "    r = 0.0 # this will be promoted to a vector\n",
        "\n",
        "    for i in range(len(w)):\n",
        "\n",
        "        E = (nodes[i],)\n",
        "        r += w[i]*f_v(m, s, x, E, grid, theta)\n",
        "\n",
        "    return r/2/pi"
      ],
      "id": "d95cb294-82e8-4287-b215-759934ffd830"
    },
    {
      "cell_type": "code",
      "execution_count": 44,
      "metadata": {},
      "outputs": [
        {
          "output_type": "stream",
          "name": "stdout",
          "text": [
            "CPU times: user 82.7 ms, sys: 1.98 ms, total: 84.7 ms\n",
            "Wall time: 82.5 ms"
          ]
        }
      ],
      "source": [
        "%time res_0 = np.array([F(m, s[i,:], xx0[i,:], grid, x0, (nodes, weights)) for i in range(s.shape[0])])"
      ],
      "id": "20078f28-712f-4df2-9b7f-2f0954abb2ea"
    },
    {
      "cell_type": "code",
      "execution_count": 45,
      "metadata": {},
      "outputs": [
        {
          "output_type": "stream",
          "name": "stdout",
          "text": [
            "CPU times: user 3.29 ms, sys: 3 ms, total: 6.29 ms\n",
            "Wall time: 6.6 ms"
          ]
        }
      ],
      "source": [
        "%time res = F_v(m, s, xx0, grid, x0, (nodes, weights))"
      ],
      "id": "355a490b-f229-42c9-a3b1-e16eb41780f9"
    },
    {
      "cell_type": "code",
      "execution_count": 46,
      "metadata": {},
      "outputs": [
        {
          "output_type": "display_data",
          "metadata": {},
          "data": {
            "text/plain": [
              "(10, 10, 1)"
            ]
          }
        }
      ],
      "source": [
        "sol_0.shape"
      ],
      "id": "055f5c43-42b6-4b6e-9c46-bc8eb7c67d66"
    },
    {
      "cell_type": "code",
      "execution_count": 47,
      "metadata": {},
      "outputs": [
        {
          "output_type": "stream",
          "name": "stdout",
          "text": [
            "CPU times: user 5.94 ms, sys: 2 ms, total: 7.95 ms\n",
            "Wall time: 7.28 ms"
          ]
        },
        {
          "output_type": "display_data",
          "metadata": {},
          "data": {
            "text/plain": [
              "array([-1.03890389e-09, -1.15716371e-09, -1.25262862e-09, -1.32501321e-09,\n",
              "       -1.37561768e-09, -1.39889951e-09, -1.37365386e-09, -1.31144695e-09,\n",
              "       -1.22134639e-09, -1.10713930e-09, -1.04302791e-09, -1.16071630e-09,\n",
              "       -1.25548479e-09, -1.32793257e-09, -1.37770060e-09, -1.39972129e-09,\n",
              "       -1.37195567e-09, -1.30794718e-09, -1.21625611e-09, -1.10054014e-09,\n",
              "       -1.04715927e-09, -1.16429654e-09, -1.25835967e-09, -1.33045863e-09,\n",
              "       -1.37978110e-09, -1.40054201e-09, -1.37023440e-09, -1.30440606e-09,\n",
              "       -1.21111428e-09, -1.09387710e-09, -1.05133491e-09, -1.16790399e-09,\n",
              "       -1.26126811e-09, -1.33250903e-09, -1.38186072e-09, -1.40136277e-09,\n",
              "       -1.36848914e-09, -1.30082483e-09, -1.20592152e-09, -1.08714301e-09,\n",
              "       -1.05554758e-09, -1.17154205e-09, -1.26417394e-09, -1.33457294e-09,\n",
              "       -1.38325973e-09, -1.40218482e-09, -1.36672356e-09, -1.29717948e-09,\n",
              "       -1.20067622e-09, -1.08035784e-09, -1.05979352e-09, -1.17520843e-09,\n",
              "       -1.26711125e-09, -1.33663577e-09, -1.38398801e-09, -1.40300735e-09,\n",
              "       -1.36493370e-09, -1.29354217e-09, -1.19537880e-09, -1.07350084e-09,\n",
              "       -1.06407245e-09, -1.17889892e-09, -1.27005355e-09, -1.33871282e-09,\n",
              "       -1.38470993e-09, -1.40234176e-09, -1.36311998e-09, -1.28983921e-09,\n",
              "       -1.19002748e-09, -1.06657617e-09, -1.06839089e-09, -1.18262275e-09,\n",
              "       -1.27305037e-09, -1.34079209e-09, -1.38544997e-09, -1.40054227e-09,\n",
              "       -1.36128528e-09, -1.28609165e-09, -1.18460799e-09, -1.05958989e-09,\n",
              "       -1.07274222e-09, -1.18637619e-09, -1.27605426e-09, -1.34287889e-09,\n",
              "       -1.38620325e-09, -1.39872057e-09, -1.35790179e-09, -1.28231154e-09,\n",
              "       -1.17916645e-09, -1.05253475e-09, -1.07712893e-09, -1.19015230e-09,\n",
              "       -1.27907899e-09, -1.34497019e-09, -1.38696034e-09, -1.39687742e-09,\n",
              "       -1.35411322e-09, -1.27830595e-09, -1.17365434e-09, -1.04541232e-09])"
            ]
          }
        }
      ],
      "source": [
        "# if we evaluate this residual function on the solution from before,\n",
        "# it should be 0\n",
        "%time F_v(m, s, sol_0.reshape((-1,1)), grid, sol_0, (nodes, weights))"
      ],
      "id": "fc914b8a-56a1-42e2-9778-4262e5ade1d9"
    },
    {
      "cell_type": "markdown",
      "metadata": {},
      "source": [
        "<span class=\"theorem-title\">**Exercise 17**</span> Compute the jacobian\n",
        "of $F_v$ w.r.t $x$."
      ],
      "id": "82116a90-6bdb-4196-bf79-c93aad594b0c"
    },
    {
      "cell_type": "code",
      "execution_count": 48,
      "metadata": {},
      "outputs": [
        {
          "output_type": "display_data",
          "metadata": {},
          "data": {
            "text/plain": [
              "array([[-1.82067776,  0.        ,  0.        , ...,  0.        ,\n",
              "         0.        ,  0.        ],\n",
              "       [ 0.        , -1.71392406,  0.        , ...,  0.        ,\n",
              "         0.        ,  0.        ],\n",
              "       [ 0.        ,  0.        , -1.62105178, ...,  0.        ,\n",
              "         0.        ,  0.        ],\n",
              "       ...,\n",
              "       [ 0.        ,  0.        ,  0.        , ..., -1.78882391,\n",
              "         0.        ,  0.        ],\n",
              "       [ 0.        ,  0.        ,  0.        , ...,  0.        ,\n",
              "        -1.72699388,  0.        ],\n",
              "       [ 0.        ,  0.        ,  0.        , ...,  0.        ,\n",
              "         0.        , -1.67168722]])"
            ]
          }
        }
      ],
      "source": [
        "# let's define epsilon>0 (should be about sqrt(machine epsilon)\n",
        "epsilon = 1e-8\n",
        "\n",
        "# it is important to realize that controls at a state s_1 have no effect on the residuals\n",
        "# computed at residuals s_2\n",
        "\n",
        "# For this reason we can compute at the same time the effect of small changes to a given control\n",
        "# at all the grid points at once\n",
        "d_F = (F_v(m, s, xx0+epsilon, grid, x0, (nodes, weights)) - F_v(m, s, xx0, grid, x0, (nodes, weights)))/epsilon\n",
        "\n",
        "# d_F represents a diagonal matrix\n",
        "jac = np.diag(d_F)\n",
        "\n",
        "jac\n",
        "# remarks\n",
        "# 1. if there were many controls instead of just one, the jacobian would be block-diagonal\n",
        "# and we would need to compute the finite differences for each of the control\n",
        "# 2. here we create a full matrix to stay compatible with the solver from scipy. If we \n",
        "# wanted to aim for higher performances, we could instead use a sparse matrix, or a special\n",
        "# type for block diagonal matrices"
      ],
      "id": "b0621da4-2f3a-4773-8022-c9960ea66e51"
    },
    {
      "cell_type": "markdown",
      "metadata": {},
      "source": [
        "<span class=\"theorem-title\">**Exercise 18**</span> Solve for the matrix\n",
        "`x` such that `F_v(m, s, x:Matrix, grid, theta)=0`"
      ],
      "id": "dcccaca6-1b55-4761-bac7-cb8ea004f9d6"
    },
    {
      "cell_type": "code",
      "execution_count": 49,
      "metadata": {},
      "outputs": [],
      "source": [
        "# the function scipy.optimize.root can solve nonlinear systems\n",
        "# it can use the jacobian we supply if we define a special function\n",
        "# that returns it alongside the residuals\n",
        "\n",
        "# let's define epsilon>0 (should be about sqrt(machine epsilon)\n",
        "\n",
        "def F_D(m, s, xx0, grid, x0, e, epsilon=1e-8):\n",
        "\n",
        "    (nodes, weights) = e\n",
        "    \n",
        "    r = F_v(m, s, xx0, grid, x0, (nodes, weights))\n",
        "    \n",
        "    d_F_1 = (F_v(m, s, xx0+epsilon, grid, x0, (nodes, weights)) - r)/epsilon\n",
        "\n",
        "    # d_F represents a diagonal matrix\n",
        "    jac = np.diag(d_F_1)\n",
        "    \n",
        "    return r, jac\n",
        "\n",
        "x1, x2 = F_D(m, s, xx0, grid, x0, (nodes, weights))"
      ],
      "id": "2dd3b349-6c63-4784-a412-7463dc1a62f4"
    },
    {
      "cell_type": "code",
      "execution_count": 50,
      "metadata": {},
      "outputs": [],
      "source": [
        "from scipy.optimize import root"
      ],
      "id": "563a42f1-fd96-49c7-8ba2-07a61ed0ff1d"
    },
    {
      "cell_type": "code",
      "execution_count": 51,
      "metadata": {},
      "outputs": [
        {
          "output_type": "display_data",
          "metadata": {},
          "data": {
            "text/plain": [
              " message: The solution converged.\n",
              " success: True\n",
              "  status: 1\n",
              "     fun: [-1.235e-09 -2.442e-10 ...  6.837e-10  7.361e-10]\n",
              "       x: [ 2.410e-01  2.429e-01 ...  3.545e-01  3.570e-01]\n",
              "  method: hybr\n",
              "    nfev: 12\n",
              "    njev: 1\n",
              "    fjac: [[-9.991e-01  1.240e-02 ...  1.144e-02  1.203e-02]\n",
              "           [-1.506e-02 -9.946e-01 ... -1.440e-03 -1.609e-03]\n",
              "           ...\n",
              "           [-1.135e-02  1.472e-03 ... -9.970e-01  4.203e-02]\n",
              "           [-1.293e-02  1.768e-03 ... -3.738e-02 -9.967e-01]]\n",
              "       r: [ 2.500e+00  2.535e-02 ... -1.275e-01  1.602e+00]\n",
              "     qtf: [ 1.899e-08 -1.896e-08 ... -6.215e-09 -7.123e-09]"
            ]
          }
        }
      ],
      "source": [
        "# function root works on vector arguments and can use the jacobian when instructed\n",
        "sol = root(\n",
        "    lambda u: F_D(\n",
        "            m, s,\n",
        "            u.reshape((-1,1)),   # convert to matrix\n",
        "            grid,\n",
        "            x0,\n",
        "            (nodes, weights)\n",
        "    ),\n",
        "    xx0.ravel(),   # convert matrix to vector\n",
        "    jac=True\n",
        ")\n",
        "sol"
      ],
      "id": "fc2e7964-8787-4212-95c7-f11260615891"
    },
    {
      "cell_type": "code",
      "execution_count": 52,
      "metadata": {},
      "outputs": [],
      "source": [
        "# (lambda u: F_D(\n",
        "#             m, s,\n",
        "#             u.reshape((-1,1)),   # convert to matrix\n",
        "#             grid,\n",
        "#             x0,\n",
        "#             (nodes, weights)\n",
        "#     )\n",
        "# )(sol_0.ravel())[0]"
      ],
      "id": "d40cc16d-305e-44ed-8626-75a73ed4540a"
    },
    {
      "cell_type": "markdown",
      "metadata": {},
      "source": [
        "<span class=\"theorem-title\">**Exercise 19**</span> Implement the time\n",
        "iteration algorithm."
      ],
      "id": "093d7add-5436-43c8-bca0-09bc325e7151"
    },
    {
      "cell_type": "code",
      "execution_count": 53,
      "metadata": {},
      "outputs": [],
      "source": [
        "def time_iteration_vectorized(m: Neoclassical, grid, discr, x0, T=100, tol_η=1e-9):\n",
        "\n",
        "    η_0 = 1.0\n",
        "    \n",
        "    grid_shape = [len(e) for e in grid]\n",
        "    x_shape = grid_shape + [1]  # controls are represented by (10,10,1) array\n",
        "\n",
        "    for t in (range(T)):\n",
        "\n",
        "        ### solve for optimal controls on the grid (vectorized version)\n",
        "\n",
        "        sol = root(\n",
        "            lambda u: F_D(\n",
        "                    m, s,\n",
        "                    u.reshape((-1,1)),   # convert initial guess to matrix\n",
        "                    grid,\n",
        "                    x0,\n",
        "                    (nodes, weights)\n",
        "            ),\n",
        "            x0.ravel(),   # initial guess as vector\n",
        "            jac=True\n",
        "        )\n",
        "\n",
        "        ###\n",
        "        \n",
        "        x1 = sol.x.reshape(x_shape)\n",
        "        # compute successive approximation\n",
        "\n",
        "        η = abs(x1 - x0).max()\n",
        "\n",
        "        lam = η/η_0\n",
        "        η_0 = η\n",
        "\n",
        "        print(t, η, lam)\n",
        "\n",
        "        if η < tol_η:\n",
        "            return x1\n",
        "\n",
        "        # new guess x1 has been computed\n",
        "        # it becomes the desicion rule tomorrow\n",
        "        x0 = x1"
      ],
      "id": "5553172c-275a-4968-a102-371ecf182d03"
    },
    {
      "cell_type": "code",
      "execution_count": 54,
      "metadata": {},
      "outputs": [
        {
          "output_type": "stream",
          "name": "stdout",
          "text": [
            "0 0.0648698601762892 0.0648698601762892\n",
            "1 0.013682472260681977 0.21092187070387894\n",
            "2 0.007885248439681414 0.5763028997574148\n",
            "3 0.005600051864473404 0.710193459002753\n",
            "4 0.0041464485554273955 0.7404303845348945\n",
            "5 0.0031181573817412322 0.7520067691807714\n",
            "6 0.002369015169110922 0.7597484280245096\n",
            "7 0.001814512890070119 0.7659355303964118\n",
            "8 0.0013992317144633781 0.7711335213547625\n",
            "9 0.0011799979102403158 0.8433184425732223\n",
            "10 0.0009952766958242765 0.8434563207163482\n",
            "11 0.0008391434605745096 0.8431258001871941\n",
            "12 0.000707188022641525 0.8427498465606311\n",
            "13 0.0005956878188427273 0.8423330143766908\n",
            "14 0.0005014981297128962 0.8418807869651957\n",
            "15 0.00042195998245264654 0.8413989154739527\n",
            "16 0.0003548232162096099 0.8408930490213703\n",
            "17 0.000298182250856871 0.840368491222743\n",
            "18 0.00025042241698636225 0.8398300578479646\n",
            "19 0.00021017502795572796 0.8392820039236898\n",
            "20 0.000176279680310365 0.8387279974455253\n",
            "21 0.0001477525377401312 0.8381711237505776\n",
            "22 0.00012375958075822036 0.8376139093860444\n",
            "23 0.00010359399137122027 0.8370583573129902\n",
            "24 8.665699413157313e-05 0.8365059882773042\n",
            "25 7.244159745389833e-05 0.8359578840677158\n",
            "26 6.051877688817431e-05 0.8354147204813963\n",
            "27 5.0525726716765806e-05 0.834876864912959\n",
            "28 4.215585126854382e-05 0.8343442837518924\n",
            "29 3.515025387729187e-05 0.8338167257820401\n",
            "30 2.9290483815780366e-05 0.8332936631989138\n",
            "31 2.4392363258407546e-05 0.8327743376251798\n",
            "32 2.0300734091760475e-05 0.8322577798919598\n",
            "33 1.688498993479559e-05 0.8317428255783498\n",
            "34 1.4035278541435492e-05 0.831228126024074\n",
            "35 1.1659276487829828e-05 0.8307121553312149\n",
            "36 9.679452205479944e-06 0.8301932127249523\n",
            "37 8.030745508258441e-06 0.8296694211385123\n",
            "38 6.65860206189306e-06 0.8291387213111991\n",
            "39 5.517310087022054e-06 0.8285988614032698\n",
            "40 4.568594174025886e-06 0.8280473821422945\n",
            "41 3.7804276064590248e-06 0.8274815977203942\n",
            "42 3.126030178213224e-06 0.8268985690592952\n",
            "43 2.5830233398305147e-06 0.8262950747669746\n",
            "44 2.13271860577402e-06 0.8256675705895706\n",
            "45 1.7595187521424194e-06 0.8250121452397812\n",
            "46 1.4504143503457634e-06 0.8243244629133476\n",
            "47 1.1945608186514356e-06 0.8235996964361701\n",
            "48 9.82923401948721e-07 0.8228324473745618\n",
            "49 8.079793978876815e-07 0.822016645738417\n",
            "50 6.63468591455274e-07 0.8211454316654543\n",
            "51 5.441842444442457e-07 0.8202110114219785\n",
            "52 4.4579816749212853e-07 0.8192044735646562\n",
            "53 3.6471442421692757e-07 0.8181155751910248\n",
            "54 2.979470524744343e-07 0.8169324619231927\n",
            "55 2.430179258938736e-07 0.815641315715738\n",
            "56 1.97871498852642e-07 0.8142259387854904\n",
            "57 1.6080366876947139e-07 0.8126671587464165\n",
            "58 1.3040246976681047e-07 0.8109421306410355\n",
            "59 1.0549864676301368e-07 0.8090233793245593\n",
            "60 8.512448701480935e-08 0.8068775252257812\n",
            "61 6.847955291711116e-08 0.8044636193249256\n",
            "62 5.490216603565301e-08 0.8017307896578639\n",
            "63 4.3845697017541596e-08 0.7986150671918584\n",
            "64 3.485885591292259e-08 0.795034821751754\n",
            "65 2.7569316274345113e-08 0.790884139835606\n",
            "66 2.1670120031735962e-08 0.786023121360514\n",
            "67 1.6908389799397128e-08 0.7802628584721605\n",
            "68 1.3075968863240917e-08 0.7733420519857629\n",
            "69 1.0001656114422275e-08 0.7648883397496357\n",
            "70 7.544774138779076e-09 0.7543524844750058\n",
            "71 6.3385388882064575e-09 0.8401230801101468\n",
            "72 5.499929150998284e-09 0.8676966802604148\n",
            "73 4.778501067059793e-09 0.8688295677758784\n",
            "74 4.156977845282128e-09 0.869933434552922\n",
            "75 3.6207526421527803e-09 0.871005999289141\n",
            "76 3.1593597460410905e-09 0.8725698931376431\n",
            "77 2.7855192596959455e-09 0.8816720739657474\n",
            "78 2.4593225789182327e-09 0.8828955572135161\n",
            "79 2.172584723236781e-09 0.8834077895517158\n",
            "80 1.9203297285663723e-09 0.8838917571441854\n",
            "81 1.6985455264517668e-09 0.884507228724632\n",
            "82 1.5200615210986257e-09 0.8949195046152273\n",
            "83 1.360651424864301e-09 0.8951291812721428\n",
            "84 1.2175114250112529e-09 0.8948003895506716\n",
            "85 1.0890620072423474e-09 0.89449838816279\n",
            "86 9.738615469601086e-10 0.894220476413513\n",
            "CPU times: user 668 ms, sys: 13 ms, total: 681 ms\n",
            "Wall time: 677 ms"
          ]
        }
      ],
      "source": [
        "%time sol_1 = time_iteration_vectorized(m, grid, (nodes, weights), x0)"
      ],
      "id": "5a0ac711-fb7d-41ec-ae1a-c655932d896e"
    },
    {
      "cell_type": "code",
      "execution_count": 55,
      "metadata": {},
      "outputs": [],
      "source": [
        "# We reduced execution time from 30s to 385 ms !"
      ],
      "id": "feecd5fc-9793-4eea-89cf-841b09322d6b"
    },
    {
      "cell_type": "code",
      "execution_count": 56,
      "metadata": {},
      "outputs": [
        {
          "output_type": "display_data",
          "metadata": {},
          "data": {
            "text/plain": [
              "3.5416114485542494e-14"
            ]
          }
        }
      ],
      "source": [
        "# check this is the same solution as befor\n",
        "abs(sol_1 - sol_0).max()"
      ],
      "id": "2470df46-38e2-4be2-959c-bf59d710ba1f"
    },
    {
      "cell_type": "markdown",
      "metadata": {},
      "source": [
        "<span class=\"theorem-title\">**Bonus**</span> Visualize the solution."
      ],
      "id": "01f27d89-7de5-4e35-aa6d-c7947cb0f855"
    },
    {
      "cell_type": "code",
      "execution_count": 57,
      "metadata": {},
      "outputs": [],
      "source": [
        "from matplotlib import pyplot as plt"
      ],
      "id": "2ecf42e8-224b-40bc-a62b-5b8f7894e0e0"
    },
    {
      "cell_type": "code",
      "execution_count": 58,
      "metadata": {},
      "outputs": [
        {
          "output_type": "display_data",
          "metadata": {},
          "data": {
            "text/plain": [
              "Text(0.5, 1.0, 'Investment')"
            ]
          }
        },
        {
          "output_type": "display_data",
          "metadata": {},
          "data": {
            "image/png": "[encoded data removed]"
          }
        }
      ],
      "source": [
        "ss,xx = steady_state(m)\n",
        "for i in range(10):\n",
        "    plt.plot(grid[1], sol_0[i,:,0], label=f\"z={grid[0][i]:.2f}\")\n",
        "plt.plot(grid[1], x0[0,:,0], linestyle='--', color='black')\n",
        "plt.scatter([ss[1]], [xx[0]], color='black')\n",
        "plt.legend(loc='upper left')\n",
        "plt.title(\"Investment\")"
      ],
      "id": "646c4806-3cf2-4c76-aaf1-df89277a41e6"
    }
  ],
  "nbformat": 4,
  "nbformat_minor": 5,
  "metadata": {
    "kernelspec": {
      "name": "python3",
      "display_name": "bbank",
      "language": "python"
    },
    "language_info": {
      "name": "python",
      "codemirror_mode": {
        "name": "ipython",
        "version": "3"
      },
      "file_extension": ".py",
      "mimetype": "text/x-python",
      "nbconvert_exporter": "python",
      "pygments_lexer": "ipython3",
      "version": "3.11.10"
    }
  }
}