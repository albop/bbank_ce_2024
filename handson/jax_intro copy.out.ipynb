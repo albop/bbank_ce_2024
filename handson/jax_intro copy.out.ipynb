{
  "cells": [
    {
      "cell_type": "markdown",
      "metadata": {},
      "source": [
        "# \n",
        "\n",
        "# An Introduction to JAX\n",
        "\n",
        "This notebook (adapted Quantecon) provides a short introduction to\n",
        "[Google JAX](https://github.com/google/jax).\n",
        "\n",
        "## JAX as a NumPy Replacement\n",
        "\n",
        "One way to use JAX is as a plug-in NumPy replacement. Let’s look at the\n",
        "similarities and differences.\n",
        "\n",
        "### Similarities\n",
        "\n",
        "The following import is standard, replacing `import numpy as np`:"
      ],
      "id": "4615d160-160c-4dbc-baac-35a8465df3d5"
    },
    {
      "cell_type": "code",
      "execution_count": 1,
      "metadata": {},
      "outputs": [],
      "source": [
        "import jax\n",
        "import jax.numpy as jnp"
      ],
      "id": "2b387e05"
    },
    {
      "cell_type": "markdown",
      "metadata": {},
      "source": [
        "Now we can use `jnp` in place of `np` for the usual array operations:"
      ],
      "id": "9e216ea6-c4be-4f23-89b7-7577db94efce"
    },
    {
      "cell_type": "code",
      "execution_count": null,
      "metadata": {},
      "outputs": [],
      "source": [
        "a = jnp.asarray((1.0, 3.2, -1.5))"
      ],
      "id": "72f9de23"
    },
    {
      "cell_type": "code",
      "execution_count": null,
      "metadata": {},
      "outputs": [],
      "source": [
        "print(a)"
      ],
      "id": "c790add2"
    },
    {
      "cell_type": "code",
      "execution_count": null,
      "metadata": {},
      "outputs": [],
      "source": [
        "print(jnp.sum(a))"
      ],
      "id": "de949b75"
    },
    {
      "cell_type": "code",
      "execution_count": null,
      "metadata": {},
      "outputs": [],
      "source": [
        "print(jnp.mean(a))"
      ],
      "id": "a6c5fc59"
    },
    {
      "cell_type": "code",
      "execution_count": null,
      "metadata": {},
      "outputs": [],
      "source": [
        "print(jnp.dot(a, a))"
      ],
      "id": "e3dbd98a"
    },
    {
      "cell_type": "markdown",
      "metadata": {},
      "source": [
        "However, the array object `a` is not a NumPy array:"
      ],
      "id": "539e5fa7-1198-4f07-9400-71acdd07645b"
    },
    {
      "cell_type": "code",
      "execution_count": null,
      "metadata": {},
      "outputs": [],
      "source": [
        "a"
      ],
      "id": "cb779ff3"
    },
    {
      "cell_type": "code",
      "execution_count": null,
      "metadata": {},
      "outputs": [],
      "source": [
        "type(a)"
      ],
      "id": "75605d10"
    },
    {
      "cell_type": "markdown",
      "metadata": {},
      "source": [
        "Even scalar-valued maps on arrays return JAX arrays."
      ],
      "id": "538702fb-379a-4350-9071-4a343514fff1"
    },
    {
      "cell_type": "code",
      "execution_count": null,
      "metadata": {},
      "outputs": [],
      "source": [
        "jnp.sum(a)"
      ],
      "id": "bb9823f4"
    },
    {
      "cell_type": "markdown",
      "metadata": {},
      "source": [
        "JAX arrays are also called “device arrays,” where term “device” refers\n",
        "to a hardware accelerator (GPU or TPU).\n",
        "\n",
        "(In the terminology of GPUs, the “host” is the machine that launches GPU\n",
        "operations, while the “device” is the GPU itself.)\n",
        "\n",
        "Operations on higher dimensional arrays are also similar to NumPy:"
      ],
      "id": "53e80fc2-ca69-40a3-b13d-79b7bbf7105d"
    },
    {
      "cell_type": "code",
      "execution_count": null,
      "metadata": {},
      "outputs": [],
      "source": [
        "A = jnp.ones((2, 2))\n",
        "B = jnp.identity(2)\n",
        "A @ B"
      ],
      "id": "f034e70b"
    },
    {
      "cell_type": "code",
      "execution_count": null,
      "metadata": {},
      "outputs": [],
      "source": [
        "from jax.numpy import linalg"
      ],
      "id": "e4d28ad7"
    },
    {
      "cell_type": "code",
      "execution_count": null,
      "metadata": {},
      "outputs": [],
      "source": [
        "linalg.inv(B)   # Inverse of identity is identity"
      ],
      "id": "6e4cdb6f"
    },
    {
      "cell_type": "code",
      "execution_count": null,
      "metadata": {},
      "outputs": [],
      "source": [
        "linalg.eigh(B)  # Computes eigenvalues and eigenvectors"
      ],
      "id": "1967f448"
    },
    {
      "cell_type": "markdown",
      "metadata": {},
      "source": [
        "### Differences\n",
        "\n",
        "One difference between NumPy and JAX is that JAX currently uses 32 bit\n",
        "floats by default.\n",
        "\n",
        "This is standard for GPU computing and can lead to significant speed\n",
        "gains with small loss of precision.\n",
        "\n",
        "However, for some calculations precision matters. In these cases 64 bit\n",
        "floats can be enforced via the command"
      ],
      "id": "c5a8e5cf-f72a-47a8-85cb-1f327b223ec2"
    },
    {
      "cell_type": "code",
      "execution_count": null,
      "metadata": {},
      "outputs": [],
      "source": [
        "jax.config.update(\"jax_enable_x64\", True)"
      ],
      "id": "12b7591d"
    },
    {
      "cell_type": "markdown",
      "metadata": {},
      "source": [
        "Let’s check this works:"
      ],
      "id": "11ea4968-7ffa-418f-af0c-bb9343b8a738"
    },
    {
      "cell_type": "code",
      "execution_count": null,
      "metadata": {},
      "outputs": [],
      "source": [
        "jnp.ones(3)"
      ],
      "id": "0732f0ba"
    },
    {
      "cell_type": "markdown",
      "metadata": {},
      "source": [
        "As a NumPy replacement, a more significant difference is that arrays are\n",
        "treated as **immutable**.\n",
        "\n",
        "For example, with NumPy we can write"
      ],
      "id": "3f02def0-5a5d-4e9f-9bea-caea1b037dfe"
    },
    {
      "cell_type": "code",
      "execution_count": null,
      "metadata": {},
      "outputs": [],
      "source": [
        "import numpy as np\n",
        "a = np.linspace(0, 1, 3)\n",
        "a"
      ],
      "id": "c76ff1f6"
    },
    {
      "cell_type": "markdown",
      "metadata": {},
      "source": [
        "and then mutate the data in memory:"
      ],
      "id": "8596bdaf-d85d-407f-b04f-5d3386d3b409"
    },
    {
      "cell_type": "code",
      "execution_count": null,
      "metadata": {},
      "outputs": [],
      "source": [
        "a[0] = 1\n",
        "a"
      ],
      "id": "a75a4926"
    },
    {
      "cell_type": "markdown",
      "metadata": {},
      "source": [
        "In JAX this fails:"
      ],
      "id": "3bdaa5ff-44ff-48a9-9611-d977d988d99e"
    },
    {
      "cell_type": "code",
      "execution_count": null,
      "metadata": {},
      "outputs": [],
      "source": [
        "a = jnp.linspace(0, 1, 3)\n",
        "a"
      ],
      "id": "6816fdf1"
    },
    {
      "cell_type": "code",
      "execution_count": null,
      "metadata": {},
      "outputs": [],
      "source": [
        "# a[0] = 1"
      ],
      "id": "176333bb"
    },
    {
      "cell_type": "markdown",
      "metadata": {},
      "source": [
        "In line with immutability, JAX does not support inplace operations:"
      ],
      "id": "8f67a66b-1c5e-4253-bb20-803527463647"
    },
    {
      "cell_type": "code",
      "execution_count": null,
      "metadata": {},
      "outputs": [],
      "source": [
        "a = np.array((2, 1))\n",
        "a.sort()\n",
        "a"
      ],
      "id": "640a6722"
    },
    {
      "cell_type": "code",
      "execution_count": null,
      "metadata": {},
      "outputs": [],
      "source": [
        "a = jnp.array((2, 1))\n",
        "a_new = a.sort()\n",
        "a, a_new"
      ],
      "id": "6d705f60"
    },
    {
      "cell_type": "markdown",
      "metadata": {},
      "source": [
        "The designers of JAX chose to make arrays immutable because JAX uses a\n",
        "functional programming style. More on this below.\n",
        "\n",
        "Note that, while mutation is discouraged, it is in fact possible with\n",
        "`at`, as in"
      ],
      "id": "bb6ace53-8aa1-47af-a6fc-a333d9e844de"
    },
    {
      "cell_type": "code",
      "execution_count": null,
      "metadata": {},
      "outputs": [],
      "source": [
        "a = jnp.linspace(0, 1, 3)\n",
        "id(a)"
      ],
      "id": "b0352535"
    },
    {
      "cell_type": "code",
      "execution_count": null,
      "metadata": {},
      "outputs": [],
      "source": [
        "a"
      ],
      "id": "32aca615"
    },
    {
      "cell_type": "code",
      "execution_count": null,
      "metadata": {},
      "outputs": [],
      "source": [
        "a.at[0].set(1)"
      ],
      "id": "fc9dbfd4"
    },
    {
      "cell_type": "markdown",
      "metadata": {},
      "source": [
        "We can check that the array is mutated by verifying its identity is\n",
        "unchanged:"
      ],
      "id": "55f709b0-bcdd-4389-825a-bd93bf103f35"
    },
    {
      "cell_type": "code",
      "execution_count": null,
      "metadata": {},
      "outputs": [],
      "source": [
        "id(a)"
      ],
      "id": "74adb703"
    },
    {
      "cell_type": "markdown",
      "metadata": {},
      "source": [
        "## Random Numbers\n",
        "\n",
        "Random numbers are also a bit different in JAX, relative to NumPy.\n",
        "Typically, in JAX, the state of the random number generator needs to be\n",
        "controlled explicitly."
      ],
      "id": "d5f0cc9c-d573-471e-9efb-97452e2d95cd"
    },
    {
      "cell_type": "code",
      "execution_count": null,
      "metadata": {},
      "outputs": [],
      "source": [
        "import jax.random as random"
      ],
      "id": "20f74134"
    },
    {
      "cell_type": "markdown",
      "metadata": {},
      "source": [
        "First we produce a key, which seeds the random number generator."
      ],
      "id": "2579e62b-87c2-431e-9bbb-120ccd266aef"
    },
    {
      "cell_type": "code",
      "execution_count": null,
      "metadata": {},
      "outputs": [],
      "source": [
        "key = random.PRNGKey(1)"
      ],
      "id": "b7fadb37"
    },
    {
      "cell_type": "code",
      "execution_count": null,
      "metadata": {},
      "outputs": [],
      "source": [
        "type(key)"
      ],
      "id": "ed5b4fe0"
    },
    {
      "cell_type": "code",
      "execution_count": null,
      "metadata": {},
      "outputs": [],
      "source": [
        "print(key)"
      ],
      "id": "c528dc00"
    },
    {
      "cell_type": "markdown",
      "metadata": {},
      "source": [
        "Now we can use the key to generate some random numbers:"
      ],
      "id": "efd5a39b-41e7-40b4-8f0e-36a07ba80fa2"
    },
    {
      "cell_type": "code",
      "execution_count": null,
      "metadata": {},
      "outputs": [],
      "source": [
        "x = random.normal(key, (3, 3))\n",
        "x"
      ],
      "id": "196a2dbc"
    },
    {
      "cell_type": "markdown",
      "metadata": {},
      "source": [
        "If we use the same key again, we initialize at the same seed, so the\n",
        "random numbers are the same:"
      ],
      "id": "f634d632-b570-4ee5-bf69-98c7e797eb76"
    },
    {
      "cell_type": "code",
      "execution_count": null,
      "metadata": {},
      "outputs": [],
      "source": [
        "random.normal(key, (3, 3))"
      ],
      "id": "22a98dab"
    },
    {
      "cell_type": "markdown",
      "metadata": {},
      "source": [
        "To produce a (quasi-) independent draw, best practice is to “split” the\n",
        "existing key:"
      ],
      "id": "178bc272-e270-420c-9c1e-05065c98e16b"
    },
    {
      "cell_type": "code",
      "execution_count": null,
      "metadata": {},
      "outputs": [],
      "source": [
        "key, subkey = random.split(key)"
      ],
      "id": "1d1387db"
    },
    {
      "cell_type": "code",
      "execution_count": null,
      "metadata": {},
      "outputs": [],
      "source": [
        "random.normal(key, (3, 3))"
      ],
      "id": "582d0a5d"
    },
    {
      "cell_type": "code",
      "execution_count": null,
      "metadata": {},
      "outputs": [],
      "source": [
        "random.normal(subkey, (3, 3))"
      ],
      "id": "9ccc4f4d"
    },
    {
      "cell_type": "markdown",
      "metadata": {},
      "source": [
        "The function below produces `k` (quasi-) independent random `n x n`\n",
        "matrices using this procedure."
      ],
      "id": "378ad592-f36a-466d-84e0-09433cec158e"
    },
    {
      "cell_type": "code",
      "execution_count": null,
      "metadata": {},
      "outputs": [],
      "source": [
        "def gen_random_matrices(key, n, k):\n",
        "    matrices = []\n",
        "    for _ in range(k):\n",
        "        key, subkey = random.split(key)\n",
        "        matrices.append(random.uniform(subkey, (n, n)))\n",
        "    return matrices"
      ],
      "id": "2bd46ab5"
    },
    {
      "cell_type": "code",
      "execution_count": null,
      "metadata": {},
      "outputs": [],
      "source": [
        "matrices = gen_random_matrices(key, 2, 2)\n",
        "for A in matrices:\n",
        "    print(A)"
      ],
      "id": "e6cc78b3"
    },
    {
      "cell_type": "markdown",
      "metadata": {},
      "source": [
        "One point to remember is that JAX expects tuples to describe array\n",
        "shapes, even for flat arrays. Hence, to get a one-dimensional array of\n",
        "normal random draws we use `(len, )` for the shape, as in"
      ],
      "id": "b16bde8e-c449-4e97-b782-adf4c9642c91"
    },
    {
      "cell_type": "code",
      "execution_count": null,
      "metadata": {},
      "outputs": [],
      "source": [
        "random.normal(key, (5, ))"
      ],
      "id": "ab3ecfda"
    },
    {
      "cell_type": "markdown",
      "metadata": {},
      "source": [
        "## JIT compilation\n",
        "\n",
        "The JAX just-in-time (JIT) compiler accelerates logic within functions\n",
        "by fusing linear algebra operations into a single optimized kernel that\n",
        "the host can launch on the GPU / TPU (or CPU if no accelerator is\n",
        "detected).\n",
        "\n",
        "### A first example\n",
        "\n",
        "To see the JIT compiler in action, consider the following function."
      ],
      "id": "3effa9be-2a5b-44fd-a0dd-3f12a68a250e"
    },
    {
      "cell_type": "code",
      "execution_count": null,
      "metadata": {},
      "outputs": [],
      "source": [
        "def f(x):\n",
        "    a = 3*x + jnp.sin(x) + jnp.cos(x**2) - jnp.cos(2*x) - x**2 * 0.4 * x**1.5\n",
        "    return jnp.sum(a)"
      ],
      "id": "8cdbc54f"
    },
    {
      "cell_type": "markdown",
      "metadata": {},
      "source": [
        "Let’s build an array to call the function on."
      ],
      "id": "d36692aa-5ac6-4cc8-8230-5bb545e08bb3"
    },
    {
      "cell_type": "code",
      "execution_count": null,
      "metadata": {},
      "outputs": [],
      "source": [
        "n = 50_000_000\n",
        "x = jnp.ones(n)"
      ],
      "id": "ce62b27c"
    },
    {
      "cell_type": "markdown",
      "metadata": {},
      "source": [
        "How long does the function take to execute?"
      ],
      "id": "ecf41b24-2db8-4908-a42a-b897d6538890"
    },
    {
      "cell_type": "code",
      "execution_count": null,
      "metadata": {},
      "outputs": [],
      "source": [
        "%time f(x).block_until_ready()"
      ],
      "id": "a935ede8"
    },
    {
      "cell_type": "markdown",
      "metadata": {},
      "source": [
        "``` {note}\n",
        "Here, in order to measure actual speed, we use the `block_until_ready()` method \n",
        "to hold the interpreter until the results of the computation are returned from\n",
        "the device. This is necessary because JAX uses asynchronous dispatch, which\n",
        "allows the Python interpreter to run ahead of GPU computations.\n",
        "```\n",
        "\n",
        "The code doesn’t run as fast as we might hope, given that it’s running\n",
        "on a GPU.\n",
        "\n",
        "But if we run it a second time it becomes much faster:"
      ],
      "id": "826edcff-1652-4f8c-b93b-6b7cea38762a"
    },
    {
      "cell_type": "code",
      "execution_count": null,
      "metadata": {},
      "outputs": [],
      "source": [
        "%time f(x).block_until_ready()"
      ],
      "id": "2ab1972b"
    },
    {
      "cell_type": "markdown",
      "metadata": {},
      "source": [
        "This is because the built in functions like `jnp.cos` are JIT compiled\n",
        "and the first run includes compile time.\n",
        "\n",
        "Why would JAX want to JIT-compile built in functions like `jnp.cos`\n",
        "instead of just providing pre-compiled versions, like NumPy?\n",
        "\n",
        "The reason is that the JIT compiler can specialize on the *size* of the\n",
        "array being used, which is helpful for parallelization.\n",
        "\n",
        "For example, in running the code above, the JIT compiler produced a\n",
        "version of `jnp.cos` that is specialized to floating point arrays of\n",
        "size `n = 50_000_000`.\n",
        "\n",
        "We can check this by calling `f` with a new array of different size."
      ],
      "id": "f20a4885-ed89-4ca8-a6e0-dde27e4d63bf"
    },
    {
      "cell_type": "code",
      "execution_count": null,
      "metadata": {},
      "outputs": [],
      "source": [
        "m = 50_000_001\n",
        "y = jnp.ones(m)"
      ],
      "id": "7b4d8b56"
    },
    {
      "cell_type": "code",
      "execution_count": null,
      "metadata": {},
      "outputs": [],
      "source": [
        "%time f(y).block_until_ready()"
      ],
      "id": "81b1ffaa"
    },
    {
      "cell_type": "markdown",
      "metadata": {},
      "source": [
        "Notice that the execution time increases, because now new versions of\n",
        "the built-ins like `jnp.cos` are being compiled, specialized to the new\n",
        "array size.\n",
        "\n",
        "If we run again, the code is dispatched to the correct compiled version\n",
        "and we get faster execution."
      ],
      "id": "d9aa178d-a771-4002-98e2-d9ca43a2d975"
    },
    {
      "cell_type": "code",
      "execution_count": null,
      "metadata": {},
      "outputs": [],
      "source": [
        "%time f(y).block_until_ready()"
      ],
      "id": "c98553e9"
    },
    {
      "cell_type": "markdown",
      "metadata": {},
      "source": [
        "The compiled versions for the previous array size are still available in\n",
        "memory too, and the following call is dispatched to the correct compiled\n",
        "code."
      ],
      "id": "845f2868-818b-4859-aa01-968328819d19"
    },
    {
      "cell_type": "code",
      "execution_count": null,
      "metadata": {},
      "outputs": [],
      "source": [
        "%time f(x).block_until_ready()"
      ],
      "id": "be637596"
    },
    {
      "cell_type": "markdown",
      "metadata": {},
      "source": [
        "### Compiling the outer function\n",
        "\n",
        "We can do even better if we manually JIT-compile the outer function."
      ],
      "id": "9d67ab82-81e7-4411-a333-330c4ceaf397"
    },
    {
      "cell_type": "code",
      "execution_count": null,
      "metadata": {},
      "outputs": [],
      "source": [
        "f_jit = jax.jit(f)   # target for JIT compilation"
      ],
      "id": "47524ff2"
    },
    {
      "cell_type": "markdown",
      "metadata": {},
      "source": [
        "Let’s run once to compile it:"
      ],
      "id": "c8440591-4f67-46b3-ba3d-070511bbb6dd"
    },
    {
      "cell_type": "code",
      "execution_count": null,
      "metadata": {},
      "outputs": [],
      "source": [
        "f_jit(x)"
      ],
      "id": "08865e0c"
    },
    {
      "cell_type": "markdown",
      "metadata": {},
      "source": [
        "And now let’s time it."
      ],
      "id": "ba916afc-bce2-4f3e-a8ed-e0ec0eb4f7a5"
    },
    {
      "cell_type": "code",
      "execution_count": null,
      "metadata": {},
      "outputs": [],
      "source": [
        "%time f_jit(x).block_until_ready()"
      ],
      "id": "28a2f96f"
    },
    {
      "cell_type": "markdown",
      "metadata": {},
      "source": [
        "Note the speed gain.\n",
        "\n",
        "This is because the array operations are fused and no intermediate\n",
        "arrays are created.\n",
        "\n",
        "Incidentally, a more common syntax when targetting a function for the\n",
        "JIT compiler is"
      ],
      "id": "545fc062-0c0b-4c1d-87da-5955221a27a7"
    },
    {
      "cell_type": "code",
      "execution_count": null,
      "metadata": {},
      "outputs": [],
      "source": [
        "@jax.jit\n",
        "def f(x):\n",
        "    a = 3*x + jnp.sin(x) + jnp.cos(x**2) - jnp.cos(2*x) - x**2 * 0.4 * x**1.5\n",
        "    return jnp.sum(a)"
      ],
      "id": "c2af1d8b"
    },
    {
      "cell_type": "markdown",
      "metadata": {},
      "source": [
        "## Functional Programming\n",
        "\n",
        "From JAX’s documentation:\n",
        "\n",
        "*When walking about the countryside of Italy, the people will not\n",
        "hesitate to tell you that JAX has “una anima di pura programmazione\n",
        "funzionale”.*\n",
        "\n",
        "In other words, JAX assumes a functional programming style.\n",
        "\n",
        "The major implication is that JAX functions should be pure.\n",
        "\n",
        "A pure function will always return the same result if invoked with the\n",
        "same inputs.\n",
        "\n",
        "In particular, a pure function has\n",
        "\n",
        "-   no dependence on global variables and\n",
        "-   no side effects\n",
        "\n",
        "JAX will not usually throw errors when compiling impure functions but\n",
        "execution becomes unpredictable.\n",
        "\n",
        "Here’s an illustration of this fact, using global variables:"
      ],
      "id": "17db5ec5-2b96-4b42-b471-87663cc8b3db"
    },
    {
      "cell_type": "code",
      "execution_count": null,
      "metadata": {},
      "outputs": [],
      "source": [
        "a = 1  # global\n",
        "\n",
        "@jax.jit\n",
        "def f(x):\n",
        "    return a + x"
      ],
      "id": "560079b6"
    },
    {
      "cell_type": "code",
      "execution_count": null,
      "metadata": {},
      "outputs": [],
      "source": [
        "x = jnp.ones(2)"
      ],
      "id": "00ba2e9e"
    },
    {
      "cell_type": "code",
      "execution_count": null,
      "metadata": {},
      "outputs": [],
      "source": [
        "f(x)"
      ],
      "id": "d7ac371c"
    },
    {
      "cell_type": "markdown",
      "metadata": {},
      "source": [
        "In the code above, the global value `a=1` is fused into the jitted\n",
        "function.\n",
        "\n",
        "Even if we change `a`, the output of `f` will not be affected — as long\n",
        "as the same compiled version is called."
      ],
      "id": "56fed36c-cbff-4161-878b-aacc16ea93be"
    },
    {
      "cell_type": "code",
      "execution_count": null,
      "metadata": {},
      "outputs": [],
      "source": [
        "a = 42"
      ],
      "id": "c85b5449"
    },
    {
      "cell_type": "code",
      "execution_count": null,
      "metadata": {},
      "outputs": [],
      "source": [
        "f(x)"
      ],
      "id": "b75b1b9a"
    },
    {
      "cell_type": "markdown",
      "metadata": {},
      "source": [
        "Changing the dimension of the input triggers a fresh compilation of the\n",
        "function, at which time the change in the value of `a` takes effect:"
      ],
      "id": "17930ec4-1653-4081-a29b-549221838169"
    },
    {
      "cell_type": "code",
      "execution_count": null,
      "metadata": {},
      "outputs": [],
      "source": [
        "x = jnp.ones(3)"
      ],
      "id": "c699e711"
    },
    {
      "cell_type": "code",
      "execution_count": null,
      "metadata": {},
      "outputs": [],
      "source": [
        "f(x)"
      ],
      "id": "d3b4a943"
    },
    {
      "cell_type": "markdown",
      "metadata": {},
      "source": [
        "Moral of the story: write pure functions when using JAX!\n",
        "\n",
        "## Gradients\n",
        "\n",
        "JAX can use automatic differentiation to compute gradients.\n",
        "\n",
        "This can be extremely useful for optimization and solving nonlinear\n",
        "systems.\n",
        "\n",
        "We will see significant applications later in this lecture series.\n",
        "\n",
        "For now, here’s a very simple illustration involving the function"
      ],
      "id": "bb691c4c-87ce-4954-a3c4-ac3c8e0048aa"
    },
    {
      "cell_type": "code",
      "execution_count": null,
      "metadata": {},
      "outputs": [],
      "source": [
        "def f(x):\n",
        "    return (x**2) / 2"
      ],
      "id": "32e67e10"
    },
    {
      "cell_type": "markdown",
      "metadata": {},
      "source": [
        "Let’s take the derivative:"
      ],
      "id": "4a42e765-82ca-47ff-8285-f7e668066063"
    },
    {
      "cell_type": "code",
      "execution_count": null,
      "metadata": {},
      "outputs": [],
      "source": [
        "f_prime = jax.grad(f)"
      ],
      "id": "03db9a1e"
    },
    {
      "cell_type": "code",
      "execution_count": null,
      "metadata": {},
      "outputs": [],
      "source": [
        "f_prime(10.0)"
      ],
      "id": "ee1332e5"
    },
    {
      "cell_type": "markdown",
      "metadata": {},
      "source": [
        "Let’s plot the function and derivative, noting that $f'(x) = x$."
      ],
      "id": "ea407135-28e2-446d-8737-ffc7bcd2d8e0"
    },
    {
      "cell_type": "code",
      "execution_count": null,
      "metadata": {},
      "outputs": [],
      "source": [
        "import matplotlib.pyplot as plt\n",
        "\n",
        "fig, ax = plt.subplots()\n",
        "x_grid = jnp.linspace(-4, 4, 200)\n",
        "ax.plot(x_grid, f(x_grid), label=\"$f$\")\n",
        "ax.plot(x_grid, [f_prime(x) for x in x_grid], label=\"$f'$\")\n",
        "ax.legend(loc='upper center')\n",
        "plt.show()"
      ],
      "id": "34fc27d4"
    },
    {
      "cell_type": "markdown",
      "metadata": {},
      "source": [
        "We defer further exploration of automatic differentiation with JAX until\n",
        "{doc}`autodiff`.\n",
        "\n",
        "## Writing vectorized code\n",
        "\n",
        "Writing fast JAX code requires shifting repetitive tasks from loops to\n",
        "array processing operations, so that the JAX compiler can easily\n",
        "understand the whole operation and generate more efficient machine code.\n",
        "\n",
        "This procedure is called **vectorization** or **array programming**, and\n",
        "will be familiar to anyone who has used NumPy or MATLAB.\n",
        "\n",
        "In most ways, vectorization is the same in JAX as it is in NumPy.\n",
        "\n",
        "But there are also some differences, which we highlight here.\n",
        "\n",
        "As a running example, consider the function\n",
        "\n",
        "$$\n",
        "    f(x,y) = \\frac{\\cos(x^2 + y^2)}{1 + x^2 + y^2}\n",
        "$$\n",
        "\n",
        "Suppose that we want to evaluate this function on a square grid of $x$\n",
        "and $y$ points and then plot it.\n",
        "\n",
        "To clarify, here is the slow `for` loop version."
      ],
      "id": "0fea9ad2-dc1b-416e-a83d-fae5dbf37335"
    },
    {
      "cell_type": "code",
      "execution_count": null,
      "metadata": {},
      "outputs": [],
      "source": [
        "@jax.jit\n",
        "def f(x, y):\n",
        "    return jnp.cos(x**2 + y**2) / (1 + x**2 + y**2)\n",
        "\n",
        "n = 80\n",
        "x = jnp.linspace(-2, 2, n)\n",
        "y = x\n",
        "\n",
        "z_loops = np.empty((n, n))"
      ],
      "id": "5fb512fb"
    },
    {
      "cell_type": "code",
      "execution_count": null,
      "metadata": {},
      "outputs": [],
      "source": [
        "%%time\n",
        "for i in range(n):\n",
        "    for j in range(n):\n",
        "        z_loops[i, j] = f(x[i], y[j])"
      ],
      "id": "5ddc86e1"
    },
    {
      "cell_type": "markdown",
      "metadata": {},
      "source": [
        "Even for this very small grid, the run time is extremely slow.\n",
        "\n",
        "(Notice that we used a NumPy array for `z_loops` because we wanted to\n",
        "write to it.)\n",
        "\n",
        "  \n",
        "\n",
        "OK, so how can we do the same operation in vectorized form?\n",
        "\n",
        "If you are new to vectorization, you might guess that we can simply\n",
        "write"
      ],
      "id": "e8923830-6cd5-4ce4-a28d-b2994693b47d"
    },
    {
      "cell_type": "code",
      "execution_count": null,
      "metadata": {},
      "outputs": [],
      "source": [
        "z_bad = f(x, y)"
      ],
      "id": "0600f2fd"
    },
    {
      "cell_type": "markdown",
      "metadata": {},
      "source": [
        "But this gives us the wrong result because JAX doesn’t understand the\n",
        "nested for loop."
      ],
      "id": "90a80ae6-577e-46df-b81f-82523ecd203b"
    },
    {
      "cell_type": "code",
      "execution_count": null,
      "metadata": {},
      "outputs": [],
      "source": [
        "z_bad.shape"
      ],
      "id": "ee8702c5"
    },
    {
      "cell_type": "markdown",
      "metadata": {},
      "source": [
        "Here is what we actually wanted:"
      ],
      "id": "8152ce02-7097-48b6-85aa-6e9b42c237a5"
    },
    {
      "cell_type": "code",
      "execution_count": null,
      "metadata": {},
      "outputs": [],
      "source": [
        "z_loops.shape"
      ],
      "id": "8b004c02"
    },
    {
      "cell_type": "markdown",
      "metadata": {},
      "source": [
        "To get the right shape and the correct nested for loop calculation, we\n",
        "can use a `meshgrid` operation designed for this purpose:"
      ],
      "id": "27e461c6-feb1-405c-9295-974d2dc5eaf9"
    },
    {
      "cell_type": "code",
      "execution_count": null,
      "metadata": {},
      "outputs": [],
      "source": [
        "x_mesh, y_mesh = jnp.meshgrid(x, y)"
      ],
      "id": "ec1551a8"
    },
    {
      "cell_type": "markdown",
      "metadata": {},
      "source": [
        "Now we get what we want and the execution time is very fast."
      ],
      "id": "455a54bc-9476-436d-bf5a-f3d17f321a43"
    },
    {
      "cell_type": "code",
      "execution_count": null,
      "metadata": {},
      "outputs": [],
      "source": [
        "%%time\n",
        "z_mesh = f(x_mesh, y_mesh).block_until_ready()"
      ],
      "id": "084d7dc8"
    },
    {
      "cell_type": "markdown",
      "metadata": {},
      "source": [
        "Let’s run again to eliminate compile time."
      ],
      "id": "275d62dc-21af-4371-a461-2ddf081f2ae2"
    },
    {
      "cell_type": "code",
      "execution_count": null,
      "metadata": {},
      "outputs": [],
      "source": [
        "%%time\n",
        "z_mesh = f(x_mesh, y_mesh).block_until_ready()"
      ],
      "id": "75d2ba05"
    },
    {
      "cell_type": "markdown",
      "metadata": {},
      "source": [
        "Let’s confirm that we got the right answer."
      ],
      "id": "2c86ecb9-3c23-4fff-ba81-7060d807f50f"
    },
    {
      "cell_type": "code",
      "execution_count": null,
      "metadata": {},
      "outputs": [],
      "source": [
        "jnp.allclose(z_mesh, z_loops)"
      ],
      "id": "9902d1a4"
    },
    {
      "cell_type": "markdown",
      "metadata": {},
      "source": [
        "Now we can set up a serious grid and run the same calculation (on the\n",
        "larger grid) in a short amount of time."
      ],
      "id": "f475a9d9-2eb5-4f7a-9578-5c3686483f48"
    },
    {
      "cell_type": "code",
      "execution_count": null,
      "metadata": {},
      "outputs": [],
      "source": [
        "n = 6000\n",
        "x = jnp.linspace(-2, 2, n)\n",
        "y = x\n",
        "x_mesh, y_mesh = jnp.meshgrid(x, y)"
      ],
      "id": "d4f9747e"
    },
    {
      "cell_type": "code",
      "execution_count": null,
      "metadata": {},
      "outputs": [],
      "source": [
        "%%time\n",
        "z_mesh = f(x_mesh, y_mesh).block_until_ready()"
      ],
      "id": "c54edd7d"
    },
    {
      "cell_type": "markdown",
      "metadata": {},
      "source": [
        "Let’s run again to get rid of compile time."
      ],
      "id": "ba68d85b-7cd0-48ed-a1f2-1917a398cc64"
    },
    {
      "cell_type": "code",
      "execution_count": null,
      "metadata": {},
      "outputs": [],
      "source": [
        "%%time\n",
        "z_mesh = f(x_mesh, y_mesh).block_until_ready()"
      ],
      "id": "ffe6ee0a"
    },
    {
      "cell_type": "markdown",
      "metadata": {},
      "source": [
        "But there is one problem here: the mesh grids use a lot of memory."
      ],
      "id": "0bfc5f8d-9136-40af-991d-acc56180da3b"
    },
    {
      "cell_type": "code",
      "execution_count": null,
      "metadata": {},
      "outputs": [],
      "source": [
        "x_mesh.nbytes + y_mesh.nbytes"
      ],
      "id": "45b78061"
    },
    {
      "cell_type": "markdown",
      "metadata": {},
      "source": [
        "By comparison, the flat array `x` is just"
      ],
      "id": "cf3ad5e8-13eb-4769-88ba-ce0760d60a6e"
    },
    {
      "cell_type": "code",
      "execution_count": null,
      "metadata": {},
      "outputs": [],
      "source": [
        "x.nbytes  # and y is just a pointer to x"
      ],
      "id": "a06ae3f0"
    },
    {
      "cell_type": "markdown",
      "metadata": {},
      "source": [
        "This extra memory usage can be a big problem in actual research\n",
        "calculations.\n",
        "\n",
        "So let’s try a different approach using\n",
        "[jax.vmap](https://jax.readthedocs.io/en/latest/_autosummary/jax.vmap.html)\n",
        "\n",
        "  \n",
        "\n",
        "First we vectorize `f` in `y`."
      ],
      "id": "10749c72-89fc-44ac-aeea-bf1a8854c378"
    },
    {
      "cell_type": "code",
      "execution_count": null,
      "metadata": {},
      "outputs": [],
      "source": [
        "f_vec_y = jax.vmap(f, in_axes=(None, 0))  "
      ],
      "id": "b0242503"
    },
    {
      "cell_type": "markdown",
      "metadata": {},
      "source": [
        "In the line above, `(None, 0)` indicates that we are vectorizing in the\n",
        "second argument, which is `y`.\n",
        "\n",
        "Next, we vectorize in the first argument, which is `x`."
      ],
      "id": "a764e328-7a30-4d15-bf72-46442082fb93"
    },
    {
      "cell_type": "code",
      "execution_count": null,
      "metadata": {},
      "outputs": [],
      "source": [
        "f_vec = jax.vmap(f_vec_y, in_axes=(0, None))"
      ],
      "id": "559071d7"
    },
    {
      "cell_type": "markdown",
      "metadata": {},
      "source": [
        "With this construction, we can now call the function $f$ on flat (low\n",
        "memory) arrays."
      ],
      "id": "905e2752-b75c-4cec-8b9c-98d493ac6669"
    },
    {
      "cell_type": "code",
      "execution_count": null,
      "metadata": {},
      "outputs": [],
      "source": [
        "%%time\n",
        "z_vmap = f_vec(x, y).block_until_ready()"
      ],
      "id": "1a6d0347"
    },
    {
      "cell_type": "markdown",
      "metadata": {},
      "source": [
        "We run it again to eliminate compile time."
      ],
      "id": "016c0301-d3c0-4067-9818-39d45d47f47a"
    },
    {
      "cell_type": "code",
      "execution_count": null,
      "metadata": {},
      "outputs": [],
      "source": [
        "%%time\n",
        "z_vmap = f_vec(x, y).block_until_ready()"
      ],
      "id": "653c6241"
    },
    {
      "cell_type": "markdown",
      "metadata": {},
      "source": [
        "The execution time is essentially the same as the mesh operation but we\n",
        "are using much less memory.\n",
        "\n",
        "And we produce the correct answer:"
      ],
      "id": "d516bd89-dc75-42fe-8b42-f4e960823a65"
    },
    {
      "cell_type": "code",
      "execution_count": null,
      "metadata": {},
      "outputs": [],
      "source": [
        "jnp.allclose(z_vmap, z_mesh)"
      ],
      "id": "a686cb63"
    }
  ],
  "nbformat": 4,
  "nbformat_minor": 5,
  "metadata": {
    "kernelspec": {
      "name": "python3",
      "display_name": "bbank",
      "language": "python"
    },
    "language_info": {
      "name": "python",
      "codemirror_mode": {
        "name": "ipython",
        "version": "3"
      },
      "file_extension": ".py",
      "mimetype": "text/x-python",
      "nbconvert_exporter": "python",
      "pygments_lexer": "ipython3",
      "version": "3.11.10"
    }
  }
}