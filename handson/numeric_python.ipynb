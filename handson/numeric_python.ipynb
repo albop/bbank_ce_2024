{
  "cells": [
    {
      "cell_type": "markdown",
      "metadata": {},
      "source": [
        "# Numeric Python\n",
        "\n",
        "### Numpy/scipy/matplotlib\n",
        "\n",
        "-   Most python scientists, use the following libraries:\n",
        "    -   `numpy`: performant array library (vectors, matrices, tensors)\n",
        "    -   `matplotlib`: plotting library\n",
        "    -   `scipy`: all kinds of mathematical routines\n",
        "-   In the rest of the course, we’ll make some use of `numpy` and\n",
        "    `matplotlib`\n",
        "-   They are included in all python *distributions* like Anaconda Python\n",
        "-   All additional libraries use `numpy` and `matplotlib`: `pandas`,\n",
        "    `statsmodels`, `sklearn`\n",
        "\n",
        "### Importing the libraries\n",
        "\n",
        "It is standard to import the libraries as `np`, and `plt`. We’ll follow\n",
        "this convention here."
      ],
      "id": "755e55aa-4ecc-42bd-848c-036779e17445"
    },
    {
      "cell_type": "code",
      "execution_count": 1,
      "metadata": {
        "slideshow": {
          "slide_type": "fragment"
        }
      },
      "outputs": [],
      "source": [
        "# these lines need to be run only once per program\n",
        "import numpy as np\n",
        "import matplotlib as plt"
      ],
      "id": "c855c6c3"
    },
    {
      "cell_type": "code",
      "execution_count": 2,
      "metadata": {
        "slideshow": {
          "slide_type": "fragment"
        }
      },
      "outputs": [],
      "source": [
        "print(f\"Numpy version {np.__version__}\")\n",
        "print(f\"Matplotlib version {plt.__version__}\")"
      ],
      "id": "57c0fc07"
    },
    {
      "cell_type": "markdown",
      "metadata": {},
      "source": [
        "## Numpy\n",
        "\n",
        "### What is Numpy\n",
        "\n",
        "Numpy is an array type (python object) meant to store efficiently\n",
        "homogenous, square, arrays (like $(a_{i})_{i\\in [1,N]}$ or\n",
        "$(b_{i,j,k})_{i\\in [1,N],j\\in[1,J],k \\in [1,K]}$)\n",
        "\n",
        "By default its stores data in contiguous C-order (last index varies\n",
        "faster), but also supports Fortran order and strided arrays\n",
        "(non-contiguous).\n",
        "\n",
        "Numpy has introduced well thought conventions, that have been reused by\n",
        "many other libraries (tensorflow, pytorch, jax), or even programming\n",
        "languages (julia)\n",
        "\n",
        "### Vector Creation\n",
        "\n",
        "-   Vectors and matrices are created with the `np.array(...)` function.\n",
        "-   Special vectors can be created with `np.zeros`, `np.ones`,\n",
        "    `np.linspace`"
      ],
      "id": "d837f558-2185-42aa-b8dd-8e5b4465ec51"
    },
    {
      "cell_type": "code",
      "execution_count": 3,
      "metadata": {
        "slideshow": {
          "slide_type": "fragment"
        }
      },
      "outputs": [],
      "source": [
        "# an array can be created from a list of numbers\n",
        "np.array( [1.0, 2.0, 3.0] )"
      ],
      "id": "13144d8b"
    },
    {
      "cell_type": "code",
      "execution_count": 4,
      "metadata": {
        "slideshow": {
          "slide_type": "fragment"
        }
      },
      "outputs": [],
      "source": [
        "# or initialized by specifying the length of the array\n",
        "np.zeros(5)"
      ],
      "id": "06709d2b"
    },
    {
      "cell_type": "code",
      "execution_count": 5,
      "metadata": {},
      "outputs": [],
      "source": [
        "# 10 regularly spaced points between 0 and 1\n",
        "np.linspace(0, 1, 11)"
      ],
      "id": "f3638d66"
    },
    {
      "cell_type": "markdown",
      "metadata": {},
      "source": [
        "### Matrix Creation\n",
        "\n",
        "-   A matrix is a 2-dimensional array and is created with `np.array`\n",
        "-   Function `np.matrix()` has been deprecated: do not use it.\n",
        "-   There are functions to create specific matrices: `np.eye`,\n",
        "    `np.diag`, …"
      ],
      "id": "6742c2d9-e0cc-4593-9163-afd5577de765"
    },
    {
      "cell_type": "code",
      "execution_count": 6,
      "metadata": {
        "slideshow": {
          "slide_type": "fragment"
        }
      },
      "outputs": [],
      "source": [
        "# an array can be created from a list of (equal size) lists\n",
        "np.array([\n",
        "    [1.0, 2.0, 3.0],\n",
        "    [4  ,   5,   6] \n",
        "])"
      ],
      "id": "e38abc42"
    },
    {
      "cell_type": "code",
      "execution_count": 7,
      "metadata": {
        "slideshow": {
          "slide_type": "fragment"
        }
      },
      "outputs": [],
      "source": [
        "# initialize an empty matrix with the dimensions as a tuple\n",
        "A = np.zeros( (2, 3) )\n",
        "A"
      ],
      "id": "86179fc1"
    },
    {
      "cell_type": "code",
      "execution_count": 8,
      "metadata": {},
      "outputs": [],
      "source": [
        "# matrix dimensions are contained in the shape attribute\n",
        "A.shape"
      ],
      "id": "73bc0dce"
    },
    {
      "cell_type": "markdown",
      "metadata": {},
      "source": [
        "### Tensors\n",
        "\n",
        "The construction generalizes to higher dimension arrays (a.k.a. tensors)"
      ],
      "id": "180f8e8e-8df8-4ed4-98c4-88f4a98bcfad"
    },
    {
      "cell_type": "code",
      "execution_count": 9,
      "metadata": {
        "slideshow": {
          "slide_type": "fragment"
        }
      },
      "outputs": [],
      "source": [
        "# an array can be created from a list of list of lists\n",
        "np.array([\n",
        "    [\n",
        "        [1.0, 2.0, 3.0],\n",
        "        [4  ,   5,   6] \n",
        "    ],\n",
        "        [\n",
        "        [7.0, 8.0, 9.0],\n",
        "        [10 ,  11,   12] \n",
        "    ]\n",
        "])"
      ],
      "id": "525d0e00"
    },
    {
      "cell_type": "code",
      "execution_count": 10,
      "metadata": {
        "slideshow": {
          "slide_type": "fragment"
        }
      },
      "outputs": [],
      "source": [
        "# initialize an empty matrix with the dimensions as a tuple\n",
        "A = np.zeros( (2, 3) )\n",
        "A"
      ],
      "id": "1e068c57"
    },
    {
      "cell_type": "code",
      "execution_count": 11,
      "metadata": {},
      "outputs": [],
      "source": [
        "# matrix dimensions are contained in the shape attribute\n",
        "A.shape"
      ],
      "id": "bdda2163"
    },
    {
      "cell_type": "markdown",
      "metadata": {},
      "source": [
        "### Linear Algebra\n",
        "\n",
        "*Vector multiplications* and *Matrix multiplications* can be performed\n",
        "using special sign `@`"
      ],
      "id": "d92343fb-d403-4711-aaa1-eaaf158bbb4b"
    },
    {
      "cell_type": "code",
      "execution_count": 12,
      "metadata": {
        "slideshow": {
          "slide_type": "fragment"
        }
      },
      "outputs": [],
      "source": [
        "A = np.array([[1.0, 2.0], [2,4]])\n",
        "A"
      ],
      "id": "2ef1d414"
    },
    {
      "cell_type": "code",
      "execution_count": 13,
      "metadata": {
        "slideshow": {
          "slide_type": "fragment"
        }
      },
      "outputs": [],
      "source": [
        "B = np.array([1.0, 2.0])\n",
        "B"
      ],
      "id": "c6ff3174"
    },
    {
      "cell_type": "code",
      "execution_count": 14,
      "metadata": {
        "slideshow": {
          "slide_type": "fragment"
        }
      },
      "outputs": [],
      "source": [
        "A@B"
      ],
      "id": "cdb28791"
    },
    {
      "cell_type": "code",
      "execution_count": 15,
      "metadata": {
        "slideshow": {
          "slide_type": "fragment"
        }
      },
      "outputs": [],
      "source": [
        "A@A"
      ],
      "id": "4353ca90"
    },
    {
      "cell_type": "markdown",
      "metadata": {},
      "source": [
        "Note how multiplication reduces total number of dimensions by 2. It is a\n",
        "tensor reduction."
      ],
      "id": "dcc89c0a-4fba-4b6e-8218-103c25a98222"
    },
    {
      "cell_type": "code",
      "execution_count": 16,
      "metadata": {
        "slideshow": {
          "slide_type": "fragment"
        }
      },
      "outputs": [],
      "source": [
        "print(A.shape, A.shape, (A@A).shape)"
      ],
      "id": "f51799ff"
    },
    {
      "cell_type": "markdown",
      "metadata": {},
      "source": [
        "### Scalar types\n",
        "\n",
        "Numpy arrays can contain data of several *scalar* types."
      ],
      "id": "70a46f2c-a0f0-4a6d-96db-375d3078a077"
    },
    {
      "cell_type": "code",
      "execution_count": 17,
      "metadata": {},
      "outputs": [],
      "source": [
        "[True, False, True]"
      ],
      "id": "739eb349"
    },
    {
      "cell_type": "code",
      "execution_count": 18,
      "metadata": {},
      "outputs": [],
      "source": [
        "# vector of boolean\n",
        "boolean_vector = np.array( [True, False, True] )\n",
        "print(f\"type of scalar '{boolean_vector.dtype}'\")\n",
        "boolean_vector"
      ],
      "id": "c4ad2d92"
    },
    {
      "cell_type": "code",
      "execution_count": 19,
      "metadata": {},
      "outputs": [],
      "source": [
        "# vector of integers\n",
        "int_vector = np.array([1, 2, 0])\n",
        "print(f\"type of scalar '{int_vector.dtype}'\")\n",
        "int_vector"
      ],
      "id": "fa29f41e"
    },
    {
      "cell_type": "markdown",
      "metadata": {},
      "source": [
        "By default, numerical arrays contain `float64` numbers (like matlab).\n",
        "But GPUs typically process 16 bits or 32 bits numbers.\n",
        "\n",
        "Can you create a 32 bits array?"
      ],
      "id": "7a6960f9-0e26-4786-ad07-22f37ed8f44e"
    },
    {
      "cell_type": "code",
      "execution_count": 20,
      "metadata": {},
      "outputs": [],
      "source": [
        "# your code here"
      ],
      "id": "e992602e"
    },
    {
      "cell_type": "markdown",
      "metadata": {},
      "source": [
        "### Subscripting Vectors\n",
        "\n",
        "-   Elements and subarrays, can be retrieved using the same syntax as\n",
        "    lists and strings.\n",
        "    -   Remember that indexing starts at 0."
      ],
      "id": "f867afc2-18cd-4518-917e-0960a7aab7fe"
    },
    {
      "cell_type": "code",
      "execution_count": 21,
      "metadata": {},
      "outputs": [],
      "source": [
        "V = np.array([0., 1., 2., 3., 4.])\n",
        "display(V[1])  # second element"
      ],
      "id": "4f9bb95e"
    },
    {
      "cell_type": "code",
      "execution_count": 22,
      "metadata": {},
      "outputs": [],
      "source": [
        "V = np.array([0., 1., 2., 3., 4.])\n",
        "display(V[1:3])  # second, third and fourth element"
      ],
      "id": "f5592485"
    },
    {
      "cell_type": "markdown",
      "metadata": {},
      "source": [
        "### Modifying Vector Content\n",
        "\n",
        "-   Elements and suvectors, can be assigned to new values, as long as\n",
        "    they have the right dimensions."
      ],
      "id": "d237153f-1838-4f11-9766-8f62ea8d3b71"
    },
    {
      "cell_type": "code",
      "execution_count": 23,
      "metadata": {},
      "outputs": [],
      "source": [
        "V = np.array([1., 1., 2., 4., 5., 8., 13.])\n",
        "V[3] = 3.0\n",
        "V"
      ],
      "id": "3ed94932"
    },
    {
      "cell_type": "code",
      "execution_count": 24,
      "metadata": {},
      "outputs": [],
      "source": [
        "V = np.array([1., 1., 2., 4., 5., 8., 13.])\n",
        "# V[1:4] = [1,2,3,4] # this doesn't work\n",
        "V[1:4] = [2,3,4] # this works"
      ],
      "id": "317a73db"
    },
    {
      "cell_type": "markdown",
      "metadata": {},
      "source": [
        "### Subscripting Matrices\n",
        "\n",
        "-   Indexing generalizes to matrices: there are two indices istead of\n",
        "    one: `M[i,j]`\n",
        "-   One can extract a row, or a column (a slice) with `M[i,:]` or\n",
        "    `M[:,i]`\n",
        "-   A submatrix is defining with two intervals: `M[i:j, k:l]` or\n",
        "    `M[i:j, :]`, …"
      ],
      "id": "e403e9c5-cec8-4e64-8f1d-b15f47b349cd"
    },
    {
      "cell_type": "code",
      "execution_count": 25,
      "metadata": {},
      "outputs": [],
      "source": [
        "M = np.array([[1,2,3],[4,5,6],[7,8,9]])\n",
        "M"
      ],
      "id": "db0b44fc"
    },
    {
      "cell_type": "code",
      "execution_count": 26,
      "metadata": {},
      "outputs": [],
      "source": [
        "M[0,1] # access element (1,2)"
      ],
      "id": "7b28a31d"
    },
    {
      "cell_type": "code",
      "execution_count": 27,
      "metadata": {},
      "outputs": [],
      "source": [
        "M[2,:] # third row"
      ],
      "id": "e230f0d9"
    },
    {
      "cell_type": "code",
      "execution_count": 28,
      "metadata": {},
      "outputs": [],
      "source": [
        "M[:,1] # second column     # M[i,1] for any i"
      ],
      "id": "1c3a1a21"
    },
    {
      "cell_type": "code",
      "execution_count": 29,
      "metadata": {},
      "outputs": [],
      "source": [
        "M[1:3, :] # lines from 1 (included) to 3 (excluded) ; all columns"
      ],
      "id": "dce584c6"
    },
    {
      "cell_type": "markdown",
      "metadata": {},
      "source": [
        "### Modifying matrix content"
      ],
      "id": "6697ea6c-7661-441d-ae91-5a39f96d3911"
    },
    {
      "cell_type": "code",
      "execution_count": 30,
      "metadata": {},
      "outputs": [],
      "source": [
        "M = np.array([[1,2,3],[4,5,6],[7,8,9]])\n",
        "M"
      ],
      "id": "b591c641"
    },
    {
      "cell_type": "code",
      "execution_count": 31,
      "metadata": {},
      "outputs": [],
      "source": [
        "M[0,0] = 0\n",
        "M"
      ],
      "id": "34b12dbc"
    },
    {
      "cell_type": "code",
      "execution_count": 32,
      "metadata": {},
      "outputs": [],
      "source": [
        "M[1:3, 1:3] = np.array([[0,1],[1,0]]) # dimensions must match\n",
        "M"
      ],
      "id": "b6c70304"
    },
    {
      "cell_type": "markdown",
      "metadata": {},
      "source": [
        "### Element-wise algebraic operations\n",
        "\n",
        "-   The following algebraic operations are defined on arrays: `+`, `-`,\n",
        "    `*`, `/`, `**`.\n",
        "-   Comparisons operators (`<`,`<=`, `>`, `>=`, `==`) are defined are\n",
        "    return boolean arrays.\n",
        "-   They operate element by element."
      ],
      "id": "c735606c-bae7-487e-895a-37cd701793f3"
    },
    {
      "cell_type": "code",
      "execution_count": 33,
      "metadata": {},
      "outputs": [],
      "source": [
        "A = np.array([1,2,3,4])\n",
        "B = np.array([4,3,2,1])\n",
        "A+B"
      ],
      "id": "59388693"
    },
    {
      "cell_type": "code",
      "execution_count": 34,
      "metadata": {},
      "outputs": [],
      "source": [
        "A*B    # note the difference with A@B"
      ],
      "id": "d3e14a74"
    },
    {
      "cell_type": "code",
      "execution_count": 35,
      "metadata": {},
      "outputs": [],
      "source": [
        "A>B"
      ],
      "id": "9657780f"
    },
    {
      "cell_type": "markdown",
      "metadata": {},
      "source": [
        "At first, one might be surprised that the default multiplication\n",
        "operator is element-wise multiplication rather than matrix\n",
        "multiplication.\n",
        "\n",
        "There are at least two good reasons:\n",
        "\n",
        "-   consistency: all operators can be broadcasted with the exact same\n",
        "    rules (like `*`, `+`, `>`)\n",
        "-   for many workflows, elementwise operations are more common than\n",
        "    matrix multiplication\n",
        "\n",
        "### Element-wise logical operations\n",
        "\n",
        "-   The following logical operations are defined element-wise on arrays:\n",
        "    `&` (and), `|` (or), `~` (not)"
      ],
      "id": "966b3397-0e85-4d32-8fca-50d946adea3a"
    },
    {
      "cell_type": "code",
      "execution_count": 36,
      "metadata": {},
      "outputs": [],
      "source": [
        "A = np.array([False, False, True, True])\n",
        "B = np.array([False, True, False, True])"
      ],
      "id": "fa31ceca"
    },
    {
      "cell_type": "code",
      "execution_count": 37,
      "metadata": {},
      "outputs": [],
      "source": [
        "~A"
      ],
      "id": "d80985cd"
    },
    {
      "cell_type": "code",
      "execution_count": 38,
      "metadata": {},
      "outputs": [],
      "source": [
        "A | B"
      ],
      "id": "62aece4f"
    },
    {
      "cell_type": "code",
      "execution_count": 39,
      "metadata": {},
      "outputs": [],
      "source": [
        "A & B"
      ],
      "id": "edc90f51"
    },
    {
      "cell_type": "markdown",
      "metadata": {},
      "source": [
        "### Vector indexing\n",
        "\n",
        "-   Arrays can be indexed by boolean arrays instead of ranges.\n",
        "-   Only elements corresponding to true are retrieved"
      ],
      "id": "3f28f601-5ed6-45f6-808e-cb904e106494"
    },
    {
      "cell_type": "code",
      "execution_count": 40,
      "metadata": {},
      "outputs": [],
      "source": [
        "x = np.linspace(0,1,6)\n",
        "x"
      ],
      "id": "2a92f50a"
    },
    {
      "cell_type": "code",
      "execution_count": 41,
      "metadata": {},
      "outputs": [],
      "source": [
        "# indexes such that (x^2) > (x/2)\n",
        "x**2 > (x/2)"
      ],
      "id": "74a7ff20"
    },
    {
      "cell_type": "code",
      "execution_count": 42,
      "metadata": {},
      "outputs": [],
      "source": [
        "cond = x**2 > (x/2)\n",
        "x[ cond ] "
      ],
      "id": "23731c37"
    },
    {
      "cell_type": "markdown",
      "metadata": {},
      "source": [
        "### Going further: broadcasting rules\n",
        "\n",
        "-   Numpy library has defined very consistent conventions, to match\n",
        "    inconsistent dimensions.\n",
        "-   Ignore them for now…"
      ],
      "id": "df79bf0e-1c59-4ffe-9de9-ab57a755afc4"
    },
    {
      "cell_type": "code",
      "execution_count": 43,
      "metadata": {},
      "outputs": [],
      "source": [
        "M = np.eye(4)\n",
        "M"
      ],
      "id": "e2f2aa5a"
    },
    {
      "cell_type": "code",
      "execution_count": 44,
      "metadata": {},
      "outputs": [],
      "source": [
        "M[2:4, 2:4] = 0.5 # float\n",
        "M"
      ],
      "id": "8dba9019"
    },
    {
      "cell_type": "code",
      "execution_count": 45,
      "metadata": {},
      "outputs": [],
      "source": [
        "M[:,:2] = np.array([[0.1, 0.2]])  # 1x2 array\n",
        "M"
      ],
      "id": "7c57ba05"
    },
    {
      "cell_type": "markdown",
      "metadata": {},
      "source": [
        "### Going Further\n",
        "\n",
        "-   Other useful functions (easy to google):\n",
        "    -   `np.arange()` regularly spaced integers\n",
        "    -   `np.where()` find elements in\n",
        "    -   …\n",
        "\n",
        "## Matplotlib\n",
        "\n",
        "### Matplotlib\n",
        "\n",
        "-   `matplotlib` is …\n",
        "-   object oriented api optional Matlab-like syntax\n",
        "-   main function is `plt.plot(x,y)` where `x` and `y` are vectors (or\n",
        "    iterables like lists)\n",
        "    -   **lots** of optional arguments"
      ],
      "id": "b27e9dd1-1e9d-4a5e-b8b6-64097ad6b044"
    },
    {
      "cell_type": "code",
      "execution_count": 46,
      "metadata": {},
      "outputs": [],
      "source": [
        "from matplotlib import pyplot as plt"
      ],
      "id": "15154f20"
    },
    {
      "cell_type": "markdown",
      "metadata": {},
      "source": [
        "### Example"
      ],
      "id": "d269e777-2cd0-449e-bed6-a4205467cfb8"
    },
    {
      "cell_type": "code",
      "execution_count": 47,
      "metadata": {},
      "outputs": [],
      "source": [
        "x = np.linspace(-1,1,6)"
      ],
      "id": "30a59885"
    },
    {
      "cell_type": "code",
      "execution_count": 48,
      "metadata": {},
      "outputs": [],
      "source": [
        "y = np.sin(x)/x # sinus cardinal"
      ],
      "id": "fee2bb1e"
    },
    {
      "cell_type": "code",
      "execution_count": 49,
      "metadata": {},
      "outputs": [],
      "source": [
        "plt.plot(x,y,'o')\n",
        "plt.plot(x,y)"
      ],
      "id": "027d964b"
    },
    {
      "cell_type": "markdown",
      "metadata": {},
      "source": [
        "### Example (2)"
      ],
      "id": "20d98456-4d82-441b-a616-1051a068cc18"
    },
    {
      "cell_type": "code",
      "execution_count": 50,
      "metadata": {},
      "outputs": [],
      "source": [
        "x = np.linspace(-5,5,100)\n",
        "\n",
        "fig = plt.figure() # keep a figure open to draw on it\n",
        "for k in range(1,5):\n",
        "    y = np.sin(x*k)/(x*k)\n",
        "    plt.plot(x, y, label=f\"$sinc({k} x)$\") # label each line\n",
        "plt.plot(x, x*0, color='black', linestyle='--')\n",
        "plt.grid(True) # add a grid\n",
        "plt.title(\"Looking for the right hat.\")\n",
        "plt.legend(loc=\"upper right\")"
      ],
      "id": "e6d4ce3b"
    },
    {
      "cell_type": "markdown",
      "metadata": {},
      "source": [
        "### Example (3)"
      ],
      "id": "615a12c5-c964-4928-a2be-d2dfe710dea1"
    },
    {
      "cell_type": "code",
      "execution_count": 51,
      "metadata": {},
      "outputs": [],
      "source": [
        "x = np.linspace(-5,5,100)\n",
        "\n",
        "plt.figure()\n",
        "plt.subplot(2,2,1) # create a 2x2 subplot and draw in first quadrant\n",
        "plt.plot(x,x)\n",
        "plt.subplot(2,2,2) # create a 2x2 subplot and draw in second quadrant\n",
        "plt.plot(x,-x)\n",
        "plt.subplot(2,2,3) # create a 2x2 subplot and draw in third quadrant\n",
        "plt.plot(x,-x)\n",
        "plt.subplot(2,2,4) # create a 2x2 subplot and draw in fourth quadrant\n",
        "plt.plot(x,x)\n",
        "\n",
        "plt.tight_layout() # save some space"
      ],
      "id": "0c7095b4"
    },
    {
      "cell_type": "markdown",
      "metadata": {},
      "source": [
        "### Alternatives to matplotlib\n",
        "\n",
        "-   plotly (nice javascript graphs)\n",
        "-   bqplot (native integration with jupyter)\n",
        "-   altair\n",
        "    -   excellent for dataviz/interactivity\n",
        "    -   python wrapper to Vega-lite\n",
        "    -   very efficient to visualize `pandas` data (i.e. a dataframe)"
      ],
      "id": "39eb6ff7-c7ca-478c-901f-e2dc8e742aa5"
    }
  ],
  "nbformat": 4,
  "nbformat_minor": 5,
  "metadata": {
    "kernelspec": {
      "name": "python3",
      "display_name": "Python 3 (ipykernel)",
      "language": "python",
      "path": "/home/pablo/.local/share/jupyter/kernels/python3"
    },
    "language_info": {
      "name": "python",
      "codemirror_mode": {
        "name": "ipython",
        "version": "3"
      },
      "file_extension": ".py",
      "mimetype": "text/x-python",
      "nbconvert_exporter": "python",
      "pygments_lexer": "ipython3",
      "version": "3.11.10"
    }
  }
}