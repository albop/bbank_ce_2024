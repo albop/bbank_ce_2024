{
  "cells": [
    {
      "cell_type": "markdown",
      "metadata": {},
      "source": [
        "# Python: syntax review\n",
        "\n",
        "## Basic Types\n",
        "\n",
        "### numbers"
      ],
      "id": "8dff369e-15d7-4f08-b502-81f766fdcf21"
    },
    {
      "cell_type": "code",
      "execution_count": 1,
      "metadata": {},
      "outputs": [],
      "source": [
        "# integers and floats"
      ],
      "id": "b5174577"
    },
    {
      "cell_type": "code",
      "execution_count": 2,
      "metadata": {},
      "outputs": [],
      "source": [
        "1"
      ],
      "id": "566ca4b4"
    },
    {
      "cell_type": "code",
      "execution_count": 3,
      "metadata": {},
      "outputs": [],
      "source": [
        "1.0"
      ],
      "id": "b2580620"
    },
    {
      "cell_type": "code",
      "execution_count": 4,
      "metadata": {},
      "outputs": [],
      "source": [
        "# conversion with int() and float()\n",
        "float( 1 )"
      ],
      "id": "3f45f94e"
    },
    {
      "cell_type": "code",
      "execution_count": 5,
      "metadata": {},
      "outputs": [],
      "source": [
        "int(2.9) # floor"
      ],
      "id": "0bdf26ea"
    },
    {
      "cell_type": "code",
      "execution_count": 6,
      "metadata": {},
      "outputs": [],
      "source": [
        "# no difference between various types of floats (16 bits, 32 bits, 64 bits, ...)"
      ],
      "id": "4e37cea2"
    },
    {
      "cell_type": "code",
      "execution_count": 7,
      "metadata": {},
      "outputs": [],
      "source": [
        "type( 2.2**50 ) # this doesn't fit in 32 bits"
      ],
      "id": "d74001ba"
    },
    {
      "cell_type": "code",
      "execution_count": 8,
      "metadata": {},
      "outputs": [],
      "source": [
        "# usual operations + - *\n",
        "print( 2 + 3 )\n",
        "print( 9 -6 )\n",
        "print( 3 / 2 )\n",
        "print(2304310958*41324)"
      ],
      "id": "f512d496"
    },
    {
      "cell_type": "code",
      "execution_count": 9,
      "metadata": {},
      "outputs": [],
      "source": [
        "# divisions / and //\n",
        "print(3/4)\n",
        "print(13//4)"
      ],
      "id": "58f04126"
    },
    {
      "cell_type": "code",
      "execution_count": 10,
      "metadata": {},
      "outputs": [],
      "source": [
        "# exponentiation ** (not ^!)\n",
        "# (1.04)^10\n",
        "(1.04)**10"
      ],
      "id": "3fd15c6d"
    },
    {
      "cell_type": "code",
      "execution_count": 11,
      "metadata": {},
      "outputs": [],
      "source": [
        "# comparison operators: >, <, >=, <=, ==\n",
        "\n",
        "print((1.0453432)*(0.96)  > 1.001 )\n",
        "\n",
        "print(1.001 >= 1.001)"
      ],
      "id": "16a1da71"
    },
    {
      "cell_type": "code",
      "execution_count": 12,
      "metadata": {},
      "outputs": [],
      "source": [
        "# comparison operators can be chained:\n",
        "print(0.2<0.4<0.5)\n",
        "print(0.5<=0.4<=0.5) # equivalent to ((0.5<=0.4) and(0.4<=0.5))"
      ],
      "id": "3e710f37"
    },
    {
      "cell_type": "markdown",
      "metadata": {},
      "source": [
        "### special types: boolean and None\n",
        "\n",
        "There are only two booleans: `True` and `False` (note uppercase). `None`\n",
        "is a dummy type, which is used when no other type fits."
      ],
      "id": "16fcbc01-999c-4e6c-bb3d-14c03a8136c2"
    },
    {
      "cell_type": "code",
      "execution_count": 13,
      "metadata": {},
      "outputs": [],
      "source": [
        "print( False )\n",
        "True"
      ],
      "id": "4c712738"
    },
    {
      "cell_type": "code",
      "execution_count": 14,
      "metadata": {},
      "outputs": [],
      "source": [
        "(True, False, None)"
      ],
      "id": "76a59a0d"
    },
    {
      "cell_type": "markdown",
      "metadata": {},
      "source": [
        "Double equal sign tests for equality. Result should always be a boolean."
      ],
      "id": "a11bb3e4-f7c0-4fa5-8fe6-3d9035ec2a30"
    },
    {
      "cell_type": "code",
      "execution_count": 15,
      "metadata": {},
      "outputs": [],
      "source": [
        "True==False"
      ],
      "id": "b594d105"
    },
    {
      "cell_type": "markdown",
      "metadata": {},
      "source": [
        "Logical operators are `not`, `and` and `or`:"
      ],
      "id": "3aba8bc3-c6fe-4e6d-8a95-786137da369b"
    },
    {
      "cell_type": "code",
      "execution_count": 16,
      "metadata": {},
      "outputs": [],
      "source": [
        "(True or False)"
      ],
      "id": "538256cb"
    },
    {
      "cell_type": "code",
      "execution_count": 17,
      "metadata": {},
      "outputs": [],
      "source": [
        "not (True or False)"
      ],
      "id": "d16c4940"
    },
    {
      "cell_type": "code",
      "execution_count": 18,
      "metadata": {},
      "outputs": [],
      "source": [
        "(1.3**1.04 > 1.9) | (1000**1143>1001**1142)"
      ],
      "id": "6e2cf49a"
    },
    {
      "cell_type": "markdown",
      "metadata": {},
      "source": [
        "Operators `or` and `and` can be replaced by `|` and `&` respectively.\n",
        "They are *non-greedy*, that is terms are not evaluated if the result of\n",
        "the comparison is already known."
      ],
      "id": "8e06f5cf-4f95-40b4-9be3-4f659b50f17b"
    },
    {
      "cell_type": "code",
      "execution_count": 19,
      "metadata": {},
      "outputs": [],
      "source": [
        "False and (print(\"Hello\"))"
      ],
      "id": "50dc8784"
    },
    {
      "cell_type": "code",
      "execution_count": 20,
      "metadata": {},
      "outputs": [],
      "source": [
        "print( (print(\"Hello\")) and False )"
      ],
      "id": "54aef66c"
    },
    {
      "cell_type": "markdown",
      "metadata": {},
      "source": [
        "### strings\n",
        "\n",
        "#### definition\n",
        "\n",
        "Strings are defined by enclosing characters either by `'` (single\n",
        "quotes) or `\"` (double quote). Single quotes strings can contain double\n",
        "quotes strings and vice-versa."
      ],
      "id": "3d7077c2-073d-499d-8526-ae42bf697a0d"
    },
    {
      "cell_type": "code",
      "execution_count": 21,
      "metadata": {},
      "outputs": [],
      "source": [
        "\"name\""
      ],
      "id": "1b778e43"
    },
    {
      "cell_type": "code",
      "execution_count": 22,
      "metadata": {},
      "outputs": [],
      "source": [
        "'name'"
      ],
      "id": "bf3b641c"
    },
    {
      "cell_type": "code",
      "execution_count": 23,
      "metadata": {},
      "outputs": [],
      "source": [
        "'I say \"hello\"'"
      ],
      "id": "489534a3"
    },
    {
      "cell_type": "code",
      "execution_count": 24,
      "metadata": {},
      "outputs": [],
      "source": [
        "\"You can 'quote' me\""
      ],
      "id": "69ba3b11"
    },
    {
      "cell_type": "markdown",
      "metadata": {},
      "source": [
        "Strings spanning over sever lines can be defined with triple quotes\n",
        "(single or double)."
      ],
      "id": "fe5f5107-a8d3-467b-882a-5dd95383127a"
    },
    {
      "cell_type": "code",
      "execution_count": 25,
      "metadata": {},
      "outputs": [],
      "source": [
        "s = \"\"\"¿Qué es la vida? Un frenesí.\n",
        "¿Qué es la vida? Una ilusión,\n",
        "una sombra, una ficción,\n",
        "y el mayor bien es pequeño;\n",
        "que toda la vida es sueño,\n",
        "y los sueños, sueños son.\n",
        "\"\"\""
      ],
      "id": "65303dbf"
    },
    {
      "cell_type": "markdown",
      "metadata": {},
      "source": [
        "It is also possible to use the newline character `\\n`."
      ],
      "id": "a380d45c-a37e-450d-b1db-a69f6d73d73c"
    },
    {
      "cell_type": "code",
      "execution_count": 26,
      "metadata": {},
      "outputs": [],
      "source": [
        "\"La vida es sueño,\\ny los sueños, sueños son.\""
      ],
      "id": "ce18a9b5"
    },
    {
      "cell_type": "code",
      "execution_count": 27,
      "metadata": {},
      "outputs": [],
      "source": [
        "print(\"La vida es sueño,\\ny los sueños, sueños son.\")"
      ],
      "id": "b5fde5b7"
    },
    {
      "cell_type": "markdown",
      "metadata": {},
      "source": [
        "#### character sets\n",
        "\n",
        "Strings can contain any unicode character:"
      ],
      "id": "f1bfe72b-e0f7-4148-97bc-abd54df26040"
    },
    {
      "cell_type": "code",
      "execution_count": 28,
      "metadata": {},
      "outputs": [],
      "source": [
        "s = \"🎻⽻༽\""
      ],
      "id": "2353d2fb"
    },
    {
      "cell_type": "markdown",
      "metadata": {},
      "source": [
        "*Refresher*: ASCII vs unicode\n",
        "\n",
        "ASCII (or ASCII-US) is an old standard which codes a character with 7\n",
        "bits (or 8 bits for extended ASCII). This allows to code 128 different\n",
        "characters (256 for ex-ASCII).\n",
        "\n",
        "Only a subset of these characters can be printed regularly."
      ],
      "id": "5d657de0-f1d3-40c5-abd5-c578e3ae2d8f"
    },
    {
      "cell_type": "code",
      "execution_count": 29,
      "metadata": {},
      "outputs": [],
      "source": [
        "chr(44)"
      ],
      "id": "efcd397a"
    },
    {
      "cell_type": "code",
      "execution_count": 30,
      "metadata": {},
      "outputs": [],
      "source": [
        "# ASCII: \n",
        "for i in range(32,127):\n",
        "    print( chr(i), end=' ')"
      ],
      "id": "afdcc7cb"
    },
    {
      "cell_type": "markdown",
      "metadata": {},
      "source": [
        "The other characters include *delete*, *newline* and *carriage return*\n",
        "among others."
      ],
      "id": "4fa4efb1-181e-45a3-a2d5-d271787835f7"
    },
    {
      "cell_type": "code",
      "execution_count": 31,
      "metadata": {},
      "outputs": [],
      "source": [
        "s = 'This is\\na\\nmultiline string.' # note the newline character '\\n'"
      ],
      "id": "b7f397f1"
    },
    {
      "cell_type": "code",
      "execution_count": 32,
      "metadata": {},
      "outputs": [],
      "source": [
        "# print(s)\n",
        "len(s)"
      ],
      "id": "dc20dec3"
    },
    {
      "cell_type": "markdown",
      "metadata": {},
      "source": [
        "Some antiquated platforms still use newline + carriage return at the end\n",
        "of each line. This is absolutely not required and causes\n",
        "incompatibilities."
      ],
      "id": "de44916e-66d1-4e31-867e-64494984fc9d"
    },
    {
      "cell_type": "code",
      "execution_count": 33,
      "metadata": {},
      "outputs": [],
      "source": [
        "s2 = 'This is\\n\\ra\\n\\rmultiline string.' # note the newline character '\\n' and carriager return '\\r'"
      ],
      "id": "a9332351"
    },
    {
      "cell_type": "code",
      "execution_count": 34,
      "metadata": {},
      "outputs": [],
      "source": [
        "print(s2)\n",
        "print(len(s2))"
      ],
      "id": "4ed6a880"
    },
    {
      "cell_type": "markdown",
      "metadata": {},
      "source": [
        "Unicode contains a repertoire of over 137,000 characters with all ASCII\n",
        "characters as subcases\n",
        "\n",
        "To type: copy/paste, ctrl+shift+hexadecimal, latex + tab\n",
        "\n",
        "Variable names aka identifiers can contain unicode characters with some\n",
        "restrictions: - they cannot start with a digit - they can’t contain\n",
        "special variables (‘!,#,@,%,\\$’ and other unicode specials ???) - they\n",
        "can contain underscore\n",
        "\n",
        "#### operations\n",
        "\n",
        "concatenation"
      ],
      "id": "ba417cf4-518e-4dac-87b7-018e8cc3de93"
    },
    {
      "cell_type": "code",
      "execution_count": 35,
      "metadata": {},
      "outputs": [],
      "source": [
        "'abc' + 'def'"
      ],
      "id": "3a4b03fa"
    },
    {
      "cell_type": "code",
      "execution_count": 36,
      "metadata": {},
      "outputs": [],
      "source": [
        "'abc'*3"
      ],
      "id": "f551fe5d"
    },
    {
      "cell_type": "code",
      "execution_count": 37,
      "metadata": {},
      "outputs": [],
      "source": [
        "'abc' + 'abc' + 'abc'"
      ],
      "id": "f9bfd97a"
    },
    {
      "cell_type": "markdown",
      "metadata": {},
      "source": [
        "#### substrings"
      ],
      "id": "41b85ba5-7e92-43d7-aa08-4dff2830c7bb"
    },
    {
      "cell_type": "code",
      "execution_count": 38,
      "metadata": {},
      "outputs": [],
      "source": [
        "# strings can be accessed as arrays (0 based indexing)\n",
        "s = \"a b c\"\n",
        "s[0]"
      ],
      "id": "70dc767d"
    },
    {
      "cell_type": "code",
      "execution_count": 39,
      "metadata": {},
      "outputs": [],
      "source": [
        "# slice notation (  [min,max[ )\n",
        "s = \"a b c d\"\n",
        "s[2:5] # 0-based; 2 included, 5 excluded"
      ],
      "id": "f9dbc736"
    },
    {
      "cell_type": "code",
      "execution_count": 40,
      "metadata": {},
      "outputs": [],
      "source": [
        "# substrings are easy to check\n",
        "\"a\" in s"
      ],
      "id": "e12fe0ac"
    },
    {
      "cell_type": "code",
      "execution_count": 41,
      "metadata": {},
      "outputs": [],
      "source": [
        "\"b c\" in \"a b c d\""
      ],
      "id": "53681c3c"
    },
    {
      "cell_type": "markdown",
      "metadata": {},
      "source": [
        "It is impossible to modify a substring."
      ],
      "id": "4e02a1ca-60c4-48fb-b144-4a2ea2356df0"
    },
    {
      "cell_type": "code",
      "execution_count": 42,
      "metadata": {},
      "outputs": [],
      "source": [
        "# but are immutable\n",
        "s = \"a b c\"\n",
        "#s[1] = 0 error"
      ],
      "id": "a1c35490"
    },
    {
      "cell_type": "markdown",
      "metadata": {},
      "source": [
        "Instead, one can replace a substring:"
      ],
      "id": "5614cf33-8748-4c51-a5c5-bdb98c7713a1"
    },
    {
      "cell_type": "code",
      "execution_count": 43,
      "metadata": {},
      "outputs": [],
      "source": [
        "s"
      ],
      "id": "72c9f486"
    },
    {
      "cell_type": "code",
      "execution_count": 44,
      "metadata": {},
      "outputs": [],
      "source": [
        "s.replace(' ', '🎻')"
      ],
      "id": "dadcb6e3"
    },
    {
      "cell_type": "markdown",
      "metadata": {},
      "source": [
        "Or use string interpolation"
      ],
      "id": "97605d50-15f2-43bb-998e-622906187667"
    },
    {
      "cell_type": "code",
      "execution_count": 45,
      "metadata": {},
      "outputs": [],
      "source": [
        "# string interpolation (old school)\n",
        "\"ny name is {name}\".format(name=\"nobody\")"
      ],
      "id": "5c1e0b53"
    },
    {
      "cell_type": "code",
      "execution_count": 46,
      "metadata": {},
      "outputs": [],
      "source": [
        "\"calculation took {time}s\".format(time=10000)"
      ],
      "id": "5942b61b"
    },
    {
      "cell_type": "code",
      "execution_count": 47,
      "metadata": {},
      "outputs": [],
      "source": [
        "# number format can be tweaked\n",
        "\"I am {age:.0f} years old\".format(age=5.65)"
      ],
      "id": "bb6308f0"
    },
    {
      "cell_type": "code",
      "execution_count": 48,
      "metadata": {},
      "outputs": [],
      "source": [
        "# formatted strings\n",
        "elapsed = 15914884.300292\n",
        "\n",
        "f\"computations took {elapsed/3600:.2f} hours\""
      ],
      "id": "de66ae17"
    },
    {
      "cell_type": "code",
      "execution_count": 49,
      "metadata": {},
      "outputs": [],
      "source": [
        "name = \"arnaldur\""
      ],
      "id": "71dec4e8"
    },
    {
      "cell_type": "code",
      "execution_count": 50,
      "metadata": {},
      "outputs": [],
      "source": [
        "\"dasnfnaksujhn {name}\".format(name=\"whatever\")"
      ],
      "id": "a4660c62"
    },
    {
      "cell_type": "code",
      "execution_count": 51,
      "metadata": {},
      "outputs": [],
      "source": [
        "# basic string operations: str.split, str.join, etc...\n",
        "# fast regular expressions\n",
        "# more on it, with text processing lesson"
      ],
      "id": "ddd8ef33"
    },
    {
      "cell_type": "code",
      "execution_count": 52,
      "metadata": {},
      "outputs": [],
      "source": [
        "str.split(\"me,you,others,them\",',')"
      ],
      "id": "201237f6"
    },
    {
      "cell_type": "code",
      "execution_count": 53,
      "metadata": {},
      "outputs": [],
      "source": [
        "str.join( \" | \",\n",
        "    str.split(\"me,you,others,them\",','),\n",
        ")"
      ],
      "id": "d5109e00"
    },
    {
      "cell_type": "markdown",
      "metadata": {},
      "source": [
        "#### Escaping characters\n",
        "\n",
        "The example above used several special characters: `\\n` which\n",
        "corresponds to only one ascii character and `{`/`}` which disappears\n",
        "after the string formatting. If one desires to print these characters\n",
        "precisely one needs to escape them using `\\` and `{` `}`."
      ],
      "id": "7184622e-e929-48f4-89de-1fe6b5d751a1"
    },
    {
      "cell_type": "code",
      "execution_count": 54,
      "metadata": {},
      "outputs": [],
      "source": [
        "print(\"This is a one \\\\nline string\")\n",
        "print(\"This string keeps some {{curly}} brackets{}\".format('.'))"
      ],
      "id": "746ade9c"
    },
    {
      "cell_type": "markdown",
      "metadata": {},
      "source": [
        "#### Other operations on strings\n",
        "\n",
        "(check help(str) or help?)\n",
        "\n",
        "-   len() : length\n",
        "-   strip() : removes characters at the ends\n",
        "-   split() : split strings into several substrings separated by\n",
        "    separator\n",
        "-   join() : opposite of split"
      ],
      "id": "7156020c-1771-40ca-8fe6-bb4e6fccd646"
    },
    {
      "cell_type": "code",
      "execution_count": 55,
      "metadata": {},
      "outputs": [],
      "source": [
        "'others,'"
      ],
      "id": "500b783a"
    },
    {
      "cell_type": "code",
      "execution_count": 56,
      "metadata": {},
      "outputs": [],
      "source": [
        "',me,others,'.strip(',')"
      ],
      "id": "42b9f87b"
    },
    {
      "cell_type": "code",
      "execution_count": 57,
      "metadata": {},
      "outputs": [],
      "source": [
        "s.count(',')"
      ],
      "id": "950491ca"
    },
    {
      "cell_type": "code",
      "execution_count": 58,
      "metadata": {},
      "outputs": [],
      "source": [
        "help(str)"
      ],
      "id": "05c6308c"
    },
    {
      "cell_type": "markdown",
      "metadata": {},
      "source": [
        "## Assignment\n",
        "\n",
        "Any object can be reused by assigning an identifier to it. This is done\n",
        "with assignment operator `=`."
      ],
      "id": "b8e9fe91-59c3-4a5b-8d2e-1c3391b59125"
    },
    {
      "cell_type": "code",
      "execution_count": 59,
      "metadata": {},
      "outputs": [],
      "source": [
        "a = 3\n",
        "a"
      ],
      "id": "2ce79d0a"
    },
    {
      "cell_type": "markdown",
      "metadata": {},
      "source": [
        "Note that assignment operator `=` is different from comparison operator\n",
        "`==`. Comparison operator is always True or False, while assignment\n",
        "operator has no value."
      ],
      "id": "c6fae833-4073-4bab-8957-bec91ebfa3c3"
    },
    {
      "cell_type": "code",
      "execution_count": 60,
      "metadata": {},
      "outputs": [],
      "source": [
        "(2==2) == True"
      ],
      "id": "70fa8c30"
    },
    {
      "cell_type": "markdown",
      "metadata": {},
      "source": [
        "## Containers\n",
        "\n",
        "Any object created in Python is identified by a unique `id`. One can\n",
        "think of it approximately as its reference. Object collections, contain\n",
        "arbitrary other python objects, that is they contain references to them."
      ],
      "id": "073d6df9-4302-4406-9351-776b4d9ac479"
    },
    {
      "cell_type": "code",
      "execution_count": 61,
      "metadata": {},
      "outputs": [],
      "source": [
        "id(s)"
      ],
      "id": "5bb9ab49"
    },
    {
      "cell_type": "markdown",
      "metadata": {},
      "source": [
        "### tuples\n",
        "\n",
        "#### construction"
      ],
      "id": "46f1b561-54bb-4c12-9fa4-f522822bc188"
    },
    {
      "cell_type": "code",
      "execution_count": 62,
      "metadata": {},
      "outputs": [],
      "source": [
        "(1,2,\"a\" )"
      ],
      "id": "f0ff4381"
    },
    {
      "cell_type": "markdown",
      "metadata": {},
      "source": [
        "Since tuples are immutable, two identical tuples, will always contain\n",
        "the same data."
      ],
      "id": "8a4f5756-57e9-4cec-a357-ed4031faa042"
    },
    {
      "cell_type": "code",
      "execution_count": 63,
      "metadata": {},
      "outputs": [],
      "source": [
        "t1  = (2,23)\n",
        "t2  = (2,23)"
      ],
      "id": "f29fc860"
    },
    {
      "cell_type": "code",
      "execution_count": 64,
      "metadata": {},
      "outputs": [],
      "source": [
        "# can contain any data\n",
        "t = (1,2,3,4,5,6)\n",
        "t1 = (t, \"a\", (1,2))\n",
        "t2 = (0,)  # note trailing coma for one element tuple\n",
        "t3 = (t, \"a\", (1,2))"
      ],
      "id": "1bea0247"
    },
    {
      "cell_type": "code",
      "execution_count": 65,
      "metadata": {},
      "outputs": [],
      "source": [
        "t[0] = 78"
      ],
      "id": "9e97eba0"
    },
    {
      "cell_type": "markdown",
      "metadata": {},
      "source": [
        "Since tuples never change, they can be compared by hash values (if the\n",
        "data they hold can be hashed). Two tuples are identical if they contain\n",
        "the same data.\n",
        "\n",
        "Remark: hash function is any function that can be used to map data of\n",
        "arbitrary size to data of a fixed size. It is such that the probability\n",
        "of two data points of having the same hash is very small even if they\n",
        "are close to each other."
      ],
      "id": "e1c8ca75-5ee2-49fc-b82c-87250ea42d86"
    },
    {
      "cell_type": "code",
      "execution_count": 66,
      "metadata": {},
      "outputs": [],
      "source": [
        "t3 == t1"
      ],
      "id": "e4f7602a"
    },
    {
      "cell_type": "code",
      "execution_count": 67,
      "metadata": {},
      "outputs": [],
      "source": [
        "print(hash(t3))\n",
        "print(hash(t1))"
      ],
      "id": "b83aa9b5"
    },
    {
      "cell_type": "code",
      "execution_count": 68,
      "metadata": {},
      "outputs": [],
      "source": [
        "id(t3), id(t1)"
      ],
      "id": "ef4d6c61"
    },
    {
      "cell_type": "markdown",
      "metadata": {},
      "source": [
        "#### access elements"
      ],
      "id": "6e4ba0dc-abf6-4e9f-83fe-43b18c60a2aa"
    },
    {
      "cell_type": "code",
      "execution_count": 69,
      "metadata": {},
      "outputs": [],
      "source": [
        "# elements are accessed with brackets (0-based)\n",
        "t[0]"
      ],
      "id": "99241007"
    },
    {
      "cell_type": "code",
      "execution_count": 70,
      "metadata": {},
      "outputs": [],
      "source": [
        "# slice notation works too (  [min,max[ )\n",
        "t[1:3]"
      ],
      "id": "c22ad334"
    },
    {
      "cell_type": "code",
      "execution_count": 71,
      "metadata": {},
      "outputs": [],
      "source": [
        "# repeat with *\n",
        "(3,2)*5"
      ],
      "id": "da6eec96"
    },
    {
      "cell_type": "code",
      "execution_count": 72,
      "metadata": {},
      "outputs": [],
      "source": [
        "(0)*5"
      ],
      "id": "1290df6e"
    },
    {
      "cell_type": "code",
      "execution_count": 73,
      "metadata": {},
      "outputs": [],
      "source": [
        "(0,)*5"
      ],
      "id": "19905301"
    },
    {
      "cell_type": "code",
      "execution_count": 74,
      "metadata": {},
      "outputs": [],
      "source": [
        "t2*5"
      ],
      "id": "9aad0627"
    },
    {
      "cell_type": "code",
      "execution_count": 75,
      "metadata": {},
      "outputs": [],
      "source": [
        "# concatenate with +\n",
        "t+t1+t2"
      ],
      "id": "7cbbb3c4"
    },
    {
      "cell_type": "code",
      "execution_count": 76,
      "metadata": {},
      "outputs": [],
      "source": [
        "# test for membership\n",
        "\n",
        "(1 in t)"
      ],
      "id": "b6cca2f8"
    },
    {
      "cell_type": "markdown",
      "metadata": {},
      "source": [
        "### lists\n",
        "\n",
        "lists are enclosed by brackets are *mutable ordered collections of\n",
        "elements*"
      ],
      "id": "bbae6dbe-7f8c-4c55-b63a-5a19feb3b926"
    },
    {
      "cell_type": "code",
      "execution_count": 77,
      "metadata": {},
      "outputs": [],
      "source": [
        "l = [1,\"a\",4,5]"
      ],
      "id": "312cacd9"
    },
    {
      "cell_type": "code",
      "execution_count": 78,
      "metadata": {},
      "outputs": [],
      "source": [
        "l[1]"
      ],
      "id": "65f65c1e"
    },
    {
      "cell_type": "code",
      "execution_count": 79,
      "metadata": {},
      "outputs": [],
      "source": [
        "l[1:] # if we omit the upper-bound it goes until the last element"
      ],
      "id": "c21da3dc"
    },
    {
      "cell_type": "code",
      "execution_count": 80,
      "metadata": {},
      "outputs": [],
      "source": [
        "l[:2]"
      ],
      "id": "2b8ffedd"
    },
    {
      "cell_type": "code",
      "execution_count": 81,
      "metadata": {},
      "outputs": [],
      "source": [
        "# lists are concatenated with +\n",
        "l[:2] + l[2:] == l"
      ],
      "id": "8ab5ebea"
    },
    {
      "cell_type": "code",
      "execution_count": 82,
      "metadata": {},
      "outputs": [],
      "source": [
        "# test for membership\n",
        "(5 in l)"
      ],
      "id": "473f7333"
    },
    {
      "cell_type": "code",
      "execution_count": 83,
      "metadata": {},
      "outputs": [],
      "source": [
        "# lists can be extended inplace\n",
        "ll = [1,2,3]\n",
        "ll.extend([4,5]) # several elements\n",
        "ll.append(6)\n",
        "ll"
      ],
      "id": "912fb980"
    },
    {
      "cell_type": "markdown",
      "metadata": {},
      "source": [
        "Since lists are mutable, it makes no sense to compute them by hash value\n",
        "(or the hash needs to be recomputed every time the values change)."
      ],
      "id": "1eb5bb40-bc10-4cc9-9125-f6487afcb8ba"
    },
    {
      "cell_type": "code",
      "execution_count": 84,
      "metadata": {},
      "outputs": [],
      "source": [
        "hash(ll)"
      ],
      "id": "07e0bd3c"
    },
    {
      "cell_type": "markdown",
      "metadata": {},
      "source": [
        "Sorted lists can be created with sorted (if elements can be ranked)"
      ],
      "id": "d9fd0986-ebe8-4653-bba0-e6e1df1190ff"
    },
    {
      "cell_type": "code",
      "execution_count": 85,
      "metadata": {},
      "outputs": [],
      "source": [
        "ll = [4,3,5]"
      ],
      "id": "3a808fa2"
    },
    {
      "cell_type": "code",
      "execution_count": 86,
      "metadata": {},
      "outputs": [],
      "source": [
        "sorted(ll)"
      ],
      "id": "a446996d"
    },
    {
      "cell_type": "code",
      "execution_count": 87,
      "metadata": {},
      "outputs": [],
      "source": [
        "ll"
      ],
      "id": "87e3d069"
    },
    {
      "cell_type": "markdown",
      "metadata": {},
      "source": [
        "It is also possible to sort in place."
      ],
      "id": "fb6b5d88-9bcc-45d3-8539-ae146befec87"
    },
    {
      "cell_type": "code",
      "execution_count": 88,
      "metadata": {},
      "outputs": [],
      "source": [
        "ll.sort()\n",
        "ll"
      ],
      "id": "9e2ffa6e"
    },
    {
      "cell_type": "code",
      "execution_count": 89,
      "metadata": {},
      "outputs": [],
      "source": [
        "sorted(ll) # creates a new list\n",
        "ll.sort()  # does it in place"
      ],
      "id": "cef112ec"
    },
    {
      "cell_type": "code",
      "execution_count": 90,
      "metadata": {},
      "outputs": [],
      "source": [
        "# in python internals:    ll.sort() equivalent sort(ll)"
      ],
      "id": "bccf6999"
    },
    {
      "cell_type": "markdown",
      "metadata": {},
      "source": [
        "### set\n",
        "\n",
        "Sets are unordered collections of unique elements."
      ],
      "id": "0736b652-5f1d-4e76-9c42-4d9ef9af6e93"
    },
    {
      "cell_type": "code",
      "execution_count": 91,
      "metadata": {},
      "outputs": [],
      "source": [
        "s1 = set([1,2,3,3,4,3,4])\n",
        "s2 = set([3,4,4,6,8])\n",
        "print(s1, s2)\n",
        "print(s1.intersection(s2))"
      ],
      "id": "61ae907a"
    },
    {
      "cell_type": "code",
      "execution_count": 92,
      "metadata": {},
      "outputs": [],
      "source": [
        "{3,4} == {4,3}"
      ],
      "id": "23de6474"
    },
    {
      "cell_type": "markdown",
      "metadata": {},
      "source": [
        "### dictionaries\n",
        "\n",
        "Dictionaries are ordered associative collections of elements. They store\n",
        "values associated to keys."
      ],
      "id": "6506a511-2989-4502-acbf-bfeacf5ad496"
    },
    {
      "cell_type": "code",
      "execution_count": 93,
      "metadata": {},
      "outputs": [],
      "source": [
        "# construction with curly brackets\n",
        "d = {'a':0, 'b':1}"
      ],
      "id": "e3dbfa63"
    },
    {
      "cell_type": "code",
      "execution_count": 94,
      "metadata": {},
      "outputs": [],
      "source": [
        "d"
      ],
      "id": "73a9c1d3"
    },
    {
      "cell_type": "code",
      "execution_count": 95,
      "metadata": {},
      "outputs": [],
      "source": [
        "# values can be recovered by indexing the dict with a key\n",
        "d['b']"
      ],
      "id": "af2fc0ac"
    },
    {
      "cell_type": "code",
      "execution_count": 96,
      "metadata": {},
      "outputs": [],
      "source": [
        "d = dict()\n",
        "# d['a'] = 42\n",
        "# d['b'] = 78\n",
        "d"
      ],
      "id": "35f1fdd0"
    },
    {
      "cell_type": "code",
      "execution_count": 97,
      "metadata": {},
      "outputs": [],
      "source": [
        "d['a'] = 42"
      ],
      "id": "9470c825"
    },
    {
      "cell_type": "code",
      "execution_count": 98,
      "metadata": {},
      "outputs": [],
      "source": [
        "d['b']"
      ],
      "id": "30e7187e"
    },
    {
      "cell_type": "markdown",
      "metadata": {},
      "source": [
        "Keys can be any hashable value:"
      ],
      "id": "1e02b4c3-dd87-4d0a-b2f4-c16263925c40"
    },
    {
      "cell_type": "code",
      "execution_count": 99,
      "metadata": {},
      "outputs": [],
      "source": [
        "d[('a','b')] = 100"
      ],
      "id": "1b0f049b"
    },
    {
      "cell_type": "code",
      "execution_count": 100,
      "metadata": {},
      "outputs": [],
      "source": [
        "d[ ['a','b'] ] = 100 # that won't work"
      ],
      "id": "56ff30ca"
    },
    {
      "cell_type": "markdown",
      "metadata": {},
      "source": [
        "Note: until python 3.5 dictionaries were not ordered. Now the are\n",
        "guaranteed to keep the insertion order\n",
        "\n",
        "## Control flows\n",
        "\n",
        "### Conditional blocks\n",
        "\n",
        "Conditional blocks are preceeded by `if` and followed by an indented\n",
        "block. Note that it is advised to indent a block by a fixed set of space\n",
        "(usually 4) rather than use tabs."
      ],
      "id": "6e3ded8e-2d45-4d30-bd8c-23217ed38b65"
    },
    {
      "cell_type": "code",
      "execution_count": 101,
      "metadata": {},
      "outputs": [],
      "source": [
        "if 'sun'>'moon':\n",
        "    print('warm')"
      ],
      "id": "7ac9b359"
    },
    {
      "cell_type": "markdown",
      "metadata": {},
      "source": [
        "They can also be followed by elif and else statements:"
      ],
      "id": "db21ff02-ac36-4953-907d-6d86ca9473d0"
    },
    {
      "cell_type": "code",
      "execution_count": 102,
      "metadata": {},
      "outputs": [],
      "source": [
        "x = 0.5\n",
        "if (x<0):\n",
        "    y = 0.0\n",
        "elif (x<1.0):\n",
        "    y = x\n",
        "else:\n",
        "    y = 1+(x-1)*0.5"
      ],
      "id": "ef66a13b"
    },
    {
      "cell_type": "markdown",
      "metadata": {},
      "source": [
        "Remark that in the conditions, any variable can be used. The following\n",
        "evaluate to False: - 0 - empty collection"
      ],
      "id": "78a0938e-0379-4929-937c-b7cfd21e9b45"
    },
    {
      "cell_type": "code",
      "execution_count": 103,
      "metadata": {},
      "outputs": [],
      "source": [
        "if 0: print(\"I won't print this.\")\n",
        "if 1: print(\"Maybe I will.\")\n",
        "if {}: print(\"Sir, your dictionary is empty\")\n",
        "if \"\": print(\"Sir, there is no string to speak of.\")"
      ],
      "id": "c1ac5030"
    },
    {
      "cell_type": "markdown",
      "metadata": {},
      "source": [
        "### While\n",
        "\n",
        "The content of the while loop is repeated as long as a certain condition\n",
        "is met. Don’t forget to change that condition or the loop might run\n",
        "forever."
      ],
      "id": "710ec3b5-dd81-4544-9cd2-887c93477d8e"
    },
    {
      "cell_type": "code",
      "execution_count": 104,
      "metadata": {},
      "outputs": [],
      "source": [
        "point_made = False\n",
        "i = 0\n",
        "while not point_made:\n",
        "    print(\"A fanatic is one who can't change his mind and won't change the subject.\")\n",
        "    i += 1 # this is a quasi-synonym of i = i + 1\n",
        "    if i>=20:\n",
        "          point_made = True"
      ],
      "id": "3d0a3b45"
    },
    {
      "cell_type": "markdown",
      "metadata": {},
      "source": [
        "### Loops"
      ],
      "id": "7c9b9264-6754-4a67-9fad-0e26c4c53b9d"
    },
    {
      "cell_type": "code",
      "execution_count": 105,
      "metadata": {},
      "outputs": [],
      "source": [
        "# while loops\n",
        "i = 0\n",
        "while i<=10:\n",
        "    print(str(i)+\" \",  end='')\n",
        "    i+=1"
      ],
      "id": "35e9bcb6"
    },
    {
      "cell_type": "code",
      "execution_count": 106,
      "metadata": {},
      "outputs": [],
      "source": [
        "# for loop\n",
        "for i in [0,1,2,3,4,5,6,7,8,9,10]:\n",
        "    print(str(i)+\" \",  end='')"
      ],
      "id": "86694101"
    },
    {
      "cell_type": "code",
      "execution_count": 107,
      "metadata": {},
      "outputs": [],
      "source": [
        "# this works for any kind of iterable\n",
        "# for loop\n",
        "for i in (0,1,2,3,4,5,6,7,8,9,10):\n",
        "    print(str(i)+\" \",  end='')"
      ],
      "id": "33a07414"
    },
    {
      "cell_type": "code",
      "execution_count": 108,
      "metadata": {},
      "outputs": [],
      "source": [
        "# including range generator (note last value)\n",
        "for i in range(11): \n",
        "    print(str(i)+\" \",  end='')"
      ],
      "id": "c8366315"
    },
    {
      "cell_type": "code",
      "execution_count": 109,
      "metadata": {},
      "outputs": [],
      "source": [
        "range(11)"
      ],
      "id": "12ff54de"
    },
    {
      "cell_type": "code",
      "execution_count": 110,
      "metadata": {},
      "outputs": [],
      "source": [
        "# one can also enumerate elements\n",
        "countries = (\"france\", \"uk\", \"germany\")\n",
        "for i,c in enumerate(countries): \n",
        "    print(f\"{i}: {c}\")"
      ],
      "id": "bf4d8c9e"
    },
    {
      "cell_type": "code",
      "execution_count": 111,
      "metadata": {},
      "outputs": [],
      "source": [
        "s = set(c)"
      ],
      "id": "c05913d4"
    },
    {
      "cell_type": "code",
      "execution_count": 112,
      "metadata": {},
      "outputs": [],
      "source": [
        "# conditional blocks are constructed with if, elif, else\n",
        "for i,c in enumerate(countries):\n",
        "    if len(set(c).intersection(set(\"brexit\"))):\n",
        "        print(c)\n",
        "    else:\n",
        "        print(c + \" 😢\")"
      ],
      "id": "59c54846"
    },
    {
      "cell_type": "markdown",
      "metadata": {},
      "source": [
        "It is possible to iterate over any iterable. This is true for a list or\n",
        "a generator:"
      ],
      "id": "3edc7225-e6e8-4b2c-ba1b-108266a04a43"
    },
    {
      "cell_type": "code",
      "execution_count": 113,
      "metadata": {},
      "outputs": [],
      "source": [
        "for i in range(10): # range(10) is a generator\n",
        "    print(i)"
      ],
      "id": "a6e1a437"
    },
    {
      "cell_type": "code",
      "execution_count": 114,
      "metadata": {},
      "outputs": [],
      "source": [
        "for i in [0,1,2,3,4,5,6,7,8,9]:\n",
        "    print(i)"
      ],
      "id": "8d55dc22"
    },
    {
      "cell_type": "markdown",
      "metadata": {},
      "source": [
        "We can iterate of dictionary keys or values"
      ],
      "id": "7b4bb944-89df-44d1-a89b-8e6e7da44f6e"
    },
    {
      "cell_type": "code",
      "execution_count": 115,
      "metadata": {},
      "outputs": [],
      "source": [
        "d = {1:2, 3:'i'}\n",
        "for k in d.keys():\n",
        "    print(k, d[k])\n",
        "for k in d.values():\n",
        "    print(k)"
      ],
      "id": "12f71868"
    },
    {
      "cell_type": "markdown",
      "metadata": {},
      "source": [
        "or both at the same time:"
      ],
      "id": "86f08348-ceb4-48a1-86a9-a620ec88edf5"
    },
    {
      "cell_type": "code",
      "execution_count": 116,
      "metadata": {},
      "outputs": [],
      "source": [
        "for t in d.items():\n",
        "    print(t)\n",
        "\n",
        "# look at automatic unpacking\n",
        "for (k,v) in d.items():\n",
        "    print(f\"key: {k}, value: {v}\")"
      ],
      "id": "07462f0f"
    },
    {
      "cell_type": "markdown",
      "metadata": {},
      "source": [
        "### Comprehension and generators\n",
        "\n",
        "There is an easy syntax to construct lists/tuples/dicts: comprehension.\n",
        "Syntax is remminiscent of a for loop."
      ],
      "id": "a49ff96a-8b44-430e-8c7e-89f03de1e124"
    },
    {
      "cell_type": "code",
      "execution_count": 117,
      "metadata": {},
      "outputs": [],
      "source": [
        "[i**2 for i in range(10)]"
      ],
      "id": "8f0c22d7"
    },
    {
      "cell_type": "code",
      "execution_count": 118,
      "metadata": {},
      "outputs": [],
      "source": [
        "set(i-(i//2*2) for i in range(10))"
      ],
      "id": "01bfd730"
    },
    {
      "cell_type": "code",
      "execution_count": 119,
      "metadata": {},
      "outputs": [],
      "source": [
        "{i: i**2 for i in range(10)}"
      ],
      "id": "47e70d9b"
    },
    {
      "cell_type": "markdown",
      "metadata": {},
      "source": [
        "Comprehension can be combined with conditions:"
      ],
      "id": "18116826-e00f-4d08-8dfb-8a9489df3236"
    },
    {
      "cell_type": "code",
      "execution_count": 120,
      "metadata": {},
      "outputs": [],
      "source": [
        "[i**2 for i in range(10) if i//3>2]"
      ],
      "id": "24aff717"
    },
    {
      "cell_type": "markdown",
      "metadata": {},
      "source": [
        "Behind the comprehension syntax, there is a special object called\n",
        "generator. Its role is to supply objects one by one like any other\n",
        "iterable."
      ],
      "id": "73850e30-7b0a-471b-a597-1a69539f3863"
    },
    {
      "cell_type": "code",
      "execution_count": 121,
      "metadata": {},
      "outputs": [],
      "source": [
        "# note the bracket\n",
        "gen = (i**2 for i in range(10))\n",
        "gen # does nothing"
      ],
      "id": "70043cbc"
    },
    {
      "cell_type": "code",
      "execution_count": 122,
      "metadata": {},
      "outputs": [],
      "source": [
        "gen = (i**2 for i in range(10))\n",
        "for e in gen:\n",
        "    print(e)"
      ],
      "id": "616a9e4b"
    },
    {
      "cell_type": "code",
      "execution_count": 123,
      "metadata": {},
      "outputs": [],
      "source": [
        "gen = (i**2 for i in range(10))\n",
        "print([e for e in gen])"
      ],
      "id": "d4120305"
    },
    {
      "cell_type": "markdown",
      "metadata": {},
      "source": [
        "There is a shortcut to converte a generator into a list: it’s called\n",
        "unpacking:"
      ],
      "id": "69e59a47-3649-4680-9ed7-4436a5f25d42"
    },
    {
      "cell_type": "code",
      "execution_count": 124,
      "metadata": {},
      "outputs": [],
      "source": [
        "gen = (i**2 for i in range(10))\n",
        "[*gen]"
      ],
      "id": "59df4bfc"
    },
    {
      "cell_type": "markdown",
      "metadata": {},
      "source": [
        "## Functions\n",
        "\n",
        "Wrong approach"
      ],
      "id": "fd43290a-8393-4393-a266-9c58ad0ffd38"
    },
    {
      "cell_type": "code",
      "execution_count": 125,
      "metadata": {},
      "outputs": [],
      "source": [
        "a1 = 34\n",
        "b1 = (1+a1*a1)\n",
        "c1 = (a1+b1*b1)\n",
        "\n",
        "a2 = 36\n",
        "b2 = (1+a2*a2)\n",
        "c2 = (a2+b2*b2)\n",
        "\n",
        "print(c1,c2)"
      ],
      "id": "2fab6dbf"
    },
    {
      "cell_type": "markdown",
      "metadata": {},
      "source": [
        "Better approach"
      ],
      "id": "908645de-dcaf-4b27-b75e-aff2d3f4a08f"
    },
    {
      "cell_type": "code",
      "execution_count": 126,
      "metadata": {},
      "outputs": [],
      "source": [
        "def calc(a):\n",
        "    b = 1+a*a\n",
        "    c = a+b*b\n",
        "    return c\n",
        "\n",
        "(calc(34), calc(36))"
      ],
      "id": "092982b0"
    },
    {
      "cell_type": "markdown",
      "metadata": {},
      "source": [
        "it is equivalent to replace the content of the function by:"
      ],
      "id": "1aaff828-bc6c-4708-9f5b-d5b2dadb6e31"
    },
    {
      "cell_type": "code",
      "execution_count": 127,
      "metadata": {},
      "outputs": [],
      "source": [
        "a = 32\n",
        "_a = a          # def calc(a):\n",
        "_b = 1+_a*_a    #    b = 1+a*a\n",
        "_c = _a+_b*_b   #    c = a+b*b\n",
        "res = _c        #    return c"
      ],
      "id": "5845cc3d"
    },
    {
      "cell_type": "markdown",
      "metadata": {},
      "source": [
        "Note that variable names within the function have different names. This\n",
        "is to avoid name conflicts as in:"
      ],
      "id": "7611191a-1324-4734-b486-954146a1be24"
    },
    {
      "cell_type": "code",
      "execution_count": 128,
      "metadata": {},
      "outputs": [],
      "source": [
        "y = 1\n",
        "def f(x):\n",
        "    y = x**2\n",
        "    return y+1\n",
        "def g(x):\n",
        "    y = x**2+0.1\n",
        "    return y+1\n",
        "r1 = f(1.4)\n",
        "r2 = g(1.4)\n",
        "r3 = y\n",
        "(r1,r2,r3)"
      ],
      "id": "bfee65ff"
    },
    {
      "cell_type": "code",
      "execution_count": 129,
      "metadata": {},
      "outputs": [],
      "source": [
        "l = ['france', 'germany']\n",
        "def fun(i):\n",
        "    print(f\"Country: {l[i]}\")\n",
        "fun(0)"
      ],
      "id": "92a0a670"
    },
    {
      "cell_type": "code",
      "execution_count": 130,
      "metadata": {},
      "outputs": [],
      "source": [
        "l = ['france', 'germany']\n",
        "def fun(i):\n",
        "    l = ['usa', 'japan']\n",
        "    l.append('spain')\n",
        "    print(f\"Country: {l[i]}\")\n",
        "fun(0)"
      ],
      "id": "0a1b80b8"
    },
    {
      "cell_type": "code",
      "execution_count": 131,
      "metadata": {},
      "outputs": [],
      "source": [
        "l"
      ],
      "id": "f5936943"
    },
    {
      "cell_type": "markdown",
      "metadata": {},
      "source": [
        "In the preceding code block, value of `y` has not been changed by\n",
        "calling the two functions. Check\n",
        "[pythontutor](http://pythontutor.com/visualize.html#code=y%20%3D%201%0Adef%20f%28x%29%3A%0A%20%20%20%20y%20%3D%20x**2%0A%20%20%20%20return%20y%2B1%0Adef%20g%28x%29%3A%0A%20%20%20%20y%20%3D%20x**2%0A%20%20%20%20return%20y%2B1%0Ar1%20%3D%20f%281.4%29%0Ar2%20%3D%20g%281.4%29%0Ar3%20%3D%20y%0A%28r1,r2,r3%29&cumulative=false&curInstr=0&heapPrimitives=nevernest&mode=display&origin=opt-frontend.js&py=3&rawInputLstJSON=%5B%5D&textReferences=false).\n",
        "\n",
        "### Calling conventions\n",
        "\n",
        "Function definitions start with `def` and a colon indentation. Value are\n",
        "returned by `return` keyword. Otherwise the return value is `None`.\n",
        "Functions can have several arguments: `def f(x,y)` but always one return\n",
        "argument. It is however to return a tuple, and “unpack” it."
      ],
      "id": "168762c1-31aa-4077-9975-48e0f34cc335"
    },
    {
      "cell_type": "code",
      "execution_count": 132,
      "metadata": {},
      "outputs": [],
      "source": [
        "def f(x,y):\n",
        "    z1 = x+y\n",
        "    z2 = x-y\n",
        "    return (z1,z2)      # here brackets are optional:  `return z1,z2` works too\n",
        "\n",
        "res = f(0.1, 0.2)\n",
        "t1, t2 = f(0.2, 0.2)     # t1,t2=res works too"
      ],
      "id": "a2035095"
    },
    {
      "cell_type": "code",
      "execution_count": 133,
      "metadata": {},
      "outputs": [],
      "source": [
        "res"
      ],
      "id": "3bc7c74e"
    },
    {
      "cell_type": "markdown",
      "metadata": {},
      "source": [
        "Named arguments can be passed in any order and receive default values."
      ],
      "id": "b1e6a12d-f7a9-4f0d-93e5-503dce241479"
    },
    {
      "cell_type": "code",
      "execution_count": 134,
      "metadata": {},
      "outputs": [],
      "source": [
        "def problem(why=\"The moon shines.\", what=\"Curiosity killed the cat.\", where=\"Paris\"):\n",
        "    print(f\"Is it because {why.lower().strip('.')} that {what.lower().strip('.')}, in {where.strip('.')}?\")"
      ],
      "id": "b187dcbb"
    },
    {
      "cell_type": "code",
      "execution_count": 135,
      "metadata": {},
      "outputs": [],
      "source": [
        "problem(where='Paris')"
      ],
      "id": "f4a24411"
    },
    {
      "cell_type": "code",
      "execution_count": 136,
      "metadata": {},
      "outputs": [],
      "source": [
        "problem(where=\"ESCP\", why=\"Square root of two is irrational\", what=\"Some regressions never work.\")"
      ],
      "id": "67556d7c"
    },
    {
      "cell_type": "markdown",
      "metadata": {},
      "source": [
        "Positional arguments and keyword arguments can be combined"
      ],
      "id": "e2c7f39a-639e-4b38-8e9b-7469820dfde2"
    },
    {
      "cell_type": "code",
      "execution_count": 137,
      "metadata": {},
      "outputs": [],
      "source": [
        "def f(x, y, β=0.9, γ=4.0, δ=0.1):\n",
        "    return x*β+y**γ*δ"
      ],
      "id": "7e83ea34"
    },
    {
      "cell_type": "code",
      "execution_count": 138,
      "metadata": {},
      "outputs": [],
      "source": [
        "f(0.1, 0.2)"
      ],
      "id": "d4dbeb84"
    },
    {
      "cell_type": "markdown",
      "metadata": {},
      "source": [
        "### Docstrings\n",
        "\n",
        "Functions are documented with a special string. Documentation It must\n",
        "follow the function signature immediately and explain what arguments are\n",
        "expected and what the function does"
      ],
      "id": "716b57fb-9313-4459-a8d1-963e65cc80d8"
    },
    {
      "cell_type": "code",
      "execution_count": 139,
      "metadata": {},
      "outputs": [],
      "source": [
        "def f(x, y, β=0.9, γ=4.0, δ=0.1):   # kjhkugku\n",
        "    \"\"\"Compute the model residuals\n",
        "    \n",
        "    Parameters\n",
        "    ----------\n",
        "    x: (float) marginal propensity to do complicated stuff\n",
        "    y: (float) inverse of the elasticity of bifractional risk-neutral substitution\n",
        "    β: (float) time discount (default 0.9)\n",
        "    γ: (float) time discount (default 4.0)\n",
        "    δ: (float) time discount (default 0.1)\n",
        "    \n",
        "    Result\n",
        "    ------\n",
        "    res: beta-Hadamard measure of cohesiveness\n",
        "    \n",
        "    \"\"\"\n",
        "    res = x*β+y**γ*δ\n",
        "    return res"
      ],
      "id": "5c18265d"
    },
    {
      "cell_type": "markdown",
      "metadata": {},
      "source": [
        "Remark: Python 3.6 has introduced type indication for functions. They\n",
        "are useful as an element of indication and potentially for type\n",
        "checking. We do not cover them in this tutorial but this is what they\n",
        "look like:"
      ],
      "id": "06fbe2fd-e63a-4005-acee-335b2cbe0814"
    },
    {
      "cell_type": "code",
      "execution_count": 140,
      "metadata": {},
      "outputs": [],
      "source": [
        "def f(a: int, b:int)->int:\n",
        "    if a<=1:\n",
        "        return 1\n",
        "    else:\n",
        "        return f(a-1,b) + f(a-2,b)*b"
      ],
      "id": "baf06a23"
    },
    {
      "cell_type": "markdown",
      "metadata": {},
      "source": [
        "------------------------------------------------------------------------\n",
        "\n",
        "### Packing and unpacking\n",
        "\n",
        "A common case is when one wants to pass the elements of an iterable as\n",
        "positional argument and/or the elements of a dictionary as keyword\n",
        "arguments. This is espacially the case, when one wants to determine\n",
        "functions that act on a given calibration. Without unpacking all\n",
        "arguments would need to be passed separately."
      ],
      "id": "ab5d158c-d8e6-49eb-8d8b-145144ebb921"
    },
    {
      "cell_type": "code",
      "execution_count": 141,
      "metadata": {},
      "outputs": [],
      "source": [
        "v = (0.1, 0.2)\n",
        "p = dict(β=0.9, γ=4.0, δ=0.1)\n",
        "\n",
        "f(v[0], v[1], β=p['β'], γ=p['γ'], δ=p['δ'])"
      ],
      "id": "7a69258a"
    },
    {
      "cell_type": "markdown",
      "metadata": {},
      "source": [
        "There is a special syntax for that: `*` unpacks positional arguments and\n",
        "`**` unpacks keyword arguments. Here is an example:"
      ],
      "id": "0a771222-caac-4ae5-9cd4-7080fe1c67ce"
    },
    {
      "cell_type": "code",
      "execution_count": 142,
      "metadata": {},
      "outputs": [],
      "source": [
        "f(*v, **p)"
      ],
      "id": "f51fe82f"
    },
    {
      "cell_type": "markdown",
      "metadata": {},
      "source": [
        "The same characters `*` and `**` can actually be used for the reverse\n",
        "operation, that is packing. This is useful to determine functions of a\n",
        "variable number of arguments."
      ],
      "id": "a82d21f0-5b1a-4894-a82d-51388b72cec8"
    },
    {
      "cell_type": "code",
      "execution_count": 143,
      "metadata": {},
      "outputs": [],
      "source": [
        "def fun(**p):\n",
        "    β = p['β']\n",
        "    return β+1\n",
        "fun(β=1.0)\n",
        "fun(β=1.0, γ=2.0) # γ is just ignored"
      ],
      "id": "00083ed3"
    },
    {
      "cell_type": "markdown",
      "metadata": {},
      "source": [
        "Inside the function, unpacked objects are lists and dictionaries\n",
        "respectively."
      ],
      "id": "01bdafcd-e66d-43eb-bebc-1232a9bc2ad3"
    },
    {
      "cell_type": "code",
      "execution_count": 144,
      "metadata": {},
      "outputs": [],
      "source": [
        "def fun(*args, **kwargs):\n",
        "    print(f\"Positional arguments: {len(args)}\")\n",
        "    for a in args:\n",
        "        print(f\"- {a}\")\n",
        "    print(f\"Keyword arguments: {len(args)}\")\n",
        "    for key,value in kwargs.items():\n",
        "        print(f\"- {key}: {value}\")"
      ],
      "id": "1938d28f"
    },
    {
      "cell_type": "code",
      "execution_count": 145,
      "metadata": {},
      "outputs": [],
      "source": [
        "fun(0.1, 0.2, a=2, b=3, c=4)"
      ],
      "id": "01c7084a"
    },
    {
      "cell_type": "markdown",
      "metadata": {},
      "source": [
        "### Functions are first class objects\n",
        "\n",
        "This means they can be assigned and passed around."
      ],
      "id": "3ccc537c-ddf3-4e92-9732-c8331c38d9c2"
    },
    {
      "cell_type": "code",
      "execution_count": 146,
      "metadata": {},
      "outputs": [],
      "source": [
        "def f(x): return 2*x*(1-x)\n",
        "g = f # now `g` and `f` point to the same function\n",
        "g(0.4)"
      ],
      "id": "cdb889ef"
    },
    {
      "cell_type": "code",
      "execution_count": 147,
      "metadata": {},
      "outputs": [],
      "source": [
        "def sumsfun(l, f):\n",
        "    return [f(e) for e in l]"
      ],
      "id": "d2631fdc"
    },
    {
      "cell_type": "code",
      "execution_count": 148,
      "metadata": {},
      "outputs": [],
      "source": [
        "sumsfun([0.0, 0.1, 0.2], f)"
      ],
      "id": "e3699f28"
    },
    {
      "cell_type": "code",
      "execution_count": 149,
      "metadata": {},
      "outputs": [],
      "source": [
        "def compute_recursive_series(x0, fun, T=50):\n",
        "    a = [x0]\n",
        "    for t in range(T):\n",
        "        x0 = a[-1]\n",
        "        x = fun(x0)\n",
        "        a.append(x)\n",
        "    return a\n",
        "\n",
        "compute_recursive_series(0.3, f, T=5)"
      ],
      "id": "46aa82af"
    },
    {
      "cell_type": "markdown",
      "metadata": {},
      "source": [
        "There is another syntax to define a function, without giving it a name\n",
        "first: lambda functions. It is useful when passing a function as\n",
        "argument."
      ],
      "id": "1b128f4f-a83b-4e96-b1e5-f105bd20f6e9"
    },
    {
      "cell_type": "code",
      "execution_count": 150,
      "metadata": {},
      "outputs": [],
      "source": [
        "sorted(range(6), key=lambda x: (-2)**x)"
      ],
      "id": "08434de7"
    },
    {
      "cell_type": "markdown",
      "metadata": {},
      "source": [
        "Lambda functions are also useful to reduce quickly the number of\n",
        "arguments of a function (aka curryfication)"
      ],
      "id": "5ec843cd-76fd-43be-9bfd-adf369b4d564"
    },
    {
      "cell_type": "code",
      "execution_count": 151,
      "metadata": {},
      "outputs": [],
      "source": [
        "def logistic(μ,x): return μ*x*(1-x)\n",
        "# def chaotic(x): return logistic(3.7, x)\n",
        "# def convergent(x): return logistic(2.5, x)\n",
        "chaotic = lambda x: logistic(3.7, x)\n",
        "convergent = lambda x: logistic(2.5, x)"
      ],
      "id": "f4bcf834"
    },
    {
      "cell_type": "code",
      "execution_count": 152,
      "metadata": {},
      "outputs": [],
      "source": [
        "l = [compute_recursive_series(0.3,fun, T=20) for fun in [convergent, chaotic]]\n",
        "[*zip(*l)]"
      ],
      "id": "259c7569"
    },
    {
      "cell_type": "code",
      "execution_count": 153,
      "metadata": {},
      "outputs": [],
      "source": [
        "from matplotlib import pyplot as plt\n",
        "import numpy as np\n",
        "tab = np.array(l)\n",
        "plt.plot(tab[0,:-1],tab[0,1:])\n",
        "tab = np.array(l)\n",
        "plt.plot(tab[1,:-1],tab[1,1:])\n",
        "plt.plot(np.linspace(0,1),np.linspace(0,1))\n",
        "plt.xlabel(\"$x_n$\")\n",
        "plt.ylabel(\"$x_{n+1}$\")\n",
        "plt.grid()"
      ],
      "id": "e1ff1c88"
    },
    {
      "cell_type": "markdown",
      "metadata": {},
      "source": [
        "### Functions pass arguments by reference\n",
        "\n",
        "Most of the time, variable affectation just create a reference."
      ],
      "id": "b5719c36-0d38-4b06-8aff-1a1d5186d82e"
    },
    {
      "cell_type": "code",
      "execution_count": 154,
      "metadata": {},
      "outputs": [],
      "source": [
        "a = [1,2,3]\n",
        "b = a\n",
        "a[1] = 0\n",
        "(a, b)"
      ],
      "id": "e8f31309"
    },
    {
      "cell_type": "markdown",
      "metadata": {},
      "source": [
        "To get a copy instead, one needs to specify it explicitly."
      ],
      "id": "f6c6aa10-d5be-4943-908b-1eb5e0230a91"
    },
    {
      "cell_type": "code",
      "execution_count": 155,
      "metadata": {},
      "outputs": [],
      "source": [
        "import copy\n",
        "a = [1,2,3]\n",
        "b = copy.copy(a)\n",
        "a[1] = 0\n",
        "(a, b)"
      ],
      "id": "84b3fd1d"
    },
    {
      "cell_type": "markdown",
      "metadata": {},
      "source": [
        "Not that copy follows only one level of references. Use deepcopy for\n",
        "more safety."
      ],
      "id": "7e8750dc-e326-4afe-83ee-d40f00d773ff"
    },
    {
      "cell_type": "code",
      "execution_count": 156,
      "metadata": {},
      "outputs": [],
      "source": [
        "a0 = ['a','b']\n",
        "a = [a0, 1, 2]\n",
        "b = copy.copy(a)\n",
        "a[0][0] = 'ξ'\n",
        "a, b"
      ],
      "id": "7505628d"
    },
    {
      "cell_type": "code",
      "execution_count": 157,
      "metadata": {},
      "outputs": [],
      "source": [
        "a0 = ['a','b']\n",
        "a = [a0, 1, 2]\n",
        "b = copy.deepcopy(a)\n",
        "a[0][0] = 'ξ'\n",
        "a, b"
      ],
      "id": "0c7545bf"
    },
    {
      "cell_type": "markdown",
      "metadata": {},
      "source": [
        "Arguments in a function are references towards the original object. No\n",
        "data is copied. It is then easy to construct functions with\n",
        "side-effects."
      ],
      "id": "62d87a04-73fc-41ab-afd7-d44ff8d1925e"
    },
    {
      "cell_type": "code",
      "execution_count": 158,
      "metadata": {},
      "outputs": [],
      "source": [
        "def append_inplace(l1, obs):\n",
        "    l1.append(obs)\n",
        "    return l1\n",
        "l1, obs = ([1,2,3], 1.5)\n",
        "l2 = append_inplace(l1,obs)\n",
        "print(l2, l1)\n",
        "# note that l1 and l2 point to the same object\n",
        "l1[0] = 'hey'\n",
        "print(l2, l1)"
      ],
      "id": "e8f827d7"
    },
    {
      "cell_type": "markdown",
      "metadata": {},
      "source": [
        "This behaviour might feel unnatural but is very sensible. For instance\n",
        "if the argument is a database of several gigabytes and one wants to\n",
        "write a function which will modify a few of its elements, it is not\n",
        "reasonable to copy the db in full.\n",
        "\n",
        "## Objects\n",
        "\n",
        "Objects ?\n",
        "\n",
        "-   can be passed around / referred too\n",
        "-   have properties (data) and methods (functions) attached to them\n",
        "-   inherit properties/methods from other objects\n",
        "\n",
        "Objects are defined by a class definition. By convention, classes names\n",
        "start with uppercase . To create an object, one calls the class name,\n",
        "possibly with additional arguments."
      ],
      "id": "1318263f-7b28-4f08-aa14-a36787a367fb"
    },
    {
      "cell_type": "code",
      "execution_count": 159,
      "metadata": {},
      "outputs": [],
      "source": [
        "class Dog:\n",
        "    name = \"May\" # class property\n",
        "\n",
        "d1 = Dog()\n",
        "d2 = Dog()\n",
        "\n",
        "print(f\"Class: d1->{type(d1)}, d2->{type(d2)}\")\n",
        "print(f\"Instance address: d2->{d1},{d2}\")"
      ],
      "id": "fff2d1ef"
    },
    {
      "cell_type": "markdown",
      "metadata": {},
      "source": [
        "Now, `d1` and `d2` are two different instances of the same class `Dog`.\n",
        "Since properties are mutable, instances can have different data attached\n",
        "to it."
      ],
      "id": "8e0e4ebc-5baf-4c67-815a-9e188110204d"
    },
    {
      "cell_type": "code",
      "execution_count": 160,
      "metadata": {},
      "outputs": [],
      "source": [
        "d1.name = \"Boris\"\n",
        "print([e.name for e in [d1,d2]])"
      ],
      "id": "fe5ef929"
    },
    {
      "cell_type": "markdown",
      "metadata": {},
      "source": [
        "Methods are functions attached to a class / an instance. Their first\n",
        "argument is always an instance. The first argument can be used to acess\n",
        "data held by the instance."
      ],
      "id": "22e6695f-b8d4-44a1-b0fd-d3e14863125b"
    },
    {
      "cell_type": "code",
      "execution_count": 161,
      "metadata": {},
      "outputs": [],
      "source": [
        "class Dog:\n",
        "    name = None # default value\n",
        "    def bark(self):\n",
        "        print(\"Wouf\")\n",
        "    def converse(self):\n",
        "        n = self.name\n",
        "        print(f\"Hi, my name is {n}. I'm committed to a strong and stable government.\")\n",
        "        \n",
        "d = Dog()\n",
        "d.bark()   # bark(d)\n",
        "d.converse()"
      ],
      "id": "39ba0ee9"
    },
    {
      "cell_type": "markdown",
      "metadata": {},
      "source": [
        "### Constructor\n",
        "\n",
        "There is also a special method `__init__` called the constructor. When\n",
        "an object is created, it is called on the instance. This is useful in\n",
        "order to initialize parameters of the instance."
      ],
      "id": "c8840b00-b554-477d-a384-e5d2a287cba8"
    },
    {
      "cell_type": "code",
      "execution_count": 162,
      "metadata": {},
      "outputs": [],
      "source": [
        "class Calibration:\n",
        "    \n",
        "    def __init__(self, x=0.1, y=0.1, β=0.0):\n",
        "        if not (β>0) and (β<1):\n",
        "            raise Exception(\"Incorrect calibration\"})\n",
        "        self.x = x\n",
        "        self.y = y\n",
        "        self.β = β\n"
      ],
      "id": "5ba6469d"
    },
    {
      "cell_type": "code",
      "execution_count": 163,
      "metadata": {},
      "outputs": [],
      "source": [
        "c1 = Calibration()\n",
        "c2 = Calibration(x=3, y=4)"
      ],
      "id": "73718067"
    },
    {
      "cell_type": "markdown",
      "metadata": {},
      "source": [
        "Two instances of the same class have the same method, but can hold\n",
        "different data. This can change the behaviour of these methods."
      ],
      "id": "c511fcae-2dda-43dd-9e3f-428c2914edcb"
    },
    {
      "cell_type": "code",
      "execution_count": 164,
      "metadata": {},
      "outputs": [],
      "source": [
        "# class Dog:\n",
        "    \n",
        "#     state = 'ok'\n",
        "    \n",
        "#     def bark(self):\n",
        "#         if self.state == 'ok':\n",
        "#             print(\"Wouf!\")\n",
        "#         else:\n",
        "#             print(\"Ahouuu!\")\n",
        "        \n",
        "# d = Dog()\n",
        "# d1 = Dog()\n",
        "# d1.state = 'hungry'\n",
        "\n",
        "# d.bark()\n",
        "# d1.bark()"
      ],
      "id": "e111bd40"
    },
    {
      "cell_type": "markdown",
      "metadata": {},
      "source": [
        "To write a function which will manipulate properties and methods of an\n",
        "object, it is not required to know its type in advance. The function\n",
        "will succeed as long as the required method exist, fail other wise. This\n",
        "is called “Duck Typing”: if it walks like a duck, it must be a duck…"
      ],
      "id": "c8287e3f-ec42-4083-b693-df3a06f89a1c"
    },
    {
      "cell_type": "code",
      "execution_count": 165,
      "metadata": {},
      "outputs": [],
      "source": [
        "class Duck:\n",
        "    def walk(self): print(\"/-\\_/-\\_/\")\n",
        "        \n",
        "class Dog:\n",
        "    def walk(self): print(\"/-\\_/*\\_/\")\n",
        "    def bark(self): print(\"Wouf\")"
      ],
      "id": "aa7548db"
    },
    {
      "cell_type": "code",
      "execution_count": 166,
      "metadata": {},
      "outputs": [],
      "source": [
        "animals = [C() for C in (Duck,Dog)]\n",
        "def go_in_the_park(animal):\n",
        "    for i in range(3): animal.walk()\n",
        "for a in animals:\n",
        "    go_in_the_park(a)"
      ],
      "id": "8779abea"
    },
    {
      "cell_type": "markdown",
      "metadata": {},
      "source": [
        "#### Inheritance\n",
        "\n",
        "The whole point of classes, is that one can construct hierarchies of\n",
        "classes to avoid redefining the same methods many times. This is done by\n",
        "using inheritance."
      ],
      "id": "e0083f0d-61f6-4ad9-bfc6-edb0afdad234"
    },
    {
      "cell_type": "code",
      "execution_count": 167,
      "metadata": {},
      "outputs": [],
      "source": [
        "class Animal:\n",
        "    \n",
        "    def run(self): print(\"👣\"*4)\n",
        "\n",
        "class Dog(Animal):\n",
        "    def bark(self): print(\"Wouf\")\n",
        "        \n",
        "class Rabbit(Animal):\n",
        "    def run(self):\n",
        "        super().run() ; print( \"🐇\" )"
      ],
      "id": "fdf06963"
    },
    {
      "cell_type": "code",
      "execution_count": 168,
      "metadata": {},
      "outputs": [],
      "source": [
        "Animal().run()\n",
        "dog = Dog()\n",
        "dog.run()\n",
        "dog.bark()\n",
        "Rabbit().run()"
      ],
      "id": "6feacd70"
    },
    {
      "cell_type": "markdown",
      "metadata": {},
      "source": [
        "In the above example, the Dog class inherits from inherits the method\n",
        "`run` from the Animal class: it doesn’t need to be redefined again.\n",
        "Essentially, when `run(dog)` is called, since the method is not defined\n",
        "for a dog, python looks for the first ancestor of `dog` and applies the\n",
        "method of the ancestor.\n",
        "\n",
        "#### Special methods\n",
        "\n",
        "By conventions methods starting with double lowercase `__` are hidden.\n",
        "They don’t appear in tab completion. Several special methods can be\n",
        "reimplemented that way."
      ],
      "id": "a5e03736-1f28-4d06-8845-ef0277d6535c"
    },
    {
      "cell_type": "code",
      "execution_count": 169,
      "metadata": {},
      "outputs": [],
      "source": [
        "class Calibration:\n",
        "    \n",
        "    def __init__(self, x=0.1, y=0.1, β=0.1):\n",
        "        if not (β>0) and (β<1):\n",
        "            raise Exception(\"Incorrect calibration\")\n",
        "        self.x = x\n",
        "        self.y = y\n",
        "        self.β = β\n",
        "    \n",
        "    def __str__(self):\n",
        "        return f\"Calibration(x={self.x},y={self.y}, β={self.β})\""
      ],
      "id": "a161ebe6"
    },
    {
      "cell_type": "code",
      "execution_count": 170,
      "metadata": {},
      "outputs": [],
      "source": [
        "str(Calibration() )"
      ],
      "id": "b024903e"
    },
    {
      "cell_type": "markdown",
      "metadata": {},
      "source": [
        "#### complement\n",
        "\n",
        "Python is not 100% object oriented. - some objects cannot be\n",
        "subclassed - basic types behave sometimes funny (interning strings)\n",
        "\n",
        "mindfuck: Something that destabilizes, confuses, or manipulates a\n",
        "person’s mind."
      ],
      "id": "001e920f-fab1-450a-bcc0-9c4b4bbda319"
    },
    {
      "cell_type": "code",
      "execution_count": 171,
      "metadata": {},
      "outputs": [],
      "source": [
        "a = 'a'*4192\n",
        "b = 'a'*4192\n",
        "a is b"
      ],
      "id": "1e8fff16"
    },
    {
      "cell_type": "code",
      "execution_count": 172,
      "metadata": {},
      "outputs": [],
      "source": [
        "a = 'a'*512\n",
        "b = 'a'*512\n",
        "a is b"
      ],
      "id": "2f9cd722"
    }
  ],
  "nbformat": 4,
  "nbformat_minor": 5,
  "metadata": {
    "kernelspec": {
      "name": "python3",
      "display_name": "Python 3 (ipykernel)",
      "language": "python",
      "path": "/home/pablo/.local/share/jupyter/kernels/python3"
    },
    "language_info": {
      "name": "python",
      "codemirror_mode": {
        "name": "ipython",
        "version": "3"
      },
      "file_extension": ".py",
      "mimetype": "text/x-python",
      "nbconvert_exporter": "python",
      "pygments_lexer": "ipython3",
      "version": "3.11.10"
    }
  }
}