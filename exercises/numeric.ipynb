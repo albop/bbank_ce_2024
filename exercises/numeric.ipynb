{
  "cells": [
    {
      "cell_type": "markdown",
      "metadata": {},
      "source": [
        "# Numeric\n",
        "\n",
        "## Using Numpy\n",
        "\n",
        "Selection from\n",
        "[w3resources](https://www.w3resource.com/python-exercises/numpy/python-numpy-random.php)\n",
        "and [rougier/numpy100](https://github.com/rougier/numpy-100)\n",
        "\n",
        "<span class=\"theorem-title\">**Exercise 1**</span>  \n",
        "\n",
        "-   Write a NumPy program to generate five random numbers from the\n",
        "    normal distribution."
      ],
      "id": "1bec1e65-8100-416b-b2f7-2a8a82e4ab75"
    },
    {
      "cell_type": "code",
      "execution_count": 1,
      "metadata": {},
      "outputs": [],
      "source": [
        "# code here"
      ],
      "id": "3f92a7e7"
    },
    {
      "cell_type": "markdown",
      "metadata": {},
      "source": [
        "<span class=\"theorem-title\">**Exercise 2**</span> Write a NumPy program\n",
        "to generate six random integers between 10 and 30."
      ],
      "id": "ba943d60-9f5c-49e8-bba9-03a7982440e1"
    },
    {
      "cell_type": "code",
      "execution_count": 2,
      "metadata": {},
      "outputs": [],
      "source": [
        "# code here"
      ],
      "id": "2205cd80"
    },
    {
      "cell_type": "markdown",
      "metadata": {},
      "source": [
        "<span class=\"theorem-title\">**Exercise 3**</span> Create a 3x3 matrix\n",
        "with values ranging from 0 to 8"
      ],
      "id": "827cf8cf-162f-4e2d-89db-51230ee63219"
    },
    {
      "cell_type": "code",
      "execution_count": 3,
      "metadata": {},
      "outputs": [],
      "source": [
        "# code here"
      ],
      "id": "b59f7270"
    },
    {
      "cell_type": "markdown",
      "metadata": {},
      "source": [
        "<span class=\"theorem-title\">**Exercise 4**</span> Create 2d array $M$\n",
        "such of size 3\\*3 such that $M_{ij} = i\\times j$"
      ],
      "id": "2f0fbfac-f518-4971-8b23-7f1eda5e4cb7"
    },
    {
      "cell_type": "code",
      "execution_count": 4,
      "metadata": {},
      "outputs": [],
      "source": [
        "# code here"
      ],
      "id": "3b2074a5"
    },
    {
      "cell_type": "markdown",
      "metadata": {},
      "source": [
        "<span class=\"theorem-title\">**Exercise 5**</span> Create 3 vectors of\n",
        "length 5 and create a matrix where each column is one of the vector."
      ],
      "id": "73997144-ec7b-44cb-ab8f-dcf0718c6688"
    },
    {
      "cell_type": "code",
      "execution_count": 5,
      "metadata": {},
      "outputs": [],
      "source": [
        "# code here"
      ],
      "id": "42efe601"
    },
    {
      "cell_type": "markdown",
      "metadata": {},
      "source": [
        "<span class=\"theorem-title\">**Exercise 6**</span> Create 3 vectors of\n",
        "length 5 and create a matrix where each row is one of the vector."
      ],
      "id": "7820f9c2-ca62-4177-aecb-9b5f7fd93764"
    },
    {
      "cell_type": "code",
      "execution_count": 6,
      "metadata": {},
      "outputs": [],
      "source": [
        "# code here"
      ],
      "id": "b90bd3e0"
    },
    {
      "cell_type": "markdown",
      "metadata": {},
      "source": [
        "<span class=\"theorem-title\">**Exercise 7**</span> Find indices of\n",
        "non-zero elements from `np.array([1,2,0,0,4,0])`. Replace them with -1.0"
      ],
      "id": "6167d62c-a948-473e-b15f-b8fbe0ad7ba0"
    },
    {
      "cell_type": "code",
      "execution_count": 7,
      "metadata": {},
      "outputs": [],
      "source": [
        "# code here"
      ],
      "id": "d03a33f6"
    },
    {
      "cell_type": "markdown",
      "metadata": {},
      "source": [
        "<span class=\"theorem-title\">**Exercise 8**</span> Write a NumPy program\n",
        "to normalize a 3x3 random matrix. (Define norm $|x|=\\sqrt{\\sum x_i^2}$\n",
        "and compute $M/|M|$)"
      ],
      "id": "d104e392-4a28-4e5b-8c75-7da8f1a432e2"
    },
    {
      "cell_type": "code",
      "execution_count": 8,
      "metadata": {},
      "outputs": [],
      "source": [
        "# code here"
      ],
      "id": "e8d2f3ee"
    },
    {
      "cell_type": "markdown",
      "metadata": {},
      "source": [
        "<span class=\"theorem-title\">**Exercise 9**</span> Create 2d array $M$\n",
        "such of size 3\\*3 such that $M_{ij} = i\\times j$"
      ],
      "id": "741c0659-a427-427a-a13f-0aebd36089ee"
    },
    {
      "cell_type": "code",
      "execution_count": 9,
      "metadata": {},
      "outputs": [],
      "source": [
        "# code here"
      ],
      "id": "5b162b06"
    },
    {
      "cell_type": "markdown",
      "metadata": {},
      "source": [
        "<span class=\"theorem-title\">**Exercise 10**</span> Take a random matrix\n",
        "$A$ of size $N\\times 2$ (N=10) where each line represents a different 2d\n",
        "point. Compute the euclidean distance matrix such that $E_{ij}$ is the\n",
        "distance between point $i$ and point $j$."
      ],
      "id": "95bfbbaa-a595-4bb8-a7cf-4a804a539f80"
    },
    {
      "cell_type": "code",
      "execution_count": 10,
      "metadata": {},
      "outputs": [],
      "source": [
        "# code here"
      ],
      "id": "69f17883"
    },
    {
      "cell_type": "markdown",
      "metadata": {},
      "source": [
        "<span class=\"theorem-title\">**Exercise 11**</span> Create A of size\n",
        "$10\\times 3$. Create matrix $B$ with the same column as $A$ reordered by\n",
        "sum of absolute values.\n",
        "\n",
        "## Simulating an AR1\n",
        "\n",
        "Take an AR1 process $x_t = A \\rho x_{t-1} + \\epsilon_t$ with\n",
        "$\\epsilon_t \\sim \\Sigma$ where $\\Sigma$ is a positive definite matrix.\n",
        "\n",
        "<span class=\"theorem-title\">**Exercise 12**</span> Define 2x2 matrices\n",
        "$A$ and $\\Sigma$, the latter being symmetric positive definite"
      ],
      "id": "0644b224-a24b-4df9-b921-8b20b60c0074"
    },
    {
      "cell_type": "code",
      "execution_count": 11,
      "metadata": {},
      "outputs": [],
      "source": [
        "# code here"
      ],
      "id": "31a6aa70"
    },
    {
      "cell_type": "markdown",
      "metadata": {},
      "source": [
        "<span class=\"theorem-title\">**Exercise 13**</span> Compute asymptotic\n",
        "variance using matrix algebra (there is a recursive formula)"
      ],
      "id": "65c5512a-af11-4982-b8ce-0a5f49df2d40"
    },
    {
      "cell_type": "code",
      "execution_count": 12,
      "metadata": {},
      "outputs": [],
      "source": [
        "# code here"
      ],
      "id": "8035abf0"
    },
    {
      "cell_type": "markdown",
      "metadata": {},
      "source": [
        "<span class=\"theorem-title\">**Exercise 14**</span> Simulate $N$ draws\n",
        "for $T$ periods and store the result in `sim`."
      ],
      "id": "f35ab3d4-98e6-4143-b159-318089de6d9c"
    },
    {
      "cell_type": "code",
      "execution_count": 13,
      "metadata": {},
      "outputs": [],
      "source": [
        "# code here"
      ],
      "id": "655ace23"
    },
    {
      "cell_type": "markdown",
      "metadata": {},
      "source": [
        "<span class=\"theorem-title\">**Exercise 15**</span> Compute ergodic\n",
        "variance (bonus compute std of the variance estimate)"
      ],
      "id": "b4338258-7c74-44b1-8f71-b79def35789f"
    },
    {
      "cell_type": "code",
      "execution_count": 14,
      "metadata": {},
      "outputs": [],
      "source": [
        "# code here"
      ],
      "id": "70699493"
    },
    {
      "cell_type": "markdown",
      "metadata": {},
      "source": [
        "<span class=\"theorem-title\">**Exercise 16**</span> Plot a few\n",
        "simulations on the same graph"
      ],
      "id": "055b2bb9-3ab6-419e-856a-e6c5f7be0990"
    },
    {
      "cell_type": "code",
      "execution_count": 15,
      "metadata": {},
      "outputs": [],
      "source": [
        "# code here"
      ],
      "id": "b65a5e3c"
    },
    {
      "cell_type": "markdown",
      "metadata": {},
      "source": [
        "<span class=\"theorem-title\">**Exercise 17**</span> Plot asymptotic\n",
        "distribution (seaborn)"
      ],
      "id": "27aed380-47fe-4106-938b-479f1ebb3c13"
    },
    {
      "cell_type": "code",
      "execution_count": 16,
      "metadata": {},
      "outputs": [],
      "source": [
        "# code here"
      ],
      "id": "74031fd0"
    },
    {
      "cell_type": "markdown",
      "metadata": {},
      "source": [
        "<span class=\"theorem-title\">**Exercise 18**</span> Bonus: write a faster\n",
        "simulation routine."
      ],
      "id": "a6224594-a36a-45dc-8d26-279415ad6e35"
    },
    {
      "cell_type": "code",
      "execution_count": 17,
      "metadata": {},
      "outputs": [],
      "source": [
        "# code here"
      ],
      "id": "33da0a0d"
    }
  ],
  "nbformat": 4,
  "nbformat_minor": 5,
  "metadata": {
    "kernelspec": {
      "name": "python3",
      "display_name": "Python 3 (ipykernel)",
      "language": "python",
      "path": "/home/pablo/.local/share/jupyter/kernels/python3"
    },
    "language_info": {
      "name": "python",
      "codemirror_mode": {
        "name": "ipython",
        "version": "3"
      },
      "file_extension": ".py",
      "mimetype": "text/x-python",
      "nbconvert_exporter": "python",
      "pygments_lexer": "ipython3",
      "version": "3.11.10"
    }
  }
}