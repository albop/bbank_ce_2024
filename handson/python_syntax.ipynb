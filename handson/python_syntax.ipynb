{
  "cells": [
    {
      "cell_type": "markdown",
      "metadata": {},
      "source": [
        "# Python: syntax review\n",
        "\n",
        "## Basic Types\n",
        "\n",
        "### numbers"
      ],
      "id": "d0806e5f-c3be-4342-8f98-c8d0ab9bf234"
    },
    {
      "cell_type": "code",
      "execution_count": 1,
      "metadata": {},
      "outputs": [],
      "source": [
        "# integers and floats"
      ],
      "id": "f305d53f"
    },
    {
      "cell_type": "code",
      "execution_count": 2,
      "metadata": {},
      "outputs": [],
      "source": [
        "1"
      ],
      "id": "0e9c0767"
    },
    {
      "cell_type": "code",
      "execution_count": 3,
      "metadata": {},
      "outputs": [],
      "source": [
        "1.0"
      ],
      "id": "3040e9ec"
    },
    {
      "cell_type": "code",
      "execution_count": 4,
      "metadata": {},
      "outputs": [],
      "source": [
        "# conversion with int() and float()\n",
        "float( 1 )"
      ],
      "id": "f8a5f686"
    },
    {
      "cell_type": "code",
      "execution_count": 5,
      "metadata": {},
      "outputs": [],
      "source": [
        "int(2.9) # floor"
      ],
      "id": "010a5e50"
    },
    {
      "cell_type": "code",
      "execution_count": 6,
      "metadata": {},
      "outputs": [],
      "source": [
        "# no difference between various types of floats (16 bits, 32 bits, 64 bits, ...)"
      ],
      "id": "86992f58"
    },
    {
      "cell_type": "code",
      "execution_count": 7,
      "metadata": {},
      "outputs": [],
      "source": [
        "type( 2.2**50 ) # this doesn't fit in 32 bits"
      ],
      "id": "94d2cd79"
    },
    {
      "cell_type": "code",
      "execution_count": 8,
      "metadata": {},
      "outputs": [],
      "source": [
        "# usual operations + - *\n",
        "print( 2 + 3 )\n",
        "print( 9 -6 )\n",
        "print( 3 / 2 )\n",
        "print(2304310958*41324)"
      ],
      "id": "7ef5a7f3"
    },
    {
      "cell_type": "code",
      "execution_count": 9,
      "metadata": {},
      "outputs": [],
      "source": [
        "# divisions / and //\n",
        "print(3/4)\n",
        "print(13//4)"
      ],
      "id": "1dffeecd"
    },
    {
      "cell_type": "code",
      "execution_count": 10,
      "metadata": {},
      "outputs": [],
      "source": [
        "# exponentiation ** (not ^!)\n",
        "# (1.04)^10\n",
        "(1.04)**10"
      ],
      "id": "db733931"
    },
    {
      "cell_type": "code",
      "execution_count": 11,
      "metadata": {},
      "outputs": [],
      "source": [
        "# comparison operators: >, <, >=, <=, ==\n",
        "\n",
        "print((1.0453432)*(0.96)  > 1.001 )\n",
        "\n",
        "print(1.001 >= 1.001)"
      ],
      "id": "33307b9d"
    },
    {
      "cell_type": "code",
      "execution_count": 12,
      "metadata": {},
      "outputs": [],
      "source": [
        "# comparison operators can be chained:\n",
        "print(0.2<0.4<0.5)\n",
        "print(0.5<=0.4<=0.5) # equivalent to ((0.5<=0.4) and(0.4<=0.5))"
      ],
      "id": "08127fbc"
    },
    {
      "cell_type": "markdown",
      "metadata": {},
      "source": [
        "### special types: boolean and None\n",
        "\n",
        "There are only two booleans: `True` and `False` (note uppercase). `None`\n",
        "is a dummy type, which is used when no other type fits."
      ],
      "id": "36a61bf5-7e83-4a0e-b25a-fb55876fec42"
    },
    {
      "cell_type": "code",
      "execution_count": 13,
      "metadata": {},
      "outputs": [],
      "source": [
        "print( False )\n",
        "True"
      ],
      "id": "6aafaf7f"
    },
    {
      "cell_type": "code",
      "execution_count": 14,
      "metadata": {},
      "outputs": [],
      "source": [
        "(True, False, None)"
      ],
      "id": "6d970807"
    },
    {
      "cell_type": "markdown",
      "metadata": {},
      "source": [
        "Double equal sign tests for equality. Result should always be a boolean."
      ],
      "id": "4ad246e7-7557-489d-8603-70572025aba9"
    },
    {
      "cell_type": "code",
      "execution_count": 15,
      "metadata": {},
      "outputs": [],
      "source": [
        "True==False"
      ],
      "id": "df92888b"
    },
    {
      "cell_type": "markdown",
      "metadata": {},
      "source": [
        "Logical operators are `not`, `and` and `or`:"
      ],
      "id": "575ed1aa-0e8a-4e38-a896-966bacf63935"
    },
    {
      "cell_type": "code",
      "execution_count": 16,
      "metadata": {},
      "outputs": [],
      "source": [
        "(True or False)"
      ],
      "id": "1fa89f8e"
    },
    {
      "cell_type": "code",
      "execution_count": 17,
      "metadata": {},
      "outputs": [],
      "source": [
        "not (True or False)"
      ],
      "id": "b897cbf8"
    },
    {
      "cell_type": "code",
      "execution_count": 18,
      "metadata": {},
      "outputs": [],
      "source": [
        "(1.3**1.04 > 1.9) | (1000**1143>1001**1142)"
      ],
      "id": "a8994ca8"
    },
    {
      "cell_type": "markdown",
      "metadata": {},
      "source": [
        "Operators `or` and `and` can be replaced by `|` and `&` respectively.\n",
        "They are *non-greedy*, that is terms are not evaluated if the result of\n",
        "the comparison is already known."
      ],
      "id": "4b1cc2be-548a-4dcc-b87e-46ea1df5b6c3"
    },
    {
      "cell_type": "code",
      "execution_count": 19,
      "metadata": {},
      "outputs": [],
      "source": [
        "False and (print(\"Hello\"))"
      ],
      "id": "9ad0c30d"
    },
    {
      "cell_type": "code",
      "execution_count": 20,
      "metadata": {},
      "outputs": [],
      "source": [
        "print( (print(\"Hello\")) and False )"
      ],
      "id": "6efaf47b"
    },
    {
      "cell_type": "markdown",
      "metadata": {},
      "source": [
        "### strings\n",
        "\n",
        "#### definition\n",
        "\n",
        "Strings are defined by enclosing characters either by `'` (single\n",
        "quotes) or `\"` (double quote). Single quotes strings can contain double\n",
        "quotes strings and vice-versa."
      ],
      "id": "481ab143-8360-4489-a881-8a8c18f3219b"
    },
    {
      "cell_type": "code",
      "execution_count": 21,
      "metadata": {},
      "outputs": [],
      "source": [
        "\"name\""
      ],
      "id": "9cad7838"
    },
    {
      "cell_type": "code",
      "execution_count": 22,
      "metadata": {},
      "outputs": [],
      "source": [
        "'name'"
      ],
      "id": "3adca037"
    },
    {
      "cell_type": "code",
      "execution_count": 23,
      "metadata": {},
      "outputs": [],
      "source": [
        "'I say \"hello\"'"
      ],
      "id": "26d2aa1e"
    },
    {
      "cell_type": "code",
      "execution_count": 24,
      "metadata": {},
      "outputs": [],
      "source": [
        "\"You can 'quote' me\""
      ],
      "id": "d8c0d74c"
    },
    {
      "cell_type": "markdown",
      "metadata": {},
      "source": [
        "Strings spanning over sever lines can be defined with triple quotes\n",
        "(single or double)."
      ],
      "id": "8803de70-4c7a-4b00-be84-22fa347952a1"
    },
    {
      "cell_type": "code",
      "execution_count": 25,
      "metadata": {},
      "outputs": [],
      "source": [
        "s = \"\"\"¿Qué es la vida? Un frenesí.\n",
        "¿Qué es la vida? Una ilusión,\n",
        "una sombra, una ficción,\n",
        "y el mayor bien es pequeño;\n",
        "que toda la vida es sueño,\n",
        "y los sueños, sueños son.\n",
        "\"\"\""
      ],
      "id": "f07ac18b"
    },
    {
      "cell_type": "markdown",
      "metadata": {},
      "source": [
        "It is also possible to use the newline character `\\n`."
      ],
      "id": "ee74a68e-ba79-4873-8417-534ae8d38c65"
    },
    {
      "cell_type": "code",
      "execution_count": 26,
      "metadata": {},
      "outputs": [],
      "source": [
        "\"La vida es sueño,\\ny los sueños, sueños son.\""
      ],
      "id": "d68b45eb"
    },
    {
      "cell_type": "code",
      "execution_count": 27,
      "metadata": {},
      "outputs": [],
      "source": [
        "print(\"La vida es sueño,\\ny los sueños, sueños son.\")"
      ],
      "id": "4373436b"
    },
    {
      "cell_type": "markdown",
      "metadata": {},
      "source": [
        "#### character sets\n",
        "\n",
        "Strings can contain any unicode character:"
      ],
      "id": "3bcab1bd-ba1b-4abc-b08a-a4f95739014b"
    },
    {
      "cell_type": "code",
      "execution_count": 28,
      "metadata": {},
      "outputs": [],
      "source": [
        "s = \"🎻⽻༽\""
      ],
      "id": "7c0df700"
    },
    {
      "cell_type": "markdown",
      "metadata": {},
      "source": [
        "*Refresher*: ASCII vs unicode\n",
        "\n",
        "ASCII (or ASCII-US) is an old standard which codes a character with 7\n",
        "bits (or 8 bits for extended ASCII). This allows to code 128 different\n",
        "characters (256 for ex-ASCII).\n",
        "\n",
        "Only a subset of these characters can be printed regularly."
      ],
      "id": "e6998fd4-9ce5-4fa4-a08f-aa253cea2bc1"
    },
    {
      "cell_type": "code",
      "execution_count": 29,
      "metadata": {},
      "outputs": [],
      "source": [
        "chr(44)"
      ],
      "id": "9bfb952c"
    },
    {
      "cell_type": "code",
      "execution_count": 30,
      "metadata": {},
      "outputs": [],
      "source": [
        "# ASCII: \n",
        "for i in range(32,127):\n",
        "    print( chr(i), end=' ')"
      ],
      "id": "bc1be9a2"
    },
    {
      "cell_type": "markdown",
      "metadata": {},
      "source": [
        "The other characters include *delete*, *newline* and *carriage return*\n",
        "among others."
      ],
      "id": "ae220db3-a45c-43b2-921d-9f930d2c1911"
    },
    {
      "cell_type": "code",
      "execution_count": 31,
      "metadata": {},
      "outputs": [],
      "source": [
        "s = 'This is\\na\\nmultiline string.' # note the newline character '\\n'"
      ],
      "id": "535baba4"
    },
    {
      "cell_type": "code",
      "execution_count": 32,
      "metadata": {},
      "outputs": [],
      "source": [
        "# print(s)\n",
        "len(s)"
      ],
      "id": "3420fca4"
    },
    {
      "cell_type": "markdown",
      "metadata": {},
      "source": [
        "Some antiquated platforms still use newline + carriage return at the end\n",
        "of each line. This is absolutely not required and causes\n",
        "incompatibilities."
      ],
      "id": "362eb4d1-8d7c-4967-897b-52dd7dcc47b6"
    },
    {
      "cell_type": "code",
      "execution_count": 33,
      "metadata": {},
      "outputs": [],
      "source": [
        "s2 = 'This is\\n\\ra\\n\\rmultiline string.' # note the newline character '\\n' and carriager return '\\r'"
      ],
      "id": "886add0c"
    },
    {
      "cell_type": "code",
      "execution_count": 34,
      "metadata": {},
      "outputs": [],
      "source": [
        "print(s2)\n",
        "print(len(s2))"
      ],
      "id": "10fa62d9"
    },
    {
      "cell_type": "markdown",
      "metadata": {},
      "source": [
        "Unicode contains a repertoire of over 137,000 characters with all ASCII\n",
        "characters as subcases\n",
        "\n",
        "To type: copy/paste, ctrl+shift+hexadecimal, latex + tab\n",
        "\n",
        "Variable names aka identifiers can contain unicode characters with some\n",
        "restrictions: - they cannot start with a digit - they can’t contain\n",
        "special variables (‘!,#,@,%,\\$’ and other unicode specials ???) - they\n",
        "can contain underscore\n",
        "\n",
        "#### operations\n",
        "\n",
        "concatenation"
      ],
      "id": "c6cfcc37-cb38-4fe9-8434-f06516746798"
    },
    {
      "cell_type": "code",
      "execution_count": 35,
      "metadata": {},
      "outputs": [],
      "source": [
        "'abc' + 'def'"
      ],
      "id": "608a5d40"
    },
    {
      "cell_type": "code",
      "execution_count": 36,
      "metadata": {},
      "outputs": [],
      "source": [
        "'abc'*3"
      ],
      "id": "75877113"
    },
    {
      "cell_type": "code",
      "execution_count": 37,
      "metadata": {},
      "outputs": [],
      "source": [
        "'abc' + 'abc' + 'abc'"
      ],
      "id": "62fc742e"
    },
    {
      "cell_type": "markdown",
      "metadata": {},
      "source": [
        "#### substrings"
      ],
      "id": "b6166fca-9275-4874-84a8-499c1a43cf69"
    },
    {
      "cell_type": "code",
      "execution_count": 38,
      "metadata": {},
      "outputs": [],
      "source": [
        "# strings can be accessed as arrays (0 based indexing)\n",
        "s = \"a b c\"\n",
        "s[0]"
      ],
      "id": "999d7e47"
    },
    {
      "cell_type": "code",
      "execution_count": 39,
      "metadata": {},
      "outputs": [],
      "source": [
        "# slice notation (  [min,max[ )\n",
        "s = \"a b c d\"\n",
        "s[2:5] # 0-based; 2 included, 5 excluded"
      ],
      "id": "05756563"
    },
    {
      "cell_type": "code",
      "execution_count": 40,
      "metadata": {},
      "outputs": [],
      "source": [
        "# substrings are easy to check\n",
        "\"a\" in s"
      ],
      "id": "bdc626d6"
    },
    {
      "cell_type": "code",
      "execution_count": 41,
      "metadata": {},
      "outputs": [],
      "source": [
        "\"b c\" in \"a b c d\""
      ],
      "id": "90149a85"
    },
    {
      "cell_type": "markdown",
      "metadata": {},
      "source": [
        "It is impossible to modify a substring."
      ],
      "id": "e09b4fcc-b6c3-495e-9e83-4d7445ccc978"
    },
    {
      "cell_type": "code",
      "execution_count": 42,
      "metadata": {},
      "outputs": [],
      "source": [
        "# but are immutable\n",
        "s = \"a b c\"\n",
        "#s[1] = 0 error"
      ],
      "id": "7046d034"
    },
    {
      "cell_type": "markdown",
      "metadata": {},
      "source": [
        "Instead, one can replace a substring:"
      ],
      "id": "36d180a3-8579-4188-934b-291f6bf9c4d5"
    },
    {
      "cell_type": "code",
      "execution_count": 43,
      "metadata": {},
      "outputs": [],
      "source": [
        "s"
      ],
      "id": "0aa2db82"
    },
    {
      "cell_type": "code",
      "execution_count": 44,
      "metadata": {},
      "outputs": [],
      "source": [
        "s.replace(' ', '🎻')"
      ],
      "id": "583a59ca"
    },
    {
      "cell_type": "markdown",
      "metadata": {},
      "source": [
        "Or use string interpolation"
      ],
      "id": "d32f88dd-4782-4917-a42c-ccbb9249ff89"
    },
    {
      "cell_type": "code",
      "execution_count": 45,
      "metadata": {},
      "outputs": [],
      "source": [
        "# string interpolation (old school)\n",
        "\"ny name is {name}\".format(name=\"nobody\")"
      ],
      "id": "a0b379c1"
    },
    {
      "cell_type": "code",
      "execution_count": 46,
      "metadata": {},
      "outputs": [],
      "source": [
        "\"calculation took {time}s\".format(time=10000)"
      ],
      "id": "55c0e1f5"
    },
    {
      "cell_type": "code",
      "execution_count": 47,
      "metadata": {},
      "outputs": [],
      "source": [
        "# number format can be tweaked\n",
        "\"I am {age:.0f} years old\".format(age=5.65)"
      ],
      "id": "8ad0588e"
    },
    {
      "cell_type": "code",
      "execution_count": 48,
      "metadata": {},
      "outputs": [],
      "source": [
        "# formatted strings\n",
        "elapsed = 15914884.300292\n",
        "\n",
        "f\"computations took {elapsed/3600:.2f} hours\""
      ],
      "id": "e71cf210"
    },
    {
      "cell_type": "code",
      "execution_count": 49,
      "metadata": {},
      "outputs": [],
      "source": [
        "name = \"arnaldur\""
      ],
      "id": "5df657fb"
    },
    {
      "cell_type": "code",
      "execution_count": 50,
      "metadata": {},
      "outputs": [],
      "source": [
        "\"dasnfnaksujhn {name}\".format(name=\"whatever\")"
      ],
      "id": "8b94c10e"
    },
    {
      "cell_type": "code",
      "execution_count": 51,
      "metadata": {},
      "outputs": [],
      "source": [
        "# basic string operations: str.split, str.join, etc...\n",
        "# fast regular expressions\n",
        "# more on it, with text processing lesson"
      ],
      "id": "4fd7de33"
    },
    {
      "cell_type": "code",
      "execution_count": 52,
      "metadata": {},
      "outputs": [],
      "source": [
        "str.split(\"me,you,others,them\",',')"
      ],
      "id": "365b05e7"
    },
    {
      "cell_type": "code",
      "execution_count": 53,
      "metadata": {},
      "outputs": [],
      "source": [
        "str.join( \" | \",\n",
        "    str.split(\"me,you,others,them\",','),\n",
        ")"
      ],
      "id": "fc6eca19"
    },
    {
      "cell_type": "markdown",
      "metadata": {},
      "source": [
        "#### Escaping characters\n",
        "\n",
        "The example above used several special characters: `\\n` which\n",
        "corresponds to only one ascii character and `{`/`}` which disappears\n",
        "after the string formatting. If one desires to print these characters\n",
        "precisely one needs to escape them using `\\` and `{` `}`."
      ],
      "id": "0d4963e1-f106-4b55-b67d-9b445f9c5bd9"
    },
    {
      "cell_type": "code",
      "execution_count": 54,
      "metadata": {},
      "outputs": [],
      "source": [
        "print(\"This is a one \\\\nline string\")\n",
        "print(\"This string keeps some {{curly}} brackets{}\".format('.'))"
      ],
      "id": "7eacbc8d"
    },
    {
      "cell_type": "markdown",
      "metadata": {},
      "source": [
        "#### Other operations on strings\n",
        "\n",
        "(check help(str) or help?)\n",
        "\n",
        "-   len() : length\n",
        "-   strip() : removes characters at the ends\n",
        "-   split() : split strings into several substrings separated by\n",
        "    separator\n",
        "-   join() : opposite of split"
      ],
      "id": "bb3bb57d-c378-423e-9066-8ebb705fac31"
    },
    {
      "cell_type": "code",
      "execution_count": 55,
      "metadata": {},
      "outputs": [],
      "source": [
        "'others,'"
      ],
      "id": "79320df3"
    },
    {
      "cell_type": "code",
      "execution_count": 56,
      "metadata": {},
      "outputs": [],
      "source": [
        "',me,others,'.strip(',')"
      ],
      "id": "47338c3b"
    },
    {
      "cell_type": "code",
      "execution_count": 57,
      "metadata": {},
      "outputs": [],
      "source": [
        "s.count(',')"
      ],
      "id": "dbe60d2d"
    },
    {
      "cell_type": "code",
      "execution_count": 58,
      "metadata": {},
      "outputs": [],
      "source": [
        "help(str)"
      ],
      "id": "2f9bf74a"
    },
    {
      "cell_type": "markdown",
      "metadata": {},
      "source": [
        "## Assignment\n",
        "\n",
        "Any object can be reused by assigning an identifier to it. This is done\n",
        "with assignment operator `=`."
      ],
      "id": "c675a3e6-c6e4-4179-94fa-c8fa6725e70b"
    },
    {
      "cell_type": "code",
      "execution_count": 59,
      "metadata": {},
      "outputs": [],
      "source": [
        "a = 3\n",
        "a"
      ],
      "id": "3010ef02"
    },
    {
      "cell_type": "markdown",
      "metadata": {},
      "source": [
        "Note that assignment operator `=` is different from comparison operator\n",
        "`==`. Comparison operator is always True or False, while assignment\n",
        "operator has no value."
      ],
      "id": "b254e26c-c09e-4ce0-b662-e5abe5bc93e4"
    },
    {
      "cell_type": "code",
      "execution_count": 60,
      "metadata": {},
      "outputs": [],
      "source": [
        "(2==2) == True"
      ],
      "id": "968460bc"
    },
    {
      "cell_type": "markdown",
      "metadata": {},
      "source": [
        "## Containers\n",
        "\n",
        "Any object created in Python is identified by a unique `id`. One can\n",
        "think of it approximately as its reference. Object collections, contain\n",
        "arbitrary other python objects, that is they contain references to them."
      ],
      "id": "66e22fe9-6134-4745-9884-e52dbdb64103"
    },
    {
      "cell_type": "code",
      "execution_count": 61,
      "metadata": {},
      "outputs": [],
      "source": [
        "id(s)"
      ],
      "id": "e7f635d1"
    },
    {
      "cell_type": "markdown",
      "metadata": {},
      "source": [
        "### tuples\n",
        "\n",
        "#### construction"
      ],
      "id": "4c4b392a-5e03-4441-b87b-4cee636d2916"
    },
    {
      "cell_type": "code",
      "execution_count": 62,
      "metadata": {},
      "outputs": [],
      "source": [
        "(1,2,\"a\" )"
      ],
      "id": "68530a35"
    },
    {
      "cell_type": "markdown",
      "metadata": {},
      "source": [
        "Since tuples are immutable, two identical tuples, will always contain\n",
        "the same data."
      ],
      "id": "15c6ab6f-43a6-4654-a6e6-f877e68722fd"
    },
    {
      "cell_type": "code",
      "execution_count": 63,
      "metadata": {},
      "outputs": [],
      "source": [
        "t1  = (2,23)\n",
        "t2  = (2,23)"
      ],
      "id": "900353ab"
    },
    {
      "cell_type": "code",
      "execution_count": 64,
      "metadata": {},
      "outputs": [],
      "source": [
        "# can contain any data\n",
        "t = (1,2,3,4,5,6)\n",
        "t1 = (t, \"a\", (1,2))\n",
        "t2 = (0,)  # note trailing coma for one element tuple\n",
        "t3 = (t, \"a\", (1,2))"
      ],
      "id": "80af3fff"
    },
    {
      "cell_type": "code",
      "execution_count": 65,
      "metadata": {},
      "outputs": [],
      "source": [
        "t[0] = 78"
      ],
      "id": "ee91a658"
    },
    {
      "cell_type": "markdown",
      "metadata": {},
      "source": [
        "Since tuples never change, they can be compared by hash values (if the\n",
        "data they hold can be hashed). Two tuples are identical if they contain\n",
        "the same data.\n",
        "\n",
        "Remark: hash function is any function that can be used to map data of\n",
        "arbitrary size to data of a fixed size. It is such that the probability\n",
        "of two data points of having the same hash is very small even if they\n",
        "are close to each other."
      ],
      "id": "977e1823-f8c2-44e8-9f15-aa88263fcef6"
    },
    {
      "cell_type": "code",
      "execution_count": 66,
      "metadata": {},
      "outputs": [],
      "source": [
        "t3 == t1"
      ],
      "id": "17ed736a"
    },
    {
      "cell_type": "code",
      "execution_count": 67,
      "metadata": {},
      "outputs": [],
      "source": [
        "print(hash(t3))\n",
        "print(hash(t1))"
      ],
      "id": "7a4e645e"
    },
    {
      "cell_type": "code",
      "execution_count": 68,
      "metadata": {},
      "outputs": [],
      "source": [
        "id(t3), id(t1)"
      ],
      "id": "9ebf9ab2"
    },
    {
      "cell_type": "markdown",
      "metadata": {},
      "source": [
        "#### access elements"
      ],
      "id": "6a2b7680-86da-4d91-ac1d-58670e36b97f"
    },
    {
      "cell_type": "code",
      "execution_count": 69,
      "metadata": {},
      "outputs": [],
      "source": [
        "# elements are accessed with brackets (0-based)\n",
        "t[0]"
      ],
      "id": "0bebdd08"
    },
    {
      "cell_type": "code",
      "execution_count": 70,
      "metadata": {},
      "outputs": [],
      "source": [
        "# slice notation works too (  [min,max[ )\n",
        "t[1:3]"
      ],
      "id": "cd607a05"
    },
    {
      "cell_type": "code",
      "execution_count": 71,
      "metadata": {},
      "outputs": [],
      "source": [
        "# repeat with *\n",
        "(3,2)*5"
      ],
      "id": "3e73524f"
    },
    {
      "cell_type": "code",
      "execution_count": 72,
      "metadata": {},
      "outputs": [],
      "source": [
        "(0)*5"
      ],
      "id": "aeb2d2cd"
    },
    {
      "cell_type": "code",
      "execution_count": 73,
      "metadata": {},
      "outputs": [],
      "source": [
        "(0,)*5"
      ],
      "id": "357f8bb4"
    },
    {
      "cell_type": "code",
      "execution_count": 74,
      "metadata": {},
      "outputs": [],
      "source": [
        "t2*5"
      ],
      "id": "c6b2bb9c"
    },
    {
      "cell_type": "code",
      "execution_count": 75,
      "metadata": {},
      "outputs": [],
      "source": [
        "# concatenate with +\n",
        "t+t1+t2"
      ],
      "id": "c20143c9"
    },
    {
      "cell_type": "code",
      "execution_count": 76,
      "metadata": {},
      "outputs": [],
      "source": [
        "# test for membership\n",
        "\n",
        "(1 in t)"
      ],
      "id": "e9061288"
    },
    {
      "cell_type": "markdown",
      "metadata": {},
      "source": [
        "### lists\n",
        "\n",
        "lists are enclosed by brackets are *mutable ordered collections of\n",
        "elements*"
      ],
      "id": "9f61446a-1d99-4b65-ba9b-4261a7500927"
    },
    {
      "cell_type": "code",
      "execution_count": 77,
      "metadata": {},
      "outputs": [],
      "source": [
        "l = [1,\"a\",4,5]"
      ],
      "id": "90a27d15"
    },
    {
      "cell_type": "code",
      "execution_count": 78,
      "metadata": {},
      "outputs": [],
      "source": [
        "l[1]"
      ],
      "id": "ef9fb4d9"
    },
    {
      "cell_type": "code",
      "execution_count": 79,
      "metadata": {},
      "outputs": [],
      "source": [
        "l[1:] # if we omit the upper-bound it goes until the last element"
      ],
      "id": "9428ff98"
    },
    {
      "cell_type": "code",
      "execution_count": 80,
      "metadata": {},
      "outputs": [],
      "source": [
        "l[:2]"
      ],
      "id": "ccd856c6"
    },
    {
      "cell_type": "code",
      "execution_count": 81,
      "metadata": {},
      "outputs": [],
      "source": [
        "# lists are concatenated with +\n",
        "l[:2] + l[2:] == l"
      ],
      "id": "cb1a563c"
    },
    {
      "cell_type": "code",
      "execution_count": 82,
      "metadata": {},
      "outputs": [],
      "source": [
        "# test for membership\n",
        "(5 in l)"
      ],
      "id": "8a2cd7dd"
    },
    {
      "cell_type": "code",
      "execution_count": 83,
      "metadata": {},
      "outputs": [],
      "source": [
        "# lists can be extended inplace\n",
        "ll = [1,2,3]\n",
        "ll.extend([4,5]) # several elements\n",
        "ll.append(6)\n",
        "ll"
      ],
      "id": "355f976d"
    },
    {
      "cell_type": "markdown",
      "metadata": {},
      "source": [
        "Since lists are mutable, it makes no sense to compute them by hash value\n",
        "(or the hash needs to be recomputed every time the values change)."
      ],
      "id": "5a743c87-06b6-4b85-9d5e-dc03ce641fd9"
    },
    {
      "cell_type": "code",
      "execution_count": 84,
      "metadata": {},
      "outputs": [],
      "source": [
        "hash(ll)"
      ],
      "id": "869d8c80"
    },
    {
      "cell_type": "markdown",
      "metadata": {},
      "source": [
        "Sorted lists can be created with sorted (if elements can be ranked)"
      ],
      "id": "7de1d925-dc81-415c-944e-b0e0f8960c79"
    },
    {
      "cell_type": "code",
      "execution_count": 85,
      "metadata": {},
      "outputs": [],
      "source": [
        "ll = [4,3,5]"
      ],
      "id": "6e9f8aa4"
    },
    {
      "cell_type": "code",
      "execution_count": 86,
      "metadata": {},
      "outputs": [],
      "source": [
        "sorted(ll)"
      ],
      "id": "eba1f80c"
    },
    {
      "cell_type": "code",
      "execution_count": 87,
      "metadata": {},
      "outputs": [],
      "source": [
        "ll"
      ],
      "id": "9f09bbfe"
    },
    {
      "cell_type": "markdown",
      "metadata": {},
      "source": [
        "It is also possible to sort in place."
      ],
      "id": "44e31762-7671-42a4-a23c-c15f0da874fc"
    },
    {
      "cell_type": "code",
      "execution_count": 88,
      "metadata": {},
      "outputs": [],
      "source": [
        "ll.sort()\n",
        "ll"
      ],
      "id": "ed47f1a9"
    },
    {
      "cell_type": "code",
      "execution_count": 89,
      "metadata": {},
      "outputs": [],
      "source": [
        "sorted(ll) # creates a new list\n",
        "ll.sort()  # does it in place"
      ],
      "id": "5b5fcdd6"
    },
    {
      "cell_type": "code",
      "execution_count": 90,
      "metadata": {},
      "outputs": [],
      "source": [
        "# in python internals:    ll.sort() equivalent sort(ll)"
      ],
      "id": "8028e34a"
    },
    {
      "cell_type": "markdown",
      "metadata": {},
      "source": [
        "### set\n",
        "\n",
        "Sets are unordered collections of unique elements."
      ],
      "id": "20de7a2f-5427-4015-9396-862c10ad3629"
    },
    {
      "cell_type": "code",
      "execution_count": 91,
      "metadata": {},
      "outputs": [],
      "source": [
        "s1 = set([1,2,3,3,4,3,4])\n",
        "s2 = set([3,4,4,6,8])\n",
        "print(s1, s2)\n",
        "print(s1.intersection(s2))"
      ],
      "id": "5daafdfc"
    },
    {
      "cell_type": "code",
      "execution_count": 92,
      "metadata": {},
      "outputs": [],
      "source": [
        "{3,4} == {4,3}"
      ],
      "id": "5839b690"
    },
    {
      "cell_type": "markdown",
      "metadata": {},
      "source": [
        "### dictionaries\n",
        "\n",
        "Dictionaries are ordered associative collections of elements. They store\n",
        "values associated to keys."
      ],
      "id": "6f0c4ee2-9f6b-43a8-8fdd-ce532312514c"
    },
    {
      "cell_type": "code",
      "execution_count": 93,
      "metadata": {},
      "outputs": [],
      "source": [
        "# construction with curly brackets\n",
        "d = {'a':0, 'b':1}"
      ],
      "id": "ac0a820d"
    },
    {
      "cell_type": "code",
      "execution_count": 94,
      "metadata": {},
      "outputs": [],
      "source": [
        "d"
      ],
      "id": "16b72bc3"
    },
    {
      "cell_type": "code",
      "execution_count": 95,
      "metadata": {},
      "outputs": [],
      "source": [
        "# values can be recovered by indexing the dict with a key\n",
        "d['b']"
      ],
      "id": "103bdba1"
    },
    {
      "cell_type": "code",
      "execution_count": 96,
      "metadata": {},
      "outputs": [],
      "source": [
        "d = dict()\n",
        "# d['a'] = 42\n",
        "# d['b'] = 78\n",
        "d"
      ],
      "id": "99d221a5"
    },
    {
      "cell_type": "code",
      "execution_count": 97,
      "metadata": {},
      "outputs": [],
      "source": [
        "d['a'] = 42"
      ],
      "id": "177cec37"
    },
    {
      "cell_type": "code",
      "execution_count": 98,
      "metadata": {},
      "outputs": [],
      "source": [
        "d['b']"
      ],
      "id": "3f0633e4"
    },
    {
      "cell_type": "markdown",
      "metadata": {},
      "source": [
        "Keys can be any hashable value:"
      ],
      "id": "7bc54f12-95e3-41f4-ab97-857b18d8b5d5"
    },
    {
      "cell_type": "code",
      "execution_count": 99,
      "metadata": {},
      "outputs": [],
      "source": [
        "d[('a','b')] = 100"
      ],
      "id": "0bdca306"
    },
    {
      "cell_type": "code",
      "execution_count": 100,
      "metadata": {},
      "outputs": [],
      "source": [
        "d[ ['a','b'] ] = 100 # that won't work"
      ],
      "id": "0a27e5d7"
    },
    {
      "cell_type": "markdown",
      "metadata": {},
      "source": [
        "Note: until python 3.5 dictionaries were not ordered. Now the are\n",
        "guaranteed to keep the insertion order\n",
        "\n",
        "## Control flows\n",
        "\n",
        "### Conditional blocks\n",
        "\n",
        "Conditional blocks are preceeded by `if` and followed by an indented\n",
        "block. Note that it is advised to indent a block by a fixed set of space\n",
        "(usually 4) rather than use tabs."
      ],
      "id": "7e6e8b07-971e-46ee-9450-51628dcae9d5"
    },
    {
      "cell_type": "code",
      "execution_count": 101,
      "metadata": {},
      "outputs": [],
      "source": [
        "if 'sun'>'moon':\n",
        "    print('warm')"
      ],
      "id": "7e2f048d"
    },
    {
      "cell_type": "markdown",
      "metadata": {},
      "source": [
        "They can also be followed by elif and else statements:"
      ],
      "id": "080d3745-2d56-477c-9a2f-56f053bf4b30"
    },
    {
      "cell_type": "code",
      "execution_count": 102,
      "metadata": {},
      "outputs": [],
      "source": [
        "x = 0.5\n",
        "if (x<0):\n",
        "    y = 0.0\n",
        "elif (x<1.0):\n",
        "    y = x\n",
        "else:\n",
        "    y = 1+(x-1)*0.5"
      ],
      "id": "35ace347"
    },
    {
      "cell_type": "markdown",
      "metadata": {},
      "source": [
        "Remark that in the conditions, any variable can be used. The following\n",
        "evaluate to False: - 0 - empty collection"
      ],
      "id": "cb7ff587-d950-4654-9763-7f546fd2c5dc"
    },
    {
      "cell_type": "code",
      "execution_count": 103,
      "metadata": {},
      "outputs": [],
      "source": [
        "if 0: print(\"I won't print this.\")\n",
        "if 1: print(\"Maybe I will.\")\n",
        "if {}: print(\"Sir, your dictionary is empty\")\n",
        "if \"\": print(\"Sir, there is no string to speak of.\")"
      ],
      "id": "88c08f34"
    },
    {
      "cell_type": "markdown",
      "metadata": {},
      "source": [
        "### While\n",
        "\n",
        "The content of the while loop is repeated as long as a certain condition\n",
        "is met. Don’t forget to change that condition or the loop might run\n",
        "forever."
      ],
      "id": "235c5586-901c-4d68-9424-cc51bfd5eba8"
    },
    {
      "cell_type": "code",
      "execution_count": 104,
      "metadata": {},
      "outputs": [],
      "source": [
        "point_made = False\n",
        "i = 0\n",
        "while not point_made:\n",
        "    print(\"A fanatic is one who can't change his mind and won't change the subject.\")\n",
        "    i += 1 # this is a quasi-synonym of i = i + 1\n",
        "    if i>=20:\n",
        "          point_made = True"
      ],
      "id": "9476527b"
    },
    {
      "cell_type": "markdown",
      "metadata": {},
      "source": [
        "### Loops"
      ],
      "id": "536ac2cf-8401-4895-ac6d-be4850e28421"
    },
    {
      "cell_type": "code",
      "execution_count": 105,
      "metadata": {},
      "outputs": [],
      "source": [
        "# while loops\n",
        "i = 0\n",
        "while i<=10:\n",
        "    print(str(i)+\" \",  end='')\n",
        "    i+=1"
      ],
      "id": "14975fb2"
    },
    {
      "cell_type": "code",
      "execution_count": 106,
      "metadata": {},
      "outputs": [],
      "source": [
        "# for loop\n",
        "for i in [0,1,2,3,4,5,6,7,8,9,10]:\n",
        "    print(str(i)+\" \",  end='')"
      ],
      "id": "355e9708"
    },
    {
      "cell_type": "code",
      "execution_count": 107,
      "metadata": {},
      "outputs": [],
      "source": [
        "# this works for any kind of iterable\n",
        "# for loop\n",
        "for i in (0,1,2,3,4,5,6,7,8,9,10):\n",
        "    print(str(i)+\" \",  end='')"
      ],
      "id": "3ed46d78"
    },
    {
      "cell_type": "code",
      "execution_count": 108,
      "metadata": {},
      "outputs": [],
      "source": [
        "# including range generator (note last value)\n",
        "for i in range(11): \n",
        "    print(str(i)+\" \",  end='')"
      ],
      "id": "71feec25"
    },
    {
      "cell_type": "code",
      "execution_count": 109,
      "metadata": {},
      "outputs": [],
      "source": [
        "range(11)"
      ],
      "id": "2955be31"
    },
    {
      "cell_type": "code",
      "execution_count": 110,
      "metadata": {},
      "outputs": [],
      "source": [
        "# one can also enumerate elements\n",
        "countries = (\"france\", \"uk\", \"germany\")\n",
        "for i,c in enumerate(countries): \n",
        "    print(f\"{i}: {c}\")"
      ],
      "id": "c8419f1b"
    },
    {
      "cell_type": "code",
      "execution_count": 111,
      "metadata": {},
      "outputs": [],
      "source": [
        "s = set(c)"
      ],
      "id": "054252da"
    },
    {
      "cell_type": "code",
      "execution_count": 112,
      "metadata": {},
      "outputs": [],
      "source": [
        "# conditional blocks are constructed with if, elif, else\n",
        "for i,c in enumerate(countries):\n",
        "    if len(set(c).intersection(set(\"brexit\"))):\n",
        "        print(c)\n",
        "    else:\n",
        "        print(c + \" 😢\")"
      ],
      "id": "a32a36af"
    },
    {
      "cell_type": "markdown",
      "metadata": {},
      "source": [
        "It is possible to iterate over any iterable. This is true for a list or\n",
        "a generator:"
      ],
      "id": "7742d4bd-1a78-462a-b629-09fef357ade1"
    },
    {
      "cell_type": "code",
      "execution_count": 113,
      "metadata": {},
      "outputs": [],
      "source": [
        "for i in range(10): # range(10) is a generator\n",
        "    print(i)"
      ],
      "id": "de167eaa"
    },
    {
      "cell_type": "code",
      "execution_count": 114,
      "metadata": {},
      "outputs": [],
      "source": [
        "for i in [0,1,2,3,4,5,6,7,8,9]:\n",
        "    print(i)"
      ],
      "id": "e0359fe4"
    },
    {
      "cell_type": "markdown",
      "metadata": {},
      "source": [
        "We can iterate of dictionary keys or values"
      ],
      "id": "0ca6a781-97ba-41f4-9f37-30922c47480a"
    },
    {
      "cell_type": "code",
      "execution_count": 115,
      "metadata": {},
      "outputs": [],
      "source": [
        "d = {1:2, 3:'i'}\n",
        "for k in d.keys():\n",
        "    print(k, d[k])\n",
        "for k in d.values():\n",
        "    print(k)"
      ],
      "id": "1deb7c39"
    },
    {
      "cell_type": "markdown",
      "metadata": {},
      "source": [
        "or both at the same time:"
      ],
      "id": "531a0553-bfc2-4124-a8c4-a21c78f9ef98"
    },
    {
      "cell_type": "code",
      "execution_count": 116,
      "metadata": {},
      "outputs": [],
      "source": [
        "for t in d.items():\n",
        "    print(t)\n",
        "\n",
        "# look at automatic unpacking\n",
        "for (k,v) in d.items():\n",
        "    print(f\"key: {k}, value: {v}\")"
      ],
      "id": "2adfef18"
    },
    {
      "cell_type": "markdown",
      "metadata": {},
      "source": [
        "### Comprehension and generators\n",
        "\n",
        "There is an easy syntax to construct lists/tuples/dicts: comprehension.\n",
        "Syntax is remminiscent of a for loop."
      ],
      "id": "514d9478-d753-4835-b3aa-c032aa0c1e46"
    },
    {
      "cell_type": "code",
      "execution_count": 117,
      "metadata": {},
      "outputs": [],
      "source": [
        "[i**2 for i in range(10)]"
      ],
      "id": "e2b0d47d"
    },
    {
      "cell_type": "code",
      "execution_count": 118,
      "metadata": {},
      "outputs": [],
      "source": [
        "set(i-(i//2*2) for i in range(10))"
      ],
      "id": "fb46e7c5"
    },
    {
      "cell_type": "code",
      "execution_count": 119,
      "metadata": {},
      "outputs": [],
      "source": [
        "{i: i**2 for i in range(10)}"
      ],
      "id": "4c0b85ee"
    },
    {
      "cell_type": "markdown",
      "metadata": {},
      "source": [
        "Comprehension can be combined with conditions:"
      ],
      "id": "a7c97481-9fee-4add-b206-ba4c3f753267"
    },
    {
      "cell_type": "code",
      "execution_count": 120,
      "metadata": {},
      "outputs": [],
      "source": [
        "[i**2 for i in range(10) if i//3>2]"
      ],
      "id": "89c68536"
    },
    {
      "cell_type": "markdown",
      "metadata": {},
      "source": [
        "Behind the comprehension syntax, there is a special object called\n",
        "generator. Its role is to supply objects one by one like any other\n",
        "iterable."
      ],
      "id": "eac46f1e-071e-4b90-8075-80fa4fa68cce"
    },
    {
      "cell_type": "code",
      "execution_count": 121,
      "metadata": {},
      "outputs": [],
      "source": [
        "# note the bracket\n",
        "gen = (i**2 for i in range(10))\n",
        "gen # does nothing"
      ],
      "id": "d7392892"
    },
    {
      "cell_type": "code",
      "execution_count": 122,
      "metadata": {},
      "outputs": [],
      "source": [
        "gen = (i**2 for i in range(10))\n",
        "for e in gen:\n",
        "    print(e)"
      ],
      "id": "be680b70"
    },
    {
      "cell_type": "code",
      "execution_count": 123,
      "metadata": {},
      "outputs": [],
      "source": [
        "gen = (i**2 for i in range(10))\n",
        "print([e for e in gen])"
      ],
      "id": "84ae4361"
    },
    {
      "cell_type": "markdown",
      "metadata": {},
      "source": [
        "There is a shortcut to converte a generator into a list: it’s called\n",
        "unpacking:"
      ],
      "id": "94789dda-12e2-4c97-b238-3b7418887042"
    },
    {
      "cell_type": "code",
      "execution_count": 124,
      "metadata": {},
      "outputs": [],
      "source": [
        "gen = (i**2 for i in range(10))\n",
        "[*gen]"
      ],
      "id": "eb686392"
    },
    {
      "cell_type": "markdown",
      "metadata": {},
      "source": [
        "## Functions\n",
        "\n",
        "Wrong approach"
      ],
      "id": "d31ef6cf-4144-4f46-92cd-85178061d029"
    },
    {
      "cell_type": "code",
      "execution_count": 125,
      "metadata": {},
      "outputs": [],
      "source": [
        "a1 = 34\n",
        "b1 = (1+a1*a1)\n",
        "c1 = (a1+b1*b1)\n",
        "\n",
        "a2 = 36\n",
        "b2 = (1+a2*a2)\n",
        "c2 = (a2+b2*b2)\n",
        "\n",
        "print(c1,c2)"
      ],
      "id": "3f65feea"
    },
    {
      "cell_type": "markdown",
      "metadata": {},
      "source": [
        "Better approach"
      ],
      "id": "5d8f07f1-712f-4962-8a45-1bd609768963"
    },
    {
      "cell_type": "code",
      "execution_count": 126,
      "metadata": {},
      "outputs": [],
      "source": [
        "def calc(a):\n",
        "    b = 1+a*a\n",
        "    c = a+b*b\n",
        "    return c\n",
        "\n",
        "(calc(34), calc(36))"
      ],
      "id": "8026069b"
    },
    {
      "cell_type": "markdown",
      "metadata": {},
      "source": [
        "it is equivalent to replace the content of the function by:"
      ],
      "id": "7823d8a9-58ac-4078-865f-ed80e1762118"
    },
    {
      "cell_type": "code",
      "execution_count": 127,
      "metadata": {},
      "outputs": [],
      "source": [
        "a = 32\n",
        "_a = a          # def calc(a):\n",
        "_b = 1+_a*_a    #    b = 1+a*a\n",
        "_c = _a+_b*_b   #    c = a+b*b\n",
        "res = _c        #    return c"
      ],
      "id": "16e3cef1"
    },
    {
      "cell_type": "markdown",
      "metadata": {},
      "source": [
        "Note that variable names within the function have different names. This\n",
        "is to avoid name conflicts as in:"
      ],
      "id": "26423c2e-9d2e-403d-9f9d-f10384dc3c1b"
    },
    {
      "cell_type": "code",
      "execution_count": 128,
      "metadata": {},
      "outputs": [],
      "source": [
        "y = 1\n",
        "def f(x):\n",
        "    y = x**2\n",
        "    return y+1\n",
        "def g(x):\n",
        "    y = x**2+0.1\n",
        "    return y+1\n",
        "r1 = f(1.4)\n",
        "r2 = g(1.4)\n",
        "r3 = y\n",
        "(r1,r2,r3)"
      ],
      "id": "3ac8236d"
    },
    {
      "cell_type": "code",
      "execution_count": 129,
      "metadata": {},
      "outputs": [],
      "source": [
        "l = ['france', 'germany']\n",
        "def fun(i):\n",
        "    print(f\"Country: {l[i]}\")\n",
        "fun(0)"
      ],
      "id": "552f0443"
    },
    {
      "cell_type": "code",
      "execution_count": 130,
      "metadata": {},
      "outputs": [],
      "source": [
        "l = ['france', 'germany']\n",
        "def fun(i):\n",
        "    l = ['usa', 'japan']\n",
        "    l.append('spain')\n",
        "    print(f\"Country: {l[i]}\")\n",
        "fun(0)"
      ],
      "id": "a67e1bbd"
    },
    {
      "cell_type": "code",
      "execution_count": 131,
      "metadata": {},
      "outputs": [],
      "source": [
        "l"
      ],
      "id": "d92f3c8f"
    },
    {
      "cell_type": "markdown",
      "metadata": {},
      "source": [
        "In the preceding code block, value of `y` has not been changed by\n",
        "calling the two functions. Check\n",
        "[pythontutor](http://pythontutor.com/visualize.html#code=y%20%3D%201%0Adef%20f%28x%29%3A%0A%20%20%20%20y%20%3D%20x**2%0A%20%20%20%20return%20y%2B1%0Adef%20g%28x%29%3A%0A%20%20%20%20y%20%3D%20x**2%0A%20%20%20%20return%20y%2B1%0Ar1%20%3D%20f%281.4%29%0Ar2%20%3D%20g%281.4%29%0Ar3%20%3D%20y%0A%28r1,r2,r3%29&cumulative=false&curInstr=0&heapPrimitives=nevernest&mode=display&origin=opt-frontend.js&py=3&rawInputLstJSON=%5B%5D&textReferences=false).\n",
        "\n",
        "### Calling conventions\n",
        "\n",
        "Function definitions start with `def` and a colon indentation. Value are\n",
        "returned by `return` keyword. Otherwise the return value is `None`.\n",
        "Functions can have several arguments: `def f(x,y)` but always one return\n",
        "argument. It is however to return a tuple, and “unpack” it."
      ],
      "id": "636c85ed-c3ac-4192-9d4d-807d25a56730"
    },
    {
      "cell_type": "code",
      "execution_count": 132,
      "metadata": {},
      "outputs": [],
      "source": [
        "def f(x,y):\n",
        "    z1 = x+y\n",
        "    z2 = x-y\n",
        "    return (z1,z2)      # here brackets are optional:  `return z1,z2` works too\n",
        "\n",
        "res = f(0.1, 0.2)\n",
        "t1, t2 = f(0.2, 0.2)     # t1,t2=res works too"
      ],
      "id": "552bb72e"
    },
    {
      "cell_type": "code",
      "execution_count": 133,
      "metadata": {},
      "outputs": [],
      "source": [
        "res"
      ],
      "id": "0f93fea2"
    },
    {
      "cell_type": "markdown",
      "metadata": {},
      "source": [
        "Named arguments can be passed in any order and receive default values."
      ],
      "id": "51a515ee-e109-4946-aed1-7b3e9be55355"
    },
    {
      "cell_type": "code",
      "execution_count": 134,
      "metadata": {},
      "outputs": [],
      "source": [
        "def problem(why=\"The moon shines.\", what=\"Curiosity killed the cat.\", where=\"Paris\"):\n",
        "    print(f\"Is it because {why.lower().strip('.')} that {what.lower().strip('.')}, in {where.strip('.')}?\")"
      ],
      "id": "6deff98c"
    },
    {
      "cell_type": "code",
      "execution_count": 135,
      "metadata": {},
      "outputs": [],
      "source": [
        "problem(where='Paris')"
      ],
      "id": "c12ac0dd"
    },
    {
      "cell_type": "code",
      "execution_count": 136,
      "metadata": {},
      "outputs": [],
      "source": [
        "problem(where=\"ESCP\", why=\"Square root of two is irrational\", what=\"Some regressions never work.\")"
      ],
      "id": "8bf6415b"
    },
    {
      "cell_type": "markdown",
      "metadata": {},
      "source": [
        "Positional arguments and keyword arguments can be combined"
      ],
      "id": "5233cd08-a693-4e2a-8844-c8078b683b51"
    },
    {
      "cell_type": "code",
      "execution_count": 137,
      "metadata": {},
      "outputs": [],
      "source": [
        "def f(x, y, β=0.9, γ=4.0, δ=0.1):\n",
        "    return x*β+y**γ*δ"
      ],
      "id": "e42769b8"
    },
    {
      "cell_type": "code",
      "execution_count": 138,
      "metadata": {},
      "outputs": [],
      "source": [
        "f(0.1, 0.2)"
      ],
      "id": "d222899e"
    },
    {
      "cell_type": "markdown",
      "metadata": {},
      "source": [
        "### Docstrings\n",
        "\n",
        "Functions are documented with a special string. Documentation It must\n",
        "follow the function signature immediately and explain what arguments are\n",
        "expected and what the function does"
      ],
      "id": "3637c1e0-cfda-494f-a6db-1c8c01e13d49"
    },
    {
      "cell_type": "code",
      "execution_count": 139,
      "metadata": {},
      "outputs": [],
      "source": [
        "def f(x, y, β=0.9, γ=4.0, δ=0.1):   # kjhkugku\n",
        "    \"\"\"Compute the model residuals\n",
        "    \n",
        "    Parameters\n",
        "    ----------\n",
        "    x: (float) marginal propensity to do complicated stuff\n",
        "    y: (float) inverse of the elasticity of bifractional risk-neutral substitution\n",
        "    β: (float) time discount (default 0.9)\n",
        "    γ: (float) time discount (default 4.0)\n",
        "    δ: (float) time discount (default 0.1)\n",
        "    \n",
        "    Result\n",
        "    ------\n",
        "    res: beta-Hadamard measure of cohesiveness\n",
        "    \n",
        "    \"\"\"\n",
        "    res = x*β+y**γ*δ\n",
        "    return res"
      ],
      "id": "47c83178"
    },
    {
      "cell_type": "markdown",
      "metadata": {},
      "source": [
        "Remark: Python 3.6 has introduced type indication for functions. They\n",
        "are useful as an element of indication and potentially for type\n",
        "checking. We do not cover them in this tutorial but this is what they\n",
        "look like:"
      ],
      "id": "7d6e48c0-f314-4b4a-a50d-2adf17d834e4"
    },
    {
      "cell_type": "code",
      "execution_count": 140,
      "metadata": {},
      "outputs": [],
      "source": [
        "def f(a: int, b:int)->int:\n",
        "    if a<=1:\n",
        "        return 1\n",
        "    else:\n",
        "        return f(a-1,b) + f(a-2,b)*b"
      ],
      "id": "6d1ce73e"
    },
    {
      "cell_type": "markdown",
      "metadata": {},
      "source": [
        "------------------------------------------------------------------------\n",
        "\n",
        "### Packing and unpacking\n",
        "\n",
        "A common case is when one wants to pass the elements of an iterable as\n",
        "positional argument and/or the elements of a dictionary as keyword\n",
        "arguments. This is espacially the case, when one wants to determine\n",
        "functions that act on a given calibration. Without unpacking all\n",
        "arguments would need to be passed separately."
      ],
      "id": "1dabbaf8-872d-4cc2-84e1-4efb19177792"
    },
    {
      "cell_type": "code",
      "execution_count": 141,
      "metadata": {},
      "outputs": [],
      "source": [
        "v = (0.1, 0.2)\n",
        "p = dict(β=0.9, γ=4.0, δ=0.1)\n",
        "\n",
        "f(v[0], v[1], β=p['β'], γ=p['γ'], δ=p['δ'])"
      ],
      "id": "f4d2d8d0"
    },
    {
      "cell_type": "markdown",
      "metadata": {},
      "source": [
        "There is a special syntax for that: `*` unpacks positional arguments and\n",
        "`**` unpacks keyword arguments. Here is an example:"
      ],
      "id": "d56e3ed1-d41b-4a58-b7b9-8ab68ec550e8"
    },
    {
      "cell_type": "code",
      "execution_count": 142,
      "metadata": {},
      "outputs": [],
      "source": [
        "f(*v, **p)"
      ],
      "id": "d0d277eb"
    },
    {
      "cell_type": "markdown",
      "metadata": {},
      "source": [
        "The same characters `*` and `**` can actually be used for the reverse\n",
        "operation, that is packing. This is useful to determine functions of a\n",
        "variable number of arguments."
      ],
      "id": "aa8174b6-00b5-403d-ad12-d3e398638960"
    },
    {
      "cell_type": "code",
      "execution_count": 143,
      "metadata": {},
      "outputs": [],
      "source": [
        "def fun(**p):\n",
        "    β = p['β']\n",
        "    return β+1\n",
        "fun(β=1.0)\n",
        "fun(β=1.0, γ=2.0) # γ is just ignored"
      ],
      "id": "25580d14"
    },
    {
      "cell_type": "markdown",
      "metadata": {},
      "source": [
        "Inside the function, unpacked objects are lists and dictionaries\n",
        "respectively."
      ],
      "id": "27323a83-2417-4c08-9b48-9950b0f12c93"
    },
    {
      "cell_type": "code",
      "execution_count": 144,
      "metadata": {},
      "outputs": [],
      "source": [
        "def fun(*args, **kwargs):\n",
        "    print(f\"Positional arguments: {len(args)}\")\n",
        "    for a in args:\n",
        "        print(f\"- {a}\")\n",
        "    print(f\"Keyword arguments: {len(args)}\")\n",
        "    for key,value in kwargs.items():\n",
        "        print(f\"- {key}: {value}\")"
      ],
      "id": "8b028800"
    },
    {
      "cell_type": "code",
      "execution_count": 145,
      "metadata": {},
      "outputs": [],
      "source": [
        "fun(0.1, 0.2, a=2, b=3, c=4)"
      ],
      "id": "176c8d4e"
    },
    {
      "cell_type": "markdown",
      "metadata": {},
      "source": [
        "### Functions are first class objects\n",
        "\n",
        "This means they can be assigned and passed around."
      ],
      "id": "86b3734f-1f72-43d1-9ef0-7e18af65f5e0"
    },
    {
      "cell_type": "code",
      "execution_count": 146,
      "metadata": {},
      "outputs": [],
      "source": [
        "def f(x): return 2*x*(1-x)\n",
        "g = f # now `g` and `f` point to the same function\n",
        "g(0.4)"
      ],
      "id": "f54a7f2a"
    },
    {
      "cell_type": "code",
      "execution_count": 147,
      "metadata": {},
      "outputs": [],
      "source": [
        "def sumsfun(l, f):\n",
        "    return [f(e) for e in l]"
      ],
      "id": "b2811dfd"
    },
    {
      "cell_type": "code",
      "execution_count": 148,
      "metadata": {},
      "outputs": [],
      "source": [
        "sumsfun([0.0, 0.1, 0.2], f)"
      ],
      "id": "6d88db14"
    },
    {
      "cell_type": "code",
      "execution_count": 149,
      "metadata": {},
      "outputs": [],
      "source": [
        "def compute_recursive_series(x0, fun, T=50):\n",
        "    a = [x0]\n",
        "    for t in range(T):\n",
        "        x0 = a[-1]\n",
        "        x = fun(x0)\n",
        "        a.append(x)\n",
        "    return a\n",
        "\n",
        "compute_recursive_series(0.3, f, T=5)"
      ],
      "id": "19e5a0f1"
    },
    {
      "cell_type": "markdown",
      "metadata": {},
      "source": [
        "There is another syntax to define a function, without giving it a name\n",
        "first: lambda functions. It is useful when passing a function as\n",
        "argument."
      ],
      "id": "c582448c-6671-43b7-b3dd-29f21db24cb0"
    },
    {
      "cell_type": "code",
      "execution_count": 150,
      "metadata": {},
      "outputs": [],
      "source": [
        "sorted(range(6), key=lambda x: (-2)**x)"
      ],
      "id": "ecee5836"
    },
    {
      "cell_type": "markdown",
      "metadata": {},
      "source": [
        "Lambda functions are also useful to reduce quickly the number of\n",
        "arguments of a function (aka curryfication)"
      ],
      "id": "4a4c70dc-b0de-4de5-85c7-c810f33ea6cf"
    },
    {
      "cell_type": "code",
      "execution_count": 151,
      "metadata": {},
      "outputs": [],
      "source": [
        "def logistic(μ,x): return μ*x*(1-x)\n",
        "# def chaotic(x): return logistic(3.7, x)\n",
        "# def convergent(x): return logistic(2.5, x)\n",
        "chaotic = lambda x: logistic(3.7, x)\n",
        "convergent = lambda x: logistic(2.5, x)"
      ],
      "id": "2de868c7"
    },
    {
      "cell_type": "code",
      "execution_count": 152,
      "metadata": {},
      "outputs": [],
      "source": [
        "l = [compute_recursive_series(0.3,fun, T=20) for fun in [convergent, chaotic]]\n",
        "[*zip(*l)]"
      ],
      "id": "14acac10"
    },
    {
      "cell_type": "code",
      "execution_count": 153,
      "metadata": {},
      "outputs": [],
      "source": [
        "from matplotlib import pyplot as plt\n",
        "import numpy as np\n",
        "tab = np.array(l)\n",
        "plt.plot(tab[0,:-1],tab[0,1:])\n",
        "tab = np.array(l)\n",
        "plt.plot(tab[1,:-1],tab[1,1:])\n",
        "plt.plot(np.linspace(0,1),np.linspace(0,1))\n",
        "plt.xlabel(\"$x_n$\")\n",
        "plt.ylabel(\"$x_{n+1}$\")\n",
        "plt.grid()"
      ],
      "id": "5216e0ab"
    },
    {
      "cell_type": "markdown",
      "metadata": {},
      "source": [
        "### Functions pass arguments by reference\n",
        "\n",
        "Most of the time, variable affectation just create a reference."
      ],
      "id": "32363e60-8e52-4304-b2d2-bf47f379d614"
    },
    {
      "cell_type": "code",
      "execution_count": 154,
      "metadata": {},
      "outputs": [],
      "source": [
        "a = [1,2,3]\n",
        "b = a\n",
        "a[1] = 0\n",
        "(a, b)"
      ],
      "id": "29cba48b"
    },
    {
      "cell_type": "markdown",
      "metadata": {},
      "source": [
        "To get a copy instead, one needs to specify it explicitly."
      ],
      "id": "35c23105-a44e-43c6-98e3-6f660da9a5b7"
    },
    {
      "cell_type": "code",
      "execution_count": 155,
      "metadata": {},
      "outputs": [],
      "source": [
        "import copy\n",
        "a = [1,2,3]\n",
        "b = copy.copy(a)\n",
        "a[1] = 0\n",
        "(a, b)"
      ],
      "id": "aeab972c"
    },
    {
      "cell_type": "markdown",
      "metadata": {},
      "source": [
        "Not that copy follows only one level of references. Use deepcopy for\n",
        "more safety."
      ],
      "id": "8ee9efa5-dab8-4c19-b220-3ec4fc4c847c"
    },
    {
      "cell_type": "code",
      "execution_count": 156,
      "metadata": {},
      "outputs": [],
      "source": [
        "a0 = ['a','b']\n",
        "a = [a0, 1, 2]\n",
        "b = copy.copy(a)\n",
        "a[0][0] = 'ξ'\n",
        "a, b"
      ],
      "id": "7a255cc7"
    },
    {
      "cell_type": "code",
      "execution_count": 157,
      "metadata": {},
      "outputs": [],
      "source": [
        "a0 = ['a','b']\n",
        "a = [a0, 1, 2]\n",
        "b = copy.deepcopy(a)\n",
        "a[0][0] = 'ξ'\n",
        "a, b"
      ],
      "id": "6bac8432"
    },
    {
      "cell_type": "markdown",
      "metadata": {},
      "source": [
        "Arguments in a function are references towards the original object. No\n",
        "data is copied. It is then easy to construct functions with\n",
        "side-effects."
      ],
      "id": "37418135-41a3-4528-8693-19e4fced6563"
    },
    {
      "cell_type": "code",
      "execution_count": 158,
      "metadata": {},
      "outputs": [],
      "source": [
        "def append_inplace(l1, obs):\n",
        "    l1.append(obs)\n",
        "    return l1\n",
        "l1, obs = ([1,2,3], 1.5)\n",
        "l2 = append_inplace(l1,obs)\n",
        "print(l2, l1)\n",
        "# note that l1 and l2 point to the same object\n",
        "l1[0] = 'hey'\n",
        "print(l2, l1)"
      ],
      "id": "4479068d"
    },
    {
      "cell_type": "markdown",
      "metadata": {},
      "source": [
        "This behaviour might feel unnatural but is very sensible. For instance\n",
        "if the argument is a database of several gigabytes and one wants to\n",
        "write a function which will modify a few of its elements, it is not\n",
        "reasonable to copy the db in full.\n",
        "\n",
        "## Objects\n",
        "\n",
        "Objects ?\n",
        "\n",
        "-   can be passed around / referred too\n",
        "-   have properties (data) and methods (functions) attached to them\n",
        "-   inherit properties/methods from other objects\n",
        "\n",
        "Objects are defined by a class definition. By convention, classes names\n",
        "start with uppercase . To create an object, one calls the class name,\n",
        "possibly with additional arguments."
      ],
      "id": "c83a8244-fff5-428b-be94-dc8499cc5396"
    },
    {
      "cell_type": "code",
      "execution_count": 159,
      "metadata": {},
      "outputs": [],
      "source": [
        "class Dog:\n",
        "    name = \"May\" # class property\n",
        "\n",
        "d1 = Dog()\n",
        "d2 = Dog()\n",
        "\n",
        "print(f\"Class: d1->{type(d1)}, d2->{type(d2)}\")\n",
        "print(f\"Instance address: d2->{d1},{d2}\")"
      ],
      "id": "e2a02e73"
    },
    {
      "cell_type": "markdown",
      "metadata": {},
      "source": [
        "Now, `d1` and `d2` are two different instances of the same class `Dog`.\n",
        "Since properties are mutable, instances can have different data attached\n",
        "to it."
      ],
      "id": "7c60eab3-0232-42da-95b1-9598ef90665d"
    },
    {
      "cell_type": "code",
      "execution_count": 160,
      "metadata": {},
      "outputs": [],
      "source": [
        "d1.name = \"Boris\"\n",
        "print([e.name for e in [d1,d2]])"
      ],
      "id": "77cc5df9"
    },
    {
      "cell_type": "markdown",
      "metadata": {},
      "source": [
        "Methods are functions attached to a class / an instance. Their first\n",
        "argument is always an instance. The first argument can be used to acess\n",
        "data held by the instance."
      ],
      "id": "faf060f7-5245-4b14-8825-b71fdc22742f"
    },
    {
      "cell_type": "code",
      "execution_count": 161,
      "metadata": {},
      "outputs": [],
      "source": [
        "class Dog:\n",
        "    name = None # default value\n",
        "    def bark(self):\n",
        "        print(\"Wouf\")\n",
        "    def converse(self):\n",
        "        n = self.name\n",
        "        print(f\"Hi, my name is {n}. I'm committed to a strong and stable government.\")\n",
        "        \n",
        "d = Dog()\n",
        "d.bark()   # bark(d)\n",
        "d.converse()"
      ],
      "id": "4b49327f"
    },
    {
      "cell_type": "markdown",
      "metadata": {},
      "source": [
        "### Constructor\n",
        "\n",
        "There is also a special method `__init__` called the constructor. When\n",
        "an object is created, it is called on the instance. This is useful in\n",
        "order to initialize parameters of the instance."
      ],
      "id": "d211b8a2-c758-45e2-98b6-154305f6cebf"
    },
    {
      "cell_type": "code",
      "execution_count": 162,
      "metadata": {},
      "outputs": [],
      "source": [
        "class Calibration:\n",
        "    \n",
        "    def __init__(self, x=0.1, y=0.1, β=0.0):\n",
        "        if not (β>0) and (β<1):\n",
        "            raise Exception(\"Incorrect calibration\"})\n",
        "        self.x = x\n",
        "        self.y = y\n",
        "        self.β = β\n"
      ],
      "id": "142f0a02"
    },
    {
      "cell_type": "code",
      "execution_count": 163,
      "metadata": {},
      "outputs": [],
      "source": [
        "c1 = Calibration()\n",
        "c2 = Calibration(x=3, y=4)"
      ],
      "id": "55081737"
    },
    {
      "cell_type": "markdown",
      "metadata": {},
      "source": [
        "Two instances of the same class have the same method, but can hold\n",
        "different data. This can change the behaviour of these methods."
      ],
      "id": "fb3c2676-6626-4a6e-9926-b82c79996dc0"
    },
    {
      "cell_type": "code",
      "execution_count": 164,
      "metadata": {},
      "outputs": [],
      "source": [
        "# class Dog:\n",
        "    \n",
        "#     state = 'ok'\n",
        "    \n",
        "#     def bark(self):\n",
        "#         if self.state == 'ok':\n",
        "#             print(\"Wouf!\")\n",
        "#         else:\n",
        "#             print(\"Ahouuu!\")\n",
        "        \n",
        "# d = Dog()\n",
        "# d1 = Dog()\n",
        "# d1.state = 'hungry'\n",
        "\n",
        "# d.bark()\n",
        "# d1.bark()"
      ],
      "id": "7a502e1a"
    },
    {
      "cell_type": "markdown",
      "metadata": {},
      "source": [
        "To write a function which will manipulate properties and methods of an\n",
        "object, it is not required to know its type in advance. The function\n",
        "will succeed as long as the required method exist, fail other wise. This\n",
        "is called “Duck Typing”: if it walks like a duck, it must be a duck…"
      ],
      "id": "4adfc8bc-bd91-4460-942d-839832f88052"
    },
    {
      "cell_type": "code",
      "execution_count": 165,
      "metadata": {},
      "outputs": [],
      "source": [
        "class Duck:\n",
        "    def walk(self): print(\"/-\\_/-\\_/\")\n",
        "        \n",
        "class Dog:\n",
        "    def walk(self): print(\"/-\\_/*\\_/\")\n",
        "    def bark(self): print(\"Wouf\")"
      ],
      "id": "cef70f9c"
    },
    {
      "cell_type": "code",
      "execution_count": 166,
      "metadata": {},
      "outputs": [],
      "source": [
        "animals = [C() for C in (Duck,Dog)]\n",
        "def go_in_the_park(animal):\n",
        "    for i in range(3): animal.walk()\n",
        "for a in animals:\n",
        "    go_in_the_park(a)"
      ],
      "id": "d9ed4ded"
    },
    {
      "cell_type": "markdown",
      "metadata": {},
      "source": [
        "#### Inheritance\n",
        "\n",
        "The whole point of classes, is that one can construct hierarchies of\n",
        "classes to avoid redefining the same methods many times. This is done by\n",
        "using inheritance."
      ],
      "id": "6af22ff2-1040-41d3-bf5b-d519d5088b45"
    },
    {
      "cell_type": "code",
      "execution_count": 167,
      "metadata": {},
      "outputs": [],
      "source": [
        "class Animal:\n",
        "    \n",
        "    def run(self): print(\"👣\"*4)\n",
        "\n",
        "class Dog(Animal):\n",
        "    def bark(self): print(\"Wouf\")\n",
        "        \n",
        "class Rabbit(Animal):\n",
        "    def run(self):\n",
        "        super().run() ; print( \"🐇\" )"
      ],
      "id": "8d5dbcb5"
    },
    {
      "cell_type": "code",
      "execution_count": 168,
      "metadata": {},
      "outputs": [],
      "source": [
        "Animal().run()\n",
        "dog = Dog()\n",
        "dog.run()\n",
        "dog.bark()\n",
        "Rabbit().run()"
      ],
      "id": "72c618b4"
    },
    {
      "cell_type": "markdown",
      "metadata": {},
      "source": [
        "In the above example, the Dog class inherits from inherits the method\n",
        "`run` from the Animal class: it doesn’t need to be redefined again.\n",
        "Essentially, when `run(dog)` is called, since the method is not defined\n",
        "for a dog, python looks for the first ancestor of `dog` and applies the\n",
        "method of the ancestor.\n",
        "\n",
        "#### Special methods\n",
        "\n",
        "By conventions methods starting with double lowercase `__` are hidden.\n",
        "They don’t appear in tab completion. Several special methods can be\n",
        "reimplemented that way."
      ],
      "id": "aae317b0-3016-4392-9888-de165ed0a503"
    },
    {
      "cell_type": "code",
      "execution_count": 169,
      "metadata": {},
      "outputs": [],
      "source": [
        "class Calibration:\n",
        "    \n",
        "    def __init__(self, x=0.1, y=0.1, β=0.1):\n",
        "        if not (β>0) and (β<1):\n",
        "            raise Exception(\"Incorrect calibration\")\n",
        "        self.x = x\n",
        "        self.y = y\n",
        "        self.β = β\n",
        "    \n",
        "    def __str__(self):\n",
        "        return f\"Calibration(x={self.x},y={self.y}, β={self.β})\""
      ],
      "id": "58a45920"
    },
    {
      "cell_type": "code",
      "execution_count": 170,
      "metadata": {},
      "outputs": [],
      "source": [
        "str(Calibration() )"
      ],
      "id": "2b21072d"
    },
    {
      "cell_type": "markdown",
      "metadata": {},
      "source": [
        "#### complement\n",
        "\n",
        "Python is not 100% object oriented. - some objects cannot be\n",
        "subclassed - basic types behave sometimes funny (interning strings)\n",
        "\n",
        "mindfuck: Something that destabilizes, confuses, or manipulates a\n",
        "person’s mind."
      ],
      "id": "727c90ae-275e-4940-bc3b-280d00f7093f"
    },
    {
      "cell_type": "code",
      "execution_count": 171,
      "metadata": {},
      "outputs": [],
      "source": [
        "a = 'a'*4192\n",
        "b = 'a'*4192\n",
        "a is b"
      ],
      "id": "d0980fa9"
    },
    {
      "cell_type": "code",
      "execution_count": 172,
      "metadata": {},
      "outputs": [],
      "source": [
        "a = 'a'*512\n",
        "b = 'a'*512\n",
        "a is b"
      ],
      "id": "3fe10c1d"
    }
  ],
  "nbformat": 4,
  "nbformat_minor": 5,
  "metadata": {
    "kernelspec": {
      "name": "python3",
      "display_name": "Python 3 (ipykernel)",
      "language": "python",
      "path": "/home/pablo/.local/share/jupyter/kernels/python3"
    },
    "language_info": {
      "name": "python",
      "codemirror_mode": {
        "name": "ipython",
        "version": "3"
      },
      "file_extension": ".py",
      "mimetype": "text/x-python",
      "nbconvert_exporter": "python",
      "pygments_lexer": "ipython3",
      "version": "3.11.10"
    }
  }
}